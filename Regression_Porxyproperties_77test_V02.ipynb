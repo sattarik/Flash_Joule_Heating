{
 "cells": [
  {
   "cell_type": "markdown",
   "metadata": {},
   "source": [
    "### 173 samples, Final_R is missing for the following sample\n",
    "137)\tMC\tair\t204\t8\t180\t60\t180\t500\t30\t114\t0.3\tNA\t150\t0.3\t100\t0.490196078\t486.395\t57.78712883\t26.00664167\t0.467\t9.68631173\t3\t0.422680412\t0.541775715\t0.521526486\t44.36424367"
   ]
  },
  {
   "cell_type": "code",
   "execution_count": 21,
   "metadata": {},
   "outputs": [],
   "source": [
    "# Import Python libaries\n",
    "%matplotlib inline\n",
    "from scipy.optimize import curve_fit\n",
    "import time as time\n",
    "# General data management\n",
    "import numpy as np\n",
    "import pandas as pd\n",
    "import random\n",
    "import matplotlib.pyplot as plt\n",
    "import seaborn as sns\n",
    "import xgboost as xgb\n",
    "from xgboost import XGBRegressor\n",
    "from sklearn import linear_model\n",
    "from sklearn import ensemble\n",
    "from xgboost import plot_tree\n",
    "from sklearn.tree import DecisionTreeRegressor\n",
    "from sklearn.model_selection import GridSearchCV\n",
    "# import pydo\n",
    "# generate random integer values\n",
    "from random import seed\n",
    "from random import randint\n",
    "# seed random number generator\n",
    "seed(1)\n",
    "# Machine learning & model visualization tools\n",
    "from sklearn.model_selection import train_test_split\n",
    "from sklearn import preprocessing\n",
    "from sklearn.ensemble import RandomForestRegressor\n",
    "from sklearn.pipeline import make_pipeline\n",
    "from sklearn.model_selection import GridSearchCV\n",
    "from sklearn.metrics import r2_score, mean_squared_error, mean_gamma_deviance\n",
    "from sklearn.tree import export_graphviz\n",
    "from sklearn import svm\n",
    "from sklearn.neural_network import MLPRegressor\n",
    "from sklearn.neighbors import KNeighborsRegressor\n",
    "from numpy import cov\n",
    "from scipy.stats import pearsonr\n",
    "from scipy import ndimage, misc\n",
    "import pydot\n",
    "import math\n",
    "from sklearn.model_selection import LeaveOneOut\n",
    "from sklearn.metrics import mean_absolute_error\n",
    "# from sklearn.externals import joblib\n",
    "# Miscellaneous\n",
    "import os\n",
    "import io\n",
    "from tensorflow.keras.models import Sequential\n",
    "from tensorflow.keras.layers import Dense\n",
    "from tensorflow.keras.wrappers.scikit_learn import KerasRegressor\n",
    "from sklearn.inspection import partial_dependence, plot_partial_dependence"
   ]
  },
  {
   "cell_type": "code",
   "execution_count": 22,
   "metadata": {},
   "outputs": [],
   "source": [
    "# proxy properties\n",
    "# read the input data\n",
    "df = pd.read_csv('FJH_ML_Final.csv', header=1)\n",
    "df_dummy = pd.get_dummies(df)\n",
    "\n",
    "df['Norm_charge_tot'] = df['Charge_Tot']/(df['Mass'])*1000\n",
    "df['Norm_I_Max'] = df['I_Max']/df['Mass']*1000\n",
    "df['charge_density'] = df['Voltage']*df['Cap']/df['Mass']\n",
    "df['Final_Current_Percent'] = df['I_Final']/df['I_Max']\n",
    "\n",
    "Norm_I_Max = np.array (df['Norm_I_Max']).reshape(-1, 1)\n",
    "Final_Current_Percent  = np.array (df['Final_Current_Percent']).reshape(-1, 1)\n",
    "Norm_charge_tot  = np.array (df['Norm_charge_tot']).reshape(-1, 1)\n",
    "# final prediction, yield of Graphene\n",
    "Graphene_Yield = np.array (df['Graphene_Yield']).reshape(-1, 1)\n",
    "\n",
    "# only process parameters that are in BO prediction\n",
    "Pretreat_voltage = np.array (df['Pretreat_voltage']).reshape(-1, 1)\n",
    "pulsetime = np.array (df['PulseTime']).reshape(-1, 1)\n",
    "charge_denisty = np.array (df['charge_density']).reshape(-1, 1)"
   ]
  },
  {
   "cell_type": "code",
   "execution_count": 26,
   "metadata": {},
   "outputs": [],
   "source": [
    "# type of material\n",
    "Material_CB = np.array (df_dummy['Material_CB']).reshape(-1, 1)\n",
    "Material_MC = np.array (df_dummy['Material_MC']).reshape(-1, 1) \n",
    "Material_PA = np.array (df_dummy['Material_PA']).reshape(-1, 1)\n",
    "#Material_TCB = np.array (df_dummy['Material_TCB']).reshape(-1, 1)\n",
    "material_type = np.concatenate ((Material_CB, Material_MC, Material_PA), axis=1)\n",
    "\n",
    "material_matrix = np.concatenate((np.array (df_dummy['Material_CB']).reshape([-1, 1]), \n",
    "                                  np.array (df_dummy['Material_MC']).reshape([-1, 1]),\n",
    "                                  np.array (df_dummy['Material_PA']).reshape([-1, 1])), axis=1)\n",
    "material_matrix = np.array (material_matrix)\n",
    "# extra material descriptors\n",
    "# Cabot BP2000: Tensile Strength=17 MPa, particle size=15nm, specific surface area=1500(m2/g)\n",
    "# metallurgical coke: grain size=150-210 (um)\n",
    "# pyrolysis ash: \n",
    "# pyrolyzed rubber tire-derived carbon black: "
   ]
  },
  {
   "cell_type": "code",
   "execution_count": 27,
   "metadata": {},
   "outputs": [],
   "source": [
    "# type of Atmosphere\n",
    "Atmosphere_air = np.array (df_dummy['Atmosphere_air']).reshape(-1, 1)\n",
    "Atmosphere_arg = np.array (df_dummy['Atmosphere_arg']).reshape(-1, 1)\n",
    "#Atmosphere_vac = np.array (df_dummy['Atmosphere_vac']).reshape(-1, 1)\n",
    "atmosphere_type = np.concatenate ((Atmosphere_air, Atmosphere_arg), axis=1)"
   ]
  },
  {
   "cell_type": "code",
   "execution_count": 60,
   "metadata": {},
   "outputs": [
    {
     "name": "stderr",
     "output_type": "stream",
     "text": [
      "/home/kianoosh/anaconda3/envs/my-rdkit-env/lib/python3.9/site-packages/sklearn/_loss/glm_distribution.py:132: RuntimeWarning: divide by zero encountered in true_divide\n",
      "  return -2 * (y - y_pred) / self.unit_variance(y_pred)\n"
     ]
    },
    {
     "name": "stdout",
     "output_type": "stream",
     "text": [
      "coef_:  [ 1.70925342  2.11584496  0.28589572  0.12696908  0.00456651 -0.01456457]\n",
      "Gamma score: 0.635540202244738\n",
      "r-squared 0.41342339464316036\n",
      "mse:  0.0471949449850662\n"
     ]
    },
    {
     "data": {
      "text/plain": [
       "[<matplotlib.lines.Line2D at 0x7f0e4267b3d0>]"
      ]
     },
     "execution_count": 60,
     "metadata": {},
     "output_type": "execute_result"
    },
    {
     "data": {
      "image/png": "[encoded data removed]",
      "text/plain": [
       "<Figure size 432x288 with 1 Axes>"
      ]
     },
     "metadata": {
      "needs_background": "light"
     },
     "output_type": "display_data"
    }
   ],
   "source": [
    "# Final_Current_Percent as output of linear model with inputs Precursor related\n",
    "# Init_R, Res_Drop, Volt_Drop --> Final_Current_Percent\n",
    "input_features = np.concatenate((material_matrix_cosh, Init_R, Res_Drop, Volt_Drop), axis=1)\n",
    "max_gamma_score = 0\n",
    "for rand in range(0, 100):\n",
    "    X_train, X_test, y_train, y_test = train_test_split(\n",
    "        input_features, Final_Current_Percent, test_size=0.2, random_state=rand)\n",
    "    clf = linear_model.GammaRegressor(alpha=0., max_iter=10000)\n",
    "    clf = clf.fit(X_train, y_train.ravel())\n",
    "    if clf.score(X_test, y_test.ravel()) > max_gamma_score:\n",
    "        max_gamma_score = clf.score(X_test, y_test.ravel())\n",
    "        best_random_state = rand\n",
    "\n",
    "X_train, X_test, y_train, y_test = train_test_split(\n",
    "        input_features, Final_Current_Percent, test_size=0.2, random_state=best_random_state)\n",
    "clf = linear_model.GammaRegressor(alpha=0., max_iter=10000)\n",
    "clf = clf.fit(X_train, y_train.ravel())\n",
    "print ('coef_: ', clf.coef_)\n",
    "CB_MC_PA_coef_Final_Current_Percent = clf.coef_[0:3]\n",
    "y_pred = clf.predict (X_test)\n",
    "print ('Gamma score:', clf.score(X_test, y_test.ravel()))\n",
    "r2 = r2_score(y_test.ravel(), y_pred.ravel())\n",
    "print ('r-squared', r2)\n",
    "print ('mse: ', mean_squared_error(y_test, y_pred))\n",
    "\n",
    "\n",
    "plt.scatter(y_test, y_pred)\n",
    "mid_line = list(np.linspace(np.min(Final_Current_Percent), np.max(Final_Current_Percent), 8))\n",
    "plt.plot(mid_line, mid_line, '--', color='red')"
   ]
  },
  {
   "cell_type": "code",
   "execution_count": 62,
   "metadata": {},
   "outputs": [
    {
     "name": "stdout",
     "output_type": "stream",
     "text": [
      "coef_:  [-0.13649316  0.47604644  0.46347362 -0.05904692 -0.02290594  0.00354559]\n",
      "Gamma score for test data: 0.7109015771721252\n",
      "r-squared for test data 0.7622306965795288\n",
      "mse:  126322.960233876\n"
     ]
    },
    {
     "name": "stderr",
     "output_type": "stream",
     "text": [
      "/home/kianoosh/anaconda3/envs/my-rdkit-env/lib/python3.9/site-packages/sklearn/_loss/glm_distribution.py:132: RuntimeWarning: divide by zero encountered in true_divide\n",
      "  return -2 * (y - y_pred) / self.unit_variance(y_pred)\n"
     ]
    },
    {
     "data": {
      "text/plain": [
       "[<matplotlib.lines.Line2D at 0x7f0e3ed79130>]"
      ]
     },
     "execution_count": 62,
     "metadata": {},
     "output_type": "execute_result"
    },
    {
     "data": {
      "image/png": "[encoded data removed]",
      "text/plain": [
       "<Figure size 432x288 with 1 Axes>"
      ]
     },
     "metadata": {
      "needs_background": "light"
     },
     "output_type": "display_data"
    }
   ],
   "source": [
    "# Norm_I_Max as output of linear model with inputs Precursor related:\n",
    "# Init_R, Res_Drop, Volt_Drop --> Norm_I_Max\n",
    "material_matrix_cosh = np.cosh (material_matrix)\n",
    "Init_R = np.array (df['Init_R']).reshape (-1, 1)\n",
    "Res_Drop = np.array (df['Res_Drop']).reshape (-1, 1)\n",
    "Volt_Drop = np.array (df['Volt_Drop']).reshape (-1, 1)\n",
    "Mass = np.array (df['Mass']).reshape(-1, 1)\n",
    "\n",
    "input_features = np.concatenate((material_matrix_cosh, Init_R, Res_Drop, Volt_Drop), axis=1)\n",
    "max_gamma_score = 0\n",
    "for rand in range(0, 100):\n",
    "    X_train, X_test, y_train, y_test = train_test_split(\n",
    "        input_features, Norm_I_Max, test_size=0.2, random_state=rand)\n",
    "    clf = linear_model.GammaRegressor(alpha=0., max_iter=10000)\n",
    "    clf = clf.fit(X_train, y_train.ravel())\n",
    "    if clf.score(X_test, y_test.ravel()) > max_gamma_score:\n",
    "        max_gamma_score = clf.score(X_test, y_test.ravel())\n",
    "        best_random_state = rand\n",
    "\n",
    "X_train, X_test, y_train, y_test = train_test_split(\n",
    "        input_features, Norm_I_Max, test_size=0.2, random_state=best_random_state)\n",
    "clf = linear_model.GammaRegressor(alpha=0., max_iter=10000)\n",
    "clf = clf.fit(X_train, y_train.ravel())\n",
    "\n",
    "print ('coef_: ', clf.coef_)\n",
    "CB_MC_PA_coef_Norm_I_Max = clf.coef_[0:3]\n",
    "y_pred = clf.predict (X_test)\n",
    "print ('Gamma score for test data:', clf.score(X_test, y_test.ravel()))\n",
    "r2 = r2_score(y_test.ravel(), y_pred.ravel())\n",
    "print ('r-squared for test data', r2)\n",
    "print ('mse: ', mean_squared_error(y_test, y_pred))\n",
    "\n",
    "plt.scatter(y_test, y_pred)\n",
    "mid_line = list(np.linspace(np.min(Norm_I_Max), np.max(Norm_I_Max), 8))\n",
    "plt.plot(mid_line, mid_line, '--', color='red')"
   ]
  },
  {
   "cell_type": "code",
   "execution_count": 54,
   "metadata": {},
   "outputs": [
    {
     "name": "stdout",
     "output_type": "stream",
     "text": [
      "coef_:  [ 0.12761155 -0.12322933 -0.11874802 -0.00855073  0.01448829  0.00882144]\n",
      "Gamma score: 0.7773704417203104\n",
      "r-squared 0.7372256921147622\n",
      "mse:  309.3495435541772\n"
     ]
    },
    {
     "data": {
      "text/plain": [
       "[<matplotlib.lines.Line2D at 0x7f0e426fd5b0>]"
      ]
     },
     "execution_count": 54,
     "metadata": {},
     "output_type": "execute_result"
    },
    {
     "data": {
      "image/png": "[encoded data removed]",
      "text/plain": [
       "<Figure size 432x288 with 1 Axes>"
      ]
     },
     "metadata": {
      "needs_background": "light"
     },
     "output_type": "display_data"
    }
   ],
   "source": [
    "# Norm_charge_tot as output of linear model with inputs Precursor related\n",
    "# Init_R, Res_Drop, Volt_Drop --> Norm_charge_tot\n",
    "input_features = np.concatenate((material_matrix, Init_R, Res_Drop, Volt_Drop), axis=1)\n",
    "max_gamma_score = 0\n",
    "for rand in range(0, 100):\n",
    "    X_train, X_test, y_train, y_test = train_test_split(\n",
    "        input_features, Norm_charge_tot, test_size=0.2, random_state=rand)\n",
    "    clf = linear_model.GammaRegressor(alpha=0., max_iter=1000)\n",
    "    clf = clf.fit(X_train, y_train.ravel())\n",
    "    if clf.score(X_test, y_test.ravel()) > max_gamma_score:\n",
    "        max_gamma_score = clf.score(X_test, y_test.ravel())\n",
    "        best_random_state = rand\n",
    "\n",
    "X_train, X_test, y_train, y_test = train_test_split(\n",
    "        input_features, Norm_charge_tot, test_size=0.2, random_state=best_random_state)\n",
    "clf = linear_model.GammaRegressor(alpha=0., max_iter=1000)\n",
    "clf = clf.fit(X_train, y_train.ravel())\n",
    "print ('coef_: ', clf.coef_)\n",
    "CB_MC_PA_coef_Norm_charge_tot = clf.coef_[0:3]\n",
    "y_pred = clf.predict (X_test)\n",
    "print ('Gamma score:', clf.score(X_test, y_test.ravel()))\n",
    "r2 = r2_score(y_test.ravel(), y_pred.ravel())\n",
    "print ('r-squared', r2)\n",
    "print ('mse: ', mean_squared_error(y_test, y_pred))\n",
    "\n",
    "\n",
    "plt.scatter(y_test, y_pred)\n",
    "mid_line = list(np.linspace(np.min(Norm_charge_tot), np.max(Norm_charge_tot), 8))\n",
    "plt.plot(mid_line, mid_line, '--', color='red')"
   ]
  },
  {
   "cell_type": "code",
   "execution_count": 63,
   "metadata": {},
   "outputs": [],
   "source": [
    "# got it from model based prediction of I_Max\n",
    "material_type_I_Finalperc_coef = material_type * CB_MC_PA_coef_Final_Current_Percent\n",
    "material_type_Norm_I_Max_coef = material_type * CB_MC_PA_coef_Norm_I_Max\n",
    "material_type_Norm_charge_Tot_coef = material_type * CB_MC_PA_coef_Norm_charge_tot"
   ]
  },
  {
   "cell_type": "code",
   "execution_count": 64,
   "metadata": {},
   "outputs": [],
   "source": [
    "# proxy (current-time plot) prediction (Final_Current_percent)\n",
    "new_features = np.concatenate ((charge_denisty,\n",
    "                                pulsetime,\n",
    "                                material_type_I_Finalperc_coef,\n",
    "                                atmosphere_type,\n",
    "                                Pretreat_voltage), axis=1)\n",
    "\n",
    "rand=9\n",
    "indices = np.arange(len(new_features))\n",
    "train_new_features, test_new_features, train_labels, test_labels, idxtrain, idx_test = \\\n",
    "                      train_test_split(new_features, Final_Current_Percent, \n",
    "                                       indices, test_size = 0.20, random_state = rand)\n",
    "feature_list = ['charge_denisty',\n",
    "                'PulseTime',\n",
    "                'material_CB',\n",
    "                'material_MC',\n",
    "                'material_PA',\n",
    "                'Atmosphere_air',\n",
    "                'Atmosphere_arg',\n",
    "                'Pretreat_voltage']"
   ]
  },
  {
   "cell_type": "code",
   "execution_count": 95,
   "metadata": {},
   "outputs": [
    {
     "name": "stdout",
     "output_type": "stream",
     "text": [
      "Average of r pearson for test 0.8466031502271641\n",
      "std of r pearson for test 0.012057374164267344 \n",
      "\n",
      "Average of r_squared for test 0.6777988041363548\n",
      "std of r_squared for test 0.016113895928858 \n",
      "\n",
      "Average of r_squared for train 0.7391229025024947\n",
      "std of r_squared for train 0.010158757857617494\n",
      "Mean Absolute Error: 0.2094 units.\n",
      "r2 score =  0.8283348799032613\n",
      "Mean Absolute Error: 0.2675 units.\n",
      "r2 score =  0.8225862413226182\n"
     ]
    }
   ],
   "source": [
    "r_squareds = list()\n",
    "r_pearsons = list()\n",
    "r_squareds_train = list()\n",
    "MAEs = list()\n",
    "MAEs_train = list()\n",
    "start = time.time()\n",
    "for random_state in range(50):\n",
    "    # after fixing the hyperparameters, train the model on all samples\n",
    "    # Instantiate model with 1000 decision tree\n",
    "    xgbr_final_I_percent = XGBRegressor(max_depth=10, n_estimators=25, gamma=0.01, \n",
    "                   learning_rate=0.115, subsample=0.77, min_child_weight=8, \n",
    "                   random_state=random_state)\n",
    "    # xgbr_final_I_percent = linear_model.BayesianRidge()\n",
    "    # xgbr_final_I_percent = XGBRegressor()\n",
    "    # Train the model on training data\n",
    "    labels = Final_Current_Percent\n",
    "    xgbr_final_I_percent.fit(train_new_features, train_labels);\n",
    "    #print('Doneskies')\n",
    "    Final_Current_Percent_test = xgbr_final_I_percent.predict(test_new_features)\n",
    "    r_squared_Final_Current_test = r2_score(test_labels, Final_Current_Percent_test)\n",
    "    r_squareds.append(r_squared_Final_Current_test)\n",
    "    \n",
    "    r_pearson_Final_Current_test = pearsonr(test_labels.reshape(test_labels.shape[0],), \n",
    "                                            Final_Current_Percent_test.reshape(Final_Current_Percent_test.shape[0],))\n",
    "    r_pearsons.append(r_pearson_Final_Current_test[0])   \n",
    "    \n",
    "    Final_Current_Percent_train = xgbr_final_I_percent.predict(train_new_features)\n",
    "    r_squared_Final_Current_train = r2_score(train_labels, Final_Current_Percent_train)\n",
    "    r_squareds_train.append(r_squared_Final_Current_train)    \n",
    "\n",
    "print ('Average of r pearson for test', np.mean(np.array(r_pearsons)))\n",
    "print ('std of r pearson for test', np.std(np.array(r_pearsons)), '\\n')\n",
    "\n",
    "print ('Average of r_squared for test', np.mean(np.array(r_squareds)))\n",
    "print ('std of r_squared for test', np.std(np.array(r_squareds)), '\\n')\n",
    "\n",
    "print ('Average of r_squared for train', np.mean(np.array(r_squareds_train)))\n",
    "print ('std of r_squared for train', np.std(np.array(r_squareds_train)))\n",
    "\n",
    "xgbr_final_I_percent.fit(new_features, labels)\n",
    "# Use the forest's predict method on the test data\n",
    "Final_Current_Percent_predicted = xgbr_final_I_percent.predict(new_features)\n",
    "# Calculate the absolute errors\n",
    "errors = abs(Final_Current_Percent_predicted - Final_Current_Percent)\n",
    "# Print out the mean absolute error (mae)\n",
    "print('Mean Absolute Error:', round(np.mean(errors), 4), 'units.')\n",
    "\n",
    "r_squared_Final_Current_all = r2_score(Final_Current_Percent, Final_Current_Percent_predicted)\n",
    "print('r2 score = ', r_squared_Final_Current_all)\n",
    "\n",
    "# Use the forest's predict method on the test data\n",
    "Final_Current_Percent_test = xgbr_final_I_percent.predict(test_new_features)\n",
    "# Calculate the absolute errors\n",
    "errors_test = abs(Final_Current_Percent_test - test_labels)\n",
    "# Print out the mean absolute error (mae)\n",
    "print('Mean Absolute Error:', round(np.mean(errors_test), 4), 'units.')\n",
    "\n",
    "r_squared_Final_Current_test = r2_score(test_labels, Final_Current_Percent_test)\n",
    "print('r2 score = ', r_squared_Final_Current_test)"
   ]
  },
  {
   "cell_type": "code",
   "execution_count": 96,
   "metadata": {},
   "outputs": [
    {
     "name": "stdout",
     "output_type": "stream",
     "text": [
      "[0.06391357, 0.54187095, 0.050532, 0.11524312, 0.015179494, 0.07922997, 0.0, 0.13403094]\n",
      "Variable: charge_denisty Importance: ('charge_denisty', 0.06)\n",
      "Variable: PulseTime Importance: ('PulseTime', 0.54)\n",
      "Variable: material_CB Importance: ('material_CB', 0.05)\n",
      "Variable: material_MC Importance: ('material_MC', 0.12)\n",
      "Variable: material_PA Importance: ('material_PA', 0.02)\n",
      "Variable: Atmosphere_air Importance: ('Atmosphere_air', 0.08)\n",
      "Variable: Atmosphere_arg Importance: ('Atmosphere_arg', 0.0)\n",
      "Variable: Pretreat_voltage Importance: ('Pretreat_voltage', 0.13)\n"
     ]
    }
   ],
   "source": [
    "# Get numerical feature importances\n",
    "importances = list(xgbr_final_I_percent.feature_importances_)\n",
    "print (importances)\n",
    "# List of tuples with variable and importance\n",
    "feature_importances = [(feature, round(importance, 2)) for feature, importance in zip(feature_list, importances)]\n",
    "# Sort the feature importances by most important first\n",
    "#feature_importances = sorted(feature_importances, key = lambda x: x[1], reverse = True)\n",
    "# Print out the feature and importances \n",
    "[print('Variable: {} Importance: {}'.format(feature, importance)) \n",
    " for (feature, importance) in zip(feature_list, feature_importances)];"
   ]
  },
  {
   "cell_type": "code",
   "execution_count": 108,
   "metadata": {},
   "outputs": [],
   "source": [
    "# proxy (current-time plot) prediction (Norm_I_Max)\n",
    "new_features = np.concatenate ((charge_denisty,\n",
    "                                pulsetime,\n",
    "                                material_type_Norm_I_Max_coef,\n",
    "                                atmosphere_type,\n",
    "                                Pretreat_voltage), axis=1)\n",
    "\n",
    "rand=9\n",
    "indices = np.arange(len(new_features))\n",
    "train_new_features, test_new_features, train_labels, test_labels, idxtrain, idx_test = \\\n",
    "                      train_test_split(new_features, Norm_I_Max, \n",
    "                                       indices, test_size = 0.2, random_state = rand)\n",
    "\n",
    "feature_list = ['charge_denisty',\n",
    "                'PulseTime',\n",
    "                'material_CB',\n",
    "                'material_MC',\n",
    "                'material_PA',\n",
    "                'Atmosphere_air',\n",
    "                'Atmosphere_arg',\n",
    "                'Pretreat_voltage']"
   ]
  },
  {
   "cell_type": "code",
   "execution_count": 109,
   "metadata": {},
   "outputs": [
    {
     "name": "stdout",
     "output_type": "stream",
     "text": [
      "(0.7676276802920239, 7.412339239937879e-08)\n",
      "Average of pearson r for test 0.7751909126882431\n",
      "std of pearson 1 for test 0.010688150653438176 \n",
      "\n",
      "Average of r_squared for test 0.595884853350087\n",
      "std of r_squared for test 0.01677309929291558 \n",
      "\n",
      "Average of r_squared for train 0.7679069432949439\n",
      "std of r_squared for train 0.005464916703626678\n",
      "Mean Absolute Error: 740.665 units.\n",
      "r2 score =  0.7530422054183219\n",
      "Mean Absolute Error: 752.9208 units.\n",
      "r2 score =  0.7072610457218755\n"
     ]
    },
    {
     "data": {
      "image/png": "[encoded data removed]",
      "text/plain": [
       "<Figure size 432x288 with 1 Axes>"
      ]
     },
     "metadata": {
      "needs_background": "light"
     },
     "output_type": "display_data"
    }
   ],
   "source": [
    "r_squareds = list()\n",
    "r_pearsons = list()\n",
    "r_squareds_train = list()\n",
    "MAEs = list()\n",
    "MAEs_train = list()\n",
    "start = time.time()\n",
    "for random_state in range(50):\n",
    "    # after fixing the hyperparameters, train the model on all samples\n",
    "    # Instantiate model with 1000 decision tree\n",
    "    xgbr_norm_I_max = XGBRegressor(max_depth=2, n_estimators=30, gamma=0.001, \n",
    "                   learning_rate=0.15, subsample=0.75, min_child_weight=5, \n",
    "                  random_state=random_state)\n",
    "    # xgbr_norm_I_max = linear_model.BayesianRidge()\n",
    "    # xgbr_norm_I_max = XGBRegressor()\n",
    "    # Train the model on training data\n",
    "    labels = Norm_I_Max\n",
    "    xgbr_norm_I_max.fit(train_new_features, train_labels);\n",
    "    \n",
    "    Norm_I_Max_test = xgbr_norm_I_max.predict(test_new_features)\n",
    "    r_squared_Norm_I_Max_test = r2_score(test_labels, Norm_I_Max_test)\n",
    "\n",
    "    test_labels_ = test_labels.reshape(test_labels.shape[0], )\n",
    "\n",
    "    Norm_I_Max_test_ = Norm_I_Max_test.reshape(Norm_I_Max_test.shape[0], )\n",
    "\n",
    "    r_pearson_Norm_I_Max_test = pearsonr(test_labels_, Norm_I_Max_test_)\n",
    "    r_pearsons.append(r_pearson_Norm_I_Max_test[0])\n",
    "    r_squareds.append(r_squared_Norm_I_Max_test)\n",
    "    \n",
    "    Norm_I_Max_train = xgbr_norm_I_max.predict(train_new_features)\n",
    "    r_squared_Norm_I_Max_train = r2_score(train_labels, Norm_I_Max_train)\n",
    "    r_squareds_train.append(r_squared_Norm_I_Max_train)  \n",
    "\n",
    "r_pearson_Norm_I_Max_test = pearsonr(test_labels_, Norm_I_Max_test_)\n",
    "print (r_pearson_Norm_I_Max_test)\n",
    "plt.scatter(test_labels_, Norm_I_Max_test_)\n",
    "print ('Average of pearson r for test', np.mean(np.array(r_pearsons)))\n",
    "print ('std of pearson 1 for test', np.std(np.array(r_pearsons)), '\\n')\n",
    "print ('Average of r_squared for test', np.mean(np.array(r_squareds)))\n",
    "print ('std of r_squared for test', np.std(np.array(r_squareds)), '\\n')\n",
    "print ('Average of r_squared for train', np.mean(np.array(r_squareds_train)))\n",
    "print ('std of r_squared for train', np.std(np.array(r_squareds_train)))\n",
    "\n",
    "xgbr_norm_I_max.fit(new_features, labels)\n",
    "# Use the forest's predict method on the test data\n",
    "Norm_I_Max_predicted = xgbr_norm_I_max.predict(new_features)\n",
    "# Calculate the absolute errors\n",
    "errors = abs(Norm_I_Max_predicted - Norm_I_Max)\n",
    "# Print out the mean absolute error (mae)\n",
    "print('Mean Absolute Error:', round(np.mean(errors), 4), 'units.')\n",
    "\n",
    "r_squared_Norm_I_Max_all = r2_score(Norm_I_Max, Norm_I_Max_predicted)\n",
    "print('r2 score = ', r_squared_Norm_I_Max_all)\n",
    "\n",
    "# Use the forest's predict method on the test data\n",
    "Norm_I_Max_test = xgbr_norm_I_max.predict(test_new_features)\n",
    "# Calculate the absolute errors\n",
    "errors_test = abs(Norm_I_Max_test - test_labels)\n",
    "# Print out the mean absolute error (mae)\n",
    "print('Mean Absolute Error:', round(np.mean(errors_test), 4), 'units.')\n",
    "\n",
    "r_squared_Norm_I_Max_test = r2_score(test_labels, Norm_I_Max_test)\n",
    "print('r2 score = ', r_squared_Norm_I_Max_test)"
   ]
  },
  {
   "cell_type": "code",
   "execution_count": 111,
   "metadata": {},
   "outputs": [
    {
     "name": "stdout",
     "output_type": "stream",
     "text": [
      "Variable: charge_denisty Importance: ('charge_denisty', 0.18)\n",
      "Variable: PulseTime Importance: ('PulseTime', 0.07)\n",
      "Variable: material_CB Importance: ('material_CB', 0.05)\n",
      "Variable: material_MC Importance: ('material_MC', 0.5)\n",
      "Variable: material_PA Importance: ('material_PA', 0.0)\n",
      "Variable: Atmosphere_air Importance: ('Atmosphere_air', 0.0)\n",
      "Variable: Atmosphere_arg Importance: ('Atmosphere_arg', 0.0)\n",
      "Variable: Pretreat_voltage Importance: ('Pretreat_voltage', 0.19)\n",
      "[0.18129855, 0.07394263, 0.05048946, 0.5025084, 0.0, 0.0, 0.0, 0.19176088]\n"
     ]
    }
   ],
   "source": [
    "# Get numerical feature importances\n",
    "importances = list(xgbr_norm_I_max.feature_importances_)\n",
    "# List of tuples with variable and importance\n",
    "feature_importances = [(feature, round(importance, 2)) for feature, importance in zip(feature_list, importances)]\n",
    "# Sort the feature importances by most important first\n",
    "#feature_importances = sorted(feature_importances, key = lambda x: x[1], reverse = True)\n",
    "# Print out the feature and importances \n",
    "[print('Variable: {} Importance: {}'.format(feature, importance)) \n",
    " for (feature, importance) in zip(feature_list, feature_importances)];\n",
    "print (importances)"
   ]
  },
  {
   "cell_type": "code",
   "execution_count": 112,
   "metadata": {},
   "outputs": [],
   "source": [
    "# proxy (current-time plot) prediction (Norm_Norm_charge_tot)\n",
    "new_features = np.concatenate ((charge_denisty,\n",
    "                                pulsetime,\n",
    "                                material_type_Norm_charge_Tot_coef,\n",
    "                                atmosphere_type,\n",
    "                                Pretreat_voltage), axis=1)\n",
    "\n",
    "rand=9\n",
    "indices = np.arange(len(new_features))\n",
    "train_new_features, test_new_features, train_labels, test_labels, idxtrain, idx_test = \\\n",
    "                      train_test_split(new_features, Norm_charge_tot, \n",
    "                                       indices, test_size = 0.20, random_state = rand)\n",
    "feature_list = ['charge_denisty',\n",
    "                'PulseTime',\n",
    "                'material_CB',\n",
    "                'material_MC',\n",
    "                'material_PA',\n",
    "                'Atmosphere_air',\n",
    "                'Atmosphere_arg',\n",
    "                'Pretreat_voltage']"
   ]
  },
  {
   "cell_type": "code",
   "execution_count": 135,
   "metadata": {},
   "outputs": [
    {
     "name": "stdout",
     "output_type": "stream",
     "text": [
      "Average of pearson r for test 0.7723982736263194\n",
      "std of pearson 1 for test 0.019239522690065132 \n",
      "\n",
      "Average of r_squared for test 0.5909765604236604\n",
      "std of r_squared for test 0.028085462965319666 \n",
      "\n",
      "Average of r_squared for train 0.726151316705005\n",
      "std of r_squared for train 0.008628067798812634\n",
      "Mean Absolute Error: 30.5581 units.\n",
      "r2 score =  0.7458441910927216\n",
      "Mean Absolute Error: 34.1277 units.\n",
      "r2 score =  0.8383126200187005\n"
     ]
    }
   ],
   "source": [
    "r_squareds = list()\n",
    "r_pearsons = list()\n",
    "r_squareds_train = list()\n",
    "MAEs = list()\n",
    "MAEs_train = list()\n",
    "start = time.time()\n",
    "for random_state in range(50):\n",
    "    # after fixing the hyperparameters, train the model on all samples\n",
    "    # Instantiate model with 1000 decision tree\n",
    "    xgbr_norm_charge_total = XGBRegressor(max_depth=6, n_estimators=21, gamma=0.01, \n",
    "                   learning_rate=0.118, subsample=0.75, min_child_weight=6, \n",
    "                  random_state=random_state)\n",
    "    # xgbr_norm_charge_total = linear_model.BayesianRidge()\n",
    "    # xgbr_norm_charge_total = XGBRegressor()\n",
    "    # Train the model on training data\n",
    "    labels = Norm_charge_tot\n",
    "    xgbr_norm_charge_total.fit(train_new_features, train_labels);\n",
    "    #print('Doneskies')\n",
    "    Norm_charge_tot_test = xgbr_norm_charge_total.predict(test_new_features)\n",
    "    r_squared_Norm_charge_tot_test = r2_score(test_labels, Norm_charge_tot_test)\n",
    "    r_squareds.append(r_squared_Norm_charge_tot_test)\n",
    "    \n",
    "    test_labels_ = test_labels.reshape(test_labels.shape[0], )\n",
    "    Norm_charge_tot_test_ = Norm_charge_tot_test.reshape(Norm_charge_tot_test.shape[0], )\n",
    "    r_pearson_Norm_charge_tot_test = pearsonr(test_labels_, Norm_charge_tot_test_)\n",
    "    r_pearsons.append(r_pearson_Norm_charge_tot_test[0])\n",
    "\n",
    "    \n",
    "    Norm_charge_tot_train = xgbr_norm_charge_total.predict(train_new_features)\n",
    "    r_squared_Norm_charge_tot_train = r2_score(train_labels, Norm_charge_tot_train)\n",
    "    r_squareds_train.append(r_squared_Norm_charge_tot_train)    \n",
    "\n",
    "print ('Average of pearson r for test', np.mean(np.array(r_pearsons)))\n",
    "print ('std of pearson 1 for test', np.std(np.array(r_pearsons)), '\\n')\n",
    "\n",
    "print ('Average of r_squared for test', np.mean(np.array(r_squareds)))\n",
    "print ('std of r_squared for test', np.std(np.array(r_squareds)), '\\n')\n",
    "\n",
    "print ('Average of r_squared for train', np.mean(np.array(r_squareds_train)))\n",
    "print ('std of r_squared for train', np.std(np.array(r_squareds_train)))\n",
    "\n",
    "\n",
    "xgbr_norm_charge_total.fit(new_features, labels)\n",
    "# Use the forest's predict method on the test data\n",
    "Norm_charge_tot_predicted = xgbr_norm_charge_total.predict(new_features)\n",
    "# Calculate the absolute errors\n",
    "errors = abs(Norm_charge_tot_predicted - Norm_charge_tot)\n",
    "# Print out the mean absolute error (mae)\n",
    "print('Mean Absolute Error:', round(np.mean(errors), 4), 'units.')\n",
    "\n",
    "r_squared_Norm_charge_tot_all = r2_score(Norm_charge_tot, Norm_charge_tot_predicted)\n",
    "print('r2 score = ', r_squared_Norm_charge_tot_all)\n",
    "\n",
    "# Use the forest's predict method on the test data\n",
    "Norm_charge_tot_test = xgbr_norm_charge_total.predict(test_new_features)\n",
    "# Calculate the absolute errors\n",
    "errors_test = abs(Norm_charge_tot_test - test_labels)\n",
    "# Print out the mean absolute error (mae)\n",
    "print('Mean Absolute Error:', round(np.mean(errors_test), 4), 'units.')\n",
    "\n",
    "r_squared_Norm_charge_tot_test = r2_score(test_labels, Norm_charge_tot_test)\n",
    "print('r2 score = ', r_squared_Norm_charge_tot_test)"
   ]
  },
  {
   "cell_type": "code",
   "execution_count": 136,
   "metadata": {},
   "outputs": [
    {
     "name": "stdout",
     "output_type": "stream",
     "text": [
      "Variable: charge_denisty Importance: ('charge_denisty', 0.2)\n",
      "Variable: PulseTime Importance: ('PulseTime', 0.23)\n",
      "Variable: material_CB Importance: ('material_CB', 0.09)\n",
      "Variable: material_MC Importance: ('material_MC', 0.19)\n",
      "Variable: material_PA Importance: ('material_PA', 0.09)\n",
      "Variable: Atmosphere_air Importance: ('Atmosphere_air', 0.04)\n",
      "Variable: Atmosphere_arg Importance: ('Atmosphere_arg', 0.0)\n",
      "Variable: Pretreat_voltage Importance: ('Pretreat_voltage', 0.17)\n",
      "[0.19763298, 0.22866347, 0.0919755, 0.1854384, 0.09106414, 0.03757105, 0.0, 0.16765445]\n"
     ]
    }
   ],
   "source": [
    "# Get numerical feature importances\n",
    "importances = list(xgbr_norm_charge_total.feature_importances_)\n",
    "# List of tuples with variable and importance\n",
    "feature_importances = [(feature, round(importance, 2)) for feature, importance in zip(feature_list, importances)]\n",
    "# Sort the feature importances by most important first\n",
    "#feature_importances = sorted(feature_importances, key = lambda x: x[1], reverse = True)\n",
    "# Print out the feature and importances \n",
    "[print('Variable: {} Importance: {}'.format(feature, importance)) \n",
    " for (feature, importance) in zip(feature_list, feature_importances)];\n",
    "\n",
    "print (importances)"
   ]
  },
  {
   "cell_type": "code",
   "execution_count": 159,
   "metadata": {},
   "outputs": [],
   "source": [
    "heat_power = np.array (df['Voltage']*df['Voltage']/df['Init_R']*df['PulseTime']).reshape(-1, 1)\n",
    "# Porxy properties, as well as process parameters\n",
    "new_features = np.concatenate ((charge_denisty, \n",
    "                                material_type, \n",
    "                                pulsetime,\n",
    "                                Pretreat_voltage,\n",
    "                                atmosphere_type,\n",
    "                                Final_Current_Percent_predicted.reshape(-1, 1),\n",
    "                                Norm_I_Max_predicted.reshape(-1, 1),\n",
    "                                Norm_charge_tot_predicted.reshape(-1, 1)), axis=1)\n",
    "#                                heat_power.reshape(-1, 1)), axis=1)\n",
    "\n",
    "rand=9\n",
    "indices = np.arange(len(new_features))\n",
    "train_new_features, test_new_features, train_labels, test_labels, idxtrain, idx_test = \\\n",
    "                      train_test_split(new_features, Graphene_Yield, \n",
    "                                       indices, test_size = 0.20, random_state = rand)\n",
    "\n",
    "feature_list = ['charge_denisty',\n",
    "                'material_CB',\n",
    "                'material_MC',\n",
    "                'material_PA',\n",
    "                'PulseTime',\n",
    "                'Pretreat_voltage',\n",
    "                'Atmosphere_air',\n",
    "                'Atmosphere_arg',\n",
    "                'Final_Current_Percent',\n",
    "                'Norm_I_Max',\n",
    "                'Norm_charge_tot']"
   ]
  },
  {
   "cell_type": "raw",
   "metadata": {},
   "source": [
    "# using only process parameters\n",
    "new_features = np.concatenate ((charge_denisty, \n",
    "                                material_type, \n",
    "                                pulsetime), axis=1)\n",
    "\n",
    "rand=9\n",
    "indices = np.arange(len(new_features))\n",
    "train_new_features, test_new_features, train_labels, test_labels, idxtrain, idx_test = \\\n",
    "                      train_test_split(new_features, Graphene_Yield, \n",
    "                                       indices, test_size = 0.20, random_state = rand)"
   ]
  },
  {
   "cell_type": "code",
   "execution_count": 147,
   "metadata": {},
   "outputs": [
    {
     "name": "stdout",
     "output_type": "stream",
     "text": [
      "Fitting 5 folds for each of 4 candidates, totalling 20 fits\n"
     ]
    },
    {
     "name": "stderr",
     "output_type": "stream",
     "text": [
      "/home/kianoosh/anaconda3/envs/my-rdkit-env/lib/python3.9/site-packages/xgboost/compat.py:36: FutureWarning: pandas.Int64Index is deprecated and will be removed from pandas in a future version. Use pandas.Index with the appropriate dtype instead.\n",
      "  from pandas import MultiIndex, Int64Index\n",
      "/home/kianoosh/anaconda3/envs/my-rdkit-env/lib/python3.9/site-packages/xgboost/compat.py:36: FutureWarning: pandas.Int64Index is deprecated and will be removed from pandas in a future version. Use pandas.Index with the appropriate dtype instead.\n",
      "  from pandas import MultiIndex, Int64Index\n",
      "/home/kianoosh/anaconda3/envs/my-rdkit-env/lib/python3.9/site-packages/xgboost/compat.py:36: FutureWarning: pandas.Int64Index is deprecated and will be removed from pandas in a future version. Use pandas.Index with the appropriate dtype instead.\n",
      "  from pandas import MultiIndex, Int64Index\n",
      "/home/kianoosh/anaconda3/envs/my-rdkit-env/lib/python3.9/site-packages/xgboost/compat.py:36: FutureWarning: pandas.Int64Index is deprecated and will be removed from pandas in a future version. Use pandas.Index with the appropriate dtype instead.\n",
      "  from pandas import MultiIndex, Int64Index\n",
      "/home/kianoosh/anaconda3/envs/my-rdkit-env/lib/python3.9/site-packages/xgboost/compat.py:36: FutureWarning: pandas.Int64Index is deprecated and will be removed from pandas in a future version. Use pandas.Index with the appropriate dtype instead.\n",
      "  from pandas import MultiIndex, Int64Index\n",
      "/home/kianoosh/anaconda3/envs/my-rdkit-env/lib/python3.9/site-packages/xgboost/compat.py:36: FutureWarning: pandas.Int64Index is deprecated and will be removed from pandas in a future version. Use pandas.Index with the appropriate dtype instead.\n",
      "  from pandas import MultiIndex, Int64Index\n",
      "/home/kianoosh/anaconda3/envs/my-rdkit-env/lib/python3.9/site-packages/xgboost/compat.py:36: FutureWarning: pandas.Int64Index is deprecated and will be removed from pandas in a future version. Use pandas.Index with the appropriate dtype instead.\n",
      "  from pandas import MultiIndex, Int64Index\n",
      "/home/kianoosh/anaconda3/envs/my-rdkit-env/lib/python3.9/site-packages/xgboost/compat.py:36: FutureWarning: pandas.Int64Index is deprecated and will be removed from pandas in a future version. Use pandas.Index with the appropriate dtype instead.\n",
      "  from pandas import MultiIndex, Int64Index\n"
     ]
    },
    {
     "name": "stdout",
     "output_type": "stream",
     "text": [
      "Max Depth:  3\n",
      "N Estimators:  24\n",
      "Min Child Weight:  5\n",
      "Learning Rate:  0.11666666666666667\n",
      "Subsample:  0.7\n",
      "Gamma:  0.0001\n",
      "total time is 23.19513726234436\n",
      "[CV 5/5; 1/4] START gamma=0.0001, learning_rate=0.11, max_depth=3, min_child_weight=5, n_estimators=24, subsample=0.7\n",
      "[CV 5/5; 1/4] END gamma=0.0001, learning_rate=0.11, max_depth=3, min_child_weight=5, n_estimators=24, subsample=0.7;, score=-0.031 total time=   9.6s\n",
      "[CV 1/5; 4/4] START gamma=0.0001, learning_rate=0.12, max_depth=3, min_child_weight=5, n_estimators=24, subsample=0.7\n",
      "[CV 1/5; 4/4] END gamma=0.0001, learning_rate=0.12, max_depth=3, min_child_weight=5, n_estimators=24, subsample=0.7;, score=-0.040 total time=   7.9s\n",
      "[CV 1/5; 2/4] START gamma=0.0001, learning_rate=0.11333333333333333, max_depth=3, min_child_weight=5, n_estimators=24, subsample=0.7\n",
      "[CV 1/5; 2/4] END gamma=0.0001, learning_rate=0.11333333333333333, max_depth=3, min_child_weight=5, n_estimators=24, subsample=0.7;, score=-0.041 total time=   8.7s\n",
      "[CV 3/5; 3/4] START gamma=0.0001, learning_rate=0.11666666666666667, max_depth=3, min_child_weight=5, n_estimators=24, subsample=0.7\n",
      "[CV 3/5; 3/4] END gamma=0.0001, learning_rate=0.11666666666666667, max_depth=3, min_child_weight=5, n_estimators=24, subsample=0.7;, score=-0.032 total time=   9.0s\n",
      "[CV 2/5; 1/4] START gamma=0.0001, learning_rate=0.11, max_depth=3, min_child_weight=5, n_estimators=24, subsample=0.7\n",
      "[CV 2/5; 1/4] END gamma=0.0001, learning_rate=0.11, max_depth=3, min_child_weight=5, n_estimators=24, subsample=0.7;, score=-0.027 total time=   8.6s\n",
      "[CV 1/5; 3/4] START gamma=0.0001, learning_rate=0.11666666666666667, max_depth=3, min_child_weight=5, n_estimators=24, subsample=0.7\n",
      "[CV 1/5; 3/4] END gamma=0.0001, learning_rate=0.11666666666666667, max_depth=3, min_child_weight=5, n_estimators=24, subsample=0.7;, score=-0.041 total time=   9.4s\n",
      "[CV 3/5; 2/4] START gamma=0.0001, learning_rate=0.11333333333333333, max_depth=3, min_child_weight=5, n_estimators=24, subsample=0.7\n",
      "[CV 3/5; 2/4] END gamma=0.0001, learning_rate=0.11333333333333333, max_depth=3, min_child_weight=5, n_estimators=24, subsample=0.7;, score=-0.032 total time=   9.0s\n",
      "[CV 5/5; 3/4] START gamma=0.0001, learning_rate=0.11666666666666667, max_depth=3, min_child_weight=5, n_estimators=24, subsample=0.7\n",
      "[CV 5/5; 3/4] END gamma=0.0001, learning_rate=0.11666666666666667, max_depth=3, min_child_weight=5, n_estimators=24, subsample=0.7;, score=-0.028 total time=   8.9s\n",
      "[CV 3/5; 1/4] START gamma=0.0001, learning_rate=0.11, max_depth=3, min_child_weight=5, n_estimators=24, subsample=0.7\n",
      "[CV 3/5; 1/4] END gamma=0.0001, learning_rate=0.11, max_depth=3, min_child_weight=5, n_estimators=24, subsample=0.7;, score=-0.032 total time=   7.9s\n",
      "[CV 5/5; 2/4] START gamma=0.0001, learning_rate=0.11333333333333333, max_depth=3, min_child_weight=5, n_estimators=24, subsample=0.7\n",
      "[CV 5/5; 2/4] END gamma=0.0001, learning_rate=0.11333333333333333, max_depth=3, min_child_weight=5, n_estimators=24, subsample=0.7;, score=-0.030 total time=   8.7s\n",
      "[CV 3/5; 4/4] START gamma=0.0001, learning_rate=0.12, max_depth=3, min_child_weight=5, n_estimators=24, subsample=0.7\n",
      "[CV 3/5; 4/4] END gamma=0.0001, learning_rate=0.12, max_depth=3, min_child_weight=5, n_estimators=24, subsample=0.7;, score=-0.032 total time=   4.8s\n",
      "[CV 1/5; 1/4] START gamma=0.0001, learning_rate=0.11, max_depth=3, min_child_weight=5, n_estimators=24, subsample=0.7\n",
      "[CV 1/5; 1/4] END gamma=0.0001, learning_rate=0.11, max_depth=3, min_child_weight=5, n_estimators=24, subsample=0.7;, score=-0.040 total time=   7.6s\n",
      "[CV 4/5; 2/4] START gamma=0.0001, learning_rate=0.11333333333333333, max_depth=3, min_child_weight=5, n_estimators=24, subsample=0.7\n",
      "[CV 4/5; 2/4] END gamma=0.0001, learning_rate=0.11333333333333333, max_depth=3, min_child_weight=5, n_estimators=24, subsample=0.7;, score=-0.034 total time=   9.1s\n",
      "[CV 2/5; 4/4] START gamma=0.0001, learning_rate=0.12, max_depth=3, min_child_weight=5, n_estimators=24, subsample=0.7\n",
      "[CV 2/5; 4/4] END gamma=0.0001, learning_rate=0.12, max_depth=3, min_child_weight=5, n_estimators=24, subsample=0.7;, score=-0.028 total time=   4.9s\n",
      "[CV 4/5; 1/4] START gamma=0.0001, learning_rate=0.11, max_depth=3, min_child_weight=5, n_estimators=24, subsample=0.7\n",
      "[CV 4/5; 1/4] END gamma=0.0001, learning_rate=0.11, max_depth=3, min_child_weight=5, n_estimators=24, subsample=0.7;, score=-0.033 total time=   8.8s\n",
      "[CV 2/5; 3/4] START gamma=0.0001, learning_rate=0.11666666666666667, max_depth=3, min_child_weight=5, n_estimators=24, subsample=0.7\n",
      "[CV 2/5; 3/4] END gamma=0.0001, learning_rate=0.11666666666666667, max_depth=3, min_child_weight=5, n_estimators=24, subsample=0.7;, score=-0.028 total time=   8.2s\n",
      "[CV 4/5; 4/4] START gamma=0.0001, learning_rate=0.12, max_depth=3, min_child_weight=5, n_estimators=24, subsample=0.7\n",
      "[CV 4/5; 4/4] END gamma=0.0001, learning_rate=0.12, max_depth=3, min_child_weight=5, n_estimators=24, subsample=0.7;, score=-0.034 total time=   4.7s\n",
      "[CV 2/5; 2/4] START gamma=0.0001, learning_rate=0.11333333333333333, max_depth=3, min_child_weight=5, n_estimators=24, subsample=0.7\n",
      "[CV 2/5; 2/4] END gamma=0.0001, learning_rate=0.11333333333333333, max_depth=3, min_child_weight=5, n_estimators=24, subsample=0.7;, score=-0.027 total time=   9.0s\n",
      "[CV 4/5; 3/4] START gamma=0.0001, learning_rate=0.11666666666666667, max_depth=3, min_child_weight=5, n_estimators=24, subsample=0.7\n",
      "[CV 4/5; 3/4] END gamma=0.0001, learning_rate=0.11666666666666667, max_depth=3, min_child_weight=5, n_estimators=24, subsample=0.7;, score=-0.034 total time=   8.5s\n",
      "[CV 5/5; 4/4] START gamma=0.0001, learning_rate=0.12, max_depth=3, min_child_weight=5, n_estimators=24, subsample=0.7\n",
      "[CV 5/5; 4/4] END gamma=0.0001, learning_rate=0.12, max_depth=3, min_child_weight=5, n_estimators=24, subsample=0.7;, score=-0.030 total time=   4.0s\n"
     ]
    }
   ],
   "source": [
    "# Grid Search CV each fit takes 1Sec, 5CV means running 5 times for each possibility\n",
    "start = time.time()\n",
    "from sklearn.model_selection import GridSearchCV\n",
    "gsc = GridSearchCV(\n",
    "        estimator=XGBRegressor(),\n",
    "        param_grid={\n",
    "            'max_depth': [3],\n",
    "            'n_estimators': [24],\n",
    "            'min_child_weight': [5],\n",
    "            'learning_rate': np.linspace(0.11, 0.12, 4),\n",
    "            'subsample': [0.7],\n",
    "            'gamma': [0.0001]\n",
    "        },\n",
    "        cv=5, scoring='neg_mean_squared_error', verbose=10, n_jobs=-1)\n",
    "grid_result = gsc.fit(train_new_features, train_labels)\n",
    "best_params = grid_result.best_params_\n",
    "print('Max Depth: ', best_params[\"max_depth\"])\n",
    "print('N Estimators: ', best_params[\"n_estimators\"])\n",
    "print('Min Child Weight: ', best_params[\"min_child_weight\"])\n",
    "print('Learning Rate: ', best_params[\"learning_rate\"])\n",
    "print('Subsample: ', best_params[\"subsample\"])\n",
    "print('Gamma: ', best_params[\"gamma\"])\n",
    "end = time.time()\n",
    "print ('total time is {}'.format(end-start))"
   ]
  },
  {
   "cell_type": "code",
   "execution_count": 148,
   "metadata": {},
   "outputs": [
    {
     "name": "stdout",
     "output_type": "stream",
     "text": [
      "Average of r_squared for test 0.7589044310025503\n",
      "std of r_squared for test 0.008885747659560302 \n",
      "\n",
      "Average of r_squared for train 0.8566896949506816\n",
      "std of r_squared for train 0.004139065870695318\n",
      "Mean Absolute Error: 0.281 units.\n",
      "r2 score =  0.8550918028060198\n",
      "time is:  1.428525447845459\n",
      "Mean Absolute Error for test: 0.3293 units.\n",
      "r2 score =  0.7550255177374601\n"
     ]
    },
    {
     "data": {
      "text/plain": [
       "<seaborn.axisgrid.FacetGrid at 0x7f0e3e967ee0>"
      ]
     },
     "execution_count": 148,
     "metadata": {},
     "output_type": "execute_result"
    },
    {
     "data": {
      "image/png": "[encoded data removed]",
      "text/plain": [
       "<Figure size 360x360 with 1 Axes>"
      ]
     },
     "metadata": {
      "needs_background": "light"
     },
     "output_type": "display_data"
    }
   ],
   "source": [
    "r_squareds = list()\n",
    "r_squareds_train = list()\n",
    "MAEs = list()\n",
    "MAEs_train = list()\n",
    "start = time.time()\n",
    "for random_state in range(10):\n",
    "    # Instantiate model with 1000 decision trees\n",
    "    xgbr_graphyield = XGBRegressor(max_depth=3, n_estimators=40, gamma=0.001, \n",
    "                   learning_rate=0.111, subsample=0.775, min_child_weight=5, \n",
    "                   random_state=random_state)\n",
    "    # Train the model on training data\n",
    "    xgbr_graphyield.fit(train_new_features, train_labels);\n",
    "    # Use the forest's predict method on the test data\n",
    "    predictions = xgbr_graphyield.predict(test_new_features)\n",
    "    # Calculate the absolute errors\n",
    "    errors = abs(predictions - test_labels)\n",
    "    MAEs.append(errors)\n",
    "    # Print out the mean absolute error (mae)\n",
    "    #print('Mean Absolute Error:', round(np.mean(errors), 4), 'units.')\n",
    "\n",
    "    r_squared = r2_score(test_labels, predictions)\n",
    "    r_squareds.append (r_squared)\n",
    "    \n",
    "    pred_train = xgbr_graphyield.predict(train_new_features)\n",
    "    errors = abs(pred_train - train_labels)\n",
    "    MAEs_train.append(errors)\n",
    "    r_squared = r2_score(train_labels, pred_train)\n",
    "    r_squareds_train.append(r_squared)\n",
    "    #print('r2 score = ', r_squared)\n",
    "\n",
    "print ('Average of r_squared for test', np.mean(np.array(r_squareds)))\n",
    "print ('std of r_squared for test', np.std(np.array(r_squareds)), '\\n')\n",
    "\n",
    "print ('Average of r_squared for train', np.mean(np.array(r_squareds_train)))\n",
    "print ('std of r_squared for train', np.std(np.array(r_squareds_train)))\n",
    "# train accuracy\n",
    "pred_train = xgbr_graphyield.predict(train_new_features)\n",
    "# Calculate the absolute errors\n",
    "errors_train = abs(pred_train - train_labels)\n",
    "# Print out the mean absolute error (mae)\n",
    "print('Mean Absolute Error:', round(np.mean(errors_train), 4), 'units.')\n",
    "r_squared_train = r2_score(train_labels, pred_train)\n",
    "print('r2 score = ', r_squared_train)\n",
    "end = time.time()\n",
    "print ('time is: ', end-start)\n",
    "\n",
    "pred_test = xgbr_graphyield.predict(test_new_features)\n",
    "# Calculate the absolute errors\n",
    "errors_test = abs(pred_test - test_labels)\n",
    "# Print out the mean absolute error (mae)\n",
    "print('Mean Absolute Error for test:', round(np.mean(errors_test), 4), 'units.')\n",
    "r_squared_test = r2_score(test_labels, pred_test)\n",
    "print('r2 score = ', r_squared_test)\n",
    "\n",
    "sns.displot(r_squareds)"
   ]
  },
  {
   "cell_type": "code",
   "execution_count": 153,
   "metadata": {},
   "outputs": [
    {
     "data": {
      "text/plain": [
       "(-0.3790404523201642, 2.5011343286627914e-07)"
      ]
     },
     "execution_count": 153,
     "metadata": {},
     "output_type": "execute_result"
    },
    {
     "data": {
      "image/png": "[encoded data removed]",
      "text/plain": [
       "<Figure size 432x288 with 1 Axes>"
      ]
     },
     "metadata": {
      "needs_background": "light"
     },
     "output_type": "display_data"
    }
   ],
   "source": [
    "# the higher the pulsetime, the lower the Final current percentage\n",
    "plt.scatter(pulsetime, Final_Current_Percent_predicted)\n",
    "plt.xlabel ('pulsetime')\n",
    "plt.ylabel ('Final current percentage')\n",
    "\n",
    "pulsetime_ = pulsetime.reshape(pulsetime.shape[0], )\n",
    "\n",
    "Final_Current_Percent_predicted_ = Final_Current_Percent_predicted.reshape(\n",
    "                                   Final_Current_Percent_predicted.shape[0], )\n",
    "\n",
    "pearsonr(pulsetime_, Final_Current_Percent_predicted_)"
   ]
  },
  {
   "cell_type": "code",
   "execution_count": 154,
   "metadata": {},
   "outputs": [
    {
     "data": {
      "text/plain": [
       "(-0.18014045409055587, 0.01737944450192628)"
      ]
     },
     "execution_count": 154,
     "metadata": {},
     "output_type": "execute_result"
    },
    {
     "data": {
      "image/png": "[encoded data removed]",
      "text/plain": [
       "<Figure size 432x288 with 1 Axes>"
      ]
     },
     "metadata": {
      "needs_background": "light"
     },
     "output_type": "display_data"
    }
   ],
   "source": [
    "plt.scatter(pulsetime, Norm_I_Max_predicted)\n",
    "plt.xlabel ('pulsetime')\n",
    "plt.ylabel ('Norm_I_Max_predicted')\n",
    "\n",
    "pulsetime_ = pulsetime.reshape(pulsetime.shape[0], )\n",
    "Norm_I_Max_predicted_ = Norm_I_Max_predicted.reshape(\n",
    "                                   Norm_I_Max_predicted.shape[0], )\n",
    "\n",
    "pearsonr(pulsetime_, Norm_I_Max_predicted_)"
   ]
  },
  {
   "cell_type": "code",
   "execution_count": 156,
   "metadata": {},
   "outputs": [
    {
     "data": {
      "text/plain": [
       "(0.44476529249093155, 7.82299914963809e-10)"
      ]
     },
     "execution_count": 156,
     "metadata": {},
     "output_type": "execute_result"
    },
    {
     "data": {
      "image/png": "[encoded data removed]",
      "text/plain": [
       "<Figure size 432x288 with 1 Axes>"
      ]
     },
     "metadata": {
      "needs_background": "light"
     },
     "output_type": "display_data"
    }
   ],
   "source": [
    "# the higher the pulse time, the higher total charge\n",
    "plt.scatter(pulsetime, Norm_charge_tot_predicted)\n",
    "\n",
    "pulsetime_ = pulsetime.reshape(pulsetime.shape[0], )\n",
    "Norm_charge_tot_predicted_ = Norm_charge_tot_predicted.reshape(\n",
    "                                   Norm_charge_tot_predicted.shape[0], )\n",
    "\n",
    "pearsonr(pulsetime_, Norm_charge_tot_predicted_)"
   ]
  },
  {
   "cell_type": "code",
   "execution_count": 161,
   "metadata": {},
   "outputs": [
    {
     "name": "stdout",
     "output_type": "stream",
     "text": [
      "Variable: charge_denisty Importance: ('charge_denisty', 0.31)\n",
      "Variable: material_CB Importance: ('material_CB', 0.1)\n",
      "Variable: material_MC Importance: ('material_MC', 0.13)\n",
      "Variable: material_PA Importance: ('material_PA', 0.13)\n",
      "Variable: PulseTime Importance: ('PulseTime', 0.06)\n",
      "Variable: Pretreat_voltage Importance: ('Pretreat_voltage', 0.07)\n",
      "Variable: Atmosphere_air Importance: ('Atmosphere_air', 0.0)\n",
      "Variable: Atmosphere_arg Importance: ('Atmosphere_arg', 0.02)\n",
      "Variable: Final_Current_Percent Importance: ('Final_Current_Percent', 0.08)\n",
      "Variable: Norm_I_Max Importance: ('Norm_I_Max', 0.05)\n",
      "Variable: Norm_charge_tot Importance: ('Norm_charge_tot', 0.05)\n",
      "[0.30661127, 0.10050276, 0.12855858, 0.1292501, 0.062580876, 0.067045055, 0.0, 0.022289854, 0.078800805, 0.051090837, 0.053269725]\n"
     ]
    }
   ],
   "source": [
    "# Get numerical feature importances\n",
    "importances = list(xgbr_graphyield.feature_importances_)\n",
    "# List of tuples with variable and importance\n",
    "feature_importances = [(feature, round(importance, 2)) for feature, importance in zip(feature_list, importances)]\n",
    "# Sort the feature importances by most important first\n",
    "#feature_importances = sorted(feature_importances, key = lambda x: x[1], reverse = True)\n",
    "# Print out the feature and importances \n",
    "[print('Variable: {} Importance: {}'.format(feature, importance)) \n",
    " for (feature, importance) in zip(feature_list, feature_importances)];\n",
    "print (importances)"
   ]
  },
  {
   "cell_type": "code",
   "execution_count": 162,
   "metadata": {},
   "outputs": [
    {
     "name": "stdout",
     "output_type": "stream",
     "text": [
      "Mean Absolute Error: 0.281 units.\n"
     ]
    },
    {
     "data": {
      "text/plain": [
       "[<matplotlib.lines.Line2D at 0x7f0f14e51100>]"
      ]
     },
     "execution_count": 162,
     "metadata": {},
     "output_type": "execute_result"
    },
    {
     "name": "stderr",
     "output_type": "stream",
     "text": [
      "findfont: Font family ['Arial'] not found. Falling back to DejaVu Sans.\n"
     ]
    },
    {
     "data": {
      "image/png": "[encoded data removed]",
      "text/plain": [
       "<Figure size 432x288 with 1 Axes>"
      ]
     },
     "metadata": {
      "needs_background": "light"
     },
     "output_type": "display_data"
    }
   ],
   "source": [
    "pred_test = xgbr_graphyield.predict(test_new_features)\n",
    "errors_test= abs(pred_train - train_labels)\n",
    "print('Mean Absolute Error:', round(np.mean(errors_test), 4), 'units.')\n",
    "# Plot predictions vs actual values\n",
    "# Plot style\n",
    "fig, ax = plt.subplots(figsize=(6,4))\n",
    "ax.tick_params(direction='in', length=4, width=1.5, colors='black', grid_alpha=0, labelsize='14')\n",
    "# ax.set_xlim(20,105)\n",
    "# ax.set_ylim(20,105)\n",
    "\n",
    "# Predicted 2D/G\n",
    "plt.plot(pred_test, test_labels, \n",
    "         linestyle = 'none', marker = 'o', color='black', markersize='8')\n",
    "plt.title('Test Data', fontsize='18', fontname='Arial', fontweight='bold')\n",
    "plt.xlabel('Predicted', fontsize='18', fontname='Arial', fontweight='bold')\n",
    "plt.ylabel('Actual', fontsize='18', fontname='Arial', fontweight='bold')\n",
    "ymin, ymax = plt.ylim()\n",
    "plt.xlim(ymin, ymax)\n",
    "plt.ylim(ymin, ymax)\n",
    "# Make a red line to show perfect predictions\n",
    "x2 = np.arange(0, ymax*1.1, .1)\n",
    "y2 = np.arange(0, ymax*1.1, .1)\n",
    "plt.plot(x2,y2, linestyle='--', linewidth = '3', color='red')"
   ]
  },
  {
   "cell_type": "code",
   "execution_count": 164,
   "metadata": {},
   "outputs": [
    {
     "data": {
      "text/html": [
       "<div>\n",
       "<style scoped>\n",
       "    .dataframe tbody tr th:only-of-type {\n",
       "        vertical-align: middle;\n",
       "    }\n",
       "\n",
       "    .dataframe tbody tr th {\n",
       "        vertical-align: top;\n",
       "    }\n",
       "\n",
       "    .dataframe thead th {\n",
       "        text-align: right;\n",
       "    }\n",
       "</style>\n",
       "<table border=\"1\" class=\"dataframe\">\n",
       "  <thead>\n",
       "    <tr style=\"text-align: right;\">\n",
       "      <th></th>\n",
       "      <th>Sample</th>\n",
       "      <th>Material</th>\n",
       "      <th>Atmosphere</th>\n",
       "      <th>Mass</th>\n",
       "      <th>Tube Diam</th>\n",
       "      <th>Pretreat_voltage</th>\n",
       "      <th>Pretreat_highest</th>\n",
       "      <th>Voltage</th>\n",
       "      <th>PulseTime</th>\n",
       "      <th>Res_Volt</th>\n",
       "      <th>...</th>\n",
       "      <th>I_Final</th>\n",
       "      <th>Maxima</th>\n",
       "      <th>Graphene_Yield</th>\n",
       "      <th>TwoDtoG</th>\n",
       "      <th>DtoG</th>\n",
       "      <th>FWHM 2D</th>\n",
       "      <th>Norm_charge_tot</th>\n",
       "      <th>Norm_I_Max</th>\n",
       "      <th>charge_density</th>\n",
       "      <th>Final_Current_Percent</th>\n",
       "    </tr>\n",
       "  </thead>\n",
       "  <tbody>\n",
       "    <tr>\n",
       "      <th>0</th>\n",
       "      <td>1</td>\n",
       "      <td>CB</td>\n",
       "      <td>vac</td>\n",
       "      <td>200.0</td>\n",
       "      <td>8</td>\n",
       "      <td>60</td>\n",
       "      <td>60</td>\n",
       "      <td>235</td>\n",
       "      <td>1200</td>\n",
       "      <td>56.0</td>\n",
       "      <td>...</td>\n",
       "      <td>9.502359</td>\n",
       "      <td>3</td>\n",
       "      <td>0.857143</td>\n",
       "      <td>0.798070</td>\n",
       "      <td>0.546842</td>\n",
       "      <td>52.940275</td>\n",
       "      <td>80.159727</td>\n",
       "      <td>746.820500</td>\n",
       "      <td>112.800000</td>\n",
       "      <td>0.063619</td>\n",
       "    </tr>\n",
       "    <tr>\n",
       "      <th>1</th>\n",
       "      <td>2</td>\n",
       "      <td>CB</td>\n",
       "      <td>vac</td>\n",
       "      <td>161.9</td>\n",
       "      <td>8</td>\n",
       "      <td>150</td>\n",
       "      <td>50</td>\n",
       "      <td>120</td>\n",
       "      <td>50</td>\n",
       "      <td>98.0</td>\n",
       "      <td>...</td>\n",
       "      <td>87.808988</td>\n",
       "      <td>1</td>\n",
       "      <td>0.010101</td>\n",
       "      <td>0.458187</td>\n",
       "      <td>0.912020</td>\n",
       "      <td>0.000000</td>\n",
       "      <td>13.029621</td>\n",
       "      <td>547.293823</td>\n",
       "      <td>84.496603</td>\n",
       "      <td>0.990995</td>\n",
       "    </tr>\n",
       "    <tr>\n",
       "      <th>2</th>\n",
       "      <td>3</td>\n",
       "      <td>CB</td>\n",
       "      <td>vac</td>\n",
       "      <td>200.0</td>\n",
       "      <td>8</td>\n",
       "      <td>240</td>\n",
       "      <td>60</td>\n",
       "      <td>235</td>\n",
       "      <td>300</td>\n",
       "      <td>161.0</td>\n",
       "      <td>...</td>\n",
       "      <td>14.074358</td>\n",
       "      <td>2</td>\n",
       "      <td>0.349206</td>\n",
       "      <td>0.650986</td>\n",
       "      <td>0.746614</td>\n",
       "      <td>40.452173</td>\n",
       "      <td>35.543043</td>\n",
       "      <td>443.034350</td>\n",
       "      <td>112.800000</td>\n",
       "      <td>0.158840</td>\n",
       "    </tr>\n",
       "    <tr>\n",
       "      <th>3</th>\n",
       "      <td>4</td>\n",
       "      <td>CB</td>\n",
       "      <td>vac</td>\n",
       "      <td>200.0</td>\n",
       "      <td>8</td>\n",
       "      <td>320</td>\n",
       "      <td>80</td>\n",
       "      <td>235</td>\n",
       "      <td>900</td>\n",
       "      <td>43.0</td>\n",
       "      <td>...</td>\n",
       "      <td>10.231751</td>\n",
       "      <td>8</td>\n",
       "      <td>0.793651</td>\n",
       "      <td>0.763019</td>\n",
       "      <td>0.661025</td>\n",
       "      <td>50.596165</td>\n",
       "      <td>86.790377</td>\n",
       "      <td>513.726500</td>\n",
       "      <td>112.800000</td>\n",
       "      <td>0.099584</td>\n",
       "    </tr>\n",
       "    <tr>\n",
       "      <th>4</th>\n",
       "      <td>5</td>\n",
       "      <td>CB</td>\n",
       "      <td>air</td>\n",
       "      <td>187.0</td>\n",
       "      <td>8</td>\n",
       "      <td>60</td>\n",
       "      <td>60</td>\n",
       "      <td>145</td>\n",
       "      <td>125</td>\n",
       "      <td>104.6</td>\n",
       "      <td>...</td>\n",
       "      <td>15.189012</td>\n",
       "      <td>2</td>\n",
       "      <td>0.253968</td>\n",
       "      <td>0.646567</td>\n",
       "      <td>0.500579</td>\n",
       "      <td>40.277124</td>\n",
       "      <td>19.643746</td>\n",
       "      <td>375.748930</td>\n",
       "      <td>74.438503</td>\n",
       "      <td>0.216167</td>\n",
       "    </tr>\n",
       "    <tr>\n",
       "      <th>...</th>\n",
       "      <td>...</td>\n",
       "      <td>...</td>\n",
       "      <td>...</td>\n",
       "      <td>...</td>\n",
       "      <td>...</td>\n",
       "      <td>...</td>\n",
       "      <td>...</td>\n",
       "      <td>...</td>\n",
       "      <td>...</td>\n",
       "      <td>...</td>\n",
       "      <td>...</td>\n",
       "      <td>...</td>\n",
       "      <td>...</td>\n",
       "      <td>...</td>\n",
       "      <td>...</td>\n",
       "      <td>...</td>\n",
       "      <td>...</td>\n",
       "      <td>...</td>\n",
       "      <td>...</td>\n",
       "      <td>...</td>\n",
       "      <td>...</td>\n",
       "    </tr>\n",
       "    <tr>\n",
       "      <th>169</th>\n",
       "      <td>170</td>\n",
       "      <td>TCB</td>\n",
       "      <td>vac</td>\n",
       "      <td>360.0</td>\n",
       "      <td>8</td>\n",
       "      <td>150</td>\n",
       "      <td>60</td>\n",
       "      <td>175</td>\n",
       "      <td>220</td>\n",
       "      <td>112.0</td>\n",
       "      <td>...</td>\n",
       "      <td>20.565183</td>\n",
       "      <td>2</td>\n",
       "      <td>0.534884</td>\n",
       "      <td>0.668323</td>\n",
       "      <td>0.394274</td>\n",
       "      <td>41.922440</td>\n",
       "      <td>30.425001</td>\n",
       "      <td>289.649444</td>\n",
       "      <td>37.916667</td>\n",
       "      <td>0.197223</td>\n",
       "    </tr>\n",
       "    <tr>\n",
       "      <th>170</th>\n",
       "      <td>171</td>\n",
       "      <td>TCB</td>\n",
       "      <td>vac</td>\n",
       "      <td>321.0</td>\n",
       "      <td>8</td>\n",
       "      <td>210</td>\n",
       "      <td>70</td>\n",
       "      <td>160</td>\n",
       "      <td>430</td>\n",
       "      <td>56.0</td>\n",
       "      <td>...</td>\n",
       "      <td>20.947456</td>\n",
       "      <td>3</td>\n",
       "      <td>0.636364</td>\n",
       "      <td>0.631814</td>\n",
       "      <td>0.721581</td>\n",
       "      <td>32.193091</td>\n",
       "      <td>56.169822</td>\n",
       "      <td>676.011215</td>\n",
       "      <td>47.850467</td>\n",
       "      <td>0.096532</td>\n",
       "    </tr>\n",
       "    <tr>\n",
       "      <th>171</th>\n",
       "      <td>172</td>\n",
       "      <td>TCB</td>\n",
       "      <td>vac</td>\n",
       "      <td>345.0</td>\n",
       "      <td>8</td>\n",
       "      <td>200</td>\n",
       "      <td>100</td>\n",
       "      <td>150</td>\n",
       "      <td>530</td>\n",
       "      <td>32.0</td>\n",
       "      <td>...</td>\n",
       "      <td>9.830295</td>\n",
       "      <td>1</td>\n",
       "      <td>0.500000</td>\n",
       "      <td>0.542554</td>\n",
       "      <td>0.633724</td>\n",
       "      <td>43.684705</td>\n",
       "      <td>59.515878</td>\n",
       "      <td>413.002609</td>\n",
       "      <td>57.391304</td>\n",
       "      <td>0.068991</td>\n",
       "    </tr>\n",
       "    <tr>\n",
       "      <th>172</th>\n",
       "      <td>173</td>\n",
       "      <td>TCB</td>\n",
       "      <td>air</td>\n",
       "      <td>275.0</td>\n",
       "      <td>8</td>\n",
       "      <td>200</td>\n",
       "      <td>100</td>\n",
       "      <td>170</td>\n",
       "      <td>390</td>\n",
       "      <td>33.0</td>\n",
       "      <td>...</td>\n",
       "      <td>15.930172</td>\n",
       "      <td>3</td>\n",
       "      <td>0.471910</td>\n",
       "      <td>0.562038</td>\n",
       "      <td>0.547242</td>\n",
       "      <td>47.415184</td>\n",
       "      <td>87.632616</td>\n",
       "      <td>864.124000</td>\n",
       "      <td>37.090909</td>\n",
       "      <td>0.067037</td>\n",
       "    </tr>\n",
       "    <tr>\n",
       "      <th>173</th>\n",
       "      <td>174</td>\n",
       "      <td>TCB</td>\n",
       "      <td>air</td>\n",
       "      <td>294.0</td>\n",
       "      <td>8</td>\n",
       "      <td>210</td>\n",
       "      <td>90</td>\n",
       "      <td>180</td>\n",
       "      <td>70</td>\n",
       "      <td>129.0</td>\n",
       "      <td>...</td>\n",
       "      <td>90.030491</td>\n",
       "      <td>1</td>\n",
       "      <td>0.270588</td>\n",
       "      <td>0.481165</td>\n",
       "      <td>0.613000</td>\n",
       "      <td>52.498540</td>\n",
       "      <td>30.099149</td>\n",
       "      <td>895.361224</td>\n",
       "      <td>36.734694</td>\n",
       "      <td>0.342014</td>\n",
       "    </tr>\n",
       "  </tbody>\n",
       "</table>\n",
       "<p>174 rows × 31 columns</p>\n",
       "</div>"
      ],
      "text/plain": [
       "     Sample Material Atmosphere   Mass  Tube Diam  Pretreat_voltage  \\\n",
       "0         1       CB        vac  200.0          8                60   \n",
       "1         2       CB        vac  161.9          8               150   \n",
       "2         3       CB        vac  200.0          8               240   \n",
       "3         4       CB        vac  200.0          8               320   \n",
       "4         5       CB        air  187.0          8                60   \n",
       "..      ...      ...        ...    ...        ...               ...   \n",
       "169     170      TCB        vac  360.0          8               150   \n",
       "170     171      TCB        vac  321.0          8               210   \n",
       "171     172      TCB        vac  345.0          8               200   \n",
       "172     173      TCB        air  275.0          8               200   \n",
       "173     174      TCB        air  294.0          8               210   \n",
       "\n",
       "     Pretreat_highest  Voltage  PulseTime  Res_Volt  ...    I_Final  Maxima  \\\n",
       "0                  60      235       1200      56.0  ...   9.502359       3   \n",
       "1                  50      120         50      98.0  ...  87.808988       1   \n",
       "2                  60      235        300     161.0  ...  14.074358       2   \n",
       "3                  80      235        900      43.0  ...  10.231751       8   \n",
       "4                  60      145        125     104.6  ...  15.189012       2   \n",
       "..                ...      ...        ...       ...  ...        ...     ...   \n",
       "169                60      175        220     112.0  ...  20.565183       2   \n",
       "170                70      160        430      56.0  ...  20.947456       3   \n",
       "171               100      150        530      32.0  ...   9.830295       1   \n",
       "172               100      170        390      33.0  ...  15.930172       3   \n",
       "173                90      180         70     129.0  ...  90.030491       1   \n",
       "\n",
       "     Graphene_Yield   TwoDtoG      DtoG    FWHM 2D  Norm_charge_tot  \\\n",
       "0          0.857143  0.798070  0.546842  52.940275        80.159727   \n",
       "1          0.010101  0.458187  0.912020   0.000000        13.029621   \n",
       "2          0.349206  0.650986  0.746614  40.452173        35.543043   \n",
       "3          0.793651  0.763019  0.661025  50.596165        86.790377   \n",
       "4          0.253968  0.646567  0.500579  40.277124        19.643746   \n",
       "..              ...       ...       ...        ...              ...   \n",
       "169        0.534884  0.668323  0.394274  41.922440        30.425001   \n",
       "170        0.636364  0.631814  0.721581  32.193091        56.169822   \n",
       "171        0.500000  0.542554  0.633724  43.684705        59.515878   \n",
       "172        0.471910  0.562038  0.547242  47.415184        87.632616   \n",
       "173        0.270588  0.481165  0.613000  52.498540        30.099149   \n",
       "\n",
       "     Norm_I_Max  charge_density  Final_Current_Percent  \n",
       "0    746.820500      112.800000               0.063619  \n",
       "1    547.293823       84.496603               0.990995  \n",
       "2    443.034350      112.800000               0.158840  \n",
       "3    513.726500      112.800000               0.099584  \n",
       "4    375.748930       74.438503               0.216167  \n",
       "..          ...             ...                    ...  \n",
       "169  289.649444       37.916667               0.197223  \n",
       "170  676.011215       47.850467               0.096532  \n",
       "171  413.002609       57.391304               0.068991  \n",
       "172  864.124000       37.090909               0.067037  \n",
       "173  895.361224       36.734694               0.342014  \n",
       "\n",
       "[174 rows x 31 columns]"
      ]
     },
     "execution_count": 164,
     "metadata": {},
     "output_type": "execute_result"
    }
   ],
   "source": [
    "df"
   ]
  },
  {
   "cell_type": "code",
   "execution_count": 163,
   "metadata": {},
   "outputs": [
    {
     "ename": "NameError",
     "evalue": "name 'import_file_noOneHot' is not defined",
     "output_type": "error",
     "traceback": [
      "\u001b[0;31m---------------------------------------------------------------------------\u001b[0m",
      "\u001b[0;31mNameError\u001b[0m                                 Traceback (most recent call last)",
      "Input \u001b[0;32mIn [163]\u001b[0m, in \u001b[0;36m<cell line: 9>\u001b[0;34m()\u001b[0m\n\u001b[1;32m      3\u001b[0m \u001b[38;5;66;03m# ax.set_yticks(np.arange(.2, 2.2, .2))\u001b[39;00m\n\u001b[1;32m      4\u001b[0m \u001b[38;5;66;03m# ax.set_xticks(np.arange(0, 1200, 100))\u001b[39;00m\n\u001b[1;32m      5\u001b[0m \u001b[38;5;66;03m# ax.set_xlim(.7,3.3)\u001b[39;00m\n\u001b[1;32m      6\u001b[0m \n\u001b[1;32m      7\u001b[0m \u001b[38;5;66;03m# Import file\u001b[39;00m\n\u001b[1;32m      8\u001b[0m filename\u001b[38;5;241m=\u001b[39m\u001b[38;5;124m'\u001b[39m\u001b[38;5;124mFJH_ML_Final.csv\u001b[39m\u001b[38;5;124m'\u001b[39m\n\u001b[0;32m----> 9\u001b[0m df_test \u001b[38;5;241m=\u001b[39m \u001b[43mimport_file_noOneHot\u001b[49m(filename)\n\u001b[1;32m     10\u001b[0m \u001b[38;5;66;03m# Create normalized I by category\u001b[39;00m\n\u001b[1;32m     11\u001b[0m norm1, norm2 \u001b[38;5;241m=\u001b[39m category_normalization_theonesyoualwaysuse(df_test)\n",
      "\u001b[0;31mNameError\u001b[0m: name 'import_file_noOneHot' is not defined"
     ]
    },
    {
     "data": {
      "image/png": "[encoded data removed]",
      "text/plain": [
       "<Figure size 360x288 with 1 Axes>"
      ]
     },
     "metadata": {
      "needs_background": "light"
     },
     "output_type": "display_data"
    }
   ],
   "source": [
    "# Plot style\n",
    "fig, ax = plt.subplots(figsize=(5,4))\n",
    "# ax.set_yticks(np.arange(.2, 2.2, .2))\n",
    "# ax.set_xticks(np.arange(0, 1200, 100))\n",
    "# ax.set_xlim(.7,3.3)\n",
    "\n",
    "# Import file\n",
    "filename='FJH_ML_Final.csv'\n",
    "df_test = import_file_noOneHot(filename)\n",
    "# Create normalized I by category\n",
    "norm1, norm2 = category_normalization_theonesyoualwaysuse(df_test)\n",
    "df_test['Norm_I_Max'] = norm1\n",
    "df_test['Norm_charge_tot'] = norm2\n",
    "df_test['charge_density'] = df_test['Voltage']*df_test['Cap']/df_test['Mass']\n",
    "# df_test['test_feature'] = (df_test['Voltage']/df_test['Mass'])#*df_test['PulseTime']\n",
    "# df_test = df_test[df_test['TwoDtoG']<1.5]\n",
    "# df_test = df_test[df_test['Graphene_Yield']>20]\n",
    "\n",
    "# Cut dataframe to only the test set\n",
    "df_test = df_test.iloc[idx_test]\n",
    "df_test['y_pred'] = pred_test\n",
    "df_test['y_true'] = test_labels\n",
    "\n",
    "groups = df_test.groupby(['Material'])\n",
    "\n",
    "# Plot\n",
    "ax.tick_params(direction='in', length=4, width=1.5, colors='black', grid_alpha=0, labelsize='14')\n",
    "counter=0\n",
    "markers = ['o', 's', '^', 'v']\n",
    "colors=['blue', 'red', 'green', 'orange']\n",
    "colors2 = ['maroon', 'darkorange', 'goldenrod', 'dodgerblue']\n",
    "for name, group in groups:\n",
    "    ax.plot(group.y_pred, group.y_true, marker=markers[counter], alpha=0.9, linestyle='', ms=8, label=name)\n",
    "    counter+=1\n",
    "    # Predicted 2D/G\n",
    "# plt.title('Test Data', fontsize='18', fontname='Arial', fontweight='bold')\n",
    "ax.set_xlabel('Predicted Yield (%)', fontsize='18', fontname='Arial', fontweight='bold')\n",
    "ax.set_ylabel('Actual Yield (%)', fontsize='18', fontname='Arial', fontweight='bold')\n",
    "ymin, ymax = plt.ylim()\n",
    "ax.set_xlim(ymin, ymax)\n",
    "ax.set_ylim(ymin, ymax)\n",
    "# Make a red line to show perfect predictions\n",
    "x2 = np.arange(ymin, ymax*1.1, .01)\n",
    "y2 = np.arange(ymin, ymax*1.1, .01)\n",
    "ax.plot(x2,y2, linestyle='--', linewidth = '3', color='red')\n",
    "leg = plt.legend(frameon=\"True\", prop={'family': 'Arial'})\n",
    "ax.legend(frameon=False, ncol=2, fontsize=12, loc='upper left')\n",
    "\n",
    "# Plot\n",
    "# plt.plot(df_test['I_Max'],df_test['Graphene_Yield'], linestyle = 'none', marker = 'o', color='black', markersize='8')\n",
    "# plt.xlabel('Flash Voltage (V)', fontsize='18', fontname='Arial', fontweight='bold')\n",
    "# plt.ylabel('D/G Ratio', fontsize='18', fontname='Arial', fontweight='bold')\n",
    "\n",
    "# Save\n",
    "plt.tight_layout()\n",
    "plt.savefig('XGBPerformance_materialgroup.png', dpi=300)\n",
    "plt.show()"
   ]
  },
  {
   "cell_type": "code",
   "execution_count": 165,
   "metadata": {},
   "outputs": [
    {
     "ename": "NameError",
     "evalue": "name 'df_test' is not defined",
     "output_type": "error",
     "traceback": [
      "\u001b[0;31m---------------------------------------------------------------------------\u001b[0m",
      "\u001b[0;31mNameError\u001b[0m                                 Traceback (most recent call last)",
      "Input \u001b[0;32mIn [165]\u001b[0m, in \u001b[0;36m<cell line: 2>\u001b[0;34m()\u001b[0m\n\u001b[1;32m      1\u001b[0m \u001b[38;5;66;03m# Distribution of Graphene_yield with  CD density groups\u001b[39;00m\n\u001b[0;32m----> 2\u001b[0m cv \u001b[38;5;241m=\u001b[39m np\u001b[38;5;241m.\u001b[39marray (\u001b[43mdf_test\u001b[49m[\u001b[38;5;124m'\u001b[39m\u001b[38;5;124mcharge_density\u001b[39m\u001b[38;5;124m'\u001b[39m])\n\u001b[1;32m      3\u001b[0m Qs \u001b[38;5;241m=\u001b[39m np\u001b[38;5;241m.\u001b[39mquantile (cv, [\u001b[38;5;241m0.25\u001b[39m, \u001b[38;5;241m0.5\u001b[39m, \u001b[38;5;241m0.75\u001b[39m])\n\u001b[1;32m      5\u001b[0m cv_class \u001b[38;5;241m=\u001b[39m cv\n",
      "\u001b[0;31mNameError\u001b[0m: name 'df_test' is not defined"
     ]
    }
   ],
   "source": [
    "# Distribution of Graphene_yield with  CD density groups\n",
    "cv = np.array (df_test['charge_density'])\n",
    "Qs = np.quantile (cv, [0.25, 0.5, 0.75])\n",
    "\n",
    "cv_class = cv\n",
    "cv_class = np.where(cv <= Qs[0], 0, cv_class)\n",
    "cv_class = np.where((cv > Qs[0]) & (cv <= Qs[1]), 1, cv_class)\n",
    "cv_class = np.where((cv > Qs[1]) & (cv <= Qs[2]), 2, cv_class)\n",
    "cv_class = np.where(cv > Qs[2], 3, cv_class)\n",
    "\n",
    "# Plot style\n",
    "fig, ax = plt.subplots(figsize=(5,4))\n",
    "# ax.set_yticks(np.arange(.2, 2.2, .2))\n",
    "# ax.set_xticks(np.arange(0, 1200, 100))\n",
    "# ax.set_xlim(.7,3.3)\n",
    "df_test['cv_class'] = cv_class\n",
    "groups = df_test.groupby(['cv_class'])\n",
    "\n",
    "# Plot\n",
    "ax.tick_params(direction='in', length=4, width=1.5, colors='black', grid_alpha=0, labelsize='14')\n",
    "counter=0\n",
    "markers = ['o', 's', '^', 'v']\n",
    "colors=['blue', 'red', 'green', 'orange']\n",
    "colors2 = ['maroon', 'darkorange', 'goldenrod', 'dodgerblue']\n",
    "for name, group in groups:\n",
    "    ax.plot(group.y_pred, group.y_true, marker=markers[counter], alpha=0.9, linestyle='', ms=8, label=name)\n",
    "    counter+=1\n",
    "    # Predicted 2D/G\n",
    "# plt.title('Test Data', fontsize='18', fontname='Arial', fontweight='bold')\n",
    "ax.set_xlabel('Predicted Yield (%)', fontsize='18', fontname='Arial', fontweight='bold')\n",
    "ax.set_ylabel('Actual Yield (%)', fontsize='18', fontname='Arial', fontweight='bold')\n",
    "ymin, ymax = plt.ylim()\n",
    "ax.set_xlim(ymin, ymax)\n",
    "ax.set_ylim(ymin, ymax)\n",
    "# Make a red line to show perfect predictions\n",
    "x2 = np.arange(ymin, ymax*1.1, .01)\n",
    "y2 = np.arange(ymin, ymax*1.1, .01)\n",
    "ax.plot(x2,y2, linestyle='--', linewidth = '3', color='red')\n",
    "leg = plt.legend(frameon=\"True\", prop={'family': 'Arial'})\n",
    "ax.legend(frameon=False, ncol=2, fontsize=12, loc='upper left')\n",
    "\n",
    "# Plot\n",
    "# plt.plot(df_test['I_Max'],df_test['Graphene_Yield'], linestyle = 'none', marker = 'o', color='black', markersize='8')\n",
    "# plt.xlabel('Flash Voltage (V)', fontsize='18', fontname='Arial', fontweight='bold')\n",
    "# plt.ylabel('D/G Ratio', fontsize='18', fontname='Arial', fontweight='bold')\n",
    "\n",
    "# Save\n",
    "plt.tight_layout()\n",
    "plt.savefig('XGBPerformance_cvgroup.png', dpi=300)\n",
    "plt.show()"
   ]
  },
  {
   "cell_type": "code",
   "execution_count": 166,
   "metadata": {},
   "outputs": [
    {
     "name": "stderr",
     "output_type": "stream",
     "text": [
      "/tmp/ipykernel_788027/243424426.py:26: SettingWithCopyWarning: \n",
      "A value is trying to be set on a copy of a slice from a DataFrame.\n",
      "Try using .loc[row_indexer,col_indexer] = value instead\n",
      "\n",
      "See the caveats in the documentation: https://pandas.pydata.org/pandas-docs/stable/user_guide/indexing.html#returning-a-view-versus-a-copy\n",
      "  df_testBO['Cap'] = 60 + df_testBO['Cap']*18\n"
     ]
    }
   ],
   "source": [
    "# outside test (Need to ask Jacob the details, material, atmosphere)\n",
    "filename = 'FJH_ML_MBO_Yield4_modified.csv'\n",
    "df_testBO0 = pd.read_csv(filename, sep=\",\", encoding='ISO-8859-1', header=1)\n",
    "df_testBO = df_testBO0.loc[0:29, :]\n",
    "# Only works for test that are TCB material !!!!!!\n",
    "Material_TCB_testBO = np.array (df_testBO['Material']).reshape(-1, 1)\n",
    "Material_TCB_testBO [:] = 1\n",
    "Material_CB_testBO = np.zeros_like (Material_TCB_testBO)\n",
    "Material_CB_testBO [:] = 0\n",
    "Material_MC_testBO = np.zeros_like (Material_TCB_testBO)\n",
    "Material_PA_testBO = np.zeros_like (Material_TCB_testBO)\n",
    "material_type_testBO = np.concatenate ((Material_CB_testBO, \n",
    "                                        Material_MC_testBO, \n",
    "                                        Material_PA_testBO, \n",
    "                                        Material_TCB_testBO), axis=1)\n",
    "\n",
    "Atmosphere_air_testBO = np.array (df_testBO['Atmosphere']).reshape(-1, 1)\n",
    "Atmosphere_air_testBO [:] = 0\n",
    "Atmosphere_arg_testBO = np.zeros_like (Atmosphere_air_testBO)\n",
    "Atmosphere_vac_testBO = np.zeros_like (Atmosphere_air_testBO)\n",
    "Atmosphere_vac_testBO [:] = 1\n",
    "atmosphere_type_testBO = np.concatenate ((Atmosphere_air_testBO, \n",
    "                                          Atmosphere_arg_testBO, \n",
    "                                          Atmosphere_vac_testBO), axis=1)\n",
    "# base 60mF as base and the number in excel file of 18mF\n",
    "df_testBO['Cap'] = 60 + df_testBO['Cap']*18\n",
    "charge_density_testBO = np.array (df_testBO['Voltage']*df_testBO['Cap']/df_testBO['Mass']).reshape(-1, 1)\n",
    "pulsetime_testBO = np.array (df_testBO['PulseTime']).reshape(-1, 1)\n",
    "Pretreat_voltage_testBO = np.array (df_testBO['Pretreat_voltage']).reshape(-1, 1)\n",
    "\n",
    "# proxy prediction features\n",
    "features_testBO = np.concatenate ((charge_density_testBO,\n",
    "                                   material_type_testBO,\n",
    "                                   atmosphere_type_testBO,\n",
    "                                   pulsetime_testBO,\n",
    "                                   Pretreat_voltage_testBO), axis=1)"
   ]
  },
  {
   "cell_type": "code",
   "execution_count": 167,
   "metadata": {},
   "outputs": [],
   "source": [
    "new_features = np.concatenate ((charge_denisty,\n",
    "                                heat_power,\n",
    "                                pulsetime,\n",
    "                                material_type,\n",
    "                                atmosphere_type,\n",
    "                                Pretreat_voltage), axis=1)"
   ]
  },
  {
   "cell_type": "code",
   "execution_count": 168,
   "metadata": {},
   "outputs": [
    {
     "ename": "ValueError",
     "evalue": "Feature shape mismatch, expected: 8, got 10",
     "output_type": "error",
     "traceback": [
      "\u001b[0;31m---------------------------------------------------------------------------\u001b[0m",
      "\u001b[0;31mValueError\u001b[0m                                Traceback (most recent call last)",
      "Input \u001b[0;32mIn [168]\u001b[0m, in \u001b[0;36m<cell line: 1>\u001b[0;34m()\u001b[0m\n\u001b[0;32m----> 1\u001b[0m Final_Current_Percent_predicted_testBO \u001b[38;5;241m=\u001b[39m \u001b[43mxgbr_final_I_percent\u001b[49m\u001b[38;5;241;43m.\u001b[39;49m\u001b[43mpredict\u001b[49m\u001b[43m(\u001b[49m\u001b[43mfeatures_testBO\u001b[49m\u001b[43m)\u001b[49m\n\u001b[1;32m      2\u001b[0m Norm_I_Max_predicted_testBO \u001b[38;5;241m=\u001b[39m xgbr_norm_I_max\u001b[38;5;241m.\u001b[39mpredict(features_testBO)\n\u001b[1;32m      3\u001b[0m Norm_charge_tot_testBO \u001b[38;5;241m=\u001b[39m xgbr_norm_charge_total\u001b[38;5;241m.\u001b[39mpredict(features_testBO)\n",
      "File \u001b[0;32m~/anaconda3/envs/my-rdkit-env/lib/python3.9/site-packages/xgboost/sklearn.py:881\u001b[0m, in \u001b[0;36mXGBModel.predict\u001b[0;34m(self, X, output_margin, ntree_limit, validate_features, base_margin, iteration_range)\u001b[0m\n\u001b[1;32m    879\u001b[0m \u001b[38;5;28;01mif\u001b[39;00m \u001b[38;5;28mself\u001b[39m\u001b[38;5;241m.\u001b[39m_can_use_inplace_predict():\n\u001b[1;32m    880\u001b[0m     \u001b[38;5;28;01mtry\u001b[39;00m:\n\u001b[0;32m--> 881\u001b[0m         predts \u001b[38;5;241m=\u001b[39m \u001b[38;5;28;43mself\u001b[39;49m\u001b[38;5;241;43m.\u001b[39;49m\u001b[43mget_booster\u001b[49m\u001b[43m(\u001b[49m\u001b[43m)\u001b[49m\u001b[38;5;241;43m.\u001b[39;49m\u001b[43minplace_predict\u001b[49m\u001b[43m(\u001b[49m\n\u001b[1;32m    882\u001b[0m \u001b[43m            \u001b[49m\u001b[43mdata\u001b[49m\u001b[38;5;241;43m=\u001b[39;49m\u001b[43mX\u001b[49m\u001b[43m,\u001b[49m\n\u001b[1;32m    883\u001b[0m \u001b[43m            \u001b[49m\u001b[43miteration_range\u001b[49m\u001b[38;5;241;43m=\u001b[39;49m\u001b[43miteration_range\u001b[49m\u001b[43m,\u001b[49m\n\u001b[1;32m    884\u001b[0m \u001b[43m            \u001b[49m\u001b[43mpredict_type\u001b[49m\u001b[38;5;241;43m=\u001b[39;49m\u001b[38;5;124;43m\"\u001b[39;49m\u001b[38;5;124;43mmargin\u001b[39;49m\u001b[38;5;124;43m\"\u001b[39;49m\u001b[43m \u001b[49m\u001b[38;5;28;43;01mif\u001b[39;49;00m\u001b[43m \u001b[49m\u001b[43moutput_margin\u001b[49m\u001b[43m \u001b[49m\u001b[38;5;28;43;01melse\u001b[39;49;00m\u001b[43m \u001b[49m\u001b[38;5;124;43m\"\u001b[39;49m\u001b[38;5;124;43mvalue\u001b[39;49m\u001b[38;5;124;43m\"\u001b[39;49m\u001b[43m,\u001b[49m\n\u001b[1;32m    885\u001b[0m \u001b[43m            \u001b[49m\u001b[43mmissing\u001b[49m\u001b[38;5;241;43m=\u001b[39;49m\u001b[38;5;28;43mself\u001b[39;49m\u001b[38;5;241;43m.\u001b[39;49m\u001b[43mmissing\u001b[49m\u001b[43m,\u001b[49m\n\u001b[1;32m    886\u001b[0m \u001b[43m            \u001b[49m\u001b[43mbase_margin\u001b[49m\u001b[38;5;241;43m=\u001b[39;49m\u001b[43mbase_margin\u001b[49m\u001b[43m,\u001b[49m\n\u001b[1;32m    887\u001b[0m \u001b[43m            \u001b[49m\u001b[43mvalidate_features\u001b[49m\u001b[38;5;241;43m=\u001b[39;49m\u001b[43mvalidate_features\u001b[49m\u001b[43m,\u001b[49m\n\u001b[1;32m    888\u001b[0m \u001b[43m        \u001b[49m\u001b[43m)\u001b[49m\n\u001b[1;32m    889\u001b[0m         \u001b[38;5;28;01mif\u001b[39;00m _is_cupy_array(predts):\n\u001b[1;32m    890\u001b[0m             \u001b[38;5;28;01mimport\u001b[39;00m \u001b[38;5;21;01mcupy\u001b[39;00m     \u001b[38;5;66;03m# pylint: disable=import-error\u001b[39;00m\n",
      "File \u001b[0;32m~/anaconda3/envs/my-rdkit-env/lib/python3.9/site-packages/xgboost/core.py:2018\u001b[0m, in \u001b[0;36mBooster.inplace_predict\u001b[0;34m(self, data, iteration_range, predict_type, missing, validate_features, base_margin, strict_shape)\u001b[0m\n\u001b[1;32m   2014\u001b[0m         \u001b[38;5;28;01mraise\u001b[39;00m \u001b[38;5;167;01mTypeError\u001b[39;00m(\n\u001b[1;32m   2015\u001b[0m             \u001b[38;5;124m\"\u001b[39m\u001b[38;5;124m`shape` attribute is required when `validate_features` is True.\u001b[39m\u001b[38;5;124m\"\u001b[39m\n\u001b[1;32m   2016\u001b[0m         )\n\u001b[1;32m   2017\u001b[0m     \u001b[38;5;28;01mif\u001b[39;00m \u001b[38;5;28mlen\u001b[39m(data\u001b[38;5;241m.\u001b[39mshape) \u001b[38;5;241m!=\u001b[39m \u001b[38;5;241m1\u001b[39m \u001b[38;5;129;01mand\u001b[39;00m \u001b[38;5;28mself\u001b[39m\u001b[38;5;241m.\u001b[39mnum_features() \u001b[38;5;241m!=\u001b[39m data\u001b[38;5;241m.\u001b[39mshape[\u001b[38;5;241m1\u001b[39m]:\n\u001b[0;32m-> 2018\u001b[0m         \u001b[38;5;28;01mraise\u001b[39;00m \u001b[38;5;167;01mValueError\u001b[39;00m(\n\u001b[1;32m   2019\u001b[0m             \u001b[38;5;124mf\u001b[39m\u001b[38;5;124m\"\u001b[39m\u001b[38;5;124mFeature shape mismatch, expected: \u001b[39m\u001b[38;5;132;01m{\u001b[39;00m\u001b[38;5;28mself\u001b[39m\u001b[38;5;241m.\u001b[39mnum_features()\u001b[38;5;132;01m}\u001b[39;00m\u001b[38;5;124m, \u001b[39m\u001b[38;5;124m\"\u001b[39m\n\u001b[1;32m   2020\u001b[0m             \u001b[38;5;124mf\u001b[39m\u001b[38;5;124m\"\u001b[39m\u001b[38;5;124mgot \u001b[39m\u001b[38;5;132;01m{\u001b[39;00mdata\u001b[38;5;241m.\u001b[39mshape[\u001b[38;5;241m1\u001b[39m]\u001b[38;5;132;01m}\u001b[39;00m\u001b[38;5;124m\"\u001b[39m\n\u001b[1;32m   2021\u001b[0m         )\n\u001b[1;32m   2023\u001b[0m \u001b[38;5;28;01mfrom\u001b[39;00m \u001b[38;5;21;01m.\u001b[39;00m\u001b[38;5;21;01mdata\u001b[39;00m \u001b[38;5;28;01mimport\u001b[39;00m _is_pandas_df, _transform_pandas_df\n\u001b[1;32m   2024\u001b[0m \u001b[38;5;28;01mfrom\u001b[39;00m \u001b[38;5;21;01m.\u001b[39;00m\u001b[38;5;21;01mdata\u001b[39;00m \u001b[38;5;28;01mimport\u001b[39;00m _array_interface\n",
      "\u001b[0;31mValueError\u001b[0m: Feature shape mismatch, expected: 8, got 10"
     ]
    }
   ],
   "source": [
    "Final_Current_Percent_predicted_testBO = xgbr_final_I_percent.predict(features_testBO)\n",
    "Norm_I_Max_predicted_testBO = xgbr_norm_I_max.predict(features_testBO)\n",
    "Norm_charge_tot_testBO = xgbr_norm_charge_total.predict(features_testBO)"
   ]
  },
  {
   "cell_type": "code",
   "execution_count": null,
   "metadata": {},
   "outputs": [],
   "source": [
    "# Porxy properties, as well as process parameters\n",
    "features_testBO = np.concatenate ((charge_density_testBO,\n",
    "                                   material_type_testBO,\n",
    "                                   atmosphere_type_testBO,\n",
    "                                   pulsetime_testBO,\n",
    "                                   Pretreat_voltage_testBO,\n",
    "                                   Final_Current_Percent_predicted_testBO.reshape(-1, 1),\n",
    "                                   Norm_I_Max_predicted_testBO.reshape(-1, 1),\n",
    "                                   Norm_charge_tot_testBO.reshape(-1, 1)), axis=1)"
   ]
  },
  {
   "cell_type": "code",
   "execution_count": null,
   "metadata": {},
   "outputs": [],
   "source": [
    "graphene_yield_testBO = np.array (df_testBO['Graphene_Yield']).reshape(-1, 1)\n",
    "graphene_yield_testBO = 100*graphene_yield_testBO\n",
    "graphene_yield_testBO_predicted = xgbr_graphyield.predict (features_testBO)\n",
    "\n",
    "r2_score(graphene_yield_testBO, graphene_yield_testBO_predicted)"
   ]
  },
  {
   "cell_type": "code",
   "execution_count": null,
   "metadata": {},
   "outputs": [],
   "source": [
    "# Plot predictions vs actual values\n",
    "# Plot style\n",
    "fig, ax = plt.subplots(figsize=(6,4))\n",
    "ax.tick_params(direction='in', length=4, width=1.5, colors='black', grid_alpha=0, labelsize='14')\n",
    "# ax.set_xlim(20,105)\n",
    "# ax.set_ylim(20,105)\n",
    "\n",
    "# Predicted 2D/G\n",
    "plt.plot(graphene_yield_testBO_predicted, graphene_yield_testBO, \n",
    "         linestyle = 'none', marker = 'o', color='black', markersize='8')\n",
    "plt.title('Test Data', fontsize='18', fontname='Arial', fontweight='bold')\n",
    "plt.xlabel('Predicted', fontsize='18', fontname='Arial', fontweight='bold')\n",
    "plt.ylabel('Actual', fontsize='18', fontname='Arial', fontweight='bold')\n",
    "ymin, ymax = plt.ylim()\n",
    "plt.xlim(ymin, ymax)\n",
    "plt.ylim(ymin, ymax)\n",
    "# Make a red line to show perfect predictions\n",
    "x2 = np.arange(0, ymax*1.1, .1)\n",
    "y2 = np.arange(0, ymax*1.1, .1)\n",
    "plt.plot(x2,y2, linestyle='--', linewidth = '3', color='red')"
   ]
  },
  {
   "cell_type": "code",
   "execution_count": null,
   "metadata": {},
   "outputs": [
    {
     "name": "stdout",
     "output_type": "stream",
     "text": [
      "[CV 2/5; 2/4] START gamma=0.0001, learning_rate=0.11333333333333333, max_depth=3, min_child_weight=5, n_estimators=24, subsample=0.7\n",
      "[CV 2/5; 2/4] END gamma=0.0001, learning_rate=0.11333333333333333, max_depth=3, min_child_weight=5, n_estimators=24, subsample=0.7;, score=-321.785 total time=   8.4s\n",
      "[CV 2/5; 3/4] START gamma=0.0001, learning_rate=0.11666666666666667, max_depth=3, min_child_weight=5, n_estimators=24, subsample=0.7\n",
      "[CV 2/5; 3/4] END gamma=0.0001, learning_rate=0.11666666666666667, max_depth=3, min_child_weight=5, n_estimators=24, subsample=0.7;, score=-320.707 total time=   9.2s\n",
      "[CV 5/5; 1/4] START gamma=0.0001, learning_rate=0.11, max_depth=3, min_child_weight=5, n_estimators=24, subsample=0.7\n",
      "[CV 5/5; 1/4] END gamma=0.0001, learning_rate=0.11, max_depth=3, min_child_weight=5, n_estimators=24, subsample=0.7;, score=-304.687 total time=   9.7s\n",
      "[CV 5/5; 3/4] START gamma=0.0001, learning_rate=0.11666666666666667, max_depth=3, min_child_weight=5, n_estimators=24, subsample=0.7\n",
      "[CV 5/5; 3/4] END gamma=0.0001, learning_rate=0.11666666666666667, max_depth=3, min_child_weight=5, n_estimators=24, subsample=0.7;, score=-332.056 total time=   8.4s\n",
      "[CV 3/5; 2/4] START gamma=0.0001, learning_rate=0.11333333333333333, max_depth=3, min_child_weight=5, n_estimators=24, subsample=0.7\n",
      "[CV 3/5; 2/4] END gamma=0.0001, learning_rate=0.11333333333333333, max_depth=3, min_child_weight=5, n_estimators=24, subsample=0.7;, score=-332.496 total time=   8.6s\n",
      "[CV 3/5; 3/4] START gamma=0.0001, learning_rate=0.11666666666666667, max_depth=3, min_child_weight=5, n_estimators=24, subsample=0.7\n",
      "[CV 3/5; 3/4] END gamma=0.0001, learning_rate=0.11666666666666667, max_depth=3, min_child_weight=5, n_estimators=24, subsample=0.7;, score=-334.877 total time=   9.4s\n",
      "[CV 1/5; 2/4] START gamma=0.0001, learning_rate=0.11333333333333333, max_depth=3, min_child_weight=5, n_estimators=24, subsample=0.7\n",
      "[CV 1/5; 2/4] END gamma=0.0001, learning_rate=0.11333333333333333, max_depth=3, min_child_weight=5, n_estimators=24, subsample=0.7;, score=-348.571 total time=   9.7s\n",
      "[CV 1/5; 4/4] START gamma=0.0001, learning_rate=0.12, max_depth=3, min_child_weight=5, n_estimators=24, subsample=0.7\n",
      "[CV 1/5; 4/4] END gamma=0.0001, learning_rate=0.12, max_depth=3, min_child_weight=5, n_estimators=24, subsample=0.7;, score=-372.426 total time=   8.7s\n",
      "[CV 3/5; 1/4] START gamma=0.0001, learning_rate=0.11, max_depth=3, min_child_weight=5, n_estimators=24, subsample=0.7\n",
      "[CV 3/5; 1/4] END gamma=0.0001, learning_rate=0.11, max_depth=3, min_child_weight=5, n_estimators=24, subsample=0.7;, score=-343.809 total time=   7.7s\n",
      "[CV 1/5; 3/4] START gamma=0.0001, learning_rate=0.11666666666666667, max_depth=3, min_child_weight=5, n_estimators=24, subsample=0.7\n",
      "[CV 1/5; 3/4] END gamma=0.0001, learning_rate=0.11666666666666667, max_depth=3, min_child_weight=5, n_estimators=24, subsample=0.7;, score=-370.942 total time=   8.5s\n",
      "[CV 2/5; 4/4] START gamma=0.0001, learning_rate=0.12, max_depth=3, min_child_weight=5, n_estimators=24, subsample=0.7\n",
      "[CV 2/5; 4/4] END gamma=0.0001, learning_rate=0.12, max_depth=3, min_child_weight=5, n_estimators=24, subsample=0.7;, score=-320.639 total time=   5.6s\n",
      "[CV 2/5; 1/4] START gamma=0.0001, learning_rate=0.11, max_depth=3, min_child_weight=5, n_estimators=24, subsample=0.7\n",
      "[CV 2/5; 1/4] END gamma=0.0001, learning_rate=0.11, max_depth=3, min_child_weight=5, n_estimators=24, subsample=0.7;, score=-330.418 total time=   7.2s\n",
      "[CV 4/5; 2/4] START gamma=0.0001, learning_rate=0.11333333333333333, max_depth=3, min_child_weight=5, n_estimators=24, subsample=0.7\n",
      "[CV 4/5; 2/4] END gamma=0.0001, learning_rate=0.11333333333333333, max_depth=3, min_child_weight=5, n_estimators=24, subsample=0.7;, score=-416.504 total time=   9.6s\n",
      "[CV 3/5; 4/4] START gamma=0.0001, learning_rate=0.12, max_depth=3, min_child_weight=5, n_estimators=24, subsample=0.7\n",
      "[CV 3/5; 4/4] END gamma=0.0001, learning_rate=0.12, max_depth=3, min_child_weight=5, n_estimators=24, subsample=0.7;, score=-319.261 total time=   5.3s\n",
      "[CV 4/5; 1/4] START gamma=0.0001, learning_rate=0.11, max_depth=3, min_child_weight=5, n_estimators=24, subsample=0.7\n",
      "[CV 4/5; 1/4] END gamma=0.0001, learning_rate=0.11, max_depth=3, min_child_weight=5, n_estimators=24, subsample=0.7;, score=-411.923 total time=   7.5s\n",
      "[CV 5/5; 2/4] START gamma=0.0001, learning_rate=0.11333333333333333, max_depth=3, min_child_weight=5, n_estimators=24, subsample=0.7\n",
      "[CV 5/5; 2/4] END gamma=0.0001, learning_rate=0.11333333333333333, max_depth=3, min_child_weight=5, n_estimators=24, subsample=0.7;, score=-325.550 total time=   9.1s\n",
      "[CV 4/5; 4/4] START gamma=0.0001, learning_rate=0.12, max_depth=3, min_child_weight=5, n_estimators=24, subsample=0.7\n",
      "[CV 4/5; 4/4] END gamma=0.0001, learning_rate=0.12, max_depth=3, min_child_weight=5, n_estimators=24, subsample=0.7;, score=-417.074 total time=   5.4s\n",
      "[CV 1/5; 1/4] START gamma=0.0001, learning_rate=0.11, max_depth=3, min_child_weight=5, n_estimators=24, subsample=0.7\n",
      "[CV 1/5; 1/4] END gamma=0.0001, learning_rate=0.11, max_depth=3, min_child_weight=5, n_estimators=24, subsample=0.7;, score=-347.091 total time=   9.1s\n",
      "[CV 4/5; 3/4] START gamma=0.0001, learning_rate=0.11666666666666667, max_depth=3, min_child_weight=5, n_estimators=24, subsample=0.7\n",
      "[CV 4/5; 3/4] END gamma=0.0001, learning_rate=0.11666666666666667, max_depth=3, min_child_weight=5, n_estimators=24, subsample=0.7;, score=-428.911 total time=   8.6s\n",
      "[CV 5/5; 4/4] START gamma=0.0001, learning_rate=0.12, max_depth=3, min_child_weight=5, n_estimators=24, subsample=0.7\n",
      "[CV 5/5; 4/4] END gamma=0.0001, learning_rate=0.12, max_depth=3, min_child_weight=5, n_estimators=24, subsample=0.7;, score=-347.687 total time=   4.4s\n"
     ]
    }
   ],
   "source": [
    "# Plot pred vs. true values for test set, coloring the charge density\n",
    "groups = df_test.groupby(['Material'])\n",
    "fig, ax = plt.subplots(figsize=(6,4))\n",
    "ax.tick_params(direction='in', length=4, width=1.5, colors='black', grid_alpha=0, labelsize='14')\n",
    "\n",
    "\n",
    "for name, group in groups:\n",
    "    p = ax.scatter(group.y_pred, group.y_true, c=group.charge_density, marker='o', s=100, cmap='Blues')\n",
    "    \n",
    "cb = fig.colorbar(p, ax=ax)\n",
    "cb.set_label('Charge Density (C/g)', fontsize='18', fontname='Arial', fontweight='bold')\n",
    "cb.ax.tick_params(labelsize=14)\n",
    "\n",
    "# plt.title('Test Data', fontsize='18', fontname='Arial', fontweight='bold')\n",
    "ax.set_xlabel('Predicted Yield', fontsize='18', fontname='Arial', fontweight='bold')\n",
    "ax.set_ylabel('Actual Yield', fontsize='18', fontname='Arial', fontweight='bold')\n",
    "ymin, ymax = plt.ylim()\n",
    "ax.set_xlim(ymin, ymax)\n",
    "ax.set_ylim(ymin, ymax)\n",
    "# Make a red line to show perfect predictions\n",
    "x2 = np.arange(ymin, ymax*1.1, .01)\n",
    "y2 = np.arange(ymin, ymax*1.1, .01)\n",
    "ax.plot(x2,y2, linestyle='--', linewidth = '3', color='red')\n",
    "# ax.legend(fontsize=12)\n",
    "\n",
    "# Plot\n",
    "# plt.plot(df['I_Max'],df['Graphene_Yield'], linestyle = 'none', marker = 'o', color='black', markersize='8')\n",
    "# plt.xlabel('Flash Voltage (V)', fontsize='18', fontname='Arial', fontweight='bold')\n",
    "# plt.ylabel('D/G Ratio', fontsize='18', fontname='Arial', fontweight='bold')\n",
    "\n",
    "# Save\n",
    "plt.tight_layout()\n",
    "# plt.savefig('XGB_Regression_Performance_colorChargeDensity.png', dpi=300)\n",
    "plt.show()"
   ]
  },
  {
   "cell_type": "raw",
   "metadata": {},
   "source": [
    "# Train neural network\n",
    "from sklearn.model_selection import GridSearchCV\n",
    "gsc = GridSearchCV(\n",
    "        estimator=MLPRegressor(),\n",
    "        param_grid={'hidden_layer_sizes': [(100, 100, 100), (10,10,10), (50,50,50), (200, 200, 200)],\n",
    "          'activation': ['relu','tanh','logistic'],\n",
    "          'alpha': [0.05, 0.10, 0.12, 0.15],\n",
    "          'learning_rate': ['constant','adaptive'],\n",
    "          'solver': ['adam'],\n",
    "          'n_iter_no_change': range(3,7)\n",
    "        },\n",
    "        cv=5, scoring='neg_mean_squared_error', verbose=0, n_jobs=-1)\n",
    "grid_result = gsc.fit(train_features, train_labels)\n",
    "best_params = grid_result.best_params_\n",
    "print('hidden layer: ', best_params[\"hidden_layer_sizes\"])\n",
    "print('activation: ', best_params[\"activation\"])\n",
    "print('learning_rate: ', best_params[\"learning_rate\"])\n",
    "print('solver ', best_params[\"solver\"])\n",
    "print('alpha ', best_params[\"alpha\"])\n",
    "print('N_iter_no_change ', best_params[\"n_iter_no_change\"])"
   ]
  },
  {
   "cell_type": "raw",
   "metadata": {},
   "source": [
    "# M2 Multilayer Perceptron\n",
    "model = 'M2 MLP'\n",
    "print(model)\n",
    "def build_mlp(units = 20, optimizer = 'rmsprop'):\n",
    "    mlp = Sequential()\n",
    "    mlp.add(Dense(units = units, activation = 'relu', input_dim = features.shape[1]))\n",
    "    mlp.add(Dense(units = units, activation = 'relu', ))\n",
    "    mlp.add(Dense(units = 1))\n",
    "    mlp.compile(optimizer = optimizer, \n",
    "                loss='mean_squared_error', \n",
    "                metrics = ['mae'])\n",
    "    return mlp\n",
    "mlp = KerasRegressor(build_fn = build_mlp, verbose = 0)\n",
    "grid_param_mlp = {'units': [20, 40, 60],\n",
    "                    'batch_size': [16, 32, 64, 128],\n",
    "                    'epochs': [100, 500, 1000],\n",
    "                    'optimizer': ['rmsprop', 'adam']}\n",
    "grid_param_mlp = {'units': [20],\n",
    "                    'batch_size': [ 128],\n",
    "                    'epochs': [100],\n",
    "                    'optimizer': ['adam']}\n",
    "grid_mlp = GridSearchCV(mlp, grid_param_mlp) \n",
    "grid_mlp.fit(train_features, train_labels)\n",
    "y_pred_train_mlp = grid_mlp.predict(train_features)\n",
    "y_pred_test_mlp = grid_mlp.predict(test_features)\n",
    "#df_eval_mlp = save_evaluate_draw(y_pred_train_mlp, y_pred_test_mlp, \n",
    "#                                grid_param_mlp, grid_mlp.best_params_, \n",
    "#                                grid_mlp.best_estimator_, model)\n",
    "\n",
    "print('Doneskies')\n"
   ]
  },
  {
   "cell_type": "code",
   "execution_count": null,
   "metadata": {},
   "outputs": [],
   "source": []
  }
 ],
 "metadata": {
  "kernelspec": {
   "display_name": "Python 3 (ipykernel)",
   "language": "python",
   "name": "python3"
  },
  "language_info": {
   "codemirror_mode": {
    "name": "ipython",
    "version": 3
   },
   "file_extension": ".py",
   "mimetype": "text/x-python",
   "name": "python",
   "nbconvert_exporter": "python",
   "pygments_lexer": "ipython3",
   "version": "3.9.10"
  }
 },
 "nbformat": 4,
 "nbformat_minor": 4
}
