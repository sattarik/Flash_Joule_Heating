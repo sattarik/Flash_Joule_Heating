{
 "cells": [
  {
   "cell_type": "code",
   "execution_count": 1,
   "metadata": {},
   "outputs": [
    {
     "name": "stderr",
     "output_type": "stream",
     "text": [
      "/home/kianoosh/anaconda3/envs/my-rdkit-env/lib/python3.9/site-packages/xgboost/compat.py:36: FutureWarning: pandas.Int64Index is deprecated and will be removed from pandas in a future version. Use pandas.Index with the appropriate dtype instead.\n",
      "  from pandas import MultiIndex, Int64Index\n"
     ]
    }
   ],
   "source": [
    "from sklearn.linear_model import LogisticRegression# Import Python libaries\n",
    "%matplotlib inline\n",
    "\n",
    "# General data management\n",
    "import numpy as np\n",
    "import pandas as pd\n",
    "import random\n",
    "import matplotlib.pyplot as plt\n",
    "import seaborn as sns\n",
    "import xgboost as xgb\n",
    "from xgboost import XGBClassifier\n",
    "from sklearn import linear_model\n",
    "from sklearn.linear_model import RidgeClassifier\n",
    "from sklearn.model_selection import GridSearchCV\n",
    "from sklearn.svm import LinearSVC\n",
    "from sklearn.tree import DecisionTreeClassifier\n",
    "# import pydo\n",
    "# generate random integer values\n",
    "from random import seed\n",
    "from random import randint\n",
    "# seed random number generator\n",
    "seed(1)\n",
    "\n",
    "# Machine learning & model visualization tools\n",
    "from sklearn.model_selection import train_test_split\n",
    "from sklearn import preprocessing\n",
    "from sklearn.ensemble import RandomForestClassifier\n",
    "from sklearn.pipeline import make_pipeline\n",
    "from sklearn.model_selection import GridSearchCV\n",
    "from sklearn.metrics import accuracy_score, precision_score, recall_score, f1_score, classification_report\n",
    "from sklearn.tree import export_graphviz\n",
    "from sklearn import svm\n",
    "from sklearn.neural_network import MLPClassifier\n",
    "from sklearn.neighbors import KNeighborsClassifier\n",
    "from numpy import cov\n",
    "from scipy.stats import pearsonr\n",
    "import pydot\n",
    "from sklearn.model_selection import LeaveOneOut\n",
    "from sklearn.naive_bayes import GaussianNB\n",
    "# from sklearn.externals import joblib\n",
    "\n",
    "# Miscellaneous\n",
    "import os\n",
    "import io"
   ]
  },
  {
   "cell_type": "code",
   "execution_count": 7,
   "metadata": {},
   "outputs": [],
   "source": [
    "dropped = ['Atmosphere', 'Mass', 'Init_R', 'Fin_R', 'Voltage', 'Res_Volt', 'PulseTime_I', 'I_Mean']\n",
    "def import_file(filename):\n",
    "    # Convert to pandas dataframe & take a look\n",
    "    # filename='FJH_ML.csv'\n",
    "    df = pd.read_csv(filename, sep=\",\", encoding='ISO-8859-1', header=1)\n",
    "    # df = df.drop('Unnamed: 27', axis=1)\n",
    "    # df = df.drop('Unnamed: 28', axis=1)\n",
    "    # df = df.drop('Unnamed: 29', axis=1)\n",
    "    df = df.dropna()\n",
    "    # Convert numerical columns to float\n",
    "    interest = ['Mass', 'Pretreat_voltage', 'Pretreat_highest', 'Voltage', 'PulseTime', 'Cap', \n",
    "                'Res_Volt', 'Init_R', 'Fin_R', 'Volt_Drop', 'Res_Drop', 'Yield_Per', 'I_Max', \n",
    "                'I_Mean', 'Charge_Tot', 'PulseTime_I', 'I_Final', 'Maxima', 'Graphene_Yield', 'TwoDtoG', 'DtoG', 'FWHM 2D']\n",
    "    for i in range(0, len(interest)):\n",
    "        col = interest[i]\n",
    "        df[col] = df[col].astype(float)\n",
    "    # Fix percentages\n",
    "    df['Graphene_Yield'] = df['Graphene_Yield']*100\n",
    "    df['Yield_Per'] = df['Yield_Per']*100\n",
    "    \n",
    "    \n",
    "    \n",
    "    # Drop problematic data for this particular analysis\n",
    "    dropped_features = ['Atmosphere', 'Res_Drop',\n",
    "             'PulseTime_I', 'I_Mean', 'Maxima']\n",
    "    df = df.drop(dropped_features, axis=1)\n",
    "    \n",
    "    \n",
    "    \n",
    "    # df = df[df['Yield_Per']>50]\n",
    "    # Also drop asinine variables\n",
    "    #df = df.drop('Map File ID', axis = 1)\n",
    "    #df = df.drop('Tube Diam', axis = 1)\n",
    "    categorize_yield(df)\n",
    "    # One-hot encode the data using pandas get_dummies\n",
    "    df = pd.get_dummies(df)\n",
    "    # df = df[df['Material_CB']>0.5]\n",
    "    # Drop 1 thing\n",
    "    # df = df.drop['']\n",
    "    # Dataset is now stored in a Pandas Dataframe\n",
    "    # print(df.shape)\n",
    "    # print(df.head())\n",
    "    # print(df.isnull().sum())\n",
    "    return df\n",
    "\n",
    "def import_file_noOneHot(filename):\n",
    "# Convert to pandas dataframe & take a look\n",
    "    # filename='FJH_ML.csv'\n",
    "    df = pd.read_csv(filename, sep=\",\", encoding='ISO-8859-1', header=1)\n",
    "    # df = df.drop('Unnamed: 27', axis=1)\n",
    "    # df = df.drop('Unnamed: 28', axis=1)\n",
    "    # df = df.drop('Unnamed: 29', axis=1)\n",
    "    df = df.dropna()\n",
    "    # Convert numerical columns to float\n",
    "    interest = ['Mass', 'Pretreat_voltage', 'Pretreat_highest', 'Voltage', 'PulseTime', 'Cap', \n",
    "                'Res_Volt', 'Init_R', 'Fin_R', 'Volt_Drop', 'Res_Drop', 'Yield_Per', 'I_Max', \n",
    "                'I_Mean', 'PulseTime_I', 'I_Final', 'Maxima', 'Graphene_Yield', 'TwoDtoG', 'DtoG', 'FWHM 2D']\n",
    "    for i in range(0, len(interest)):\n",
    "        col = interest[i]\n",
    "        df[col] = df[col].astype(float)\n",
    "    # Fix percentages\n",
    "    df['Graphene_Yield'] = df['Graphene_Yield']*100\n",
    "    df['Yield_Per'] = df['Yield_Per']*100\n",
    "    # Drop problematic data for this particular analysis\n",
    "    # df = df[df['Yield_Per']>50]\n",
    "    # Also drop asinine variables\n",
    "    #df = df.drop('Map File ID', axis = 1)\n",
    "    #df = df.drop('Tube Diam', axis = 1)\n",
    "    # categorize_yield(df)\n",
    "    # One-hot encode the data using pandas get_dummies\n",
    "    # df = pd.get_dummies(df)\n",
    "    # df = df[df['Material_CB']>0.5]\n",
    "    # Drop 1 thing\n",
    "    # df = df.drop['']\n",
    "    # Dataset is now stored in a Pandas Dataframe\n",
    "    # print(df.shape)\n",
    "    # print(df.head())\n",
    "    # print(df.isnull().sum())\n",
    "    return df\n",
    "\n",
    "def categorize_yield(df):\n",
    "    yield_cat = []\n",
    "    threshold = 50\n",
    "    for i in range(0, len(df)):\n",
    "        if df['Graphene_Yield'].iloc[i] < threshold:\n",
    "            yield_cat.append(0)\n",
    "        # elif df['Graphene_Yield'].iloc[i] > 50 and df['TwoDtoG'].iloc[i] < 0.8:\n",
    "        else:\n",
    "            yield_cat.append(1)\n",
    "    print(len(df))\n",
    "    print(len(yield_cat))\n",
    "    df['Yield_Cat'] = yield_cat\n",
    "    \n",
    "def leave_one_out_proc(clf):\n",
    "    # Leave one out evaluation\n",
    "    # enumerate splits\n",
    "    y_true, y_pred = list(), list()\n",
    "    # Create leave one out procedure\n",
    "    cv = LeaveOneOut()\n",
    "    for train_ix, test_ix in cv.split(features):\n",
    "        # split data\n",
    "        train_features, test_features = features[train_ix, :], features[test_ix, :]\n",
    "        train_labels, test_labels = labels[train_ix], labels[test_ix]\n",
    "        clf.fit(train_features, train_labels)\n",
    "        # evaluate model\n",
    "        yhat = clf.predict(test_features)\n",
    "        # store\n",
    "        y_true.append(test_labels[0])\n",
    "        y_pred.append(yhat[0])\n",
    "    print('doneskies')\n",
    "    return y_true, y_pred, clf\n",
    "\n",
    "def category_normalization_theonesyoualwaysuse(df):\n",
    "    groups = df.groupby(['Material'])\n",
    "    norm_I_Max = []\n",
    "    norm_charge_tot=[]\n",
    "    for name, group in groups:\n",
    "        I_Max_array = np.asfarray(group.I_Max)\n",
    "        charge_tot_array = np.asfarray(group.Charge_Tot)\n",
    "        mean_I_Max = np.mean(I_Max_array)\n",
    "        mean_charge_tot = np.mean(charge_tot_array)\n",
    "        std_I_Max = np.std(I_Max_array)\n",
    "        std_charge_tot = np.std(charge_tot_array)\n",
    "        print(\"Mean of \", name, \"is \", mean_I_Max)\n",
    "        norm_I_Max_cat = np.divide(np.subtract(I_Max_array, mean_I_Max), std_I_Max)\n",
    "        norm_charge_tot_cat = np.divide(np.subtract(charge_tot_array, mean_charge_tot), std_charge_tot)\n",
    "        norm_I_Max = np.append(norm_I_Max, norm_I_Max_cat)\n",
    "        norm_charge_tot = np.append(norm_charge_tot, norm_charge_tot_cat)\n",
    "    return norm_I_Max, norm_charge_tot\n",
    "\n",
    "def category_normalization_mass(df):\n",
    "    groups = df.groupby(['Material'])\n",
    "    norm_array = []\n",
    "    for name, group in groups:\n",
    "        yield_array = np.asfarray(group.Mass)\n",
    "        mean_yield = np.mean(yield_array)\n",
    "        std_yield = np.std(yield_array)\n",
    "        print(\"Mean of \", name, \"is \", mean_yield)\n",
    "        norm_yield_cat = np.divide(np.subtract(yield_array, mean_yield), std_yield)\n",
    "        norm_array = np.append(norm_array, norm_yield_cat)\n",
    "    return norm_array"
   ]
  },
  {
   "cell_type": "code",
   "execution_count": 8,
   "metadata": {},
   "outputs": [
    {
     "name": "stdout",
     "output_type": "stream",
     "text": [
      "Mean of  CB is  199.5962952631579\n",
      "Mean of  MC is  548.2808046511627\n",
      "Mean of  PA is  301.9472116666666\n",
      "Mean of  TCB is  217.5159437837838\n",
      "Mean of  CB is  186.9859649122807\n",
      "Mean of  MC is  276.5790697674419\n",
      "Mean of  PA is  283.28055555555557\n",
      "Mean of  TCB is  319.81081081081084\n",
      "173\n",
      "173\n",
      "(173, 15)\n",
      "   Sample  Tube Diam  Yield  Yield_Per      I_Max  Graphene_Yield   TwoDtoG  \\\n",
      "0       1          8   77.0  38.500000  149.36410       85.714286  0.798070   \n",
      "1       2          8  147.2  90.920321   88.60687        1.010101  0.458187   \n",
      "2       3          8  168.0  84.000000   88.60687       34.920635  0.650986   \n",
      "3       4          8   54.0  27.000000  102.74530       79.365079  0.763019   \n",
      "4       5          8  128.7  68.823529   70.26505       25.396825  0.646567   \n",
      "\n",
      "       DtoG    FWHM 2D  Yield_Cat  Material_CB  Material_MC  Norm_charge_tot  \\\n",
      "0  0.546842  52.940275          1            1            0        80.159727   \n",
      "1  0.912020   0.000000          0            1            0        13.029621   \n",
      "2  0.746614  40.452173          0            1            0        35.543043   \n",
      "3  0.661025  50.596165          1            1            0        86.790377   \n",
      "4  0.500579  40.277124          0            1            0        19.643746   \n",
      "\n",
      "   Norm_I_Max  charge_density  \n",
      "0  746.820500      112.800000  \n",
      "1  547.293823       84.496603  \n",
      "2  443.034350      112.800000  \n",
      "3  513.726500      112.800000  \n",
      "4  375.748930       74.438503  \n"
     ]
    }
   ],
   "source": [
    "# Import file\n",
    "filename='FJH_ML_Final.csv'\n",
    "df1 = import_file_noOneHot(filename)\n",
    "Imax, chargetot = category_normalization_theonesyoualwaysuse(df1)\n",
    "yield_array = category_normalization_mass(df1)\n",
    "df = import_file(filename)\n",
    "# df['Norm_I_Max'] = Imax\n",
    "df['Norm_charge_tot'] = df['Charge_Tot']/(df['Mass'])*1000\n",
    "df['Norm_I_Max'] = df['I_Max']/df['Mass']*1000\n",
    "# df['Discharge_Rate'] = (df['Volt_Drop']/df['Mass'])/df['PulseTime']\n",
    "# df['norm_mass'] = yield_array\n",
    "# df['cap_energy'] = 0.5*df['Voltage']*df['Voltage']*df['Cap']/df['Mass']\n",
    "df['charge_density'] = df['Voltage']*df['Cap']/df['Mass']\n",
    "# df['RC'] = df['Init_R']*df['Cap']\n",
    "# df['test_feature'] = 1/df['Mass']\n",
    "df['Final_Current_Percent'] = df['I_Final']/df['I_Max']\n",
    "# df['discharge_per'] = df['Res_Volt']/df['Voltage']\n",
    "# df['Pretreat_CD'] = df['Pretreat_highest']*df['Cap']/df['Mass']\n",
    "# df['inv_Mass'] = 1/df['Mass']\n",
    "# df['average_res'] = (df['Init_R']+df['Fin_R'])/2\n",
    "# df['Power'] = df['I_Max']*df['I_Max']*df['average_res']/df['Mass']\n",
    "# df = df.drop('average_res', axis=1)\n",
    "# df['test_feature'] = df['Res_Volt']/df['Voltage']\n",
    "# df = df.drop('norm_mass', axis=1)\n",
    "\n",
    "# Drop stuff\n",
    "df = df.drop('Voltage', axis=1)\n",
    "df = df.drop('Res_Volt', axis=1)\n",
    "# df = df.drop('Norm_I_Max', axis=1)\n",
    "df = df.drop('Volt_Drop', axis=1)\n",
    "df = df.drop('Mass', axis=1)\n",
    "df = df.drop('Cap', axis=1)\n",
    "df = df.drop('PulseTime', axis=1)\n",
    "df = df.drop('I_Final', axis=1)\n",
    "df = df.drop('Fin_R', axis=1)\n",
    "df = df.drop('Init_R', axis=1)\n",
    "df = df.drop('Pretreat_highest', axis=1)\n",
    "df = df.drop('Pretreat_voltage', axis=1)\n",
    "df = df.drop('Material_PA', axis=1)\n",
    "df = df.drop('Material_TCB', axis=1)\n",
    "# df = df.drop('Norm_charge_tot', axis=1)\n",
    "df = df.drop('Charge_Tot', axis=1)\n",
    "df = df.drop('Final_Current_Percent', axis=1)\n",
    "# df = df.drop('charge_density', axis=1)\n",
    "# df = df.drop('average_res', axis=1)\n",
    "# df['FJH_Power'] = df['I_Max']*df['I_Max']*df['Init_R']\n",
    "# df = df[df['Graphene_Yield']>20]\n",
    "\n",
    "# Print stats\n",
    "print(df.shape)\n",
    "print(df.head())\n",
    "# print(len(df))"
   ]
  },
  {
   "cell_type": "code",
   "execution_count": 9,
   "metadata": {},
   "outputs": [
    {
     "name": "stdout",
     "output_type": "stream",
     "text": [
      "Mean of feature 1:  [8.72138728e+01 8.00000000e+00 3.29479769e-01 2.48554913e-01\n",
      " 5.97953853e+01 1.26943987e+03 9.24340497e+01]\n",
      "Standard deviation of feature 1:  [5.02320101e+01 0.00000000e+00 4.70024309e-01 4.32175159e-01\n",
      " 3.02708778e+01 7.23196082e+02 3.40399052e+01]\n",
      "9\n"
     ]
    }
   ],
   "source": [
    "# Let's start the actual ML\n",
    "# Labels are the values we want to predict\n",
    "output = 'Yield_Cat'\n",
    "labels = np.array(df[output])\n",
    "labels = np.asfarray(labels)\n",
    "\n",
    "# Remove the labels from the features\n",
    "# axis 1 refers to the columns\n",
    "# Drop all \"output\" type variables as well\n",
    "outputs = ['Yield', 'Graphene_Yield', 'TwoDtoG', 'DtoG', 'FWHM 2D', 'Yield_Per', 'I_Max', 'Yield_Cat']\n",
    "df = df.drop(outputs, axis=1)\n",
    "# df = df.drop('Yield_Cat', axis=1)\n",
    "# Saving feature names for later use\n",
    "feature_list = list(df.columns)\n",
    "# Convert to numpy array\n",
    "\n",
    "features = np.array(df)\n",
    "features = np.asfarray(features)\n",
    "# features = preprocessing.scale(features)\n",
    "# labels = preprocessing.scale(labels)\n",
    "\n",
    "# Standardize model\n",
    "# scaler = preprocessing.StandardScaler()\n",
    "# scaler = preprocessing.MinMaxScaler()\n",
    "# features = scaler.fit_transform(features)\n",
    "# Scale y values labels = scaler.fit_transform(labels.reshape(-1,1))\n",
    "# print(\"Mean of y: \", np.mean(labels))\n",
    "# print(\"Standard deviation of y: \", np.std(labels))\n",
    "print(\"Mean of feature 1: \", features.mean(axis=0))\n",
    "print(\"Standard deviation of feature 1: \", features.std(axis=0))\n",
    "\n",
    "# Split the data into training and testing sets\n",
    "rand = randint(1,50)\n",
    "print(rand)\n",
    "# Rand 9 is good\n",
    "indices = np.arange(len(features))\n",
    "train_features, test_features, train_labels, test_labels, idx1, idx2 = train_test_split(features, labels, indices, test_size = 0.2, random_state = rand)"
   ]
  },
  {
   "cell_type": "code",
   "execution_count": 12,
   "metadata": {},
   "outputs": [
    {
     "data": {
      "text/plain": [
       "array([1., 0., 0., 1., 0., 1., 0., 1., 1., 1., 1., 1., 1., 0., 1., 1., 1.,\n",
       "       1., 1., 1., 1., 1., 1., 1., 1., 1., 1., 0., 1., 1., 0., 1., 1., 1.,\n",
       "       1., 1., 1., 1., 1., 1., 1., 1., 1., 0., 1., 1., 0., 1., 0., 1., 0.,\n",
       "       1., 1., 1., 0., 1., 1., 0., 1., 0., 0., 0., 1., 0., 1., 0., 1., 0.,\n",
       "       0., 0., 0., 0., 0., 1., 1., 0., 1., 1., 1., 0., 0., 0., 1., 0., 0.,\n",
       "       0., 0., 0., 0., 0., 0., 0., 0., 0., 0., 0., 0., 0., 1., 0., 0., 0.,\n",
       "       0., 0., 0., 0., 0., 1., 0., 0., 1., 0., 0., 1., 0., 0., 0., 1., 0.,\n",
       "       0., 0., 1., 1., 1., 1., 0., 1., 1., 1., 1., 0., 0., 1., 1., 1., 0.,\n",
       "       0., 0., 0., 0., 1., 0., 0., 0., 0., 1., 0., 1., 0., 0., 0., 1., 0.,\n",
       "       1., 1., 1., 0., 1., 1., 1., 1., 0., 1., 1., 1., 1., 1., 1., 1., 1.,\n",
       "       1., 1., 0.])"
      ]
     },
     "execution_count": 12,
     "metadata": {},
     "output_type": "execute_result"
    }
   ],
   "source": [
    "labels"
   ]
  },
  {
   "cell_type": "code",
   "execution_count": 10,
   "metadata": {},
   "outputs": [
    {
     "name": "stdout",
     "output_type": "stream",
     "text": [
      "['Sample', 'Tube Diam', 'Material_CB', 'Material_MC', 'Norm_charge_tot', 'Norm_I_Max', 'charge_density']\n"
     ]
    }
   ],
   "source": [
    "print (feature_list)"
   ]
  },
  {
   "cell_type": "code",
   "execution_count": 13,
   "metadata": {},
   "outputs": [
    {
     "name": "stderr",
     "output_type": "stream",
     "text": [
      "/home/kianoosh/anaconda3/envs/my-rdkit-env/lib/python3.9/site-packages/xgboost/sklearn.py:1224: UserWarning: The use of label encoder in XGBClassifier is deprecated and will be removed in a future release. To remove this warning, do the following: 1) Pass option use_label_encoder=False when constructing XGBClassifier object; and 2) Encode your labels (y) as integers starting with 0, i.e. 0, 1, 2, ..., [num_class - 1].\n",
      "  warnings.warn(label_encoder_deprecation_msg, UserWarning)\n"
     ]
    },
    {
     "name": "stdout",
     "output_type": "stream",
     "text": [
      "[21:45:29] WARNING: ../src/learner.cc:1115: Starting in XGBoost 1.3.0, the default evaluation metric used with the objective 'binary:logistic' was changed from 'error' to 'logloss'. Explicitly set eval_metric if you'd like to restore the old behavior.\n"
     ]
    }
   ],
   "source": [
    "clf = XGBClassifier(max_depth=5, min_child_weight = 5, n_estimators = 40, learning_rate = 0.08, gamma=0.1, subsample=0.75)\n",
    "clf.fit(train_features, train_labels)\n",
    "y_pred = clf.predict(test_features)\n",
    "y_true = test_labels"
   ]
  },
  {
   "cell_type": "code",
   "execution_count": 446,
   "metadata": {},
   "outputs": [],
   "source": [
    "clf=RandomForestClassifier(max_depth=best_params[\"max_depth\"], min_samples_split=best_params['min_samples_split'])\n",
    "clf.fit(train_features, train_labels)\n",
    "y_pred = clf.predict(test_features)\n",
    "y_true = test_labels"
   ]
  },
  {
   "cell_type": "code",
   "execution_count": 456,
   "metadata": {},
   "outputs": [],
   "source": [
    "clf=DecisionTreeClassifier(max_depth=best_params[\"max_depth\"], min_samples_split=best_params['min_samples_split'])\n",
    "clf.fit(train_features, train_labels)\n",
    "y_pred = clf.predict(test_features)\n",
    "y_true = test_labels"
   ]
  },
  {
   "cell_type": "code",
   "execution_count": 428,
   "metadata": {},
   "outputs": [],
   "source": [
    "clf=LogisticRegression(solver='lbfgs', max_iter=500)\n",
    "clf.fit(train_features, train_labels)\n",
    "y_pred = clf.predict(test_features)\n",
    "y_true = test_labels"
   ]
  },
  {
   "cell_type": "code",
   "execution_count": 408,
   "metadata": {},
   "outputs": [],
   "source": [
    "clf=RidgeClassifier()\n",
    "clf.fit(train_features, train_labels)\n",
    "y_pred = clf.predict(test_features)\n",
    "y_true = test_labels"
   ]
  },
  {
   "cell_type": "code",
   "execution_count": 466,
   "metadata": {},
   "outputs": [
    {
     "name": "stderr",
     "output_type": "stream",
     "text": [
      "/Users/jacobbeckham/opt/anaconda3/lib/python3.8/site-packages/sklearn/neural_network/_multilayer_perceptron.py:582: ConvergenceWarning: Stochastic Optimizer: Maximum iterations (200) reached and the optimization hasn't converged yet.\n",
      "  warnings.warn(\n"
     ]
    }
   ],
   "source": [
    "# Neural net\n",
    "clf = MLPClassifier(hidden_layer_sizes=best_params['hidden_layer_sizes'], activation=best_params['activation'], \n",
    "                   alpha=best_params['alpha'], learning_rate = best_params['learning_rate'], solver=best_params['solver'])\n",
    "\n",
    "# Train the model on training data\n",
    "clf.fit(train_features, train_labels);\n",
    "y_pred = clf.predict(test_features)\n",
    "y_true = test_labels"
   ]
  },
  {
   "cell_type": "code",
   "execution_count": 467,
   "metadata": {},
   "outputs": [
    {
     "name": "stdout",
     "output_type": "stream",
     "text": [
      "\n",
      "===== Confusion Matrix (between subject's) =====\n",
      "[[13.  2.]\n",
      " [ 3. 17.]]\n",
      "\n",
      "===== Normalized Confusion Matrix (between subject's) =====\n",
      "[[0.86666667 0.13333333]\n",
      " [0.15       0.85      ]]\n",
      "\n",
      "===== Colormap of Normalized Confusion Matrix (between subject's) =====\n",
      "              precision    recall  f1-score   support\n",
      "\n",
      "         0.0       0.81      0.87      0.84        15\n",
      "         1.0       0.89      0.85      0.87        20\n",
      "\n",
      "    accuracy                           0.86        35\n",
      "   macro avg       0.85      0.86      0.86        35\n",
      "weighted avg       0.86      0.86      0.86        35\n",
      "\n"
     ]
    },
    {
     "data": {
      "image/png": "[encoded data removed]",
      "text/plain": [
       "<Figure size 432x288 with 2 Axes>"
      ]
     },
     "metadata": {
      "needs_background": "light"
     },
     "output_type": "display_data"
    }
   ],
   "source": [
    "# Define classifiers\n",
    "conversion_indices = {\n",
    "  'aC': 0,\n",
    "  'G': 1,\n",
    "}\n",
    "\n",
    "# Plot confusion matrix\n",
    "confusion_matrix = np.zeros((len(conversion_indices), len(conversion_indices)))\n",
    "\n",
    "for i in range(len(y_true)):\n",
    "    confusion_matrix[int(y_true[i]), int(y_pred[i])] += 1\n",
    "    \n",
    "print(\"\\n===== Confusion Matrix (between subject's) =====\")\n",
    "print(confusion_matrix)\n",
    "\n",
    "for i in range(confusion_matrix.shape[0]):\n",
    "    # print(sum(confusion_matrix[i, :]))\n",
    "    confusion_matrix[i, :] = confusion_matrix[i, :]/sum(confusion_matrix[i, :])\n",
    "    \n",
    "print(\"\\n===== Normalized Confusion Matrix (between subject's) =====\")\n",
    "print(confusion_matrix)\n",
    "\n",
    "print(\"\\n===== Colormap of Normalized Confusion Matrix (between subject's) =====\")\n",
    "# Format plot\n",
    "ax = plt.axes()\n",
    "ax.tick_params(direction='in', length=4, width=1.5, colors='black', grid_alpha=0, labelsize='16')\n",
    "imshow_kwargs = {\n",
    "    'cmap': 'Blues',\n",
    "}\n",
    "ax.set_yticks([0, 1])\n",
    "ax.set_yticklabels([])\n",
    "ax.set_xticklabels([])\n",
    "plt.imshow(confusion_matrix, **imshow_kwargs)\n",
    "# plt.xlabel('Predicted', fontname=\"Arial\", fontsize=\"20\", fontweight = \"bold\")\n",
    "# plt.ylabel('Actual', fontname=\"Arial\", fontsize=\"20\", fontweight = \"bold\")\n",
    "cb = plt.colorbar()\n",
    "cb.ax.tick_params(labelsize='16')\n",
    "# plt.show()\n",
    "\n",
    "metric = classification_report(y_true, y_pred)\n",
    "print(metric)\n",
    "\n",
    "# Format and save\n",
    "plt.tight_layout()\n",
    "# plt.savefig('ConfusionMatrixClassifier.png', dpi=300) # Change file name\n",
    "# plt.show("
   ]
  },
  {
   "cell_type": "code",
   "execution_count": 14,
   "metadata": {},
   "outputs": [
    {
     "name": "stderr",
     "output_type": "stream",
     "text": [
      "/home/kianoosh/anaconda3/envs/my-rdkit-env/lib/python3.9/site-packages/xgboost/sklearn.py:1224: UserWarning: The use of label encoder in XGBClassifier is deprecated and will be removed in a future release. To remove this warning, do the following: 1) Pass option use_label_encoder=False when constructing XGBClassifier object; and 2) Encode your labels (y) as integers starting with 0, i.e. 0, 1, 2, ..., [num_class - 1].\n",
      "  warnings.warn(label_encoder_deprecation_msg, UserWarning)\n"
     ]
    },
    {
     "name": "stdout",
     "output_type": "stream",
     "text": [
      "[10:10:48] WARNING: ../src/learner.cc:1115: Starting in XGBoost 1.3.0, the default evaluation metric used with the objective 'binary:logistic' was changed from 'error' to 'logloss'. Explicitly set eval_metric if you'd like to restore the old behavior.\n"
     ]
    },
    {
     "name": "stderr",
     "output_type": "stream",
     "text": [
      "/home/kianoosh/anaconda3/envs/my-rdkit-env/lib/python3.9/site-packages/sklearn/neural_network/_multilayer_perceptron.py:692: ConvergenceWarning: Stochastic Optimizer: Maximum iterations (200) reached and the optimization hasn't converged yet.\n",
      "  warnings.warn(\n",
      "findfont: Font family ['Arial'] not found. Falling back to DejaVu Sans.\n"
     ]
    },
    {
     "name": "stdout",
     "output_type": "stream",
     "text": [
      "No Skill: ROC AUC=0.500\n",
      "Logistic: ROC AUC=0.912\n",
      "Logistic: ROC AUC=0.863\n",
      "Logistic: ROC AUC=0.869\n",
      "Logistic: ROC AUC=0.807\n",
      "Logistic: ROC AUC=0.882\n",
      "Logistic: ROC AUC=0.804\n"
     ]
    },
    {
     "data": {
      "image/png": "[encoded data removed]",
      "text/plain": [
       "<Figure size 360x288 with 1 Axes>"
      ]
     },
     "metadata": {
      "needs_background": "light"
     },
     "output_type": "display_data"
    }
   ],
   "source": [
    "\n",
    "# roc curve and auc\n",
    "from sklearn.datasets import make_classification\n",
    "from sklearn.linear_model import LogisticRegression\n",
    "from sklearn.model_selection import train_test_split\n",
    "from sklearn.metrics import roc_curve\n",
    "from sklearn.metrics import roc_auc_score\n",
    "from matplotlib import pyplot\n",
    "\n",
    "# Affix variables\n",
    "testy=test_labels\n",
    "testX = test_features\n",
    "trainX = train_features\n",
    "trainy = train_labels\n",
    "\n",
    "# generate a no skill prediction (majority class)\n",
    "ns_probs = [0 for _ in range(len(testy))]\n",
    "# fit a model\n",
    "# model = RandomForestClassifier(max_depth=4, n_estimators=200)\n",
    "\n",
    "# Instantiate Models\n",
    "model1 = XGBClassifier(max_depth=5, min_child_weight = 5, n_estimators = 40, learning_rate = 0.08, gamma=0.1, subsample=0.75)\n",
    "model1.fit(trainX, trainy)\n",
    "\n",
    "model2 = RandomForestClassifier(max_depth=5, min_samples_split=2)\n",
    "model2.fit(trainX, trainy)\n",
    "\n",
    "model3 = DecisionTreeClassifier(max_depth=3, min_samples_split=2)\n",
    "model3.fit(trainX, trainy)\n",
    "\n",
    "model4 = LogisticRegression(solver='lbfgs')\n",
    "model4.fit(trainX, trainy)\n",
    "\n",
    "model5 = MLPClassifier(hidden_layer_sizes=(200, 200, 200), activation='logistic', \n",
    "                   alpha=0.05, learning_rate = 'constant', solver='adam')\n",
    "model5.fit(trainX, trainy)\n",
    "\n",
    "# model6 = RidgeClassifier()\n",
    "# model6.fit(trainX, trainy)\n",
    "\n",
    "model6 = GaussianNB()\n",
    "model6.fit(trainX, trainy)\n",
    "\n",
    "# predict probabilities\n",
    "lr_probs1 = model1.predict_proba(testX)\n",
    "lr_probs2 = model2.predict_proba(testX)\n",
    "lr_probs3 = model3.predict_proba(testX)\n",
    "lr_probs4 = model4.predict_proba(testX)\n",
    "lr_probs5 = model5.predict_proba(testX)\n",
    "lr_probs6 = model6.predict_proba(testX)\n",
    "\n",
    "# keep probabilities for the positive outcome only\n",
    "lr_probs1 = lr_probs1[:, 1]\n",
    "lr_probs2 = lr_probs2[:, 1]\n",
    "lr_probs3 = lr_probs3[:, 1]\n",
    "lr_probs4 = lr_probs4[:, 1]\n",
    "lr_probs5 = lr_probs5[:, 1]\n",
    "lr_probs6 = lr_probs6[:, 1]\n",
    "\n",
    "# calculate scores\n",
    "ns_auc = roc_auc_score(testy, ns_probs)\n",
    "lr_auc1 = roc_auc_score(testy, lr_probs1)\n",
    "lr_auc2 = roc_auc_score(testy, lr_probs2)\n",
    "lr_auc3 = roc_auc_score(testy, lr_probs3)\n",
    "lr_auc4 = roc_auc_score(testy, lr_probs4)\n",
    "lr_auc5 = roc_auc_score(testy, lr_probs5)\n",
    "lr_auc6 = roc_auc_score(testy, lr_probs6)\n",
    "\n",
    "# summarize scores\n",
    "print('No Skill: ROC AUC=%.3f' % (ns_auc))\n",
    "print('Logistic: ROC AUC=%.3f' % (lr_auc1))\n",
    "print('Logistic: ROC AUC=%.3f' % (lr_auc2))\n",
    "print('Logistic: ROC AUC=%.3f' % (lr_auc3))\n",
    "print('Logistic: ROC AUC=%.3f' % (lr_auc4))\n",
    "print('Logistic: ROC AUC=%.3f' % (lr_auc5))\n",
    "print('Logistic: ROC AUC=%.3f' % (lr_auc6))\n",
    "# calculate roc curves\n",
    "ns_fpr, ns_tpr, _ = roc_curve(testy, ns_probs)\n",
    "lr_fpr1, lr_tpr1, threshold = roc_curve(testy, lr_probs1)\n",
    "lr_fpr2, lr_tpr2, _ = roc_curve(testy, lr_probs2)\n",
    "lr_fpr3, lr_tpr3, _ = roc_curve(testy, lr_probs3)\n",
    "lr_fpr4, lr_tpr4, _ = roc_curve(testy, lr_probs4)\n",
    "lr_fpr5, lr_tpr5, _ = roc_curve(testy, lr_probs5)\n",
    "lr_fpr6, lr_tpr6, _ = roc_curve(testy, lr_probs6)\n",
    "\n",
    "fig, ax = plt.subplots(figsize=(5,4))\n",
    "ax.tick_params(direction='in', length=4, width=1.5, colors='black', grid_alpha=0, labelsize='16')\n",
    "ax.set_xticks([0.0, 0.2, 0.4, 0.6, 0.8, 1.0])\n",
    "\n",
    "# plot the roc curve for the model\n",
    "pyplot.plot(ns_fpr, ns_tpr, linestyle='--')\n",
    "pyplot.plot(lr_fpr1, lr_tpr1, marker='o', label='XGB-C', color='maroon')\n",
    "pyplot.plot(lr_fpr2, lr_tpr2, marker='s', label='RF-C', color='darkorange')\n",
    "pyplot.plot(lr_fpr3, lr_tpr3, marker='^', label='DT-C', color='salmon')\n",
    "pyplot.plot(lr_fpr4, lr_tpr4, marker='v', label='LogR-C', color='goldenrod')\n",
    "pyplot.plot(lr_fpr5, lr_tpr5, marker='<', label='MLP-C', color='skyblue')\n",
    "pyplot.plot(lr_fpr6, lr_tpr6, marker='>', label='GNB-C', color='dodgerblue')\n",
    "\n",
    "# axis labels\n",
    "pyplot.xlabel('False Positive Rate', fontname=\"Arial\", fontsize=\"20\", fontweight = \"bold\")\n",
    "pyplot.ylabel('True Positive Rate', fontname=\"Arial\", fontsize=\"20\", fontweight = \"bold\")\n",
    "# show the legend\n",
    "leg = plt.legend(frameon=\"True\", prop={'family': 'Arial'})\n",
    "ax.legend(frameon=False, ncol=1)\n",
    "# show the plot\n",
    "# Format and save\n",
    "plt.tight_layout()\n",
    "# plt.savefig('ROCcurves.png', dpi=300) # Change file name\n",
    "plt.show()"
   ]
  },
  {
   "cell_type": "code",
   "execution_count": 349,
   "metadata": {},
   "outputs": [
    {
     "name": "stdout",
     "output_type": "stream",
     "text": [
      "Variable: charge_density       Importance: 0.41999998688697815\n",
      "Variable: Norm_charge_tot      Importance: 0.17000000178813934\n",
      "Variable: Material_MC          Importance: 0.1599999964237213\n",
      "Variable: Final_Current_Percent Importance: 0.11999999731779099\n",
      "Variable: Norm_I_Max           Importance: 0.10000000149011612\n",
      "Variable: Material_CB          Importance: 0.019999999552965164\n"
     ]
    }
   ],
   "source": [
    "# Get numerical feature importances\n",
    "importances = list(clf.feature_importances_)\n",
    "# List of tuples with variable and importance\n",
    "feature_importances = [(feature, round(importance, 2)) for feature, importance in zip(feature_list, importances)]\n",
    "# Sort the feature importances by most important first\n",
    "feature_importances = sorted(feature_importances, key = lambda x: x[1], reverse = True)\n",
    "# Print out the feature and importances \n",
    "[print('Variable: {:20} Importance: {}'.format(*pair)) for pair in feature_importances];"
   ]
  },
  {
   "cell_type": "code",
   "execution_count": 297,
   "metadata": {},
   "outputs": [
    {
     "name": "stdout",
     "output_type": "stream",
     "text": [
      "Max Depth:  4\n",
      "N Estimators:  52\n",
      "Min Child Weight:  2\n",
      "Learning Rate:  0.11800000000000001\n",
      "Subsample:  0.75\n",
      "Gamma:  0.082\n"
     ]
    }
   ],
   "source": [
    "# Grid Search CV\n",
    "from sklearn.model_selection import GridSearchCV\n",
    "gsc = GridSearchCV(\n",
    "        estimator=XGBClassifier(),\n",
    "        param_grid={\n",
    "            'max_depth': range(3,7),\n",
    "            'n_estimators': (45,50,51,52),\n",
    "            'min_child_weight': range(2,5),\n",
    "            'learning_rate': np.linspace(0.07, 0.13, 6),\n",
    "            'subsample': np.linspace(0.7, 0.8, 5),\n",
    "            'gamma': np.linspace(0.07, 0.13, 6)\n",
    "        },\n",
    "        cv=5, scoring='neg_mean_squared_error', verbose=0, n_jobs=-1)\n",
    "grid_result = gsc.fit(train_features, train_labels)\n",
    "best_params = grid_result.best_params_\n",
    "print('Max Depth: ', best_params[\"max_depth\"])\n",
    "print('N Estimators: ', best_params[\"n_estimators\"])\n",
    "print('Min Child Weight: ', best_params[\"min_child_weight\"])\n",
    "print('Learning Rate: ', best_params[\"learning_rate\"])\n",
    "print('Subsample: ', best_params[\"subsample\"])\n",
    "print('Gamma: ', best_params[\"gamma\"])"
   ]
  },
  {
   "cell_type": "code",
   "execution_count": 460,
   "metadata": {},
   "outputs": [
    {
     "name": "stdout",
     "output_type": "stream",
     "text": [
      "hidden layer:  (200, 200, 200)\n",
      "activation:  logistic\n",
      "learning_rate:  constant\n",
      "solver  adam\n",
      "alpha  0.05\n"
     ]
    }
   ],
   "source": [
    "# Train neural network\n",
    "from sklearn.model_selection import GridSearchCV\n",
    "gsc = GridSearchCV(\n",
    "        estimator=MLPClassifier(),\n",
    "        param_grid={'hidden_layer_sizes': [(100, 100, 100), (10,10,10), (50,50,50), (200, 200, 200)],\n",
    "          'activation': ['relu','tanh','logistic'],\n",
    "          'alpha': [0.05, 0.10, 0.12, 0.15],\n",
    "          'learning_rate': ['constant','adaptive'],\n",
    "          'solver': ['adam'],\n",
    "          'n_iter_no_change': range(3,7)\n",
    "        },\n",
    "        cv=5, scoring='neg_mean_squared_error', verbose=0, n_jobs=-1)\n",
    "grid_result = gsc.fit(train_features, train_labels)\n",
    "best_params = grid_result.best_params_\n",
    "print('hidden layer: ', best_params[\"hidden_layer_sizes\"])\n",
    "print('activation: ', best_params[\"activation\"])\n",
    "print('learning_rate: ', best_params[\"learning_rate\"])\n",
    "print('solver ', best_params[\"solver\"])\n",
    "print('alpha ', best_params[\"alpha\"])"
   ]
  },
  {
   "cell_type": "code",
   "execution_count": 440,
   "metadata": {},
   "outputs": [
    {
     "name": "stdout",
     "output_type": "stream",
     "text": [
      "Max depth:  3\n",
      "Min samples split:  2\n"
     ]
    }
   ],
   "source": [
    "# Decision tree\n",
    "gsc = GridSearchCV(\n",
    "        estimator=DecisionTreeClassifier(),\n",
    "        param_grid={\n",
    "            'max_depth': range(3,7), \n",
    "            'min_samples_split': range(2,4)\n",
    "            # 'learning_rate': (0.0001, 0.001, 0.01, 0.1, 0.2), \n",
    "            # 'n_estimators': (100, 200, 300, 400, 500)\n",
    "        },\n",
    "        cv=5, scoring='neg_mean_squared_error', verbose=0, n_jobs=-1)\n",
    "grid_result = gsc.fit(train_features, train_labels)\n",
    "best_params = grid_result.best_params_\n",
    "print('Max depth: ', best_params[\"max_depth\"])\n",
    "print('Min samples split: ', best_params[\"min_samples_split\"])"
   ]
  },
  {
   "cell_type": "code",
   "execution_count": 445,
   "metadata": {},
   "outputs": [
    {
     "name": "stdout",
     "output_type": "stream",
     "text": [
      "Max depth:  5\n",
      "Min samples split:  2\n"
     ]
    }
   ],
   "source": [
    "# Decision tree\n",
    "gsc = GridSearchCV(\n",
    "        estimator=RandomForestClassifier(),\n",
    "        param_grid={\n",
    "            'max_depth': range(3,7), \n",
    "            'min_samples_split': range(2,4)\n",
    "            # 'learning_rate': (0.0001, 0.001, 0.01, 0.1, 0.2), \n",
    "            # 'n_estimators': (100, 200, 300, 400, 500)\n",
    "        },\n",
    "        cv=5, scoring='neg_mean_squared_error', verbose=0, n_jobs=-1)\n",
    "grid_result = gsc.fit(train_features, train_labels)\n",
    "best_params = grid_result.best_params_\n",
    "print('Max depth: ', best_params[\"max_depth\"])\n",
    "print('Min samples split: ', best_params[\"min_samples_split\"])"
   ]
  },
  {
   "cell_type": "code",
   "execution_count": null,
   "metadata": {},
   "outputs": [],
   "source": []
  }
 ],
 "metadata": {
  "kernelspec": {
   "display_name": "Python 3 (ipykernel)",
   "language": "python",
   "name": "python3"
  },
  "language_info": {
   "codemirror_mode": {
    "name": "ipython",
    "version": 3
   },
   "file_extension": ".py",
   "mimetype": "text/x-python",
   "name": "python",
   "nbconvert_exporter": "python",
   "pygments_lexer": "ipython3",
   "version": "3.9.10"
  }
 },
 "nbformat": 4,
 "nbformat_minor": 4
}
