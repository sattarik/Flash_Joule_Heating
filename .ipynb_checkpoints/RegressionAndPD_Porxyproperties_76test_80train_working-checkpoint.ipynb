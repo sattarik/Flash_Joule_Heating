{
 "cells": [
  {
   "cell_type": "markdown",
   "metadata": {},
   "source": [
    "### 173 samples, Final_R is missing for the following sample\n",
    "137)\tMC\tair\t204\t8\t180\t60\t180\t500\t30\t114\t0.3\tNA\t150\t0.3\t100\t0.490196078\t486.395\t57.78712883\t26.00664167\t0.467\t9.68631173\t3\t0.422680412\t0.541775715\t0.521526486\t44.36424367"
   ]
  },
  {
   "cell_type": "code",
   "execution_count": 1,
   "metadata": {},
   "outputs": [
    {
     "name": "stderr",
     "output_type": "stream",
     "text": [
      "/home/kianoosh/anaconda3/envs/my-rdkit-env/lib/python3.9/site-packages/xgboost/compat.py:36: FutureWarning: pandas.Int64Index is deprecated and will be removed from pandas in a future version. Use pandas.Index with the appropriate dtype instead.\n",
      "  from pandas import MultiIndex, Int64Index\n",
      "2022-09-07 16:22:47.145070: W tensorflow/stream_executor/platform/default/dso_loader.cc:64] Could not load dynamic library 'libcudart.so.11.0'; dlerror: libcudart.so.11.0: cannot open shared object file: No such file or directory\n",
      "2022-09-07 16:22:47.145093: I tensorflow/stream_executor/cuda/cudart_stub.cc:29] Ignore above cudart dlerror if you do not have a GPU set up on your machine.\n"
     ]
    }
   ],
   "source": [
    "# Import Python libaries\n",
    "%matplotlib inline\n",
    "\n",
    "import time as time\n",
    "# General data management\n",
    "import numpy as np\n",
    "import pandas as pd\n",
    "import random\n",
    "import matplotlib.pyplot as plt\n",
    "import seaborn as sns\n",
    "import xgboost as xgb\n",
    "from xgboost import XGBRegressor\n",
    "from sklearn import linear_model\n",
    "from sklearn import ensemble\n",
    "from xgboost import plot_tree\n",
    "from sklearn.tree import DecisionTreeRegressor\n",
    "from sklearn.model_selection import GridSearchCV\n",
    "# import pydo\n",
    "# generate random integer values\n",
    "from random import seed\n",
    "from random import randint\n",
    "# seed random number generator\n",
    "seed(1)\n",
    "\n",
    "# Machine learning & model visualization tools\n",
    "from sklearn.model_selection import train_test_split\n",
    "from sklearn import preprocessing\n",
    "from sklearn.ensemble import RandomForestRegressor\n",
    "from sklearn.pipeline import make_pipeline\n",
    "from sklearn.model_selection import GridSearchCV\n",
    "from sklearn.metrics import r2_score, mean_squared_error\n",
    "from sklearn.tree import export_graphviz\n",
    "from sklearn import svm\n",
    "from sklearn.neural_network import MLPRegressor\n",
    "from sklearn.neighbors import KNeighborsRegressor\n",
    "from numpy import cov\n",
    "from scipy.stats import pearsonr\n",
    "from scipy import ndimage, misc\n",
    "import pydot\n",
    "import math\n",
    "from sklearn.model_selection import LeaveOneOut\n",
    "from sklearn.metrics import mean_absolute_error\n",
    "# from sklearn.externals import joblib\n",
    "# Miscellaneous\n",
    "import os\n",
    "import io\n",
    "from tensorflow.keras.models import Sequential\n",
    "from tensorflow.keras.layers import Dense\n",
    "from tensorflow.keras.wrappers.scikit_learn import KerasRegressor\n",
    "from sklearn.inspection import partial_dependence, plot_partial_dependence"
   ]
  },
  {
   "cell_type": "code",
   "execution_count": 2,
   "metadata": {},
   "outputs": [],
   "source": [
    "dropped = ['Mass', 'Init_R', 'Fin_R', 'Voltage', 'Res_Volt', 'PulseTime_I', 'I_Mean']\n",
    "def import_file(filename):\n",
    "    # Convert to pandas dataframe & take a look\n",
    "    # filename='FJH_ML.csv'\n",
    "    df = pd.read_csv(filename, sep=\",\", encoding='ISO-8859-1', header=1)\n",
    "    # df = df.drop('Unnamed: 27', axis=1)\n",
    "    # df = df.drop('Unnamed: 28', axis=1)\n",
    "    # df = df.drop('Unnamed: 29', axis=1)\n",
    "    df = df.dropna()\n",
    "    # Convert numerical columns to float\n",
    "    interest = ['Mass', 'Pretreat_voltage', 'Pretreat_highest', 'Voltage', 'PulseTime', 'Cap', \n",
    "                'Res_Volt', 'Init_R', 'Fin_R', 'Volt_Drop', 'Res_Drop', 'Yield_Per', 'I_Max', \n",
    "                'I_Mean', 'Charge_Tot', 'PulseTime_I', 'I_Final', 'Maxima', 'Graphene_Yield', \n",
    "                'TwoDtoG', 'DtoG', 'FWHM 2D']\n",
    "    for i in range(0, len(interest)):\n",
    "        col = interest[i]\n",
    "        df[col] = df[col].astype(float)\n",
    "    # Fix percentages\n",
    "    df['Graphene_Yield'] = df['Graphene_Yield']*100\n",
    "    df['Yield_Per'] = df['Yield_Per']*100\n",
    "    \n",
    "    \n",
    "    \n",
    "    # Drop problematic data for this particular analysis\n",
    "    dropped_features = [ 'Res_Drop',\n",
    "             'PulseTime_I', 'I_Mean', 'Maxima']\n",
    "    df = df.drop(dropped_features, axis=1)\n",
    "    \n",
    "    \n",
    "    \n",
    "    # df = df[df['Yield_Per']>50]\n",
    "    # Also drop asinine variables\n",
    "    \n",
    "    #df = df.drop('Map File ID', axis = 1)\n",
    "    df = df.drop('Tube Diam', axis = 1)\n",
    "\n",
    "    # categorize_yield(df)\n",
    "    # One-hot encode the data using pandas get_dummies\n",
    "    df = pd.get_dummies(df)\n",
    "    # df = df[df['Material_CB']>0.5]\n",
    "    # Drop 1 thing\n",
    "    # df = df.drop['']\n",
    "    # Dataset is now stored in a Pandas Dataframe\n",
    "    # print(df.shape)\n",
    "    # print(df.head())\n",
    "    # print(df.isnull().sum())\n",
    "    return df\n",
    "\n",
    "def import_file_noOneHot(filename):\n",
    "# Convert to pandas dataframe & take a look\n",
    "    # filename='FJH_ML.csv'\n",
    "    df = pd.read_csv(filename, sep=\",\", encoding='ISO-8859-1', header=1)\n",
    "    # df = df.drop('Unnamed: 27', axis=1)\n",
    "    # df = df.drop('Unnamed: 28', axis=1)\n",
    "    # df = df.drop('Unnamed: 29', axis=1)\n",
    "    df = df.dropna()\n",
    "    # Convert numerical columns to float\n",
    "    interest = ['Mass', 'Pretreat_voltage', 'Pretreat_highest', 'Voltage', 'PulseTime', 'Cap', \n",
    "                'Res_Volt', 'Init_R', 'Fin_R', 'Volt_Drop', 'Res_Drop', 'Yield_Per', 'I_Max', \n",
    "                'I_Mean', 'PulseTime_I', 'I_Final', 'Maxima', 'Graphene_Yield', 'TwoDtoG', 'DtoG', 'FWHM 2D']\n",
    "    for i in range(0, len(interest)):\n",
    "        col = interest[i]\n",
    "        df[col] = df[col].astype(float)\n",
    "    # Fix percentages\n",
    "    df['Graphene_Yield'] = df['Graphene_Yield']*100\n",
    "    df['Yield_Per'] = df['Yield_Per']*100\n",
    "    # Drop problematic data for this particular analysis\n",
    "    # df = df[df['Yield_Per']>50]\n",
    "    # Also drop asinine variables\n",
    "    try:\n",
    "        df = df.drop('Map File ID', axis = 1)\n",
    "    except:\n",
    "        pass\n",
    "    df = df.drop('Tube Diam', axis = 1)\n",
    "    # categorize_yield(df)\n",
    "    # One-hot encode the data using pandas get_dummies\n",
    "    # df = pd.get_dummies(df)\n",
    "    # df = df[df['Material_CB']>0.5]\n",
    "    # Drop 1 thing\n",
    "    # df = df.drop['']\n",
    "    # Dataset is now stored in a Pandas Dataframe\n",
    "    # print(df.shape)\n",
    "    # print(df.head())\n",
    "    # print(df.isnull().sum())\n",
    "    return df\n",
    "\n",
    "def categorize_yield(df):\n",
    "    yield_cat = []\n",
    "    for i in range(0, len(df)):\n",
    "        if df['Graphene_Yield'][i] < 30:\n",
    "            yield_cat.append(0)\n",
    "        else:\n",
    "            yield_cat.append(1)\n",
    "    print(len(df))\n",
    "    print(len(yield_cat))\n",
    "    df['Yield_Cat'] = yield_cat\n",
    "    return df['Yield_Cat']\n",
    "    \n",
    "def leave_one_out_proc(clf):\n",
    "    # Leave one out evaluation\n",
    "    # enumerate splits\n",
    "    y_true, y_pred = list(), list()\n",
    "    # Create leave one out procedure\n",
    "    cv = LeaveOneOut()\n",
    "    for train_ix, test_ix in cv.split(features):\n",
    "        # split data\n",
    "        train_features, test_features = features[train_ix, :], features[test_ix, :]\n",
    "        train_labels, test_labels = labels[train_ix], labels[test_ix]\n",
    "        clf.fit(train_features, train_labels)\n",
    "        # evaluate model\n",
    "        yhat = clf.predict(test_features)\n",
    "        # store\n",
    "        y_true.append(test_labels[0])\n",
    "        y_pred.append(yhat[0])\n",
    "    print('doneskies')\n",
    "    return y_true, y_pred, clf\n",
    "\n",
    "def category_normalization_theonesyoualwaysuse(df):\n",
    "    groups = df.groupby(['Material'])\n",
    "    norm_I_Max = []\n",
    "    norm_charge_tot=[]\n",
    "    for name, group in groups:\n",
    "        I_Max_array = np.asfarray(group.I_Max)\n",
    "        charge_tot_array = np.asfarray(group.Charge_Tot)\n",
    "        mean_I_Max = np.mean(I_Max_array)\n",
    "        mean_charge_tot = np.mean(charge_tot_array)\n",
    "        std_I_Max = np.std(I_Max_array)\n",
    "        std_charge_tot = np.std(charge_tot_array)\n",
    "        print(\"Mean of I Max\", name, \"is \", mean_I_Max)\n",
    "        norm_I_Max_cat = np.divide(np.subtract(I_Max_array, mean_I_Max), std_I_Max)\n",
    "        norm_charge_tot_cat = np.divide(np.subtract(charge_tot_array, mean_charge_tot), std_charge_tot)\n",
    "        norm_I_Max = np.append(norm_I_Max, norm_I_Max_cat)\n",
    "        norm_charge_tot = np.append(norm_charge_tot, norm_charge_tot_cat)\n",
    "    return norm_I_Max, norm_charge_tot\n",
    "\n",
    "def category_normalization_mass(df):\n",
    "    groups = df.groupby(['Material'])\n",
    "    norm_array = []\n",
    "    for name, group in groups:\n",
    "        yield_array = np.asfarray(group.Mass)\n",
    "        mean_yield = np.mean(yield_array)\n",
    "        std_yield = np.std(yield_array)\n",
    "        print(\"Mean of \", name, \"is \", mean_yield)\n",
    "        norm_yield_cat = np.divide(np.subtract(yield_array, mean_yield), std_yield)\n",
    "        norm_array = np.append(norm_array, norm_yield_cat)\n",
    "    return norm_array"
   ]
  },
  {
   "cell_type": "code",
   "execution_count": 6,
   "metadata": {},
   "outputs": [
    {
     "name": "stdout",
     "output_type": "stream",
     "text": [
      "Mean of I Max CB is  199.5962952631579\n",
      "Mean of I Max MC is  548.2808046511627\n",
      "Mean of I Max PA is  301.9472116666666\n",
      "Mean of I Max TCB is  217.5159437837838\n"
     ]
    },
    {
     "data": {
      "image/png": "[encoded data removed]",
      "text/plain": [
       "<Figure size 360x288 with 1 Axes>"
      ]
     },
     "metadata": {
      "needs_background": "light"
     },
     "output_type": "display_data"
    }
   ],
   "source": [
    "# Plot charge density (CD) for different materials \n",
    "fig, ax = plt.subplots(figsize=(5,4))\n",
    "# Import file\n",
    "filename='FJH_ML_Final.csv'\n",
    "df_nothotenc = import_file_noOneHot(filename)\n",
    "# Create normalized I by category\n",
    "norm1, norm2 = category_normalization_theonesyoualwaysuse(df_nothotenc)\n",
    "df_nothotenc['Norm_I_Max'] = norm1\n",
    "df_nothotenc['Norm_charge_tot'] = norm2\n",
    "df_nothotenc['charge_density'] = df_nothotenc['Voltage']*df_nothotenc['Cap']/df_nothotenc['Mass']\n",
    "\n",
    "# df_nothotenc['test_feature'] = (df_nothotenc['Voltage']/df_nothotenc['Mass'])#*df_nothotenc['PulseTime']\n",
    "# df_nothotenc = df_nothotenc[df_nothotenc['TwoDtoG']<1.5]\n",
    "# df_nothotenc = df_nothotenc[df_nothotenc['Graphene_Yield']>20]\n",
    "\n",
    "groups = df_nothotenc.groupby(['Material'])\n",
    "\n",
    "df_nothotenc['ID'] = list(range(1, df_nothotenc['charge_density'].shape[0]+1))\n",
    "# Plot\n",
    "ax.tick_params(direction='in', length=4, width=1.5, colors='black', grid_alpha=0, labelsize='14')\n",
    "counter=0\n",
    "markers = ['o', 's', '^', 'v']\n",
    "colors=['blue', 'red', 'green', 'orange']\n",
    "colors2 = ['maroon', 'darkorange', 'goldenrod', 'dodgerblue']\n",
    "for name, group in groups:\n",
    "    ax.plot(group.ID, group.charge_density, marker=markers[counter], alpha=0.9, linestyle='', ms=8, label=name)\n",
    "    counter+=1\n",
    "    # Predicted 2D/G\n",
    "# plt.title('Test Data', fontsize='18', fontname='Arial', fontweight='bold')\n",
    "ax.set_xlabel('ID', fontsize='18', fontname='Arial', fontweight='bold')\n",
    "ax.set_ylabel('Charge Density (CD)', fontsize='18', fontname='Time', fontweight='bold')\n",
    "ymin, ymax = plt.ylim()\n",
    "xmin, xmax = plt.xlim()\n",
    "ax.set_xlim(xmin, xmax)\n",
    "ax.set_ylim(ymin, ymax)\n",
    "# Make a red line to show perfect predictions\n",
    "x2 = np.arange(ymin, ymax*1.1, .01)\n",
    "y2 = np.arange(ymin, ymax*1.1, .01)\n",
    "ax.plot(x2,y2, linestyle='--', linewidth = '3', color='red')\n",
    "leg = plt.legend(frameon=\"True\", prop={'family': 'Arial'})\n",
    "ax.legend(frameon=False, ncol=2, fontsize=12, loc='upper right')\n",
    "\n",
    "# Plot\n",
    "# plt.plot(df_nothotenc['I_Max'],df_nothotenc['Graphene_Yield'], linestyle = 'none', marker = 'o', color='black', markersize='8')\n",
    "# plt.xlabel('Flash Voltage (V)', fontsize='18', fontname='Arial', fontweight='bold')\n",
    "# plt.ylabel('D/G Ratio', fontsize='18', fontname='Arial', fontweight='bold')\n",
    "# Save\n",
    "plt.tight_layout()\n",
    "plt.savefig('cvDist_material.png', dpi=300)\n",
    "plt.show()"
   ]
  },
  {
   "cell_type": "code",
   "execution_count": 7,
   "metadata": {},
   "outputs": [
    {
     "name": "stdout",
     "output_type": "stream",
     "text": [
      "Mean of I Max CB is  199.5962952631579\n",
      "Mean of I Max MC is  548.2808046511627\n",
      "Mean of I Max PA is  301.9472116666666\n",
      "Mean of I Max TCB is  217.5159437837838\n",
      "Mean of  CB is  186.9859649122807\n",
      "Mean of  MC is  276.5790697674419\n",
      "Mean of  PA is  283.28055555555557\n",
      "Mean of  TCB is  319.81081081081084\n",
      "(173, 32)\n",
      "   Sample   Mass  Pretreat_voltage  Pretreat_highest  Voltage  PulseTime  \\\n",
      "0       1  200.0              60.0              60.0    235.0     1200.0   \n",
      "1       2  161.9             150.0              50.0    120.0       50.0   \n",
      "2       3  200.0             240.0              60.0    235.0      300.0   \n",
      "3       4  200.0             320.0              80.0    235.0      900.0   \n",
      "4       5  187.0              60.0              60.0    145.0      125.0   \n",
      "\n",
      "   Res_Volt    Cap  Init_R  Fin_R  ...  Material_PA  Material_TCB  \\\n",
      "0      56.0   96.0     1.6    0.4  ...            0             0   \n",
      "1      98.0  114.0     1.6    1.0  ...            0             0   \n",
      "2     161.0   96.0     1.7    0.3  ...            0             0   \n",
      "3      43.0   96.0     1.8    0.5  ...            0             0   \n",
      "4     104.6   96.0     1.4    0.8  ...            0             0   \n",
      "\n",
      "   Atmosphere_air  Atmosphere_arg  Atmosphere_vac  Norm_charge_tot  \\\n",
      "0               0               0               1        80.159727   \n",
      "1               0               0               1        13.029621   \n",
      "2               0               0               1        35.543043   \n",
      "3               0               0               1        86.790377   \n",
      "4               1               0               0        19.643746   \n",
      "\n",
      "   Norm_I_Max  charge_density  Final_Current_Percent  heat_power  \n",
      "0  746.820500      112.800000               0.063619  414.187500  \n",
      "1  547.293823       84.496603               0.990995    4.500000  \n",
      "2  443.034350      112.800000               0.158840   97.455882  \n",
      "3  513.726500      112.800000               0.099584  276.125000  \n",
      "4  375.748930       74.438503               0.216167   18.772321  \n",
      "\n",
      "[5 rows x 32 columns]\n",
      "43\n"
     ]
    }
   ],
   "source": [
    "# Import file for ML model\n",
    "filename='FJH_ML_Final.csv'\n",
    "df1 = import_file_noOneHot(filename)\n",
    "Imax, chargetot = category_normalization_theonesyoualwaysuse(df1)\n",
    "yield_array = category_normalization_mass(df1)\n",
    "df = import_file(filename)\n",
    "# df['Norm_I_Max'] = Imax\n",
    "df['Norm_charge_tot'] = df['Charge_Tot']/(df['Mass'])*1000\n",
    "df['Norm_I_Max'] = df['I_Max']/df['Mass']*1000\n",
    "# df['Discharge_Rate'] = (df['Volt_Drop']/df['Mass'])/df['PulseTime']\n",
    "# df['norm_mass'] = yield_array\n",
    "# df['cap_energy'] = 0.5*df['Voltage']*df['Voltage']*df['Cap']/df['Mass']\n",
    "df['charge_density'] = df['Voltage']*df['Cap']/df['Mass']\n",
    "# df['charge_density2'] = df['Volt_Drop']*df['Cap']/df['Mass']\n",
    "# df['RC'] = df['Init_R']*df['Cap']\n",
    "# df['test_feature'] = 1/df['Mass']\n",
    "df['Final_Current_Percent'] = df['I_Final']/df['I_Max']\n",
    "# convert it to Mega Joule 1e-5\n",
    "df['heat_power'] = df['Voltage']*df['Voltage']/df['Init_R']*df['PulseTime']*(1e-5)\n",
    "# df['discharge_per'] = df['Res_Volt']/df['Voltage']\n",
    "# df['Pretreat_CD'] = df['Pretreat_highest']*df['Cap']/df['Mass']\n",
    "# df['inv_Mass'] = 1/df['Mass']\n",
    "#df['average_res'] = (df['Init_R']+df['Fin_R'])/2\n",
    "#df['Power'] = df['I_Max']*df['I_Max']*df['average_res']/df['Mass']\n",
    "# df = df.drop('average_res', axis=1)\n",
    "# df['test_feature'] = df['Res_Volt']/df['Voltage']\n",
    "# df = df.drop('norm_mass', axis=1)\n",
    "# Drop stuff\n",
    "#df = df.drop('Voltage', axis=1)\n",
    "#df = df.drop('Res_Volt', axis=1)\n",
    "# df = df.drop('Norm_I_Max', axis=1)\n",
    "#df = df.drop('Volt_Drop', axis=1)\n",
    "#df = df.drop('Mass', axis=1)\n",
    "#df = df.drop('Cap', axis=1)\n",
    "#df = df.drop('PulseTime', axis=1)\n",
    "#df = df.drop('I_Final', axis=1)\n",
    "#df = df.drop('Fin_R', axis=1)\n",
    "#df = df.drop('Init_R', axis=1)\n",
    "#df = df.drop('Pretreat_highest', axis=1)\n",
    "#df = df.drop('Pretreat_voltage', axis=1)\n",
    "\n",
    "# Why he droped Material_PA and Material_TCB?\n",
    "#df = df.drop('Material_PA', axis=1)\n",
    "#df = df.drop('Material_TCB', axis=1)\n",
    "\n",
    "\n",
    "# df = df.drop('Norm_charge_tot', axis=1)\n",
    "#df = df.drop('Charge_Tot', axis=1)\n",
    "# df = df.drop('Final_Current_Percent', axis=1)\n",
    "# df = df.drop('charge_density', axis=1)\n",
    "# df = df.drop('average_res', axis=1)\"\"\n",
    "#df['FJH_Power'] = df['I_Max']*df['I_Max']*df['Init_R']\n",
    "# df = df[df['Graphene_Yield']>20]\n",
    "#categorize_yield(df)\n",
    "# Print stats\n",
    "print(df.shape)\n",
    "print(df.head())\n",
    "# print(len(df))\n",
    "print(sum(df['Material_MC']))"
   ]
  },
  {
   "cell_type": "code",
   "execution_count": 8,
   "metadata": {},
   "outputs": [
    {
     "data": {
      "text/plain": [
       "0      179.0\n",
       "1       22.0\n",
       "2       74.0\n",
       "3      192.0\n",
       "4       40.4\n",
       "       ...  \n",
       "169    131.4\n",
       "170    139.9\n",
       "171    180.8\n",
       "172    106.7\n",
       "173    106.0\n",
       "Name: Volt_Drop, Length: 173, dtype: float64"
      ]
     },
     "execution_count": 8,
     "metadata": {},
     "output_type": "execute_result"
    }
   ],
   "source": [
    "df['Volt_Drop']"
   ]
  },
  {
   "cell_type": "code",
   "execution_count": 12,
   "metadata": {},
   "outputs": [
    {
     "name": "stdout",
     "output_type": "stream",
     "text": [
      "charge density for group CB is 186.9859649122807\n",
      "charge density for group MC is 276.5790697674419\n",
      "charge density for group PA is 283.28055555555557\n",
      "charge density for group TCB is 319.81081081081084\n"
     ]
    },
    {
     "data": {
      "image/png": "[encoded data removed]",
      "text/plain": [
       "<Figure size 360x288 with 1 Axes>"
      ]
     },
     "metadata": {
      "needs_background": "light"
     },
     "output_type": "display_data"
    }
   ],
   "source": [
    "df_currenttime = df\n",
    "df_currenttime ['materialgroup'] = df_nothotenc['Material']\n",
    "df_currenttime ['ID'] = list(range(1, df_currenttime['charge_density'].shape[0]+1))\n",
    "df_currenttime ['I_VdR'] = df['Voltage']/df['Init_R']\n",
    "\n",
    "groups = df_currenttime.groupby(['materialgroup']) \n",
    " \n",
    "for name, group in groups:\n",
    "    print ('charge density for group {} is {}'.\n",
    "           format(name,  np.mean (np.array (group.Mass))))\n",
    "# Plot\n",
    "fig, ax = plt.subplots(figsize=(5,4))\n",
    "ax.tick_params(direction='in', length=4, width=1.5, colors='black', grid_alpha=0, labelsize='14')\n",
    "counter=0\n",
    "markers = ['o', 's', '^', 'v']\n",
    "colors=['blue', 'red', 'green', 'orange']\n",
    "colors2 = ['maroon', 'darkorange', 'goldenrod', 'dodgerblue']\n",
    "\n",
    "for name, group in groups:\n",
    "    ax.plot(group.I_Max, group.Graphene_Yield, \n",
    "            marker=markers[counter], alpha=0.9, linestyle='', ms=8, label=name)\n",
    "    counter+=1\n",
    "    # Predicted 2D/G\n",
    "# plt.title('Test Data', fontsize='18', fontname='Arial', fontweight='bold')\n",
    "ax.set_xlabel('I_Max', fontsize='18', fontname='Arial', fontweight='bold')\n",
    "ax.set_ylabel('Graphene_Yield', fontsize='18', fontname='Arial', fontweight='bold')\n",
    "\n",
    "leg = plt.legend(frameon=\"True\", prop={'family': 'Arial'})\n",
    "\n",
    "\n",
    "ymin, ymax = plt.ylim()\n",
    "xmin, xmax = plt.xlim()\n",
    "ax.set_xlim(0.8*xmin, 1.2*xmax)\n",
    "ax.set_ylim(ymin, 1.3*ymax)\n",
    "\n",
    "ax.legend(frameon=False, ncol=2, fontsize=12, loc='upper right')\n",
    "plt.savefig('Imax_graphyield', dpi=300)"
   ]
  },
  {
   "cell_type": "code",
   "execution_count": 13,
   "metadata": {},
   "outputs": [
    {
     "data": {
      "text/plain": [
       "0      38.500000\n",
       "1      90.920321\n",
       "2      84.000000\n",
       "3      27.000000\n",
       "4      68.823529\n",
       "         ...    \n",
       "169    58.908046\n",
       "170    63.870968\n",
       "171    36.326531\n",
       "172    65.094340\n",
       "173    31.152648\n",
       "Name: Yield_Per, Length: 173, dtype: float64"
      ]
     },
     "execution_count": 13,
     "metadata": {},
     "output_type": "execute_result"
    }
   ],
   "source": [
    "df_currenttime['Yield_Per']"
   ]
  },
  {
   "cell_type": "code",
   "execution_count": 33,
   "metadata": {},
   "outputs": [
    {
     "name": "stdout",
     "output_type": "stream",
     "text": [
      "charge density for group CB is 186.9859649122807\n",
      "charge density for group MC is 276.5790697674419\n",
      "charge density for group PA is 283.28055555555557\n",
      "charge density for group TCB is 319.81081081081084\n"
     ]
    },
    {
     "data": {
      "image/png": "[encoded data removed]",
      "text/plain": [
       "<Figure size 360x288 with 1 Axes>"
      ]
     },
     "metadata": {
      "needs_background": "light"
     },
     "output_type": "display_data"
    }
   ],
   "source": [
    "for name, group in groups:\n",
    "    print ('charge density for group {} is {}'.\n",
    "           format(name,  np.mean (np.array (group.Mass))))\n",
    "# Plot\n",
    "fig, ax = plt.subplots(figsize=(5,4))\n",
    "ax.tick_params(direction='in', length=4, width=1.5, colors='black', grid_alpha=0, labelsize='14')\n",
    "counter=0\n",
    "markers = ['o', 's', '^', 'v']\n",
    "colors=['blue', 'red', 'green', 'orange']\n",
    "colors2 = ['maroon', 'darkorange', 'goldenrod', 'dodgerblue']\n",
    "\n",
    "for name, group in groups:\n",
    "    ax.plot(group.Charge_Tot, group.Graphene_Yield, \n",
    "            marker=markers[counter], alpha=0.9, linestyle='', ms=8, label=name)\n",
    "    counter+=1\n",
    "    # Predicted 2D/G\n",
    "# plt.title('Test Data', fontsize='18', fontname='Arial', fontweight='bold')\n",
    "ax.set_xlabel('Charge_Tot', fontsize='18', fontname='Arial', fontweight='bold')\n",
    "ax.set_ylabel('Graphene_Yield', fontsize='18', fontname='Arial', fontweight='bold')\n",
    "\n",
    "leg = plt.legend(frameon=\"True\", prop={'family': 'Arial'})\n",
    "\n",
    "\n",
    "ymin, ymax = plt.ylim()\n",
    "xmin, xmax = plt.xlim()\n",
    "#ax.set_xlim(0.8*xmin, 1.2*xmax)\n",
    "#ax.set_ylim(ymin, 1.3*ymax)\n",
    "\n",
    "ax.legend(frameon=True, ncol=1, fontsize=12, loc='upper right')\n",
    "plt.savefig('TotCharge_graphyield', dpi=300)"
   ]
  },
  {
   "cell_type": "code",
   "execution_count": 30,
   "metadata": {},
   "outputs": [
    {
     "name": "stdout",
     "output_type": "stream",
     "text": [
      "charge density for group CB is 186.9859649122807\n",
      "charge density for group MC is 276.5790697674419\n",
      "charge density for group PA is 283.28055555555557\n",
      "charge density for group TCB is 319.81081081081084\n"
     ]
    },
    {
     "data": {
      "text/plain": [
       "(-0.18212747531404003, 0.016474076631469936)"
      ]
     },
     "execution_count": 30,
     "metadata": {},
     "output_type": "execute_result"
    },
    {
     "data": {
      "image/png": "[encoded data removed]",
      "text/plain": [
       "<Figure size 432x288 with 1 Axes>"
      ]
     },
     "metadata": {
      "needs_background": "light"
     },
     "output_type": "display_data"
    }
   ],
   "source": [
    "for name, group in groups:\n",
    "    print ('charge density for group {} is {}'.\n",
    "           format(name,  np.mean (np.array (group.Mass))))\n",
    "# Plot\n",
    "fig, ax = plt.subplots(figsize=(6,4))\n",
    "ax.tick_params(direction='in', length=4, width=1.5, colors='black', grid_alpha=0, labelsize='14')\n",
    "counter=0\n",
    "markers = ['o', 's', '^', 'v']\n",
    "colors=['blue', 'red', 'green', 'orange']\n",
    "colors2 = ['maroon', 'darkorange', 'goldenrod', 'dodgerblue']\n",
    "\n",
    "for name, group in groups:\n",
    "    ax.plot(group.Yield_Per, group.Graphene_Yield, \n",
    "            marker=markers[counter], alpha=0.9, linestyle='', ms=8, label=name)\n",
    "    counter+=1\n",
    "    # Predicted 2D/G\n",
    "# plt.title('Test Data', fontsize='18', fontname='Arial', fontweight='bold')\n",
    "ax.set_xlabel('Yield_per', fontsize='18', fontname='Arial', fontweight='bold')\n",
    "ax.set_ylabel('Graphene_Yield', fontsize='18', fontname='Arial', fontweight='bold')\n",
    "\n",
    "leg = plt.legend(frameon=\"True\", prop={'family': 'Arial'})\n",
    "\n",
    "\n",
    "ymin, ymax = plt.ylim()\n",
    "xmin, xmax = plt.xlim()\n",
    "#ax.set_xlim(0.8*xmin, 1.2*xmax)\n",
    "#ax.set_ylim(ymin, 1.3*ymax)\n",
    "\n",
    "ax.legend(frameon=True, ncol=4, fontsize=12)\n",
    "plt.savefig('Yieldper_graphyield', dpi=300)\n",
    "pearsonr(df_currenttime['Yield_Per'], df_currenttime['Graphene_Yield'])"
   ]
  },
  {
   "cell_type": "code",
   "execution_count": 40,
   "metadata": {},
   "outputs": [
    {
     "name": "stdout",
     "output_type": "stream",
     "text": [
      "charge density for group CB is 186.9859649122807\n",
      "charge density for group MC is 276.5790697674419\n",
      "charge density for group PA is 283.28055555555557\n",
      "charge density for group TCB is 319.81081081081084\n"
     ]
    },
    {
     "data": {
      "text/plain": [
       "(-0.18212747531404003, 0.016474076631469936)"
      ]
     },
     "execution_count": 40,
     "metadata": {},
     "output_type": "execute_result"
    },
    {
     "data": {
      "image/png": "[encoded data removed]",
      "text/plain": [
       "<Figure size 576x432 with 1 Axes>"
      ]
     },
     "metadata": {
      "needs_background": "light"
     },
     "output_type": "display_data"
    }
   ],
   "source": [
    "for name, group in groups:\n",
    "    print ('charge density for group {} is {}'.\n",
    "           format(name,  np.mean (np.array (group.Mass))))\n",
    "# Plot\n",
    "fig, ax = plt.subplots(figsize=(8,6))\n",
    "ax.tick_params(direction='in', length=4, width=1.5, colors='black', grid_alpha=0, labelsize='14')\n",
    "counter=0\n",
    "markers = ['o', 's', '^', 'v']\n",
    "colors=['blue', 'red', 'green', 'orange']\n",
    "colors2 = ['maroon', 'darkorange', 'goldenrod', 'dodgerblue']\n",
    "\n",
    "for name, group in groups:\n",
    "    ax.plot(group.Yield_Per, group.Graphene_Yield, \n",
    "            marker=markers[counter], alpha=0.9, linestyle='', ms=8, label=name)\n",
    "    counter+=1\n",
    "    # Predicted 2D/G\n",
    "# plt.title('Test Data', fontsize='18', fontname='Arial', fontweight='bold')\n",
    "ax.set_xlabel('Yield_per', fontsize='18', fontname='Arial', fontweight='bold')\n",
    "ax.set_ylabel('Graphene_Yield', fontsize='18', fontname='Arial', fontweight='bold')\n",
    "\n",
    "leg = plt.legend(frameon=\"True\", prop={'family': 'Arial'})\n",
    "\n",
    "\n",
    "ymin, ymax = plt.ylim()\n",
    "xmin, xmax = plt.xlim()\n",
    "#ax.set_xlim(0.8*xmin, 1.2*xmax)\n",
    "#ax.set_ylim(ymin, 1.3*ymax)\n",
    "\n",
    "ax.legend(frameon=True, ncol=1, fontsize=14)\n",
    "plt.savefig('Yieldper_graphyield', dpi=300)\n",
    "pearsonr(df_currenttime['Yield_Per'], df_currenttime['Graphene_Yield'])"
   ]
  },
  {
   "cell_type": "code",
   "execution_count": 43,
   "metadata": {},
   "outputs": [
    {
     "name": "stdout",
     "output_type": "stream",
     "text": [
      "charge density for group CB is 186.9859649122807\n",
      "charge density for group MC is 276.5790697674419\n",
      "charge density for group PA is 283.28055555555557\n",
      "charge density for group TCB is 319.81081081081084\n"
     ]
    },
    {
     "data": {
      "text/plain": [
       "(0.2284650773240294, 0.0025004029012254216)"
      ]
     },
     "execution_count": 43,
     "metadata": {},
     "output_type": "execute_result"
    },
    {
     "data": {
      "image/png": "[encoded data removed]",
      "text/plain": [
       "<Figure size 576x432 with 1 Axes>"
      ]
     },
     "metadata": {
      "needs_background": "light"
     },
     "output_type": "display_data"
    }
   ],
   "source": [
    "for name, group in groups:\n",
    "    print ('charge density for group {} is {}'.\n",
    "           format(name,  np.mean (np.array (group.Mass))))\n",
    "# Plot\n",
    "fig, ax = plt.subplots(figsize=(8,6))\n",
    "ax.tick_params(direction='in', length=4, width=1.5, colors='black', grid_alpha=0, labelsize='14')\n",
    "counter=0\n",
    "markers = ['o', 's', '^', 'v']\n",
    "colors=['blue', 'red', 'green', 'orange']\n",
    "colors2 = ['maroon', 'darkorange', 'goldenrod', 'dodgerblue']\n",
    "\n",
    "for name, group in groups:\n",
    "    if (name != 'MC'):\n",
    "        ax.plot(group.Volt_Drop, group.Graphene_Yield, \n",
    "            marker=markers[counter], alpha=0.9, linestyle='', ms=8, label=name)\n",
    "    counter+=1\n",
    "    # Predicted 2D/G\n",
    "# plt.title('Test Data', fontsize='18', fontname='Arial', fontweight='bold')\n",
    "ax.set_xlabel('Yield_per', fontsize='18', fontname='Arial', fontweight='bold')\n",
    "ax.set_ylabel('Graphene_Yield', fontsize='18', fontname='Arial', fontweight='bold')\n",
    "\n",
    "leg = plt.legend(frameon=\"True\", prop={'family': 'Arial'})\n",
    "\n",
    "\n",
    "ymin, ymax = plt.ylim()\n",
    "xmin, xmax = plt.xlim()\n",
    "#ax.set_xlim(0.8*xmin, 1.2*xmax)\n",
    "#ax.set_ylim(ymin, 1.3*ymax)\n",
    "\n",
    "ax.legend(frameon=True, ncol=1, fontsize=14)\n",
    "plt.savefig('Volt_Drop_graphyield', dpi=300)\n",
    "pearsonr(df_currenttime['Volt_Drop'], df_currenttime['Graphene_Yield'])"
   ]
  },
  {
   "cell_type": "code",
   "execution_count": 6,
   "metadata": {},
   "outputs": [
    {
     "name": "stderr",
     "output_type": "stream",
     "text": [
      "/home/kianoosh/anaconda3/envs/my-rdkit-env/lib/python3.9/site-packages/seaborn/categorical.py:1296: UserWarning: 28.1% of the points cannot be placed; you may want to decrease the size of the markers or use stripplot.\n",
      "  warnings.warn(msg, UserWarning)\n",
      "/home/kianoosh/anaconda3/envs/my-rdkit-env/lib/python3.9/site-packages/seaborn/categorical.py:1296: UserWarning: 9.3% of the points cannot be placed; you may want to decrease the size of the markers or use stripplot.\n",
      "  warnings.warn(msg, UserWarning)\n",
      "/home/kianoosh/anaconda3/envs/my-rdkit-env/lib/python3.9/site-packages/seaborn/categorical.py:1296: UserWarning: 29.7% of the points cannot be placed; you may want to decrease the size of the markers or use stripplot.\n",
      "  warnings.warn(msg, UserWarning)\n",
      "/home/kianoosh/anaconda3/envs/my-rdkit-env/lib/python3.9/site-packages/seaborn/categorical.py:1296: UserWarning: 8.3% of the points cannot be placed; you may want to decrease the size of the markers or use stripplot.\n",
      "  warnings.warn(msg, UserWarning)\n"
     ]
    },
    {
     "data": {
      "image/png": "[encoded data removed]",
      "text/plain": [
       "<Figure size 432x288 with 1 Axes>"
      ]
     },
     "metadata": {
      "needs_background": "light"
     },
     "output_type": "display_data"
    },
    {
     "name": "stdout",
     "output_type": "stream",
     "text": [
      "1.7483884632090643 0.15903897708366457\n"
     ]
    }
   ],
   "source": [
    "# distribution of I_Final for different materials\n",
    "import seaborn as sns\n",
    "interest = 'I_Final'\n",
    "ax = sns.boxplot(x='materialgroup', y=interest, data=df_currenttime, color='#99c2a2')\n",
    "ax = sns.swarmplot(x=\"materialgroup\", y=interest, data=df_currenttime, color='#7d0013')\n",
    "plt.show()\n",
    "\n",
    "import scipy.stats as stats\n",
    "fvalue, pvalue = stats.f_oneway(\n",
    "    df_currenttime[interest].loc[df_currenttime['materialgroup']=='CB'], \n",
    "    df_currenttime[interest].loc[df_currenttime['materialgroup']=='MC'], \n",
    "    df_currenttime[interest].loc[df_currenttime['materialgroup']=='TCB'], \n",
    "    df_currenttime[interest].loc[df_currenttime['materialgroup']=='PA']\n",
    ")\n",
    "print(fvalue, pvalue)\n"
   ]
  },
  {
   "cell_type": "code",
   "execution_count": 7,
   "metadata": {},
   "outputs": [
    {
     "data": {
      "image/png": "[encoded data removed]",
      "text/plain": [
       "<Figure size 432x288 with 1 Axes>"
      ]
     },
     "metadata": {
      "needs_background": "light"
     },
     "output_type": "display_data"
    },
    {
     "name": "stdout",
     "output_type": "stream",
     "text": [
      "14.83185657621729 1.2873008751562517e-08\n"
     ]
    }
   ],
   "source": [
    "# distribution of I_Final for different materials\n",
    "import seaborn as sns\n",
    "interest = 'charge_density'\n",
    "ax = sns.boxplot(x='materialgroup', y=interest, data=df_currenttime, color='#99c2a2')\n",
    "ax = sns.swarmplot(x=\"materialgroup\", y=interest, data=df_currenttime, color='#7d0013')\n",
    "plt.show()\n",
    "\n",
    "import scipy.stats as stats\n",
    "fvalue, pvalue = stats.f_oneway(\n",
    "    df_currenttime[interest].loc[df_currenttime['materialgroup']=='CB'], \n",
    "    df_currenttime[interest].loc[df_currenttime['materialgroup']=='MC'], \n",
    "    df_currenttime[interest].loc[df_currenttime['materialgroup']=='TCB'], \n",
    "    df_currenttime[interest].loc[df_currenttime['materialgroup']=='PA']\n",
    ")\n",
    "print(fvalue, pvalue)"
   ]
  },
  {
   "cell_type": "code",
   "execution_count": 10,
   "metadata": {
    "scrolled": true
   },
   "outputs": [
    {
     "ename": "TypeError",
     "evalue": "'>' not supported between instances of 'str' and 'int'",
     "output_type": "error",
     "traceback": [
      "\u001b[0;31m---------------------------------------------------------------------------\u001b[0m",
      "\u001b[0;31mTypeError\u001b[0m                                 Traceback (most recent call last)",
      "Input \u001b[0;32mIn [10]\u001b[0m, in \u001b[0;36m<cell line: 1>\u001b[0;34m()\u001b[0m\n\u001b[0;32m----> 1\u001b[0m \u001b[43mdf_currenttime\u001b[49m\u001b[38;5;241;43m.\u001b[39;49m\u001b[43mloc\u001b[49m\u001b[43m[\u001b[49m\u001b[43mdf_currenttime\u001b[49m\u001b[43m[\u001b[49m\u001b[38;5;124;43m'\u001b[39;49m\u001b[38;5;124;43mmaterialgroup\u001b[39;49m\u001b[38;5;124;43m'\u001b[39;49m\u001b[43m]\u001b[49m\u001b[38;5;241;43m==\u001b[39;49m\u001b[38;5;124;43m'\u001b[39;49m\u001b[38;5;124;43mMC\u001b[39;49m\u001b[38;5;124;43m'\u001b[39;49m\u001b[43m]\u001b[49m\u001b[38;5;241;43m>\u001b[39;49m\u001b[38;5;241;43m150\u001b[39;49m\n",
      "File \u001b[0;32m~/anaconda3/envs/my-rdkit-env/lib/python3.9/site-packages/pandas/core/ops/common.py:70\u001b[0m, in \u001b[0;36m_unpack_zerodim_and_defer.<locals>.new_method\u001b[0;34m(self, other)\u001b[0m\n\u001b[1;32m     66\u001b[0m             \u001b[38;5;28;01mreturn\u001b[39;00m \u001b[38;5;28mNotImplemented\u001b[39m\n\u001b[1;32m     68\u001b[0m other \u001b[38;5;241m=\u001b[39m item_from_zerodim(other)\n\u001b[0;32m---> 70\u001b[0m \u001b[38;5;28;01mreturn\u001b[39;00m \u001b[43mmethod\u001b[49m\u001b[43m(\u001b[49m\u001b[38;5;28;43mself\u001b[39;49m\u001b[43m,\u001b[49m\u001b[43m \u001b[49m\u001b[43mother\u001b[49m\u001b[43m)\u001b[49m\n",
      "File \u001b[0;32m~/anaconda3/envs/my-rdkit-env/lib/python3.9/site-packages/pandas/core/arraylike.py:56\u001b[0m, in \u001b[0;36mOpsMixin.__gt__\u001b[0;34m(self, other)\u001b[0m\n\u001b[1;32m     54\u001b[0m \u001b[38;5;129m@unpack_zerodim_and_defer\u001b[39m(\u001b[38;5;124m\"\u001b[39m\u001b[38;5;124m__gt__\u001b[39m\u001b[38;5;124m\"\u001b[39m)\n\u001b[1;32m     55\u001b[0m \u001b[38;5;28;01mdef\u001b[39;00m \u001b[38;5;21m__gt__\u001b[39m(\u001b[38;5;28mself\u001b[39m, other):\n\u001b[0;32m---> 56\u001b[0m     \u001b[38;5;28;01mreturn\u001b[39;00m \u001b[38;5;28;43mself\u001b[39;49m\u001b[38;5;241;43m.\u001b[39;49m\u001b[43m_cmp_method\u001b[49m\u001b[43m(\u001b[49m\u001b[43mother\u001b[49m\u001b[43m,\u001b[49m\u001b[43m \u001b[49m\u001b[43moperator\u001b[49m\u001b[38;5;241;43m.\u001b[39;49m\u001b[43mgt\u001b[49m\u001b[43m)\u001b[49m\n",
      "File \u001b[0;32m~/anaconda3/envs/my-rdkit-env/lib/python3.9/site-packages/pandas/core/frame.py:6928\u001b[0m, in \u001b[0;36mDataFrame._cmp_method\u001b[0;34m(self, other, op)\u001b[0m\n\u001b[1;32m   6925\u001b[0m \u001b[38;5;28mself\u001b[39m, other \u001b[38;5;241m=\u001b[39m ops\u001b[38;5;241m.\u001b[39malign_method_FRAME(\u001b[38;5;28mself\u001b[39m, other, axis, flex\u001b[38;5;241m=\u001b[39m\u001b[38;5;28;01mFalse\u001b[39;00m, level\u001b[38;5;241m=\u001b[39m\u001b[38;5;28;01mNone\u001b[39;00m)\n\u001b[1;32m   6927\u001b[0m \u001b[38;5;66;03m# See GH#4537 for discussion of scalar op behavior\u001b[39;00m\n\u001b[0;32m-> 6928\u001b[0m new_data \u001b[38;5;241m=\u001b[39m \u001b[38;5;28;43mself\u001b[39;49m\u001b[38;5;241;43m.\u001b[39;49m\u001b[43m_dispatch_frame_op\u001b[49m\u001b[43m(\u001b[49m\u001b[43mother\u001b[49m\u001b[43m,\u001b[49m\u001b[43m \u001b[49m\u001b[43mop\u001b[49m\u001b[43m,\u001b[49m\u001b[43m \u001b[49m\u001b[43maxis\u001b[49m\u001b[38;5;241;43m=\u001b[39;49m\u001b[43maxis\u001b[49m\u001b[43m)\u001b[49m\n\u001b[1;32m   6929\u001b[0m \u001b[38;5;28;01mreturn\u001b[39;00m \u001b[38;5;28mself\u001b[39m\u001b[38;5;241m.\u001b[39m_construct_result(new_data)\n",
      "File \u001b[0;32m~/anaconda3/envs/my-rdkit-env/lib/python3.9/site-packages/pandas/core/frame.py:6967\u001b[0m, in \u001b[0;36mDataFrame._dispatch_frame_op\u001b[0;34m(self, right, func, axis)\u001b[0m\n\u001b[1;32m   6964\u001b[0m \u001b[38;5;28;01mif\u001b[39;00m \u001b[38;5;129;01mnot\u001b[39;00m is_list_like(right):\n\u001b[1;32m   6965\u001b[0m     \u001b[38;5;66;03m# i.e. scalar, faster than checking np.ndim(right) == 0\u001b[39;00m\n\u001b[1;32m   6966\u001b[0m     \u001b[38;5;28;01mwith\u001b[39;00m np\u001b[38;5;241m.\u001b[39merrstate(\u001b[38;5;28mall\u001b[39m\u001b[38;5;241m=\u001b[39m\u001b[38;5;124m\"\u001b[39m\u001b[38;5;124mignore\u001b[39m\u001b[38;5;124m\"\u001b[39m):\n\u001b[0;32m-> 6967\u001b[0m         bm \u001b[38;5;241m=\u001b[39m \u001b[38;5;28;43mself\u001b[39;49m\u001b[38;5;241;43m.\u001b[39;49m\u001b[43m_mgr\u001b[49m\u001b[38;5;241;43m.\u001b[39;49m\u001b[43mapply\u001b[49m\u001b[43m(\u001b[49m\u001b[43marray_op\u001b[49m\u001b[43m,\u001b[49m\u001b[43m \u001b[49m\u001b[43mright\u001b[49m\u001b[38;5;241;43m=\u001b[39;49m\u001b[43mright\u001b[49m\u001b[43m)\u001b[49m\n\u001b[1;32m   6968\u001b[0m     \u001b[38;5;28;01mreturn\u001b[39;00m \u001b[38;5;28mself\u001b[39m\u001b[38;5;241m.\u001b[39m_constructor(bm)\n\u001b[1;32m   6970\u001b[0m \u001b[38;5;28;01melif\u001b[39;00m \u001b[38;5;28misinstance\u001b[39m(right, DataFrame):\n",
      "File \u001b[0;32m~/anaconda3/envs/my-rdkit-env/lib/python3.9/site-packages/pandas/core/internals/managers.py:302\u001b[0m, in \u001b[0;36mBaseBlockManager.apply\u001b[0;34m(self, f, align_keys, ignore_failures, **kwargs)\u001b[0m\n\u001b[1;32m    300\u001b[0m \u001b[38;5;28;01mtry\u001b[39;00m:\n\u001b[1;32m    301\u001b[0m     \u001b[38;5;28;01mif\u001b[39;00m callable(f):\n\u001b[0;32m--> 302\u001b[0m         applied \u001b[38;5;241m=\u001b[39m \u001b[43mb\u001b[49m\u001b[38;5;241;43m.\u001b[39;49m\u001b[43mapply\u001b[49m\u001b[43m(\u001b[49m\u001b[43mf\u001b[49m\u001b[43m,\u001b[49m\u001b[43m \u001b[49m\u001b[38;5;241;43m*\u001b[39;49m\u001b[38;5;241;43m*\u001b[39;49m\u001b[43mkwargs\u001b[49m\u001b[43m)\u001b[49m\n\u001b[1;32m    303\u001b[0m     \u001b[38;5;28;01melse\u001b[39;00m:\n\u001b[1;32m    304\u001b[0m         applied \u001b[38;5;241m=\u001b[39m \u001b[38;5;28mgetattr\u001b[39m(b, f)(\u001b[38;5;241m*\u001b[39m\u001b[38;5;241m*\u001b[39mkwargs)\n",
      "File \u001b[0;32m~/anaconda3/envs/my-rdkit-env/lib/python3.9/site-packages/pandas/core/internals/blocks.py:402\u001b[0m, in \u001b[0;36mBlock.apply\u001b[0;34m(self, func, **kwargs)\u001b[0m\n\u001b[1;32m    396\u001b[0m \u001b[38;5;129m@final\u001b[39m\n\u001b[1;32m    397\u001b[0m \u001b[38;5;28;01mdef\u001b[39;00m \u001b[38;5;21mapply\u001b[39m(\u001b[38;5;28mself\u001b[39m, func, \u001b[38;5;241m*\u001b[39m\u001b[38;5;241m*\u001b[39mkwargs) \u001b[38;5;241m-\u001b[39m\u001b[38;5;241m>\u001b[39m \u001b[38;5;28mlist\u001b[39m[Block]:\n\u001b[1;32m    398\u001b[0m     \u001b[38;5;124;03m\"\"\"\u001b[39;00m\n\u001b[1;32m    399\u001b[0m \u001b[38;5;124;03m    apply the function to my values; return a block if we are not\u001b[39;00m\n\u001b[1;32m    400\u001b[0m \u001b[38;5;124;03m    one\u001b[39;00m\n\u001b[1;32m    401\u001b[0m \u001b[38;5;124;03m    \"\"\"\u001b[39;00m\n\u001b[0;32m--> 402\u001b[0m     result \u001b[38;5;241m=\u001b[39m \u001b[43mfunc\u001b[49m\u001b[43m(\u001b[49m\u001b[38;5;28;43mself\u001b[39;49m\u001b[38;5;241;43m.\u001b[39;49m\u001b[43mvalues\u001b[49m\u001b[43m,\u001b[49m\u001b[43m \u001b[49m\u001b[38;5;241;43m*\u001b[39;49m\u001b[38;5;241;43m*\u001b[39;49m\u001b[43mkwargs\u001b[49m\u001b[43m)\u001b[49m\n\u001b[1;32m    404\u001b[0m     \u001b[38;5;28;01mreturn\u001b[39;00m \u001b[38;5;28mself\u001b[39m\u001b[38;5;241m.\u001b[39m_split_op_result(result)\n",
      "File \u001b[0;32m~/anaconda3/envs/my-rdkit-env/lib/python3.9/site-packages/pandas/core/ops/array_ops.py:283\u001b[0m, in \u001b[0;36mcomparison_op\u001b[0;34m(left, right, op)\u001b[0m\n\u001b[1;32m    280\u001b[0m     \u001b[38;5;28;01mreturn\u001b[39;00m invalid_comparison(lvalues, rvalues, op)\n\u001b[1;32m    282\u001b[0m \u001b[38;5;28;01melif\u001b[39;00m is_object_dtype(lvalues\u001b[38;5;241m.\u001b[39mdtype) \u001b[38;5;129;01mor\u001b[39;00m \u001b[38;5;28misinstance\u001b[39m(rvalues, \u001b[38;5;28mstr\u001b[39m):\n\u001b[0;32m--> 283\u001b[0m     res_values \u001b[38;5;241m=\u001b[39m \u001b[43mcomp_method_OBJECT_ARRAY\u001b[49m\u001b[43m(\u001b[49m\u001b[43mop\u001b[49m\u001b[43m,\u001b[49m\u001b[43m \u001b[49m\u001b[43mlvalues\u001b[49m\u001b[43m,\u001b[49m\u001b[43m \u001b[49m\u001b[43mrvalues\u001b[49m\u001b[43m)\u001b[49m\n\u001b[1;32m    285\u001b[0m \u001b[38;5;28;01melse\u001b[39;00m:\n\u001b[1;32m    286\u001b[0m     res_values \u001b[38;5;241m=\u001b[39m _na_arithmetic_op(lvalues, rvalues, op, is_cmp\u001b[38;5;241m=\u001b[39m\u001b[38;5;28;01mTrue\u001b[39;00m)\n",
      "File \u001b[0;32m~/anaconda3/envs/my-rdkit-env/lib/python3.9/site-packages/pandas/core/ops/array_ops.py:73\u001b[0m, in \u001b[0;36mcomp_method_OBJECT_ARRAY\u001b[0;34m(op, x, y)\u001b[0m\n\u001b[1;32m     71\u001b[0m     result \u001b[38;5;241m=\u001b[39m libops\u001b[38;5;241m.\u001b[39mvec_compare(x\u001b[38;5;241m.\u001b[39mravel(), y\u001b[38;5;241m.\u001b[39mravel(), op)\n\u001b[1;32m     72\u001b[0m \u001b[38;5;28;01melse\u001b[39;00m:\n\u001b[0;32m---> 73\u001b[0m     result \u001b[38;5;241m=\u001b[39m \u001b[43mlibops\u001b[49m\u001b[38;5;241;43m.\u001b[39;49m\u001b[43mscalar_compare\u001b[49m\u001b[43m(\u001b[49m\u001b[43mx\u001b[49m\u001b[38;5;241;43m.\u001b[39;49m\u001b[43mravel\u001b[49m\u001b[43m(\u001b[49m\u001b[43m)\u001b[49m\u001b[43m,\u001b[49m\u001b[43m \u001b[49m\u001b[43my\u001b[49m\u001b[43m,\u001b[49m\u001b[43m \u001b[49m\u001b[43mop\u001b[49m\u001b[43m)\u001b[49m\n\u001b[1;32m     74\u001b[0m \u001b[38;5;28;01mreturn\u001b[39;00m result\u001b[38;5;241m.\u001b[39mreshape(x\u001b[38;5;241m.\u001b[39mshape)\n",
      "File \u001b[0;32m~/anaconda3/envs/my-rdkit-env/lib/python3.9/site-packages/pandas/_libs/ops.pyx:107\u001b[0m, in \u001b[0;36mpandas._libs.ops.scalar_compare\u001b[0;34m()\u001b[0m\n",
      "\u001b[0;31mTypeError\u001b[0m: '>' not supported between instances of 'str' and 'int'"
     ]
    }
   ],
   "source": [
    "df_currenttime[interest].loc[df_currenttime['materialgroup']=='MC']>150"
   ]
  },
  {
   "cell_type": "code",
   "execution_count": 23,
   "metadata": {},
   "outputs": [
    {
     "name": "stderr",
     "output_type": "stream",
     "text": [
      "/home/kianoosh/anaconda3/envs/my-rdkit-env/lib/python3.9/site-packages/seaborn/categorical.py:1296: UserWarning: 40.4% of the points cannot be placed; you may want to decrease the size of the markers or use stripplot.\n",
      "  warnings.warn(msg, UserWarning)\n",
      "/home/kianoosh/anaconda3/envs/my-rdkit-env/lib/python3.9/site-packages/seaborn/categorical.py:1296: UserWarning: 64.9% of the points cannot be placed; you may want to decrease the size of the markers or use stripplot.\n",
      "  warnings.warn(msg, UserWarning)\n",
      "/home/kianoosh/anaconda3/envs/my-rdkit-env/lib/python3.9/site-packages/seaborn/categorical.py:1296: UserWarning: 63.9% of the points cannot be placed; you may want to decrease the size of the markers or use stripplot.\n",
      "  warnings.warn(msg, UserWarning)\n"
     ]
    },
    {
     "data": {
      "image/png": "[encoded data removed]",
      "text/plain": [
       "<Figure size 432x288 with 1 Axes>"
      ]
     },
     "metadata": {
      "needs_background": "light"
     },
     "output_type": "display_data"
    },
    {
     "name": "stdout",
     "output_type": "stream",
     "text": [
      "127.05741693026096 4.20265871643418e-43\n"
     ]
    }
   ],
   "source": [
    "# distribution of I_Max for different materials\n",
    "import seaborn as sns\n",
    "interest = 'I_VdR'\n",
    "ax = sns.boxplot(x='materialgroup', y=interest, data=df_currenttime, color='#99c2a2')\n",
    "ax = sns.swarmplot(x=\"materialgroup\", y=interest, data=df_currenttime, color='#7d0013')\n",
    "plt.show()\n",
    "\n",
    "import scipy.stats as stats\n",
    "fvalue, pvalue = stats.f_oneway(\n",
    "    df_currenttime[interest].loc[df_currenttime['materialgroup']=='CB'], \n",
    "    df_currenttime[interest].loc[df_currenttime['materialgroup']=='MC'], \n",
    "    df_currenttime[interest].loc[df_currenttime['materialgroup']=='TCB'], \n",
    "    df_currenttime[interest].loc[df_currenttime['materialgroup']=='PA']\n",
    ")\n",
    "print(fvalue, pvalue)"
   ]
  },
  {
   "cell_type": "code",
   "execution_count": 24,
   "metadata": {},
   "outputs": [
    {
     "data": {
      "image/png": "[encoded data removed]",
      "text/plain": [
       "<Figure size 432x288 with 1 Axes>"
      ]
     },
     "metadata": {
      "needs_background": "light"
     },
     "output_type": "display_data"
    },
    {
     "name": "stdout",
     "output_type": "stream",
     "text": [
      "96.65203018968828 1.804355019338001e-36\n"
     ]
    }
   ],
   "source": [
    "# distribution of I_Max for different materials\n",
    "import seaborn as sns\n",
    "interest = 'I_Max'\n",
    "ax = sns.boxplot(x='materialgroup', y=interest, data=df_currenttime, color='#99c2a2')\n",
    "ax = sns.swarmplot(x=\"materialgroup\", y=interest, data=df_currenttime, color='#7d0013')\n",
    "plt.show()\n",
    "\n",
    "import scipy.stats as stats\n",
    "fvalue, pvalue = stats.f_oneway(\n",
    "    df_currenttime[interest].loc[df_currenttime['materialgroup']=='CB'], \n",
    "    df_currenttime[interest].loc[df_currenttime['materialgroup']=='MC'], \n",
    "    df_currenttime[interest].loc[df_currenttime['materialgroup']=='TCB'], \n",
    "    df_currenttime[interest].loc[df_currenttime['materialgroup']=='PA']\n",
    ")\n",
    "print(fvalue, pvalue)"
   ]
  },
  {
   "cell_type": "code",
   "execution_count": 11,
   "metadata": {},
   "outputs": [
    {
     "data": {
      "image/png": "[encoded data removed]",
      "text/plain": [
       "<Figure size 432x288 with 1 Axes>"
      ]
     },
     "metadata": {
      "needs_background": "light"
     },
     "output_type": "display_data"
    },
    {
     "name": "stdout",
     "output_type": "stream",
     "text": [
      "15.561396697450448 5.535774294744195e-09\n"
     ]
    }
   ],
   "source": [
    "# distribution of I_Max for different materials\n",
    "import seaborn as sns\n",
    "interest = 'Charge_Tot'\n",
    "ax = sns.boxplot(x='materialgroup', y=interest, data=df_currenttime, color='#99c2a2')\n",
    "ax = sns.swarmplot(x=\"materialgroup\", y=interest, data=df_currenttime, color='#7d0013')\n",
    "plt.show()\n",
    "\n",
    "import scipy.stats as stats\n",
    "fvalue, pvalue = stats.f_oneway(\n",
    "    df_currenttime[interest].loc[df_currenttime['materialgroup']=='CB'], \n",
    "    df_currenttime[interest].loc[df_currenttime['materialgroup']=='MC'], \n",
    "    df_currenttime[interest].loc[df_currenttime['materialgroup']=='TCB'], \n",
    "    df_currenttime[interest].loc[df_currenttime['materialgroup']=='PA']\n",
    ")\n",
    "print(fvalue, pvalue)"
   ]
  },
  {
   "cell_type": "code",
   "execution_count": 12,
   "metadata": {},
   "outputs": [
    {
     "data": {
      "image/png": "[encoded data removed]",
      "text/plain": [
       "<Figure size 432x288 with 1 Axes>"
      ]
     },
     "metadata": {
      "needs_background": "light"
     },
     "output_type": "display_data"
    },
    {
     "name": "stdout",
     "output_type": "stream",
     "text": [
      "2.1222004486553563 0.09927520133327057\n"
     ]
    }
   ],
   "source": [
    "# distribution of Voltage for different materials\n",
    "import seaborn as sns\n",
    "interest = 'Voltage'\n",
    "ax = sns.boxplot(x='materialgroup', y=interest, data=df_currenttime, color='#99c2a2')\n",
    "ax = sns.swarmplot(x=\"materialgroup\", y=interest, data=df_currenttime, color='#7d0013')\n",
    "plt.show()\n",
    "\n",
    "import scipy.stats as stats\n",
    "fvalue, pvalue = stats.f_oneway(\n",
    "    df_currenttime[interest].loc[df_currenttime['materialgroup']=='CB'], \n",
    "    df_currenttime[interest].loc[df_currenttime['materialgroup']=='MC'], \n",
    "    df_currenttime[interest].loc[df_currenttime['materialgroup']=='TCB'], \n",
    "    df_currenttime[interest].loc[df_currenttime['materialgroup']=='PA']\n",
    ")\n",
    "print(fvalue, pvalue)"
   ]
  },
  {
   "cell_type": "code",
   "execution_count": 13,
   "metadata": {},
   "outputs": [
    {
     "name": "stderr",
     "output_type": "stream",
     "text": [
      "/home/kianoosh/anaconda3/envs/my-rdkit-env/lib/python3.9/site-packages/seaborn/categorical.py:1296: UserWarning: 29.8% of the points cannot be placed; you may want to decrease the size of the markers or use stripplot.\n",
      "  warnings.warn(msg, UserWarning)\n",
      "/home/kianoosh/anaconda3/envs/my-rdkit-env/lib/python3.9/site-packages/seaborn/categorical.py:1296: UserWarning: 55.8% of the points cannot be placed; you may want to decrease the size of the markers or use stripplot.\n",
      "  warnings.warn(msg, UserWarning)\n"
     ]
    },
    {
     "data": {
      "image/png": "[encoded data removed]",
      "text/plain": [
       "<Figure size 432x288 with 1 Axes>"
      ]
     },
     "metadata": {
      "needs_background": "light"
     },
     "output_type": "display_data"
    },
    {
     "name": "stdout",
     "output_type": "stream",
     "text": [
      "202.48008951567377 1.0174241993395109e-55\n"
     ]
    }
   ],
   "source": [
    "# distribution of Init_R for different materials\n",
    "import seaborn as sns\n",
    "interest = 'Init_R'\n",
    "ax = sns.boxplot(x='materialgroup', y=interest, data=df_currenttime, color='#99c2a2')\n",
    "ax = sns.swarmplot(x=\"materialgroup\", y=interest, data=df_currenttime, color='#7d0013')\n",
    "plt.show()\n",
    "\n",
    "import scipy.stats as stats\n",
    "fvalue, pvalue = stats.f_oneway(\n",
    "    df_currenttime[interest].loc[df_currenttime['materialgroup']=='CB'], \n",
    "    df_currenttime[interest].loc[df_currenttime['materialgroup']=='MC'], \n",
    "    df_currenttime[interest].loc[df_currenttime['materialgroup']=='TCB'], \n",
    "    df_currenttime[interest].loc[df_currenttime['materialgroup']=='PA']\n",
    ")\n",
    "print(fvalue, pvalue)"
   ]
  },
  {
   "cell_type": "code",
   "execution_count": 11,
   "metadata": {},
   "outputs": [],
   "source": [
    "# proxy properties\n",
    "Norm_I_Max = np.array (df['I_Max']).reshape(-1, 1)\n",
    "Final_Current_Percent  = np.array (df['Final_Current_Percent']).reshape(-1, 1)\n",
    "Norm_charge_tot  = np.array (df['Norm_charge_tot']).reshape(-1, 1)\n",
    "# final prediction, yield of Graphene\n",
    "Graphene_Yield = np.array (df['Graphene_Yield']).reshape(-1, 1)\n",
    "\n",
    "# only process parameters\n",
    "Pretreat_voltage = np.array (df['Pretreat_voltage']).reshape(-1, 1)\n",
    "pulsetime = np.array (df['PulseTime']).reshape(-1, 1)\n",
    "charge_denisty = np.array (df['charge_density']).reshape(-1, 1)\n",
    "heat_power = np.array (df['heat_power']).reshape(-1, 1)\n",
    "#Init_R = np.array (df['Init_R']).reshape(-1, 1)\n",
    "\n",
    "#features = np.asfarray(features)"
   ]
  },
  {
   "cell_type": "code",
   "execution_count": 12,
   "metadata": {},
   "outputs": [],
   "source": [
    "# type of material\n",
    "Material_CB = np.array (df['Material_CB']).reshape(-1, 1)\n",
    "Material_MC = np.array (df['Material_MC']).reshape(-1, 1) \n",
    "Material_PA = np.array (df['Material_PA']).reshape(-1, 1)\n",
    "#Material_TCB = np.array (df['Material_TCB']).reshape(-1, 1)\n",
    "material_type = np.concatenate ((Material_CB, Material_MC, Material_PA), axis=1)\n",
    "# extra material descriptors\n",
    "# Cabot BP2000: Tensile Strength=17 MPa, particle size=15nm, specific surface area=1500(m2/g)\n",
    "# metallurgical coke: grain size=150-210 (um)\n",
    "# pyrolysis ash: \n",
    "# pyrolyzed rubber tire-derived carbon black: "
   ]
  },
  {
   "cell_type": "code",
   "execution_count": 13,
   "metadata": {},
   "outputs": [],
   "source": [
    "# type of Atmosphere\n",
    "Atmosphere_air = np.array (df['Atmosphere_air']).reshape(-1, 1)\n",
    "Atmosphere_arg = np.array (df['Atmosphere_arg']).reshape(-1, 1)\n",
    "#Atmosphere_vac = np.array (df['Atmosphere_vac']).reshape(-1, 1)\n",
    "\n",
    "atmosphere_type = np.concatenate ((Atmosphere_air, Atmosphere_arg), axis=1)\n",
    "\n"
   ]
  },
  {
   "cell_type": "code",
   "execution_count": 14,
   "metadata": {},
   "outputs": [],
   "source": [
    "# proxy (current-time plot) prediction (Final_Current_percent)\n",
    "new_features = np.concatenate ((charge_denisty,\n",
    "                                heat_power,\n",
    "                                pulsetime,\n",
    "                                material_type,\n",
    "                                atmosphere_type,\n",
    "                                Pretreat_voltage), axis=1)\n",
    "\n",
    "rand=9\n",
    "indices = np.arange(len(new_features))\n",
    "train_new_features, test_new_features, train_labels, test_labels, idxtrain, idx_test = \\\n",
    "                      train_test_split(new_features, Final_Current_Percent, \n",
    "                                       indices, test_size = 0.20, random_state = rand)\n",
    "feature_list = ['charge_denisty',\n",
    "                'heat_power',\n",
    "                'PulseTime',\n",
    "                'material_CB',\n",
    "                'material_MC',\n",
    "                'material_PA',\n",
    "                'Atmosphere_air',\n",
    "                'Atmosphere_arg',\n",
    "                'Pretreat_voltage']"
   ]
  },
  {
   "cell_type": "code",
   "execution_count": 18,
   "metadata": {},
   "outputs": [
    {
     "data": {
      "text/plain": [
       "array([112.8  , 276.125, 900.   ,   1.   ,   0.   ,   0.   ,   0.   ,\n",
       "         0.   , 320.   ])"
      ]
     },
     "execution_count": 18,
     "metadata": {},
     "output_type": "execute_result"
    }
   ],
   "source": [
    "test_new_features[-1]"
   ]
  },
  {
   "cell_type": "code",
   "execution_count": 25,
   "metadata": {},
   "outputs": [
    {
     "name": "stdout",
     "output_type": "stream",
     "text": [
      "Average of r pearson for test 0.9118192036999705\n",
      "std of r pearson for test 0.006197083937978444 \n",
      "\n",
      "Average of r_squared for test 0.8280211393455135\n",
      "std of r_squared for test 0.010756541511675152 \n",
      "\n",
      "Average of r_squared for train 0.8549819809580331\n",
      "std of r_squared for train 0.008331015266631023\n",
      "Mean Absolute Error: 0.2125 units.\n",
      "r2 score =  0.8879403356083355\n",
      "Mean Absolute Error: 0.2735 units.\n",
      "r2 score =  0.9298883059301954\n"
     ]
    }
   ],
   "source": [
    "r_squareds = list()\n",
    "r_pearsons = list()\n",
    "r_squareds_train = list()\n",
    "MAEs = list()\n",
    "MAEs_train = list()\n",
    "start = time.time()\n",
    "for random_state in range(10):\n",
    "    # after fixing the hyperparameters, train the model on all samples\n",
    "    # Instantiate model with 1000 decision tree\n",
    "    xgbr_final_I_percent = XGBRegressor(max_depth=3, n_estimators=30, gamma=0.01, \n",
    "                   learning_rate=0.15, subsample=0.77, min_child_weight=5, \n",
    "                   random_state=random_state)\n",
    "    # xgbr_final_I_percent = linear_model.BayesianRidge()\n",
    "    # xgbr_final_I_percent = XGBRegressor()\n",
    "    # Train the model on training data\n",
    "    labels = Final_Current_Percent\n",
    "    xgbr_final_I_percent.fit(train_new_features, train_labels);\n",
    "    #print('Doneskies')\n",
    "    Final_Current_Percent_test = xgbr_final_I_percent.predict(test_new_features)\n",
    "    r_squared_Final_Current_test = r2_score(test_labels, Final_Current_Percent_test)\n",
    "    r_squareds.append(r_squared_Final_Current_test)\n",
    "    \n",
    "    r_pearson_Final_Current_test = pearsonr(test_labels.reshape(test_labels.shape[0],), \n",
    "                                            Final_Current_Percent_test.reshape(Final_Current_Percent_test.shape[0],))\n",
    "    r_pearsons.append(r_pearson_Final_Current_test[0])   \n",
    "    \n",
    "    Final_Current_Percent_train = xgbr_final_I_percent.predict(train_new_features)\n",
    "    r_squared_Final_Current_train = r2_score(train_labels, Final_Current_Percent_train)\n",
    "    r_squareds_train.append(r_squared_Final_Current_train)    \n",
    "\n",
    "print ('Average of r pearson for test', np.mean(np.array(r_pearsons)))\n",
    "print ('std of r pearson for test', np.std(np.array(r_pearsons)), '\\n')\n",
    "\n",
    "print ('Average of r_squared for test', np.mean(np.array(r_squareds)))\n",
    "print ('std of r_squared for test', np.std(np.array(r_squareds)), '\\n')\n",
    "\n",
    "print ('Average of r_squared for train', np.mean(np.array(r_squareds_train)))\n",
    "print ('std of r_squared for train', np.std(np.array(r_squareds_train)))\n",
    "\n",
    "plt.scatter\n",
    "\n",
    "xgbr_final_I_percent.fit(new_features, labels)\n",
    "# Use the forest's predict method on the test data\n",
    "Final_Current_Percent_predicted = xgbr_final_I_percent.predict(new_features)\n",
    "# Calculate the absolute errors\n",
    "errors = abs(Final_Current_Percent_predicted - Final_Current_Percent)\n",
    "# Print out the mean absolute error (mae)\n",
    "print('Mean Absolute Error:', round(np.mean(errors), 4), 'units.')\n",
    "\n",
    "r_squared_Final_Current_all = r2_score(Final_Current_Percent, Final_Current_Percent_predicted)\n",
    "print('r2 score = ', r_squared_Final_Current_all)\n",
    "\n",
    "# Use the forest's predict method on the test data\n",
    "Final_Current_Percent_test = xgbr_final_I_percent.predict(test_new_features)\n",
    "# Calculate the absolute errors\n",
    "errors_test = abs(Final_Current_Percent_test - test_labels)\n",
    "# Print out the mean absolute error (mae)\n",
    "print('Mean Absolute Error:', round(np.mean(errors_test), 4), 'units.')\n",
    "\n",
    "r_squared_Final_Current_test = r2_score(test_labels, Final_Current_Percent_test)\n",
    "print('r2 score = ', r_squared_Final_Current_test)"
   ]
  },
  {
   "cell_type": "code",
   "execution_count": 26,
   "metadata": {},
   "outputs": [
    {
     "name": "stdout",
     "output_type": "stream",
     "text": [
      "Variable: charge_denisty Importance: ('charge_denisty', 0.1)\n",
      "Variable: heat_power Importance: ('heat_power', 0.1)\n",
      "Variable: PulseTime Importance: ('PulseTime', 0.55)\n",
      "Variable: material_CB Importance: ('material_CB', 0.06)\n",
      "Variable: material_MC Importance: ('material_MC', 0.0)\n",
      "Variable: material_PA Importance: ('material_PA', 0.0)\n",
      "Variable: Atmosphere_air Importance: ('Atmosphere_air', 0.04)\n",
      "Variable: Atmosphere_arg Importance: ('Atmosphere_arg', 0.02)\n",
      "Variable: Pretreat_voltage Importance: ('Pretreat_voltage', 0.12)\n"
     ]
    }
   ],
   "source": [
    "# Get numerical feature importances\n",
    "importances = list(xgbr_final_I_percent.feature_importances_)\n",
    "# List of tuples with variable and importance\n",
    "feature_importances = [(feature, round(importance, 2)) for feature, importance in zip(feature_list, importances)]\n",
    "# Sort the feature importances by most important first\n",
    "#feature_importances = sorted(feature_importances, key = lambda x: x[1], reverse = True)\n",
    "# Print out the feature and importances \n",
    "[print('Variable: {} Importance: {}'.format(feature, importance)) \n",
    " for (feature, importance) in zip(feature_list, feature_importances)];"
   ]
  },
  {
   "cell_type": "code",
   "execution_count": 27,
   "metadata": {},
   "outputs": [],
   "source": [
    "# proxy (current-time plot) prediction (Norm_I_Max)\n",
    "new_features = np.concatenate ((charge_denisty,\n",
    "                                pulsetime,\n",
    "                                material_type,\n",
    "                                atmosphere_type,\n",
    "                                Pretreat_voltage), axis=1)\n",
    "\n",
    "rand=9\n",
    "indices = np.arange(len(new_features))\n",
    "train_new_features, test_new_features, train_labels, test_labels, idxtrain, idx_test = \\\n",
    "                      train_test_split(new_features, Norm_I_Max, \n",
    "                                       indices, test_size = 0.2, random_state = rand)\n",
    "\n",
    "feature_list = ['charge_denisty',\n",
    "                'PulseTime',\n",
    "                'material_CB',\n",
    "                'material_MC',\n",
    "                'material_PA',\n",
    "                'Atmosphere_air',\n",
    "                'Atmosphere_arg',\n",
    "                'Atmosphere_vac',\n",
    "                'Pretreat_voltage']"
   ]
  },
  {
   "cell_type": "code",
   "execution_count": 22,
   "metadata": {},
   "outputs": [
    {
     "data": {
      "text/plain": [
       "array([112.8, 900. ,   1. ,   0. ,   0. ,   0. ,   0. , 320. ])"
      ]
     },
     "execution_count": 22,
     "metadata": {},
     "output_type": "execute_result"
    }
   ],
   "source": [
    "test_new_features[-1]"
   ]
  },
  {
   "cell_type": "code",
   "execution_count": 34,
   "metadata": {},
   "outputs": [
    {
     "name": "stdout",
     "output_type": "stream",
     "text": [
      "(0.918042563590645, 8.234049113849906e-15)\n",
      "Average of pearson r for test 0.9173814230911178\n",
      "std of pearson 1 for test 0.004609510281036118 \n",
      "\n",
      "Average of r_squared for test 0.8240166489312596\n",
      "std of r_squared for test 0.009484602736383704 \n",
      "\n",
      "Average of r_squared for train 0.8731173248435322\n",
      "std of r_squared for train 0.0019402039556171734\n",
      "Mean Absolute Error: 188.3787 units.\n",
      "r2 score =  0.8714633356931921\n",
      "Mean Absolute Error: 188.8778 units.\n",
      "r2 score =  0.8819989867148033\n"
     ]
    },
    {
     "data": {
      "image/png": "[encoded data removed]",
      "text/plain": [
       "<Figure size 432x288 with 1 Axes>"
      ]
     },
     "metadata": {
      "needs_background": "light"
     },
     "output_type": "display_data"
    }
   ],
   "source": [
    "r_squareds = list()\n",
    "r_pearsons = list()\n",
    "r_squareds_train = list()\n",
    "MAEs = list()\n",
    "MAEs_train = list()\n",
    "start = time.time()\n",
    "for random_state in range(10):\n",
    "    # after fixing the hyperparameters, train the model on all samples\n",
    "    # Instantiate model with 1000 decision tree\n",
    "    xgbr_norm_I_max = XGBRegressor(max_depth=3, n_estimators=28, gamma=0.001, \n",
    "                   learning_rate=0.116, subsample=0.75, min_child_weight=6, \n",
    "                  random_state=random_state)\n",
    "    # xgbr_norm_I_max = linear_model.BayesianRidge()\n",
    "    # xgbr_norm_I_max = XGBRegressor()\n",
    "    # Train the model on training data\n",
    "    labels = Norm_I_Max\n",
    "    xgbr_norm_I_max.fit(train_new_features, train_labels);\n",
    "    \n",
    "    Norm_I_Max_test = xgbr_norm_I_max.predict(test_new_features)\n",
    "    r_squared_Norm_I_Max_test = r2_score(test_labels, Norm_I_Max_test)\n",
    "\n",
    "    test_labels_ = test_labels.reshape(test_labels.shape[0], )\n",
    "\n",
    "    Norm_I_Max_test_ = Norm_I_Max_test.reshape(Norm_I_Max_test.shape[0], )\n",
    "\n",
    "    r_pearson_Norm_I_Max_test = pearsonr(test_labels_, Norm_I_Max_test_)\n",
    "    r_pearsons.append(r_pearson_Norm_I_Max_test[0])\n",
    "    r_squareds.append(r_squared_Norm_I_Max_test)\n",
    "    \n",
    "    Norm_I_Max_train = xgbr_norm_I_max.predict(train_new_features)\n",
    "    r_squared_Norm_I_Max_train = r2_score(train_labels, Norm_I_Max_train)\n",
    "    r_squareds_train.append(r_squared_Norm_I_Max_train)    \n",
    "r_pearson_Norm_I_Max_test = pearsonr(test_labels_, Norm_I_Max_test_)\n",
    "print (r_pearson_Norm_I_Max_test)\n",
    "plt.scatter(test_labels_, Norm_I_Max_test_)\n",
    "print ('Average of pearson r for test', np.mean(np.array(r_pearsons)))\n",
    "print ('std of pearson 1 for test', np.std(np.array(r_pearsons)), '\\n')\n",
    "\n",
    "print ('Average of r_squared for test', np.mean(np.array(r_squareds)))\n",
    "print ('std of r_squared for test', np.std(np.array(r_squareds)), '\\n')\n",
    "\n",
    "print ('Average of r_squared for train', np.mean(np.array(r_squareds_train)))\n",
    "print ('std of r_squared for train', np.std(np.array(r_squareds_train)))\n",
    "\n",
    "\n",
    "\n",
    "xgbr_norm_I_max.fit(new_features, labels)\n",
    "# Use the forest's predict method on the test data\n",
    "Norm_I_Max_predicted = xgbr_norm_I_max.predict(new_features)\n",
    "# Calculate the absolute errors\n",
    "errors = abs(Norm_I_Max_predicted - Norm_I_Max)\n",
    "# Print out the mean absolute error (mae)\n",
    "print('Mean Absolute Error:', round(np.mean(errors), 4), 'units.')\n",
    "\n",
    "r_squared_Norm_I_Max_all = r2_score(Norm_I_Max, Norm_I_Max_predicted)\n",
    "print('r2 score = ', r_squared_Norm_I_Max_all)\n",
    "\n",
    "# Use the forest's predict method on the test data\n",
    "Norm_I_Max_test = xgbr_norm_I_max.predict(test_new_features)\n",
    "# Calculate the absolute errors\n",
    "errors_test = abs(Norm_I_Max_test - test_labels)\n",
    "# Print out the mean absolute error (mae)\n",
    "print('Mean Absolute Error:', round(np.mean(errors_test), 4), 'units.')\n",
    "\n",
    "r_squared_Norm_I_Max_test = r2_score(test_labels, Norm_I_Max_test)\n",
    "print('r2 score = ', r_squared_Norm_I_Max_test)"
   ]
  },
  {
   "cell_type": "code",
   "execution_count": 35,
   "metadata": {},
   "outputs": [
    {
     "name": "stdout",
     "output_type": "stream",
     "text": [
      "Variable: charge_denisty Importance: ('charge_denisty', 0.04)\n",
      "Variable: PulseTime Importance: ('PulseTime', 0.03)\n",
      "Variable: material_CB Importance: ('material_CB', 0.06)\n",
      "Variable: material_MC Importance: ('material_MC', 0.73)\n",
      "Variable: material_PA Importance: ('material_PA', 0.03)\n",
      "Variable: Atmosphere_air Importance: ('Atmosphere_air', 0.0)\n",
      "Variable: Atmosphere_arg Importance: ('Atmosphere_arg', 0.0)\n",
      "Variable: Atmosphere_vac Importance: ('Atmosphere_vac', 0.1)\n"
     ]
    }
   ],
   "source": [
    "# Get numerical feature importances\n",
    "importances = list(xgbr_norm_I_max.feature_importances_)\n",
    "# List of tuples with variable and importance\n",
    "feature_importances = [(feature, round(importance, 2)) for feature, importance in zip(feature_list, importances)]\n",
    "# Sort the feature importances by most important first\n",
    "#feature_importances = sorted(feature_importances, key = lambda x: x[1], reverse = True)\n",
    "# Print out the feature and importances \n",
    "[print('Variable: {} Importance: {}'.format(feature, importance)) \n",
    " for (feature, importance) in zip(feature_list, feature_importances)];"
   ]
  },
  {
   "cell_type": "code",
   "execution_count": 36,
   "metadata": {},
   "outputs": [],
   "source": [
    "# proxy (current-time plot) prediction (Norm_charge_tot)\n",
    "new_features = np.concatenate ((charge_denisty,\n",
    "                                pulsetime,\n",
    "                                material_type,\n",
    "                                atmosphere_type,\n",
    "                                Pretreat_voltage), axis=1)\n",
    "\n",
    "rand=9\n",
    "indices = np.arange(len(new_features))\n",
    "train_new_features, test_new_features, train_labels, test_labels, idxtrain, idx_test = \\\n",
    "                      train_test_split(new_features, Norm_charge_tot, \n",
    "                                       indices, test_size = 0.20, random_state = rand)\n",
    "feature_list = ['charge_denisty',\n",
    "                'PulseTime',\n",
    "                'material_CB',\n",
    "                'material_MC',\n",
    "                'material_PA',\n",
    "                'Atmosphere_air',\n",
    "                'Atmosphere_arg',\n",
    "                'Atmosphere_vac',\n",
    "                'Pretreat_voltage']"
   ]
  },
  {
   "cell_type": "code",
   "execution_count": 37,
   "metadata": {},
   "outputs": [
    {
     "name": "stdout",
     "output_type": "stream",
     "text": [
      "Average of pearson r for test 0.6996058291621224\n",
      "std of pearson 1 for test 0.020725025868674873 \n",
      "\n",
      "Average of r_squared for test 0.4756160555824475\n",
      "std of r_squared for test 0.02779007273902078 \n",
      "\n",
      "Average of r_squared for train 0.7089506351791509\n",
      "std of r_squared for train 0.008980003715967303\n",
      "Mean Absolute Error: 29.8406 units.\n",
      "r2 score =  0.7112441443181463\n",
      "Mean Absolute Error: 33.2547 units.\n",
      "r2 score =  0.7380678571587413\n"
     ]
    }
   ],
   "source": [
    "r_squareds = list()\n",
    "r_pearsons = list()\n",
    "r_squareds_train = list()\n",
    "MAEs = list()\n",
    "MAEs_train = list()\n",
    "start = time.time()\n",
    "for random_state in range(50):\n",
    "    # after fixing the hyperparameters, train the model on all samples\n",
    "    # Instantiate model with 1000 decision tree\n",
    "    xgbr_norm_charge_total = XGBRegressor(max_depth=3, n_estimators=28, gamma=0.01, \n",
    "                   learning_rate=0.116, subsample=0.75, min_child_weight=6, \n",
    "                  random_state=random_state)\n",
    "    # xgbr_norm_charge_total = linear_model.BayesianRidge()\n",
    "    # xgbr_norm_charge_total = XGBRegressor()\n",
    "    # Train the model on training data\n",
    "    labels = Norm_charge_tot\n",
    "    xgbr_norm_charge_total.fit(train_new_features, train_labels);\n",
    "    #print('Doneskies')\n",
    "    Norm_charge_tot_test = xgbr_norm_charge_total.predict(test_new_features)\n",
    "    r_squared_Norm_charge_tot_test = r2_score(test_labels, Norm_charge_tot_test)\n",
    "    r_squareds.append(r_squared_Norm_charge_tot_test)\n",
    "    \n",
    "    test_labels_ = test_labels.reshape(test_labels.shape[0], )\n",
    "    Norm_charge_tot_test_ = Norm_charge_tot_test.reshape(Norm_charge_tot_test.shape[0], )\n",
    "    r_pearson_Norm_charge_tot_test = pearsonr(test_labels_, Norm_charge_tot_test_)\n",
    "    r_pearsons.append(r_pearson_Norm_charge_tot_test[0])\n",
    "\n",
    "    \n",
    "    Norm_charge_tot_train = xgbr_norm_charge_total.predict(train_new_features)\n",
    "    r_squared_Norm_charge_tot_train = r2_score(train_labels, Norm_charge_tot_train)\n",
    "    r_squareds_train.append(r_squared_Norm_charge_tot_train)    \n",
    "\n",
    "print ('Average of pearson r for test', np.mean(np.array(r_pearsons)))\n",
    "print ('std of pearson 1 for test', np.std(np.array(r_pearsons)), '\\n')\n",
    "\n",
    "print ('Average of r_squared for test', np.mean(np.array(r_squareds)))\n",
    "print ('std of r_squared for test', np.std(np.array(r_squareds)), '\\n')\n",
    "\n",
    "print ('Average of r_squared for train', np.mean(np.array(r_squareds_train)))\n",
    "print ('std of r_squared for train', np.std(np.array(r_squareds_train)))\n",
    "\n",
    "\n",
    "xgbr_norm_charge_total.fit(new_features, labels)\n",
    "# Use the forest's predict method on the test data\n",
    "Norm_charge_tot_predicted = xgbr_norm_charge_total.predict(new_features)\n",
    "# Calculate the absolute errors\n",
    "errors = abs(Norm_charge_tot_predicted - Norm_charge_tot)\n",
    "# Print out the mean absolute error (mae)\n",
    "print('Mean Absolute Error:', round(np.mean(errors), 4), 'units.')\n",
    "\n",
    "r_squared_Norm_charge_tot_all = r2_score(Norm_charge_tot, Norm_charge_tot_predicted)\n",
    "print('r2 score = ', r_squared_Norm_charge_tot_all)\n",
    "\n",
    "# Use the forest's predict method on the test data\n",
    "Norm_charge_tot_test = xgbr_norm_charge_total.predict(test_new_features)\n",
    "# Calculate the absolute errors\n",
    "errors_test = abs(Norm_charge_tot_test - test_labels)\n",
    "# Print out the mean absolute error (mae)\n",
    "print('Mean Absolute Error:', round(np.mean(errors_test), 4), 'units.')\n",
    "\n",
    "r_squared_Norm_charge_tot_test = r2_score(test_labels, Norm_charge_tot_test)\n",
    "print('r2 score = ', r_squared_Norm_charge_tot_test)"
   ]
  },
  {
   "cell_type": "code",
   "execution_count": 38,
   "metadata": {},
   "outputs": [
    {
     "name": "stdout",
     "output_type": "stream",
     "text": [
      "Variable: charge_denisty Importance: ('charge_denisty', 0.26)\n",
      "Variable: PulseTime Importance: ('PulseTime', 0.28)\n",
      "Variable: material_CB Importance: ('material_CB', 0.07)\n",
      "Variable: material_MC Importance: ('material_MC', 0.18)\n",
      "Variable: material_PA Importance: ('material_PA', 0.06)\n",
      "Variable: Atmosphere_air Importance: ('Atmosphere_air', 0.0)\n",
      "Variable: Atmosphere_arg Importance: ('Atmosphere_arg', 0.0)\n",
      "Variable: Atmosphere_vac Importance: ('Atmosphere_vac', 0.16)\n"
     ]
    }
   ],
   "source": [
    "# Get numerical feature importances\n",
    "importances = list(xgbr_norm_charge_total.feature_importances_)\n",
    "# List of tuples with variable and importance\n",
    "feature_importances = [(feature, round(importance, 2)) for feature, importance in zip(feature_list, importances)]\n",
    "# Sort the feature importances by most important first\n",
    "#feature_importances = sorted(feature_importances, key = lambda x: x[1], reverse = True)\n",
    "# Print out the feature and importances \n",
    "[print('Variable: {} Importance: {}'.format(feature, importance)) \n",
    " for (feature, importance) in zip(feature_list, feature_importances)];"
   ]
  },
  {
   "cell_type": "code",
   "execution_count": 39,
   "metadata": {},
   "outputs": [],
   "source": [
    "heat_power = np.array (df['Voltage']*df['Voltage']/df['Init_R']*df['PulseTime']).reshape(-1, 1)\n",
    "# Porxy properties, as well as process parameters\n",
    "new_features = np.concatenate ((charge_denisty, \n",
    "                                material_type, \n",
    "                                pulsetime,\n",
    "                                Pretreat_voltage,\n",
    "                                atmosphere_type,\n",
    "                                Final_Current_Percent_predicted.reshape(-1, 1),\n",
    "                                Norm_I_Max_predicted.reshape(-1, 1),\n",
    "                                Norm_charge_tot_predicted.reshape(-1, 1)), axis=1)\n",
    "#                                heat_power.reshape(-1, 1)), axis=1)\n",
    "\n",
    "rand=9\n",
    "indices = np.arange(len(new_features))\n",
    "train_new_features, test_new_features, train_labels, test_labels, idxtrain, idx_test = \\\n",
    "                      train_test_split(new_features, Graphene_Yield, \n",
    "                                       indices, test_size = 0.20, random_state = rand)\n",
    "\n",
    "feature_list = ['charge_denisty',\n",
    "                'material_CB',\n",
    "                'material_MC',\n",
    "                'material_PA',\n",
    "                'PulseTime',\n",
    "                'Pretreat_voltage',\n",
    "                'Atmosphere_air',\n",
    "                'Atmosphere_arg',\n",
    "                'Atmosphere_vac',\n",
    "                'Final_Current_Percent',\n",
    "                'Norm_I_Max',\n",
    "                'Norm_charge_tot',\n",
    "                'heat_power']"
   ]
  },
  {
   "cell_type": "raw",
   "metadata": {},
   "source": [
    "# using only process parameters\n",
    "new_features = np.concatenate ((charge_denisty, \n",
    "                                material_type, \n",
    "                                pulsetime), axis=1)\n",
    "\n",
    "rand=9\n",
    "indices = np.arange(len(new_features))\n",
    "train_new_features, test_new_features, train_labels, test_labels, idxtrain, idx_test = \\\n",
    "                      train_test_split(new_features, Graphene_Yield, \n",
    "                                       indices, test_size = 0.20, random_state = rand)"
   ]
  },
  {
   "cell_type": "code",
   "execution_count": 29,
   "metadata": {},
   "outputs": [
    {
     "name": "stdout",
     "output_type": "stream",
     "text": [
      "Fitting 5 folds for each of 4 candidates, totalling 20 fits\n"
     ]
    },
    {
     "name": "stderr",
     "output_type": "stream",
     "text": [
      "/home/kianoosh/anaconda3/envs/my-rdkit-env/lib/python3.9/site-packages/xgboost/compat.py:36: FutureWarning: pandas.Int64Index is deprecated and will be removed from pandas in a future version. Use pandas.Index with the appropriate dtype instead.\n",
      "  from pandas import MultiIndex, Int64Index\n",
      "/home/kianoosh/anaconda3/envs/my-rdkit-env/lib/python3.9/site-packages/xgboost/compat.py:36: FutureWarning: pandas.Int64Index is deprecated and will be removed from pandas in a future version. Use pandas.Index with the appropriate dtype instead.\n",
      "  from pandas import MultiIndex, Int64Index\n",
      "/home/kianoosh/anaconda3/envs/my-rdkit-env/lib/python3.9/site-packages/xgboost/compat.py:36: FutureWarning: pandas.Int64Index is deprecated and will be removed from pandas in a future version. Use pandas.Index with the appropriate dtype instead.\n",
      "  from pandas import MultiIndex, Int64Index\n",
      "/home/kianoosh/anaconda3/envs/my-rdkit-env/lib/python3.9/site-packages/xgboost/compat.py:36: FutureWarning: pandas.Int64Index is deprecated and will be removed from pandas in a future version. Use pandas.Index with the appropriate dtype instead.\n",
      "  from pandas import MultiIndex, Int64Index\n",
      "/home/kianoosh/anaconda3/envs/my-rdkit-env/lib/python3.9/site-packages/xgboost/compat.py:36: FutureWarning: pandas.Int64Index is deprecated and will be removed from pandas in a future version. Use pandas.Index with the appropriate dtype instead.\n",
      "  from pandas import MultiIndex, Int64Index\n",
      "/home/kianoosh/anaconda3/envs/my-rdkit-env/lib/python3.9/site-packages/xgboost/compat.py:36: FutureWarning: pandas.Int64Index is deprecated and will be removed from pandas in a future version. Use pandas.Index with the appropriate dtype instead.\n",
      "  from pandas import MultiIndex, Int64Index\n",
      "/home/kianoosh/anaconda3/envs/my-rdkit-env/lib/python3.9/site-packages/xgboost/compat.py:36: FutureWarning: pandas.Int64Index is deprecated and will be removed from pandas in a future version. Use pandas.Index with the appropriate dtype instead.\n",
      "  from pandas import MultiIndex, Int64Index\n",
      "/home/kianoosh/anaconda3/envs/my-rdkit-env/lib/python3.9/site-packages/xgboost/compat.py:36: FutureWarning: pandas.Int64Index is deprecated and will be removed from pandas in a future version. Use pandas.Index with the appropriate dtype instead.\n",
      "  from pandas import MultiIndex, Int64Index\n"
     ]
    },
    {
     "name": "stdout",
     "output_type": "stream",
     "text": [
      "Max Depth:  3\n",
      "N Estimators:  24\n",
      "Min Child Weight:  5\n",
      "Learning Rate:  0.11333333333333333\n",
      "Subsample:  0.7\n",
      "Gamma:  0.0001\n",
      "total time is 22.588096380233765\n"
     ]
    }
   ],
   "source": [
    "# Grid Search CV each fit takes 1Sec, 5CV means running 5 times for each possibility\n",
    "start = time.time()\n",
    "from sklearn.model_selection import GridSearchCV\n",
    "gsc = GridSearchCV(\n",
    "        estimator=XGBRegressor(),\n",
    "        param_grid={\n",
    "            'max_depth': [3],\n",
    "            'n_estimators': [24],\n",
    "            'min_child_weight': [5],\n",
    "            'learning_rate': np.linspace(0.11, 0.12, 4),\n",
    "            'subsample': [0.7],\n",
    "            'gamma': [0.0001]\n",
    "        },\n",
    "        cv=5, scoring='neg_mean_squared_error', verbose=10, n_jobs=-1)\n",
    "grid_result = gsc.fit(train_new_features, train_labels)\n",
    "best_params = grid_result.best_params_\n",
    "print('Max Depth: ', best_params[\"max_depth\"])\n",
    "print('N Estimators: ', best_params[\"n_estimators\"])\n",
    "print('Min Child Weight: ', best_params[\"min_child_weight\"])\n",
    "print('Learning Rate: ', best_params[\"learning_rate\"])\n",
    "print('Subsample: ', best_params[\"subsample\"])\n",
    "print('Gamma: ', best_params[\"gamma\"])\n",
    "end = time.time()\n",
    "print ('total time is {}'.format(end-start))"
   ]
  },
  {
   "cell_type": "code",
   "execution_count": 51,
   "metadata": {},
   "outputs": [
    {
     "name": "stdout",
     "output_type": "stream",
     "text": [
      "Average of r_squared for test 0.7656130257500763\n",
      "std of r_squared for test 0.014398749487385525 \n",
      "\n",
      "Average of r_squared for train 0.8219535564129944\n",
      "std of r_squared for train 0.004937284264500504\n",
      "Mean Absolute Error: 28.0162 units.\n",
      "r2 score =  0.8147570496074349\n",
      "time is:  5.6480231285095215\n"
     ]
    }
   ],
   "source": [
    "r_squareds = list()\n",
    "r_squareds_train = list()\n",
    "MAEs = list()\n",
    "MAEs_train = list()\n",
    "start = time.time()\n",
    "for random_state in range(50):\n",
    "    # Instantiate model with 1000 decision trees\n",
    "    xgbr_graphyield = XGBRegressor(max_depth=3, n_estimators=38, gamma=0.001, \n",
    "                   learning_rate=0.09, subsample=0.75, min_child_weight=4, \n",
    "                   random_state=random_state)\n",
    "    # Train the model on training data\n",
    "    xgbr_graphyield.fit(train_new_features, train_labels);\n",
    "    # Use the forest's predict method on the test data\n",
    "    predictions = xgbr_graphyield.predict(test_new_features)\n",
    "    # Calculate the absolute errors\n",
    "    errors = abs(predictions - test_labels)\n",
    "    MAEs.append(errors)\n",
    "    # Print out the mean absolute error (mae)\n",
    "    #print('Mean Absolute Error:', round(np.mean(errors), 4), 'units.')\n",
    "\n",
    "    r_squared = r2_score(test_labels, predictions)\n",
    "    r_squareds.append (r_squared)\n",
    "    \n",
    "    pred_train = xgbr_graphyield.predict(train_new_features)\n",
    "    errors = abs(pred_train - train_labels)\n",
    "    MAEs_train.append(errors)\n",
    "    r_squared = r2_score(train_labels, pred_train)\n",
    "    r_squareds_train.append(r_squared)\n",
    "    #print('r2 score = ', r_squared)\n",
    "\n",
    "print ('Average of r_squared for test', np.mean(np.array(r_squareds)))\n",
    "print ('std of r_squared for test', np.std(np.array(r_squareds)), '\\n')\n",
    "\n",
    "print ('Average of r_squared for train', np.mean(np.array(r_squareds_train)))\n",
    "print ('std of r_squared for train', np.std(np.array(r_squareds_train)))\n",
    "# train accuracy\n",
    "pred_train = xgbr_graphyield.predict(train_new_features)\n",
    "\n",
    "# Calculate the absolute errors\n",
    "errors_train = abs(pred_train - train_labels)\n",
    "\n",
    "# Print out the mean absolute error (mae)\n",
    "print('Mean Absolute Error:', round(np.mean(errors_train), 4), 'units.')\n",
    "\n",
    "r_squared_train = r2_score(train_labels, pred_train)\n",
    "print('r2 score = ', r_squared_train)\n",
    "end = time.time()\n",
    "print ('time is: ', end-start)"
   ]
  },
  {
   "cell_type": "code",
   "execution_count": 44,
   "metadata": {},
   "outputs": [
    {
     "data": {
      "text/plain": [
       "(-0.39489014706615255, 7.597257773887351e-08)"
      ]
     },
     "execution_count": 44,
     "metadata": {},
     "output_type": "execute_result"
    },
    {
     "data": {
      "image/png": "[encoded data removed]",
      "text/plain": [
       "<Figure size 432x288 with 1 Axes>"
      ]
     },
     "metadata": {
      "needs_background": "light"
     },
     "output_type": "display_data"
    }
   ],
   "source": [
    "plt.scatter(pulsetime, Final_Current_Percent_predicted)\n",
    "\n",
    "pulsetime_ = pulsetime.reshape(pulsetime.shape[0], )\n",
    "Final_Current_Percent_predicted_ = Final_Current_Percent_predicted.reshape(\n",
    "                                   Final_Current_Percent_predicted.shape[0], )\n",
    "\n",
    "pearsonr(pulsetime_, Final_Current_Percent_predicted_)"
   ]
  },
  {
   "cell_type": "code",
   "execution_count": 32,
   "metadata": {},
   "outputs": [
    {
     "data": {
      "text/plain": [
       "(-0.2525116100383402, 0.0008032370563795286)"
      ]
     },
     "execution_count": 32,
     "metadata": {},
     "output_type": "execute_result"
    },
    {
     "data": {
      "image/png": "[encoded data removed]",
      "text/plain": [
       "<Figure size 432x288 with 1 Axes>"
      ]
     },
     "metadata": {
      "needs_background": "light"
     },
     "output_type": "display_data"
    }
   ],
   "source": [
    "plt.scatter(pulsetime, Norm_I_Max_predicted)\n",
    "\n",
    "pulsetime_ = pulsetime.reshape(pulsetime.shape[0], )\n",
    "Norm_I_Max_predicted_ = Norm_I_Max_predicted.reshape(\n",
    "                                   Norm_I_Max_predicted.shape[0], )\n",
    "\n",
    "pearsonr(pulsetime_, Norm_I_Max_predicted_)"
   ]
  },
  {
   "cell_type": "code",
   "execution_count": 33,
   "metadata": {},
   "outputs": [
    {
     "data": {
      "text/plain": [
       "(0.4730123737499385, 4.97968076075472e-11)"
      ]
     },
     "execution_count": 33,
     "metadata": {},
     "output_type": "execute_result"
    },
    {
     "data": {
      "image/png": "[encoded data removed]",
      "text/plain": [
       "<Figure size 432x288 with 1 Axes>"
      ]
     },
     "metadata": {
      "needs_background": "light"
     },
     "output_type": "display_data"
    }
   ],
   "source": [
    "plt.scatter(pulsetime, Norm_charge_tot_predicted)\n",
    "\n",
    "pulsetime_ = pulsetime.reshape(pulsetime.shape[0], )\n",
    "Norm_charge_tot_predicted_ = Norm_charge_tot_predicted.reshape(\n",
    "                                   Norm_charge_tot_predicted.shape[0], )\n",
    "\n",
    "pearsonr(pulsetime_, Norm_charge_tot_predicted_)"
   ]
  },
  {
   "cell_type": "code",
   "execution_count": 34,
   "metadata": {},
   "outputs": [
    {
     "data": {
      "text/html": [
       "<div>\n",
       "<style scoped>\n",
       "    .dataframe tbody tr th:only-of-type {\n",
       "        vertical-align: middle;\n",
       "    }\n",
       "\n",
       "    .dataframe tbody tr th {\n",
       "        vertical-align: top;\n",
       "    }\n",
       "\n",
       "    .dataframe thead th {\n",
       "        text-align: right;\n",
       "    }\n",
       "</style>\n",
       "<table border=\"1\" class=\"dataframe\">\n",
       "  <thead>\n",
       "    <tr style=\"text-align: right;\">\n",
       "      <th></th>\n",
       "      <th>Sample</th>\n",
       "      <th>Mass</th>\n",
       "      <th>Pretreat_voltage</th>\n",
       "      <th>Pretreat_highest</th>\n",
       "      <th>Voltage</th>\n",
       "      <th>PulseTime</th>\n",
       "      <th>Res_Volt</th>\n",
       "      <th>Cap</th>\n",
       "      <th>Init_R</th>\n",
       "      <th>Fin_R</th>\n",
       "      <th>...</th>\n",
       "      <th>Atmosphere_air</th>\n",
       "      <th>Atmosphere_arg</th>\n",
       "      <th>Atmosphere_vac</th>\n",
       "      <th>Norm_charge_tot</th>\n",
       "      <th>Norm_I_Max</th>\n",
       "      <th>charge_density</th>\n",
       "      <th>Final_Current_Percent</th>\n",
       "      <th>heat_power</th>\n",
       "      <th>materialgroup</th>\n",
       "      <th>ID</th>\n",
       "    </tr>\n",
       "  </thead>\n",
       "  <tbody>\n",
       "    <tr>\n",
       "      <th>0</th>\n",
       "      <td>1</td>\n",
       "      <td>200.0</td>\n",
       "      <td>60.0</td>\n",
       "      <td>60.0</td>\n",
       "      <td>235.0</td>\n",
       "      <td>1200.0</td>\n",
       "      <td>56.0</td>\n",
       "      <td>96.0</td>\n",
       "      <td>1.6</td>\n",
       "      <td>0.4</td>\n",
       "      <td>...</td>\n",
       "      <td>0</td>\n",
       "      <td>0</td>\n",
       "      <td>1</td>\n",
       "      <td>80.159727</td>\n",
       "      <td>746.820500</td>\n",
       "      <td>112.800000</td>\n",
       "      <td>0.063619</td>\n",
       "      <td>414.187500</td>\n",
       "      <td>CB</td>\n",
       "      <td>1</td>\n",
       "    </tr>\n",
       "    <tr>\n",
       "      <th>1</th>\n",
       "      <td>2</td>\n",
       "      <td>161.9</td>\n",
       "      <td>150.0</td>\n",
       "      <td>50.0</td>\n",
       "      <td>120.0</td>\n",
       "      <td>50.0</td>\n",
       "      <td>98.0</td>\n",
       "      <td>114.0</td>\n",
       "      <td>1.6</td>\n",
       "      <td>1.0</td>\n",
       "      <td>...</td>\n",
       "      <td>0</td>\n",
       "      <td>0</td>\n",
       "      <td>1</td>\n",
       "      <td>13.029621</td>\n",
       "      <td>547.293823</td>\n",
       "      <td>84.496603</td>\n",
       "      <td>0.990995</td>\n",
       "      <td>4.500000</td>\n",
       "      <td>CB</td>\n",
       "      <td>2</td>\n",
       "    </tr>\n",
       "    <tr>\n",
       "      <th>2</th>\n",
       "      <td>3</td>\n",
       "      <td>200.0</td>\n",
       "      <td>240.0</td>\n",
       "      <td>60.0</td>\n",
       "      <td>235.0</td>\n",
       "      <td>300.0</td>\n",
       "      <td>161.0</td>\n",
       "      <td>96.0</td>\n",
       "      <td>1.7</td>\n",
       "      <td>0.3</td>\n",
       "      <td>...</td>\n",
       "      <td>0</td>\n",
       "      <td>0</td>\n",
       "      <td>1</td>\n",
       "      <td>35.543043</td>\n",
       "      <td>443.034350</td>\n",
       "      <td>112.800000</td>\n",
       "      <td>0.158840</td>\n",
       "      <td>97.455882</td>\n",
       "      <td>CB</td>\n",
       "      <td>3</td>\n",
       "    </tr>\n",
       "    <tr>\n",
       "      <th>3</th>\n",
       "      <td>4</td>\n",
       "      <td>200.0</td>\n",
       "      <td>320.0</td>\n",
       "      <td>80.0</td>\n",
       "      <td>235.0</td>\n",
       "      <td>900.0</td>\n",
       "      <td>43.0</td>\n",
       "      <td>96.0</td>\n",
       "      <td>1.8</td>\n",
       "      <td>0.5</td>\n",
       "      <td>...</td>\n",
       "      <td>0</td>\n",
       "      <td>0</td>\n",
       "      <td>1</td>\n",
       "      <td>86.790377</td>\n",
       "      <td>513.726500</td>\n",
       "      <td>112.800000</td>\n",
       "      <td>0.099584</td>\n",
       "      <td>276.125000</td>\n",
       "      <td>CB</td>\n",
       "      <td>4</td>\n",
       "    </tr>\n",
       "    <tr>\n",
       "      <th>4</th>\n",
       "      <td>5</td>\n",
       "      <td>187.0</td>\n",
       "      <td>60.0</td>\n",
       "      <td>60.0</td>\n",
       "      <td>145.0</td>\n",
       "      <td>125.0</td>\n",
       "      <td>104.6</td>\n",
       "      <td>96.0</td>\n",
       "      <td>1.4</td>\n",
       "      <td>0.8</td>\n",
       "      <td>...</td>\n",
       "      <td>1</td>\n",
       "      <td>0</td>\n",
       "      <td>0</td>\n",
       "      <td>19.643746</td>\n",
       "      <td>375.748930</td>\n",
       "      <td>74.438503</td>\n",
       "      <td>0.216167</td>\n",
       "      <td>18.772321</td>\n",
       "      <td>CB</td>\n",
       "      <td>5</td>\n",
       "    </tr>\n",
       "    <tr>\n",
       "      <th>...</th>\n",
       "      <td>...</td>\n",
       "      <td>...</td>\n",
       "      <td>...</td>\n",
       "      <td>...</td>\n",
       "      <td>...</td>\n",
       "      <td>...</td>\n",
       "      <td>...</td>\n",
       "      <td>...</td>\n",
       "      <td>...</td>\n",
       "      <td>...</td>\n",
       "      <td>...</td>\n",
       "      <td>...</td>\n",
       "      <td>...</td>\n",
       "      <td>...</td>\n",
       "      <td>...</td>\n",
       "      <td>...</td>\n",
       "      <td>...</td>\n",
       "      <td>...</td>\n",
       "      <td>...</td>\n",
       "      <td>...</td>\n",
       "      <td>...</td>\n",
       "    </tr>\n",
       "    <tr>\n",
       "      <th>169</th>\n",
       "      <td>112</td>\n",
       "      <td>348.0</td>\n",
       "      <td>200.0</td>\n",
       "      <td>120.0</td>\n",
       "      <td>209.0</td>\n",
       "      <td>202.0</td>\n",
       "      <td>77.6</td>\n",
       "      <td>150.0</td>\n",
       "      <td>4.8</td>\n",
       "      <td>0.8</td>\n",
       "      <td>...</td>\n",
       "      <td>0</td>\n",
       "      <td>0</td>\n",
       "      <td>1</td>\n",
       "      <td>67.741729</td>\n",
       "      <td>1103.409483</td>\n",
       "      <td>90.086207</td>\n",
       "      <td>0.092858</td>\n",
       "      <td>18.382421</td>\n",
       "      <td>PA</td>\n",
       "      <td>169</td>\n",
       "    </tr>\n",
       "    <tr>\n",
       "      <th>170</th>\n",
       "      <td>113</td>\n",
       "      <td>310.0</td>\n",
       "      <td>210.0</td>\n",
       "      <td>110.0</td>\n",
       "      <td>196.0</td>\n",
       "      <td>179.0</td>\n",
       "      <td>56.1</td>\n",
       "      <td>114.0</td>\n",
       "      <td>6.7</td>\n",
       "      <td>1.1</td>\n",
       "      <td>...</td>\n",
       "      <td>0</td>\n",
       "      <td>0</td>\n",
       "      <td>1</td>\n",
       "      <td>58.474320</td>\n",
       "      <td>924.340645</td>\n",
       "      <td>72.077419</td>\n",
       "      <td>0.086653</td>\n",
       "      <td>10.263379</td>\n",
       "      <td>PA</td>\n",
       "      <td>170</td>\n",
       "    </tr>\n",
       "    <tr>\n",
       "      <th>171</th>\n",
       "      <td>114</td>\n",
       "      <td>245.0</td>\n",
       "      <td>300.0</td>\n",
       "      <td>100.0</td>\n",
       "      <td>204.0</td>\n",
       "      <td>305.0</td>\n",
       "      <td>23.2</td>\n",
       "      <td>186.0</td>\n",
       "      <td>4.7</td>\n",
       "      <td>0.6</td>\n",
       "      <td>...</td>\n",
       "      <td>0</td>\n",
       "      <td>0</td>\n",
       "      <td>1</td>\n",
       "      <td>118.980850</td>\n",
       "      <td>1882.346939</td>\n",
       "      <td>154.873469</td>\n",
       "      <td>0.024435</td>\n",
       "      <td>27.006128</td>\n",
       "      <td>PA</td>\n",
       "      <td>171</td>\n",
       "    </tr>\n",
       "    <tr>\n",
       "      <th>172</th>\n",
       "      <td>115</td>\n",
       "      <td>212.0</td>\n",
       "      <td>240.0</td>\n",
       "      <td>100.0</td>\n",
       "      <td>180.0</td>\n",
       "      <td>500.0</td>\n",
       "      <td>73.3</td>\n",
       "      <td>114.0</td>\n",
       "      <td>16.2</td>\n",
       "      <td>3.0</td>\n",
       "      <td>...</td>\n",
       "      <td>1</td>\n",
       "      <td>0</td>\n",
       "      <td>0</td>\n",
       "      <td>88.670641</td>\n",
       "      <td>1167.779717</td>\n",
       "      <td>96.792453</td>\n",
       "      <td>0.058311</td>\n",
       "      <td>10.000000</td>\n",
       "      <td>PA</td>\n",
       "      <td>172</td>\n",
       "    </tr>\n",
       "    <tr>\n",
       "      <th>173</th>\n",
       "      <td>116</td>\n",
       "      <td>321.0</td>\n",
       "      <td>240.0</td>\n",
       "      <td>100.0</td>\n",
       "      <td>160.0</td>\n",
       "      <td>220.0</td>\n",
       "      <td>54.0</td>\n",
       "      <td>114.0</td>\n",
       "      <td>7.6</td>\n",
       "      <td>1.0</td>\n",
       "      <td>...</td>\n",
       "      <td>1</td>\n",
       "      <td>0</td>\n",
       "      <td>0</td>\n",
       "      <td>58.755853</td>\n",
       "      <td>695.057632</td>\n",
       "      <td>56.822430</td>\n",
       "      <td>0.150186</td>\n",
       "      <td>7.410526</td>\n",
       "      <td>PA</td>\n",
       "      <td>173</td>\n",
       "    </tr>\n",
       "  </tbody>\n",
       "</table>\n",
       "<p>173 rows × 34 columns</p>\n",
       "</div>"
      ],
      "text/plain": [
       "     Sample   Mass  Pretreat_voltage  Pretreat_highest  Voltage  PulseTime  \\\n",
       "0         1  200.0              60.0              60.0    235.0     1200.0   \n",
       "1         2  161.9             150.0              50.0    120.0       50.0   \n",
       "2         3  200.0             240.0              60.0    235.0      300.0   \n",
       "3         4  200.0             320.0              80.0    235.0      900.0   \n",
       "4         5  187.0              60.0              60.0    145.0      125.0   \n",
       "..      ...    ...               ...               ...      ...        ...   \n",
       "169     112  348.0             200.0             120.0    209.0      202.0   \n",
       "170     113  310.0             210.0             110.0    196.0      179.0   \n",
       "171     114  245.0             300.0             100.0    204.0      305.0   \n",
       "172     115  212.0             240.0             100.0    180.0      500.0   \n",
       "173     116  321.0             240.0             100.0    160.0      220.0   \n",
       "\n",
       "     Res_Volt    Cap  Init_R  Fin_R  ...  Atmosphere_air  Atmosphere_arg  \\\n",
       "0        56.0   96.0     1.6    0.4  ...               0               0   \n",
       "1        98.0  114.0     1.6    1.0  ...               0               0   \n",
       "2       161.0   96.0     1.7    0.3  ...               0               0   \n",
       "3        43.0   96.0     1.8    0.5  ...               0               0   \n",
       "4       104.6   96.0     1.4    0.8  ...               1               0   \n",
       "..        ...    ...     ...    ...  ...             ...             ...   \n",
       "169      77.6  150.0     4.8    0.8  ...               0               0   \n",
       "170      56.1  114.0     6.7    1.1  ...               0               0   \n",
       "171      23.2  186.0     4.7    0.6  ...               0               0   \n",
       "172      73.3  114.0    16.2    3.0  ...               1               0   \n",
       "173      54.0  114.0     7.6    1.0  ...               1               0   \n",
       "\n",
       "     Atmosphere_vac  Norm_charge_tot   Norm_I_Max  charge_density  \\\n",
       "0                 1        80.159727   746.820500      112.800000   \n",
       "1                 1        13.029621   547.293823       84.496603   \n",
       "2                 1        35.543043   443.034350      112.800000   \n",
       "3                 1        86.790377   513.726500      112.800000   \n",
       "4                 0        19.643746   375.748930       74.438503   \n",
       "..              ...              ...          ...             ...   \n",
       "169               1        67.741729  1103.409483       90.086207   \n",
       "170               1        58.474320   924.340645       72.077419   \n",
       "171               1       118.980850  1882.346939      154.873469   \n",
       "172               0        88.670641  1167.779717       96.792453   \n",
       "173               0        58.755853   695.057632       56.822430   \n",
       "\n",
       "     Final_Current_Percent  heat_power  materialgroup   ID  \n",
       "0                 0.063619  414.187500             CB    1  \n",
       "1                 0.990995    4.500000             CB    2  \n",
       "2                 0.158840   97.455882             CB    3  \n",
       "3                 0.099584  276.125000             CB    4  \n",
       "4                 0.216167   18.772321             CB    5  \n",
       "..                     ...         ...            ...  ...  \n",
       "169               0.092858   18.382421             PA  169  \n",
       "170               0.086653   10.263379             PA  170  \n",
       "171               0.024435   27.006128             PA  171  \n",
       "172               0.058311   10.000000             PA  172  \n",
       "173               0.150186    7.410526             PA  173  \n",
       "\n",
       "[173 rows x 34 columns]"
      ]
     },
     "execution_count": 34,
     "metadata": {},
     "output_type": "execute_result"
    }
   ],
   "source": [
    "df_currenttime"
   ]
  },
  {
   "cell_type": "code",
   "execution_count": null,
   "metadata": {},
   "outputs": [],
   "source": []
  },
  {
   "cell_type": "code",
   "execution_count": 35,
   "metadata": {},
   "outputs": [
    {
     "ename": "KeyError",
     "evalue": "'pulsetime'",
     "output_type": "error",
     "traceback": [
      "\u001b[0;31m---------------------------------------------------------------------------\u001b[0m",
      "\u001b[0;31mKeyError\u001b[0m                                  Traceback (most recent call last)",
      "File \u001b[0;32m~/anaconda3/envs/my-rdkit-env/lib/python3.9/site-packages/pandas/core/indexes/base.py:3621\u001b[0m, in \u001b[0;36mIndex.get_loc\u001b[0;34m(self, key, method, tolerance)\u001b[0m\n\u001b[1;32m   3620\u001b[0m \u001b[38;5;28;01mtry\u001b[39;00m:\n\u001b[0;32m-> 3621\u001b[0m     \u001b[38;5;28;01mreturn\u001b[39;00m \u001b[38;5;28;43mself\u001b[39;49m\u001b[38;5;241;43m.\u001b[39;49m\u001b[43m_engine\u001b[49m\u001b[38;5;241;43m.\u001b[39;49m\u001b[43mget_loc\u001b[49m\u001b[43m(\u001b[49m\u001b[43mcasted_key\u001b[49m\u001b[43m)\u001b[49m\n\u001b[1;32m   3622\u001b[0m \u001b[38;5;28;01mexcept\u001b[39;00m \u001b[38;5;167;01mKeyError\u001b[39;00m \u001b[38;5;28;01mas\u001b[39;00m err:\n",
      "File \u001b[0;32m~/anaconda3/envs/my-rdkit-env/lib/python3.9/site-packages/pandas/_libs/index.pyx:136\u001b[0m, in \u001b[0;36mpandas._libs.index.IndexEngine.get_loc\u001b[0;34m()\u001b[0m\n",
      "File \u001b[0;32m~/anaconda3/envs/my-rdkit-env/lib/python3.9/site-packages/pandas/_libs/index.pyx:163\u001b[0m, in \u001b[0;36mpandas._libs.index.IndexEngine.get_loc\u001b[0;34m()\u001b[0m\n",
      "File \u001b[0;32mpandas/_libs/hashtable_class_helper.pxi:5198\u001b[0m, in \u001b[0;36mpandas._libs.hashtable.PyObjectHashTable.get_item\u001b[0;34m()\u001b[0m\n",
      "File \u001b[0;32mpandas/_libs/hashtable_class_helper.pxi:5206\u001b[0m, in \u001b[0;36mpandas._libs.hashtable.PyObjectHashTable.get_item\u001b[0;34m()\u001b[0m\n",
      "\u001b[0;31mKeyError\u001b[0m: 'pulsetime'",
      "\nThe above exception was the direct cause of the following exception:\n",
      "\u001b[0;31mKeyError\u001b[0m                                  Traceback (most recent call last)",
      "Input \u001b[0;32mIn [35]\u001b[0m, in \u001b[0;36m<cell line: 1>\u001b[0;34m()\u001b[0m\n\u001b[0;32m----> 1\u001b[0m df_currenttime2 \u001b[38;5;241m=\u001b[39m df_currenttime\u001b[38;5;241m.\u001b[39mloc[\u001b[43mdf_currenttime\u001b[49m\u001b[43m \u001b[49m\u001b[43m[\u001b[49m\u001b[38;5;124;43m'\u001b[39;49m\u001b[38;5;124;43mpulsetime\u001b[39;49m\u001b[38;5;124;43m'\u001b[39;49m\u001b[43m]\u001b[49m\u001b[38;5;241m<\u001b[39m\u001b[38;5;241m750\u001b[39m, :]\n",
      "File \u001b[0;32m~/anaconda3/envs/my-rdkit-env/lib/python3.9/site-packages/pandas/core/frame.py:3505\u001b[0m, in \u001b[0;36mDataFrame.__getitem__\u001b[0;34m(self, key)\u001b[0m\n\u001b[1;32m   3503\u001b[0m \u001b[38;5;28;01mif\u001b[39;00m \u001b[38;5;28mself\u001b[39m\u001b[38;5;241m.\u001b[39mcolumns\u001b[38;5;241m.\u001b[39mnlevels \u001b[38;5;241m>\u001b[39m \u001b[38;5;241m1\u001b[39m:\n\u001b[1;32m   3504\u001b[0m     \u001b[38;5;28;01mreturn\u001b[39;00m \u001b[38;5;28mself\u001b[39m\u001b[38;5;241m.\u001b[39m_getitem_multilevel(key)\n\u001b[0;32m-> 3505\u001b[0m indexer \u001b[38;5;241m=\u001b[39m \u001b[38;5;28;43mself\u001b[39;49m\u001b[38;5;241;43m.\u001b[39;49m\u001b[43mcolumns\u001b[49m\u001b[38;5;241;43m.\u001b[39;49m\u001b[43mget_loc\u001b[49m\u001b[43m(\u001b[49m\u001b[43mkey\u001b[49m\u001b[43m)\u001b[49m\n\u001b[1;32m   3506\u001b[0m \u001b[38;5;28;01mif\u001b[39;00m is_integer(indexer):\n\u001b[1;32m   3507\u001b[0m     indexer \u001b[38;5;241m=\u001b[39m [indexer]\n",
      "File \u001b[0;32m~/anaconda3/envs/my-rdkit-env/lib/python3.9/site-packages/pandas/core/indexes/base.py:3623\u001b[0m, in \u001b[0;36mIndex.get_loc\u001b[0;34m(self, key, method, tolerance)\u001b[0m\n\u001b[1;32m   3621\u001b[0m     \u001b[38;5;28;01mreturn\u001b[39;00m \u001b[38;5;28mself\u001b[39m\u001b[38;5;241m.\u001b[39m_engine\u001b[38;5;241m.\u001b[39mget_loc(casted_key)\n\u001b[1;32m   3622\u001b[0m \u001b[38;5;28;01mexcept\u001b[39;00m \u001b[38;5;167;01mKeyError\u001b[39;00m \u001b[38;5;28;01mas\u001b[39;00m err:\n\u001b[0;32m-> 3623\u001b[0m     \u001b[38;5;28;01mraise\u001b[39;00m \u001b[38;5;167;01mKeyError\u001b[39;00m(key) \u001b[38;5;28;01mfrom\u001b[39;00m \u001b[38;5;21;01merr\u001b[39;00m\n\u001b[1;32m   3624\u001b[0m \u001b[38;5;28;01mexcept\u001b[39;00m \u001b[38;5;167;01mTypeError\u001b[39;00m:\n\u001b[1;32m   3625\u001b[0m     \u001b[38;5;66;03m# If we have a listlike key, _check_indexing_error will raise\u001b[39;00m\n\u001b[1;32m   3626\u001b[0m     \u001b[38;5;66;03m#  InvalidIndexError. Otherwise we fall through and re-raise\u001b[39;00m\n\u001b[1;32m   3627\u001b[0m     \u001b[38;5;66;03m#  the TypeError.\u001b[39;00m\n\u001b[1;32m   3628\u001b[0m     \u001b[38;5;28mself\u001b[39m\u001b[38;5;241m.\u001b[39m_check_indexing_error(key)\n",
      "\u001b[0;31mKeyError\u001b[0m: 'pulsetime'"
     ]
    }
   ],
   "source": [
    "df_currenttime2 = df_currenttime.loc[df_currenttime ['pulsetime']<750, :]"
   ]
  },
  {
   "cell_type": "code",
   "execution_count": null,
   "metadata": {},
   "outputs": [],
   "source": []
  },
  {
   "cell_type": "code",
   "execution_count": null,
   "metadata": {},
   "outputs": [],
   "source": [
    "pulsetime_ = pulsetime.reshape(pulsetime.shape[0], )\n",
    "Final_Current_Percent_predicted_ = Final_Current_Percent_predicted.reshape(Final_Current_Percent_predicted.shape[0], )\n",
    "\n",
    "pearsonr(pulsetime_, Final_Current_Percent_predicted_)"
   ]
  },
  {
   "cell_type": "code",
   "execution_count": null,
   "metadata": {},
   "outputs": [],
   "source": [
    "# Get numerical feature importances\n",
    "importances = list(xgbr_graphyield.feature_importances_)\n",
    "# List of tuples with variable and importance\n",
    "feature_importances = [(feature, round(importance, 2)) for feature, importance in zip(feature_list, importances)]\n",
    "# Sort the feature importances by most important first\n",
    "#feature_importances = sorted(feature_importances, key = lambda x: x[1], reverse = True)\n",
    "# Print out the feature and importances \n",
    "[print('Variable: {} Importance: {}'.format(feature, importance)) \n",
    " for (feature, importance) in zip(feature_list, feature_importances)];"
   ]
  },
  {
   "cell_type": "code",
   "execution_count": null,
   "metadata": {},
   "outputs": [],
   "source": [
    "pred_test = xgbr_graphyield.predict(test_new_features)\n",
    "errors_test= abs(pred_train - train_labels)\n",
    "print('Mean Absolute Error:', round(np.mean(errors_test), 4), 'units.')\n",
    "# Plot predictions vs actual values\n",
    "# Plot style\n",
    "fig, ax = plt.subplots(figsize=(6,4))\n",
    "ax.tick_params(direction='in', length=4, width=1.5, colors='black', grid_alpha=0, labelsize='14')\n",
    "# ax.set_xlim(20,105)\n",
    "# ax.set_ylim(20,105)\n",
    "\n",
    "# Predicted 2D/G\n",
    "plt.plot(pred_test, test_labels, \n",
    "         linestyle = 'none', marker = 'o', color='black', markersize='8')\n",
    "plt.title('Test Data', fontsize='18', fontname='Arial', fontweight='bold')\n",
    "plt.xlabel('Predicted', fontsize='18', fontname='Arial', fontweight='bold')\n",
    "plt.ylabel('Actual', fontsize='18', fontname='Arial', fontweight='bold')\n",
    "ymin, ymax = plt.ylim()\n",
    "plt.xlim(ymin, ymax)\n",
    "plt.ylim(ymin, ymax)\n",
    "# Make a red line to show perfect predictions\n",
    "x2 = np.arange(0, ymax*1.1, .1)\n",
    "y2 = np.arange(0, ymax*1.1, .1)\n",
    "plt.plot(x2,y2, linestyle='--', linewidth = '3', color='red')"
   ]
  },
  {
   "cell_type": "code",
   "execution_count": null,
   "metadata": {},
   "outputs": [],
   "source": [
    "# Plot style\n",
    "fig, ax = plt.subplots(figsize=(5,4))\n",
    "# ax.set_yticks(np.arange(.2, 2.2, .2))\n",
    "# ax.set_xticks(np.arange(0, 1200, 100))\n",
    "# ax.set_xlim(.7,3.3)\n",
    "\n",
    "# Import file\n",
    "filename='FJH_ML_Final.csv'\n",
    "df_test = import_file_noOneHot(filename)\n",
    "# Create normalized I by category\n",
    "norm1, norm2 = category_normalization_theonesyoualwaysuse(df_test)\n",
    "df_test['Norm_I_Max'] = norm1\n",
    "df_test['Norm_charge_tot'] = norm2\n",
    "df_test['charge_density'] = df_test['Voltage']*df_test['Cap']/df_test['Mass']\n",
    "# df_test['test_feature'] = (df_test['Voltage']/df_test['Mass'])#*df_test['PulseTime']\n",
    "# df_test = df_test[df_test['TwoDtoG']<1.5]\n",
    "# df_test = df_test[df_test['Graphene_Yield']>20]\n",
    "\n",
    "# Cut dataframe to only the test set\n",
    "df_test = df_test.iloc[idx_test]\n",
    "df_test['y_pred'] = pred_test\n",
    "df_test['y_true'] = test_labels\n",
    "\n",
    "groups = df_test.groupby(['Material'])\n",
    "\n",
    "# Plot\n",
    "ax.tick_params(direction='in', length=4, width=1.5, colors='black', grid_alpha=0, labelsize='14')\n",
    "counter=0\n",
    "markers = ['o', 's', '^', 'v']\n",
    "colors=['blue', 'red', 'green', 'orange']\n",
    "colors2 = ['maroon', 'darkorange', 'goldenrod', 'dodgerblue']\n",
    "for name, group in groups:\n",
    "    ax.plot(group.y_pred, group.y_true, marker=markers[counter], alpha=0.9, linestyle='', ms=8, label=name)\n",
    "    counter+=1\n",
    "    # Predicted 2D/G\n",
    "# plt.title('Test Data', fontsize='18', fontname='Arial', fontweight='bold')\n",
    "ax.set_xlabel('Predicted Yield (%)', fontsize='18', fontname='Arial', fontweight='bold')\n",
    "ax.set_ylabel('Actual Yield (%)', fontsize='18', fontname='Arial', fontweight='bold')\n",
    "ymin, ymax = plt.ylim()\n",
    "ax.set_xlim(ymin, ymax)\n",
    "ax.set_ylim(ymin, ymax)\n",
    "# Make a red line to show perfect predictions\n",
    "x2 = np.arange(ymin, ymax*1.1, .01)\n",
    "y2 = np.arange(ymin, ymax*1.1, .01)\n",
    "ax.plot(x2,y2, linestyle='--', linewidth = '3', color='red')\n",
    "leg = plt.legend(frameon=\"True\", prop={'family': 'Arial'})\n",
    "ax.legend(frameon=False, ncol=2, fontsize=12, loc='upper left')\n",
    "\n",
    "# Plot\n",
    "# plt.plot(df_test['I_Max'],df_test['Graphene_Yield'], linestyle = 'none', marker = 'o', color='black', markersize='8')\n",
    "# plt.xlabel('Flash Voltage (V)', fontsize='18', fontname='Arial', fontweight='bold')\n",
    "# plt.ylabel('D/G Ratio', fontsize='18', fontname='Arial', fontweight='bold')\n",
    "\n",
    "# Save\n",
    "plt.tight_layout()\n",
    "plt.savefig('XGBPerformance_materialgroup.png', dpi=300)\n",
    "plt.show()"
   ]
  },
  {
   "cell_type": "code",
   "execution_count": null,
   "metadata": {},
   "outputs": [],
   "source": [
    "# Distribution of Graphene_yield with  CD density groups\n",
    "cv = np.array (df_test['charge_density'])\n",
    "Qs = np.quantile (cv, [0.25, 0.5, 0.75])\n",
    "\n",
    "cv_class = cv\n",
    "cv_class = np.where(cv <= Qs[0], 0, cv_class)\n",
    "cv_class = np.where((cv > Qs[0]) & (cv <= Qs[1]), 1, cv_class)\n",
    "cv_class = np.where((cv > Qs[1]) & (cv <= Qs[2]), 2, cv_class)\n",
    "cv_class = np.where(cv > Qs[2], 3, cv_class)\n",
    "\n",
    "# Plot style\n",
    "fig, ax = plt.subplots(figsize=(5,4))\n",
    "# ax.set_yticks(np.arange(.2, 2.2, .2))\n",
    "# ax.set_xticks(np.arange(0, 1200, 100))\n",
    "# ax.set_xlim(.7,3.3)\n",
    "df_test['cv_class'] = cv_class\n",
    "groups = df_test.groupby(['cv_class'])\n",
    "\n",
    "# Plot\n",
    "ax.tick_params(direction='in', length=4, width=1.5, colors='black', grid_alpha=0, labelsize='14')\n",
    "counter=0\n",
    "markers = ['o', 's', '^', 'v']\n",
    "colors=['blue', 'red', 'green', 'orange']\n",
    "colors2 = ['maroon', 'darkorange', 'goldenrod', 'dodgerblue']\n",
    "for name, group in groups:\n",
    "    ax.plot(group.y_pred, group.y_true, marker=markers[counter], alpha=0.9, linestyle='', ms=8, label=name)\n",
    "    counter+=1\n",
    "    # Predicted 2D/G\n",
    "# plt.title('Test Data', fontsize='18', fontname='Arial', fontweight='bold')\n",
    "ax.set_xlabel('Predicted Yield (%)', fontsize='18', fontname='Arial', fontweight='bold')\n",
    "ax.set_ylabel('Actual Yield (%)', fontsize='18', fontname='Arial', fontweight='bold')\n",
    "ymin, ymax = plt.ylim()\n",
    "ax.set_xlim(ymin, ymax)\n",
    "ax.set_ylim(ymin, ymax)\n",
    "# Make a red line to show perfect predictions\n",
    "x2 = np.arange(ymin, ymax*1.1, .01)\n",
    "y2 = np.arange(ymin, ymax*1.1, .01)\n",
    "ax.plot(x2,y2, linestyle='--', linewidth = '3', color='red')\n",
    "leg = plt.legend(frameon=\"True\", prop={'family': 'Arial'})\n",
    "ax.legend(frameon=False, ncol=2, fontsize=12, loc='upper left')\n",
    "\n",
    "# Plot\n",
    "# plt.plot(df_test['I_Max'],df_test['Graphene_Yield'], linestyle = 'none', marker = 'o', color='black', markersize='8')\n",
    "# plt.xlabel('Flash Voltage (V)', fontsize='18', fontname='Arial', fontweight='bold')\n",
    "# plt.ylabel('D/G Ratio', fontsize='18', fontname='Arial', fontweight='bold')\n",
    "\n",
    "# Save\n",
    "plt.tight_layout()\n",
    "plt.savefig('XGBPerformance_cvgroup.png', dpi=300)\n",
    "plt.show()"
   ]
  },
  {
   "cell_type": "code",
   "execution_count": null,
   "metadata": {},
   "outputs": [],
   "source": [
    "# outside test (Need to ask Jacob the details, material, atmosphere)\n",
    "filename = 'FJH_ML_MBO_Yield4_modified.csv'\n",
    "df_testBO0 = pd.read_csv(filename, sep=\",\", encoding='ISO-8859-1', header=1)\n",
    "df_testBO = df_testBO0.loc[0:29, :]\n",
    "# Only works for test that are TCB material !!!!!!\n",
    "Material_TCB_testBO = np.array (df_testBO['Material']).reshape(-1, 1)\n",
    "Material_TCB_testBO [:] = 1\n",
    "Material_CB_testBO = np.zeros_like (Material_TCB_testBO)\n",
    "Material_CB_testBO [:] = 0\n",
    "Material_MC_testBO = np.zeros_like (Material_TCB_testBO)\n",
    "Material_PA_testBO = np.zeros_like (Material_TCB_testBO)\n",
    "material_type_testBO = np.concatenate ((Material_CB_testBO, \n",
    "                                        Material_MC_testBO, \n",
    "                                        Material_PA_testBO, \n",
    "                                        Material_TCB_testBO), axis=1)\n",
    "\n",
    "Atmosphere_air_testBO = np.array (df_testBO['Atmosphere']).reshape(-1, 1)\n",
    "Atmosphere_air_testBO [:] = 0\n",
    "Atmosphere_arg_testBO = np.zeros_like (Atmosphere_air_testBO)\n",
    "Atmosphere_vac_testBO = np.zeros_like (Atmosphere_air_testBO)\n",
    "Atmosphere_vac_testBO [:] = 1\n",
    "atmosphere_type_testBO = np.concatenate ((Atmosphere_air_testBO, \n",
    "                                          Atmosphere_arg_testBO, \n",
    "                                          Atmosphere_vac_testBO), axis=1)\n",
    "# base 60mF as base and the number in excel file of 18mF\n",
    "df_testBO['Cap'] = 60 + df_testBO['Cap']*18\n",
    "charge_density_testBO = np.array (df_testBO['Voltage']*df_testBO['Cap']/df_testBO['Mass']).reshape(-1, 1)\n",
    "pulsetime_testBO = np.array (df_testBO['PulseTime']).reshape(-1, 1)\n",
    "Pretreat_voltage_testBO = np.array (df_testBO['Pretreat_voltage']).reshape(-1, 1)\n",
    "\n",
    "# proxy prediction features\n",
    "features_testBO = np.concatenate ((charge_density_testBO,\n",
    "                                   material_type_testBO,\n",
    "                                   atmosphere_type_testBO,\n",
    "                                   pulsetime_testBO,\n",
    "                                   Pretreat_voltage_testBO), axis=1)"
   ]
  },
  {
   "cell_type": "code",
   "execution_count": null,
   "metadata": {},
   "outputs": [],
   "source": [
    "Final_Current_Percent_predicted_testBO = xgbr_final_I_percent.predict(features_testBO)\n",
    "Norm_I_Max_predicted_testBO = xgbr_norm_I_max.predict(features_testBO)\n",
    "Norm_charge_tot_testBO = xgbr_norm_charge_total.predict(features_testBO)"
   ]
  },
  {
   "cell_type": "code",
   "execution_count": null,
   "metadata": {},
   "outputs": [],
   "source": [
    "# Porxy properties, as well as process parameters\n",
    "features_testBO = np.concatenate ((charge_density_testBO,\n",
    "                                   material_type_testBO,\n",
    "                                   atmosphere_type_testBO,\n",
    "                                   pulsetime_testBO,\n",
    "                                   Pretreat_voltage_testBO,\n",
    "                                   Final_Current_Percent_predicted_testBO.reshape(-1, 1),\n",
    "                                   Norm_I_Max_predicted_testBO.reshape(-1, 1),\n",
    "                                   Norm_charge_tot_testBO.reshape(-1, 1)), axis=1)"
   ]
  },
  {
   "cell_type": "code",
   "execution_count": null,
   "metadata": {},
   "outputs": [],
   "source": [
    "graphene_yield_testBO = np.array (df_testBO['Graphene_Yield']).reshape(-1, 1)\n",
    "graphene_yield_testBO = 100*graphene_yield_testBO\n",
    "graphene_yield_testBO_predicted = xgbr_graphyield.predict (features_testBO)\n",
    "\n",
    "r2_score(graphene_yield_testBO, graphene_yield_testBO_predicted)"
   ]
  },
  {
   "cell_type": "code",
   "execution_count": null,
   "metadata": {},
   "outputs": [],
   "source": [
    "# Plot predictions vs actual values\n",
    "# Plot style\n",
    "fig, ax = plt.subplots(figsize=(6,4))\n",
    "ax.tick_params(direction='in', length=4, width=1.5, colors='black', grid_alpha=0, labelsize='14')\n",
    "# ax.set_xlim(20,105)\n",
    "# ax.set_ylim(20,105)\n",
    "\n",
    "# Predicted 2D/G\n",
    "plt.plot(graphene_yield_testBO_predicted, graphene_yield_testBO, \n",
    "         linestyle = 'none', marker = 'o', color='black', markersize='8')\n",
    "plt.title('Test Data', fontsize='18', fontname='Arial', fontweight='bold')\n",
    "plt.xlabel('Predicted', fontsize='18', fontname='Arial', fontweight='bold')\n",
    "plt.ylabel('Actual', fontsize='18', fontname='Arial', fontweight='bold')\n",
    "ymin, ymax = plt.ylim()\n",
    "plt.xlim(ymin, ymax)\n",
    "plt.ylim(ymin, ymax)\n",
    "# Make a red line to show perfect predictions\n",
    "x2 = np.arange(0, ymax*1.1, .1)\n",
    "y2 = np.arange(0, ymax*1.1, .1)\n",
    "plt.plot(x2,y2, linestyle='--', linewidth = '3', color='red')"
   ]
  },
  {
   "cell_type": "code",
   "execution_count": null,
   "metadata": {},
   "outputs": [],
   "source": [
    "# Plot pred vs. true values for test set, coloring the charge density\n",
    "groups = df_test.groupby(['Material'])\n",
    "fig, ax = plt.subplots(figsize=(6,4))\n",
    "ax.tick_params(direction='in', length=4, width=1.5, colors='black', grid_alpha=0, labelsize='14')\n",
    "\n",
    "\n",
    "for name, group in groups:\n",
    "    p = ax.scatter(group.y_pred, group.y_true, c=group.charge_density, marker='o', s=100, cmap='Blues')\n",
    "    \n",
    "cb = fig.colorbar(p, ax=ax)\n",
    "cb.set_label('Charge Density (C/g)', fontsize='18', fontname='Arial', fontweight='bold')\n",
    "cb.ax.tick_params(labelsize=14)\n",
    "\n",
    "# plt.title('Test Data', fontsize='18', fontname='Arial', fontweight='bold')\n",
    "ax.set_xlabel('Predicted Yield', fontsize='18', fontname='Arial', fontweight='bold')\n",
    "ax.set_ylabel('Actual Yield', fontsize='18', fontname='Arial', fontweight='bold')\n",
    "ymin, ymax = plt.ylim()\n",
    "ax.set_xlim(ymin, ymax)\n",
    "ax.set_ylim(ymin, ymax)\n",
    "# Make a red line to show perfect predictions\n",
    "x2 = np.arange(ymin, ymax*1.1, .01)\n",
    "y2 = np.arange(ymin, ymax*1.1, .01)\n",
    "ax.plot(x2,y2, linestyle='--', linewidth = '3', color='red')\n",
    "# ax.legend(fontsize=12)\n",
    "\n",
    "# Plot\n",
    "# plt.plot(df['I_Max'],df['Graphene_Yield'], linestyle = 'none', marker = 'o', color='black', markersize='8')\n",
    "# plt.xlabel('Flash Voltage (V)', fontsize='18', fontname='Arial', fontweight='bold')\n",
    "# plt.ylabel('D/G Ratio', fontsize='18', fontname='Arial', fontweight='bold')\n",
    "\n",
    "# Save\n",
    "plt.tight_layout()\n",
    "# plt.savefig('XGB_Regression_Performance_colorChargeDensity.png', dpi=300)\n",
    "plt.show()"
   ]
  },
  {
   "cell_type": "raw",
   "metadata": {},
   "source": [
    "# Train neural network\n",
    "from sklearn.model_selection import GridSearchCV\n",
    "gsc = GridSearchCV(\n",
    "        estimator=MLPRegressor(),\n",
    "        param_grid={'hidden_layer_sizes': [(100, 100, 100), (10,10,10), (50,50,50), (200, 200, 200)],\n",
    "          'activation': ['relu','tanh','logistic'],\n",
    "          'alpha': [0.05, 0.10, 0.12, 0.15],\n",
    "          'learning_rate': ['constant','adaptive'],\n",
    "          'solver': ['adam'],\n",
    "          'n_iter_no_change': range(3,7)\n",
    "        },\n",
    "        cv=5, scoring='neg_mean_squared_error', verbose=0, n_jobs=-1)\n",
    "grid_result = gsc.fit(train_features, train_labels)\n",
    "best_params = grid_result.best_params_\n",
    "print('hidden layer: ', best_params[\"hidden_layer_sizes\"])\n",
    "print('activation: ', best_params[\"activation\"])\n",
    "print('learning_rate: ', best_params[\"learning_rate\"])\n",
    "print('solver ', best_params[\"solver\"])\n",
    "print('alpha ', best_params[\"alpha\"])\n",
    "print('N_iter_no_change ', best_params[\"n_iter_no_change\"])"
   ]
  },
  {
   "cell_type": "raw",
   "metadata": {},
   "source": [
    "# M2 Multilayer Perceptron\n",
    "model = 'M2 MLP'\n",
    "print(model)\n",
    "def build_mlp(units = 20, optimizer = 'rmsprop'):\n",
    "    mlp = Sequential()\n",
    "    mlp.add(Dense(units = units, activation = 'relu', input_dim = features.shape[1]))\n",
    "    mlp.add(Dense(units = units, activation = 'relu', ))\n",
    "    mlp.add(Dense(units = 1))\n",
    "    mlp.compile(optimizer = optimizer, \n",
    "                loss='mean_squared_error', \n",
    "                metrics = ['mae'])\n",
    "    return mlp\n",
    "mlp = KerasRegressor(build_fn = build_mlp, verbose = 0)\n",
    "grid_param_mlp = {'units': [20, 40, 60],\n",
    "                    'batch_size': [16, 32, 64, 128],\n",
    "                    'epochs': [100, 500, 1000],\n",
    "                    'optimizer': ['rmsprop', 'adam']}\n",
    "grid_param_mlp = {'units': [20],\n",
    "                    'batch_size': [ 128],\n",
    "                    'epochs': [100],\n",
    "                    'optimizer': ['adam']}\n",
    "grid_mlp = GridSearchCV(mlp, grid_param_mlp) \n",
    "grid_mlp.fit(train_features, train_labels)\n",
    "y_pred_train_mlp = grid_mlp.predict(train_features)\n",
    "y_pred_test_mlp = grid_mlp.predict(test_features)\n",
    "#df_eval_mlp = save_evaluate_draw(y_pred_train_mlp, y_pred_test_mlp, \n",
    "#                                grid_param_mlp, grid_mlp.best_params_, \n",
    "#                                grid_mlp.best_estimator_, model)\n",
    "\n",
    "print('Doneskies')\n"
   ]
  },
  {
   "cell_type": "code",
   "execution_count": null,
   "metadata": {},
   "outputs": [],
   "source": []
  }
 ],
 "metadata": {
  "kernelspec": {
   "display_name": "Python 3 (ipykernel)",
   "language": "python",
   "name": "python3"
  },
  "language_info": {
   "codemirror_mode": {
    "name": "ipython",
    "version": 3
   },
   "file_extension": ".py",
   "mimetype": "text/x-python",
   "name": "python",
   "nbconvert_exporter": "python",
   "pygments_lexer": "ipython3",
   "version": "3.9.10"
  }
 },
 "nbformat": 4,
 "nbformat_minor": 4
}
