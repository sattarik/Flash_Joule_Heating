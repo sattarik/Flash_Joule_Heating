{
 "cells": [
  {
   "cell_type": "markdown",
   "metadata": {},
   "source": [
    "### 173 samples, Final_R is missing for the following sample\n",
    "137)\tMC\tair\t204\t8\t180\t60\t180\t500\t30\t114\t0.3\tNA\t150\t0.3\t100\t0.490196078\t486.395\t57.78712883\t26.00664167\t0.467\t9.68631173\t3\t0.422680412\t0.541775715\t0.521526486\t44.36424367"
   ]
  },
  {
   "cell_type": "code",
   "execution_count": 1,
   "metadata": {},
   "outputs": [
    {
     "name": "stderr",
     "output_type": "stream",
     "text": [
      "/home/kianoosh/anaconda3/envs/my-rdkit-env/lib/python3.9/site-packages/xgboost/compat.py:36: FutureWarning: pandas.Int64Index is deprecated and will be removed from pandas in a future version. Use pandas.Index with the appropriate dtype instead.\n",
      "  from pandas import MultiIndex, Int64Index\n",
      "2022-11-19 16:04:01.095130: W tensorflow/stream_executor/platform/default/dso_loader.cc:64] Could not load dynamic library 'libcudart.so.11.0'; dlerror: libcudart.so.11.0: cannot open shared object file: No such file or directory\n",
      "2022-11-19 16:04:01.095156: I tensorflow/stream_executor/cuda/cudart_stub.cc:29] Ignore above cudart dlerror if you do not have a GPU set up on your machine.\n"
     ]
    }
   ],
   "source": [
    "# Import Python libaries\n",
    "%matplotlib inline\n",
    "from scipy.optimize import curve_fit\n",
    "import time as time\n",
    "# General data management\n",
    "import numpy as np\n",
    "import pandas as pd\n",
    "import random\n",
    "import matplotlib.pyplot as plt\n",
    "import seaborn as sns\n",
    "import xgboost as xgb\n",
    "from xgboost import XGBRegressor\n",
    "from sklearn import linear_model\n",
    "from sklearn import ensemble\n",
    "from xgboost import plot_tree\n",
    "from sklearn.tree import DecisionTreeRegressor\n",
    "from sklearn.model_selection import GridSearchCV\n",
    "# import pydo\n",
    "# generate random integer values\n",
    "from random import seed\n",
    "from random import randint\n",
    "# seed random number generator\n",
    "seed(1)\n",
    "# Machine learning & model visualization tools\n",
    "from sklearn.model_selection import train_test_split\n",
    "from sklearn import preprocessing\n",
    "from sklearn.ensemble import RandomForestRegressor\n",
    "from sklearn.pipeline import make_pipeline\n",
    "from sklearn.model_selection import GridSearchCV\n",
    "from sklearn.metrics import r2_score, mean_squared_error, mean_gamma_deviance\n",
    "from sklearn.tree import export_graphviz\n",
    "from sklearn import svm\n",
    "from sklearn.neural_network import MLPRegressor\n",
    "from sklearn.neighbors import KNeighborsRegressor\n",
    "from numpy import cov\n",
    "from scipy.stats import pearsonr\n",
    "from scipy import ndimage, misc\n",
    "import pydot\n",
    "import math\n",
    "from sklearn.model_selection import LeaveOneOut\n",
    "from sklearn.metrics import mean_absolute_error\n",
    "from sklearn.linear_model import LinearRegression\n",
    "from sklearn.preprocessing import PolynomialFeatures\n",
    "from sklearn.preprocessing import MinMaxScaler\n",
    "# from sklearn.externals import joblib\n",
    "# Miscellaneous\n",
    "import os\n",
    "import io\n",
    "\n",
    "import tensorflow as tf\n",
    "from tensorflow import keras\n",
    "from tensorflow.keras import layers\n",
    "from keras import backend as BK\n",
    "from tensorflow.keras.models import Sequential\n",
    "from tensorflow.keras.layers import Dense\n",
    "from tensorflow.keras.wrappers.scikit_learn import KerasRegressor\n",
    "from sklearn.inspection import partial_dependence, plot_partial_dependence"
   ]
  },
  {
   "cell_type": "code",
   "execution_count": 2,
   "metadata": {},
   "outputs": [],
   "source": [
    "# proxy properties\n",
    "# read the input data\n",
    "df = pd.read_csv('FJH_ML_Final.csv', header=1)\n",
    "df_dummy = pd.get_dummies(df)\n",
    "\n",
    "df['Norm_charge_tot'] = df['Charge_Tot']/(df['Mass'])*1000\n",
    "df['Norm_I_Max'] = df['I_Max']/df['Mass']*1000\n",
    "df['charge_density'] = df['Voltage']*df['Cap']/df['Mass']\n",
    "df['Final_Current_Percent'] = df['I_Final']/df['I_Max']\n",
    "\n",
    "Norm_I_Max = np.array (df['Norm_I_Max']).reshape(-1, 1)\n",
    "Final_Current_Percent  = np.array (df['Final_Current_Percent']).reshape(-1, 1)\n",
    "Norm_charge_tot  = np.array (df['Norm_charge_tot']).reshape(-1, 1)\n",
    "# final prediction, yield of Graphene\n",
    "Graphene_Yield = np.array (df['Graphene_Yield']).reshape(-1, 1)\n",
    "\n",
    "# only process parameters that are in BO prediction\n",
    "Pretreat_voltage = np.array (df['Pretreat_voltage']).reshape(-1, 1)\n",
    "pulsetime = np.array (df['PulseTime']).reshape(-1, 1)\n",
    "charge_denisty = np.array (df['charge_density']).reshape(-1, 1)"
   ]
  },
  {
   "cell_type": "code",
   "execution_count": 5,
   "metadata": {},
   "outputs": [],
   "source": [
    "# type of material\n",
    "Material_CB = np.array (df_dummy['Material_CB']).reshape(-1, 1)\n",
    "Material_MC = np.array (df_dummy['Material_MC']).reshape(-1, 1) \n",
    "Material_PA = np.array (df_dummy['Material_PA']).reshape(-1, 1)\n",
    "Material_TCB = np.array (df_dummy['Material_TCB']).reshape(-1, 1)\n",
    "material_type = np.concatenate ((Material_CB, Material_MC, Material_PA, Material_TCB), axis=1)\n",
    "\n",
    "material_matrix = np.concatenate((np.array (df_dummy['Material_CB']).reshape([-1, 1]), \n",
    "                                  np.array (df_dummy['Material_MC']).reshape([-1, 1]),\n",
    "                                  np.array (df_dummy['Material_PA']).reshape([-1, 1]),\n",
    "                                  np.array (df_dummy['Material_TCB']).reshape([-1, 1])), axis=1)\n",
    "material_matrix = np.array (material_matrix)\n",
    "# extra material descriptors\n",
    "# Cabot BP2000: Tensile Strength=17 MPa, particle size=15nm, specific surface area=1500(m2/g)\n",
    "# metallurgical coke: grain size=150-210 (um)\n",
    "# pyrolysis ash: \n",
    "# pyrolyzed rubber tire-derived carbon black: "
   ]
  },
  {
   "cell_type": "code",
   "execution_count": 6,
   "metadata": {},
   "outputs": [],
   "source": [
    "# physical properties of precursor received from Kevin\n",
    "CB_ps_res_sa_sp2 = [45, 2.8, 1750, 41.2]\n",
    "MC_ps_res_sa_sp2 = [150, 0.4, 18, 45.9]\n",
    "PA_ps_res_sa_sp2 = [125, 7.2, 62, 42.4]\n",
    "TCB_ps_res_sa_sp2 = [106, 6.3, 74, 30.6]\n",
    "CB_MC_PA_TCB_ps_res_sa_sp2 = np.concatenate ([CB_ps_res_sa_sp2,\n",
    "                 MC_ps_res_sa_sp2,\n",
    "                 PA_ps_res_sa_sp2,\n",
    "                 TCB_ps_res_sa_sp2], axis=0).reshape(4,4)\n",
    "X_CB_MC_PA_TCB_ps_res_sa_sp2 = np.matmul(material_matrix, CB_MC_PA_TCB_ps_res_sa_sp2)"
   ]
  },
  {
   "cell_type": "code",
   "execution_count": 7,
   "metadata": {},
   "outputs": [],
   "source": [
    "# type of Atmosphere\n",
    "Atmosphere_air = np.array (df_dummy['Atmosphere_air']).reshape(-1, 1)\n",
    "Atmosphere_arg = np.array (df_dummy['Atmosphere_arg']).reshape(-1, 1)\n",
    "#Atmosphere_vac = np.array (df_dummy['Atmosphere_vac']).reshape(-1, 1)\n",
    "atmosphere_type = np.concatenate ((Atmosphere_air, Atmosphere_arg), axis=1)"
   ]
  },
  {
   "cell_type": "code",
   "execution_count": 59,
   "metadata": {},
   "outputs": [
    {
     "name": "stdout",
     "output_type": "stream",
     "text": [
      "!!! test samples\n",
      "coef_:  [ 0.20683383 -0.23235256  0.04141794 -0.01589921 -0.00867908  0.0094873\n",
      "  0.00125924  0.00302584]\n",
      "Gamma score: 0.39804821177096517\n",
      "r-squared 0.39804821177096517\n",
      "mse:  0.03752089767150943\n",
      "pearsonr:  (array([0.632276193365862], dtype=object), 4.609435240427126e-05)\n",
      "!!! all samples\n",
      "r-squared 0.5135402916759844\n",
      "mse:  0.036357233654564884\n",
      "pearsonr:  (array([0.7166172560551309], dtype=object), 1.0279102728301482e-28)\n"
     ]
    },
    {
     "data": {
      "text/plain": [
       "[<matplotlib.lines.Line2D at 0x7fc2b8d3a460>]"
      ]
     },
     "execution_count": 59,
     "metadata": {},
     "output_type": "execute_result"
    },
    {
     "data": {
      "image/png": "[encoded data removed]",
      "text/plain": [
       "<Figure size 432x288 with 1 Axes>"
      ]
     },
     "metadata": {
      "needs_background": "light"
     },
     "output_type": "display_data"
    }
   ],
   "source": [
    "# Final_Current_Percent as output of linear model with inputs Precursor related\n",
    "# Init_R, Res_Drop, Volt_Drop --> Final_Current_Percent\n",
    "material_matrix_cosh = np.cosh (material_matrix)\n",
    "Init_R = np.array (df['Init_R']).reshape (-1, 1)\n",
    "Res_Drop = np.array (df['Res_Drop']).reshape (-1, 1)\n",
    "Volt_Drop = np.array (df['Volt_Drop']).reshape (-1, 1)\n",
    "voltage = np.array (df['Voltage']).reshape (-1, 1)\n",
    "Mass = np.array (df['Mass']).reshape(-1, 1)\n",
    "\n",
    "input_features = np.concatenate((material_matrix, Init_R, Res_Drop, Volt_Drop, voltage), axis=1)\n",
    "max_gamma_score = 0\n",
    "\n",
    "X_train, X_test, y_train, y_test = train_test_split(\n",
    "        input_features, Graphene_Yield, test_size=0.2, random_state=7)\n",
    "clf = linear_model.LinearRegression()\n",
    "clf = clf.fit(input_features, Graphene_Yield.ravel())\n",
    "print (\"!!! test samples\")\n",
    "print ('coef_: ', clf.coef_)\n",
    "CB_MC_PA_coef_Final_Current_Percent = clf.coef_[0:4]\n",
    "y_pred = clf.predict (X_test)\n",
    "print ('Gamma score:', clf.score(X_test, y_test.ravel()))\n",
    "r2 = r2_score(y_test.ravel(), y_pred.ravel())\n",
    "print ('r-squared', r2)\n",
    "print ('mse: ', mean_squared_error(y_test, y_pred))\n",
    "print ('pearsonr: ', pearsonr(y_pred, y_test))\n",
    "\n",
    "print (\"!!! all samples\")\n",
    "#CB_MC_PA_coef_Final_Current_Percent = clf.coef_[0:4]\n",
    "y_pred = clf.predict (input_features)\n",
    "r2 = r2_score(Graphene_Yield.ravel(), y_pred.ravel())\n",
    "print ('r-squared', r2)\n",
    "print ('mse: ', mean_squared_error(Graphene_Yield, y_pred))\n",
    "print ('pearsonr: ', pearsonr(y_pred, Graphene_Yield))\n",
    "\n",
    "\n",
    "plt.scatter(Graphene_Yield, y_pred)\n",
    "mid_line = list(np.linspace(np.min(Final_Current_Percent), np.max(Final_Current_Percent), 8))\n",
    "plt.plot(mid_line, mid_line, '--', color='red')"
   ]
  },
  {
   "cell_type": "code",
   "execution_count": 65,
   "metadata": {},
   "outputs": [
    {
     "name": "stdout",
     "output_type": "stream",
     "text": [
      "coef_:  [  -0.61762249   -2.34785825    3.60891389   -0.64343315    5.41204828\n",
      "   35.47545764    0.21392455 -107.62134938  -30.65425842    4.50805649]\n",
      "Gamma score for test data: 0.47146418781991795\n",
      "r-squared for test data 0.47146418781991795\n",
      "mse:  264792.9908266178\n",
      "pearson r:  (0.6920716847866591, 4.1204082869720645e-06)\n"
     ]
    },
    {
     "data": {
      "text/plain": [
       "[<matplotlib.lines.Line2D at 0x7fc2c391c0d0>]"
      ]
     },
     "execution_count": 65,
     "metadata": {},
     "output_type": "execute_result"
    },
    {
     "data": {
      "image/png": "[encoded data removed]",
      "text/plain": [
       "<Figure size 432x288 with 1 Axes>"
      ]
     },
     "metadata": {
      "needs_background": "light"
     },
     "output_type": "display_data"
    }
   ],
   "source": [
    "# Norm_I_Max as output of linear model with inputs Precursor related:\n",
    "# Init_R, Res_Drop, Volt_Drop --> Norm_I_Max\n",
    "input_features = np.concatenate((material_matrix_cosh, X_CB_MC_PA_TCB_ps_res_sa_sp2[:, (0, 1, 3)], \n",
    "                                 Init_R, Res_Drop, Volt_Drop), axis=1)\n",
    "\n",
    "\n",
    "X_train, X_test, y_train, y_test = train_test_split(\n",
    "        input_features, Norm_I_Max, test_size=0.2, random_state=7)\n",
    "clf = linear_model.LinearRegression()\n",
    "clf = clf.fit(X_train, y_train.ravel())\n",
    "\n",
    "print ('coef_: ', clf.coef_)\n",
    "CB_MC_PA_coef_Norm_I_Max = clf.coef_[0:4]\n",
    "y_pred = clf.predict (X_test)\n",
    "print ('Gamma score for test data:', clf.score(X_test, y_test.ravel()))\n",
    "r2 = r2_score(y_test.ravel(), y_pred.ravel())\n",
    "print ('r-squared for test data', r2)\n",
    "print ('mse: ', mean_squared_error(y_test, y_pred))\n",
    "print ('pearson r: ', pearsonr(y_test.ravel(), y_pred.ravel()))\n",
    "\n",
    "plt.scatter(y_test, y_pred)\n",
    "mid_line = list(np.linspace(np.min(Norm_I_Max), np.max(Norm_I_Max), 8))\n",
    "plt.plot(mid_line, mid_line, '--', color='red')"
   ]
  },
  {
   "cell_type": "code",
   "execution_count": 68,
   "metadata": {},
   "outputs": [
    {
     "name": "stdout",
     "output_type": "stream",
     "text": [
      "coef_:  [-0.15671519 -0.40094715 -0.24270909 -0.1163266  -0.02398684  0.00069797\n",
      "  0.00897947]\n",
      "Gamma score: 0.4908333807771522\n",
      "r-squared 0.6287056577765109\n",
      "mse:  288.6211061656944\n",
      "(0.8065347304433376, 4.934487163110154e-09)\n"
     ]
    },
    {
     "data": {
      "text/plain": [
       "[<matplotlib.lines.Line2D at 0x7fc2c002f4c0>]"
      ]
     },
     "execution_count": 68,
     "metadata": {},
     "output_type": "execute_result"
    },
    {
     "data": {
      "image/png": "[encoded data removed]",
      "text/plain": [
       "<Figure size 432x288 with 1 Axes>"
      ]
     },
     "metadata": {
      "needs_background": "light"
     },
     "output_type": "display_data"
    }
   ],
   "source": [
    "# Norm_charge_tot as output of linear model with inputs Precursor related\n",
    "# Init_R, Res_Drop, Volt_Drop --> Norm_charge_tot\n",
    "input_features = np.concatenate((material_matrix, Init_R, Res_Drop, Volt_Drop), axis=1)\n",
    "max_gamma_score = 0\n",
    "\n",
    "X_train, X_test, y_train, y_test = train_test_split(\n",
    "        input_features, Norm_charge_tot, test_size=0.2, random_state=7)\n",
    "clf = linear_model.GammaRegressor(alpha=0., max_iter=1000)\n",
    "clf = clf.fit(X_train, y_train.ravel())\n",
    "print ('coef_: ', clf.coef_)\n",
    "CB_MC_PA_coef_Norm_charge_tot = clf.coef_[0:4]\n",
    "y_pred = clf.predict (X_test)\n",
    "print ('Gamma score:', clf.score(X_test, y_test.ravel()))\n",
    "r2 = r2_score(y_test.ravel(), y_pred.ravel())\n",
    "print ('r-squared', r2)\n",
    "print ('mse: ', mean_squared_error(y_test, y_pred))\n",
    "print (pearsonr(y_test.ravel(), y_pred.ravel()))\n",
    "\n",
    "\n",
    "plt.scatter(y_test, y_pred)\n",
    "mid_line = list(np.linspace(np.min(Norm_charge_tot), np.max(Norm_charge_tot), 8))\n",
    "plt.plot(mid_line, mid_line, '--', color='red')"
   ]
  },
  {
   "cell_type": "code",
   "execution_count": 69,
   "metadata": {},
   "outputs": [],
   "source": [
    "# got it from model based prediction of I_Max\n",
    "material_type_I_Finalperc_coef = material_type * CB_MC_PA_coef_Final_Current_Percent\n",
    "material_type_Norm_I_Max_coef = material_type * CB_MC_PA_coef_Norm_I_Max\n",
    "material_type_Norm_charge_Tot_coef = material_type * CB_MC_PA_coef_Norm_charge_tot"
   ]
  },
  {
   "cell_type": "code",
   "execution_count": 70,
   "metadata": {},
   "outputs": [
    {
     "data": {
      "text/plain": [
       "array([ 112.8, 1200. ,    0. ,    0. ,   60. ])"
      ]
     },
     "execution_count": 70,
     "metadata": {},
     "output_type": "execute_result"
    }
   ],
   "source": [
    "# proxy (current-time plot) prediction (Final_Current_percent)\n",
    "new_features = np.concatenate ((charge_denisty,\n",
    "                                pulsetime,\n",
    "                                #material_type_I_Finalperc_coef,\n",
    "                                atmosphere_type,\n",
    "                                Pretreat_voltage), axis=1)\n",
    "\n",
    "rand=9\n",
    "indices = np.arange(len(new_features))\n",
    "train_new_features, test_new_features, train_labels, test_labels, idxtrain, idx_test = \\\n",
    "                      train_test_split(new_features, Final_Current_Percent, \n",
    "                                       indices, test_size = 0.20, random_state = rand)\n",
    "feature_list = ['charge_denisty',\n",
    "                'PulseTime',\n",
    "                'Atmosphere_air',\n",
    "                'Atmosphere_arg',\n",
    "                'Pretreat_voltage']\n",
    "new_features[0]"
   ]
  },
  {
   "cell_type": "code",
   "execution_count": 71,
   "metadata": {},
   "outputs": [
    {
     "name": "stdout",
     "output_type": "stream",
     "text": [
      "Average of r pearson for test 0.8089341654103558\n",
      "std of r pearson for test 0.00832286285212098 \n",
      "\n",
      "Average of r_squared for test 0.6237651407807572\n",
      "std of r_squared for test 0.013745542347944886 \n",
      "\n",
      "Average of r_squared for train 0.6957270656419285\n",
      "std of r_squared for train 0.009075448286519\n",
      "Mean Absolute Error: 0.2053 units.\n",
      "r2 score =  0.7542340882242338\n",
      "Mean Absolute Error: 0.2645 units.\n",
      "r2 score =  0.7320419122438493\n"
     ]
    }
   ],
   "source": [
    "r_squareds = list()\n",
    "r_pearsons = list()\n",
    "r_squareds_train = list()\n",
    "MAEs = list()\n",
    "MAEs_train = list()\n",
    "start = time.time()\n",
    "for random_state in range(50):\n",
    "    # after fixing the hyperparameters, train the model on all samples\n",
    "    # Instantiate model with 1000 decision tree\n",
    "    xgbr_final_I_percent = XGBRegressor(max_depth=3, n_estimators=25, gamma=0.01, \n",
    "                   learning_rate=0.115, subsample=0.77, min_child_weight=8, \n",
    "                   random_state=random_state)\n",
    "    #xgbr_final_I_percent = RandomForestRegressor(max_depth=20, n_estimators=500, min_samples_split=3)\n",
    "    # xgbr_final_I_percent = linear_model.BayesianRidge()\n",
    "    # xgbr_final_I_percent = XGBRegressor()\n",
    "    # Train the model on training data\n",
    "    labels = Final_Current_Percent\n",
    "    xgbr_final_I_percent.fit(train_new_features, train_labels);\n",
    "    #print('Doneskies')\n",
    "    Final_Current_Percent_test = xgbr_final_I_percent.predict(test_new_features)\n",
    "    r_squared_Final_Current_test = r2_score(test_labels, Final_Current_Percent_test)\n",
    "    r_squareds.append(r_squared_Final_Current_test)\n",
    "    \n",
    "    r_pearson_Final_Current_test = pearsonr(test_labels.reshape(test_labels.shape[0],), \n",
    "                                            Final_Current_Percent_test.reshape(Final_Current_Percent_test.shape[0],))\n",
    "    r_pearsons.append(r_pearson_Final_Current_test[0])   \n",
    "    \n",
    "    Final_Current_Percent_train = xgbr_final_I_percent.predict(train_new_features)\n",
    "    r_squared_Final_Current_train = r2_score(train_labels, Final_Current_Percent_train)\n",
    "    r_squareds_train.append(r_squared_Final_Current_train)    \n",
    "\n",
    "print ('Average of r pearson for test', np.mean(np.array(r_pearsons)))\n",
    "print ('std of r pearson for test', np.std(np.array(r_pearsons)), '\\n')\n",
    "\n",
    "print ('Average of r_squared for test', np.mean(np.array(r_squareds)))\n",
    "print ('std of r_squared for test', np.std(np.array(r_squareds)), '\\n')\n",
    "\n",
    "print ('Average of r_squared for train', np.mean(np.array(r_squareds_train)))\n",
    "print ('std of r_squared for train', np.std(np.array(r_squareds_train)))\n",
    "\n",
    "xgbr_final_I_percent.fit(new_features, labels)\n",
    "# Use the forest's predict method on the test data\n",
    "Final_Current_Percent_predicted = xgbr_final_I_percent.predict(new_features)\n",
    "# Calculate the absolute errors\n",
    "errors = abs(Final_Current_Percent_predicted - Final_Current_Percent)\n",
    "# Print out the mean absolute error (mae)\n",
    "print('Mean Absolute Error:', round(np.mean(errors), 4), 'units.')\n",
    "\n",
    "r_squared_Final_Current_all = r2_score(Final_Current_Percent, Final_Current_Percent_predicted)\n",
    "print('r2 score = ', r_squared_Final_Current_all)\n",
    "\n",
    "# Use the forest's predict method on the test data\n",
    "Final_Current_Percent_test = xgbr_final_I_percent.predict(test_new_features)\n",
    "# Calculate the absolute errors\n",
    "errors_test = abs(Final_Current_Percent_test - test_labels)\n",
    "# Print out the mean absolute error (mae)\n",
    "print('Mean Absolute Error:', round(np.mean(errors_test), 4), 'units.')\n",
    "\n",
    "r_squared_Final_Current_test = r2_score(test_labels, Final_Current_Percent_test)\n",
    "print('r2 score = ', r_squared_Final_Current_test)"
   ]
  },
  {
   "cell_type": "code",
   "execution_count": 72,
   "metadata": {},
   "outputs": [
    {
     "name": "stdout",
     "output_type": "stream",
     "text": [
      "[0.09866709, 0.6362595, 0.0, 0.08341799, 0.18165536]\n",
      "Variable: charge_denisty Importance: ('charge_denisty', 0.1)\n",
      "Variable: PulseTime Importance: ('PulseTime', 0.64)\n",
      "Variable: Atmosphere_air Importance: ('Atmosphere_air', 0.0)\n",
      "Variable: Atmosphere_arg Importance: ('Atmosphere_arg', 0.08)\n",
      "Variable: Pretreat_voltage Importance: ('Pretreat_voltage', 0.18)\n"
     ]
    }
   ],
   "source": [
    "# Get numerical feature importances\n",
    "importances = list(xgbr_final_I_percent.feature_importances_)\n",
    "print (importances)\n",
    "# List of tuples with variable and importance\n",
    "feature_importances = [(feature, round(importance, 2)) for feature, importance in zip(feature_list, importances)]\n",
    "# Sort the feature importances by most important first\n",
    "#feature_importances = sorted(feature_importances, key = lambda x: x[1], reverse = True)\n",
    "# Print out the feature and importances \n",
    "[print('Variable: {} Importance: {}'.format(feature, importance)) \n",
    " for (feature, importance) in zip(feature_list, feature_importances)];"
   ]
  },
  {
   "cell_type": "code",
   "execution_count": 73,
   "metadata": {},
   "outputs": [],
   "source": [
    "# proxy (current-time plot) prediction (Norm_I_Max)\n",
    "new_features = np.concatenate ((charge_denisty,\n",
    "                                #np.array (df['Voltage']).reshape(-1, 1),\n",
    "                                pulsetime,\n",
    "                                material_type_Norm_I_Max_coef,\n",
    "                                atmosphere_type,\n",
    "                                Pretreat_voltage), axis=1)\n",
    "\n",
    "rand=9\n",
    "indices = np.arange(len(new_features))\n",
    "train_new_features, test_new_features, train_labels, test_labels, idxtrain, idx_test = \\\n",
    "                      train_test_split(new_features, Norm_I_Max, \n",
    "                                       indices, test_size = 0.2, random_state = rand)\n",
    "\n",
    "feature_list = ['charge_denisty',\n",
    "                'PulseTime',\n",
    "                'material_CB',\n",
    "                'material_MC',\n",
    "                'material_PA',\n",
    "                'material_TCB',\n",
    "                'Atmosphere_air',\n",
    "                'Atmosphere_arg',\n",
    "                'Pretreat_voltage']"
   ]
  },
  {
   "cell_type": "code",
   "execution_count": 74,
   "metadata": {},
   "outputs": [
    {
     "name": "stdout",
     "output_type": "stream",
     "text": [
      "(0.7730380455063395, 5.25118995195737e-08)\n",
      "Average of pearson r for test 0.7807064019135773\n",
      "std of pearson 1 for test 0.008504328139339193 \n",
      "\n",
      "Average of r_squared for test 0.5904268718147494\n",
      "std of r_squared for test 0.01081522167846165 \n",
      "\n",
      "Average of r_squared for train 0.6996431128373827\n",
      "std of r_squared for train 0.004964789250240874\n",
      "Mean Absolute Error: 718.5204 units.\n",
      "r2 score =  0.690673533208469\n",
      "Mean Absolute Error: 724.6505 units.\n",
      "r2 score =  0.6660759141656234\n"
     ]
    },
    {
     "data": {
      "image/png": "[encoded data removed]",
      "text/plain": [
       "<Figure size 432x288 with 1 Axes>"
      ]
     },
     "metadata": {
      "needs_background": "light"
     },
     "output_type": "display_data"
    }
   ],
   "source": [
    "r_squareds = list()\n",
    "r_pearsons = list()\n",
    "r_squareds_train = list()\n",
    "MAEs = list()\n",
    "MAEs_train = list()\n",
    "start = time.time()\n",
    "for random_state in range(10):\n",
    "    # after fixing the hyperparameters, train the model on all samples\n",
    "    # Instantiate model with 1000 decision tree\n",
    "    \n",
    "    xgbr_norm_I_max = XGBRegressor(max_depth=3, n_estimators=25, gamma=0.001, \n",
    "                   learning_rate=0.09, subsample=0.775, min_child_weight=6, \n",
    "                  random_state=random_state)\n",
    "    \n",
    "    #xgbr_norm_I_max = RandomForestRegressor(max_depth=3, n_estimators=100, min_samples_split=3)\n",
    "    # xgbr_norm_I_max = linear_model.BayesianRidge()\n",
    "    # xgbr_norm_I_max = XGBRegressor()\n",
    "    # Train the model on training data\n",
    "    labels = Norm_I_Max\n",
    "    xgbr_norm_I_max.fit(train_new_features, train_labels);\n",
    "    \n",
    "    Norm_I_Max_test = xgbr_norm_I_max.predict(test_new_features)\n",
    "    r_squared_Norm_I_Max_test = r2_score(test_labels, Norm_I_Max_test)\n",
    "\n",
    "    test_labels_ = test_labels.reshape(test_labels.shape[0], )\n",
    "\n",
    "    Norm_I_Max_test_ = Norm_I_Max_test.reshape(Norm_I_Max_test.shape[0], )\n",
    "\n",
    "    r_pearson_Norm_I_Max_test = pearsonr(test_labels_, Norm_I_Max_test_)\n",
    "    r_pearsons.append(r_pearson_Norm_I_Max_test[0])\n",
    "    r_squareds.append(r_squared_Norm_I_Max_test)\n",
    "    \n",
    "    Norm_I_Max_train = xgbr_norm_I_max.predict(train_new_features)\n",
    "    r_squared_Norm_I_Max_train = r2_score(train_labels, Norm_I_Max_train)\n",
    "    r_squareds_train.append(r_squared_Norm_I_Max_train)  \n",
    "\n",
    "r_pearson_Norm_I_Max_test = pearsonr(test_labels_, Norm_I_Max_test_)\n",
    "print (r_pearson_Norm_I_Max_test)\n",
    "plt.scatter(test_labels_, Norm_I_Max_test_)\n",
    "print ('Average of pearson r for test', np.mean(np.array(r_pearsons)))\n",
    "print ('std of pearson 1 for test', np.std(np.array(r_pearsons)), '\\n')\n",
    "print ('Average of r_squared for test', np.mean(np.array(r_squareds)))\n",
    "print ('std of r_squared for test', np.std(np.array(r_squareds)), '\\n')\n",
    "print ('Average of r_squared for train', np.mean(np.array(r_squareds_train)))\n",
    "print ('std of r_squared for train', np.std(np.array(r_squareds_train)))\n",
    "\n",
    "xgbr_norm_I_max.fit(new_features, labels)\n",
    "# Use the forest's predict method on the test data\n",
    "Norm_I_Max_predicted = xgbr_norm_I_max.predict(new_features)\n",
    "# Calculate the absolute errors\n",
    "errors = abs(Norm_I_Max_predicted - Norm_I_Max)\n",
    "# Print out the mean absolute error (mae)\n",
    "print('Mean Absolute Error:', round(np.mean(errors), 4), 'units.')\n",
    "\n",
    "r_squared_Norm_I_Max_all = r2_score(Norm_I_Max, Norm_I_Max_predicted)\n",
    "print('r2 score = ', r_squared_Norm_I_Max_all)\n",
    "\n",
    "# Use the forest's predict method on the test data\n",
    "Norm_I_Max_test = xgbr_norm_I_max.predict(test_new_features)\n",
    "# Calculate the absolute errors\n",
    "errors_test = abs(Norm_I_Max_test - test_labels)\n",
    "# Print out the mean absolute error (mae)\n",
    "print('Mean Absolute Error:', round(np.mean(errors_test), 4), 'units.')\n",
    "\n",
    "r_squared_Norm_I_Max_test = r2_score(test_labels, Norm_I_Max_test)\n",
    "print('r2 score = ', r_squared_Norm_I_Max_test)"
   ]
  },
  {
   "cell_type": "code",
   "execution_count": 75,
   "metadata": {},
   "outputs": [
    {
     "name": "stdout",
     "output_type": "stream",
     "text": [
      "Variable: charge_denisty Importance: ('charge_denisty', 0.14)\n",
      "Variable: PulseTime Importance: ('PulseTime', 0.03)\n",
      "Variable: material_CB Importance: ('material_CB', 0.0)\n",
      "Variable: material_MC Importance: ('material_MC', 0.55)\n",
      "Variable: material_PA Importance: ('material_PA', 0.0)\n",
      "Variable: material_TCB Importance: ('material_TCB', 0.06)\n",
      "Variable: Atmosphere_air Importance: ('Atmosphere_air', 0.0)\n",
      "Variable: Atmosphere_arg Importance: ('Atmosphere_arg', 0.09)\n",
      "Variable: Pretreat_voltage Importance: ('Pretreat_voltage', 0.14)\n",
      "[0.14157231, 0.029698309, 0.0, 0.5455658, 0.0, 0.06243607, 0.0, 0.08547817, 0.13524945]\n"
     ]
    }
   ],
   "source": [
    "# Get numerical feature importances\n",
    "importances = list(xgbr_norm_I_max.feature_importances_)\n",
    "# List of tuples with variable and importance\n",
    "feature_importances = [(feature, round(importance, 2)) for feature, importance in zip(feature_list, importances)]\n",
    "# Sort the feature importances by most important first\n",
    "#feature_importances = sorted(feature_importances, key = lambda x: x[1], reverse = True)\n",
    "# Print out the feature and importances \n",
    "[print('Variable: {} Importance: {}'.format(feature, importance)) \n",
    " for (feature, importance) in zip(feature_list, feature_importances)];\n",
    "print (importances)"
   ]
  },
  {
   "cell_type": "code",
   "execution_count": 76,
   "metadata": {},
   "outputs": [],
   "source": [
    "# proxy (current-time plot) prediction (Norm_Norm_charge_tot)\n",
    "new_features = np.concatenate ((charge_denisty,\n",
    "                                pulsetime,\n",
    "                                material_type_Norm_charge_Tot_coef,\n",
    "                                atmosphere_type,\n",
    "                                Pretreat_voltage), axis=1)\n",
    "\n",
    "rand=0\n",
    "indices = np.arange(len(new_features))\n",
    "train_new_features, test_new_features, train_labels, test_labels, idxtrain, idx_test = \\\n",
    "                      train_test_split(new_features, Norm_charge_tot, \n",
    "                                       indices, test_size = 0.20, random_state = rand)\n",
    "feature_list = ['charge_denisty',\n",
    "                'PulseTime',\n",
    "                'material_CB',\n",
    "                'material_MC',\n",
    "                'material_PA',\n",
    "                'material_TCB',\n",
    "                'Atmosphere_air',\n",
    "                'Atmosphere_arg',\n",
    "                'Pretreat_voltage']"
   ]
  },
  {
   "cell_type": "code",
   "execution_count": 77,
   "metadata": {},
   "outputs": [
    {
     "name": "stdout",
     "output_type": "stream",
     "text": [
      "Average of pearson r for test 0.762857267170948\n",
      "std of pearson 1 for test 0.02562412003965354 \n",
      "\n",
      "Average of r_squared for test 0.5492208940617689\n",
      "std of r_squared for test 0.034717596485303946 \n",
      "\n",
      "Average of r_squared for train 0.9992018799936646\n",
      "std of r_squared for train 0.00020163820884514097\n",
      "Mean Absolute Error: 34.65 units.\n",
      "r2 score =  0.9993209585434534\n",
      "Mean Absolute Error: 37.4597 units.\n",
      "r2 score =  0.9991980110720922\n"
     ]
    }
   ],
   "source": [
    "r_squareds = list()\n",
    "r_pearsons = list()\n",
    "r_squareds_train = list()\n",
    "MAEs = list()\n",
    "MAEs_train = list()\n",
    "start = time.time()\n",
    "for random_state in range(10):\n",
    "    # after fixing the hyperparameters, train the model on all samples\n",
    "    # Instantiate model with 1000 decision tree\n",
    "    xgbr_norm_charge_total = XGBRegressor(max_depth=10, n_estimators=100, gamma=0.01, \n",
    "                   learning_rate=0.118, subsample=0.75, min_child_weight=2, \n",
    "                  random_state=random_state)\n",
    "    #xgbr_norm_charge_total = RandomForestRegressor(max_depth=5, n_estimators=200, min_samples_split=3)\n",
    "    # xgbr_norm_charge_total = linear_model.BayesianRidge()\n",
    "    # xgbr_norm_charge_total = XGBRegressor()\n",
    "    # Train the model on training data\n",
    "    labels = Norm_charge_tot\n",
    "    xgbr_norm_charge_total.fit(train_new_features, train_labels);\n",
    "    #print('Doneskies')\n",
    "    Norm_charge_tot_test = xgbr_norm_charge_total.predict(test_new_features)\n",
    "    r_squared_Norm_charge_tot_test = r2_score(test_labels, Norm_charge_tot_test)\n",
    "    r_squareds.append(r_squared_Norm_charge_tot_test)\n",
    "    \n",
    "    test_labels_ = test_labels.reshape(test_labels.shape[0], )\n",
    "    Norm_charge_tot_test_ = Norm_charge_tot_test.reshape(Norm_charge_tot_test.shape[0], )\n",
    "    r_pearson_Norm_charge_tot_test = pearsonr(test_labels_, Norm_charge_tot_test_)\n",
    "    r_pearsons.append(r_pearson_Norm_charge_tot_test[0])\n",
    "\n",
    "    \n",
    "    Norm_charge_tot_train = xgbr_norm_charge_total.predict(train_new_features)\n",
    "    r_squared_Norm_charge_tot_train = r2_score(train_labels, Norm_charge_tot_train)\n",
    "    r_squareds_train.append(r_squared_Norm_charge_tot_train)    \n",
    "\n",
    "print ('Average of pearson r for test', np.mean(np.array(r_pearsons)))\n",
    "print ('std of pearson 1 for test', np.std(np.array(r_pearsons)), '\\n')\n",
    "\n",
    "print ('Average of r_squared for test', np.mean(np.array(r_squareds)))\n",
    "print ('std of r_squared for test', np.std(np.array(r_squareds)), '\\n')\n",
    "\n",
    "print ('Average of r_squared for train', np.mean(np.array(r_squareds_train)))\n",
    "print ('std of r_squared for train', np.std(np.array(r_squareds_train)))\n",
    "\n",
    "\n",
    "xgbr_norm_charge_total.fit(new_features, labels)\n",
    "# Use the forest's predict method on the test data\n",
    "Norm_charge_tot_predicted = xgbr_norm_charge_total.predict(new_features)\n",
    "# Calculate the absolute errors\n",
    "errors = abs(Norm_charge_tot_predicted - Norm_charge_tot)\n",
    "# Print out the mean absolute error (mae)\n",
    "print('Mean Absolute Error:', round(np.mean(errors), 4), 'units.')\n",
    "\n",
    "r_squared_Norm_charge_tot_all = r2_score(Norm_charge_tot, Norm_charge_tot_predicted)\n",
    "print('r2 score = ', r_squared_Norm_charge_tot_all)\n",
    "\n",
    "# Use the forest's predict method on the test data\n",
    "Norm_charge_tot_test = xgbr_norm_charge_total.predict(test_new_features)\n",
    "# Calculate the absolute errors\n",
    "errors_test = abs(Norm_charge_tot_test - test_labels)\n",
    "# Print out the mean absolute error (mae)\n",
    "print('Mean Absolute Error:', round(np.mean(errors_test), 4), 'units.')\n",
    "\n",
    "r_squared_Norm_charge_tot_test = r2_score(test_labels, Norm_charge_tot_test)\n",
    "print('r2 score = ', r_squared_Norm_charge_tot_test)"
   ]
  },
  {
   "cell_type": "code",
   "execution_count": 78,
   "metadata": {},
   "outputs": [
    {
     "name": "stdout",
     "output_type": "stream",
     "text": [
      "Variable: charge_denisty Importance: ('charge_denisty', 0.12)\n",
      "Variable: PulseTime Importance: ('PulseTime', 0.13)\n",
      "Variable: material_CB Importance: ('material_CB', 0.08)\n",
      "Variable: material_MC Importance: ('material_MC', 0.22)\n",
      "Variable: material_PA Importance: ('material_PA', 0.03)\n",
      "Variable: material_TCB Importance: ('material_TCB', 0.18)\n",
      "Variable: Atmosphere_air Importance: ('Atmosphere_air', 0.06)\n",
      "Variable: Atmosphere_arg Importance: ('Atmosphere_arg', 0.09)\n",
      "Variable: Pretreat_voltage Importance: ('Pretreat_voltage', 0.1)\n",
      "[0.11565813, 0.13434339, 0.07814488, 0.21513005, 0.02933864, 0.18005373, 0.06032598, 0.085444376, 0.101560794]\n"
     ]
    }
   ],
   "source": [
    "# Get numerical feature importances\n",
    "importances = list(xgbr_norm_charge_total.feature_importances_)\n",
    "# List of tuples with variable and importance\n",
    "feature_importances = [(feature, round(importance, 2)) for feature, importance in zip(feature_list, importances)]\n",
    "# Sort the feature importances by most important first\n",
    "#feature_importances = sorted(feature_importances, key = lambda x: x[1], reverse = True)\n",
    "# Print out the feature and importances \n",
    "[print('Variable: {} Importance: {}'.format(feature, importance)) \n",
    " for (feature, importance) in zip(feature_list, feature_importances)];\n",
    "\n",
    "print (importances)"
   ]
  },
  {
   "cell_type": "code",
   "execution_count": 79,
   "metadata": {},
   "outputs": [
    {
     "name": "stdout",
     "output_type": "stream",
     "text": [
      "[ 0.20683383 -0.23235256  0.04141794 -0.01589921]\n",
      "[-0.61762249 -2.34785825  3.60891389 -0.64343315]\n",
      "[-0.15671519 -0.40094715 -0.24270909 -0.1163266 ]\n",
      "[-0.18916795 -0.99371932  1.13587425 -0.25855299]\n"
     ]
    }
   ],
   "source": [
    "print (CB_MC_PA_coef_Final_Current_Percent)\n",
    "print (CB_MC_PA_coef_Norm_I_Max)\n",
    "print (CB_MC_PA_coef_Norm_charge_tot)\n",
    "CB_MC_PA_TCB_coef_average = (CB_MC_PA_coef_Final_Current_Percent +\n",
    "                             CB_MC_PA_coef_Norm_I_Max +\n",
    "                             CB_MC_PA_coef_Norm_charge_tot)/3\n",
    "print (CB_MC_PA_TCB_coef_average)"
   ]
  },
  {
   "cell_type": "code",
   "execution_count": 95,
   "metadata": {},
   "outputs": [
    {
     "name": "stdout",
     "output_type": "stream",
     "text": [
      "coef_:  [ 4.52071307e+04  8.02073377e-01  7.83151148e-03  3.37634491e-03\n",
      "  1.55933825e-01  9.21575668e-02 -2.32454649e-02 -9.77444614e-03\n",
      "  1.87162249e-02 -3.60001671e-04  2.07275778e-02]\n",
      "(0.8116778194843819, 3.2961219777602324e-09)\n",
      "r-squared 0.6483978586287362\n",
      "mse:  0.021916087343618336\n"
     ]
    },
    {
     "data": {
      "image/png": "[encoded data removed]",
      "text/plain": [
       "<Figure size 432x288 with 1 Axes>"
      ]
     },
     "metadata": {
      "needs_background": "light"
     },
     "output_type": "display_data"
    },
    {
     "name": "stdout",
     "output_type": "stream",
     "text": [
      "coef_:  [ 4.46425026e+04  1.26224094e+00  4.00658450e-03  3.38985239e-03\n",
      "  1.62046279e-01  6.94076598e-02 -1.84815443e-02 -8.17451520e-03\n",
      "  1.50262175e-02 -2.95243845e-04  1.63936400e-02]\n",
      "(0.7682299561064726, 3.798367018750342e-35)\n",
      "r-squared 0.5901772654593532\n",
      "adj. r-squared 0.5623497958300501\n",
      "mse:  0.03062950674369639\n",
      "rmse:  0.17501287593687612\n",
      "mae:  0.1465116982185611\n"
     ]
    },
    {
     "data": {
      "image/png": "[encoded data removed]",
      "text/plain": [
       "<Figure size 432x288 with 1 Axes>"
      ]
     },
     "metadata": {
      "needs_background": "light"
     },
     "output_type": "display_data"
    },
    {
     "data": {
      "text/plain": [
       "Text(0, 0.5, 'error of regression')"
      ]
     },
     "execution_count": 95,
     "metadata": {},
     "output_type": "execute_result"
    },
    {
     "data": {
      "image/png": "[encoded data removed]",
      "text/plain": [
       "<Figure size 432x288 with 1 Axes>"
      ]
     },
     "metadata": {
      "needs_background": "light"
     },
     "output_type": "display_data"
    }
   ],
   "source": [
    "# linearly relate the input paramters to the final Graphene Yield\n",
    "voltage_ALL = np.array (df['Voltage'].loc[df['Material']!='AAA']).reshape(-1, 1)\n",
    "mass_ALL = np.array (df['Mass'].loc[df['Material']!='AAA']).reshape(-1, 1)\n",
    "cap_ALL = np.array (df['Cap'].loc[df['Material']!='AAA']).reshape(-1, 1)\n",
    "GY_ALL = np.array (df['Graphene_Yield'].loc[df['Material']!='AAA']).reshape(-1, 1)\n",
    "CD_ALL = np.array (df['charge_density'].loc[df['Material']!='AAA']).reshape(-1, 1)\n",
    "prevol_ALL = np.array (df['Pretreat_voltage'].loc[df['Material']!='AAA']).reshape(-1, 1)\n",
    "prevolhighest_ALL = np.array (df['Pretreat_voltage'].loc[df['Material']!='AAA']).reshape(-1, 1)\n",
    "I_Max_ALL = np.array (df['I_Max'].loc[df['Material']!='AAA']).reshape(-1, 1)\n",
    "I_Mean_ALL = np.array (df['I_Mean'].loc[df['Material']!='AAA']).reshape(-1, 1)\n",
    "charge_tot_ALL = np.array (df['Charge_Tot'].loc[df['Material']!='AAA']).reshape(-1, 1)\n",
    "pulsetime_ALL = np.array (df['PulseTime'].loc[df['Material']!='AAA']).reshape(-1, 1)\n",
    "maxima_ALL = np.array (df['Maxima'].loc[df['Material']!='AAA']).reshape(-1, 1)\n",
    "\n",
    "                                #Final_Current_Percent_predicted.reshape(-1, 1),\n",
    "                                #Norm_I_Max_predicted.reshape(-1, 1),\n",
    "                                #Norm_charge_tot_predicted.reshape(-1, 1), \n",
    "            \n",
    "input_features = np.concatenate(((voltage_ALL**1*((mass_ALL/100)**-1)*(cap_ALL**1))**1*1e-9\n",
    "                                 , (prevol_ALL**0.5)*1e-2 \n",
    "                                 , (Norm_I_Max_predicted.reshape(-1, 1)**1)*1e-2\n",
    "                                 , pulsetime_ALL**0.5\n",
    "                                 , ((Norm_charge_tot_predicted.reshape(-1, 1))**1)*1e-2\n",
    "                                 , mass_ALL*1e-2 \n",
    "                                 , cap_ALL*1e-1\n",
    "                                 , X_CB_MC_PA_TCB_ps_res_sa_sp2 [df['Material']!='AAA']\n",
    "                                   ), axis=1)\n",
    "\n",
    "max_gamma_score = 0\n",
    "for rand in range(0, 20):\n",
    "    X_train, X_test, y_train, y_test = train_test_split(\n",
    "        input_features, GY_ALL, test_size=0.2, random_state=rand)\n",
    "    phys_reg_mdl = linear_model.LinearRegression(fit_intercept=True, positive=False)\n",
    "    phys_reg_mdl = phys_reg_mdl.fit(X_train, y_train.ravel())\n",
    "    if phys_reg_mdl.score(X_test, y_test.ravel()) > max_gamma_score:\n",
    "        max_gamma_score = phys_reg_mdl.score(X_test, y_test.ravel())\n",
    "        best_random_state = rand\n",
    "\n",
    "X_train, X_test, y_train, y_test = train_test_split(\n",
    "        input_features, GY_ALL, test_size=0.2, random_state=best_random_state)\n",
    "phys_reg_mdl = linear_model.LinearRegression(fit_intercept=True, positive=False)\n",
    "phys_reg_mdl = phys_reg_mdl.fit(X_train, y_train.ravel())\n",
    "print ('coef_: ', phys_reg_mdl.coef_)\n",
    "y_pred = phys_reg_mdl.predict (X_test)\n",
    "\n",
    "print (pearsonr(y_test.ravel(), y_pred.ravel()))\n",
    "r2 = r2_score(y_test.ravel(), y_pred.ravel())\n",
    "print ('r-squared', r2)\n",
    "print ('mse: ', mean_squared_error(y_test, y_pred))\n",
    "\n",
    "plt.scatter(y_test, y_pred)\n",
    "plt.xlabel('True Graphene Yield')\n",
    "plt.ylabel('Pred. Graphene Yield')\n",
    "\n",
    "mid_line = list(np.linspace(np.min(GY_ALL), np.max(GY_ALL), 8))\n",
    "plt.plot(mid_line, mid_line, '--', color='red')\n",
    "plt.show()\n",
    "\n",
    "\n",
    "phys_reg_mdl = phys_reg_mdl.fit(input_features, GY_ALL.ravel())\n",
    "\n",
    "print ('coef_: ', phys_reg_mdl.coef_)\n",
    "y_pred = phys_reg_mdl.predict (input_features)\n",
    "print (pearsonr(GY_ALL.ravel(), y_pred.ravel()))\n",
    "r2 = r2_score(GY_ALL.ravel(), y_pred.ravel())\n",
    "print ('r-squared', r2)\n",
    "n = input_features.shape[0]\n",
    "p = input_features.shape[1]\n",
    "Adj_r2 = 1-(1-r2)*(n-1)/(n-p-1)\n",
    "print ('adj. r-squared', Adj_r2)\n",
    "print ('mse: ', mean_squared_error(GY_ALL, y_pred))\n",
    "print ('rmse: ', np.sqrt(mean_squared_error(GY_ALL, y_pred)))\n",
    "print ('mae: ', mean_absolute_error(GY_ALL, y_pred))\n",
    "\n",
    "\n",
    "plt.scatter(GY_ALL, y_pred)\n",
    "plt.xlabel('True Graphene Yield')\n",
    "plt.ylabel('Pred. Graphene Yield')\n",
    "mid_line = list(np.linspace(np.min(GY_ALL), np.max(GY_ALL), 8))\n",
    "plt.plot(mid_line, mid_line, '--', color='red')\n",
    "plt.show()\n",
    "\n",
    "error = GY_ALL - y_pred.reshape(-1, 1)\n",
    "plt.scatter (GY_ALL, (error))\n",
    "plt.xlabel('True Graphene Yield')\n",
    "plt.ylabel('error of regression')"
   ]
  },
  {
   "cell_type": "code",
   "execution_count": 81,
   "metadata": {},
   "outputs": [],
   "source": [
    "# assume constant resisitivity for precursors\n",
    "CB_MC_PA_TCB_res = CB_MC_PA_TCB_ps_res_sa_sp2 [:, 1]\n",
    "resistance_matrix = np.matmul(material_matrix, CB_MC_PA_TCB_res)\n",
    "heat_power = np.array (df['Voltage']*df['Voltage']/resistance_matrix*df['PulseTime']*(1e-6)).reshape(-1, 1)\n",
    "# got it from model based prediction of I_Max\n",
    "# got it from model based prediction of I_Max\n",
    "CB_MC_PA_TCB_coef_average = (CB_MC_PA_coef_Final_Current_Percent +\n",
    "                             CB_MC_PA_coef_Norm_I_Max +\n",
    "                             CB_MC_PA_coef_Norm_charge_tot)/3\n",
    "\n",
    "material_type_GY_coef = material_type * CB_MC_PA_TCB_coef_average\n",
    "# Porxy properties, as well as process parameters\n",
    "new_features = np.concatenate ((charge_denisty, \n",
    "                                X_CB_MC_PA_TCB_ps_res_sa_sp2,\n",
    "                                #np.array(df['Volt_Drop']/df['I_Mean']).reshape(-1, 1),\n",
    "                                material_type_GY_coef,\n",
    "                                pulsetime,\n",
    "                                Pretreat_voltage,\n",
    "                                y_pred.reshape(-1, 1),\n",
    "                                atmosphere_type,\n",
    "                                Final_Current_Percent_predicted.reshape(-1, 1),\n",
    "                                Norm_I_Max_predicted.reshape(-1, 1),\n",
    "                                Norm_charge_tot_predicted.reshape(-1, 1), \n",
    "                                heat_power.reshape(-1, 1)\n",
    "                                ), axis=1)\n",
    "\n",
    "rand=7\n",
    "test_size = 0.2\n",
    "indices = np.arange(len(new_features))\n",
    "labels = 100*Graphene_Yield\n",
    "train_new_features, test_new_features, train_labels, test_labels, idx_train, idx_test = \\\n",
    "                      train_test_split(new_features, labels, \n",
    "                                       indices, test_size = test_size, random_state = rand\n",
    "                                       #,stratify=df['Material']\n",
    "                                      )\n",
    "\n",
    "feature_list = ['charge_denisty',\n",
    "                'material_CB',\n",
    "                'material_MC',\n",
    "                'material_PA',\n",
    "                'material_TCB',\n",
    "                'PulseTime',\n",
    "                'Pretreat_voltage',\n",
    "                'Atmosphere_air',\n",
    "                'Atmosphere_arg',\n",
    "                'Final_Current_Percent',\n",
    "                'Norm_I_Max',\n",
    "                'Norm_charge_tot']"
   ]
  },
  {
   "cell_type": "raw",
   "metadata": {},
   "source": [
    "# Grid Search CV each fit takes 1Sec, 5CV means running 5 times for each possibility\n",
    "start = time.time()\n",
    "from sklearn.model_selection import GridSearchCV\n",
    "gsc = GridSearchCV(\n",
    "        estimator=XGBRegressor(),\n",
    "        param_grid={\n",
    "'max_depth': [2, 3, 4, 5, 6, 7, 8, 9, 10],\n",
    "'n_estimators': [40, 41, 42, 44, 45, 48, 50],\n",
    "'min_child_weight': [3, 4, 5, 6, 7, 8, 9, 10],\n",
    "'learning_rate': np.arange(0.1, 0.19, 0.005).tolist(),\n",
    "'subsample': [0.775, 0.8],\n",
    "'gamma': [0.001]\n",
    "        },\n",
    "        cv=5, scoring='r2', verbose=10, n_jobs=-1)\n",
    "grid_result = gsc.fit(new_features, labels)\n",
    "best_params = grid_result.best_params_\n",
    "print('Max Depth: ', best_params[\"max_depth\"])\n",
    "print('N Estimators: ', best_params[\"n_estimators\"])\n",
    "print('Min Child Weight: ', best_params[\"min_child_weight\"])\n",
    "print('Learning Rate: ', best_params[\"learning_rate\"])\n",
    "print('Subsample: ', best_params[\"subsample\"])\n",
    "print('Gamma: ', best_params[\"gamma\"])\n",
    "end = time.time()\n",
    "print ('total time is {}'.format(end-start))\n",
    "\n",
    "\"\"\"\n",
    "Max Depth:  4\n",
    "N Estimators:  45\n",
    "Min Child Weight:  7\n",
    "Learning Rate:  0.11600000000000002\n",
    "Subsample:  0.8\n",
    "Gamma:  0.001\n",
    "\n",
    "'max_depth': [2, 3, 4, 5, 6, 7, 8, 9],\n",
    "'n_estimators': [40, 41, 42, 44, 45, 48, 50],\n",
    "'min_child_weight': [3, 4, 5, 6, 7, 8, 9],\n",
    "'learning_rate': np.arange(0.1, 0.2, 0.008).tolist(),\n",
    "'subsample': [0.775, 0.8],\n",
    "'gamma': [0.001]\n",
    "\"\"\""
   ]
  },
  {
   "cell_type": "code",
   "execution_count": 82,
   "metadata": {},
   "outputs": [
    {
     "name": "stdout",
     "output_type": "stream",
     "text": [
      "CB_count 57 0.33 % of total 174\n",
      "MC_count 44 0.25 % of total 174\n",
      "PA_count 36 0.21 % of total 174\n",
      "TCB_count 37 0.21 % of total 174\n",
      "CB count for testing 0.2% is 11.0\n",
      "6\n",
      "MC count for testing 0.2% is 9.0\n",
      "7\n",
      "PA count for testing 0.2% is 7.0\n",
      "14\n",
      "TCB count for testing 0.2% is 7.0\n",
      "8\n"
     ]
    }
   ],
   "source": [
    "# stratify added to put same ratio of precursors in test and train\n",
    "CB_count = sum(df['Material']=='CB')\n",
    "MC_count = sum(df['Material']=='MC')\n",
    "PA_count = sum(df['Material']=='PA')\n",
    "TCB_count = sum(df['Material']=='TCB')\n",
    "total = CB_count + MC_count + PA_count + TCB_count\n",
    "print ('CB_count', CB_count, round(CB_count/total, 2),\"% of total\", total)\n",
    "print ('MC_count', MC_count, round(MC_count/total, 2),\"% of total\", total)\n",
    "print ('PA_count', PA_count, round(PA_count/total, 2),\"% of total\", total)\n",
    "print ('TCB_count', TCB_count, round(TCB_count/total, 2),\"% of total\", total)\n",
    "\n",
    "print ('CB count for testing {}% is {}'.format(test_size, round(test_size*CB_count, 0)))\n",
    "print (sum (df['Material'][idx_test]=='CB'))\n",
    "print ('MC count for testing {}% is {}'.format(test_size, round(test_size*MC_count, 0)))\n",
    "print (sum (df['Material'][idx_test]=='MC'))\n",
    "print ('PA count for testing {}% is {}'.format(test_size, round(test_size*PA_count, 0)))\n",
    "print (sum (df['Material'][idx_test]=='PA'))\n",
    "print ('TCB count for testing {}% is {}'.format(test_size, round(test_size*TCB_count, 0)))\n",
    "print (sum (df['Material'][idx_test]=='TCB'))"
   ]
  },
  {
   "cell_type": "code",
   "execution_count": 93,
   "metadata": {},
   "outputs": [
    {
     "data": {
      "text/plain": [
       "[<matplotlib.lines.Line2D at 0x7fc2b00ff310>]"
      ]
     },
     "execution_count": 93,
     "metadata": {},
     "output_type": "execute_result"
    },
    {
     "data": {
      "image/png": "[encoded data removed]",
      "text/plain": [
       "<Figure size 432x288 with 1 Axes>"
      ]
     },
     "metadata": {
      "needs_background": "light"
     },
     "output_type": "display_data"
    }
   ],
   "source": [
    "plt.scatter(Graphene_Yield, y_pred)\n",
    "mid_line = list(np.linspace(np.min(GY_ALL), np.max(GY_ALL), 8))\n",
    "plt.plot(mid_line, mid_line, '--', color='red')"
   ]
  },
  {
   "cell_type": "code",
   "execution_count": 91,
   "metadata": {},
   "outputs": [
    {
     "name": "stdout",
     "output_type": "stream",
     "text": [
      "RMSE for test,  15.798267\n",
      "time for 100 of split and 5 rep. is: 81.59400773048401\n"
     ]
    },
    {
     "data": {
      "text/plain": [
       "<seaborn.axisgrid.FacetGrid at 0x7fc2b043db50>"
      ]
     },
     "execution_count": 91,
     "metadata": {},
     "output_type": "execute_result"
    },
    {
     "data": {
      "image/png": "[encoded data removed]",
      "text/plain": [
       "<Figure size 402.375x360 with 1 Axes>"
      ]
     },
     "metadata": {
      "needs_background": "light"
     },
     "output_type": "display_data"
    }
   ],
   "source": [
    "r_squareds = list()\n",
    "r_squareds_randomized_testtrain = list()\n",
    "r_squareds_train = list()\n",
    "MAEs = list()\n",
    "MAEs_train = list()\n",
    "start = time.time()\n",
    "r2_max = 0\n",
    "test_split_seed1 = 0\n",
    "test_split_seed2 = 100\n",
    "test_split_count = test_split_seed2 - test_split_seed1\n",
    "rep = 5\n",
    "for rand in range (test_split_seed1, test_split_seed2):\n",
    "    indices = np.arange(len(new_features))\n",
    "    train_new_features, test_new_features, train_labels, test_labels, idx_train, idx_test = \\\n",
    "                      train_test_split(new_features, 100*Graphene_Yield, \n",
    "                                       indices, test_size = 0.2, random_state=rand\n",
    "                                       #,stratify=df['Material']\n",
    "                                       )\n",
    "    r_squareds = list()\n",
    "    r_squareds_train = list()\n",
    "    MAEs = list()\n",
    "    MAEs_train = list()\n",
    "    for random_state in range(rep):\n",
    "        # Instantiate model with 1000 decision trees\n",
    "        xgbr_graphyield = XGBRegressor(max_depth=3, n_estimators=25, gamma=0.7, \n",
    "                   learning_rate=0.118, subsample=0.725, min_child_weight=6, \n",
    "                   random_state=random_state)\n",
    "\n",
    "        \"\"\"\n",
    "        xgbr_graphyield = MLPRegressor(hidden_layer_sizes=(500, 500, 500), activation='logistic', batch_size=2,\n",
    "                   alpha=0.00001, learning_rate = 'adaptive', solver='adam', random_state=random_state)    \n",
    "        \"\"\"\n",
    "        # Train the model on training data\n",
    "        xgbr_graphyield.fit(train_new_features, train_labels);\n",
    "        # Use the forest's predict method on the test data\n",
    "        predictions = xgbr_graphyield.predict(test_new_features)\n",
    "        # Calculate the absolute errors\n",
    "        errors = abs(predictions - test_labels)\n",
    "        MAEs.append(errors)\n",
    "        # Print out the mean absolute error (mae)\n",
    "        #print('Mean Absolute Error:', round(np.mean(errors), 4), 'units.')\n",
    "\n",
    "        r_squared = r2_score(test_labels, predictions)\n",
    "        r_squareds.append (r_squared)\n",
    "    \n",
    "        pred_train = xgbr_graphyield.predict(train_new_features)\n",
    "        errors = abs(pred_train - train_labels)\n",
    "        MAEs_train.append(errors)\n",
    "        r_squared = r2_score(train_labels, pred_train)\n",
    "        r_squareds_train.append(r_squared)\n",
    "        #print('r2 score = ', r_squared)\n",
    "    #print ('test split rand', rand)\n",
    "    #print ('Average of r_squared for test', np.mean(np.array(r_squareds)))\n",
    "    #print ('std of r_squared for test', np.std(np.array(r_squareds)), '\\n')\n",
    "\n",
    "    #print ('Average of r_squared for train', np.mean(np.array(r_squareds_train)))\n",
    "    #print ('std of r_squared for train', np.std(np.array(r_squareds_train)))\n",
    "    # train accuracy\n",
    "    pred_train = xgbr_graphyield.predict(train_new_features)\n",
    "    # Calculate the absolute errors\n",
    "    errors_train = abs(pred_train - train_labels)\n",
    "    # Print out the mean absolute error (mae)\n",
    "    #print('Mean Absolute Error:', round(np.mean(errors_train), 4), 'units.')\n",
    "    r_squared_train = r2_score(train_labels, pred_train)\n",
    "    #print('r2 score = ', r_squared_train)\n",
    "    #print ('time is: ', end-start)\n",
    "\n",
    "    pred_test = xgbr_graphyield.predict(test_new_features)\n",
    "    # Calculate the absolute errors\n",
    "    errors_test = abs(pred_test - test_labels)\n",
    "    # Print out the mean absolute error (mae)\n",
    "    #print('Mean Absolute Error for test:', round(np.mean(errors_test), 4), 'units.')\n",
    "    r_squared_test = r2_score(test_labels, pred_test)\n",
    "    if r_squared_test>r2_max:\n",
    "        r2_max = r_squared_test\n",
    "        rand_split = rand\n",
    "    #print('r2 score = ', r_squared_test)\n",
    "    #print ('****')\n",
    "\n",
    "    #sns.displot(r_squareds)\n",
    "    r_squareds_randomized_testtrain.append (r_squareds)\n",
    "\n",
    "m = tf.keras.metrics.RootMeanSquaredError()\n",
    "m.update_state(pred_test, test_labels)\n",
    "print ('RMSE for test, ', m.result().numpy())\n",
    "end = time.time()\n",
    "print ('time for {} of split and {} rep. is: {}'.format(test_split_count, rep, end-start))\n",
    "r_squareds_randomized_testtrain_vec = np.array ((r_squareds_randomized_testtrain))\n",
    "r_squareds_randomized_testtrain_mean = np.mean (r_squareds_randomized_testtrain_vec, axis=1)\n",
    "r_squareds_randomized_testtrain_mean\n",
    "sns.displot (r_squareds_randomized_testtrain_vec)"
   ]
  },
  {
   "cell_type": "code",
   "execution_count": 92,
   "metadata": {},
   "outputs": [
    {
     "name": "stdout",
     "output_type": "stream",
     "text": [
      "0.6318284665837371\n",
      "sd of random runs 0.09818628559551275\n"
     ]
    }
   ],
   "source": [
    "print (np.mean(r_squareds_randomized_testtrain_mean))\n",
    "print ('sd of random runs', np.sqrt(np.var(r_squareds_randomized_testtrain_vec)))"
   ]
  },
  {
   "cell_type": "code",
   "execution_count": 41,
   "metadata": {},
   "outputs": [
    {
     "data": {
      "text/plain": [
       "<matplotlib.legend.Legend at 0x7f30829a2400>"
      ]
     },
     "execution_count": 41,
     "metadata": {},
     "output_type": "execute_result"
    },
    {
     "data": {
      "image/png": "[encoded data removed]",
      "text/plain": [
       "<Figure size 360x288 with 1 Axes>"
      ]
     },
     "metadata": {
      "needs_background": "light"
     },
     "output_type": "display_data"
    }
   ],
   "source": [
    "errors_test = abs(pred_test.reshape(-1, 1) - test_labels)\n",
    "id_errors = list(range(errors_test.shape[0]))\n",
    "#plt.plot(id_errors, errors_test, c=id_test)\n",
    "\n",
    "df_test = df.loc[idx_test]\n",
    "df_test['id_errors'] = id_errors\n",
    "df_test['errors'] = errors_test\n",
    "df_test['Graphene_Yield_per'] = 100*df_test['Graphene_Yield']\n",
    "\n",
    "groups = df_test.groupby(['Material'])\n",
    "\n",
    "# Plot\n",
    "fig, ax = plt.subplots(figsize=(5,4))\n",
    "ax.tick_params(direction='in', length=4, width=1.5, colors='black', grid_alpha=0, labelsize='14')\n",
    "counter=0\n",
    "markers = ['o', 's', '^', 'v']\n",
    "colors=['blue', 'red', 'green', 'orange']\n",
    "colors2 = ['maroon', 'darkorange', 'goldenrod', 'dodgerblue']\n",
    "for name, group in groups:\n",
    "    ax.plot(group.Graphene_Yield_per, group.errors, marker=markers[counter], alpha=0.9, \n",
    "            linestyle='', ms=8, label=name)\n",
    "    counter+=1\n",
    "plt.legend()"
   ]
  },
  {
   "cell_type": "code",
   "execution_count": 42,
   "metadata": {},
   "outputs": [
    {
     "data": {
      "text/plain": [
       "<matplotlib.legend.Legend at 0x7f30828d87f0>"
      ]
     },
     "execution_count": 42,
     "metadata": {},
     "output_type": "execute_result"
    },
    {
     "data": {
      "image/png": "[encoded data removed]",
      "text/plain": [
       "<Figure size 360x288 with 1 Axes>"
      ]
     },
     "metadata": {
      "needs_background": "light"
     },
     "output_type": "display_data"
    }
   ],
   "source": [
    "errors_train = abs(pred_train.reshape(-1, 1) - train_labels)\n",
    "id_errors = list(range(errors_train.shape[0]))\n",
    "#plt.plot(id_errors, errors_train, c=id_train)\n",
    "\n",
    "df_train = df.loc[idx_train]\n",
    "df_train['id_errors'] = id_errors\n",
    "df_train['errors'] = errors_train\n",
    "\n",
    "groups = df_train.groupby(['Material'])\n",
    "\n",
    "# Plot\n",
    "fig, ax = plt.subplots(figsize=(5,4))\n",
    "ax.tick_params(direction='in', length=4, width=1.5, colors='black', grid_alpha=0, labelsize='14')\n",
    "counter=0\n",
    "markers = ['o', 's', '^', 'v']\n",
    "colors=['blue', 'red', 'green', 'orange']\n",
    "colors2 = ['maroon', 'darkorange', 'goldenrod', 'dodgerblue']\n",
    "for name, group in groups:\n",
    "    ax.plot(group.id_errors, group.errors, marker=markers[counter], alpha=0.9, linestyle='', ms=8, label=name)\n",
    "    counter+=1\n",
    "plt.legend()"
   ]
  },
  {
   "cell_type": "code",
   "execution_count": 43,
   "metadata": {},
   "outputs": [
    {
     "name": "stderr",
     "output_type": "stream",
     "text": [
      "/tmp/ipykernel_58595/3048983963.py:2: SettingWithCopyWarning: \n",
      "A value is trying to be set on a copy of a slice from a DataFrame.\n",
      "Try using .loc[row_indexer,col_indexer] = value instead\n",
      "\n",
      "See the caveats in the documentation: https://pandas.pydata.org/pandas-docs/stable/user_guide/indexing.html#returning-a-view-versus-a-copy\n",
      "  df_test['y_pred'] = pred_test\n",
      "/tmp/ipykernel_58595/3048983963.py:3: SettingWithCopyWarning: \n",
      "A value is trying to be set on a copy of a slice from a DataFrame.\n",
      "Try using .loc[row_indexer,col_indexer] = value instead\n",
      "\n",
      "See the caveats in the documentation: https://pandas.pydata.org/pandas-docs/stable/user_guide/indexing.html#returning-a-view-versus-a-copy\n",
      "  df_test['y_true'] = test_labels\n",
      "findfont: Font family ['Arial'] not found. Falling back to DejaVu Sans.\n"
     ]
    },
    {
     "data": {
      "image/png": "[encoded data removed]",
      "text/plain": [
       "<Figure size 432x288 with 1 Axes>"
      ]
     },
     "metadata": {
      "needs_background": "light"
     },
     "output_type": "display_data"
    }
   ],
   "source": [
    "df_test = df.iloc[idx_test]\n",
    "df_test['y_pred'] = pred_test\n",
    "df_test['y_true'] = test_labels\n",
    "groups = df_test.groupby(['Material'])\n",
    "\n",
    "# Plot\n",
    "fig, ax = plt.subplots(figsize=(6,4))\n",
    "ax.tick_params(direction='in', length=4, width=1.5, colors='black', grid_alpha=0, labelsize='14')\n",
    "counter=0\n",
    "markers = ['o', 's', '^', 'v']\n",
    "colors=['blue', 'red', 'green', 'orange']\n",
    "colors2 = ['maroon', 'darkorange', 'goldenrod', 'dodgerblue']\n",
    "for name, group in groups:\n",
    "    ax.plot(group.y_true, group.y_pred, marker=markers[counter], alpha=0.9, linestyle='', ms=8, label=name)\n",
    "    counter+=1\n",
    "    # Predicted 2D/G\n",
    "#plt.title('Test Data', fontsize='18', fontname='Arial', fontweight='bold')\n",
    "ax.set_ylabel('Predicted Yield (%)', fontsize='18', fontname='Arial', fontweight='bold')\n",
    "ax.set_xlabel('Actual Yield (%)', fontsize='18', fontname='Arial', fontweight='bold')\n",
    "ymin, ymax = plt.ylim()\n",
    "ax.set_xlim(ymin, ymax)\n",
    "ax.set_ylim(ymin, ymax)\n",
    "# Make a red line to show perfect predictions\n",
    "x2 = np.arange(ymin, ymax*1.1, .01)\n",
    "y2 = np.arange(ymin, ymax*1.1, .01)\n",
    "ax.plot(x2, y2, linestyle='--', linewidth = '3', color='red')\n",
    "leg = plt.legend(frameon=\"True\", prop={'family': 'Arial'})\n",
    "ax.legend(frameon=False, ncol=2, fontsize=12, loc='upper left')\n",
    "\n",
    "# Plot\n",
    "# plt.plot(df_test['I_Max'],df_test['Graphene_Yield'], linestyle = 'none', marker = 'o', color='black', markersize='8')\n",
    "# plt.xlabel('Flash Voltage (V)', fontsize='18', fontname='Arial', fontweight='bold')\n",
    "# plt.ylabel('D/G Ratio', fontsize='18', fontname='Arial', fontweight='bold')\n",
    "\n",
    "# Save\n",
    "plt.tight_layout()\n",
    "plt.show()\n",
    "#plt.savefig('XGBPerformance_materialgroup.png', dpi=300)\n"
   ]
  },
  {
   "cell_type": "code",
   "execution_count": 44,
   "metadata": {},
   "outputs": [
    {
     "name": "stderr",
     "output_type": "stream",
     "text": [
      "/tmp/ipykernel_58595/4245381040.py:16: SettingWithCopyWarning: \n",
      "A value is trying to be set on a copy of a slice from a DataFrame.\n",
      "Try using .loc[row_indexer,col_indexer] = value instead\n",
      "\n",
      "See the caveats in the documentation: https://pandas.pydata.org/pandas-docs/stable/user_guide/indexing.html#returning-a-view-versus-a-copy\n",
      "  df_test['cv_class'] = cv_class\n"
     ]
    },
    {
     "data": {
      "image/png": "[encoded data removed]",
      "text/plain": [
       "<Figure size 360x288 with 1 Axes>"
      ]
     },
     "metadata": {
      "needs_background": "light"
     },
     "output_type": "display_data"
    }
   ],
   "source": [
    "# Distribution of Graphene_yield with  CD density groups\n",
    "cv = np.array (df_test['charge_density'])\n",
    "Qs = np.quantile (cv, [0.25, 0.5, 0.75])\n",
    "\n",
    "cv_class = cv\n",
    "cv_class = np.where(cv <= Qs[0], 0, cv_class)\n",
    "cv_class = np.where((cv > Qs[0]) & (cv <= Qs[1]), 1, cv_class)\n",
    "cv_class = np.where((cv > Qs[1]) & (cv <= Qs[2]), 2, cv_class)\n",
    "cv_class = np.where(cv > Qs[2], 3, cv_class)\n",
    "\n",
    "# Plot style\n",
    "fig, ax = plt.subplots(figsize=(5,4))\n",
    "# ax.set_yticks(np.arange(.2, 2.2, .2))\n",
    "# ax.set_xticks(np.arange(0, 1200, 100))\n",
    "# ax.set_xlim(.7,3.3)\n",
    "df_test['cv_class'] = cv_class\n",
    "groups = df_test.groupby(['cv_class'])\n",
    "\n",
    "# Plot\n",
    "ax.tick_params(direction='in', length=4, width=1.5, colors='black', grid_alpha=0, labelsize='14')\n",
    "counter=0\n",
    "markers = ['1', '*', '^', 'o']\n",
    "colors=['blue', 'red', 'green', 'orange']\n",
    "colors2 = ['maroon', 'darkorange', 'goldenrod', 'dodgerblue']\n",
    "for name, group in groups:\n",
    "    ax.plot(group.y_pred, group.y_true, marker=markers[counter], alpha=0.9, linestyle='', ms=8, label=name)\n",
    "    counter+=1\n",
    "    # Predicted 2D/G\n",
    "# plt.title('Test Data', fontsize='18', fontname='Arial', fontweight='bold')\n",
    "ax.set_xlabel('Predicted Yield (%)', fontsize='18', fontname='Arial', fontweight='bold')\n",
    "ax.set_ylabel('Actual Yield (%)', fontsize='18', fontname='Arial', fontweight='bold')\n",
    "ymin, ymax = plt.ylim()\n",
    "ax.set_xlim(ymin, ymax)\n",
    "ax.set_ylim(ymin, ymax)\n",
    "# Make a red line to show perfect predictions\n",
    "x2 = np.arange(ymin, ymax*1.1, .01)\n",
    "y2 = np.arange(ymin, ymax*1.1, .01)\n",
    "ax.plot(x2,y2, linestyle='--', linewidth = '3', color='red')\n",
    "leg = plt.legend(frameon=\"True\", prop={'family': 'Arial'})\n",
    "ax.legend(frameon=False, ncol=2, fontsize=12, loc='upper left')\n",
    "\n",
    "# Plot\n",
    "# plt.plot(df_test['I_Max'],df_test['Graphene_Yield'], linestyle = 'none', marker = 'o', color='black', markersize='8')\n",
    "# plt.xlabel('Flash Voltage (V)', fontsize='18', fontname='Arial', fontweight='bold')\n",
    "# plt.ylabel('D/G Ratio', fontsize='18', fontname='Arial', fontweight='bold')\n",
    "\n",
    "# Save\n",
    "plt.tight_layout()\n",
    "plt.savefig('XGBPerformance_cvgroup.png', dpi=300)\n",
    "plt.show()"
   ]
  },
  {
   "cell_type": "raw",
   "metadata": {},
   "source": [
    "import tensorflow as tf\n",
    "from tensorflow import keras\n",
    "from tensorflow.keras import layers\n",
    "from keras import backend as BK\n",
    "\n",
    "def mapping_to_target_range( x, target_min=0, target_max=1) :\n",
    "    x02 = BK.tanh(x) + 1 # x in range(0,2)\n",
    "    scale = ( target_max-target_min )/2.\n",
    "    return  x02 * scale + target_min\n",
    "\n",
    "inputs = keras.Input(shape=(18,), name='exp_par')\n",
    "x2 = layers.Dense(20, activation='relu')(inputs)\n",
    "x3 = layers.Dense(10)(x2)\n",
    "x4 = tf.keras.activations.relu(x3)\n",
    "outputs = layers.Dense(1, name=\"graph_yield\")(x4)\n",
    "#outputs = tf.keras.activations.relu(outputs, max_value=1.0)\n",
    "\n",
    "mlp = keras.Model(inputs=inputs, outputs=outputs)\n",
    "print (mlp.summary()) "
   ]
  },
  {
   "cell_type": "raw",
   "metadata": {
    "scrolled": true
   },
   "source": [
    "mlp.compile(loss='mean_squared_error', \n",
    "            optimizer='rmsprop',\n",
    "            metrics=[tf.keras.metrics.RootMeanSquaredError()]) \n",
    "r_squareds = []\n",
    "RMSEs = []\n",
    "for i in range (1, 2):\n",
    "    tf.random.set_seed(i)\n",
    "    np.random.seed(i)\n",
    "    from numpy.random import seed\n",
    "    seed(i)\n",
    "    mlp.fit(train_new_features, train_labels, epochs=300, batch_size=2)\n",
    "    pred_test = mlp.predict (test_new_features)\n",
    "    # Calculate the absolute errors\n",
    "    errors_test = abs(pred_test - test_labels)\n",
    "    # Print out the mean absolute error (mae)\n",
    "    print('Mean Absolute Error for test:', round(np.mean(errors_test), 4), 'units.')\n",
    "    r_squared_test = r2_score(test_labels, pred_test)\n",
    "    print('r2 score = ', r_squared_test)\n",
    "    plt.scatter(pred_test, test_labels)\n",
    "    r_squareds.append(r_squared_test)\n",
    "    m = tf.keras.metrics.RootMeanSquaredError()\n",
    "    m.update_state(pred_test, test_labels)\n",
    "    RMSEs.append (m.result().numpy())\n",
    "    print ('RMSE for test, ', m.result().numpy())"
   ]
  },
  {
   "cell_type": "code",
   "execution_count": 45,
   "metadata": {},
   "outputs": [
    {
     "name": "stdout",
     "output_type": "stream",
     "text": [
      "[[43.4343434]]\n",
      "[[ 8.38365759e+01  1.25000000e+02  7.20000000e+00  6.20000000e+01\n",
      "   4.24000000e+01  0.00000000e+00  0.00000000e+00 -2.71355084e-01\n",
      "  -0.00000000e+00  2.03000000e+02  2.64000000e+02  5.98162025e-01\n",
      "   0.00000000e+00  0.00000000e+00  9.98592526e-02  1.24054541e+03\n",
      "   5.60026321e+01  1.00713375e+00]]\n",
      "r2 score before removal=  0.8297300060007623\n",
      "r2 score 99% outlier removed=  0.8552368376724836\n"
     ]
    },
    {
     "data": {
      "image/png": "[encoded data removed]",
      "text/plain": [
       "<Figure size 432x288 with 1 Axes>"
      ]
     },
     "metadata": {
      "needs_background": "light"
     },
     "output_type": "display_data"
    }
   ],
   "source": [
    "# find the outlier of the tested model\n",
    "test_error = abs(pred_test.reshape(pred_test.shape[0], 1)-test_labels)\n",
    "plt.scatter(test_labels, test_error)\n",
    "\n",
    "error_99quan = np.quantile(test_error, 0.99)\n",
    "error_99quan_index = np.where (test_error > error_99quan)[0] \n",
    "print (test_labels[error_99quan_index])\n",
    "print (test_new_features[error_99quan_index])\n",
    "\n",
    "r_squared_test = r2_score(test_labels, pred_test)\n",
    "print('r2 score before removal= ', r_squared_test)\n",
    "\n",
    "r_squared_test = r2_score(np.delete (test_labels, error_99quan_index), \n",
    "                          np.delete (pred_test, error_99quan_index))\n",
    "print('r2 score 99% outlier removed= ', r_squared_test)"
   ]
  },
  {
   "cell_type": "raw",
   "metadata": {},
   "source": [
    "pred_train = mlp.predict (train_new_features)\n",
    "# Calculate the absolute errors\n",
    "errors_train = (pred_train - train_labels)**2\n",
    "# Print out the mean absolute error (mae)\n",
    "print('Root Mean Squared Error(RMSE) for train:', round(np.sqrt(np.mean(errors_train)), 4), '%')\n",
    "r_squared_train = r2_score(train_labels, pred_train)\n",
    "print (r_squared_train)"
   ]
  },
  {
   "cell_type": "raw",
   "metadata": {},
   "source": [
    "m = tf.keras.metrics.RootMeanSquaredError()\n",
    "m.update_state(pred_train, train_labels)\n",
    "(m.result().numpy())"
   ]
  },
  {
   "cell_type": "code",
   "execution_count": 46,
   "metadata": {},
   "outputs": [
    {
     "data": {
      "text/plain": [
       "(-0.38667603126605865, 1.3620144828490697e-07)"
      ]
     },
     "execution_count": 46,
     "metadata": {},
     "output_type": "execute_result"
    },
    {
     "data": {
      "image/png": "[encoded data removed]",
      "text/plain": [
       "<Figure size 432x288 with 1 Axes>"
      ]
     },
     "metadata": {
      "needs_background": "light"
     },
     "output_type": "display_data"
    }
   ],
   "source": [
    "# the higher the pulsetime, the lower the Final current percentage\n",
    "plt.scatter(pulsetime, Final_Current_Percent_predicted)\n",
    "plt.xlabel ('pulsetime')\n",
    "plt.ylabel ('Final current percentage')\n",
    "\n",
    "pulsetime_ = pulsetime.reshape(pulsetime.shape[0], )\n",
    "\n",
    "Final_Current_Percent_predicted_ = Final_Current_Percent_predicted.reshape(\n",
    "                                   Final_Current_Percent_predicted.shape[0], )\n",
    "\n",
    "pearsonr(pulsetime_, Final_Current_Percent_predicted_)"
   ]
  },
  {
   "cell_type": "code",
   "execution_count": 47,
   "metadata": {},
   "outputs": [
    {
     "data": {
      "text/plain": [
       "(-0.20667910946767634, 0.0062145364035489006)"
      ]
     },
     "execution_count": 47,
     "metadata": {},
     "output_type": "execute_result"
    },
    {
     "data": {
      "image/png": "[encoded data removed]",
      "text/plain": [
       "<Figure size 432x288 with 1 Axes>"
      ]
     },
     "metadata": {
      "needs_background": "light"
     },
     "output_type": "display_data"
    }
   ],
   "source": [
    "plt.scatter(pulsetime, Norm_I_Max_predicted)\n",
    "plt.xlabel ('pulsetime')\n",
    "plt.ylabel ('Norm_I_Max_predicted')\n",
    "\n",
    "pulsetime_ = pulsetime.reshape(pulsetime.shape[0], )\n",
    "Norm_I_Max_predicted_ = Norm_I_Max_predicted.reshape(\n",
    "                                   Norm_I_Max_predicted.shape[0], )\n",
    "\n",
    "pearsonr(pulsetime_, Norm_I_Max_predicted_)"
   ]
  },
  {
   "cell_type": "code",
   "execution_count": 48,
   "metadata": {},
   "outputs": [
    {
     "data": {
      "text/plain": [
       "(0.3826150639917454, 1.885391849425535e-07)"
      ]
     },
     "execution_count": 48,
     "metadata": {},
     "output_type": "execute_result"
    },
    {
     "data": {
      "image/png": "[encoded data removed]",
      "text/plain": [
       "<Figure size 432x288 with 1 Axes>"
      ]
     },
     "metadata": {
      "needs_background": "light"
     },
     "output_type": "display_data"
    }
   ],
   "source": [
    "# the higher the pulse time, the higher total charge\n",
    "plt.scatter(pulsetime, Norm_charge_tot_predicted)\n",
    "\n",
    "pulsetime_ = pulsetime.reshape(pulsetime.shape[0], )\n",
    "Norm_charge_tot_predicted_ = Norm_charge_tot_predicted.reshape(\n",
    "                                   Norm_charge_tot_predicted.shape[0], )\n",
    "\n",
    "pearsonr(pulsetime_, Norm_charge_tot_predicted_)"
   ]
  },
  {
   "cell_type": "code",
   "execution_count": 49,
   "metadata": {},
   "outputs": [
    {
     "name": "stdout",
     "output_type": "stream",
     "text": [
      "Variable: charge_denisty Importance: ('charge_denisty', 0.08)\n",
      "Variable: material_CB Importance: ('material_CB', 0.06)\n",
      "Variable: material_MC Importance: ('material_MC', 0.02)\n",
      "Variable: material_PA Importance: ('material_PA', 0.0)\n",
      "Variable: material_TCB Importance: ('material_TCB', 0.0)\n",
      "Variable: PulseTime Importance: ('PulseTime', 0.0)\n",
      "Variable: Pretreat_voltage Importance: ('Pretreat_voltage', 0.0)\n",
      "Variable: Atmosphere_air Importance: ('Atmosphere_air', 0.0)\n",
      "Variable: Atmosphere_arg Importance: ('Atmosphere_arg', 0.0)\n",
      "Variable: Final_Current_Percent Importance: ('Final_Current_Percent', 0.09)\n",
      "Variable: Norm_I_Max Importance: ('Norm_I_Max', 0.02)\n",
      "Variable: Norm_charge_tot Importance: ('Norm_charge_tot', 0.43)\n",
      "[0.08370096, 0.06041283, 0.022798596, 0.0, 0.0, 0.0, 0.0, 0.0, 0.0, 0.08717638, 0.024997132, 0.43014914, 0.0626859, 0.0, 0.04673992, 0.06911751, 0.0726772, 0.039544355]\n"
     ]
    }
   ],
   "source": [
    "# Get numerical feature importances\n",
    "importances = list(xgbr_graphyield.feature_importances_)\n",
    "# List of tuples with variable and importance\n",
    "feature_importances = [(feature, round(importance, 2)) for feature, importance in zip(feature_list, importances)]\n",
    "# Sort the feature importances by most important first\n",
    "#feature_importances = sorted(feature_importances, key = lambda x: x[1], reverse = True)\n",
    "# Print out the feature and importances \n",
    "[print('Variable: {} Importance: {}'.format(feature, importance)) \n",
    " for (feature, importance) in zip(feature_list, feature_importances)];\n",
    "print (importances)"
   ]
  },
  {
   "cell_type": "code",
   "execution_count": 50,
   "metadata": {},
   "outputs": [
    {
     "name": "stdout",
     "output_type": "stream",
     "text": [
      "Mean Absolute Error: 29.5086 units.\n"
     ]
    },
    {
     "data": {
      "text/plain": [
       "[<matplotlib.lines.Line2D at 0x7f3064246460>]"
      ]
     },
     "execution_count": 50,
     "metadata": {},
     "output_type": "execute_result"
    },
    {
     "data": {
      "image/png": "[encoded data removed]",
      "text/plain": [
       "<Figure size 432x288 with 1 Axes>"
      ]
     },
     "metadata": {
      "needs_background": "light"
     },
     "output_type": "display_data"
    }
   ],
   "source": [
    "pred_test = xgbr_graphyield.predict(test_new_features)\n",
    "errors_test= abs(pred_train - train_labels)\n",
    "print('Mean Absolute Error:', round(np.mean(errors_test), 4), 'units.')\n",
    "# Plot predictions vs actual values\n",
    "# Plot style\n",
    "fig, ax = plt.subplots(figsize=(6,4))\n",
    "ax.tick_params(direction='in', length=4, width=1.5, colors='black', grid_alpha=0, labelsize='14')\n",
    "# ax.set_xlim(20,105)\n",
    "# ax.set_ylim(20,105)\n",
    "\n",
    "# Predicted 2D/G\n",
    "plt.plot(pred_test, test_labels, \n",
    "         linestyle = 'none', marker = 'o', color='black', markersize='8')\n",
    "plt.title('Test Data', fontsize='18', fontname='Arial', fontweight='bold')\n",
    "plt.xlabel('Predicted', fontsize='18', fontname='Arial', fontweight='bold')\n",
    "plt.ylabel('Actual', fontsize='18', fontname='Arial', fontweight='bold')\n",
    "ymin, ymax = plt.ylim()\n",
    "plt.xlim(ymin, ymax)\n",
    "plt.ylim(ymin, ymax)\n",
    "# Make a red line to show perfect predictions\n",
    "x2 = np.arange(0, ymax*1.1, .1)\n",
    "y2 = np.arange(0, ymax*1.1, .1)\n",
    "plt.plot(x2,y2, linestyle='--', linewidth = '3', color='red')"
   ]
  },
  {
   "cell_type": "code",
   "execution_count": 51,
   "metadata": {},
   "outputs": [
    {
     "name": "stdout",
     "output_type": "stream",
     "text": [
      "Mean of I Max CB is  199.5962952631579\n",
      "Mean of I Max MC is  546.874309090909\n",
      "Mean of I Max PA is  301.9472116666666\n",
      "Mean of I Max TCB is  217.5159437837838\n"
     ]
    },
    {
     "data": {
      "image/png": "[encoded data removed]",
      "text/plain": [
       "<Figure size 360x288 with 1 Axes>"
      ]
     },
     "metadata": {
      "needs_background": "light"
     },
     "output_type": "display_data"
    }
   ],
   "source": [
    "def category_normalization_theonesyoualwaysuse(df):\n",
    "    groups = df.groupby(['Material'])\n",
    "    norm_I_Max = []\n",
    "    norm_charge_tot=[]\n",
    "    for name, group in groups:\n",
    "        I_Max_array = np.asfarray(group.I_Max)\n",
    "        charge_tot_array = np.asfarray(group.Charge_Tot)\n",
    "        mean_I_Max = np.mean(I_Max_array)\n",
    "        mean_charge_tot = np.mean(charge_tot_array)\n",
    "        std_I_Max = np.std(I_Max_array)\n",
    "        std_charge_tot = np.std(charge_tot_array)\n",
    "        print(\"Mean of I Max\", name, \"is \", mean_I_Max)\n",
    "        norm_I_Max_cat = np.divide(np.subtract(I_Max_array, mean_I_Max), std_I_Max)\n",
    "        norm_charge_tot_cat = np.divide(np.subtract(charge_tot_array, mean_charge_tot), std_charge_tot)\n",
    "        norm_I_Max = np.append(norm_I_Max, norm_I_Max_cat)\n",
    "        norm_charge_tot = np.append(norm_charge_tot, norm_charge_tot_cat)\n",
    "    return norm_I_Max, norm_charge_tot\n",
    "\n",
    "\n",
    "# Plot style\n",
    "fig, ax = plt.subplots(figsize=(5,4))\n",
    "# ax.set_yticks(np.arange(.2, 2.2, .2))\n",
    "# ax.set_xticks(np.arange(0, 1200, 100))\n",
    "# ax.set_xlim(.7,3.3)\n",
    "\n",
    "# Import file\n",
    "df_test = pd.read_csv('FJH_ML_Final.csv', header=1)\n",
    "# Create normalized I by category\n",
    "norm1, norm2 = category_normalization_theonesyoualwaysuse(df_test)\n",
    "df_test['Norm_I_Max'] = norm1\n",
    "df_test['Norm_charge_tot'] = norm2\n",
    "df_test['charge_density'] = df_test['Voltage']*df_test['Cap']/df_test['Mass']\n",
    "# df_test['test_feature'] = (df_test['Voltage']/df_test['Mass'])#*df_test['PulseTime']\n",
    "# df_test = df_test[df_test['TwoDtoG']<1.5]\n",
    "# df_test = df_test[df_test['Graphene_Yield']>20]\n",
    "\n",
    "# Cut dataframe to only the test set\n",
    "df_test = df_test.iloc[idx_test]\n",
    "df_test['y_pred'] = pred_test\n",
    "df_test['y_true'] = test_labels\n",
    "\n",
    "groups = df_test.groupby(['Material'])\n",
    "\n",
    "# Plot\n",
    "ax.tick_params(direction='in', length=4, width=1.5, colors='black', grid_alpha=0, labelsize='14')\n",
    "counter=0\n",
    "markers = ['o', 's', '^', 'v']\n",
    "colors=['blue', 'red', 'green', 'orange']\n",
    "colors2 = ['maroon', 'darkorange', 'goldenrod', 'dodgerblue']\n",
    "for name, group in groups:\n",
    "    ax.plot(group.y_pred, group.y_true, marker=markers[counter], alpha=0.9, linestyle='', ms=8, label=name)\n",
    "    counter+=1\n",
    "    # Predicted 2D/G\n",
    "# plt.title('Test Data', fontsize='18', fontname='Arial', fontweight='bold')\n",
    "ax.set_xlabel('Predicted Yield (%)', fontsize='18', fontname='Arial', fontweight='bold')\n",
    "ax.set_ylabel('Actual Yield (%)', fontsize='18', fontname='Arial', fontweight='bold')\n",
    "ymin, ymax = plt.ylim()\n",
    "ax.set_xlim(ymin, ymax)\n",
    "ax.set_ylim(ymin, ymax)\n",
    "# Make a red line to show perfect predictions\n",
    "x2 = np.arange(ymin, ymax*1.1, .01)\n",
    "y2 = np.arange(ymin, ymax*1.1, .01)\n",
    "ax.plot(x2,y2, linestyle='--', linewidth = '3', color='red')\n",
    "leg = plt.legend(frameon=\"True\", prop={'family': 'Arial'})\n",
    "ax.legend(frameon=False, ncol=2, fontsize=12, loc='upper left')\n",
    "\n",
    "# Plot\n",
    "# plt.plot(df_test['I_Max'],df_test['Graphene_Yield'], linestyle = 'none', marker = 'o', color='black', markersize='8')\n",
    "# plt.xlabel('Flash Voltage (V)', fontsize='18', fontname='Arial', fontweight='bold')\n",
    "# plt.ylabel('D/G Ratio', fontsize='18', fontname='Arial', fontweight='bold')\n",
    "\n",
    "# Save\n",
    "plt.tight_layout()\n",
    "plt.savefig('XGBPerformance_materialgroup.png', dpi=300)\n",
    "plt.show()"
   ]
  },
  {
   "cell_type": "code",
   "execution_count": 52,
   "metadata": {},
   "outputs": [
    {
     "data": {
      "image/png": "[encoded data removed]",
      "text/plain": [
       "<Figure size 360x288 with 1 Axes>"
      ]
     },
     "metadata": {
      "needs_background": "light"
     },
     "output_type": "display_data"
    }
   ],
   "source": [
    "# Distribution of Graphene_yield with  CD density groups\n",
    "cv = np.array (df_test['charge_density'])\n",
    "Qs = np.quantile (cv, [0.25, 0.5, 0.75])\n",
    "\n",
    "cv_class = cv\n",
    "cv_class = np.where(cv <= Qs[0], 0, cv_class)\n",
    "cv_class = np.where((cv > Qs[0]) & (cv <= Qs[1]), 1, cv_class)\n",
    "cv_class = np.where((cv > Qs[1]) & (cv <= Qs[2]), 2, cv_class)\n",
    "cv_class = np.where(cv > Qs[2], 3, cv_class)\n",
    "\n",
    "# Plot style\n",
    "fig, ax = plt.subplots(figsize=(5,4))\n",
    "# ax.set_yticks(np.arange(.2, 2.2, .2))\n",
    "# ax.set_xticks(np.arange(0, 1200, 100))\n",
    "# ax.set_xlim(.7,3.3)\n",
    "df_test['cv_class'] = cv_class\n",
    "groups = df_test.groupby(['cv_class'])\n",
    "\n",
    "# Plot\n",
    "ax.tick_params(direction='in', length=4, width=1.5, colors='black', grid_alpha=0, labelsize='14')\n",
    "counter=0\n",
    "markers = ['o', 's', '^', 'v']\n",
    "colors=['blue', 'red', 'green', 'orange']\n",
    "colors2 = ['maroon', 'darkorange', 'goldenrod', 'dodgerblue']\n",
    "for name, group in groups:\n",
    "    ax.plot(group.y_pred, group.y_true, marker=markers[counter], alpha=0.9, linestyle='', ms=8, label=name)\n",
    "    counter+=1\n",
    "    # Predicted 2D/G\n",
    "# plt.title('Test Data', fontsize='18', fontname='Arial', fontweight='bold')\n",
    "ax.set_xlabel('Predicted Yield (%)', fontsize='18', fontname='Arial', fontweight='bold')\n",
    "ax.set_ylabel('Actual Yield (%)', fontsize='18', fontname='Arial', fontweight='bold')\n",
    "ymin, ymax = plt.ylim()\n",
    "ax.set_xlim(ymin, ymax)\n",
    "ax.set_ylim(ymin, ymax)\n",
    "# Make a red line to show perfect predictions\n",
    "x2 = np.arange(ymin, ymax*1.1, .01)\n",
    "y2 = np.arange(ymin, ymax*1.1, .01)\n",
    "ax.plot(x2,y2, linestyle='--', linewidth = '3', color='red')\n",
    "leg = plt.legend(frameon=\"True\", prop={'family': 'Arial'})\n",
    "ax.legend(frameon=False, ncol=2, fontsize=12, loc='upper left')\n",
    "\n",
    "# Plot\n",
    "# plt.plot(df_test['I_Max'],df_test['Graphene_Yield'], linestyle = 'none', marker = 'o', color='black', markersize='8')\n",
    "# plt.xlabel('Flash Voltage (V)', fontsize='18', fontname='Arial', fontweight='bold')\n",
    "# plt.ylabel('D/G Ratio', fontsize='18', fontname='Arial', fontweight='bold')\n",
    "\n",
    "# Save\n",
    "plt.tight_layout()\n",
    "plt.savefig('XGBPerformance_cvgroup.png', dpi=300)\n",
    "plt.show()"
   ]
  },
  {
   "cell_type": "code",
   "execution_count": 53,
   "metadata": {},
   "outputs": [
    {
     "data": {
      "image/png": "[encoded data removed]",
      "text/plain": [
       "<Figure size 432x288 with 2 Axes>"
      ]
     },
     "metadata": {
      "needs_background": "light"
     },
     "output_type": "display_data"
    }
   ],
   "source": [
    "# Plot pred vs. true values for test set, coloring the charge density\n",
    "groups = df_test.groupby(['Material'])\n",
    "fig, ax = plt.subplots(figsize=(6,4))\n",
    "ax.tick_params(direction='in', length=4, width=1.5, colors='black', grid_alpha=0, labelsize='14')\n",
    "\n",
    "\n",
    "for name, group in groups:\n",
    "    p = ax.scatter(group.y_pred, group.y_true, c=group.charge_density, marker='o', s=100, cmap='Blues')\n",
    "    \n",
    "cb = fig.colorbar(p, ax=ax)\n",
    "cb.set_label('Charge Density (C/g)', fontsize='18', fontname='Arial', fontweight='bold')\n",
    "cb.ax.tick_params(labelsize=14)\n",
    "\n",
    "# plt.title('Test Data', fontsize='18', fontname='Arial', fontweight='bold')\n",
    "ax.set_xlabel('Predicted Yield', fontsize='18', fontname='Arial', fontweight='bold')\n",
    "ax.set_ylabel('Actual Yield', fontsize='18', fontname='Arial', fontweight='bold')\n",
    "ymin, ymax = plt.ylim()\n",
    "ax.set_xlim(ymin, ymax)\n",
    "ax.set_ylim(ymin, ymax)\n",
    "# Make a red line to show perfect predictions\n",
    "x2 = np.arange(ymin, ymax*1.1, .01)\n",
    "y2 = np.arange(ymin, ymax*1.1, .01)\n",
    "ax.plot(x2,y2, linestyle='--', linewidth = '3', color='red')\n",
    "# ax.legend(fontsize=12)\n",
    "\n",
    "# Plot\n",
    "# plt.plot(df['I_Max'],df['Graphene_Yield'], linestyle = 'none', marker = 'o', color='black', markersize='8')\n",
    "# plt.xlabel('Flash Voltage (V)', fontsize='18', fontname='Arial', fontweight='bold')\n",
    "# plt.ylabel('D/G Ratio', fontsize='18', fontname='Arial', fontweight='bold')\n",
    "\n",
    "# Save\n",
    "plt.tight_layout()\n",
    "# plt.savefig('XGB_Regression_Performance_colorChargeDensity.png', dpi=300)\n",
    "plt.show()"
   ]
  },
  {
   "cell_type": "code",
   "execution_count": 54,
   "metadata": {},
   "outputs": [],
   "source": [
    "# outside test (Need to ask Jacob the details, material, atmosphere)\n",
    "filename = 'FJH_ML_MBO_Yield4_modified.csv'\n",
    "df_testBO0 = pd.read_csv(filename, sep=\",\", encoding='ISO-8859-1', header=1)\n",
    "df_testBO = df_testBO0\n",
    "\n",
    "# Only works for test that are TCB material !!!!!!\n",
    "Material_CB_testBO = np.array (df_testBO['Material']).reshape(-1, 1)\n",
    "Material_CB_testBO [:] = 0\n",
    "Material_MC_testBO = np.zeros_like (Material_CB_testBO)\n",
    "Material_PA_testBO = np.zeros_like (Material_CB_testBO)\n",
    "Material_TCB_testBO = np.zeros_like (Material_CB_testBO)\n",
    "Material_TCB_testBO [:] = 1\n",
    "material_type_testBO = np.concatenate ((Material_CB_testBO, \n",
    "                                        Material_MC_testBO, \n",
    "                                        Material_PA_testBO,\n",
    "                                        Material_TCB_testBO), axis=1)\n",
    "# multiply constants to the matrix for the materials\n",
    "# the constant calculated from [Init_R, Res_Drop, Volt_Drop] --> current quantities\n",
    "material_type_GY_coef_testBO = material_type_testBO * CB_MC_PA_TCB_coef_average\n",
    "\n",
    "# assumed the experiments were done under vaccum\n",
    "Atmosphere_air_testBO = np.array (df_testBO['Atmosphere']).reshape(-1, 1)\n",
    "Atmosphere_air_testBO [:] = 0\n",
    "Atmosphere_arg_testBO = np.zeros_like (Atmosphere_air_testBO)\n",
    "atmosphere_type_testBO = np.concatenate ((Atmosphere_air_testBO, \n",
    "                                          Atmosphere_arg_testBO ), axis=1)\n",
    "\n",
    "# base 60mF as base and the number in excel file of 18mF\n",
    "df_testBO['Cap'] = 60 + df_testBO['Cap']*18\n",
    "charge_density_testBO = np.array (df_testBO['Voltage']*df_testBO['Cap']/\n",
    "                                  df_testBO['Mass']).reshape(-1, 1)\n",
    "pulsetime_testBO = np.array (df_testBO['PulseTime']).reshape(-1, 1)\n",
    "Pretreat_voltage_testBO = np.array (df_testBO['Pretreat_voltage']).reshape(-1, 1)\n",
    "voltage_testBO = np.array (df_testBO['Voltage']).reshape(-1, 1)\n",
    "mass_testBO = np.array (df_testBO['Mass']).reshape(-1, 1)\n",
    "Graphene_Yield_testBO = np.array (df_testBO['Graphene_Yield']).reshape(-1, 1)"
   ]
  },
  {
   "cell_type": "code",
   "execution_count": 55,
   "metadata": {},
   "outputs": [],
   "source": [
    "# got it from model based prediction of I_Max\n",
    "material_type_I_Finalperc_coef_testBO = material_type_testBO*CB_MC_PA_coef_Final_Current_Percent\n",
    "material_type_Norm_I_Max_coef_testBO = material_type_testBO*CB_MC_PA_coef_Norm_I_Max\n",
    "material_type_Norm_charge_Tot_coef_testBO = material_type_testBO*CB_MC_PA_coef_Norm_charge_tot\n",
    "\n",
    "# the features should follow the same order as fitting the model\n",
    "# 1) Final_I prediction\n",
    "features_testBO = np.concatenate ((charge_density_testBO,\n",
    "                                   pulsetime_testBO,\n",
    "                                   material_type_I_Finalperc_coef_testBO,\n",
    "                                   atmosphere_type_testBO,\n",
    "                                   Pretreat_voltage_testBO), axis=1)\n",
    "Final_Current_Percent_predicted_testBO = xgbr_final_I_percent.predict(features_testBO)\n",
    "\n",
    "# 2) norm_I_Max prediction\n",
    "features_testBO = np.concatenate ((charge_density_testBO,\n",
    "                                   pulsetime_testBO,\n",
    "                                   material_type_Norm_I_Max_coef_testBO,\n",
    "                                   atmosphere_type_testBO,\n",
    "                                   Pretreat_voltage_testBO), axis=1)\n",
    "Norm_I_Max_predicted_testBO = xgbr_norm_I_max.predict(features_testBO)\n",
    "\n",
    "# 3) norm_Charge_total\n",
    "features_testBO = np.concatenate ((charge_density_testBO,\n",
    "                                   pulsetime_testBO,\n",
    "                                   material_type_Norm_charge_Tot_coef_testBO,\n",
    "                                   atmosphere_type_testBO,\n",
    "                                   Pretreat_voltage_testBO), axis=1)\n",
    "Norm_charge_tot_testBO = xgbr_norm_charge_total.predict(features_testBO)"
   ]
  },
  {
   "cell_type": "code",
   "execution_count": null,
   "metadata": {},
   "outputs": [],
   "source": []
  },
  {
   "cell_type": "code",
   "execution_count": 56,
   "metadata": {},
   "outputs": [
    {
     "data": {
      "text/plain": [
       "0.6158360629257873"
      ]
     },
     "execution_count": 56,
     "metadata": {},
     "output_type": "execute_result"
    }
   ],
   "source": [
    "# physics model prediction: fixed model (trained coefficients) predicting GY\n",
    "X_CB_MC_PA_TCB_ps_res_sa_sp2_BO = np.matmul(material_type_testBO, \n",
    "                                            CB_MC_PA_TCB_ps_res_sa_sp2)\n",
    "phys_mdl_input = np.concatenate((np.array(((df_testBO['Voltage']**1)*\n",
    "                                  ((df_testBO['Mass']/100)**-1)*\n",
    "                                  (df_testBO['Cap']**1))**2*1e-9).reshape(-1, 1),\n",
    "                                  ((np.array(df_testBO['Pretreat_voltage'])**0.5)*1e-2).reshape(-1, 1),\n",
    "                                  ((Norm_I_Max_predicted_testBO.reshape(-1, 1))**1)*1e-2,\n",
    "                                  (np.array(df_testBO['PulseTime']).reshape(-1, 1))**0.5,\n",
    "                                  ((np.array(Norm_charge_tot_testBO.reshape(-1, 1)))**1)*1e-2,\n",
    "                                  (np.array (df_testBO['Mass']).reshape (-1, 1))*1e-2 ,\n",
    "                                  (np.array (df_testBO['Cap']).reshape (-1, 1))*1e-1,\n",
    "                                  X_CB_MC_PA_TCB_ps_res_sa_sp2_BO,\n",
    "                                  ), axis=1)\n",
    "phys_pred_BO = phys_reg_mdl.predict (phys_mdl_input)\n",
    "r2_score (Graphene_Yield_testBO, phys_pred_BO)"
   ]
  },
  {
   "cell_type": "code",
   "execution_count": 57,
   "metadata": {},
   "outputs": [],
   "source": [
    "CB_MC_PA_TCB_res = CB_MC_PA_TCB_ps_res_sa_sp2 [:, 1]\n",
    "resistance_matrix_BO = np.matmul(material_type_testBO, CB_MC_PA_TCB_res)\n",
    "heat_power_BO = np.array (df_testBO['Voltage']*df_testBO['Voltage']/\n",
    "                          resistance_matrix_BO*df_testBO['PulseTime']*(1e-6)).reshape(-1, 1)\n",
    "\n",
    "features_testBO = np.concatenate ((charge_density_testBO,\n",
    "                                   X_CB_MC_PA_TCB_ps_res_sa_sp2_BO,\n",
    "                                   material_type_GY_coef_testBO,\n",
    "                                   pulsetime_testBO,\n",
    "                                   Pretreat_voltage_testBO,\n",
    "                                   phys_pred_BO.reshape(-1, 1),\n",
    "                                   atmosphere_type_testBO,\n",
    "                                   Final_Current_Percent_predicted_testBO.reshape(-1, 1),\n",
    "                                   Norm_I_Max_predicted_testBO.reshape(-1, 1),\n",
    "                                   Norm_charge_tot_testBO.reshape(-1, 1),\n",
    "                                   heat_power_BO\n",
    "                                  ), axis=1)"
   ]
  },
  {
   "cell_type": "code",
   "execution_count": 58,
   "metadata": {},
   "outputs": [
    {
     "name": "stdout",
     "output_type": "stream",
     "text": [
      "R-squared:  0.7921408648988804\n",
      "RMSE:  12.003900559748754\n"
     ]
    }
   ],
   "source": [
    "graphene_yield_testBO = np.array (df_testBO['Graphene_Yield']).reshape(-1, 1)\n",
    "graphene_yield_testBO = 100*graphene_yield_testBO\n",
    "graphene_yield_testBO_predicted = xgbr_graphyield.predict (features_testBO)\n",
    "\n",
    "print ('R-squared: ', r2_score(graphene_yield_testBO, graphene_yield_testBO_predicted))\n",
    "print ('RMSE: ', np.sqrt(mean_squared_error(graphene_yield_testBO, graphene_yield_testBO_predicted)))"
   ]
  },
  {
   "cell_type": "code",
   "execution_count": 59,
   "metadata": {},
   "outputs": [
    {
     "name": "stderr",
     "output_type": "stream",
     "text": [
      "findfont: Font family ['Arial'] not found. Falling back to DejaVu Sans.\n"
     ]
    },
    {
     "data": {
      "image/png": "[encoded data removed]",
      "text/plain": [
       "<Figure size 360x288 with 1 Axes>"
      ]
     },
     "metadata": {
      "needs_background": "light"
     },
     "output_type": "display_data"
    }
   ],
   "source": [
    "# Plot style\n",
    "fig, ax = plt.subplots(figsize=(5, 4))\n",
    "# ax.set_yticks(np.arange(.2, 2.2, .2))\n",
    "# ax.set_xticks(np.arange(0, 1200, 100))\n",
    "# ax.set_xlim(.7,3.3)\n",
    "\n",
    "# Plot\n",
    "ax.tick_params(direction='in', length=4, width=1.5, colors='black', grid_alpha=0, labelsize='14')\n",
    "ax.set_xlabel('Predicted Yield (%)', fontsize='18', fontname='Arial', fontweight='bold')\n",
    "ax.set_ylabel('Actual Yield (%)', fontsize='18', fontname='Arial', fontweight='bold')\n",
    "plt.scatter (graphene_yield_testBO_predicted, graphene_yield_testBO, marker='v', \n",
    "             color='red', label='TCB')\n",
    "\n",
    "\n",
    "ax.legend('TCB', fontsize=12, loc='upper left')\n",
    "ymin, ymax = plt.ylim()\n",
    "xmin, xmax = plt.xlim()\n",
    "\n",
    "ax.set_xlim(min(xmin, ymin), max(ymax, xmax))\n",
    "ax.set_ylim(min(xmin, ymin), max(ymax, xmax))\n",
    "# Make a red line to show perfect predictions\n",
    "x2 = np.arange(0, 100)\n",
    "y2 = np.arange(0, 100)\n",
    "#y2 = np.arange(0.1*ymin, ymax*1.1, .01)\n",
    "ax.plot(x2,y2, linestyle='--', linewidth = '2', color='black', alpha=0.7)\n",
    "leg = plt.legend(frameon=\"True\", prop={'family': 'Arial'})\n",
    "\n",
    "# Plot\n",
    "# plt.plot(df_test['I_Max'],df_test['Graphene_Yield'], linestyle = 'none', marker = 'o', color='black', markersize='8')\n",
    "# plt.xlabel('Flash Voltage (V)', fontsize='18', fontname='Arial', fontweight='bold')\n",
    "# plt.ylabel('D/G Ratio', fontsize='18', fontname='Arial', fontweight='bold')\n",
    "# Save\n",
    "plt.tight_layout()\n",
    "plt.savefig('XGBoost_testBOsamples.png', dpi=300)\n",
    "plt.show()"
   ]
  },
  {
   "cell_type": "code",
   "execution_count": 60,
   "metadata": {},
   "outputs": [
    {
     "name": "stdout",
     "output_type": "stream",
     "text": [
      "End!!!\n"
     ]
    }
   ],
   "source": [
    "print ('End!!!')"
   ]
  }
 ],
 "metadata": {
  "kernelspec": {
   "display_name": "Python 3 (ipykernel)",
   "language": "python",
   "name": "python3"
  },
  "language_info": {
   "codemirror_mode": {
    "name": "ipython",
    "version": 3
   },
   "file_extension": ".py",
   "mimetype": "text/x-python",
   "name": "python",
   "nbconvert_exporter": "python",
   "pygments_lexer": "ipython3",
   "version": "3.9.10"
  }
 },
 "nbformat": 4,
 "nbformat_minor": 4
}
