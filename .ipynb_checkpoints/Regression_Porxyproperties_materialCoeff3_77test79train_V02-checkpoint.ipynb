{
 "cells": [
  {
   "cell_type": "markdown",
   "metadata": {},
   "source": [
    "### 173 samples, Final_R is missing for the following sample\n",
    "137)\tMC\tair\t204\t8\t180\t60\t180\t500\t30\t114\t0.3\tNA\t150\t0.3\t100\t0.490196078\t486.395\t57.78712883\t26.00664167\t0.467\t9.68631173\t3\t0.422680412\t0.541775715\t0.521526486\t44.36424367"
   ]
  },
  {
   "cell_type": "code",
   "execution_count": 1,
   "metadata": {},
   "outputs": [
    {
     "name": "stderr",
     "output_type": "stream",
     "text": [
      "/home/kianoosh/anaconda3/envs/my-rdkit-env/lib/python3.9/site-packages/xgboost/compat.py:36: FutureWarning: pandas.Int64Index is deprecated and will be removed from pandas in a future version. Use pandas.Index with the appropriate dtype instead.\n",
      "  from pandas import MultiIndex, Int64Index\n",
      "2022-10-12 09:19:08.190359: W tensorflow/stream_executor/platform/default/dso_loader.cc:64] Could not load dynamic library 'libcudart.so.11.0'; dlerror: libcudart.so.11.0: cannot open shared object file: No such file or directory\n",
      "2022-10-12 09:19:08.190394: I tensorflow/stream_executor/cuda/cudart_stub.cc:29] Ignore above cudart dlerror if you do not have a GPU set up on your machine.\n"
     ]
    }
   ],
   "source": [
    "# Import Python libaries\n",
    "%matplotlib inline\n",
    "from scipy.optimize import curve_fit\n",
    "import time as time\n",
    "# General data management\n",
    "import numpy as np\n",
    "import pandas as pd\n",
    "import random\n",
    "import matplotlib.pyplot as plt\n",
    "import seaborn as sns\n",
    "import xgboost as xgb\n",
    "from xgboost import XGBRegressor\n",
    "from sklearn import linear_model\n",
    "from sklearn import ensemble\n",
    "from xgboost import plot_tree\n",
    "from sklearn.tree import DecisionTreeRegressor\n",
    "from sklearn.model_selection import GridSearchCV\n",
    "# import pydo\n",
    "# generate random integer values\n",
    "from random import seed\n",
    "from random import randint\n",
    "# seed random number generator\n",
    "seed(1)\n",
    "# Machine learning & model visualization tools\n",
    "from sklearn.model_selection import train_test_split\n",
    "from sklearn import preprocessing\n",
    "from sklearn.ensemble import RandomForestRegressor\n",
    "from sklearn.pipeline import make_pipeline\n",
    "from sklearn.model_selection import GridSearchCV\n",
    "from sklearn.metrics import r2_score, mean_squared_error, mean_gamma_deviance\n",
    "from sklearn.tree import export_graphviz\n",
    "from sklearn import svm\n",
    "from sklearn.neural_network import MLPRegressor\n",
    "from sklearn.neighbors import KNeighborsRegressor\n",
    "from numpy import cov\n",
    "from scipy.stats import pearsonr\n",
    "from scipy import ndimage, misc\n",
    "import pydot\n",
    "import math\n",
    "from sklearn.model_selection import LeaveOneOut\n",
    "from sklearn.metrics import mean_absolute_error\n",
    "# from sklearn.externals import joblib\n",
    "# Miscellaneous\n",
    "import os\n",
    "import io\n",
    "from tensorflow.keras.models import Sequential\n",
    "from tensorflow.keras.layers import Dense\n",
    "from tensorflow.keras.wrappers.scikit_learn import KerasRegressor\n",
    "from sklearn.inspection import partial_dependence, plot_partial_dependence"
   ]
  },
  {
   "cell_type": "code",
   "execution_count": 2,
   "metadata": {},
   "outputs": [],
   "source": [
    "# proxy properties\n",
    "# read the input data\n",
    "df = pd.read_csv('FJH_ML_Final.csv', header=1)\n",
    "df_dummy = pd.get_dummies(df)\n",
    "\n",
    "df['Norm_charge_tot'] = df['Charge_Tot']/(df['Mass'])*1000\n",
    "df['Norm_I_Max'] = df['I_Max']/df['Mass']*1000\n",
    "df['charge_density'] = df['Voltage']*df['Cap']/df['Mass']\n",
    "df['Final_Current_Percent'] = df['I_Final']/df['I_Max']\n",
    "\n",
    "Norm_I_Max = np.array (df['Norm_I_Max']).reshape(-1, 1)\n",
    "Final_Current_Percent  = np.array (df['Final_Current_Percent']).reshape(-1, 1)\n",
    "Norm_charge_tot  = np.array (df['Norm_charge_tot']).reshape(-1, 1)\n",
    "# final prediction, yield of Graphene\n",
    "Graphene_Yield = np.array (df['Graphene_Yield']).reshape(-1, 1)\n",
    "\n",
    "# only process parameters that are in BO prediction\n",
    "Pretreat_voltage = np.array (df['Pretreat_voltage']).reshape(-1, 1)\n",
    "pulsetime = np.array (df['PulseTime']).reshape(-1, 1)\n",
    "charge_denisty = np.array (df['charge_density']).reshape(-1, 1)"
   ]
  },
  {
   "cell_type": "code",
   "execution_count": 3,
   "metadata": {},
   "outputs": [],
   "source": [
    "# type of material\n",
    "Material_CB = np.array (df_dummy['Material_CB']).reshape(-1, 1)\n",
    "Material_MC = np.array (df_dummy['Material_MC']).reshape(-1, 1) \n",
    "Material_PA = np.array (df_dummy['Material_PA']).reshape(-1, 1)\n",
    "#Material_TCB = np.array (df_dummy['Material_TCB']).reshape(-1, 1)\n",
    "material_type = np.concatenate ((Material_CB, Material_MC, Material_PA), axis=1)\n",
    "\n",
    "material_matrix = np.concatenate((np.array (df_dummy['Material_CB']).reshape([-1, 1]), \n",
    "                                  np.array (df_dummy['Material_MC']).reshape([-1, 1]),\n",
    "                                  np.array (df_dummy['Material_PA']).reshape([-1, 1])), axis=1)\n",
    "material_matrix = np.array (material_matrix)\n",
    "# extra material descriptors\n",
    "# Cabot BP2000: Tensile Strength=17 MPa, particle size=15nm, specific surface area=1500(m2/g)\n",
    "# metallurgical coke: grain size=150-210 (um)\n",
    "# pyrolysis ash: \n",
    "# pyrolyzed rubber tire-derived carbon black: "
   ]
  },
  {
   "cell_type": "code",
   "execution_count": 4,
   "metadata": {},
   "outputs": [],
   "source": [
    "# type of Atmosphere\n",
    "Atmosphere_air = np.array (df_dummy['Atmosphere_air']).reshape(-1, 1)\n",
    "Atmosphere_arg = np.array (df_dummy['Atmosphere_arg']).reshape(-1, 1)\n",
    "#Atmosphere_vac = np.array (df_dummy['Atmosphere_vac']).reshape(-1, 1)\n",
    "atmosphere_type = np.concatenate ((Atmosphere_air, Atmosphere_arg), axis=1)"
   ]
  },
  {
   "cell_type": "code",
   "execution_count": 5,
   "metadata": {},
   "outputs": [
    {
     "name": "stderr",
     "output_type": "stream",
     "text": [
      "/home/kianoosh/anaconda3/envs/my-rdkit-env/lib/python3.9/site-packages/sklearn/_loss/glm_distribution.py:132: RuntimeWarning: divide by zero encountered in true_divide\n",
      "  return -2 * (y - y_pred) / self.unit_variance(y_pred)\n"
     ]
    },
    {
     "name": "stdout",
     "output_type": "stream",
     "text": [
      "coef_:  [ 1.70925342  2.11584496  0.28589572  0.12696908  0.00456651 -0.01456457]\n",
      "Gamma score: 0.635540202244738\n",
      "r-squared 0.41342339464316036\n",
      "mse:  0.0471949449850662\n"
     ]
    },
    {
     "data": {
      "text/plain": [
       "[<matplotlib.lines.Line2D at 0x7f4f1b7b4700>]"
      ]
     },
     "execution_count": 5,
     "metadata": {},
     "output_type": "execute_result"
    },
    {
     "data": {
      "image/png": "[encoded data removed]",
      "text/plain": [
       "<Figure size 432x288 with 1 Axes>"
      ]
     },
     "metadata": {
      "needs_background": "light"
     },
     "output_type": "display_data"
    }
   ],
   "source": [
    "# Final_Current_Percent as output of linear model with inputs Precursor related\n",
    "# Init_R, Res_Drop, Volt_Drop --> Final_Current_Percent\n",
    "material_matrix_cosh = np.cosh (material_matrix)\n",
    "Init_R = np.array (df['Init_R']).reshape (-1, 1)\n",
    "Res_Drop = np.array (df['Res_Drop']).reshape (-1, 1)\n",
    "Volt_Drop = np.array (df['Volt_Drop']).reshape (-1, 1)\n",
    "Mass = np.array (df['Mass']).reshape(-1, 1)\n",
    "\n",
    "input_features = np.concatenate((material_matrix_cosh, Init_R, Res_Drop, Volt_Drop), axis=1)\n",
    "max_gamma_score = 0\n",
    "for rand in range(0, 100):\n",
    "    X_train, X_test, y_train, y_test = train_test_split(\n",
    "        input_features, Final_Current_Percent, test_size=0.2, random_state=rand)\n",
    "    clf = linear_model.GammaRegressor(alpha=0., max_iter=10000)\n",
    "    clf = clf.fit(X_train, y_train.ravel())\n",
    "    if clf.score(X_test, y_test.ravel()) > max_gamma_score:\n",
    "        max_gamma_score = clf.score(X_test, y_test.ravel())\n",
    "        best_random_state = rand\n",
    "\n",
    "X_train, X_test, y_train, y_test = train_test_split(\n",
    "        input_features, Final_Current_Percent, test_size=0.2, random_state=best_random_state)\n",
    "clf = linear_model.GammaRegressor(alpha=0., max_iter=10000)\n",
    "clf = clf.fit(X_train, y_train.ravel())\n",
    "print ('coef_: ', clf.coef_)\n",
    "CB_MC_PA_coef_Final_Current_Percent = clf.coef_[0:3]\n",
    "y_pred = clf.predict (X_test)\n",
    "print ('Gamma score:', clf.score(X_test, y_test.ravel()))\n",
    "r2 = r2_score(y_test.ravel(), y_pred.ravel())\n",
    "print ('r-squared', r2)\n",
    "print ('mse: ', mean_squared_error(y_test, y_pred))\n",
    "\n",
    "\n",
    "plt.scatter(y_test, y_pred)\n",
    "mid_line = list(np.linspace(np.min(Final_Current_Percent), np.max(Final_Current_Percent), 8))\n",
    "plt.plot(mid_line, mid_line, '--', color='red')"
   ]
  },
  {
   "cell_type": "code",
   "execution_count": 6,
   "metadata": {},
   "outputs": [
    {
     "name": "stdout",
     "output_type": "stream",
     "text": [
      "coef_:  [-0.13649316  0.47604644  0.46347362 -0.05904692 -0.02290594  0.00354559]\n",
      "Gamma score for test data: 0.7109015771721252\n",
      "r-squared for test data 0.7622306965795288\n",
      "mse:  126322.960233876\n"
     ]
    },
    {
     "name": "stderr",
     "output_type": "stream",
     "text": [
      "/home/kianoosh/anaconda3/envs/my-rdkit-env/lib/python3.9/site-packages/sklearn/_loss/glm_distribution.py:132: RuntimeWarning: divide by zero encountered in true_divide\n",
      "  return -2 * (y - y_pred) / self.unit_variance(y_pred)\n"
     ]
    },
    {
     "data": {
      "text/plain": [
       "[<matplotlib.lines.Line2D at 0x7f4f136bd2e0>]"
      ]
     },
     "execution_count": 6,
     "metadata": {},
     "output_type": "execute_result"
    },
    {
     "data": {
      "image/png": "[encoded data removed]",
      "text/plain": [
       "<Figure size 432x288 with 1 Axes>"
      ]
     },
     "metadata": {
      "needs_background": "light"
     },
     "output_type": "display_data"
    }
   ],
   "source": [
    "# Norm_I_Max as output of linear model with inputs Precursor related:\n",
    "# Init_R, Res_Drop, Volt_Drop --> Norm_I_Max\n",
    "\n",
    "\n",
    "input_features = np.concatenate((material_matrix_cosh, Init_R, Res_Drop, Volt_Drop), axis=1)\n",
    "max_gamma_score = 0\n",
    "for rand in range(0, 100):\n",
    "    X_train, X_test, y_train, y_test = train_test_split(\n",
    "        input_features, Norm_I_Max, test_size=0.2, random_state=rand)\n",
    "    clf = linear_model.GammaRegressor(alpha=0., max_iter=10000)\n",
    "    clf = clf.fit(X_train, y_train.ravel())\n",
    "    if clf.score(X_test, y_test.ravel()) > max_gamma_score:\n",
    "        max_gamma_score = clf.score(X_test, y_test.ravel())\n",
    "        best_random_state = rand\n",
    "\n",
    "X_train, X_test, y_train, y_test = train_test_split(\n",
    "        input_features, Norm_I_Max, test_size=0.2, random_state=best_random_state)\n",
    "clf = linear_model.GammaRegressor(alpha=0., max_iter=10000)\n",
    "clf = clf.fit(X_train, y_train.ravel())\n",
    "\n",
    "print ('coef_: ', clf.coef_)\n",
    "CB_MC_PA_coef_Norm_I_Max = clf.coef_[0:3]\n",
    "y_pred = clf.predict (X_test)\n",
    "print ('Gamma score for test data:', clf.score(X_test, y_test.ravel()))\n",
    "r2 = r2_score(y_test.ravel(), y_pred.ravel())\n",
    "print ('r-squared for test data', r2)\n",
    "print ('mse: ', mean_squared_error(y_test, y_pred))\n",
    "\n",
    "plt.scatter(y_test, y_pred)\n",
    "mid_line = list(np.linspace(np.min(Norm_I_Max), np.max(Norm_I_Max), 8))\n",
    "plt.plot(mid_line, mid_line, '--', color='red')"
   ]
  },
  {
   "cell_type": "code",
   "execution_count": 7,
   "metadata": {},
   "outputs": [
    {
     "name": "stdout",
     "output_type": "stream",
     "text": [
      "coef_:  [ 0.12761155 -0.12322933 -0.11874802 -0.00855073  0.01448829  0.00882144]\n",
      "Gamma score: 0.7773704417203104\n",
      "r-squared 0.7372256921147622\n",
      "mse:  309.3495435541772\n"
     ]
    },
    {
     "data": {
      "text/plain": [
       "[<matplotlib.lines.Line2D at 0x7f4f136492e0>]"
      ]
     },
     "execution_count": 7,
     "metadata": {},
     "output_type": "execute_result"
    },
    {
     "data": {
      "image/png": "[encoded data removed]",
      "text/plain": [
       "<Figure size 432x288 with 1 Axes>"
      ]
     },
     "metadata": {
      "needs_background": "light"
     },
     "output_type": "display_data"
    }
   ],
   "source": [
    "# Norm_charge_tot as output of linear model with inputs Precursor related\n",
    "# Init_R, Res_Drop, Volt_Drop --> Norm_charge_tot\n",
    "input_features = np.concatenate((material_matrix, Init_R, Res_Drop, Volt_Drop), axis=1)\n",
    "max_gamma_score = 0\n",
    "for rand in range(0, 100):\n",
    "    X_train, X_test, y_train, y_test = train_test_split(\n",
    "        input_features, Norm_charge_tot, test_size=0.2, random_state=rand)\n",
    "    clf = linear_model.GammaRegressor(alpha=0., max_iter=1000)\n",
    "    clf = clf.fit(X_train, y_train.ravel())\n",
    "    if clf.score(X_test, y_test.ravel()) > max_gamma_score:\n",
    "        max_gamma_score = clf.score(X_test, y_test.ravel())\n",
    "        best_random_state = rand\n",
    "\n",
    "X_train, X_test, y_train, y_test = train_test_split(\n",
    "        input_features, Norm_charge_tot, test_size=0.2, random_state=best_random_state)\n",
    "clf = linear_model.GammaRegressor(alpha=0., max_iter=1000)\n",
    "clf = clf.fit(X_train, y_train.ravel())\n",
    "print ('coef_: ', clf.coef_)\n",
    "CB_MC_PA_coef_Norm_charge_tot = clf.coef_[0:3]\n",
    "y_pred = clf.predict (X_test)\n",
    "print ('Gamma score:', clf.score(X_test, y_test.ravel()))\n",
    "r2 = r2_score(y_test.ravel(), y_pred.ravel())\n",
    "print ('r-squared', r2)\n",
    "print ('mse: ', mean_squared_error(y_test, y_pred))\n",
    "\n",
    "\n",
    "plt.scatter(y_test, y_pred)\n",
    "mid_line = list(np.linspace(np.min(Norm_charge_tot), np.max(Norm_charge_tot), 8))\n",
    "plt.plot(mid_line, mid_line, '--', color='red')"
   ]
  },
  {
   "cell_type": "code",
   "execution_count": 8,
   "metadata": {},
   "outputs": [],
   "source": [
    "# got it from model based prediction of I_Max\n",
    "material_type_I_Finalperc_coef = material_type * CB_MC_PA_coef_Final_Current_Percent\n",
    "material_type_Norm_I_Max_coef = material_type * CB_MC_PA_coef_Norm_I_Max\n",
    "material_type_Norm_charge_Tot_coef = material_type * CB_MC_PA_coef_Norm_charge_tot"
   ]
  },
  {
   "cell_type": "code",
   "execution_count": 9,
   "metadata": {},
   "outputs": [],
   "source": [
    "# proxy (current-time plot) prediction (Final_Current_percent)\n",
    "new_features = np.concatenate ((charge_denisty,\n",
    "                                pulsetime,\n",
    "                                material_type_I_Finalperc_coef,\n",
    "                                atmosphere_type,\n",
    "                                Pretreat_voltage), axis=1)\n",
    "\n",
    "rand=9\n",
    "indices = np.arange(len(new_features))\n",
    "train_new_features, test_new_features, train_labels, test_labels, idxtrain, idx_test = \\\n",
    "                      train_test_split(new_features, Final_Current_Percent, \n",
    "                                       indices, test_size = 0.20, random_state = rand)\n",
    "feature_list = ['charge_denisty',\n",
    "                'PulseTime',\n",
    "                'material_CB',\n",
    "                'material_MC',\n",
    "                'material_PA',\n",
    "                'Atmosphere_air',\n",
    "                'Atmosphere_arg',\n",
    "                'Pretreat_voltage']"
   ]
  },
  {
   "cell_type": "code",
   "execution_count": 10,
   "metadata": {},
   "outputs": [
    {
     "name": "stdout",
     "output_type": "stream",
     "text": [
      "Average of r pearson for test 0.8466031502271641\n",
      "std of r pearson for test 0.012057374164267344 \n",
      "\n",
      "Average of r_squared for test 0.6777988041363548\n",
      "std of r_squared for test 0.016113895928858 \n",
      "\n",
      "Average of r_squared for train 0.7391229025024947\n",
      "std of r_squared for train 0.010158757857617494\n",
      "Mean Absolute Error: 0.2094 units.\n",
      "r2 score =  0.8283348799032613\n",
      "Mean Absolute Error: 0.2675 units.\n",
      "r2 score =  0.8225862413226182\n"
     ]
    }
   ],
   "source": [
    "r_squareds = list()\n",
    "r_pearsons = list()\n",
    "r_squareds_train = list()\n",
    "MAEs = list()\n",
    "MAEs_train = list()\n",
    "start = time.time()\n",
    "for random_state in range(50):\n",
    "    # after fixing the hyperparameters, train the model on all samples\n",
    "    # Instantiate model with 1000 decision tree\n",
    "    xgbr_final_I_percent = XGBRegressor(max_depth=10, n_estimators=25, gamma=0.01, \n",
    "                   learning_rate=0.115, subsample=0.77, min_child_weight=8, \n",
    "                   random_state=random_state)\n",
    "    # xgbr_final_I_percent = linear_model.BayesianRidge()\n",
    "    # xgbr_final_I_percent = XGBRegressor()\n",
    "    # Train the model on training data\n",
    "    labels = Final_Current_Percent\n",
    "    xgbr_final_I_percent.fit(train_new_features, train_labels);\n",
    "    #print('Doneskies')\n",
    "    Final_Current_Percent_test = xgbr_final_I_percent.predict(test_new_features)\n",
    "    r_squared_Final_Current_test = r2_score(test_labels, Final_Current_Percent_test)\n",
    "    r_squareds.append(r_squared_Final_Current_test)\n",
    "    \n",
    "    r_pearson_Final_Current_test = pearsonr(test_labels.reshape(test_labels.shape[0],), \n",
    "                                            Final_Current_Percent_test.reshape(Final_Current_Percent_test.shape[0],))\n",
    "    r_pearsons.append(r_pearson_Final_Current_test[0])   \n",
    "    \n",
    "    Final_Current_Percent_train = xgbr_final_I_percent.predict(train_new_features)\n",
    "    r_squared_Final_Current_train = r2_score(train_labels, Final_Current_Percent_train)\n",
    "    r_squareds_train.append(r_squared_Final_Current_train)    \n",
    "\n",
    "print ('Average of r pearson for test', np.mean(np.array(r_pearsons)))\n",
    "print ('std of r pearson for test', np.std(np.array(r_pearsons)), '\\n')\n",
    "\n",
    "print ('Average of r_squared for test', np.mean(np.array(r_squareds)))\n",
    "print ('std of r_squared for test', np.std(np.array(r_squareds)), '\\n')\n",
    "\n",
    "print ('Average of r_squared for train', np.mean(np.array(r_squareds_train)))\n",
    "print ('std of r_squared for train', np.std(np.array(r_squareds_train)))\n",
    "\n",
    "xgbr_final_I_percent.fit(new_features, labels)\n",
    "# Use the forest's predict method on the test data\n",
    "Final_Current_Percent_predicted = xgbr_final_I_percent.predict(new_features)\n",
    "# Calculate the absolute errors\n",
    "errors = abs(Final_Current_Percent_predicted - Final_Current_Percent)\n",
    "# Print out the mean absolute error (mae)\n",
    "print('Mean Absolute Error:', round(np.mean(errors), 4), 'units.')\n",
    "\n",
    "r_squared_Final_Current_all = r2_score(Final_Current_Percent, Final_Current_Percent_predicted)\n",
    "print('r2 score = ', r_squared_Final_Current_all)\n",
    "\n",
    "# Use the forest's predict method on the test data\n",
    "Final_Current_Percent_test = xgbr_final_I_percent.predict(test_new_features)\n",
    "# Calculate the absolute errors\n",
    "errors_test = abs(Final_Current_Percent_test - test_labels)\n",
    "# Print out the mean absolute error (mae)\n",
    "print('Mean Absolute Error:', round(np.mean(errors_test), 4), 'units.')\n",
    "\n",
    "r_squared_Final_Current_test = r2_score(test_labels, Final_Current_Percent_test)\n",
    "print('r2 score = ', r_squared_Final_Current_test)"
   ]
  },
  {
   "cell_type": "code",
   "execution_count": 11,
   "metadata": {},
   "outputs": [
    {
     "name": "stdout",
     "output_type": "stream",
     "text": [
      "[0.06391357, 0.54187095, 0.050532, 0.11524312, 0.015179494, 0.07922997, 0.0, 0.13403094]\n",
      "Variable: charge_denisty Importance: ('charge_denisty', 0.06)\n",
      "Variable: PulseTime Importance: ('PulseTime', 0.54)\n",
      "Variable: material_CB Importance: ('material_CB', 0.05)\n",
      "Variable: material_MC Importance: ('material_MC', 0.12)\n",
      "Variable: material_PA Importance: ('material_PA', 0.02)\n",
      "Variable: Atmosphere_air Importance: ('Atmosphere_air', 0.08)\n",
      "Variable: Atmosphere_arg Importance: ('Atmosphere_arg', 0.0)\n",
      "Variable: Pretreat_voltage Importance: ('Pretreat_voltage', 0.13)\n"
     ]
    }
   ],
   "source": [
    "# Get numerical feature importances\n",
    "importances = list(xgbr_final_I_percent.feature_importances_)\n",
    "print (importances)\n",
    "# List of tuples with variable and importance\n",
    "feature_importances = [(feature, round(importance, 2)) for feature, importance in zip(feature_list, importances)]\n",
    "# Sort the feature importances by most important first\n",
    "#feature_importances = sorted(feature_importances, key = lambda x: x[1], reverse = True)\n",
    "# Print out the feature and importances \n",
    "[print('Variable: {} Importance: {}'.format(feature, importance)) \n",
    " for (feature, importance) in zip(feature_list, feature_importances)];"
   ]
  },
  {
   "cell_type": "code",
   "execution_count": 12,
   "metadata": {},
   "outputs": [],
   "source": [
    "# proxy (current-time plot) prediction (Norm_I_Max)\n",
    "new_features = np.concatenate ((charge_denisty,\n",
    "                                pulsetime,\n",
    "                                material_type_Norm_I_Max_coef,\n",
    "                                atmosphere_type,\n",
    "                                Pretreat_voltage), axis=1)\n",
    "\n",
    "rand=9\n",
    "indices = np.arange(len(new_features))\n",
    "train_new_features, test_new_features, train_labels, test_labels, idxtrain, idx_test = \\\n",
    "                      train_test_split(new_features, Norm_I_Max, \n",
    "                                       indices, test_size = 0.2, random_state = rand)\n",
    "\n",
    "feature_list = ['charge_denisty',\n",
    "                'PulseTime',\n",
    "                'material_CB',\n",
    "                'material_MC',\n",
    "                'material_PA',\n",
    "                'Atmosphere_air',\n",
    "                'Atmosphere_arg',\n",
    "                'Pretreat_voltage']"
   ]
  },
  {
   "cell_type": "code",
   "execution_count": 13,
   "metadata": {},
   "outputs": [
    {
     "name": "stdout",
     "output_type": "stream",
     "text": [
      "(0.7676276802920239, 7.412339239937879e-08)\n",
      "Average of pearson r for test 0.7751909126882431\n",
      "std of pearson 1 for test 0.010688150653438176 \n",
      "\n",
      "Average of r_squared for test 0.595884853350087\n",
      "std of r_squared for test 0.01677309929291558 \n",
      "\n",
      "Average of r_squared for train 0.7679069432949439\n",
      "std of r_squared for train 0.005464916703626678\n",
      "Mean Absolute Error: 740.665 units.\n",
      "r2 score =  0.7530422054183219\n",
      "Mean Absolute Error: 752.9208 units.\n",
      "r2 score =  0.7072610457218755\n"
     ]
    },
    {
     "data": {
      "image/png": "[encoded data removed]",
      "text/plain": [
       "<Figure size 432x288 with 1 Axes>"
      ]
     },
     "metadata": {
      "needs_background": "light"
     },
     "output_type": "display_data"
    }
   ],
   "source": [
    "r_squareds = list()\n",
    "r_pearsons = list()\n",
    "r_squareds_train = list()\n",
    "MAEs = list()\n",
    "MAEs_train = list()\n",
    "start = time.time()\n",
    "for random_state in range(50):\n",
    "    # after fixing the hyperparameters, train the model on all samples\n",
    "    # Instantiate model with 1000 decision tree\n",
    "    xgbr_norm_I_max = XGBRegressor(max_depth=2, n_estimators=30, gamma=0.001, \n",
    "                   learning_rate=0.15, subsample=0.75, min_child_weight=5, \n",
    "                  random_state=random_state)\n",
    "    # xgbr_norm_I_max = linear_model.BayesianRidge()\n",
    "    # xgbr_norm_I_max = XGBRegressor()\n",
    "    # Train the model on training data\n",
    "    labels = Norm_I_Max\n",
    "    xgbr_norm_I_max.fit(train_new_features, train_labels);\n",
    "    \n",
    "    Norm_I_Max_test = xgbr_norm_I_max.predict(test_new_features)\n",
    "    r_squared_Norm_I_Max_test = r2_score(test_labels, Norm_I_Max_test)\n",
    "\n",
    "    test_labels_ = test_labels.reshape(test_labels.shape[0], )\n",
    "\n",
    "    Norm_I_Max_test_ = Norm_I_Max_test.reshape(Norm_I_Max_test.shape[0], )\n",
    "\n",
    "    r_pearson_Norm_I_Max_test = pearsonr(test_labels_, Norm_I_Max_test_)\n",
    "    r_pearsons.append(r_pearson_Norm_I_Max_test[0])\n",
    "    r_squareds.append(r_squared_Norm_I_Max_test)\n",
    "    \n",
    "    Norm_I_Max_train = xgbr_norm_I_max.predict(train_new_features)\n",
    "    r_squared_Norm_I_Max_train = r2_score(train_labels, Norm_I_Max_train)\n",
    "    r_squareds_train.append(r_squared_Norm_I_Max_train)  \n",
    "\n",
    "r_pearson_Norm_I_Max_test = pearsonr(test_labels_, Norm_I_Max_test_)\n",
    "print (r_pearson_Norm_I_Max_test)\n",
    "plt.scatter(test_labels_, Norm_I_Max_test_)\n",
    "print ('Average of pearson r for test', np.mean(np.array(r_pearsons)))\n",
    "print ('std of pearson 1 for test', np.std(np.array(r_pearsons)), '\\n')\n",
    "print ('Average of r_squared for test', np.mean(np.array(r_squareds)))\n",
    "print ('std of r_squared for test', np.std(np.array(r_squareds)), '\\n')\n",
    "print ('Average of r_squared for train', np.mean(np.array(r_squareds_train)))\n",
    "print ('std of r_squared for train', np.std(np.array(r_squareds_train)))\n",
    "\n",
    "xgbr_norm_I_max.fit(new_features, labels)\n",
    "# Use the forest's predict method on the test data\n",
    "Norm_I_Max_predicted = xgbr_norm_I_max.predict(new_features)\n",
    "# Calculate the absolute errors\n",
    "errors = abs(Norm_I_Max_predicted - Norm_I_Max)\n",
    "# Print out the mean absolute error (mae)\n",
    "print('Mean Absolute Error:', round(np.mean(errors), 4), 'units.')\n",
    "\n",
    "r_squared_Norm_I_Max_all = r2_score(Norm_I_Max, Norm_I_Max_predicted)\n",
    "print('r2 score = ', r_squared_Norm_I_Max_all)\n",
    "\n",
    "# Use the forest's predict method on the test data\n",
    "Norm_I_Max_test = xgbr_norm_I_max.predict(test_new_features)\n",
    "# Calculate the absolute errors\n",
    "errors_test = abs(Norm_I_Max_test - test_labels)\n",
    "# Print out the mean absolute error (mae)\n",
    "print('Mean Absolute Error:', round(np.mean(errors_test), 4), 'units.')\n",
    "\n",
    "r_squared_Norm_I_Max_test = r2_score(test_labels, Norm_I_Max_test)\n",
    "print('r2 score = ', r_squared_Norm_I_Max_test)"
   ]
  },
  {
   "cell_type": "code",
   "execution_count": 14,
   "metadata": {},
   "outputs": [
    {
     "name": "stdout",
     "output_type": "stream",
     "text": [
      "Variable: charge_denisty Importance: ('charge_denisty', 0.18)\n",
      "Variable: PulseTime Importance: ('PulseTime', 0.07)\n",
      "Variable: material_CB Importance: ('material_CB', 0.05)\n",
      "Variable: material_MC Importance: ('material_MC', 0.5)\n",
      "Variable: material_PA Importance: ('material_PA', 0.0)\n",
      "Variable: Atmosphere_air Importance: ('Atmosphere_air', 0.0)\n",
      "Variable: Atmosphere_arg Importance: ('Atmosphere_arg', 0.0)\n",
      "Variable: Pretreat_voltage Importance: ('Pretreat_voltage', 0.19)\n",
      "[0.18129855, 0.07394263, 0.05048946, 0.5025084, 0.0, 0.0, 0.0, 0.19176088]\n"
     ]
    }
   ],
   "source": [
    "# Get numerical feature importances\n",
    "importances = list(xgbr_norm_I_max.feature_importances_)\n",
    "# List of tuples with variable and importance\n",
    "feature_importances = [(feature, round(importance, 2)) for feature, importance in zip(feature_list, importances)]\n",
    "# Sort the feature importances by most important first\n",
    "#feature_importances = sorted(feature_importances, key = lambda x: x[1], reverse = True)\n",
    "# Print out the feature and importances \n",
    "[print('Variable: {} Importance: {}'.format(feature, importance)) \n",
    " for (feature, importance) in zip(feature_list, feature_importances)];\n",
    "print (importances)"
   ]
  },
  {
   "cell_type": "code",
   "execution_count": 15,
   "metadata": {},
   "outputs": [],
   "source": [
    "# proxy (current-time plot) prediction (Norm_Norm_charge_tot)\n",
    "new_features = np.concatenate ((charge_denisty,\n",
    "                                pulsetime,\n",
    "                                material_type_Norm_charge_Tot_coef,\n",
    "                                atmosphere_type,\n",
    "                                Pretreat_voltage), axis=1)\n",
    "\n",
    "rand=9\n",
    "indices = np.arange(len(new_features))\n",
    "train_new_features, test_new_features, train_labels, test_labels, idxtrain, idx_test = \\\n",
    "                      train_test_split(new_features, Norm_charge_tot, \n",
    "                                       indices, test_size = 0.20, random_state = rand)\n",
    "feature_list = ['charge_denisty',\n",
    "                'PulseTime',\n",
    "                'material_CB',\n",
    "                'material_MC',\n",
    "                'material_PA',\n",
    "                'Atmosphere_air',\n",
    "                'Atmosphere_arg',\n",
    "                'Pretreat_voltage']"
   ]
  },
  {
   "cell_type": "code",
   "execution_count": 16,
   "metadata": {},
   "outputs": [
    {
     "name": "stdout",
     "output_type": "stream",
     "text": [
      "Average of pearson r for test 0.7723982736263194\n",
      "std of pearson 1 for test 0.019239522690065132 \n",
      "\n",
      "Average of r_squared for test 0.5909765604236604\n",
      "std of r_squared for test 0.028085462965319666 \n",
      "\n",
      "Average of r_squared for train 0.726151316705005\n",
      "std of r_squared for train 0.008628067798812634\n",
      "Mean Absolute Error: 30.5581 units.\n",
      "r2 score =  0.7458441910927216\n",
      "Mean Absolute Error: 34.1277 units.\n",
      "r2 score =  0.8383126200187005\n"
     ]
    }
   ],
   "source": [
    "r_squareds = list()\n",
    "r_pearsons = list()\n",
    "r_squareds_train = list()\n",
    "MAEs = list()\n",
    "MAEs_train = list()\n",
    "start = time.time()\n",
    "for random_state in range(50):\n",
    "    # after fixing the hyperparameters, train the model on all samples\n",
    "    # Instantiate model with 1000 decision tree\n",
    "    xgbr_norm_charge_total = XGBRegressor(max_depth=6, n_estimators=21, gamma=0.01, \n",
    "                   learning_rate=0.118, subsample=0.75, min_child_weight=6, \n",
    "                  random_state=random_state)\n",
    "    # xgbr_norm_charge_total = linear_model.BayesianRidge()\n",
    "    # xgbr_norm_charge_total = XGBRegressor()\n",
    "    # Train the model on training data\n",
    "    labels = Norm_charge_tot\n",
    "    xgbr_norm_charge_total.fit(train_new_features, train_labels);\n",
    "    #print('Doneskies')\n",
    "    Norm_charge_tot_test = xgbr_norm_charge_total.predict(test_new_features)\n",
    "    r_squared_Norm_charge_tot_test = r2_score(test_labels, Norm_charge_tot_test)\n",
    "    r_squareds.append(r_squared_Norm_charge_tot_test)\n",
    "    \n",
    "    test_labels_ = test_labels.reshape(test_labels.shape[0], )\n",
    "    Norm_charge_tot_test_ = Norm_charge_tot_test.reshape(Norm_charge_tot_test.shape[0], )\n",
    "    r_pearson_Norm_charge_tot_test = pearsonr(test_labels_, Norm_charge_tot_test_)\n",
    "    r_pearsons.append(r_pearson_Norm_charge_tot_test[0])\n",
    "\n",
    "    \n",
    "    Norm_charge_tot_train = xgbr_norm_charge_total.predict(train_new_features)\n",
    "    r_squared_Norm_charge_tot_train = r2_score(train_labels, Norm_charge_tot_train)\n",
    "    r_squareds_train.append(r_squared_Norm_charge_tot_train)    \n",
    "\n",
    "print ('Average of pearson r for test', np.mean(np.array(r_pearsons)))\n",
    "print ('std of pearson 1 for test', np.std(np.array(r_pearsons)), '\\n')\n",
    "\n",
    "print ('Average of r_squared for test', np.mean(np.array(r_squareds)))\n",
    "print ('std of r_squared for test', np.std(np.array(r_squareds)), '\\n')\n",
    "\n",
    "print ('Average of r_squared for train', np.mean(np.array(r_squareds_train)))\n",
    "print ('std of r_squared for train', np.std(np.array(r_squareds_train)))\n",
    "\n",
    "\n",
    "xgbr_norm_charge_total.fit(new_features, labels)\n",
    "# Use the forest's predict method on the test data\n",
    "Norm_charge_tot_predicted = xgbr_norm_charge_total.predict(new_features)\n",
    "# Calculate the absolute errors\n",
    "errors = abs(Norm_charge_tot_predicted - Norm_charge_tot)\n",
    "# Print out the mean absolute error (mae)\n",
    "print('Mean Absolute Error:', round(np.mean(errors), 4), 'units.')\n",
    "\n",
    "r_squared_Norm_charge_tot_all = r2_score(Norm_charge_tot, Norm_charge_tot_predicted)\n",
    "print('r2 score = ', r_squared_Norm_charge_tot_all)\n",
    "\n",
    "# Use the forest's predict method on the test data\n",
    "Norm_charge_tot_test = xgbr_norm_charge_total.predict(test_new_features)\n",
    "# Calculate the absolute errors\n",
    "errors_test = abs(Norm_charge_tot_test - test_labels)\n",
    "# Print out the mean absolute error (mae)\n",
    "print('Mean Absolute Error:', round(np.mean(errors_test), 4), 'units.')\n",
    "\n",
    "r_squared_Norm_charge_tot_test = r2_score(test_labels, Norm_charge_tot_test)\n",
    "print('r2 score = ', r_squared_Norm_charge_tot_test)"
   ]
  },
  {
   "cell_type": "code",
   "execution_count": 17,
   "metadata": {},
   "outputs": [
    {
     "name": "stdout",
     "output_type": "stream",
     "text": [
      "Variable: charge_denisty Importance: ('charge_denisty', 0.2)\n",
      "Variable: PulseTime Importance: ('PulseTime', 0.23)\n",
      "Variable: material_CB Importance: ('material_CB', 0.09)\n",
      "Variable: material_MC Importance: ('material_MC', 0.19)\n",
      "Variable: material_PA Importance: ('material_PA', 0.09)\n",
      "Variable: Atmosphere_air Importance: ('Atmosphere_air', 0.04)\n",
      "Variable: Atmosphere_arg Importance: ('Atmosphere_arg', 0.0)\n",
      "Variable: Pretreat_voltage Importance: ('Pretreat_voltage', 0.17)\n",
      "[0.19763298, 0.22866347, 0.0919755, 0.1854384, 0.09106414, 0.03757105, 0.0, 0.16765445]\n"
     ]
    }
   ],
   "source": [
    "# Get numerical feature importances\n",
    "importances = list(xgbr_norm_charge_total.feature_importances_)\n",
    "# List of tuples with variable and importance\n",
    "feature_importances = [(feature, round(importance, 2)) for feature, importance in zip(feature_list, importances)]\n",
    "# Sort the feature importances by most important first\n",
    "#feature_importances = sorted(feature_importances, key = lambda x: x[1], reverse = True)\n",
    "# Print out the feature and importances \n",
    "[print('Variable: {} Importance: {}'.format(feature, importance)) \n",
    " for (feature, importance) in zip(feature_list, feature_importances)];\n",
    "\n",
    "print (importances)"
   ]
  },
  {
   "cell_type": "code",
   "execution_count": 113,
   "metadata": {},
   "outputs": [],
   "source": [
    "heat_power = np.array (df['Voltage']*df['Voltage']/df['Init_R']*df['PulseTime']).reshape(-1, 1)\n",
    "# Porxy properties, as well as process parameters\n",
    "new_features = np.concatenate ((charge_denisty, \n",
    "                                material_type, \n",
    "                                pulsetime,\n",
    "                                Pretreat_voltage,\n",
    "                                atmosphere_type,\n",
    "                                Final_Current_Percent_predicted.reshape(-1, 1),\n",
    "                                Norm_I_Max_predicted.reshape(-1, 1),\n",
    "                                Norm_charge_tot_predicted.reshape(-1, 1)), axis=1)\n",
    "#                                heat_power.reshape(-1, 1)), axis=1)\n",
    "\n",
    "rand=9\n",
    "indices = np.arange(len(new_features))\n",
    "train_new_features, test_new_features, train_labels, test_labels, idxtrain, idx_test = \\\n",
    "                      train_test_split(new_features, Graphene_Yield, \n",
    "                                       indices, test_size = 0.20, random_state = rand)\n",
    "\n",
    "feature_list = ['charge_denisty',\n",
    "                'material_CB',\n",
    "                'material_MC',\n",
    "                'material_PA',\n",
    "                'PulseTime',\n",
    "                'Pretreat_voltage',\n",
    "                'Atmosphere_air',\n",
    "                'Atmosphere_arg',\n",
    "                'Final_Current_Percent',\n",
    "                'Norm_I_Max',\n",
    "                'Norm_charge_tot']"
   ]
  },
  {
   "cell_type": "code",
   "execution_count": 114,
   "metadata": {},
   "outputs": [
    {
     "data": {
      "text/plain": [
       "array([1.12800000e+02, 1.00000000e+00, 0.00000000e+00, 0.00000000e+00,\n",
       "       1.20000000e+03, 6.00000000e+01, 0.00000000e+00, 0.00000000e+00,\n",
       "       2.03152016e-01, 4.58295013e+02, 5.24205856e+01])"
      ]
     },
     "execution_count": 114,
     "metadata": {},
     "output_type": "execute_result"
    }
   ],
   "source": [
    "new_features[0]"
   ]
  },
  {
   "cell_type": "raw",
   "metadata": {},
   "source": [
    "# using only process parameters\n",
    "new_features = np.concatenate ((charge_denisty, \n",
    "                                material_type, \n",
    "                                pulsetime), axis=1)\n",
    "\n",
    "rand=9\n",
    "indices = np.arange(len(new_features))\n",
    "train_new_features, test_new_features, train_labels, test_labels, idxtrain, idx_test = \\\n",
    "                      train_test_split(new_features, Graphene_Yield, \n",
    "                                       indices, test_size = 0.20, random_state = rand)"
   ]
  },
  {
   "cell_type": "raw",
   "metadata": {},
   "source": [
    "# Grid Search CV each fit takes 1Sec, 5CV means running 5 times for each possibility\n",
    "start = time.time()\n",
    "from sklearn.model_selection import GridSearchCV\n",
    "gsc = GridSearchCV(\n",
    "        estimator=XGBRegressor(),\n",
    "        param_grid={\n",
    "            'max_depth': [3],\n",
    "            'n_estimators': [24],\n",
    "            'min_child_weight': [5],\n",
    "            'learning_rate': np.linspace(0.11, 0.12, 4),\n",
    "            'subsample': [0.7],\n",
    "            'gamma': [0.0001]\n",
    "        },\n",
    "        cv=5, scoring='neg_mean_squared_error', verbose=10, n_jobs=-1)\n",
    "grid_result = gsc.fit(train_new_features, train_labels)\n",
    "best_params = grid_result.best_params_\n",
    "print('Max Depth: ', best_params[\"max_depth\"])\n",
    "print('N Estimators: ', best_params[\"n_estimators\"])\n",
    "print('Min Child Weight: ', best_params[\"min_child_weight\"])\n",
    "print('Learning Rate: ', best_params[\"learning_rate\"])\n",
    "print('Subsample: ', best_params[\"subsample\"])\n",
    "print('Gamma: ', best_params[\"gamma\"])\n",
    "end = time.time()\n",
    "print ('total time is {}'.format(end-start))"
   ]
  },
  {
   "cell_type": "code",
   "execution_count": 79,
   "metadata": {},
   "outputs": [
    {
     "name": "stdout",
     "output_type": "stream",
     "text": [
      "Average of r_squared for test 0.7701615526021247\n",
      "std of r_squared for test 0.01354624315693983 \n",
      "\n",
      "Average of r_squared for train 0.795891608499983\n",
      "std of r_squared for train 0.0035471301087130814\n",
      "Mean Absolute Error: 0.2772 units.\n",
      "r2 score =  0.8002759712394372\n",
      "time is:  7.29145073890686\n",
      "Mean Absolute Error for test: 0.3214 units.\n",
      "r2 score =  0.775740852835394\n"
     ]
    },
    {
     "data": {
      "text/plain": [
       "<seaborn.axisgrid.FacetGrid at 0x7f4f885f0880>"
      ]
     },
     "execution_count": 79,
     "metadata": {},
     "output_type": "execute_result"
    },
    {
     "data": {
      "image/png": "[encoded data removed]",
      "text/plain": [
       "<Figure size 360x360 with 1 Axes>"
      ]
     },
     "metadata": {
      "needs_background": "light"
     },
     "output_type": "display_data"
    }
   ],
   "source": [
    "r_squareds = list()\n",
    "r_squareds_train = list()\n",
    "MAEs = list()\n",
    "MAEs_train = list()\n",
    "start = time.time()\n",
    "for random_state in range(50):\n",
    "    # Instantiate model with 1000 decision trees\n",
    "    xgbr_graphyield = XGBRegressor(max_depth=2, n_estimators=50, gamma=0.001, \n",
    "                   learning_rate=0.115, subsample=0.775, min_child_weight=6, \n",
    "                   random_state=random_state)\n",
    "    # Train the model on training data\n",
    "    xgbr_graphyield.fit(train_new_features, train_labels);\n",
    "    # Use the forest's predict method on the test data\n",
    "    predictions = xgbr_graphyield.predict(test_new_features)\n",
    "    # Calculate the absolute errors\n",
    "    errors = abs(predictions - test_labels)\n",
    "    MAEs.append(errors)\n",
    "    # Print out the mean absolute error (mae)\n",
    "    #print('Mean Absolute Error:', round(np.mean(errors), 4), 'units.')\n",
    "\n",
    "    r_squared = r2_score(test_labels, predictions)\n",
    "    r_squareds.append (r_squared)\n",
    "    \n",
    "    pred_train = xgbr_graphyield.predict(train_new_features)\n",
    "    errors = abs(pred_train - train_labels)\n",
    "    MAEs_train.append(errors)\n",
    "    r_squared = r2_score(train_labels, pred_train)\n",
    "    r_squareds_train.append(r_squared)\n",
    "    #print('r2 score = ', r_squared)\n",
    "\n",
    "print ('Average of r_squared for test', np.mean(np.array(r_squareds)))\n",
    "print ('std of r_squared for test', np.std(np.array(r_squareds)), '\\n')\n",
    "\n",
    "print ('Average of r_squared for train', np.mean(np.array(r_squareds_train)))\n",
    "print ('std of r_squared for train', np.std(np.array(r_squareds_train)))\n",
    "# train accuracy\n",
    "pred_train = xgbr_graphyield.predict(train_new_features)\n",
    "# Calculate the absolute errors\n",
    "errors_train = abs(pred_train - train_labels)\n",
    "# Print out the mean absolute error (mae)\n",
    "print('Mean Absolute Error:', round(np.mean(errors_train), 4), 'units.')\n",
    "r_squared_train = r2_score(train_labels, pred_train)\n",
    "print('r2 score = ', r_squared_train)\n",
    "end = time.time()\n",
    "print ('time is: ', end-start)\n",
    "\n",
    "pred_test = xgbr_graphyield.predict(test_new_features)\n",
    "# Calculate the absolute errors\n",
    "errors_test = abs(pred_test - test_labels)\n",
    "# Print out the mean absolute error (mae)\n",
    "print('Mean Absolute Error for test:', round(np.mean(errors_test), 4), 'units.')\n",
    "r_squared_test = r2_score(test_labels, pred_test)\n",
    "print('r2 score = ', r_squared_test)\n",
    "\n",
    "sns.displot(r_squareds)"
   ]
  },
  {
   "cell_type": "code",
   "execution_count": 80,
   "metadata": {},
   "outputs": [
    {
     "data": {
      "text/plain": [
       "(-0.3790404523201642, 2.5011343286627914e-07)"
      ]
     },
     "execution_count": 80,
     "metadata": {},
     "output_type": "execute_result"
    },
    {
     "data": {
      "image/png": "[encoded data removed]",
      "text/plain": [
       "<Figure size 432x288 with 1 Axes>"
      ]
     },
     "metadata": {
      "needs_background": "light"
     },
     "output_type": "display_data"
    }
   ],
   "source": [
    "# the higher the pulsetime, the lower the Final current percentage\n",
    "plt.scatter(pulsetime, Final_Current_Percent_predicted)\n",
    "plt.xlabel ('pulsetime')\n",
    "plt.ylabel ('Final current percentage')\n",
    "\n",
    "pulsetime_ = pulsetime.reshape(pulsetime.shape[0], )\n",
    "\n",
    "Final_Current_Percent_predicted_ = Final_Current_Percent_predicted.reshape(\n",
    "                                   Final_Current_Percent_predicted.shape[0], )\n",
    "\n",
    "pearsonr(pulsetime_, Final_Current_Percent_predicted_)"
   ]
  },
  {
   "cell_type": "code",
   "execution_count": 81,
   "metadata": {},
   "outputs": [
    {
     "data": {
      "text/plain": [
       "(-0.18014045409055587, 0.01737944450192628)"
      ]
     },
     "execution_count": 81,
     "metadata": {},
     "output_type": "execute_result"
    },
    {
     "data": {
      "image/png": "[encoded data removed]",
      "text/plain": [
       "<Figure size 432x288 with 1 Axes>"
      ]
     },
     "metadata": {
      "needs_background": "light"
     },
     "output_type": "display_data"
    }
   ],
   "source": [
    "plt.scatter(pulsetime, Norm_I_Max_predicted)\n",
    "plt.xlabel ('pulsetime')\n",
    "plt.ylabel ('Norm_I_Max_predicted')\n",
    "\n",
    "pulsetime_ = pulsetime.reshape(pulsetime.shape[0], )\n",
    "Norm_I_Max_predicted_ = Norm_I_Max_predicted.reshape(\n",
    "                                   Norm_I_Max_predicted.shape[0], )\n",
    "\n",
    "pearsonr(pulsetime_, Norm_I_Max_predicted_)"
   ]
  },
  {
   "cell_type": "code",
   "execution_count": 82,
   "metadata": {},
   "outputs": [
    {
     "data": {
      "text/plain": [
       "(0.44476529249093155, 7.82299914963809e-10)"
      ]
     },
     "execution_count": 82,
     "metadata": {},
     "output_type": "execute_result"
    },
    {
     "data": {
      "image/png": "[encoded data removed]",
      "text/plain": [
       "<Figure size 432x288 with 1 Axes>"
      ]
     },
     "metadata": {
      "needs_background": "light"
     },
     "output_type": "display_data"
    }
   ],
   "source": [
    "# the higher the pulse time, the higher total charge\n",
    "plt.scatter(pulsetime, Norm_charge_tot_predicted)\n",
    "\n",
    "pulsetime_ = pulsetime.reshape(pulsetime.shape[0], )\n",
    "Norm_charge_tot_predicted_ = Norm_charge_tot_predicted.reshape(\n",
    "                                   Norm_charge_tot_predicted.shape[0], )\n",
    "\n",
    "pearsonr(pulsetime_, Norm_charge_tot_predicted_)"
   ]
  },
  {
   "cell_type": "code",
   "execution_count": 83,
   "metadata": {},
   "outputs": [
    {
     "name": "stdout",
     "output_type": "stream",
     "text": [
      "Variable: charge_denisty Importance: ('charge_denisty', 0.31)\n",
      "Variable: material_CB Importance: ('material_CB', 0.09)\n",
      "Variable: material_MC Importance: ('material_MC', 0.18)\n",
      "Variable: material_PA Importance: ('material_PA', 0.03)\n",
      "Variable: PulseTime Importance: ('PulseTime', 0.06)\n",
      "Variable: Pretreat_voltage Importance: ('Pretreat_voltage', 0.12)\n",
      "Variable: Atmosphere_air Importance: ('Atmosphere_air', 0.0)\n",
      "Variable: Atmosphere_arg Importance: ('Atmosphere_arg', 0.0)\n",
      "Variable: Final_Current_Percent Importance: ('Final_Current_Percent', 0.05)\n",
      "Variable: Norm_I_Max Importance: ('Norm_I_Max', 0.06)\n",
      "Variable: Norm_charge_tot Importance: ('Norm_charge_tot', 0.1)\n",
      "[0.3110757, 0.09347633, 0.18207519, 0.029973345, 0.059514567, 0.11632317, 0.0, 0.0, 0.0526264, 0.05573516, 0.09920008]\n"
     ]
    }
   ],
   "source": [
    "# Get numerical feature importances\n",
    "importances = list(xgbr_graphyield.feature_importances_)\n",
    "# List of tuples with variable and importance\n",
    "feature_importances = [(feature, round(importance, 2)) for feature, importance in zip(feature_list, importances)]\n",
    "# Sort the feature importances by most important first\n",
    "#feature_importances = sorted(feature_importances, key = lambda x: x[1], reverse = True)\n",
    "# Print out the feature and importances \n",
    "[print('Variable: {} Importance: {}'.format(feature, importance)) \n",
    " for (feature, importance) in zip(feature_list, feature_importances)];\n",
    "print (importances)"
   ]
  },
  {
   "cell_type": "code",
   "execution_count": 84,
   "metadata": {},
   "outputs": [
    {
     "name": "stdout",
     "output_type": "stream",
     "text": [
      "Mean Absolute Error: 0.2772 units.\n"
     ]
    },
    {
     "data": {
      "text/plain": [
       "[<matplotlib.lines.Line2D at 0x7f4f884c70d0>]"
      ]
     },
     "execution_count": 84,
     "metadata": {},
     "output_type": "execute_result"
    },
    {
     "data": {
      "image/png": "[encoded data removed]",
      "text/plain": [
       "<Figure size 432x288 with 1 Axes>"
      ]
     },
     "metadata": {
      "needs_background": "light"
     },
     "output_type": "display_data"
    }
   ],
   "source": [
    "pred_test = xgbr_graphyield.predict(test_new_features)\n",
    "errors_test= abs(pred_train - train_labels)\n",
    "print('Mean Absolute Error:', round(np.mean(errors_test), 4), 'units.')\n",
    "# Plot predictions vs actual values\n",
    "# Plot style\n",
    "fig, ax = plt.subplots(figsize=(6,4))\n",
    "ax.tick_params(direction='in', length=4, width=1.5, colors='black', grid_alpha=0, labelsize='14')\n",
    "# ax.set_xlim(20,105)\n",
    "# ax.set_ylim(20,105)\n",
    "\n",
    "# Predicted 2D/G\n",
    "plt.plot(pred_test, test_labels, \n",
    "         linestyle = 'none', marker = 'o', color='black', markersize='8')\n",
    "plt.title('Test Data', fontsize='18', fontname='Arial', fontweight='bold')\n",
    "plt.xlabel('Predicted', fontsize='18', fontname='Arial', fontweight='bold')\n",
    "plt.ylabel('Actual', fontsize='18', fontname='Arial', fontweight='bold')\n",
    "ymin, ymax = plt.ylim()\n",
    "plt.xlim(ymin, ymax)\n",
    "plt.ylim(ymin, ymax)\n",
    "# Make a red line to show perfect predictions\n",
    "x2 = np.arange(0, ymax*1.1, .1)\n",
    "y2 = np.arange(0, ymax*1.1, .1)\n",
    "plt.plot(x2,y2, linestyle='--', linewidth = '3', color='red')"
   ]
  },
  {
   "cell_type": "code",
   "execution_count": 86,
   "metadata": {},
   "outputs": [
    {
     "name": "stdout",
     "output_type": "stream",
     "text": [
      "Mean of I Max CB is  199.5962952631579\n",
      "Mean of I Max MC is  546.874309090909\n",
      "Mean of I Max PA is  301.9472116666666\n",
      "Mean of I Max TCB is  217.5159437837838\n"
     ]
    },
    {
     "data": {
      "image/png": "[encoded data removed]",
      "text/plain": [
       "<Figure size 360x288 with 1 Axes>"
      ]
     },
     "metadata": {
      "needs_background": "light"
     },
     "output_type": "display_data"
    }
   ],
   "source": [
    "def category_normalization_theonesyoualwaysuse(df):\n",
    "    groups = df.groupby(['Material'])\n",
    "    norm_I_Max = []\n",
    "    norm_charge_tot=[]\n",
    "    for name, group in groups:\n",
    "        I_Max_array = np.asfarray(group.I_Max)\n",
    "        charge_tot_array = np.asfarray(group.Charge_Tot)\n",
    "        mean_I_Max = np.mean(I_Max_array)\n",
    "        mean_charge_tot = np.mean(charge_tot_array)\n",
    "        std_I_Max = np.std(I_Max_array)\n",
    "        std_charge_tot = np.std(charge_tot_array)\n",
    "        print(\"Mean of I Max\", name, \"is \", mean_I_Max)\n",
    "        norm_I_Max_cat = np.divide(np.subtract(I_Max_array, mean_I_Max), std_I_Max)\n",
    "        norm_charge_tot_cat = np.divide(np.subtract(charge_tot_array, mean_charge_tot), std_charge_tot)\n",
    "        norm_I_Max = np.append(norm_I_Max, norm_I_Max_cat)\n",
    "        norm_charge_tot = np.append(norm_charge_tot, norm_charge_tot_cat)\n",
    "    return norm_I_Max, norm_charge_tot\n",
    "\n",
    "\n",
    "# Plot style\n",
    "fig, ax = plt.subplots(figsize=(5,4))\n",
    "# ax.set_yticks(np.arange(.2, 2.2, .2))\n",
    "# ax.set_xticks(np.arange(0, 1200, 100))\n",
    "# ax.set_xlim(.7,3.3)\n",
    "\n",
    "# Import file\n",
    "df_test = pd.read_csv('FJH_ML_Final.csv', header=1)\n",
    "# Create normalized I by category\n",
    "norm1, norm2 = category_normalization_theonesyoualwaysuse(df_test)\n",
    "df_test['Norm_I_Max'] = norm1\n",
    "df_test['Norm_charge_tot'] = norm2\n",
    "df_test['charge_density'] = df_test['Voltage']*df_test['Cap']/df_test['Mass']\n",
    "# df_test['test_feature'] = (df_test['Voltage']/df_test['Mass'])#*df_test['PulseTime']\n",
    "# df_test = df_test[df_test['TwoDtoG']<1.5]\n",
    "# df_test = df_test[df_test['Graphene_Yield']>20]\n",
    "\n",
    "# Cut dataframe to only the test set\n",
    "df_test = df_test.iloc[idx_test]\n",
    "df_test['y_pred'] = pred_test\n",
    "df_test['y_true'] = test_labels\n",
    "\n",
    "groups = df_test.groupby(['Material'])\n",
    "\n",
    "# Plot\n",
    "ax.tick_params(direction='in', length=4, width=1.5, colors='black', grid_alpha=0, labelsize='14')\n",
    "counter=0\n",
    "markers = ['o', 's', '^', 'v']\n",
    "colors=['blue', 'red', 'green', 'orange']\n",
    "colors2 = ['maroon', 'darkorange', 'goldenrod', 'dodgerblue']\n",
    "for name, group in groups:\n",
    "    ax.plot(group.y_pred, group.y_true, marker=markers[counter], alpha=0.9, linestyle='', ms=8, label=name)\n",
    "    counter+=1\n",
    "    # Predicted 2D/G\n",
    "# plt.title('Test Data', fontsize='18', fontname='Arial', fontweight='bold')\n",
    "ax.set_xlabel('Predicted Yield (%)', fontsize='18', fontname='Arial', fontweight='bold')\n",
    "ax.set_ylabel('Actual Yield (%)', fontsize='18', fontname='Arial', fontweight='bold')\n",
    "ymin, ymax = plt.ylim()\n",
    "ax.set_xlim(ymin, ymax)\n",
    "ax.set_ylim(ymin, ymax)\n",
    "# Make a red line to show perfect predictions\n",
    "x2 = np.arange(ymin, ymax*1.1, .01)\n",
    "y2 = np.arange(ymin, ymax*1.1, .01)\n",
    "ax.plot(x2,y2, linestyle='--', linewidth = '3', color='red')\n",
    "leg = plt.legend(frameon=\"True\", prop={'family': 'Arial'})\n",
    "ax.legend(frameon=False, ncol=2, fontsize=12, loc='upper left')\n",
    "\n",
    "# Plot\n",
    "# plt.plot(df_test['I_Max'],df_test['Graphene_Yield'], linestyle = 'none', marker = 'o', color='black', markersize='8')\n",
    "# plt.xlabel('Flash Voltage (V)', fontsize='18', fontname='Arial', fontweight='bold')\n",
    "# plt.ylabel('D/G Ratio', fontsize='18', fontname='Arial', fontweight='bold')\n",
    "\n",
    "# Save\n",
    "plt.tight_layout()\n",
    "plt.savefig('XGBPerformance_materialgroup.png', dpi=300)\n",
    "plt.show()"
   ]
  },
  {
   "cell_type": "code",
   "execution_count": 88,
   "metadata": {},
   "outputs": [
    {
     "data": {
      "image/png": "[encoded data removed]",
      "text/plain": [
       "<Figure size 360x288 with 1 Axes>"
      ]
     },
     "metadata": {
      "needs_background": "light"
     },
     "output_type": "display_data"
    }
   ],
   "source": [
    "# Distribution of Graphene_yield with  CD density groups\n",
    "cv = np.array (df_test['charge_density'])\n",
    "Qs = np.quantile (cv, [0.25, 0.5, 0.75])\n",
    "\n",
    "cv_class = cv\n",
    "cv_class = np.where(cv <= Qs[0], 0, cv_class)\n",
    "cv_class = np.where((cv > Qs[0]) & (cv <= Qs[1]), 1, cv_class)\n",
    "cv_class = np.where((cv > Qs[1]) & (cv <= Qs[2]), 2, cv_class)\n",
    "cv_class = np.where(cv > Qs[2], 3, cv_class)\n",
    "\n",
    "# Plot style\n",
    "fig, ax = plt.subplots(figsize=(5,4))\n",
    "# ax.set_yticks(np.arange(.2, 2.2, .2))\n",
    "# ax.set_xticks(np.arange(0, 1200, 100))\n",
    "# ax.set_xlim(.7,3.3)\n",
    "df_test['cv_class'] = cv_class\n",
    "groups = df_test.groupby(['cv_class'])\n",
    "\n",
    "# Plot\n",
    "ax.tick_params(direction='in', length=4, width=1.5, colors='black', grid_alpha=0, labelsize='14')\n",
    "counter=0\n",
    "markers = ['o', 's', '^', 'v']\n",
    "colors=['blue', 'red', 'green', 'orange']\n",
    "colors2 = ['maroon', 'darkorange', 'goldenrod', 'dodgerblue']\n",
    "for name, group in groups:\n",
    "    ax.plot(group.y_pred, group.y_true, marker=markers[counter], alpha=0.9, linestyle='', ms=8, label=name)\n",
    "    counter+=1\n",
    "    # Predicted 2D/G\n",
    "# plt.title('Test Data', fontsize='18', fontname='Arial', fontweight='bold')\n",
    "ax.set_xlabel('Predicted Yield (%)', fontsize='18', fontname='Arial', fontweight='bold')\n",
    "ax.set_ylabel('Actual Yield (%)', fontsize='18', fontname='Arial', fontweight='bold')\n",
    "ymin, ymax = plt.ylim()\n",
    "ax.set_xlim(ymin, ymax)\n",
    "ax.set_ylim(ymin, ymax)\n",
    "# Make a red line to show perfect predictions\n",
    "x2 = np.arange(ymin, ymax*1.1, .01)\n",
    "y2 = np.arange(ymin, ymax*1.1, .01)\n",
    "ax.plot(x2,y2, linestyle='--', linewidth = '3', color='red')\n",
    "leg = plt.legend(frameon=\"True\", prop={'family': 'Arial'})\n",
    "ax.legend(frameon=False, ncol=2, fontsize=12, loc='upper left')\n",
    "\n",
    "# Plot\n",
    "# plt.plot(df_test['I_Max'],df_test['Graphene_Yield'], linestyle = 'none', marker = 'o', color='black', markersize='8')\n",
    "# plt.xlabel('Flash Voltage (V)', fontsize='18', fontname='Arial', fontweight='bold')\n",
    "# plt.ylabel('D/G Ratio', fontsize='18', fontname='Arial', fontweight='bold')\n",
    "\n",
    "# Save\n",
    "plt.tight_layout()\n",
    "plt.savefig('XGBPerformance_cvgroup.png', dpi=300)\n",
    "plt.show()"
   ]
  },
  {
   "cell_type": "code",
   "execution_count": 156,
   "metadata": {},
   "outputs": [
    {
     "data": {
      "image/png": "[encoded data removed]",
      "text/plain": [
       "<Figure size 432x288 with 2 Axes>"
      ]
     },
     "metadata": {
      "needs_background": "light"
     },
     "output_type": "display_data"
    }
   ],
   "source": [
    "# Plot pred vs. true values for test set, coloring the charge density\n",
    "groups = df_test.groupby(['Material'])\n",
    "fig, ax = plt.subplots(figsize=(6,4))\n",
    "ax.tick_params(direction='in', length=4, width=1.5, colors='black', grid_alpha=0, labelsize='14')\n",
    "\n",
    "\n",
    "for name, group in groups:\n",
    "    p = ax.scatter(group.y_pred, group.y_true, c=group.charge_density, marker='o', s=100, cmap='Blues')\n",
    "    \n",
    "cb = fig.colorbar(p, ax=ax)\n",
    "cb.set_label('Charge Density (C/g)', fontsize='18', fontname='Arial', fontweight='bold')\n",
    "cb.ax.tick_params(labelsize=14)\n",
    "\n",
    "# plt.title('Test Data', fontsize='18', fontname='Arial', fontweight='bold')\n",
    "ax.set_xlabel('Predicted Yield', fontsize='18', fontname='Arial', fontweight='bold')\n",
    "ax.set_ylabel('Actual Yield', fontsize='18', fontname='Arial', fontweight='bold')\n",
    "ymin, ymax = plt.ylim()\n",
    "ax.set_xlim(ymin, ymax)\n",
    "ax.set_ylim(ymin, ymax)\n",
    "# Make a red line to show perfect predictions\n",
    "x2 = np.arange(ymin, ymax*1.1, .01)\n",
    "y2 = np.arange(ymin, ymax*1.1, .01)\n",
    "ax.plot(x2,y2, linestyle='--', linewidth = '3', color='red')\n",
    "# ax.legend(fontsize=12)\n",
    "\n",
    "# Plot\n",
    "# plt.plot(df['I_Max'],df['Graphene_Yield'], linestyle = 'none', marker = 'o', color='black', markersize='8')\n",
    "# plt.xlabel('Flash Voltage (V)', fontsize='18', fontname='Arial', fontweight='bold')\n",
    "# plt.ylabel('D/G Ratio', fontsize='18', fontname='Arial', fontweight='bold')\n",
    "\n",
    "# Save\n",
    "plt.tight_layout()\n",
    "# plt.savefig('XGB_Regression_Performance_colorChargeDensity.png', dpi=300)\n",
    "plt.show()"
   ]
  },
  {
   "cell_type": "code",
   "execution_count": 157,
   "metadata": {},
   "outputs": [],
   "source": [
    "# outside test (Need to ask Jacob the details, material, atmosphere)\n",
    "filename = 'FJH_ML_MBO_Yield4_modified.csv'\n",
    "df_testBO0 = pd.read_csv(filename, sep=\",\", encoding='ISO-8859-1', header=1)\n",
    "df_testBO = df_testBO0\n",
    "# Only works for test that are TCB material !!!!!!\n",
    "Material_CB_testBO = np.array (df_testBO['Material']).reshape(-1, 1)\n",
    "Material_CB_testBO [:] = 0\n",
    "Material_MC_testBO = np.zeros_like (Material_CB_testBO)\n",
    "Material_PA_testBO = np.zeros_like (Material_CB_testBO)\n",
    "material_type_testBO = np.concatenate ((Material_CB_testBO, \n",
    "                                        Material_MC_testBO, \n",
    "                                        Material_PA_testBO), axis=1)\n",
    "\n",
    "Atmosphere_air_testBO = np.array (df_testBO['Atmosphere']).reshape(-1, 1)\n",
    "Atmosphere_air_testBO [:] = 0\n",
    "Atmosphere_arg_testBO = np.zeros_like (Atmosphere_air_testBO)\n",
    "atmosphere_type_testBO = np.concatenate ((Atmosphere_air_testBO, \n",
    "                                          Atmosphere_arg_testBO ), axis=1)\n",
    "# base 60mF as base and the number in excel file of 18mF\n",
    "df_testBO['Cap'] = 60 + df_testBO['Cap']*18\n",
    "charge_density_testBO = np.array (df_testBO['Voltage']*df_testBO['Cap']/df_testBO['Mass']).reshape(-1, 1)\n",
    "pulsetime_testBO = np.array (df_testBO['PulseTime']).reshape(-1, 1)\n",
    "Pretreat_voltage_testBO = np.array (df_testBO['Pretreat_voltage']).reshape(-1, 1)\n",
    "\n",
    "# proxy prediction features\n",
    "features_testBO = np.concatenate ((charge_density_testBO,\n",
    "                                   pulsetime_testBO,\n",
    "                                   material_type_testBO,\n",
    "                                   atmosphere_type_testBO,\n",
    "                                   Pretreat_voltage_testBO), axis=1)"
   ]
  },
  {
   "cell_type": "code",
   "execution_count": 158,
   "metadata": {},
   "outputs": [],
   "source": [
    "Final_Current_Percent_predicted_testBO = xgbr_final_I_percent.predict(features_testBO)\n",
    "Norm_I_Max_predicted_testBO = xgbr_norm_I_max.predict(features_testBO)\n",
    "Norm_charge_tot_testBO = xgbr_norm_charge_total.predict(features_testBO)"
   ]
  },
  {
   "cell_type": "code",
   "execution_count": 159,
   "metadata": {},
   "outputs": [],
   "source": [
    "# Porxy properties, as well as process parameters\n",
    "features_testBO = np.concatenate ((charge_density_testBO,\n",
    "                                   material_type_testBO,\n",
    "                                   pulsetime_testBO,\n",
    "                                   Pretreat_voltage_testBO,\n",
    "                                   atmosphere_type_testBO,\n",
    "                                   Final_Current_Percent_predicted_testBO.reshape(-1, 1),\n",
    "                                   Norm_I_Max_predicted_testBO.reshape(-1, 1),\n",
    "                                   Norm_charge_tot_testBO.reshape(-1, 1)), axis=1)"
   ]
  },
  {
   "cell_type": "code",
   "execution_count": 160,
   "metadata": {},
   "outputs": [
    {
     "data": {
      "text/plain": [
       "array([93.9209726443769, 0, 0, 0, 225, 25, 0, 0, 0.3791537582874298,\n",
       "       667.943115234375, 28.382413864135742], dtype=object)"
      ]
     },
     "execution_count": 160,
     "metadata": {},
     "output_type": "execute_result"
    }
   ],
   "source": [
    "features_testBO[0]"
   ]
  },
  {
   "cell_type": "code",
   "execution_count": 163,
   "metadata": {},
   "outputs": [
    {
     "name": "stdout",
     "output_type": "stream",
     "text": [
      "R-squared:  0.7700114462778855\n"
     ]
    },
    {
     "data": {
      "text/plain": [
       "Text(0, 0.5, 'Predicted Graphene Yield %')"
      ]
     },
     "execution_count": 163,
     "metadata": {},
     "output_type": "execute_result"
    },
    {
     "data": {
      "image/png": "[encoded data removed]",
      "text/plain": [
       "<Figure size 432x288 with 1 Axes>"
      ]
     },
     "metadata": {
      "needs_background": "light"
     },
     "output_type": "display_data"
    }
   ],
   "source": [
    "graphene_yield_testBO = np.array (df_testBO['Graphene_Yield']).reshape(-1, 1)\n",
    "graphene_yield_testBO = graphene_yield_testBO\n",
    "graphene_yield_testBO_predicted = xgbr_graphyield.predict (features_testBO)\n",
    "\n",
    "print ('R-squared: ', r2_score(graphene_yield_testBO, graphene_yield_testBO_predicted))\n",
    "plt.scatter(100*graphene_yield_testBO, 100*graphene_yield_testBO_predicted)\n",
    "plt.xlabel('True Graphene Yield %')\n",
    "plt.ylabel('Predicted Graphene Yield %')"
   ]
  },
  {
   "cell_type": "code",
   "execution_count": 177,
   "metadata": {},
   "outputs": [
    {
     "data": {
      "text/plain": [
       "[<matplotlib.lines.Line2D at 0x7f4f04f54f40>]"
      ]
     },
     "execution_count": 177,
     "metadata": {},
     "output_type": "execute_result"
    },
    {
     "data": {
      "image/png": "[encoded data removed]",
      "text/plain": [
       "<Figure size 432x288 with 1 Axes>"
      ]
     },
     "metadata": {
      "needs_background": "light"
     },
     "output_type": "display_data"
    }
   ],
   "source": [
    "# Plot predictions vs actual values\n",
    "# Plot style\n",
    "fig, ax = plt.subplots(figsize=(6,4))\n",
    "ax.tick_params(direction='in', length=4, width=1.5, colors='black', grid_alpha=0, labelsize='14')\n",
    "ax.set_xlim(0, 1)\n",
    "ax.set_ylim(0, 1)\n",
    "\n",
    "# Predicted 2D/G\n",
    "\n",
    "plt.plot(graphene_yield_testBO, graphene_yield_testBO_predicted,\n",
    "         linestyle = 'none', marker = 'o', color='black', markersize='8')\n",
    "plt.title('Test Data', fontsize='18', fontname='Arial', fontweight='bold')\n",
    "plt.xlabel('Actual', fontsize='18', fontname='Arial', fontweight='bold')\n",
    "plt.ylabel('Predicted', fontsize='18', fontname='Arial', fontweight='bold')\n",
    "\n",
    "ymin, ymax = plt.ylim()\n",
    "plt.xlim(ymin, ymax)\n",
    "plt.ylim(ymin, ymax)\n",
    "# Make a red line to show perfect predictions\n",
    "x2 = np.arange(0, 100, 1)\n",
    "y2 = np.arange(0, 100, 1)\n",
    "plt.plot(x2,y2, linestyle='--', linewidth = '3', color='red')"
   ]
  },
  {
   "cell_type": "code",
   "execution_count": 178,
   "metadata": {},
   "outputs": [
    {
     "data": {
      "image/png": "[encoded data removed]",
      "text/plain": [
       "<Figure size 432x288 with 2 Axes>"
      ]
     },
     "metadata": {
      "needs_background": "light"
     },
     "output_type": "display_data"
    }
   ],
   "source": [
    "# Plot pred vs. true values for test set, coloring the charge density\n",
    "df_testBO ['y_pred'] = graphene_yield_testBO_predicted\n",
    "df_testBO ['y_true'] = graphene_yield_testBO\n",
    "df_testBO ['charge_density'] = charge_density_testBO \n",
    "\n",
    "groups = df_testBO.groupby(['Material'])\n",
    "fig, ax = plt.subplots(figsize=(6,4))\n",
    "ax.tick_params(direction='in', length=4, width=1.5, colors='black', grid_alpha=0, labelsize='14')\n",
    "ax.set_xlim(0,1)\n",
    "ax.set_ylim(0,1)\n",
    "\n",
    "for name, group in groups:\n",
    "    p = ax.scatter(group.y_true, group.y_pred, c=group.charge_density, marker='o', s=100, cmap='Blues')\n",
    "    \n",
    "cb = fig.colorbar(p, ax=ax)\n",
    "cb.set_label('Charge Density (C/g)', fontsize='18', fontname='Arial', fontweight='bold')\n",
    "cb.ax.tick_params(labelsize=14)\n",
    "\n",
    "\n",
    "# plt.title('Test Data', fontsize='18', fontname='Arial', fontweight='bold')\n",
    "ax.set_ylabel('Predicted Yield', fontsize='18', fontname='Arial', fontweight='bold')\n",
    "ax.set_xlabel('Actual Yield', fontsize='18', fontname='Arial', fontweight='bold')\n",
    "ymin, ymax = plt.ylim()\n",
    "ax.set_xlim(ymin, ymax)\n",
    "ax.set_ylim(ymin, ymax)\n",
    "# Make a red line to show perfect predictions\n",
    "x2 = np.arange(ymin, ymax*1.1, .01)\n",
    "y2 = np.arange(ymin, ymax*1.1, .01)\n",
    "ax.plot(x2,y2, linestyle='--', linewidth = '3', color='red')\n",
    "# ax.legend(fontsize=12)\n",
    "\n",
    "# Plot\n",
    "# plt.plot(df['I_Max'],df['Graphene_Yield'], linestyle = 'none', marker = 'o', color='black', markersize='8')\n",
    "# plt.xlabel('Flash Voltage (V)', fontsize='18', fontname='Arial', fontweight='bold')\n",
    "# plt.ylabel('D/G Ratio', fontsize='18', fontname='Arial', fontweight='bold')\n",
    "\n",
    "# Save\n",
    "plt.tight_layout()\n",
    "# plt.savefig('XGB_Regression_Performance_colorChargeDensity.png', dpi=300)\n",
    "plt.show()"
   ]
  }
 ],
 "metadata": {
  "kernelspec": {
   "display_name": "Python 3 (ipykernel)",
   "language": "python",
   "name": "python3"
  },
  "language_info": {
   "codemirror_mode": {
    "name": "ipython",
    "version": 3
   },
   "file_extension": ".py",
   "mimetype": "text/x-python",
   "name": "python",
   "nbconvert_exporter": "python",
   "pygments_lexer": "ipython3",
   "version": "3.9.10"
  }
 },
 "nbformat": 4,
 "nbformat_minor": 4
}
