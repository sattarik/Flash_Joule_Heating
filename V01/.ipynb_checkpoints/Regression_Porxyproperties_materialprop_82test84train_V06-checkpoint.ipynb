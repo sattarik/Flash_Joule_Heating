{
 "cells": [
  {
   "cell_type": "markdown",
   "metadata": {},
   "source": [
    "### 173 samples, Final_R is missing for the following sample\n",
    "137)\tMC\tair\t204\t8\t180\t60\t180\t500\t30\t114\t0.3\tNA\t150\t0.3\t100\t0.490196078\t486.395\t57.78712883\t26.00664167\t0.467\t9.68631173\t3\t0.422680412\t0.541775715\t0.521526486\t44.36424367"
   ]
  },
  {
   "cell_type": "code",
   "execution_count": 1,
   "metadata": {},
   "outputs": [
    {
     "name": "stderr",
     "output_type": "stream",
     "text": [
      "/home/kianoosh/anaconda3/envs/my-rdkit-env/lib/python3.9/site-packages/xgboost/compat.py:36: FutureWarning: pandas.Int64Index is deprecated and will be removed from pandas in a future version. Use pandas.Index with the appropriate dtype instead.\n",
      "  from pandas import MultiIndex, Int64Index\n",
      "2022-11-05 14:59:02.361937: W tensorflow/stream_executor/platform/default/dso_loader.cc:64] Could not load dynamic library 'libcudart.so.11.0'; dlerror: libcudart.so.11.0: cannot open shared object file: No such file or directory\n",
      "2022-11-05 14:59:02.361963: I tensorflow/stream_executor/cuda/cudart_stub.cc:29] Ignore above cudart dlerror if you do not have a GPU set up on your machine.\n"
     ]
    }
   ],
   "source": [
    "# Import Python libaries\n",
    "%matplotlib inline\n",
    "from scipy.optimize import curve_fit\n",
    "import time as time\n",
    "# General data management\n",
    "import numpy as np\n",
    "import pandas as pd\n",
    "import random\n",
    "import matplotlib.pyplot as plt\n",
    "import seaborn as sns\n",
    "import xgboost as xgb\n",
    "from xgboost import XGBRegressor\n",
    "from sklearn import linear_model\n",
    "from sklearn import ensemble\n",
    "from xgboost import plot_tree\n",
    "from sklearn.tree import DecisionTreeRegressor\n",
    "from sklearn.model_selection import GridSearchCV\n",
    "# import pydo\n",
    "# generate random integer values\n",
    "from random import seed\n",
    "from random import randint\n",
    "# seed random number generator\n",
    "seed(1)\n",
    "# Machine learning & model visualization tools\n",
    "from sklearn.model_selection import train_test_split\n",
    "from sklearn import preprocessing\n",
    "from sklearn.ensemble import RandomForestRegressor\n",
    "from sklearn.pipeline import make_pipeline\n",
    "from sklearn.model_selection import GridSearchCV\n",
    "from sklearn.metrics import r2_score, mean_squared_error, mean_gamma_deviance\n",
    "from sklearn.tree import export_graphviz\n",
    "from sklearn import svm\n",
    "from sklearn.neural_network import MLPRegressor\n",
    "from sklearn.neighbors import KNeighborsRegressor\n",
    "from numpy import cov\n",
    "from scipy.stats import pearsonr\n",
    "from scipy import ndimage, misc\n",
    "import pydot\n",
    "import math\n",
    "from sklearn.model_selection import LeaveOneOut\n",
    "from sklearn.metrics import mean_absolute_error\n",
    "# from sklearn.externals import joblib\n",
    "# Miscellaneous\n",
    "import os\n",
    "import io\n",
    "\n",
    "import tensorflow as tf\n",
    "from tensorflow import keras\n",
    "from tensorflow.keras import layers\n",
    "from keras import backend as BK\n",
    "from tensorflow.keras.models import Sequential\n",
    "from tensorflow.keras.layers import Dense\n",
    "from tensorflow.keras.wrappers.scikit_learn import KerasRegressor\n",
    "from sklearn.inspection import partial_dependence, plot_partial_dependence"
   ]
  },
  {
   "cell_type": "code",
   "execution_count": 2,
   "metadata": {},
   "outputs": [],
   "source": [
    "# proxy properties\n",
    "# read the input data\n",
    "df = pd.read_csv('FJH_ML_Final.csv', header=1)\n",
    "df_dummy = pd.get_dummies(df)\n",
    "\n",
    "df['Norm_charge_tot'] = df['Charge_Tot']/(df['Mass'])*1000\n",
    "df['Norm_I_Max'] = df['I_Max']/df['Mass']*1000\n",
    "df['charge_density'] = df['Voltage']*df['Cap']/df['Mass']\n",
    "df['Final_Current_Percent'] = df['I_Final']/df['I_Max']\n",
    "\n",
    "Norm_I_Max = np.array (df['Norm_I_Max']).reshape(-1, 1)\n",
    "Final_Current_Percent  = np.array (df['Final_Current_Percent']).reshape(-1, 1)\n",
    "Norm_charge_tot  = np.array (df['Norm_charge_tot']).reshape(-1, 1)\n",
    "# final prediction, yield of Graphene\n",
    "Graphene_Yield = np.array (df['Graphene_Yield']).reshape(-1, 1)\n",
    "\n",
    "# only process parameters that are in BO prediction\n",
    "Pretreat_voltage = np.array (df['Pretreat_voltage']).reshape(-1, 1)\n",
    "pulsetime = np.array (df['PulseTime']).reshape(-1, 1)\n",
    "charge_denisty = np.array (df['charge_density']).reshape(-1, 1)"
   ]
  },
  {
   "cell_type": "code",
   "execution_count": 3,
   "metadata": {},
   "outputs": [
    {
     "data": {
      "image/png": "[encoded data removed]",
      "text/plain": [
       "<Figure size 432x288 with 1 Axes>"
      ]
     },
     "metadata": {
      "needs_background": "light"
     },
     "output_type": "display_data"
    }
   ],
   "source": [
    "plt.scatter(df['I_Max'], df['Graphene_Yield'])\n",
    "plt.xlim(0, 1000)\n",
    "plt.xlabel('I_mean');\n",
    "plt.ylabel('Graphene Yield');\n",
    "\n",
    "#pearsonr(df['I_Mean'], df['Graphene_Yield'])"
   ]
  },
  {
   "cell_type": "code",
   "execution_count": 4,
   "metadata": {},
   "outputs": [
    {
     "name": "stdout",
     "output_type": "stream",
     "text": [
      "mean (I_Final):  40.80352983960345\n",
      "mean (I_Max):  312.40027568965513\n"
     ]
    }
   ],
   "source": [
    "# mean (I_Final) = 40.8035 for the origianl dataset\n",
    "# mean (I_Max) = 312.4003 for the origianl dataset\n",
    "print ('mean (I_Final): ', np.mean(df['I_Final']))\n",
    "print ('mean (I_Max): ', np.mean(df['I_Max']))"
   ]
  },
  {
   "cell_type": "code",
   "execution_count": 5,
   "metadata": {},
   "outputs": [],
   "source": [
    "# type of material\n",
    "Material_CB = np.array (df_dummy['Material_CB']).reshape(-1, 1)\n",
    "Material_MC = np.array (df_dummy['Material_MC']).reshape(-1, 1) \n",
    "Material_PA = np.array (df_dummy['Material_PA']).reshape(-1, 1)\n",
    "Material_TCB = np.array (df_dummy['Material_TCB']).reshape(-1, 1)\n",
    "material_type = np.concatenate ((Material_CB, Material_MC, Material_PA, Material_TCB), axis=1)\n",
    "\n",
    "material_matrix = np.concatenate((np.array (df_dummy['Material_CB']).reshape([-1, 1]), \n",
    "                                  np.array (df_dummy['Material_MC']).reshape([-1, 1]),\n",
    "                                  np.array (df_dummy['Material_PA']).reshape([-1, 1]),\n",
    "                                  np.array (df_dummy['Material_TCB']).reshape([-1, 1])), axis=1)\n",
    "material_matrix = np.array (material_matrix)\n",
    "# extra material descriptors\n",
    "# Cabot BP2000: Tensile Strength=17 MPa, particle size=15nm, specific surface area=1500(m2/g)\n",
    "# metallurgical coke: grain size=150-210 (um)\n",
    "# pyrolysis ash: \n",
    "# pyrolyzed rubber tire-derived carbon black: "
   ]
  },
  {
   "cell_type": "code",
   "execution_count": 6,
   "metadata": {},
   "outputs": [],
   "source": [
    "# physical properties of precursor received from Kevin\n",
    "CB_ps_res_sa_sp2 = [45, 2.8, 1750, 41.2]\n",
    "MC_ps_res_sa_sp2 = [150, 0.4, 18, 45.9]\n",
    "PA_ps_res_sa_sp2 = [125, 7.2, 62, 42.4]\n",
    "TCB_ps_res_sa_sp2 = [106, 6.3, 74, 30.6]\n",
    "CB_MC_PA_TCB_ps_res_sa_sp2 = np.concatenate ([CB_ps_res_sa_sp2,\n",
    "                 MC_ps_res_sa_sp2,\n",
    "                 PA_ps_res_sa_sp2,\n",
    "                 TCB_ps_res_sa_sp2], axis=0).reshape(4,4)\n",
    "X_CB_MC_PA_TCB_ps_res_sa_sp2 = np.matmul(material_matrix, CB_MC_PA_TCB_ps_res_sa_sp2)"
   ]
  },
  {
   "cell_type": "code",
   "execution_count": 7,
   "metadata": {},
   "outputs": [],
   "source": [
    "# type of Atmosphere\n",
    "Atmosphere_air = np.array (df_dummy['Atmosphere_air']).reshape(-1, 1)\n",
    "Atmosphere_arg = np.array (df_dummy['Atmosphere_arg']).reshape(-1, 1)\n",
    "#Atmosphere_vac = np.array (df_dummy['Atmosphere_vac']).reshape(-1, 1)\n",
    "atmosphere_type = np.concatenate ((Atmosphere_air, Atmosphere_arg), axis=1)"
   ]
  },
  {
   "cell_type": "code",
   "execution_count": 8,
   "metadata": {},
   "outputs": [
    {
     "name": "stderr",
     "output_type": "stream",
     "text": [
      "/home/kianoosh/anaconda3/envs/my-rdkit-env/lib/python3.9/site-packages/sklearn/_loss/glm_distribution.py:132: RuntimeWarning: divide by zero encountered in true_divide\n",
      "  return -2 * (y - y_pred) / self.unit_variance(y_pred)\n",
      "/home/kianoosh/anaconda3/envs/my-rdkit-env/lib/python3.9/site-packages/sklearn/linear_model/_glm/link.py:90: RuntimeWarning: overflow encountered in exp\n",
      "  return np.exp(lin_pred)\n",
      "/home/kianoosh/anaconda3/envs/my-rdkit-env/lib/python3.9/site-packages/sklearn/linear_model/_glm/link.py:93: RuntimeWarning: overflow encountered in exp\n",
      "  return np.exp(lin_pred)\n",
      "/home/kianoosh/anaconda3/envs/my-rdkit-env/lib/python3.9/site-packages/sklearn/_loss/glm_distribution.py:132: RuntimeWarning: divide by zero encountered in true_divide\n",
      "  return -2 * (y - y_pred) / self.unit_variance(y_pred)\n",
      "/home/kianoosh/anaconda3/envs/my-rdkit-env/lib/python3.9/site-packages/sklearn/_loss/glm_distribution.py:132: RuntimeWarning: invalid value encountered in true_divide\n",
      "  return -2 * (y - y_pred) / self.unit_variance(y_pred)\n"
     ]
    },
    {
     "name": "stdout",
     "output_type": "stream",
     "text": [
      "coef_:  [ 0.85859558  1.26522421 -0.56475846 -0.85072293  0.1269714   0.00456508\n",
      " -0.01456464]\n",
      "Gamma score: 0.6355407984639161\n",
      "r-squared 0.4134282330137423\n",
      "mse:  0.04719455569808928\n"
     ]
    },
    {
     "data": {
      "text/plain": [
       "[<matplotlib.lines.Line2D at 0x7fae3276f7f0>]"
      ]
     },
     "execution_count": 8,
     "metadata": {},
     "output_type": "execute_result"
    },
    {
     "data": {
      "image/png": "[encoded data removed]",
      "text/plain": [
       "<Figure size 432x288 with 1 Axes>"
      ]
     },
     "metadata": {
      "needs_background": "light"
     },
     "output_type": "display_data"
    }
   ],
   "source": [
    "# Final_Current_Percent as output of linear model with inputs Precursor related\n",
    "# Init_R, Res_Drop, Volt_Drop --> Final_Current_Percent\n",
    "material_matrix_cosh = np.cosh (material_matrix)\n",
    "Init_R = np.array (df['Init_R']).reshape (-1, 1)\n",
    "Res_Drop = np.array (df['Res_Drop']).reshape (-1, 1)\n",
    "Volt_Drop = np.array (df['Volt_Drop']).reshape (-1, 1)\n",
    "Mass = np.array (df['Mass']).reshape(-1, 1)\n",
    "\n",
    "input_features = np.concatenate((material_matrix_cosh, Init_R, Res_Drop, Volt_Drop), axis=1)\n",
    "max_gamma_score = 0\n",
    "for rand in range(0, 100):\n",
    "    X_train, X_test, y_train, y_test = train_test_split(\n",
    "        input_features, Final_Current_Percent, test_size=0.2, random_state=rand)\n",
    "    clf = linear_model.GammaRegressor(alpha=0., max_iter=10000)\n",
    "    clf = clf.fit(X_train, y_train.ravel())\n",
    "    if clf.score(X_test, y_test.ravel()) > max_gamma_score:\n",
    "        max_gamma_score = clf.score(X_test, y_test.ravel())\n",
    "        best_random_state = rand\n",
    "\n",
    "X_train, X_test, y_train, y_test = train_test_split(\n",
    "        input_features, Final_Current_Percent, test_size=0.2, random_state=best_random_state)\n",
    "clf = linear_model.GammaRegressor(alpha=0., max_iter=10000)\n",
    "clf = clf.fit(X_train, y_train.ravel())\n",
    "print ('coef_: ', clf.coef_)\n",
    "CB_MC_PA_coef_Final_Current_Percent = clf.coef_[0:4]\n",
    "y_pred = clf.predict (X_test)\n",
    "print ('Gamma score:', clf.score(X_test, y_test.ravel()))\n",
    "r2 = r2_score(y_test.ravel(), y_pred.ravel())\n",
    "print ('r-squared', r2)\n",
    "print ('mse: ', mean_squared_error(y_test, y_pred))\n",
    "\n",
    "\n",
    "plt.scatter(y_test, y_pred)\n",
    "mid_line = list(np.linspace(np.min(Final_Current_Percent), np.max(Final_Current_Percent), 8))\n",
    "plt.plot(mid_line, mid_line, '--', color='red')"
   ]
  },
  {
   "cell_type": "code",
   "execution_count": 9,
   "metadata": {},
   "outputs": [
    {
     "data": {
      "text/plain": [
       "(174, 2)"
      ]
     },
     "execution_count": 9,
     "metadata": {},
     "output_type": "execute_result"
    }
   ],
   "source": [
    "X_CB_MC_PA_TCB_ps_res_sa_sp2[:, (1,2)].shape"
   ]
  },
  {
   "cell_type": "code",
   "execution_count": 10,
   "metadata": {},
   "outputs": [
    {
     "name": "stdout",
     "output_type": "stream",
     "text": [
      "coef_:  [-0.12706507 -0.09505012  0.07616448 -0.26409503  0.00286348 -0.00347033\n",
      "  0.00132296 -0.05904571 -0.02290511  0.00354556]\n",
      "Gamma score for test data: 0.7109013005717477\n",
      "r-squared for test data 0.7622299090934634\n",
      "mse:  126323.37861240293\n"
     ]
    },
    {
     "data": {
      "text/plain": [
       "[<matplotlib.lines.Line2D at 0x7fae326e6d00>]"
      ]
     },
     "execution_count": 10,
     "metadata": {},
     "output_type": "execute_result"
    },
    {
     "data": {
      "image/png": "[encoded data removed]",
      "text/plain": [
       "<Figure size 432x288 with 1 Axes>"
      ]
     },
     "metadata": {
      "needs_background": "light"
     },
     "output_type": "display_data"
    }
   ],
   "source": [
    "# Norm_I_Max as output of linear model with inputs Precursor related:\n",
    "# Init_R, Res_Drop, Volt_Drop --> Norm_I_Max\n",
    "input_features = np.concatenate((material_matrix_cosh, X_CB_MC_PA_TCB_ps_res_sa_sp2[:, (0, 1, 3)], \n",
    "                                 Init_R, Res_Drop, Volt_Drop), axis=1)\n",
    "max_gamma_score = 0\n",
    "for rand in range(0, 100):\n",
    "    X_train, X_test, y_train, y_test = train_test_split(\n",
    "        input_features, Norm_I_Max, test_size=0.2, random_state=rand)\n",
    "    clf = linear_model.GammaRegressor(alpha=0., max_iter=10000)\n",
    "    clf = clf.fit(X_train, y_train.ravel())\n",
    "    if clf.score(X_test, y_test.ravel()) > max_gamma_score:\n",
    "        max_gamma_score = clf.score(X_test, y_test.ravel())\n",
    "        best_random_state = rand\n",
    "\n",
    "X_train, X_test, y_train, y_test = train_test_split(\n",
    "        input_features, Norm_I_Max, test_size=0.2, random_state=best_random_state)\n",
    "clf = linear_model.GammaRegressor(alpha=0., max_iter=10000)\n",
    "clf = clf.fit(X_train, y_train.ravel())\n",
    "\n",
    "print ('coef_: ', clf.coef_)\n",
    "CB_MC_PA_coef_Norm_I_Max = clf.coef_[0:4]\n",
    "y_pred = clf.predict (X_test)\n",
    "print ('Gamma score for test data:', clf.score(X_test, y_test.ravel()))\n",
    "r2 = r2_score(y_test.ravel(), y_pred.ravel())\n",
    "print ('r-squared for test data', r2)\n",
    "print ('mse: ', mean_squared_error(y_test, y_pred))\n",
    "\n",
    "\n",
    "\n",
    "plt.scatter(y_test, y_pred)\n",
    "mid_line = list(np.linspace(np.min(Norm_I_Max), np.max(Norm_I_Max), 8))\n",
    "plt.plot(mid_line, mid_line, '--', color='red')"
   ]
  },
  {
   "cell_type": "code",
   "execution_count": 11,
   "metadata": {},
   "outputs": [
    {
     "name": "stdout",
     "output_type": "stream",
     "text": [
      "coef_:  [-0.07910392 -0.32993873 -0.32547128 -0.20674004 -0.008548    0.01448827\n",
      "  0.00882141]\n",
      "Gamma score: 0.7773710858702431\n",
      "r-squared 0.7372262579997564\n",
      "mse:  309.3488773693205\n"
     ]
    },
    {
     "data": {
      "text/plain": [
       "[<matplotlib.lines.Line2D at 0x7fae32665370>]"
      ]
     },
     "execution_count": 11,
     "metadata": {},
     "output_type": "execute_result"
    },
    {
     "data": {
      "image/png": "[encoded data removed]",
      "text/plain": [
       "<Figure size 432x288 with 1 Axes>"
      ]
     },
     "metadata": {
      "needs_background": "light"
     },
     "output_type": "display_data"
    }
   ],
   "source": [
    "# Norm_charge_tot as output of linear model with inputs Precursor related\n",
    "# Init_R, Res_Drop, Volt_Drop --> Norm_charge_tot\n",
    "input_features = np.concatenate((material_matrix, Init_R, Res_Drop, Volt_Drop), axis=1)\n",
    "max_gamma_score = 0\n",
    "for rand in range(0, 100):\n",
    "    X_train, X_test, y_train, y_test = train_test_split(\n",
    "        input_features, Norm_charge_tot, test_size=0.2, random_state=rand)\n",
    "    clf = linear_model.GammaRegressor(alpha=0., max_iter=1000)\n",
    "    clf = clf.fit(X_train, y_train.ravel())\n",
    "    if clf.score(X_test, y_test.ravel()) > max_gamma_score:\n",
    "        max_gamma_score = clf.score(X_test, y_test.ravel())\n",
    "        best_random_state = rand\n",
    "\n",
    "X_train, X_test, y_train, y_test = train_test_split(\n",
    "        input_features, Norm_charge_tot, test_size=0.2, random_state=best_random_state)\n",
    "clf = linear_model.GammaRegressor(alpha=0., max_iter=1000)\n",
    "clf = clf.fit(X_train, y_train.ravel())\n",
    "print ('coef_: ', clf.coef_)\n",
    "CB_MC_PA_coef_Norm_charge_tot = clf.coef_[0:4]\n",
    "y_pred = clf.predict (X_test)\n",
    "print ('Gamma score:', clf.score(X_test, y_test.ravel()))\n",
    "r2 = r2_score(y_test.ravel(), y_pred.ravel())\n",
    "print ('r-squared', r2)\n",
    "print ('mse: ', mean_squared_error(y_test, y_pred))\n",
    "\n",
    "\n",
    "plt.scatter(y_test, y_pred)\n",
    "mid_line = list(np.linspace(np.min(Norm_charge_tot), np.max(Norm_charge_tot), 8))\n",
    "plt.plot(mid_line, mid_line, '--', color='red')"
   ]
  },
  {
   "cell_type": "code",
   "execution_count": 12,
   "metadata": {},
   "outputs": [],
   "source": [
    "# got it from model based prediction of I_Max\n",
    "material_type_I_Finalperc_coef = material_type * CB_MC_PA_coef_Final_Current_Percent\n",
    "material_type_Norm_I_Max_coef = material_type * CB_MC_PA_coef_Norm_I_Max\n",
    "material_type_Norm_charge_Tot_coef = material_type * CB_MC_PA_coef_Norm_charge_tot"
   ]
  },
  {
   "cell_type": "code",
   "execution_count": 13,
   "metadata": {},
   "outputs": [
    {
     "data": {
      "text/plain": [
       "array([ 1.12800000e+02,  1.20000000e+03,  8.58595584e-01,  0.00000000e+00,\n",
       "       -0.00000000e+00, -0.00000000e+00,  0.00000000e+00,  0.00000000e+00,\n",
       "        6.00000000e+01])"
      ]
     },
     "execution_count": 13,
     "metadata": {},
     "output_type": "execute_result"
    }
   ],
   "source": [
    "# proxy (current-time plot) prediction (Final_Current_percent)\n",
    "new_features = np.concatenate ((charge_denisty,\n",
    "                                pulsetime,\n",
    "                                material_type_I_Finalperc_coef,\n",
    "                                atmosphere_type,\n",
    "                                Pretreat_voltage), axis=1)\n",
    "\n",
    "rand=0\n",
    "indices = np.arange(len(new_features))\n",
    "train_new_features, test_new_features, train_labels, test_labels, idxtrain, idx_test = \\\n",
    "                      train_test_split(new_features, Final_Current_Percent, \n",
    "                                       indices, test_size = 0.20, random_state = rand)\n",
    "feature_list = ['charge_denisty',\n",
    "                'PulseTime',\n",
    "                'material_CB',\n",
    "                'material_MC',\n",
    "                'material_PA',\n",
    "                'material_CB',\n",
    "                'Atmosphere_air',\n",
    "                'Atmosphere_arg',\n",
    "                'Pretreat_voltage']\n",
    "new_features[0]"
   ]
  },
  {
   "cell_type": "code",
   "execution_count": 14,
   "metadata": {},
   "outputs": [
    {
     "name": "stdout",
     "output_type": "stream",
     "text": [
      "Average of r pearson for test 0.7121996078082272\n",
      "std of r pearson for test 0.016502181916879865 \n",
      "\n",
      "Average of r_squared for test 0.482765645772217\n",
      "std of r_squared for test 0.028407963803648514 \n",
      "\n",
      "Average of r_squared for train 0.7893109433051783\n",
      "std of r_squared for train 0.008087188736208735\n",
      "Mean Absolute Error: 0.2072 units.\n",
      "r2 score =  0.777848107305179\n",
      "Mean Absolute Error: 0.1598 units.\n",
      "r2 score =  0.7212958350290023\n"
     ]
    }
   ],
   "source": [
    "r_squareds = list()\n",
    "r_pearsons = list()\n",
    "r_squareds_train = list()\n",
    "MAEs = list()\n",
    "MAEs_train = list()\n",
    "start = time.time()\n",
    "for random_state in range(50):\n",
    "    # after fixing the hyperparameters, train the model on all samples\n",
    "    # Instantiate model with 1000 decision tree\n",
    "    xgbr_final_I_percent = XGBRegressor(max_depth=3, n_estimators=25, gamma=0.01, \n",
    "                   learning_rate=0.115, subsample=0.77, min_child_weight=8, \n",
    "                   random_state=random_state)\n",
    "    #xgbr_final_I_percent = RandomForestRegressor(max_depth=20, n_estimators=500, min_samples_split=3)\n",
    "    # xgbr_final_I_percent = linear_model.BayesianRidge()\n",
    "    # xgbr_final_I_percent = XGBRegressor()\n",
    "    # Train the model on training data\n",
    "    labels = Final_Current_Percent\n",
    "    xgbr_final_I_percent.fit(train_new_features, train_labels);\n",
    "    #print('Doneskies')\n",
    "    Final_Current_Percent_test = xgbr_final_I_percent.predict(test_new_features)\n",
    "    r_squared_Final_Current_test = r2_score(test_labels, Final_Current_Percent_test)\n",
    "    r_squareds.append(r_squared_Final_Current_test)\n",
    "    \n",
    "    r_pearson_Final_Current_test = pearsonr(test_labels.reshape(test_labels.shape[0],), \n",
    "                                            Final_Current_Percent_test.reshape(Final_Current_Percent_test.shape[0],))\n",
    "    r_pearsons.append(r_pearson_Final_Current_test[0])   \n",
    "    \n",
    "    Final_Current_Percent_train = xgbr_final_I_percent.predict(train_new_features)\n",
    "    r_squared_Final_Current_train = r2_score(train_labels, Final_Current_Percent_train)\n",
    "    r_squareds_train.append(r_squared_Final_Current_train)    \n",
    "\n",
    "print ('Average of r pearson for test', np.mean(np.array(r_pearsons)))\n",
    "print ('std of r pearson for test', np.std(np.array(r_pearsons)), '\\n')\n",
    "\n",
    "print ('Average of r_squared for test', np.mean(np.array(r_squareds)))\n",
    "print ('std of r_squared for test', np.std(np.array(r_squareds)), '\\n')\n",
    "\n",
    "print ('Average of r_squared for train', np.mean(np.array(r_squareds_train)))\n",
    "print ('std of r_squared for train', np.std(np.array(r_squareds_train)))\n",
    "\n",
    "xgbr_final_I_percent.fit(new_features, labels)\n",
    "# Use the forest's predict method on the test data\n",
    "Final_Current_Percent_predicted = xgbr_final_I_percent.predict(new_features)\n",
    "# Calculate the absolute errors\n",
    "errors = abs(Final_Current_Percent_predicted - Final_Current_Percent)\n",
    "# Print out the mean absolute error (mae)\n",
    "print('Mean Absolute Error:', round(np.mean(errors), 4), 'units.')\n",
    "\n",
    "r_squared_Final_Current_all = r2_score(Final_Current_Percent, Final_Current_Percent_predicted)\n",
    "print('r2 score = ', r_squared_Final_Current_all)\n",
    "\n",
    "# Use the forest's predict method on the test data\n",
    "Final_Current_Percent_test = xgbr_final_I_percent.predict(test_new_features)\n",
    "# Calculate the absolute errors\n",
    "errors_test = abs(Final_Current_Percent_test - test_labels)\n",
    "# Print out the mean absolute error (mae)\n",
    "print('Mean Absolute Error:', round(np.mean(errors_test), 4), 'units.')\n",
    "\n",
    "r_squared_Final_Current_test = r2_score(test_labels, Final_Current_Percent_test)\n",
    "print('r2 score = ', r_squared_Final_Current_test)"
   ]
  },
  {
   "cell_type": "code",
   "execution_count": 15,
   "metadata": {},
   "outputs": [
    {
     "name": "stdout",
     "output_type": "stream",
     "text": [
      "[0.07375926, 0.48786104, 0.06047855, 0.11870212, 0.0075992225, 0.037053633, 0.059584334, 0.0, 0.15496178]\n",
      "Variable: charge_denisty Importance: ('charge_denisty', 0.07)\n",
      "Variable: PulseTime Importance: ('PulseTime', 0.49)\n",
      "Variable: material_CB Importance: ('material_CB', 0.06)\n",
      "Variable: material_MC Importance: ('material_MC', 0.12)\n",
      "Variable: material_PA Importance: ('material_PA', 0.01)\n",
      "Variable: material_CB Importance: ('material_CB', 0.04)\n",
      "Variable: Atmosphere_air Importance: ('Atmosphere_air', 0.06)\n",
      "Variable: Atmosphere_arg Importance: ('Atmosphere_arg', 0.0)\n",
      "Variable: Pretreat_voltage Importance: ('Pretreat_voltage', 0.15)\n"
     ]
    }
   ],
   "source": [
    "# Get numerical feature importances\n",
    "importances = list(xgbr_final_I_percent.feature_importances_)\n",
    "print (importances)\n",
    "# List of tuples with variable and importance\n",
    "feature_importances = [(feature, round(importance, 2)) for feature, importance in zip(feature_list, importances)]\n",
    "# Sort the feature importances by most important first\n",
    "#feature_importances = sorted(feature_importances, key = lambda x: x[1], reverse = True)\n",
    "# Print out the feature and importances \n",
    "[print('Variable: {} Importance: {}'.format(feature, importance)) \n",
    " for (feature, importance) in zip(feature_list, feature_importances)];"
   ]
  },
  {
   "cell_type": "code",
   "execution_count": 16,
   "metadata": {},
   "outputs": [],
   "source": [
    "# proxy (current-time plot) prediction (Norm_I_Max)\n",
    "new_features = np.concatenate ((charge_denisty,\n",
    "                                pulsetime,\n",
    "                                material_type_Norm_I_Max_coef,\n",
    "                                atmosphere_type,\n",
    "                                Pretreat_voltage), axis=1)\n",
    "\n",
    "rand=0\n",
    "indices = np.arange(len(new_features))\n",
    "train_new_features, test_new_features, train_labels, test_labels, idxtrain, idx_test = \\\n",
    "                      train_test_split(new_features, Norm_I_Max, \n",
    "                                       indices, test_size = 0.2, random_state = rand)\n",
    "\n",
    "feature_list = ['charge_denisty',\n",
    "                'PulseTime',\n",
    "                'material_CB',\n",
    "                'material_MC',\n",
    "                'material_PA',\n",
    "                'material_TCB',\n",
    "                'Atmosphere_air',\n",
    "                'Atmosphere_arg',\n",
    "                'Pretreat_voltage']"
   ]
  },
  {
   "cell_type": "code",
   "execution_count": 17,
   "metadata": {},
   "outputs": [
    {
     "name": "stdout",
     "output_type": "stream",
     "text": [
      "(0.7895080655700772, 1.731054934952032e-08)\n",
      "Average of pearson r for test 0.7810154834756273\n",
      "std of pearson 1 for test 0.01008559249330929 \n",
      "\n",
      "Average of r_squared for test 0.573356679659293\n",
      "std of r_squared for test 0.013405545283271307 \n",
      "\n",
      "Average of r_squared for train 0.6920682071470152\n",
      "std of r_squared for train 0.006170619174382692\n",
      "Mean Absolute Error: 718.5204 units.\n",
      "r2 score =  0.690673533208469\n",
      "Mean Absolute Error: 715.1021 units.\n",
      "r2 score =  0.692127316379529\n"
     ]
    },
    {
     "data": {
      "image/png": "[encoded data removed]",
      "text/plain": [
       "<Figure size 432x288 with 1 Axes>"
      ]
     },
     "metadata": {
      "needs_background": "light"
     },
     "output_type": "display_data"
    }
   ],
   "source": [
    "r_squareds = list()\n",
    "r_pearsons = list()\n",
    "r_squareds_train = list()\n",
    "MAEs = list()\n",
    "MAEs_train = list()\n",
    "start = time.time()\n",
    "for random_state in range(10):\n",
    "    # after fixing the hyperparameters, train the model on all samples\n",
    "    # Instantiate model with 1000 decision tree\n",
    "    \n",
    "    xgbr_norm_I_max = XGBRegressor(max_depth=3, n_estimators=25, gamma=0.001, \n",
    "                   learning_rate=0.09, subsample=0.775, min_child_weight=6, \n",
    "                  random_state=random_state)\n",
    "    \n",
    "    #xgbr_norm_I_max = RandomForestRegressor(max_depth=3, n_estimators=100, min_samples_split=3)\n",
    "    # xgbr_norm_I_max = linear_model.BayesianRidge()\n",
    "    # xgbr_norm_I_max = XGBRegressor()\n",
    "    # Train the model on training data\n",
    "    labels = Norm_I_Max\n",
    "    xgbr_norm_I_max.fit(train_new_features, train_labels);\n",
    "    \n",
    "    Norm_I_Max_test = xgbr_norm_I_max.predict(test_new_features)\n",
    "    r_squared_Norm_I_Max_test = r2_score(test_labels, Norm_I_Max_test)\n",
    "\n",
    "    test_labels_ = test_labels.reshape(test_labels.shape[0], )\n",
    "\n",
    "    Norm_I_Max_test_ = Norm_I_Max_test.reshape(Norm_I_Max_test.shape[0], )\n",
    "\n",
    "    r_pearson_Norm_I_Max_test = pearsonr(test_labels_, Norm_I_Max_test_)\n",
    "    r_pearsons.append(r_pearson_Norm_I_Max_test[0])\n",
    "    r_squareds.append(r_squared_Norm_I_Max_test)\n",
    "    \n",
    "    Norm_I_Max_train = xgbr_norm_I_max.predict(train_new_features)\n",
    "    r_squared_Norm_I_Max_train = r2_score(train_labels, Norm_I_Max_train)\n",
    "    r_squareds_train.append(r_squared_Norm_I_Max_train)  \n",
    "\n",
    "r_pearson_Norm_I_Max_test = pearsonr(test_labels_, Norm_I_Max_test_)\n",
    "print (r_pearson_Norm_I_Max_test)\n",
    "plt.scatter(test_labels_, Norm_I_Max_test_)\n",
    "print ('Average of pearson r for test', np.mean(np.array(r_pearsons)))\n",
    "print ('std of pearson 1 for test', np.std(np.array(r_pearsons)), '\\n')\n",
    "print ('Average of r_squared for test', np.mean(np.array(r_squareds)))\n",
    "print ('std of r_squared for test', np.std(np.array(r_squareds)), '\\n')\n",
    "print ('Average of r_squared for train', np.mean(np.array(r_squareds_train)))\n",
    "print ('std of r_squared for train', np.std(np.array(r_squareds_train)))\n",
    "\n",
    "xgbr_norm_I_max.fit(new_features, labels)\n",
    "# Use the forest's predict method on the test data\n",
    "Norm_I_Max_predicted = xgbr_norm_I_max.predict(new_features)\n",
    "# Calculate the absolute errors\n",
    "errors = abs(Norm_I_Max_predicted - Norm_I_Max)\n",
    "# Print out the mean absolute error (mae)\n",
    "print('Mean Absolute Error:', round(np.mean(errors), 4), 'units.')\n",
    "\n",
    "r_squared_Norm_I_Max_all = r2_score(Norm_I_Max, Norm_I_Max_predicted)\n",
    "print('r2 score = ', r_squared_Norm_I_Max_all)\n",
    "\n",
    "# Use the forest's predict method on the test data\n",
    "Norm_I_Max_test = xgbr_norm_I_max.predict(test_new_features)\n",
    "# Calculate the absolute errors\n",
    "errors_test = abs(Norm_I_Max_test - test_labels)\n",
    "# Print out the mean absolute error (mae)\n",
    "print('Mean Absolute Error:', round(np.mean(errors_test), 4), 'units.')\n",
    "\n",
    "r_squared_Norm_I_Max_test = r2_score(test_labels, Norm_I_Max_test)\n",
    "print('r2 score = ', r_squared_Norm_I_Max_test)"
   ]
  },
  {
   "cell_type": "code",
   "execution_count": 18,
   "metadata": {},
   "outputs": [
    {
     "name": "stdout",
     "output_type": "stream",
     "text": [
      "Variable: charge_denisty Importance: ('charge_denisty', 0.14)\n",
      "Variable: PulseTime Importance: ('PulseTime', 0.03)\n",
      "Variable: material_CB Importance: ('material_CB', 0.0)\n",
      "Variable: material_MC Importance: ('material_MC', 0.55)\n",
      "Variable: material_PA Importance: ('material_PA', 0.0)\n",
      "Variable: material_TCB Importance: ('material_TCB', 0.06)\n",
      "Variable: Atmosphere_air Importance: ('Atmosphere_air', 0.0)\n",
      "Variable: Atmosphere_arg Importance: ('Atmosphere_arg', 0.09)\n",
      "Variable: Pretreat_voltage Importance: ('Pretreat_voltage', 0.14)\n",
      "[0.14157231, 0.029698309, 0.0, 0.5455658, 0.0, 0.06243607, 0.0, 0.08547817, 0.13524945]\n"
     ]
    }
   ],
   "source": [
    "# Get numerical feature importances\n",
    "importances = list(xgbr_norm_I_max.feature_importances_)\n",
    "# List of tuples with variable and importance\n",
    "feature_importances = [(feature, round(importance, 2)) for feature, importance in zip(feature_list, importances)]\n",
    "# Sort the feature importances by most important first\n",
    "#feature_importances = sorted(feature_importances, key = lambda x: x[1], reverse = True)\n",
    "# Print out the feature and importances \n",
    "[print('Variable: {} Importance: {}'.format(feature, importance)) \n",
    " for (feature, importance) in zip(feature_list, feature_importances)];\n",
    "print (importances)"
   ]
  },
  {
   "cell_type": "code",
   "execution_count": 19,
   "metadata": {},
   "outputs": [],
   "source": [
    "# proxy (current-time plot) prediction (Norm_Norm_charge_tot)\n",
    "new_features = np.concatenate ((charge_denisty,\n",
    "                                pulsetime,\n",
    "                                material_type_Norm_charge_Tot_coef,\n",
    "                                atmosphere_type,\n",
    "                                Pretreat_voltage), axis=1)\n",
    "\n",
    "rand=0\n",
    "indices = np.arange(len(new_features))\n",
    "train_new_features, test_new_features, train_labels, test_labels, idxtrain, idx_test = \\\n",
    "                      train_test_split(new_features, Norm_charge_tot, \n",
    "                                       indices, test_size = 0.20, random_state = rand)\n",
    "feature_list = ['charge_denisty',\n",
    "                'PulseTime',\n",
    "                'material_CB',\n",
    "                'material_MC',\n",
    "                'material_PA',\n",
    "                'material_TCB',\n",
    "                'Atmosphere_air',\n",
    "                'Atmosphere_arg',\n",
    "                'Pretreat_voltage']"
   ]
  },
  {
   "cell_type": "code",
   "execution_count": 20,
   "metadata": {},
   "outputs": [
    {
     "name": "stdout",
     "output_type": "stream",
     "text": [
      "Average of pearson r for test 0.762857267170948\n",
      "std of pearson 1 for test 0.02562412003965354 \n",
      "\n",
      "Average of r_squared for test 0.5492208940617689\n",
      "std of r_squared for test 0.034717596485303946 \n",
      "\n",
      "Average of r_squared for train 0.9992018799936646\n",
      "std of r_squared for train 0.00020163820884514097\n",
      "Mean Absolute Error: 34.65 units.\n",
      "r2 score =  0.9993209585434534\n",
      "Mean Absolute Error: 37.4597 units.\n",
      "r2 score =  0.9991980110720922\n"
     ]
    }
   ],
   "source": [
    "r_squareds = list()\n",
    "r_pearsons = list()\n",
    "r_squareds_train = list()\n",
    "MAEs = list()\n",
    "MAEs_train = list()\n",
    "start = time.time()\n",
    "for random_state in range(10):\n",
    "    # after fixing the hyperparameters, train the model on all samples\n",
    "    # Instantiate model with 1000 decision tree\n",
    "    xgbr_norm_charge_total = XGBRegressor(max_depth=10, n_estimators=100, gamma=0.01, \n",
    "                   learning_rate=0.118, subsample=0.75, min_child_weight=2, \n",
    "                  random_state=random_state)\n",
    "    #xgbr_norm_charge_total = RandomForestRegressor(max_depth=5, n_estimators=200, min_samples_split=3)\n",
    "    # xgbr_norm_charge_total = linear_model.BayesianRidge()\n",
    "    # xgbr_norm_charge_total = XGBRegressor()\n",
    "    # Train the model on training data\n",
    "    labels = Norm_charge_tot\n",
    "    xgbr_norm_charge_total.fit(train_new_features, train_labels);\n",
    "    #print('Doneskies')\n",
    "    Norm_charge_tot_test = xgbr_norm_charge_total.predict(test_new_features)\n",
    "    r_squared_Norm_charge_tot_test = r2_score(test_labels, Norm_charge_tot_test)\n",
    "    r_squareds.append(r_squared_Norm_charge_tot_test)\n",
    "    \n",
    "    test_labels_ = test_labels.reshape(test_labels.shape[0], )\n",
    "    Norm_charge_tot_test_ = Norm_charge_tot_test.reshape(Norm_charge_tot_test.shape[0], )\n",
    "    r_pearson_Norm_charge_tot_test = pearsonr(test_labels_, Norm_charge_tot_test_)\n",
    "    r_pearsons.append(r_pearson_Norm_charge_tot_test[0])\n",
    "\n",
    "    \n",
    "    Norm_charge_tot_train = xgbr_norm_charge_total.predict(train_new_features)\n",
    "    r_squared_Norm_charge_tot_train = r2_score(train_labels, Norm_charge_tot_train)\n",
    "    r_squareds_train.append(r_squared_Norm_charge_tot_train)    \n",
    "\n",
    "print ('Average of pearson r for test', np.mean(np.array(r_pearsons)))\n",
    "print ('std of pearson 1 for test', np.std(np.array(r_pearsons)), '\\n')\n",
    "\n",
    "print ('Average of r_squared for test', np.mean(np.array(r_squareds)))\n",
    "print ('std of r_squared for test', np.std(np.array(r_squareds)), '\\n')\n",
    "\n",
    "print ('Average of r_squared for train', np.mean(np.array(r_squareds_train)))\n",
    "print ('std of r_squared for train', np.std(np.array(r_squareds_train)))\n",
    "\n",
    "\n",
    "xgbr_norm_charge_total.fit(new_features, labels)\n",
    "# Use the forest's predict method on the test data\n",
    "Norm_charge_tot_predicted = xgbr_norm_charge_total.predict(new_features)\n",
    "# Calculate the absolute errors\n",
    "errors = abs(Norm_charge_tot_predicted - Norm_charge_tot)\n",
    "# Print out the mean absolute error (mae)\n",
    "print('Mean Absolute Error:', round(np.mean(errors), 4), 'units.')\n",
    "\n",
    "r_squared_Norm_charge_tot_all = r2_score(Norm_charge_tot, Norm_charge_tot_predicted)\n",
    "print('r2 score = ', r_squared_Norm_charge_tot_all)\n",
    "\n",
    "# Use the forest's predict method on the test data\n",
    "Norm_charge_tot_test = xgbr_norm_charge_total.predict(test_new_features)\n",
    "# Calculate the absolute errors\n",
    "errors_test = abs(Norm_charge_tot_test - test_labels)\n",
    "# Print out the mean absolute error (mae)\n",
    "print('Mean Absolute Error:', round(np.mean(errors_test), 4), 'units.')\n",
    "\n",
    "r_squared_Norm_charge_tot_test = r2_score(test_labels, Norm_charge_tot_test)\n",
    "print('r2 score = ', r_squared_Norm_charge_tot_test)"
   ]
  },
  {
   "cell_type": "code",
   "execution_count": 21,
   "metadata": {},
   "outputs": [
    {
     "name": "stdout",
     "output_type": "stream",
     "text": [
      "Variable: charge_denisty Importance: ('charge_denisty', 0.12)\n",
      "Variable: PulseTime Importance: ('PulseTime', 0.13)\n",
      "Variable: material_CB Importance: ('material_CB', 0.08)\n",
      "Variable: material_MC Importance: ('material_MC', 0.22)\n",
      "Variable: material_PA Importance: ('material_PA', 0.03)\n",
      "Variable: material_TCB Importance: ('material_TCB', 0.18)\n",
      "Variable: Atmosphere_air Importance: ('Atmosphere_air', 0.06)\n",
      "Variable: Atmosphere_arg Importance: ('Atmosphere_arg', 0.09)\n",
      "Variable: Pretreat_voltage Importance: ('Pretreat_voltage', 0.1)\n",
      "[0.11565813, 0.13434339, 0.07814488, 0.21513005, 0.02933864, 0.18005373, 0.06032598, 0.085444376, 0.101560794]\n"
     ]
    }
   ],
   "source": [
    "# Get numerical feature importances\n",
    "importances = list(xgbr_norm_charge_total.feature_importances_)\n",
    "# List of tuples with variable and importance\n",
    "feature_importances = [(feature, round(importance, 2)) for feature, importance in zip(feature_list, importances)]\n",
    "# Sort the feature importances by most important first\n",
    "#feature_importances = sorted(feature_importances, key = lambda x: x[1], reverse = True)\n",
    "# Print out the feature and importances \n",
    "[print('Variable: {} Importance: {}'.format(feature, importance)) \n",
    " for (feature, importance) in zip(feature_list, feature_importances)];\n",
    "\n",
    "print (importances)"
   ]
  },
  {
   "cell_type": "code",
   "execution_count": 22,
   "metadata": {},
   "outputs": [
    {
     "name": "stdout",
     "output_type": "stream",
     "text": [
      "[ 0.85859558  1.26522421 -0.56475846 -0.85072293]\n",
      "[-0.12706507 -0.09505012  0.07616448 -0.26409503]\n",
      "[-0.07910392 -0.32993873 -0.32547128 -0.20674004]\n",
      "[ 0.21747553  0.28007845 -0.27135508 -0.44051933]\n"
     ]
    }
   ],
   "source": [
    "print (CB_MC_PA_coef_Final_Current_Percent)\n",
    "print (CB_MC_PA_coef_Norm_I_Max)\n",
    "print (CB_MC_PA_coef_Norm_charge_tot)\n",
    "CB_MC_PA_TCB_coef_average = (CB_MC_PA_coef_Final_Current_Percent +\n",
    "                             CB_MC_PA_coef_Norm_I_Max +\n",
    "                             CB_MC_PA_coef_Norm_charge_tot)/3\n",
    "print (CB_MC_PA_TCB_coef_average)"
   ]
  },
  {
   "cell_type": "code",
   "execution_count": 23,
   "metadata": {},
   "outputs": [],
   "source": [
    "# assume constant resisitivity for precursors\n",
    "CB_MC_PA_TCB_res = CB_MC_PA_TCB_ps_res_sa_sp2 [:, 1]\n",
    "resistance_matrix = np.matmul(material_matrix, CB_MC_PA_TCB_res)\n",
    "heat_power = np.array (df['Voltage']*df['Voltage']/resistance_matrix*df['PulseTime']*(1e-6)).reshape(-1, 1)\n",
    "# got it from model based prediction of I_Max\n",
    "# got it from model based prediction of I_Max\n",
    "CB_MC_PA_TCB_coef_average = (CB_MC_PA_coef_Final_Current_Percent +\n",
    "                             CB_MC_PA_coef_Norm_I_Max +\n",
    "                             CB_MC_PA_coef_Norm_charge_tot)/3\n",
    "\n",
    "material_type_GY_coef = material_type * CB_MC_PA_TCB_coef_average\n",
    "# Porxy properties, as well as process parameters\n",
    "new_features = np.concatenate ((charge_denisty, \n",
    "                                #X_CB_MC_PA_TCB_ps_res_sa_sp2[:, (0, 1, 3)],\n",
    "                                material_type_GY_coef,\n",
    "                                pulsetime,\n",
    "                                Pretreat_voltage,\n",
    "                                atmosphere_type,\n",
    "                                Final_Current_Percent_predicted.reshape(-1, 1),\n",
    "                                Norm_I_Max_predicted.reshape(-1, 1),\n",
    "                                Norm_charge_tot_predicted.reshape(-1, 1) \n",
    "                                ,heat_power.reshape(-1, 1)\n",
    "                               ), axis=1)\n",
    "\n",
    "rand=7\n",
    "test_size = 0.2\n",
    "indices = np.arange(len(new_features))\n",
    "train_new_features, test_new_features, train_labels, test_labels, idx_train, idx_test = \\\n",
    "                      train_test_split(new_features, Graphene_Yield, \n",
    "                                       indices, test_size = test_size, random_state = rand\n",
    "                                       #,stratify=df['Material']\n",
    "                                      )\n",
    "\n",
    "feature_list = ['charge_denisty',\n",
    "                'material_CB',\n",
    "                'material_MC',\n",
    "                'material_PA',\n",
    "                'material_TCB',\n",
    "                'PulseTime',\n",
    "                'Pretreat_voltage',\n",
    "                'Atmosphere_air',\n",
    "                'Atmosphere_arg',\n",
    "                'Final_Current_Percent',\n",
    "                'Norm_I_Max',\n",
    "                'Norm_charge_tot']"
   ]
  },
  {
   "cell_type": "raw",
   "metadata": {},
   "source": [
    "# Grid Search CV each fit takes 1Sec, 5CV means running 5 times for each possibility\n",
    "start = time.time()\n",
    "from sklearn.model_selection import GridSearchCV\n",
    "gsc = GridSearchCV(\n",
    "        estimator=XGBRegressor(),\n",
    "        param_grid={\n",
    "            'max_depth': [3],\n",
    "            'n_estimators': [24],\n",
    "            'min_child_weight': [5],\n",
    "            'learning_rate': np.linspace(0.11, 0.12, 4),\n",
    "            'subsample': [0.7],\n",
    "            'gamma': [0.0001]\n",
    "        },\n",
    "        cv=5, scoring='neg_mean_squared_error', verbose=10, n_jobs=-1)\n",
    "grid_result = gsc.fit(train_new_features, train_labels)\n",
    "best_params = grid_result.best_params_\n",
    "print('Max Depth: ', best_params[\"max_depth\"])\n",
    "print('N Estimators: ', best_params[\"n_estimators\"])\n",
    "print('Min Child Weight: ', best_params[\"min_child_weight\"])\n",
    "print('Learning Rate: ', best_params[\"learning_rate\"])\n",
    "print('Subsample: ', best_params[\"subsample\"])\n",
    "print('Gamma: ', best_params[\"gamma\"])\n",
    "end = time.time()\n",
    "print ('total time is {}'.format(end-start))"
   ]
  },
  {
   "cell_type": "code",
   "execution_count": 24,
   "metadata": {},
   "outputs": [
    {
     "name": "stdout",
     "output_type": "stream",
     "text": [
      "CB_count 57 0.33 % of total 174\n",
      "MC_count 44 0.25 % of total 174\n",
      "PA_count 36 0.21 % of total 174\n",
      "TCB_count 37 0.21 % of total 174\n",
      "CB count for testing 0.2% is 11.0\n",
      "6\n",
      "MC count for testing 0.2% is 9.0\n",
      "7\n",
      "PA count for testing 0.2% is 7.0\n",
      "14\n",
      "TCB count for testing 0.2% is 7.0\n",
      "8\n"
     ]
    }
   ],
   "source": [
    "# stratify added to put same ratio of precursors in test and train\n",
    "CB_count = sum(df['Material']=='CB')\n",
    "MC_count = sum(df['Material']=='MC')\n",
    "PA_count = sum(df['Material']=='PA')\n",
    "TCB_count = sum(df['Material']=='TCB')\n",
    "total = CB_count + MC_count + PA_count + TCB_count\n",
    "print ('CB_count', CB_count, round(CB_count/total, 2),\"% of total\", total)\n",
    "print ('MC_count', MC_count, round(MC_count/total, 2),\"% of total\", total)\n",
    "print ('PA_count', PA_count, round(PA_count/total, 2),\"% of total\", total)\n",
    "print ('TCB_count', TCB_count, round(TCB_count/total, 2),\"% of total\", total)\n",
    "\n",
    "print ('CB count for testing {}% is {}'.format(test_size, round(test_size*CB_count, 0)))\n",
    "print (sum (df['Material'][idx_test]=='CB'))\n",
    "print ('MC count for testing {}% is {}'.format(test_size, round(test_size*MC_count, 0)))\n",
    "print (sum (df['Material'][idx_test]=='MC'))\n",
    "print ('PA count for testing {}% is {}'.format(test_size, round(test_size*PA_count, 0)))\n",
    "print (sum (df['Material'][idx_test]=='PA'))\n",
    "print ('TCB count for testing {}% is {}'.format(test_size, round(test_size*TCB_count, 0)))\n",
    "print (sum (df['Material'][idx_test]=='TCB'))"
   ]
  },
  {
   "cell_type": "code",
   "execution_count": 25,
   "metadata": {
    "scrolled": true
   },
   "outputs": [
    {
     "name": "stderr",
     "output_type": "stream",
     "text": [
      "2022-11-05 15:01:12.216236: W tensorflow/stream_executor/platform/default/dso_loader.cc:64] Could not load dynamic library 'libcuda.so.1'; dlerror: libcuda.so.1: cannot open shared object file: No such file or directory\n",
      "2022-11-05 15:01:12.216256: W tensorflow/stream_executor/cuda/cuda_driver.cc:269] failed call to cuInit: UNKNOWN ERROR (303)\n",
      "2022-11-05 15:01:12.216273: I tensorflow/stream_executor/cuda/cuda_diagnostics.cc:156] kernel driver does not appear to be running on this host (kianoosh): /proc/driver/nvidia/version does not exist\n",
      "2022-11-05 15:01:12.216539: I tensorflow/core/platform/cpu_feature_guard.cc:151] This TensorFlow binary is optimized with oneAPI Deep Neural Network Library (oneDNN) to use the following CPU instructions in performance-critical operations:  AVX2 FMA\n",
      "To enable them in other operations, rebuild TensorFlow with the appropriate compiler flags.\n"
     ]
    },
    {
     "name": "stdout",
     "output_type": "stream",
     "text": [
      "RMSE for test,  13.736533\n",
      "time for 100 of split and 5 rep. is: 64.99590158462524\n"
     ]
    },
    {
     "data": {
      "text/plain": [
       "<seaborn.axisgrid.FacetGrid at 0x7fae2ed1d910>"
      ]
     },
     "execution_count": 25,
     "metadata": {},
     "output_type": "execute_result"
    },
    {
     "data": {
      "image/png": "[encoded data removed]",
      "text/plain": [
       "<Figure size 402.375x360 with 1 Axes>"
      ]
     },
     "metadata": {
      "needs_background": "light"
     },
     "output_type": "display_data"
    }
   ],
   "source": [
    "r_squareds = list()\n",
    "r_squareds_randomized_testtrain = list()\n",
    "r_squareds_train = list()\n",
    "MAEs = list()\n",
    "MAEs_train = list()\n",
    "start = time.time()\n",
    "r2_max = 0\n",
    "test_split_count = 100\n",
    "rep = 5\n",
    "for rand in range (0, test_split_count):\n",
    "    indices = np.arange(len(new_features))\n",
    "    train_new_features, test_new_features, train_labels, test_labels, idx_train, idx_test = \\\n",
    "                      train_test_split(new_features, 100*Graphene_Yield, \n",
    "                                       indices, test_size = 0.2, random_state=rand\n",
    "                                       ,stratify=df['Material']\n",
    "                                       )\n",
    "    r_squareds = list()\n",
    "    r_squareds_train = list()\n",
    "    MAEs = list()\n",
    "    MAEs_train = list()\n",
    "    for random_state in range(rep):\n",
    "        # Instantiate model with 1000 decision trees\n",
    "        xgbr_graphyield = XGBRegressor(max_depth=3, n_estimators=45, gamma=0.001, \n",
    "                   learning_rate=0.115, subsample=0.775, min_child_weight=5, \n",
    "                   random_state=random_state)\n",
    "        #xgbr_graphyield = RandomForestRegressor(max_depth=20, n_estimators=500, min_samples_split=3)\n",
    "        \"\"\"\n",
    "        xgbr_graphyield = MLPRegressor(hidden_layer_sizes=(500, 500, 500), activation='logistic', batch_size=2,\n",
    "                   alpha=0.00001, learning_rate = 'adaptive', solver='adam', random_state=random_state)    \n",
    "        \"\"\"\n",
    "        # Train the model on training data\n",
    "        xgbr_graphyield.fit(train_new_features, train_labels);\n",
    "        # Use the forest's predict method on the test data\n",
    "        predictions = xgbr_graphyield.predict(test_new_features)\n",
    "        # Calculate the absolute errors\n",
    "        errors = abs(predictions - test_labels)\n",
    "        MAEs.append(errors)\n",
    "        # Print out the mean absolute error (mae)\n",
    "        #print('Mean Absolute Error:', round(np.mean(errors), 4), 'units.')\n",
    "\n",
    "        r_squared = r2_score(test_labels, predictions)\n",
    "        r_squareds.append (r_squared)\n",
    "    \n",
    "        pred_train = xgbr_graphyield.predict(train_new_features)\n",
    "        errors = abs(pred_train - train_labels)\n",
    "        MAEs_train.append(errors)\n",
    "        r_squared = r2_score(train_labels, pred_train)\n",
    "        r_squareds_train.append(r_squared)\n",
    "        #print('r2 score = ', r_squared)\n",
    "    #print ('test split rand', rand)\n",
    "    #print ('Average of r_squared for test', np.mean(np.array(r_squareds)))\n",
    "    #print ('std of r_squared for test', np.std(np.array(r_squareds)), '\\n')\n",
    "\n",
    "    #print ('Average of r_squared for train', np.mean(np.array(r_squareds_train)))\n",
    "    #print ('std of r_squared for train', np.std(np.array(r_squareds_train)))\n",
    "    # train accuracy\n",
    "    pred_train = xgbr_graphyield.predict(train_new_features)\n",
    "    # Calculate the absolute errors\n",
    "    errors_train = abs(pred_train - train_labels)\n",
    "    # Print out the mean absolute error (mae)\n",
    "    #print('Mean Absolute Error:', round(np.mean(errors_train), 4), 'units.')\n",
    "    r_squared_train = r2_score(train_labels, pred_train)\n",
    "    #print('r2 score = ', r_squared_train)\n",
    "    #print ('time is: ', end-start)\n",
    "\n",
    "    pred_test = xgbr_graphyield.predict(test_new_features)\n",
    "    # Calculate the absolute errors\n",
    "    errors_test = abs(pred_test - test_labels)\n",
    "    # Print out the mean absolute error (mae)\n",
    "    #print('Mean Absolute Error for test:', round(np.mean(errors_test), 4), 'units.')\n",
    "    r_squared_test = r2_score(test_labels, pred_test)\n",
    "    if r_squared_test>r2_max:\n",
    "        r2_max = r_squared_test\n",
    "        rand_split = rand\n",
    "    #print('r2 score = ', r_squared_test)\n",
    "    #print ('****')\n",
    "\n",
    "    #sns.displot(r_squareds)\n",
    "    r_squareds_randomized_testtrain.append (r_squareds)\n",
    "\n",
    "m = tf.keras.metrics.RootMeanSquaredError()\n",
    "m.update_state(pred_test, test_labels)\n",
    "print ('RMSE for test, ', m.result().numpy())\n",
    "end = time.time()\n",
    "print ('time for {} of split and {} rep. is: {}'.format(test_split_count, rep, end-start))\n",
    "r_squareds_randomized_testtrain_vec = np.array ((r_squareds_randomized_testtrain))\n",
    "r_squareds_randomized_testtrain_mean = np.mean (r_squareds_randomized_testtrain_vec, axis=1)\n",
    "r_squareds_randomized_testtrain_mean\n",
    "sns.displot (r_squareds_randomized_testtrain_vec)"
   ]
  },
  {
   "cell_type": "code",
   "execution_count": 26,
   "metadata": {},
   "outputs": [
    {
     "data": {
      "text/plain": [
       "0.6596008082388122"
      ]
     },
     "execution_count": 26,
     "metadata": {},
     "output_type": "execute_result"
    }
   ],
   "source": [
    "np.mean(r_squareds_randomized_testtrain_mean)"
   ]
  },
  {
   "cell_type": "code",
   "execution_count": 29,
   "metadata": {},
   "outputs": [
    {
     "name": "stdout",
     "output_type": "stream",
     "text": [
      "RMSE for test,  11.626858\n",
      "time for 1 of split and 50 rep. is: 6.746401071548462\n"
     ]
    },
    {
     "data": {
      "text/plain": [
       "<seaborn.axisgrid.FacetGrid at 0x7fae3261f7c0>"
      ]
     },
     "execution_count": 29,
     "metadata": {},
     "output_type": "execute_result"
    },
    {
     "data": {
      "image/png": "[encoded data removed]",
      "text/plain": [
       "<Figure size 408.75x360 with 1 Axes>"
      ]
     },
     "metadata": {
      "needs_background": "light"
     },
     "output_type": "display_data"
    }
   ],
   "source": [
    "r_squareds = list()\n",
    "r_squareds_randomized_testtrain = list()\n",
    "r_squareds_train = list()\n",
    "MAEs = list()\n",
    "MAEs_train = list()\n",
    "start = time.time()\n",
    "r2_max = 0\n",
    "test_split_seed1 = 7\n",
    "test_split_seed2 = 8\n",
    "test_split_count = test_split_seed2 - test_split_seed1\n",
    "rep = 50\n",
    "for rand in range (test_split_seed1, test_split_seed2):\n",
    "    indices = np.arange(len(new_features))\n",
    "    train_new_features, test_new_features, train_labels, test_labels, idx_train, idx_test = \\\n",
    "                      train_test_split(new_features, 100*Graphene_Yield, \n",
    "                                       indices, test_size = 0.2, random_state=rand\n",
    "                                       #,stratify=df['Material']\n",
    "                                       )\n",
    "    r_squareds = list()\n",
    "    r_squareds_train = list()\n",
    "    MAEs = list()\n",
    "    MAEs_train = list()\n",
    "    for random_state in range(rep):\n",
    "        # Instantiate model with 1000 decision trees\n",
    "        xgbr_graphyield = XGBRegressor(max_depth=3, n_estimators=45, gamma=0.001, \n",
    "                   learning_rate=0.1151, subsample=0.775, min_child_weight=5, \n",
    "                   random_state=random_state)\n",
    "        #xgbr_graphyield = RandomForestRegressor(max_depth=20, n_estimators=500, min_samples_split=3)\n",
    "        \"\"\"\n",
    "        xgbr_graphyield = MLPRegressor(hidden_layer_sizes=(500, 500, 500), activation='logistic', batch_size=2,\n",
    "                   alpha=0.00001, learning_rate = 'adaptive', solver='adam', random_state=random_state)    \n",
    "        \"\"\"\n",
    "        # Train the model on training data\n",
    "        xgbr_graphyield.fit(train_new_features, train_labels);\n",
    "        # Use the forest's predict method on the test data\n",
    "        predictions = xgbr_graphyield.predict(test_new_features)\n",
    "        # Calculate the absolute errors\n",
    "        errors = abs(predictions - test_labels)\n",
    "        MAEs.append(errors)\n",
    "        # Print out the mean absolute error (mae)\n",
    "        #print('Mean Absolute Error:', round(np.mean(errors), 4), 'units.')\n",
    "\n",
    "        r_squared = r2_score(test_labels, predictions)\n",
    "        r_squareds.append (r_squared)\n",
    "    \n",
    "        pred_train = xgbr_graphyield.predict(train_new_features)\n",
    "        errors = abs(pred_train - train_labels)\n",
    "        MAEs_train.append(errors)\n",
    "        r_squared = r2_score(train_labels, pred_train)\n",
    "        r_squareds_train.append(r_squared)\n",
    "        #print('r2 score = ', r_squared)\n",
    "    #print ('test split rand', rand)\n",
    "    #print ('Average of r_squared for test', np.mean(np.array(r_squareds)))\n",
    "    #print ('std of r_squared for test', np.std(np.array(r_squareds)), '\\n')\n",
    "\n",
    "    #print ('Average of r_squared for train', np.mean(np.array(r_squareds_train)))\n",
    "    #print ('std of r_squared for train', np.std(np.array(r_squareds_train)))\n",
    "    # train accuracy\n",
    "    pred_train = xgbr_graphyield.predict(train_new_features)\n",
    "    # Calculate the absolute errors\n",
    "    errors_train = abs(pred_train - train_labels)\n",
    "    # Print out the mean absolute error (mae)\n",
    "    #print('Mean Absolute Error:', round(np.mean(errors_train), 4), 'units.')\n",
    "    r_squared_train = r2_score(train_labels, pred_train)\n",
    "    #print('r2 score = ', r_squared_train)\n",
    "    #print ('time is: ', end-start)\n",
    "\n",
    "    pred_test = xgbr_graphyield.predict(test_new_features)\n",
    "    # Calculate the absolute errors\n",
    "    errors_test = abs(pred_test - test_labels)\n",
    "    # Print out the mean absolute error (mae)\n",
    "    #print('Mean Absolute Error for test:', round(np.mean(errors_test), 4), 'units.')\n",
    "    r_squared_test = r2_score(test_labels, pred_test)\n",
    "    if r_squared_test>r2_max:\n",
    "        r2_max = r_squared_test\n",
    "        rand_split = rand\n",
    "    #print('r2 score = ', r_squared_test)\n",
    "    #print ('****')\n",
    "\n",
    "    #sns.displot(r_squareds)\n",
    "    r_squareds_randomized_testtrain.append (r_squareds)\n",
    "\n",
    "m = tf.keras.metrics.RootMeanSquaredError()\n",
    "m.update_state(pred_test, test_labels)\n",
    "print ('RMSE for test, ', m.result().numpy())\n",
    "end = time.time()\n",
    "print ('time for {} of split and {} rep. is: {}'.format(test_split_count, rep, end-start))\n",
    "r_squareds_randomized_testtrain_vec = np.array ((r_squareds_randomized_testtrain))\n",
    "r_squareds_randomized_testtrain_mean = np.mean (r_squareds_randomized_testtrain_vec, axis=1)\n",
    "r_squareds_randomized_testtrain_mean\n",
    "sns.displot (r_squareds_randomized_testtrain_vec)"
   ]
  },
  {
   "cell_type": "code",
   "execution_count": 30,
   "metadata": {},
   "outputs": [
    {
     "name": "stdout",
     "output_type": "stream",
     "text": [
      "0.8076517971374276\n",
      "sd of random runs 0.016673055524033163\n"
     ]
    }
   ],
   "source": [
    "print (np.mean(r_squareds_randomized_testtrain_mean))\n",
    "print ('sd of random runs', np.sqrt(np.var(r_squareds_randomized_testtrain_vec)))"
   ]
  },
  {
   "cell_type": "code",
   "execution_count": 50,
   "metadata": {},
   "outputs": [
    {
     "data": {
      "text/plain": [
       "array([[0.80378177, 0.81509776, 0.80755986, 0.78934296, 0.82052721]])"
      ]
     },
     "execution_count": 50,
     "metadata": {},
     "output_type": "execute_result"
    }
   ],
   "source": [
    "r_squareds_randomized_testtrain_vec"
   ]
  },
  {
   "cell_type": "code",
   "execution_count": 33,
   "metadata": {},
   "outputs": [
    {
     "data": {
      "text/plain": [
       "<matplotlib.legend.Legend at 0x7fc6281dc1c0>"
      ]
     },
     "execution_count": 33,
     "metadata": {},
     "output_type": "execute_result"
    },
    {
     "data": {
      "image/png": "[encoded data removed]",
      "text/plain": [
       "<Figure size 360x288 with 1 Axes>"
      ]
     },
     "metadata": {
      "needs_background": "light"
     },
     "output_type": "display_data"
    }
   ],
   "source": [
    "errors_test = abs(pred_test.reshape(-1, 1) - test_labels)\n",
    "id_errors = list(range(errors_test.shape[0]))\n",
    "#plt.plot(id_errors, errors_test, c=id_test)\n",
    "\n",
    "df_test = df.loc[idx_test]\n",
    "df_test['id_errors'] = id_errors\n",
    "df_test['errors'] = errors_test\n",
    "df_test['Graphene_Yield_per'] = 100*df_test['Graphene_Yield']\n",
    "\n",
    "groups = df_test.groupby(['Material'])\n",
    "\n",
    "# Plot\n",
    "fig, ax = plt.subplots(figsize=(5,4))\n",
    "ax.tick_params(direction='in', length=4, width=1.5, colors='black', grid_alpha=0, labelsize='14')\n",
    "counter=0\n",
    "markers = ['o', 's', '^', 'v']\n",
    "colors=['blue', 'red', 'green', 'orange']\n",
    "colors2 = ['maroon', 'darkorange', 'goldenrod', 'dodgerblue']\n",
    "for name, group in groups:\n",
    "    ax.plot(group.Graphene_Yield_per, group.errors, marker=markers[counter], alpha=0.9, \n",
    "            linestyle='', ms=8, label=name)\n",
    "    counter+=1\n",
    "plt.legend()"
   ]
  },
  {
   "cell_type": "code",
   "execution_count": 77,
   "metadata": {},
   "outputs": [
    {
     "data": {
      "text/plain": [
       "<matplotlib.legend.Legend at 0x7fda57f2db20>"
      ]
     },
     "execution_count": 77,
     "metadata": {},
     "output_type": "execute_result"
    },
    {
     "data": {
      "image/png": "[encoded data removed]",
      "text/plain": [
       "<Figure size 360x288 with 1 Axes>"
      ]
     },
     "metadata": {
      "needs_background": "light"
     },
     "output_type": "display_data"
    }
   ],
   "source": [
    "errors_train = abs(pred_train.reshape(-1, 1) - train_labels)\n",
    "id_errors = list(range(errors_train.shape[0]))\n",
    "#plt.plot(id_errors, errors_train, c=id_train)\n",
    "\n",
    "df_train = df.loc[idx_train]\n",
    "df_train['id_errors'] = id_errors\n",
    "df_train['errors'] = errors_train\n",
    "\n",
    "groups = df_train.groupby(['Material'])\n",
    "\n",
    "# Plot\n",
    "fig, ax = plt.subplots(figsize=(5,4))\n",
    "ax.tick_params(direction='in', length=4, width=1.5, colors='black', grid_alpha=0, labelsize='14')\n",
    "counter=0\n",
    "markers = ['o', 's', '^', 'v']\n",
    "colors=['blue', 'red', 'green', 'orange']\n",
    "colors2 = ['maroon', 'darkorange', 'goldenrod', 'dodgerblue']\n",
    "for name, group in groups:\n",
    "    ax.plot(group.id_errors, group.errors, marker=markers[counter], alpha=0.9, linestyle='', ms=8, label=name)\n",
    "    counter+=1\n",
    "plt.legend()"
   ]
  },
  {
   "cell_type": "code",
   "execution_count": 78,
   "metadata": {},
   "outputs": [
    {
     "name": "stderr",
     "output_type": "stream",
     "text": [
      "/tmp/ipykernel_303442/70831555.py:2: SettingWithCopyWarning: \n",
      "A value is trying to be set on a copy of a slice from a DataFrame.\n",
      "Try using .loc[row_indexer,col_indexer] = value instead\n",
      "\n",
      "See the caveats in the documentation: https://pandas.pydata.org/pandas-docs/stable/user_guide/indexing.html#returning-a-view-versus-a-copy\n",
      "  df_test['y_pred'] = pred_test\n",
      "/tmp/ipykernel_303442/70831555.py:3: SettingWithCopyWarning: \n",
      "A value is trying to be set on a copy of a slice from a DataFrame.\n",
      "Try using .loc[row_indexer,col_indexer] = value instead\n",
      "\n",
      "See the caveats in the documentation: https://pandas.pydata.org/pandas-docs/stable/user_guide/indexing.html#returning-a-view-versus-a-copy\n",
      "  df_test['y_true'] = test_labels\n"
     ]
    },
    {
     "data": {
      "image/png": "[encoded data removed]",
      "text/plain": [
       "<Figure size 432x288 with 1 Axes>"
      ]
     },
     "metadata": {
      "needs_background": "light"
     },
     "output_type": "display_data"
    }
   ],
   "source": [
    "df_test = df.iloc[idx_test]\n",
    "df_test['y_pred'] = pred_test\n",
    "df_test['y_true'] = test_labels\n",
    "groups = df_test.groupby(['Material'])\n",
    "\n",
    "# Plot\n",
    "fig, ax = plt.subplots(figsize=(6,4))\n",
    "ax.tick_params(direction='in', length=4, width=1.5, colors='black', grid_alpha=0, labelsize='14')\n",
    "counter=0\n",
    "markers = ['o', 's', '^', 'v']\n",
    "colors=['blue', 'red', 'green', 'orange']\n",
    "colors2 = ['maroon', 'darkorange', 'goldenrod', 'dodgerblue']\n",
    "for name, group in groups:\n",
    "    ax.plot(group.y_true, group.y_pred, marker=markers[counter], alpha=0.9, linestyle='', ms=8, label=name)\n",
    "    counter+=1\n",
    "    # Predicted 2D/G\n",
    "#plt.title('Test Data', fontsize='18', fontname='Arial', fontweight='bold')\n",
    "ax.set_ylabel('Predicted Yield (%)', fontsize='18', fontname='Arial', fontweight='bold')\n",
    "ax.set_xlabel('Actual Yield (%)', fontsize='18', fontname='Arial', fontweight='bold')\n",
    "ymin, ymax = plt.ylim()\n",
    "ax.set_xlim(ymin, ymax)\n",
    "ax.set_ylim(ymin, ymax)\n",
    "# Make a red line to show perfect predictions\n",
    "x2 = np.arange(ymin, ymax*1.1, .01)\n",
    "y2 = np.arange(ymin, ymax*1.1, .01)\n",
    "ax.plot(x2, y2, linestyle='--', linewidth = '3', color='red')\n",
    "leg = plt.legend(frameon=\"True\", prop={'family': 'Arial'})\n",
    "ax.legend(frameon=False, ncol=2, fontsize=12, loc='upper left')\n",
    "\n",
    "# Plot\n",
    "# plt.plot(df_test['I_Max'],df_test['Graphene_Yield'], linestyle = 'none', marker = 'o', color='black', markersize='8')\n",
    "# plt.xlabel('Flash Voltage (V)', fontsize='18', fontname='Arial', fontweight='bold')\n",
    "# plt.ylabel('D/G Ratio', fontsize='18', fontname='Arial', fontweight='bold')\n",
    "\n",
    "# Save\n",
    "plt.tight_layout()\n",
    "plt.show()\n",
    "#plt.savefig('XGBPerformance_materialgroup.png', dpi=300)\n"
   ]
  },
  {
   "cell_type": "code",
   "execution_count": 79,
   "metadata": {},
   "outputs": [
    {
     "name": "stderr",
     "output_type": "stream",
     "text": [
      "/tmp/ipykernel_303442/4245381040.py:16: SettingWithCopyWarning: \n",
      "A value is trying to be set on a copy of a slice from a DataFrame.\n",
      "Try using .loc[row_indexer,col_indexer] = value instead\n",
      "\n",
      "See the caveats in the documentation: https://pandas.pydata.org/pandas-docs/stable/user_guide/indexing.html#returning-a-view-versus-a-copy\n",
      "  df_test['cv_class'] = cv_class\n"
     ]
    },
    {
     "data": {
      "image/png": "[encoded data removed]",
      "text/plain": [
       "<Figure size 360x288 with 1 Axes>"
      ]
     },
     "metadata": {
      "needs_background": "light"
     },
     "output_type": "display_data"
    }
   ],
   "source": [
    "# Distribution of Graphene_yield with  CD density groups\n",
    "cv = np.array (df_test['charge_density'])\n",
    "Qs = np.quantile (cv, [0.25, 0.5, 0.75])\n",
    "\n",
    "cv_class = cv\n",
    "cv_class = np.where(cv <= Qs[0], 0, cv_class)\n",
    "cv_class = np.where((cv > Qs[0]) & (cv <= Qs[1]), 1, cv_class)\n",
    "cv_class = np.where((cv > Qs[1]) & (cv <= Qs[2]), 2, cv_class)\n",
    "cv_class = np.where(cv > Qs[2], 3, cv_class)\n",
    "\n",
    "# Plot style\n",
    "fig, ax = plt.subplots(figsize=(5,4))\n",
    "# ax.set_yticks(np.arange(.2, 2.2, .2))\n",
    "# ax.set_xticks(np.arange(0, 1200, 100))\n",
    "# ax.set_xlim(.7,3.3)\n",
    "df_test['cv_class'] = cv_class\n",
    "groups = df_test.groupby(['cv_class'])\n",
    "\n",
    "# Plot\n",
    "ax.tick_params(direction='in', length=4, width=1.5, colors='black', grid_alpha=0, labelsize='14')\n",
    "counter=0\n",
    "markers = ['1', '*', '^', 'o']\n",
    "colors=['blue', 'red', 'green', 'orange']\n",
    "colors2 = ['maroon', 'darkorange', 'goldenrod', 'dodgerblue']\n",
    "for name, group in groups:\n",
    "    ax.plot(group.y_pred, group.y_true, marker=markers[counter], alpha=0.9, linestyle='', ms=8, label=name)\n",
    "    counter+=1\n",
    "    # Predicted 2D/G\n",
    "# plt.title('Test Data', fontsize='18', fontname='Arial', fontweight='bold')\n",
    "ax.set_xlabel('Predicted Yield (%)', fontsize='18', fontname='Arial', fontweight='bold')\n",
    "ax.set_ylabel('Actual Yield (%)', fontsize='18', fontname='Arial', fontweight='bold')\n",
    "ymin, ymax = plt.ylim()\n",
    "ax.set_xlim(ymin, ymax)\n",
    "ax.set_ylim(ymin, ymax)\n",
    "# Make a red line to show perfect predictions\n",
    "x2 = np.arange(ymin, ymax*1.1, .01)\n",
    "y2 = np.arange(ymin, ymax*1.1, .01)\n",
    "ax.plot(x2,y2, linestyle='--', linewidth = '3', color='red')\n",
    "leg = plt.legend(frameon=\"True\", prop={'family': 'Arial'})\n",
    "ax.legend(frameon=False, ncol=2, fontsize=12, loc='upper left')\n",
    "\n",
    "# Plot\n",
    "# plt.plot(df_test['I_Max'],df_test['Graphene_Yield'], linestyle = 'none', marker = 'o', color='black', markersize='8')\n",
    "# plt.xlabel('Flash Voltage (V)', fontsize='18', fontname='Arial', fontweight='bold')\n",
    "# plt.ylabel('D/G Ratio', fontsize='18', fontname='Arial', fontweight='bold')\n",
    "\n",
    "# Save\n",
    "plt.tight_layout()\n",
    "plt.savefig('XGBPerformance_cvgroup.png', dpi=300)\n",
    "plt.show()"
   ]
  },
  {
   "cell_type": "code",
   "execution_count": 90,
   "metadata": {},
   "outputs": [
    {
     "name": "stdout",
     "output_type": "stream",
     "text": [
      "Model: \"model_3\"\n",
      "_________________________________________________________________\n",
      " Layer (type)                Output Shape              Param #   \n",
      "=================================================================\n",
      " exp_par (InputLayer)        [(None, 16)]              0         \n",
      "                                                                 \n",
      " dense_6 (Dense)             (None, 20)                340       \n",
      "                                                                 \n",
      " dense_7 (Dense)             (None, 10)                210       \n",
      "                                                                 \n",
      " tf.nn.relu_3 (TFOpLambda)   (None, 10)                0         \n",
      "                                                                 \n",
      " graph_yield (Dense)         (None, 1)                 11        \n",
      "                                                                 \n",
      "=================================================================\n",
      "Total params: 561\n",
      "Trainable params: 561\n",
      "Non-trainable params: 0\n",
      "_________________________________________________________________\n",
      "None\n"
     ]
    }
   ],
   "source": [
    "import tensorflow as tf\n",
    "from tensorflow import keras\n",
    "from tensorflow.keras import layers\n",
    "from keras import backend as BK\n",
    "\n",
    "def mapping_to_target_range( x, target_min=0, target_max=1) :\n",
    "    x02 = BK.tanh(x) + 1 # x in range(0,2)\n",
    "    scale = ( target_max-target_min )/2.\n",
    "    return  x02 * scale + target_min\n",
    "\n",
    "inputs = keras.Input(shape=(16,), name='exp_par')\n",
    "x2 = layers.Dense(20, activation='relu')(inputs)\n",
    "x3 = layers.Dense(10)(x2)\n",
    "x4 = tf.keras.activations.relu(x3)\n",
    "outputs = layers.Dense(1, name=\"graph_yield\")(x4)\n",
    "#outputs = tf.keras.activations.relu(outputs, max_value=1.0)\n",
    "\n",
    "mlp = keras.Model(inputs=inputs, outputs=outputs)\n",
    "print (mlp.summary()) "
   ]
  },
  {
   "cell_type": "code",
   "execution_count": 92,
   "metadata": {},
   "outputs": [],
   "source": [
    "mlp.compile(loss='mean_squared_error', \n",
    "            optimizer='rmsprop',\n",
    "            metrics=[tf.keras.metrics.RootMeanSquaredError()]) "
   ]
  },
  {
   "cell_type": "code",
   "execution_count": 93,
   "metadata": {
    "scrolled": true
   },
   "outputs": [
    {
     "name": "stdout",
     "output_type": "stream",
     "text": [
      "Epoch 1/300\n",
      "70/70 [==============================] - 0s 901us/step - loss: 876.9058 - root_mean_squared_error: 29.6126\n",
      "Epoch 2/300\n",
      "70/70 [==============================] - 0s 854us/step - loss: 571.1332 - root_mean_squared_error: 23.8984\n",
      "Epoch 3/300\n",
      "70/70 [==============================] - 0s 924us/step - loss: 531.6165 - root_mean_squared_error: 23.0568\n",
      "Epoch 4/300\n",
      "70/70 [==============================] - 0s 966us/step - loss: 496.3337 - root_mean_squared_error: 22.2785\n",
      "Epoch 5/300\n",
      "70/70 [==============================] - 0s 954us/step - loss: 453.7817 - root_mean_squared_error: 21.3022\n",
      "Epoch 6/300\n",
      "70/70 [==============================] - 0s 884us/step - loss: 475.9277 - root_mean_squared_error: 21.8158\n",
      "Epoch 7/300\n",
      "70/70 [==============================] - 0s 948us/step - loss: 419.1748 - root_mean_squared_error: 20.4738\n",
      "Epoch 8/300\n",
      "70/70 [==============================] - 0s 855us/step - loss: 435.5141 - root_mean_squared_error: 20.8690\n",
      "Epoch 9/300\n",
      "70/70 [==============================] - 0s 983us/step - loss: 451.7395 - root_mean_squared_error: 21.2542\n",
      "Epoch 10/300\n",
      "70/70 [==============================] - 0s 1ms/step - loss: 419.7728 - root_mean_squared_error: 20.4884\n",
      "Epoch 11/300\n",
      "70/70 [==============================] - 0s 996us/step - loss: 440.1416 - root_mean_squared_error: 20.9796\n",
      "Epoch 12/300\n",
      "70/70 [==============================] - 0s 1ms/step - loss: 405.2908 - root_mean_squared_error: 20.1318\n",
      "Epoch 13/300\n",
      "70/70 [==============================] - 0s 932us/step - loss: 403.5511 - root_mean_squared_error: 20.0886\n",
      "Epoch 14/300\n",
      "70/70 [==============================] - 0s 982us/step - loss: 404.2636 - root_mean_squared_error: 20.1063\n",
      "Epoch 15/300\n",
      "70/70 [==============================] - 0s 1ms/step - loss: 391.7181 - root_mean_squared_error: 19.7919\n",
      "Epoch 16/300\n",
      "70/70 [==============================] - 0s 949us/step - loss: 374.7299 - root_mean_squared_error: 19.3579\n",
      "Epoch 17/300\n",
      "70/70 [==============================] - 0s 1ms/step - loss: 392.6377 - root_mean_squared_error: 19.8151\n",
      "Epoch 18/300\n",
      "70/70 [==============================] - 0s 931us/step - loss: 371.9587 - root_mean_squared_error: 19.2862\n",
      "Epoch 19/300\n",
      "70/70 [==============================] - 0s 1ms/step - loss: 403.6725 - root_mean_squared_error: 20.0916\n",
      "Epoch 20/300\n",
      "70/70 [==============================] - 0s 1ms/step - loss: 402.7885 - root_mean_squared_error: 20.0696\n",
      "Epoch 21/300\n",
      "70/70 [==============================] - 0s 868us/step - loss: 389.5289 - root_mean_squared_error: 19.7365\n",
      "Epoch 22/300\n",
      "70/70 [==============================] - 0s 1ms/step - loss: 390.7769 - root_mean_squared_error: 19.7681\n",
      "Epoch 23/300\n",
      "70/70 [==============================] - 0s 992us/step - loss: 388.1701 - root_mean_squared_error: 19.7020\n",
      "Epoch 24/300\n",
      "70/70 [==============================] - 0s 1ms/step - loss: 396.4695 - root_mean_squared_error: 19.9115\n",
      "Epoch 25/300\n",
      "70/70 [==============================] - 0s 916us/step - loss: 374.8422 - root_mean_squared_error: 19.3608\n",
      "Epoch 26/300\n",
      "70/70 [==============================] - 0s 896us/step - loss: 372.1674 - root_mean_squared_error: 19.2916\n",
      "Epoch 27/300\n",
      "70/70 [==============================] - 0s 993us/step - loss: 390.9359 - root_mean_squared_error: 19.7721\n",
      "Epoch 28/300\n",
      "70/70 [==============================] - 0s 971us/step - loss: 373.5204 - root_mean_squared_error: 19.3267\n",
      "Epoch 29/300\n",
      "70/70 [==============================] - 0s 1ms/step - loss: 380.6062 - root_mean_squared_error: 19.5091\n",
      "Epoch 30/300\n",
      "70/70 [==============================] - 0s 910us/step - loss: 381.5131 - root_mean_squared_error: 19.5324\n",
      "Epoch 31/300\n",
      "70/70 [==============================] - 0s 1ms/step - loss: 370.5310 - root_mean_squared_error: 19.2492\n",
      "Epoch 32/300\n",
      "70/70 [==============================] - 0s 1ms/step - loss: 370.9493 - root_mean_squared_error: 19.2600\n",
      "Epoch 33/300\n",
      "70/70 [==============================] - 0s 925us/step - loss: 377.4609 - root_mean_squared_error: 19.4284\n",
      "Epoch 34/300\n",
      "70/70 [==============================] - 0s 960us/step - loss: 360.2054 - root_mean_squared_error: 18.9791\n",
      "Epoch 35/300\n",
      "70/70 [==============================] - 0s 889us/step - loss: 355.8367 - root_mean_squared_error: 18.8636\n",
      "Epoch 36/300\n",
      "70/70 [==============================] - 0s 1ms/step - loss: 367.1174 - root_mean_squared_error: 19.1603\n",
      "Epoch 37/300\n",
      "70/70 [==============================] - 0s 919us/step - loss: 362.4181 - root_mean_squared_error: 19.0373\n",
      "Epoch 38/300\n",
      "70/70 [==============================] - 0s 897us/step - loss: 376.5234 - root_mean_squared_error: 19.4042\n",
      "Epoch 39/300\n",
      "70/70 [==============================] - 0s 846us/step - loss: 371.7484 - root_mean_squared_error: 19.2808\n",
      "Epoch 40/300\n",
      "70/70 [==============================] - 0s 949us/step - loss: 371.3485 - root_mean_squared_error: 19.2704\n",
      "Epoch 41/300\n",
      "70/70 [==============================] - 0s 971us/step - loss: 366.7594 - root_mean_squared_error: 19.1510\n",
      "Epoch 42/300\n",
      "70/70 [==============================] - 0s 939us/step - loss: 369.7317 - root_mean_squared_error: 19.2284\n",
      "Epoch 43/300\n",
      "70/70 [==============================] - 0s 947us/step - loss: 362.6333 - root_mean_squared_error: 19.0429\n",
      "Epoch 44/300\n",
      "70/70 [==============================] - 0s 1ms/step - loss: 359.5325 - root_mean_squared_error: 18.9613\n",
      "Epoch 45/300\n",
      "70/70 [==============================] - 0s 952us/step - loss: 361.2910 - root_mean_squared_error: 19.0077\n",
      "Epoch 46/300\n",
      "70/70 [==============================] - 0s 911us/step - loss: 353.9064 - root_mean_squared_error: 18.8124\n",
      "Epoch 47/300\n",
      "70/70 [==============================] - 0s 915us/step - loss: 363.5797 - root_mean_squared_error: 19.0678\n",
      "Epoch 48/300\n",
      "70/70 [==============================] - 0s 868us/step - loss: 357.4129 - root_mean_squared_error: 18.9054\n",
      "Epoch 49/300\n",
      "70/70 [==============================] - 0s 968us/step - loss: 355.3073 - root_mean_squared_error: 18.8496\n",
      "Epoch 50/300\n",
      "70/70 [==============================] - 0s 948us/step - loss: 360.6355 - root_mean_squared_error: 18.9904\n",
      "Epoch 51/300\n",
      "70/70 [==============================] - 0s 907us/step - loss: 363.7573 - root_mean_squared_error: 19.0724\n",
      "Epoch 52/300\n",
      "70/70 [==============================] - 0s 1ms/step - loss: 365.1161 - root_mean_squared_error: 19.1080\n",
      "Epoch 53/300\n",
      "70/70 [==============================] - 0s 924us/step - loss: 345.3880 - root_mean_squared_error: 18.5846\n",
      "Epoch 54/300\n",
      "70/70 [==============================] - 0s 911us/step - loss: 355.4115 - root_mean_squared_error: 18.8524\n",
      "Epoch 55/300\n",
      "70/70 [==============================] - 0s 947us/step - loss: 349.5309 - root_mean_squared_error: 18.6957\n",
      "Epoch 56/300\n",
      "70/70 [==============================] - 0s 825us/step - loss: 356.3676 - root_mean_squared_error: 18.8777\n",
      "Epoch 57/300\n",
      "70/70 [==============================] - 0s 954us/step - loss: 343.3098 - root_mean_squared_error: 18.5286\n",
      "Epoch 58/300\n",
      "70/70 [==============================] - 0s 941us/step - loss: 347.8589 - root_mean_squared_error: 18.6510\n",
      "Epoch 59/300\n",
      "70/70 [==============================] - 0s 959us/step - loss: 345.8463 - root_mean_squared_error: 18.5969\n",
      "Epoch 60/300\n",
      "70/70 [==============================] - 0s 888us/step - loss: 327.4524 - root_mean_squared_error: 18.0956\n",
      "Epoch 61/300\n",
      "70/70 [==============================] - 0s 850us/step - loss: 322.6937 - root_mean_squared_error: 17.9637\n",
      "Epoch 62/300\n",
      "70/70 [==============================] - 0s 915us/step - loss: 324.9030 - root_mean_squared_error: 18.0251\n",
      "Epoch 63/300\n",
      "70/70 [==============================] - 0s 852us/step - loss: 350.9764 - root_mean_squared_error: 18.7344\n",
      "Epoch 64/300\n",
      "70/70 [==============================] - 0s 871us/step - loss: 351.3794 - root_mean_squared_error: 18.7451\n",
      "Epoch 65/300\n",
      "70/70 [==============================] - 0s 952us/step - loss: 330.4640 - root_mean_squared_error: 18.1787\n",
      "Epoch 66/300\n",
      "70/70 [==============================] - 0s 907us/step - loss: 324.8206 - root_mean_squared_error: 18.0228\n",
      "Epoch 67/300\n",
      "70/70 [==============================] - 0s 950us/step - loss: 355.1955 - root_mean_squared_error: 18.8466\n",
      "Epoch 68/300\n",
      "70/70 [==============================] - 0s 997us/step - loss: 332.0590 - root_mean_squared_error: 18.2225\n",
      "Epoch 69/300\n",
      "70/70 [==============================] - 0s 863us/step - loss: 349.1860 - root_mean_squared_error: 18.6865\n",
      "Epoch 70/300\n",
      "70/70 [==============================] - 0s 1ms/step - loss: 317.5423 - root_mean_squared_error: 17.8197\n",
      "Epoch 71/300\n",
      "70/70 [==============================] - 0s 888us/step - loss: 366.8947 - root_mean_squared_error: 19.1545\n",
      "Epoch 72/300\n",
      "70/70 [==============================] - 0s 1ms/step - loss: 328.6879 - root_mean_squared_error: 18.1298\n",
      "Epoch 73/300\n",
      "70/70 [==============================] - 0s 1000us/step - loss: 335.0141 - root_mean_squared_error: 18.3034\n",
      "Epoch 74/300\n",
      "70/70 [==============================] - 0s 961us/step - loss: 338.6443 - root_mean_squared_error: 18.4023\n",
      "Epoch 75/300\n",
      "70/70 [==============================] - 0s 891us/step - loss: 343.2255 - root_mean_squared_error: 18.5263\n",
      "Epoch 76/300\n",
      "70/70 [==============================] - 0s 917us/step - loss: 307.5663 - root_mean_squared_error: 17.5376\n",
      "Epoch 77/300\n",
      "70/70 [==============================] - 0s 956us/step - loss: 291.5257 - root_mean_squared_error: 17.0741\n",
      "Epoch 78/300\n",
      "70/70 [==============================] - 0s 927us/step - loss: 342.3286 - root_mean_squared_error: 18.5021\n",
      "Epoch 79/300\n",
      "70/70 [==============================] - 0s 953us/step - loss: 342.2270 - root_mean_squared_error: 18.4994\n",
      "Epoch 80/300\n",
      "70/70 [==============================] - 0s 938us/step - loss: 311.0824 - root_mean_squared_error: 17.6375\n",
      "Epoch 81/300\n",
      "70/70 [==============================] - 0s 923us/step - loss: 325.7572 - root_mean_squared_error: 18.0487\n",
      "Epoch 82/300\n",
      "70/70 [==============================] - 0s 837us/step - loss: 330.7625 - root_mean_squared_error: 18.1869\n",
      "Epoch 83/300\n",
      "70/70 [==============================] - 0s 846us/step - loss: 325.5286 - root_mean_squared_error: 18.0424\n",
      "Epoch 84/300\n",
      "70/70 [==============================] - 0s 979us/step - loss: 341.5342 - root_mean_squared_error: 18.4806\n",
      "Epoch 85/300\n",
      "70/70 [==============================] - 0s 998us/step - loss: 337.0216 - root_mean_squared_error: 18.3581\n",
      "Epoch 86/300\n",
      "70/70 [==============================] - 0s 965us/step - loss: 338.7025 - root_mean_squared_error: 18.4039\n",
      "Epoch 87/300\n",
      "70/70 [==============================] - 0s 946us/step - loss: 315.0494 - root_mean_squared_error: 17.7496\n",
      "Epoch 88/300\n",
      "70/70 [==============================] - 0s 986us/step - loss: 329.7416 - root_mean_squared_error: 18.1588\n",
      "Epoch 89/300\n",
      "70/70 [==============================] - 0s 832us/step - loss: 343.9229 - root_mean_squared_error: 18.5452\n",
      "Epoch 90/300\n",
      "70/70 [==============================] - 0s 944us/step - loss: 328.1890 - root_mean_squared_error: 18.1160\n",
      "Epoch 91/300\n",
      "70/70 [==============================] - 0s 972us/step - loss: 313.9828 - root_mean_squared_error: 17.7196\n",
      "Epoch 92/300\n",
      "70/70 [==============================] - 0s 966us/step - loss: 321.8282 - root_mean_squared_error: 17.9396\n",
      "Epoch 93/300\n",
      "70/70 [==============================] - 0s 964us/step - loss: 315.3964 - root_mean_squared_error: 17.7594\n",
      "Epoch 94/300\n",
      "70/70 [==============================] - 0s 968us/step - loss: 308.6033 - root_mean_squared_error: 17.5671\n",
      "Epoch 95/300\n",
      "70/70 [==============================] - 0s 938us/step - loss: 335.1451 - root_mean_squared_error: 18.3070\n",
      "Epoch 96/300\n",
      "70/70 [==============================] - 0s 866us/step - loss: 336.4395 - root_mean_squared_error: 18.3423\n",
      "Epoch 97/300\n",
      "70/70 [==============================] - 0s 1ms/step - loss: 324.7521 - root_mean_squared_error: 18.0209\n",
      "Epoch 98/300\n",
      "70/70 [==============================] - 0s 969us/step - loss: 309.4585 - root_mean_squared_error: 17.5914\n",
      "Epoch 99/300\n",
      "70/70 [==============================] - 0s 984us/step - loss: 323.3217 - root_mean_squared_error: 17.9811\n",
      "Epoch 100/300\n",
      "70/70 [==============================] - 0s 1000us/step - loss: 318.2522 - root_mean_squared_error: 17.8396\n",
      "Epoch 101/300\n",
      "70/70 [==============================] - 0s 897us/step - loss: 311.8438 - root_mean_squared_error: 17.6591\n",
      "Epoch 102/300\n",
      "70/70 [==============================] - 0s 906us/step - loss: 308.0093 - root_mean_squared_error: 17.5502\n",
      "Epoch 103/300\n",
      "70/70 [==============================] - 0s 956us/step - loss: 320.1925 - root_mean_squared_error: 17.8939\n",
      "Epoch 104/300\n",
      "70/70 [==============================] - 0s 888us/step - loss: 299.2978 - root_mean_squared_error: 17.3002\n",
      "Epoch 105/300\n",
      "70/70 [==============================] - 0s 986us/step - loss: 316.5637 - root_mean_squared_error: 17.7922\n",
      "Epoch 106/300\n",
      "70/70 [==============================] - 0s 920us/step - loss: 315.3690 - root_mean_squared_error: 17.7586\n",
      "Epoch 107/300\n",
      "70/70 [==============================] - 0s 954us/step - loss: 314.5005 - root_mean_squared_error: 17.7342\n",
      "Epoch 108/300\n",
      "70/70 [==============================] - 0s 901us/step - loss: 317.7570 - root_mean_squared_error: 17.8257\n",
      "Epoch 109/300\n",
      "70/70 [==============================] - 0s 887us/step - loss: 305.5217 - root_mean_squared_error: 17.4792\n",
      "Epoch 110/300\n",
      "70/70 [==============================] - 0s 942us/step - loss: 320.4919 - root_mean_squared_error: 17.9023\n",
      "Epoch 111/300\n",
      "70/70 [==============================] - 0s 876us/step - loss: 310.2348 - root_mean_squared_error: 17.6135\n",
      "Epoch 112/300\n",
      "70/70 [==============================] - 0s 965us/step - loss: 312.8702 - root_mean_squared_error: 17.6881\n",
      "Epoch 113/300\n",
      "70/70 [==============================] - 0s 928us/step - loss: 303.2033 - root_mean_squared_error: 17.4127\n",
      "Epoch 114/300\n",
      "70/70 [==============================] - 0s 880us/step - loss: 302.3160 - root_mean_squared_error: 17.3872\n",
      "Epoch 115/300\n",
      "70/70 [==============================] - 0s 959us/step - loss: 292.4199 - root_mean_squared_error: 17.1003\n",
      "Epoch 116/300\n",
      "70/70 [==============================] - 0s 891us/step - loss: 322.1457 - root_mean_squared_error: 17.9484\n",
      "Epoch 117/300\n",
      "70/70 [==============================] - 0s 895us/step - loss: 312.6761 - root_mean_squared_error: 17.6826\n",
      "Epoch 118/300\n",
      "70/70 [==============================] - 0s 894us/step - loss: 316.8616 - root_mean_squared_error: 17.8006\n",
      "Epoch 119/300\n",
      "70/70 [==============================] - 0s 876us/step - loss: 317.0388 - root_mean_squared_error: 17.8056\n",
      "Epoch 120/300\n",
      "70/70 [==============================] - 0s 993us/step - loss: 302.5413 - root_mean_squared_error: 17.3937\n",
      "Epoch 121/300\n",
      "70/70 [==============================] - 0s 939us/step - loss: 296.5690 - root_mean_squared_error: 17.2212\n",
      "Epoch 122/300\n",
      "70/70 [==============================] - 0s 853us/step - loss: 299.4515 - root_mean_squared_error: 17.3047\n",
      "Epoch 123/300\n",
      "70/70 [==============================] - 0s 915us/step - loss: 303.4536 - root_mean_squared_error: 17.4199\n",
      "Epoch 124/300\n",
      "70/70 [==============================] - 0s 895us/step - loss: 312.7289 - root_mean_squared_error: 17.6841\n",
      "Epoch 125/300\n",
      "70/70 [==============================] - 0s 868us/step - loss: 310.8922 - root_mean_squared_error: 17.6321\n",
      "Epoch 126/300\n",
      "70/70 [==============================] - 0s 874us/step - loss: 315.1976 - root_mean_squared_error: 17.7538\n",
      "Epoch 127/300\n",
      "70/70 [==============================] - 0s 965us/step - loss: 293.4734 - root_mean_squared_error: 17.1311\n",
      "Epoch 128/300\n",
      "70/70 [==============================] - 0s 927us/step - loss: 295.6973 - root_mean_squared_error: 17.1959\n",
      "Epoch 129/300\n",
      "70/70 [==============================] - 0s 884us/step - loss: 315.4457 - root_mean_squared_error: 17.7608\n",
      "Epoch 130/300\n",
      "70/70 [==============================] - 0s 971us/step - loss: 292.4875 - root_mean_squared_error: 17.1023\n",
      "Epoch 131/300\n",
      "70/70 [==============================] - 0s 860us/step - loss: 301.4348 - root_mean_squared_error: 17.3619\n",
      "Epoch 132/300\n",
      "70/70 [==============================] - 0s 918us/step - loss: 307.7130 - root_mean_squared_error: 17.5418\n",
      "Epoch 133/300\n",
      "70/70 [==============================] - 0s 926us/step - loss: 291.1944 - root_mean_squared_error: 17.0644\n",
      "Epoch 134/300\n",
      "70/70 [==============================] - 0s 851us/step - loss: 293.9069 - root_mean_squared_error: 17.1437\n",
      "Epoch 135/300\n",
      "70/70 [==============================] - 0s 908us/step - loss: 283.6722 - root_mean_squared_error: 16.8426\n",
      "Epoch 136/300\n",
      "70/70 [==============================] - 0s 850us/step - loss: 293.2537 - root_mean_squared_error: 17.1247\n",
      "Epoch 137/300\n"
     ]
    },
    {
     "name": "stdout",
     "output_type": "stream",
     "text": [
      "70/70 [==============================] - 0s 916us/step - loss: 287.3466 - root_mean_squared_error: 16.9513\n",
      "Epoch 138/300\n",
      "70/70 [==============================] - 0s 919us/step - loss: 291.1561 - root_mean_squared_error: 17.0633\n",
      "Epoch 139/300\n",
      "70/70 [==============================] - 0s 1ms/step - loss: 308.2127 - root_mean_squared_error: 17.5560\n",
      "Epoch 140/300\n",
      "70/70 [==============================] - 0s 973us/step - loss: 297.7254 - root_mean_squared_error: 17.2547\n",
      "Epoch 141/300\n",
      "70/70 [==============================] - 0s 1ms/step - loss: 300.9590 - root_mean_squared_error: 17.3482\n",
      "Epoch 142/300\n",
      "70/70 [==============================] - 0s 916us/step - loss: 295.2977 - root_mean_squared_error: 17.1842\n",
      "Epoch 143/300\n",
      "70/70 [==============================] - 0s 1ms/step - loss: 272.5620 - root_mean_squared_error: 16.5095\n",
      "Epoch 144/300\n",
      "70/70 [==============================] - 0s 958us/step - loss: 293.5853 - root_mean_squared_error: 17.1343\n",
      "Epoch 145/300\n",
      "70/70 [==============================] - 0s 1ms/step - loss: 300.5901 - root_mean_squared_error: 17.3375\n",
      "Epoch 146/300\n",
      "70/70 [==============================] - 0s 932us/step - loss: 287.3450 - root_mean_squared_error: 16.9513\n",
      "Epoch 147/300\n",
      "70/70 [==============================] - 0s 874us/step - loss: 294.7480 - root_mean_squared_error: 17.1682\n",
      "Epoch 148/300\n",
      "70/70 [==============================] - 0s 981us/step - loss: 280.0706 - root_mean_squared_error: 16.7353\n",
      "Epoch 149/300\n",
      "70/70 [==============================] - 0s 950us/step - loss: 288.1048 - root_mean_squared_error: 16.9736\n",
      "Epoch 150/300\n",
      "70/70 [==============================] - 0s 1ms/step - loss: 266.5720 - root_mean_squared_error: 16.3270\n",
      "Epoch 151/300\n",
      "70/70 [==============================] - 0s 860us/step - loss: 304.5638 - root_mean_squared_error: 17.4518\n",
      "Epoch 152/300\n",
      "70/70 [==============================] - 0s 874us/step - loss: 283.2378 - root_mean_squared_error: 16.8297\n",
      "Epoch 153/300\n",
      "70/70 [==============================] - 0s 925us/step - loss: 289.6671 - root_mean_squared_error: 17.0196\n",
      "Epoch 154/300\n",
      "70/70 [==============================] - 0s 984us/step - loss: 301.1602 - root_mean_squared_error: 17.3540\n",
      "Epoch 155/300\n",
      "70/70 [==============================] - 0s 884us/step - loss: 276.0863 - root_mean_squared_error: 16.6158\n",
      "Epoch 156/300\n",
      "70/70 [==============================] - 0s 924us/step - loss: 292.3207 - root_mean_squared_error: 17.0974\n",
      "Epoch 157/300\n",
      "70/70 [==============================] - 0s 964us/step - loss: 296.1554 - root_mean_squared_error: 17.2092\n",
      "Epoch 158/300\n",
      "70/70 [==============================] - 0s 1ms/step - loss: 288.7461 - root_mean_squared_error: 16.9925\n",
      "Epoch 159/300\n",
      "70/70 [==============================] - 0s 1ms/step - loss: 278.1932 - root_mean_squared_error: 16.6791\n",
      "Epoch 160/300\n",
      "70/70 [==============================] - 0s 1ms/step - loss: 304.9047 - root_mean_squared_error: 17.4615\n",
      "Epoch 161/300\n",
      "70/70 [==============================] - 0s 989us/step - loss: 281.2692 - root_mean_squared_error: 16.7711\n",
      "Epoch 162/300\n",
      "70/70 [==============================] - 0s 941us/step - loss: 291.1677 - root_mean_squared_error: 17.0636\n",
      "Epoch 163/300\n",
      "70/70 [==============================] - 0s 966us/step - loss: 292.2340 - root_mean_squared_error: 17.0949\n",
      "Epoch 164/300\n",
      "70/70 [==============================] - 0s 939us/step - loss: 273.9650 - root_mean_squared_error: 16.5519\n",
      "Epoch 165/300\n",
      "70/70 [==============================] - 0s 923us/step - loss: 283.3480 - root_mean_squared_error: 16.8329\n",
      "Epoch 166/300\n",
      "70/70 [==============================] - 0s 1ms/step - loss: 277.1479 - root_mean_squared_error: 16.6478\n",
      "Epoch 167/300\n",
      "70/70 [==============================] - 0s 875us/step - loss: 278.0305 - root_mean_squared_error: 16.6742\n",
      "Epoch 168/300\n",
      "70/70 [==============================] - 0s 1ms/step - loss: 267.6413 - root_mean_squared_error: 16.3597\n",
      "Epoch 169/300\n",
      "70/70 [==============================] - 0s 965us/step - loss: 274.8491 - root_mean_squared_error: 16.5786\n",
      "Epoch 170/300\n",
      "70/70 [==============================] - 0s 926us/step - loss: 286.1641 - root_mean_squared_error: 16.9164\n",
      "Epoch 171/300\n",
      "70/70 [==============================] - 0s 967us/step - loss: 283.5283 - root_mean_squared_error: 16.8383\n",
      "Epoch 172/300\n",
      "70/70 [==============================] - 0s 951us/step - loss: 278.6506 - root_mean_squared_error: 16.6928\n",
      "Epoch 173/300\n",
      "70/70 [==============================] - 0s 819us/step - loss: 268.3548 - root_mean_squared_error: 16.3815\n",
      "Epoch 174/300\n",
      "70/70 [==============================] - 0s 954us/step - loss: 283.1167 - root_mean_squared_error: 16.8261\n",
      "Epoch 175/300\n",
      "70/70 [==============================] - 0s 966us/step - loss: 293.0885 - root_mean_squared_error: 17.1198\n",
      "Epoch 176/300\n",
      "70/70 [==============================] - 0s 978us/step - loss: 268.5521 - root_mean_squared_error: 16.3876\n",
      "Epoch 177/300\n",
      "70/70 [==============================] - 0s 890us/step - loss: 291.8813 - root_mean_squared_error: 17.0845\n",
      "Epoch 178/300\n",
      "70/70 [==============================] - 0s 933us/step - loss: 286.7675 - root_mean_squared_error: 16.9342\n",
      "Epoch 179/300\n",
      "70/70 [==============================] - 0s 967us/step - loss: 296.8084 - root_mean_squared_error: 17.2281\n",
      "Epoch 180/300\n",
      "70/70 [==============================] - 0s 950us/step - loss: 277.2413 - root_mean_squared_error: 16.6506\n",
      "Epoch 181/300\n",
      "70/70 [==============================] - 0s 1ms/step - loss: 279.9520 - root_mean_squared_error: 16.7318\n",
      "Epoch 182/300\n",
      "70/70 [==============================] - 0s 1ms/step - loss: 283.0347 - root_mean_squared_error: 16.8236\n",
      "Epoch 183/300\n",
      "70/70 [==============================] - 0s 893us/step - loss: 293.2640 - root_mean_squared_error: 17.1250\n",
      "Epoch 184/300\n",
      "70/70 [==============================] - 0s 874us/step - loss: 269.6225 - root_mean_squared_error: 16.4202\n",
      "Epoch 185/300\n",
      "70/70 [==============================] - 0s 916us/step - loss: 283.2932 - root_mean_squared_error: 16.8313\n",
      "Epoch 186/300\n",
      "70/70 [==============================] - 0s 1ms/step - loss: 277.7710 - root_mean_squared_error: 16.6665\n",
      "Epoch 187/300\n",
      "70/70 [==============================] - 0s 956us/step - loss: 277.0243 - root_mean_squared_error: 16.6440\n",
      "Epoch 188/300\n",
      "70/70 [==============================] - 0s 973us/step - loss: 283.0182 - root_mean_squared_error: 16.8231\n",
      "Epoch 189/300\n",
      "70/70 [==============================] - 0s 911us/step - loss: 286.8621 - root_mean_squared_error: 16.9370\n",
      "Epoch 190/300\n",
      "70/70 [==============================] - 0s 916us/step - loss: 284.5137 - root_mean_squared_error: 16.8675\n",
      "Epoch 191/300\n",
      "70/70 [==============================] - 0s 865us/step - loss: 290.2714 - root_mean_squared_error: 17.0374\n",
      "Epoch 192/300\n",
      "70/70 [==============================] - 0s 879us/step - loss: 273.3082 - root_mean_squared_error: 16.5320\n",
      "Epoch 193/300\n",
      "70/70 [==============================] - 0s 937us/step - loss: 274.0922 - root_mean_squared_error: 16.5557\n",
      "Epoch 194/300\n",
      "70/70 [==============================] - 0s 871us/step - loss: 284.9342 - root_mean_squared_error: 16.8800\n",
      "Epoch 195/300\n",
      "70/70 [==============================] - 0s 946us/step - loss: 279.2219 - root_mean_squared_error: 16.7099\n",
      "Epoch 196/300\n",
      "70/70 [==============================] - 0s 946us/step - loss: 282.0051 - root_mean_squared_error: 16.7930\n",
      "Epoch 197/300\n",
      "70/70 [==============================] - 0s 950us/step - loss: 288.7367 - root_mean_squared_error: 16.9923\n",
      "Epoch 198/300\n",
      "70/70 [==============================] - 0s 1ms/step - loss: 274.6616 - root_mean_squared_error: 16.5729\n",
      "Epoch 199/300\n",
      "70/70 [==============================] - 0s 933us/step - loss: 274.2079 - root_mean_squared_error: 16.5592\n",
      "Epoch 200/300\n",
      "70/70 [==============================] - 0s 916us/step - loss: 267.0087 - root_mean_squared_error: 16.3404\n",
      "Epoch 201/300\n",
      "70/70 [==============================] - 0s 945us/step - loss: 280.6660 - root_mean_squared_error: 16.7531\n",
      "Epoch 202/300\n",
      "70/70 [==============================] - 0s 973us/step - loss: 278.8784 - root_mean_squared_error: 16.6997\n",
      "Epoch 203/300\n",
      "70/70 [==============================] - 0s 1ms/step - loss: 259.9350 - root_mean_squared_error: 16.1225\n",
      "Epoch 204/300\n",
      "70/70 [==============================] - 0s 892us/step - loss: 262.9779 - root_mean_squared_error: 16.2166\n",
      "Epoch 205/300\n"
     ]
    },
    {
     "name": "stdout",
     "output_type": "stream",
     "text": [
      "70/70 [==============================] - 0s 952us/step - loss: 287.6334 - root_mean_squared_error: 16.9598\n",
      "Epoch 206/300\n",
      "70/70 [==============================] - 0s 940us/step - loss: 266.9160 - root_mean_squared_error: 16.3376\n",
      "Epoch 207/300\n",
      "70/70 [==============================] - 0s 951us/step - loss: 278.7316 - root_mean_squared_error: 16.6953\n",
      "Epoch 208/300\n",
      "70/70 [==============================] - 0s 930us/step - loss: 266.6327 - root_mean_squared_error: 16.3289\n",
      "Epoch 209/300\n",
      "70/70 [==============================] - 0s 837us/step - loss: 283.8224 - root_mean_squared_error: 16.8470\n",
      "Epoch 210/300\n",
      "70/70 [==============================] - 0s 997us/step - loss: 276.3473 - root_mean_squared_error: 16.6237\n",
      "Epoch 211/300\n",
      "70/70 [==============================] - 0s 888us/step - loss: 285.5190 - root_mean_squared_error: 16.8973\n",
      "Epoch 212/300\n",
      "70/70 [==============================] - 0s 976us/step - loss: 270.8755 - root_mean_squared_error: 16.4583\n",
      "Epoch 213/300\n",
      "70/70 [==============================] - 0s 1ms/step - loss: 266.7622 - root_mean_squared_error: 16.3329\n",
      "Epoch 214/300\n",
      "70/70 [==============================] - 0s 859us/step - loss: 268.3663 - root_mean_squared_error: 16.3819\n",
      "Epoch 215/300\n",
      "70/70 [==============================] - 0s 954us/step - loss: 277.3373 - root_mean_squared_error: 16.6534\n",
      "Epoch 216/300\n",
      "70/70 [==============================] - 0s 892us/step - loss: 255.1573 - root_mean_squared_error: 15.9736\n",
      "Epoch 217/300\n",
      "70/70 [==============================] - 0s 934us/step - loss: 282.7206 - root_mean_squared_error: 16.8143\n",
      "Epoch 218/300\n",
      "70/70 [==============================] - 0s 886us/step - loss: 272.3068 - root_mean_squared_error: 16.5017\n",
      "Epoch 219/300\n",
      "70/70 [==============================] - 0s 884us/step - loss: 278.6529 - root_mean_squared_error: 16.6929\n",
      "Epoch 220/300\n",
      "70/70 [==============================] - 0s 1ms/step - loss: 259.0833 - root_mean_squared_error: 16.0961\n",
      "Epoch 221/300\n",
      "70/70 [==============================] - 0s 951us/step - loss: 264.1233 - root_mean_squared_error: 16.2519\n",
      "Epoch 222/300\n",
      "70/70 [==============================] - 0s 918us/step - loss: 280.9828 - root_mean_squared_error: 16.7625\n",
      "Epoch 223/300\n",
      "70/70 [==============================] - 0s 871us/step - loss: 269.3550 - root_mean_squared_error: 16.4120\n",
      "Epoch 224/300\n",
      "70/70 [==============================] - 0s 975us/step - loss: 271.4726 - root_mean_squared_error: 16.4764\n",
      "Epoch 225/300\n",
      "70/70 [==============================] - 0s 904us/step - loss: 269.4193 - root_mean_squared_error: 16.4140\n",
      "Epoch 226/300\n",
      "70/70 [==============================] - 0s 936us/step - loss: 274.1493 - root_mean_squared_error: 16.5575\n",
      "Epoch 227/300\n",
      "70/70 [==============================] - 0s 927us/step - loss: 271.0329 - root_mean_squared_error: 16.4631\n",
      "Epoch 228/300\n",
      "70/70 [==============================] - 0s 998us/step - loss: 267.1274 - root_mean_squared_error: 16.3440\n",
      "Epoch 229/300\n",
      "70/70 [==============================] - 0s 942us/step - loss: 272.8750 - root_mean_squared_error: 16.5189\n",
      "Epoch 230/300\n",
      "70/70 [==============================] - 0s 971us/step - loss: 266.8673 - root_mean_squared_error: 16.3361\n",
      "Epoch 231/300\n",
      "70/70 [==============================] - 0s 920us/step - loss: 259.5995 - root_mean_squared_error: 16.1121\n",
      "Epoch 232/300\n",
      "70/70 [==============================] - 0s 1ms/step - loss: 258.2017 - root_mean_squared_error: 16.0687\n",
      "Epoch 233/300\n",
      "70/70 [==============================] - 0s 905us/step - loss: 263.8882 - root_mean_squared_error: 16.2446\n",
      "Epoch 234/300\n",
      "70/70 [==============================] - 0s 935us/step - loss: 264.8133 - root_mean_squared_error: 16.2731\n",
      "Epoch 235/300\n",
      "70/70 [==============================] - 0s 950us/step - loss: 272.9063 - root_mean_squared_error: 16.5199\n",
      "Epoch 236/300\n",
      "70/70 [==============================] - 0s 977us/step - loss: 263.6201 - root_mean_squared_error: 16.2364\n",
      "Epoch 237/300\n",
      "70/70 [==============================] - 0s 886us/step - loss: 278.5981 - root_mean_squared_error: 16.6913\n",
      "Epoch 238/300\n",
      "70/70 [==============================] - 0s 962us/step - loss: 278.3494 - root_mean_squared_error: 16.6838\n",
      "Epoch 239/300\n",
      "70/70 [==============================] - 0s 930us/step - loss: 253.6319 - root_mean_squared_error: 15.9258\n",
      "Epoch 240/300\n",
      "70/70 [==============================] - 0s 913us/step - loss: 257.9986 - root_mean_squared_error: 16.0623\n",
      "Epoch 241/300\n",
      "70/70 [==============================] - 0s 932us/step - loss: 276.2477 - root_mean_squared_error: 16.6207\n",
      "Epoch 242/300\n",
      "70/70 [==============================] - 0s 955us/step - loss: 247.2849 - root_mean_squared_error: 15.7253\n",
      "Epoch 243/300\n",
      "70/70 [==============================] - 0s 1ms/step - loss: 270.8889 - root_mean_squared_error: 16.4587\n",
      "Epoch 244/300\n",
      "70/70 [==============================] - 0s 914us/step - loss: 256.0416 - root_mean_squared_error: 16.0013\n",
      "Epoch 245/300\n",
      "70/70 [==============================] - 0s 916us/step - loss: 251.6911 - root_mean_squared_error: 15.8648\n",
      "Epoch 246/300\n",
      "70/70 [==============================] - 0s 934us/step - loss: 269.9315 - root_mean_squared_error: 16.4296\n",
      "Epoch 247/300\n",
      "70/70 [==============================] - 0s 835us/step - loss: 270.3138 - root_mean_squared_error: 16.4412\n",
      "Epoch 248/300\n",
      "70/70 [==============================] - 0s 863us/step - loss: 262.5431 - root_mean_squared_error: 16.2032\n",
      "Epoch 249/300\n",
      "70/70 [==============================] - 0s 954us/step - loss: 248.1196 - root_mean_squared_error: 15.7518\n",
      "Epoch 250/300\n",
      "70/70 [==============================] - 0s 995us/step - loss: 259.1240 - root_mean_squared_error: 16.0973\n",
      "Epoch 251/300\n",
      "70/70 [==============================] - 0s 1ms/step - loss: 255.5332 - root_mean_squared_error: 15.9854\n",
      "Epoch 252/300\n",
      "70/70 [==============================] - 0s 877us/step - loss: 262.8491 - root_mean_squared_error: 16.2126\n",
      "Epoch 253/300\n",
      "70/70 [==============================] - 0s 925us/step - loss: 263.6906 - root_mean_squared_error: 16.2386\n",
      "Epoch 254/300\n",
      "70/70 [==============================] - 0s 876us/step - loss: 254.2742 - root_mean_squared_error: 15.9460\n",
      "Epoch 255/300\n",
      "70/70 [==============================] - 0s 917us/step - loss: 260.7142 - root_mean_squared_error: 16.1466\n",
      "Epoch 256/300\n",
      "70/70 [==============================] - 0s 891us/step - loss: 258.5491 - root_mean_squared_error: 16.0795\n",
      "Epoch 257/300\n",
      "70/70 [==============================] - 0s 910us/step - loss: 254.3594 - root_mean_squared_error: 15.9486\n",
      "Epoch 258/300\n",
      "70/70 [==============================] - 0s 928us/step - loss: 272.2218 - root_mean_squared_error: 16.4991\n",
      "Epoch 259/300\n",
      "70/70 [==============================] - 0s 846us/step - loss: 226.1641 - root_mean_squared_error: 15.0388\n",
      "Epoch 260/300\n",
      "70/70 [==============================] - 0s 840us/step - loss: 251.3035 - root_mean_squared_error: 15.8526\n",
      "Epoch 261/300\n",
      "70/70 [==============================] - 0s 942us/step - loss: 256.8418 - root_mean_squared_error: 16.0263\n",
      "Epoch 262/300\n",
      "70/70 [==============================] - 0s 932us/step - loss: 247.5230 - root_mean_squared_error: 15.7329\n",
      "Epoch 263/300\n",
      "70/70 [==============================] - 0s 959us/step - loss: 256.8522 - root_mean_squared_error: 16.0266\n",
      "Epoch 264/300\n",
      "70/70 [==============================] - 0s 970us/step - loss: 265.7622 - root_mean_squared_error: 16.3022\n",
      "Epoch 265/300\n",
      "70/70 [==============================] - 0s 909us/step - loss: 247.9052 - root_mean_squared_error: 15.7450\n",
      "Epoch 266/300\n",
      "70/70 [==============================] - 0s 933us/step - loss: 266.8960 - root_mean_squared_error: 16.3370\n",
      "Epoch 267/300\n",
      "70/70 [==============================] - 0s 834us/step - loss: 252.9639 - root_mean_squared_error: 15.9048\n",
      "Epoch 268/300\n",
      "70/70 [==============================] - 0s 1ms/step - loss: 245.3218 - root_mean_squared_error: 15.6628\n",
      "Epoch 269/300\n",
      "70/70 [==============================] - 0s 913us/step - loss: 258.2487 - root_mean_squared_error: 16.0701\n",
      "Epoch 270/300\n",
      "70/70 [==============================] - 0s 952us/step - loss: 247.7612 - root_mean_squared_error: 15.7404\n",
      "Epoch 271/300\n",
      "70/70 [==============================] - 0s 960us/step - loss: 249.8254 - root_mean_squared_error: 15.8059\n",
      "Epoch 272/300\n",
      "70/70 [==============================] - 0s 878us/step - loss: 234.8424 - root_mean_squared_error: 15.3246\n",
      "Epoch 273/300\n",
      "70/70 [==============================] - 0s 1ms/step - loss: 276.2099 - root_mean_squared_error: 16.6196\n",
      "Epoch 274/300\n",
      "70/70 [==============================] - 0s 999us/step - loss: 249.0984 - root_mean_squared_error: 15.7829\n",
      "Epoch 275/300\n",
      "70/70 [==============================] - 0s 982us/step - loss: 259.9734 - root_mean_squared_error: 16.1237\n",
      "Epoch 276/300\n",
      "70/70 [==============================] - 0s 961us/step - loss: 239.2530 - root_mean_squared_error: 15.4678\n",
      "Epoch 277/300\n",
      "70/70 [==============================] - 0s 929us/step - loss: 248.9145 - root_mean_squared_error: 15.7770\n",
      "Epoch 278/300\n",
      "70/70 [==============================] - 0s 922us/step - loss: 257.8474 - root_mean_squared_error: 16.0576\n",
      "Epoch 279/300\n",
      "70/70 [==============================] - 0s 961us/step - loss: 240.7399 - root_mean_squared_error: 15.5158\n",
      "Epoch 280/300\n",
      "70/70 [==============================] - 0s 931us/step - loss: 241.0802 - root_mean_squared_error: 15.5268\n",
      "Epoch 281/300\n",
      "70/70 [==============================] - 0s 898us/step - loss: 246.5568 - root_mean_squared_error: 15.7021\n",
      "Epoch 282/300\n",
      "70/70 [==============================] - 0s 1ms/step - loss: 243.3561 - root_mean_squared_error: 15.5999\n",
      "Epoch 283/300\n",
      "70/70 [==============================] - 0s 945us/step - loss: 247.9071 - root_mean_squared_error: 15.7451\n",
      "Epoch 284/300\n",
      "70/70 [==============================] - 0s 941us/step - loss: 250.2768 - root_mean_squared_error: 15.8201\n",
      "Epoch 285/300\n",
      "70/70 [==============================] - 0s 852us/step - loss: 255.5168 - root_mean_squared_error: 15.9849\n",
      "Epoch 286/300\n",
      "70/70 [==============================] - 0s 941us/step - loss: 259.5367 - root_mean_squared_error: 16.1101\n",
      "Epoch 287/300\n",
      "70/70 [==============================] - 0s 865us/step - loss: 239.7024 - root_mean_squared_error: 15.4823\n",
      "Epoch 288/300\n",
      "70/70 [==============================] - 0s 929us/step - loss: 268.1904 - root_mean_squared_error: 16.3765\n",
      "Epoch 289/300\n",
      "70/70 [==============================] - 0s 923us/step - loss: 248.4692 - root_mean_squared_error: 15.7629\n",
      "Epoch 290/300\n",
      "70/70 [==============================] - 0s 978us/step - loss: 256.9183 - root_mean_squared_error: 16.0287\n",
      "Epoch 291/300\n",
      "70/70 [==============================] - 0s 941us/step - loss: 246.4441 - root_mean_squared_error: 15.6985\n",
      "Epoch 292/300\n",
      "70/70 [==============================] - 0s 910us/step - loss: 252.3062 - root_mean_squared_error: 15.8841\n",
      "Epoch 293/300\n",
      "70/70 [==============================] - 0s 964us/step - loss: 262.3503 - root_mean_squared_error: 16.1972\n",
      "Epoch 294/300\n",
      "70/70 [==============================] - 0s 915us/step - loss: 250.0475 - root_mean_squared_error: 15.8129\n",
      "Epoch 295/300\n",
      "70/70 [==============================] - 0s 864us/step - loss: 243.6888 - root_mean_squared_error: 15.6105\n",
      "Epoch 296/300\n",
      "70/70 [==============================] - 0s 959us/step - loss: 241.1293 - root_mean_squared_error: 15.5283\n",
      "Epoch 297/300\n",
      "70/70 [==============================] - 0s 1ms/step - loss: 241.2109 - root_mean_squared_error: 15.5310\n",
      "Epoch 298/300\n",
      "70/70 [==============================] - 0s 958us/step - loss: 235.4229 - root_mean_squared_error: 15.3435\n",
      "Epoch 299/300\n",
      "70/70 [==============================] - 0s 879us/step - loss: 247.3029 - root_mean_squared_error: 15.7259\n",
      "Epoch 300/300\n",
      "70/70 [==============================] - 0s 886us/step - loss: 226.5168 - root_mean_squared_error: 15.0505\n",
      "Mean Absolute Error for test: 16.2298 units.\n",
      "r2 score =  0.3078835636991777\n",
      "RMSE for test,  20.770422\n"
     ]
    },
    {
     "data": {
      "image/png": "[encoded data removed]",
      "text/plain": [
       "<Figure size 432x288 with 1 Axes>"
      ]
     },
     "metadata": {
      "needs_background": "light"
     },
     "output_type": "display_data"
    }
   ],
   "source": [
    "mlp.compile(loss='mean_squared_error', \n",
    "            optimizer='rmsprop',\n",
    "            metrics=[tf.keras.metrics.RootMeanSquaredError()]) \n",
    "r_squareds = []\n",
    "RMSEs = []\n",
    "for i in range (1, 2):\n",
    "    tf.random.set_seed(i)\n",
    "    np.random.seed(i)\n",
    "    from numpy.random import seed\n",
    "    seed(i)\n",
    "    mlp.fit(train_new_features, train_labels, epochs=300, batch_size=2)\n",
    "    pred_test = mlp.predict (test_new_features)\n",
    "    # Calculate the absolute errors\n",
    "    errors_test = abs(pred_test - test_labels)\n",
    "    # Print out the mean absolute error (mae)\n",
    "    print('Mean Absolute Error for test:', round(np.mean(errors_test), 4), 'units.')\n",
    "    r_squared_test = r2_score(test_labels, pred_test)\n",
    "    print('r2 score = ', r_squared_test)\n",
    "    plt.scatter(pred_test, test_labels)\n",
    "    r_squareds.append(r_squared_test)\n",
    "    m = tf.keras.metrics.RootMeanSquaredError()\n",
    "    m.update_state(pred_test, test_labels)\n",
    "    RMSEs.append (m.result().numpy())\n",
    "    print ('RMSE for test, ', m.result().numpy())"
   ]
  },
  {
   "cell_type": "code",
   "execution_count": 95,
   "metadata": {},
   "outputs": [
    {
     "name": "stdout",
     "output_type": "stream",
     "text": [
      "[[7.0707071]]\n",
      "[[ 9.23076923e+01  4.50000000e+01  2.80000000e+00  4.12000000e+01\n",
      "   2.17475533e-01  0.00000000e+00 -0.00000000e+00 -0.00000000e+00\n",
      "   2.65000000e+02  0.00000000e+00  0.00000000e+00  0.00000000e+00\n",
      "   4.17515337e-01  5.70891602e+02  8.71154594e+00  3.78571429e+00]]\n",
      "r2 score before removal=  0.3078835636991777\n",
      "r2 score 99% outlier removed=  0.37057065369059783\n"
     ]
    },
    {
     "data": {
      "image/png": "[encoded data removed]",
      "text/plain": [
       "<Figure size 432x288 with 1 Axes>"
      ]
     },
     "metadata": {
      "needs_background": "light"
     },
     "output_type": "display_data"
    }
   ],
   "source": [
    "# find the outlier of the tested model\n",
    "test_error = abs(pred_test.reshape(pred_test.shape[0], 1)-test_labels)\n",
    "plt.scatter(test_labels, test_error)\n",
    "\n",
    "error_99quan = np.quantile(test_error, 0.99)\n",
    "error_99quan_index = np.where (test_error > error_99quan)[0] \n",
    "print (test_labels[error_99quan_index])\n",
    "print (test_new_features[error_99quan_index])\n",
    "\n",
    "r_squared_test = r2_score(test_labels, pred_test)\n",
    "print('r2 score before removal= ', r_squared_test)\n",
    "\n",
    "r_squared_test = r2_score(np.delete (test_labels, error_99quan_index), \n",
    "                          np.delete (pred_test, error_99quan_index))\n",
    "print('r2 score 99% outlier removed= ', r_squared_test)"
   ]
  },
  {
   "cell_type": "code",
   "execution_count": 100,
   "metadata": {},
   "outputs": [
    {
     "name": "stdout",
     "output_type": "stream",
     "text": [
      "Root Mean Squared Error(RMSE) for train: 21.0017 %\n",
      "0.4322428191315322\n"
     ]
    }
   ],
   "source": [
    "pred_train = mlp.predict (train_new_features)\n",
    "# Calculate the absolute errors\n",
    "errors_train = (pred_train - train_labels)**2\n",
    "# Print out the mean absolute error (mae)\n",
    "print('Root Mean Squared Error(RMSE) for train:', round(np.sqrt(np.mean(errors_train)), 4), '%')\n",
    "r_squared_train = r2_score(train_labels, pred_train)\n",
    "print (r_squared_train)"
   ]
  },
  {
   "cell_type": "code",
   "execution_count": 102,
   "metadata": {},
   "outputs": [
    {
     "data": {
      "text/plain": [
       "21.001665"
      ]
     },
     "execution_count": 102,
     "metadata": {},
     "output_type": "execute_result"
    }
   ],
   "source": [
    "m = tf.keras.metrics.RootMeanSquaredError()\n",
    "m.update_state(pred_train, train_labels)\n",
    "(m.result().numpy())"
   ]
  },
  {
   "cell_type": "code",
   "execution_count": 104,
   "metadata": {},
   "outputs": [
    {
     "data": {
      "text/plain": [
       "(-0.38667603126605865, 1.3620144828490697e-07)"
      ]
     },
     "execution_count": 104,
     "metadata": {},
     "output_type": "execute_result"
    },
    {
     "data": {
      "image/png": "[encoded data removed]",
      "text/plain": [
       "<Figure size 432x288 with 1 Axes>"
      ]
     },
     "metadata": {
      "needs_background": "light"
     },
     "output_type": "display_data"
    }
   ],
   "source": [
    "# the higher the pulsetime, the lower the Final current percentage\n",
    "plt.scatter(pulsetime, Final_Current_Percent_predicted)\n",
    "plt.xlabel ('pulsetime')\n",
    "plt.ylabel ('Final current percentage')\n",
    "\n",
    "pulsetime_ = pulsetime.reshape(pulsetime.shape[0], )\n",
    "\n",
    "Final_Current_Percent_predicted_ = Final_Current_Percent_predicted.reshape(\n",
    "                                   Final_Current_Percent_predicted.shape[0], )\n",
    "\n",
    "pearsonr(pulsetime_, Final_Current_Percent_predicted_)"
   ]
  },
  {
   "cell_type": "code",
   "execution_count": 105,
   "metadata": {},
   "outputs": [
    {
     "data": {
      "text/plain": [
       "(-0.20667910946767634, 0.0062145364035489006)"
      ]
     },
     "execution_count": 105,
     "metadata": {},
     "output_type": "execute_result"
    },
    {
     "data": {
      "image/png": "[encoded data removed]",
      "text/plain": [
       "<Figure size 432x288 with 1 Axes>"
      ]
     },
     "metadata": {
      "needs_background": "light"
     },
     "output_type": "display_data"
    }
   ],
   "source": [
    "plt.scatter(pulsetime, Norm_I_Max_predicted)\n",
    "plt.xlabel ('pulsetime')\n",
    "plt.ylabel ('Norm_I_Max_predicted')\n",
    "\n",
    "pulsetime_ = pulsetime.reshape(pulsetime.shape[0], )\n",
    "Norm_I_Max_predicted_ = Norm_I_Max_predicted.reshape(\n",
    "                                   Norm_I_Max_predicted.shape[0], )\n",
    "\n",
    "pearsonr(pulsetime_, Norm_I_Max_predicted_)"
   ]
  },
  {
   "cell_type": "code",
   "execution_count": 106,
   "metadata": {},
   "outputs": [
    {
     "data": {
      "text/plain": [
       "(0.3826150639917454, 1.885391849425535e-07)"
      ]
     },
     "execution_count": 106,
     "metadata": {},
     "output_type": "execute_result"
    },
    {
     "data": {
      "image/png": "[encoded data removed]",
      "text/plain": [
       "<Figure size 432x288 with 1 Axes>"
      ]
     },
     "metadata": {
      "needs_background": "light"
     },
     "output_type": "display_data"
    }
   ],
   "source": [
    "# the higher the pulse time, the higher total charge\n",
    "plt.scatter(pulsetime, Norm_charge_tot_predicted)\n",
    "\n",
    "pulsetime_ = pulsetime.reshape(pulsetime.shape[0], )\n",
    "Norm_charge_tot_predicted_ = Norm_charge_tot_predicted.reshape(\n",
    "                                   Norm_charge_tot_predicted.shape[0], )\n",
    "\n",
    "pearsonr(pulsetime_, Norm_charge_tot_predicted_)"
   ]
  },
  {
   "cell_type": "code",
   "execution_count": 107,
   "metadata": {},
   "outputs": [
    {
     "name": "stdout",
     "output_type": "stream",
     "text": [
      "Variable: charge_denisty Importance: ('charge_denisty', 0.35)\n",
      "Variable: material_CB Importance: ('material_CB', 0.14)\n",
      "Variable: material_MC Importance: ('material_MC', 0.04)\n",
      "Variable: material_PA Importance: ('material_PA', 0.0)\n",
      "Variable: material_TCB Importance: ('material_TCB', 0.0)\n",
      "Variable: PulseTime Importance: ('PulseTime', 0.0)\n",
      "Variable: Pretreat_voltage Importance: ('Pretreat_voltage', 0.0)\n",
      "Variable: Atmosphere_air Importance: ('Atmosphere_air', 0.0)\n",
      "Variable: Atmosphere_arg Importance: ('Atmosphere_arg', 0.03)\n",
      "Variable: Final_Current_Percent Importance: ('Final_Current_Percent', 0.05)\n",
      "Variable: Norm_I_Max Importance: ('Norm_I_Max', 0.03)\n",
      "Variable: Norm_charge_tot Importance: ('Norm_charge_tot', 0.04)\n",
      "[0.34895948, 0.14385574, 0.038562335, 0.0, 0.0, 0.0, 0.0, 0.0, 0.031442508, 0.049529906, 0.033124603, 0.036101855, 0.083283536, 0.06026493, 0.12648356, 0.048391584]\n"
     ]
    }
   ],
   "source": [
    "# Get numerical feature importances\n",
    "importances = list(xgbr_graphyield.feature_importances_)\n",
    "# List of tuples with variable and importance\n",
    "feature_importances = [(feature, round(importance, 2)) for feature, importance in zip(feature_list, importances)]\n",
    "# Sort the feature importances by most important first\n",
    "#feature_importances = sorted(feature_importances, key = lambda x: x[1], reverse = True)\n",
    "# Print out the feature and importances \n",
    "[print('Variable: {} Importance: {}'.format(feature, importance)) \n",
    " for (feature, importance) in zip(feature_list, feature_importances)];\n",
    "print (importances)"
   ]
  },
  {
   "cell_type": "code",
   "execution_count": 108,
   "metadata": {},
   "outputs": [
    {
     "name": "stdout",
     "output_type": "stream",
     "text": [
      "Mean Absolute Error: 16.9511 units.\n"
     ]
    },
    {
     "data": {
      "text/plain": [
       "[<matplotlib.lines.Line2D at 0x7fda31589b20>]"
      ]
     },
     "execution_count": 108,
     "metadata": {},
     "output_type": "execute_result"
    },
    {
     "data": {
      "image/png": "[encoded data removed]",
      "text/plain": [
       "<Figure size 432x288 with 1 Axes>"
      ]
     },
     "metadata": {
      "needs_background": "light"
     },
     "output_type": "display_data"
    }
   ],
   "source": [
    "pred_test = xgbr_graphyield.predict(test_new_features)\n",
    "errors_test= abs(pred_train - train_labels)\n",
    "print('Mean Absolute Error:', round(np.mean(errors_test), 4), 'units.')\n",
    "# Plot predictions vs actual values\n",
    "# Plot style\n",
    "fig, ax = plt.subplots(figsize=(6,4))\n",
    "ax.tick_params(direction='in', length=4, width=1.5, colors='black', grid_alpha=0, labelsize='14')\n",
    "# ax.set_xlim(20,105)\n",
    "# ax.set_ylim(20,105)\n",
    "\n",
    "# Predicted 2D/G\n",
    "plt.plot(pred_test, test_labels, \n",
    "         linestyle = 'none', marker = 'o', color='black', markersize='8')\n",
    "plt.title('Test Data', fontsize='18', fontname='Arial', fontweight='bold')\n",
    "plt.xlabel('Predicted', fontsize='18', fontname='Arial', fontweight='bold')\n",
    "plt.ylabel('Actual', fontsize='18', fontname='Arial', fontweight='bold')\n",
    "ymin, ymax = plt.ylim()\n",
    "plt.xlim(ymin, ymax)\n",
    "plt.ylim(ymin, ymax)\n",
    "# Make a red line to show perfect predictions\n",
    "x2 = np.arange(0, ymax*1.1, .1)\n",
    "y2 = np.arange(0, ymax*1.1, .1)\n",
    "plt.plot(x2,y2, linestyle='--', linewidth = '3', color='red')"
   ]
  },
  {
   "cell_type": "code",
   "execution_count": 109,
   "metadata": {},
   "outputs": [
    {
     "name": "stdout",
     "output_type": "stream",
     "text": [
      "Mean of I Max CB is  199.5962952631579\n",
      "Mean of I Max MC is  546.874309090909\n",
      "Mean of I Max PA is  301.9472116666666\n",
      "Mean of I Max TCB is  217.5159437837838\n"
     ]
    },
    {
     "data": {
      "image/png": "[encoded data removed]",
      "text/plain": [
       "<Figure size 360x288 with 1 Axes>"
      ]
     },
     "metadata": {
      "needs_background": "light"
     },
     "output_type": "display_data"
    }
   ],
   "source": [
    "def category_normalization_theonesyoualwaysuse(df):\n",
    "    groups = df.groupby(['Material'])\n",
    "    norm_I_Max = []\n",
    "    norm_charge_tot=[]\n",
    "    for name, group in groups:\n",
    "        I_Max_array = np.asfarray(group.I_Max)\n",
    "        charge_tot_array = np.asfarray(group.Charge_Tot)\n",
    "        mean_I_Max = np.mean(I_Max_array)\n",
    "        mean_charge_tot = np.mean(charge_tot_array)\n",
    "        std_I_Max = np.std(I_Max_array)\n",
    "        std_charge_tot = np.std(charge_tot_array)\n",
    "        print(\"Mean of I Max\", name, \"is \", mean_I_Max)\n",
    "        norm_I_Max_cat = np.divide(np.subtract(I_Max_array, mean_I_Max), std_I_Max)\n",
    "        norm_charge_tot_cat = np.divide(np.subtract(charge_tot_array, mean_charge_tot), std_charge_tot)\n",
    "        norm_I_Max = np.append(norm_I_Max, norm_I_Max_cat)\n",
    "        norm_charge_tot = np.append(norm_charge_tot, norm_charge_tot_cat)\n",
    "    return norm_I_Max, norm_charge_tot\n",
    "\n",
    "\n",
    "# Plot style\n",
    "fig, ax = plt.subplots(figsize=(5,4))\n",
    "# ax.set_yticks(np.arange(.2, 2.2, .2))\n",
    "# ax.set_xticks(np.arange(0, 1200, 100))\n",
    "# ax.set_xlim(.7,3.3)\n",
    "\n",
    "# Import file\n",
    "df_test = pd.read_csv('FJH_ML_Final.csv', header=1)\n",
    "# Create normalized I by category\n",
    "norm1, norm2 = category_normalization_theonesyoualwaysuse(df_test)\n",
    "df_test['Norm_I_Max'] = norm1\n",
    "df_test['Norm_charge_tot'] = norm2\n",
    "df_test['charge_density'] = df_test['Voltage']*df_test['Cap']/df_test['Mass']\n",
    "# df_test['test_feature'] = (df_test['Voltage']/df_test['Mass'])#*df_test['PulseTime']\n",
    "# df_test = df_test[df_test['TwoDtoG']<1.5]\n",
    "# df_test = df_test[df_test['Graphene_Yield']>20]\n",
    "\n",
    "# Cut dataframe to only the test set\n",
    "df_test = df_test.iloc[idx_test]\n",
    "df_test['y_pred'] = pred_test\n",
    "df_test['y_true'] = test_labels\n",
    "\n",
    "groups = df_test.groupby(['Material'])\n",
    "\n",
    "# Plot\n",
    "ax.tick_params(direction='in', length=4, width=1.5, colors='black', grid_alpha=0, labelsize='14')\n",
    "counter=0\n",
    "markers = ['o', 's', '^', 'v']\n",
    "colors=['blue', 'red', 'green', 'orange']\n",
    "colors2 = ['maroon', 'darkorange', 'goldenrod', 'dodgerblue']\n",
    "for name, group in groups:\n",
    "    ax.plot(group.y_pred, group.y_true, marker=markers[counter], alpha=0.9, linestyle='', ms=8, label=name)\n",
    "    counter+=1\n",
    "    # Predicted 2D/G\n",
    "# plt.title('Test Data', fontsize='18', fontname='Arial', fontweight='bold')\n",
    "ax.set_xlabel('Predicted Yield (%)', fontsize='18', fontname='Arial', fontweight='bold')\n",
    "ax.set_ylabel('Actual Yield (%)', fontsize='18', fontname='Arial', fontweight='bold')\n",
    "ymin, ymax = plt.ylim()\n",
    "ax.set_xlim(ymin, ymax)\n",
    "ax.set_ylim(ymin, ymax)\n",
    "# Make a red line to show perfect predictions\n",
    "x2 = np.arange(ymin, ymax*1.1, .01)\n",
    "y2 = np.arange(ymin, ymax*1.1, .01)\n",
    "ax.plot(x2,y2, linestyle='--', linewidth = '3', color='red')\n",
    "leg = plt.legend(frameon=\"True\", prop={'family': 'Arial'})\n",
    "ax.legend(frameon=False, ncol=2, fontsize=12, loc='upper left')\n",
    "\n",
    "# Plot\n",
    "# plt.plot(df_test['I_Max'],df_test['Graphene_Yield'], linestyle = 'none', marker = 'o', color='black', markersize='8')\n",
    "# plt.xlabel('Flash Voltage (V)', fontsize='18', fontname='Arial', fontweight='bold')\n",
    "# plt.ylabel('D/G Ratio', fontsize='18', fontname='Arial', fontweight='bold')\n",
    "\n",
    "# Save\n",
    "plt.tight_layout()\n",
    "plt.savefig('XGBPerformance_materialgroup.png', dpi=300)\n",
    "plt.show()"
   ]
  },
  {
   "cell_type": "code",
   "execution_count": 110,
   "metadata": {},
   "outputs": [
    {
     "data": {
      "image/png": "[encoded data removed]",
      "text/plain": [
       "<Figure size 360x288 with 1 Axes>"
      ]
     },
     "metadata": {
      "needs_background": "light"
     },
     "output_type": "display_data"
    }
   ],
   "source": [
    "# Distribution of Graphene_yield with  CD density groups\n",
    "cv = np.array (df_test['charge_density'])\n",
    "Qs = np.quantile (cv, [0.25, 0.5, 0.75])\n",
    "\n",
    "cv_class = cv\n",
    "cv_class = np.where(cv <= Qs[0], 0, cv_class)\n",
    "cv_class = np.where((cv > Qs[0]) & (cv <= Qs[1]), 1, cv_class)\n",
    "cv_class = np.where((cv > Qs[1]) & (cv <= Qs[2]), 2, cv_class)\n",
    "cv_class = np.where(cv > Qs[2], 3, cv_class)\n",
    "\n",
    "# Plot style\n",
    "fig, ax = plt.subplots(figsize=(5,4))\n",
    "# ax.set_yticks(np.arange(.2, 2.2, .2))\n",
    "# ax.set_xticks(np.arange(0, 1200, 100))\n",
    "# ax.set_xlim(.7,3.3)\n",
    "df_test['cv_class'] = cv_class\n",
    "groups = df_test.groupby(['cv_class'])\n",
    "\n",
    "# Plot\n",
    "ax.tick_params(direction='in', length=4, width=1.5, colors='black', grid_alpha=0, labelsize='14')\n",
    "counter=0\n",
    "markers = ['o', 's', '^', 'v']\n",
    "colors=['blue', 'red', 'green', 'orange']\n",
    "colors2 = ['maroon', 'darkorange', 'goldenrod', 'dodgerblue']\n",
    "for name, group in groups:\n",
    "    ax.plot(group.y_pred, group.y_true, marker=markers[counter], alpha=0.9, linestyle='', ms=8, label=name)\n",
    "    counter+=1\n",
    "    # Predicted 2D/G\n",
    "# plt.title('Test Data', fontsize='18', fontname='Arial', fontweight='bold')\n",
    "ax.set_xlabel('Predicted Yield (%)', fontsize='18', fontname='Arial', fontweight='bold')\n",
    "ax.set_ylabel('Actual Yield (%)', fontsize='18', fontname='Arial', fontweight='bold')\n",
    "ymin, ymax = plt.ylim()\n",
    "ax.set_xlim(ymin, ymax)\n",
    "ax.set_ylim(ymin, ymax)\n",
    "# Make a red line to show perfect predictions\n",
    "x2 = np.arange(ymin, ymax*1.1, .01)\n",
    "y2 = np.arange(ymin, ymax*1.1, .01)\n",
    "ax.plot(x2,y2, linestyle='--', linewidth = '3', color='red')\n",
    "leg = plt.legend(frameon=\"True\", prop={'family': 'Arial'})\n",
    "ax.legend(frameon=False, ncol=2, fontsize=12, loc='upper left')\n",
    "\n",
    "# Plot\n",
    "# plt.plot(df_test['I_Max'],df_test['Graphene_Yield'], linestyle = 'none', marker = 'o', color='black', markersize='8')\n",
    "# plt.xlabel('Flash Voltage (V)', fontsize='18', fontname='Arial', fontweight='bold')\n",
    "# plt.ylabel('D/G Ratio', fontsize='18', fontname='Arial', fontweight='bold')\n",
    "\n",
    "# Save\n",
    "plt.tight_layout()\n",
    "plt.savefig('XGBPerformance_cvgroup.png', dpi=300)\n",
    "plt.show()"
   ]
  },
  {
   "cell_type": "code",
   "execution_count": 111,
   "metadata": {},
   "outputs": [
    {
     "data": {
      "image/png": "[encoded data removed]",
      "text/plain": [
       "<Figure size 432x288 with 2 Axes>"
      ]
     },
     "metadata": {
      "needs_background": "light"
     },
     "output_type": "display_data"
    }
   ],
   "source": [
    "# Plot pred vs. true values for test set, coloring the charge density\n",
    "groups = df_test.groupby(['Material'])\n",
    "fig, ax = plt.subplots(figsize=(6,4))\n",
    "ax.tick_params(direction='in', length=4, width=1.5, colors='black', grid_alpha=0, labelsize='14')\n",
    "\n",
    "\n",
    "for name, group in groups:\n",
    "    p = ax.scatter(group.y_pred, group.y_true, c=group.charge_density, marker='o', s=100, cmap='Blues')\n",
    "    \n",
    "cb = fig.colorbar(p, ax=ax)\n",
    "cb.set_label('Charge Density (C/g)', fontsize='18', fontname='Arial', fontweight='bold')\n",
    "cb.ax.tick_params(labelsize=14)\n",
    "\n",
    "# plt.title('Test Data', fontsize='18', fontname='Arial', fontweight='bold')\n",
    "ax.set_xlabel('Predicted Yield', fontsize='18', fontname='Arial', fontweight='bold')\n",
    "ax.set_ylabel('Actual Yield', fontsize='18', fontname='Arial', fontweight='bold')\n",
    "ymin, ymax = plt.ylim()\n",
    "ax.set_xlim(ymin, ymax)\n",
    "ax.set_ylim(ymin, ymax)\n",
    "# Make a red line to show perfect predictions\n",
    "x2 = np.arange(ymin, ymax*1.1, .01)\n",
    "y2 = np.arange(ymin, ymax*1.1, .01)\n",
    "ax.plot(x2,y2, linestyle='--', linewidth = '3', color='red')\n",
    "# ax.legend(fontsize=12)\n",
    "\n",
    "# Plot\n",
    "# plt.plot(df['I_Max'],df['Graphene_Yield'], linestyle = 'none', marker = 'o', color='black', markersize='8')\n",
    "# plt.xlabel('Flash Voltage (V)', fontsize='18', fontname='Arial', fontweight='bold')\n",
    "# plt.ylabel('D/G Ratio', fontsize='18', fontname='Arial', fontweight='bold')\n",
    "\n",
    "# Save\n",
    "plt.tight_layout()\n",
    "# plt.savefig('XGB_Regression_Performance_colorChargeDensity.png', dpi=300)\n",
    "plt.show()"
   ]
  },
  {
   "cell_type": "code",
   "execution_count": 112,
   "metadata": {},
   "outputs": [],
   "source": [
    "# outside test (Need to ask Jacob the details, material, atmosphere)\n",
    "filename = 'FJH_ML_MBO_Yield4_modified.csv'\n",
    "df_testBO0 = pd.read_csv(filename, sep=\",\", encoding='ISO-8859-1', header=1)\n",
    "df_testBO = df_testBO0\n",
    "# Only works for test that are TCB material !!!!!!\n",
    "Material_CB_testBO = np.array (df_testBO['Material']).reshape(-1, 1)\n",
    "Material_CB_testBO [:] = 0\n",
    "Material_MC_testBO = np.zeros_like (Material_CB_testBO)\n",
    "Material_PA_testBO = np.zeros_like (Material_CB_testBO)\n",
    "Material_TCB_testBO = np.zeros_like (Material_CB_testBO)\n",
    "Material_TCB_testBO [:] = 1\n",
    "material_type_testBO = np.concatenate ((Material_CB_testBO, \n",
    "                                        Material_MC_testBO, \n",
    "                                        Material_PA_testBO,\n",
    "                                        Material_TCB_testBO), axis=1)\n",
    "\n",
    "material_type_GY_coef_testBO = material_type_testBO * CB_MC_PA_TCB_coef_average\n",
    "Atmosphere_air_testBO = np.array (df_testBO['Atmosphere']).reshape(-1, 1)\n",
    "Atmosphere_air_testBO [:] = 0\n",
    "Atmosphere_arg_testBO = np.zeros_like (Atmosphere_air_testBO)\n",
    "atmosphere_type_testBO = np.concatenate ((Atmosphere_air_testBO, \n",
    "                                          Atmosphere_arg_testBO ), axis=1)\n",
    "# base 60mF as base and the number in excel file of 18mF\n",
    "df_testBO['Cap'] = 60 + df_testBO['Cap']*18\n",
    "charge_density_testBO = np.array (df_testBO['Voltage']*df_testBO['Cap']/df_testBO['Mass']).reshape(-1, 1)\n",
    "pulsetime_testBO = np.array (df_testBO['PulseTime']).reshape(-1, 1)\n",
    "Pretreat_voltage_testBO = np.array (df_testBO['Pretreat_voltage']).reshape(-1, 1)"
   ]
  },
  {
   "cell_type": "code",
   "execution_count": 113,
   "metadata": {},
   "outputs": [],
   "source": [
    "# got it from model based prediction of I_Max\n",
    "material_type_I_Finalperc_coef_testBO = material_type_testBO * CB_MC_PA_coef_Final_Current_Percent\n",
    "material_type_Norm_I_Max_coef_testBO = material_type_testBO * CB_MC_PA_coef_Norm_I_Max\n",
    "material_type_Norm_charge_Tot_coef_testBO = material_type_testBO * CB_MC_PA_coef_Norm_charge_tot\n",
    "\n",
    "features_testBO = np.concatenate ((charge_density_testBO,\n",
    "                                   pulsetime_testBO,\n",
    "                                   material_type_I_Finalperc_coef_testBO,\n",
    "                                   atmosphere_type_testBO,\n",
    "                                   Pretreat_voltage_testBO), axis=1)\n",
    "Final_Current_Percent_predicted_testBO = xgbr_final_I_percent.predict(features_testBO)\n",
    "\n",
    "features_testBO = np.concatenate ((charge_density_testBO,\n",
    "                                   pulsetime_testBO,\n",
    "                                   material_type_Norm_I_Max_coef_testBO,\n",
    "                                   atmosphere_type_testBO,\n",
    "                                   Pretreat_voltage_testBO), axis=1)\n",
    "Norm_I_Max_predicted_testBO = xgbr_norm_I_max.predict(features_testBO)\n",
    "\n",
    "features_testBO = np.concatenate ((charge_density_testBO,\n",
    "                                   pulsetime_testBO,\n",
    "                                   material_type_Norm_charge_Tot_coef_testBO,\n",
    "                                   atmosphere_type_testBO,\n",
    "                                   Pretreat_voltage_testBO), axis=1)\n",
    "Norm_charge_tot_testBO = xgbr_norm_charge_total.predict(features_testBO)"
   ]
  },
  {
   "cell_type": "code",
   "execution_count": 114,
   "metadata": {},
   "outputs": [],
   "source": [
    "material_type_GY_testBO = material_type_testBO * CB_MC_PA_TCB_coef_average\n",
    "# Porxy properties, as well as process parameters\n",
    "features_testBO = np.concatenate ((charge_density_testBO,\n",
    "                                   material_type_GY_testBO,\n",
    "                                   pulsetime_testBO,\n",
    "                                   Pretreat_voltage_testBO,\n",
    "                                   atmosphere_type_testBO,\n",
    "                                   Final_Current_Percent_predicted_testBO.reshape(-1, 1),\n",
    "                                   Norm_I_Max_predicted_testBO.reshape(-1, 1),\n",
    "                                   Norm_charge_tot_testBO.reshape(-1, 1)), axis=1)"
   ]
  }
 ],
 "metadata": {
  "kernelspec": {
   "display_name": "Python 3 (ipykernel)",
   "language": "python",
   "name": "python3"
  },
  "language_info": {
   "codemirror_mode": {
    "name": "ipython",
    "version": 3
   },
   "file_extension": ".py",
   "mimetype": "text/x-python",
   "name": "python",
   "nbconvert_exporter": "python",
   "pygments_lexer": "ipython3",
   "version": "3.9.15"
  }
 },
 "nbformat": 4,
 "nbformat_minor": 4
}
