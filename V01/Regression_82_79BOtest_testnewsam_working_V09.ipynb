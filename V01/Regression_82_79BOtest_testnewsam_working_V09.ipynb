{
 "cells": [
  {
   "cell_type": "markdown",
   "metadata": {},
   "source": [
    "### 173 samples, Final_R is missing for the following sample\n",
    "137)\tMC\tair\t204\t8\t180\t60\t180\t500\t30\t114\t0.3\tNA\t150\t0.3\t100\t0.490196078\t486.395\t57.78712883\t26.00664167\t0.467\t9.68631173\t3\t0.422680412\t0.541775715\t0.521526486\t44.36424367"
   ]
  },
  {
   "cell_type": "code",
   "execution_count": 1,
   "metadata": {},
   "outputs": [
    {
     "name": "stderr",
     "output_type": "stream",
     "text": [
      "/home/kianoosh/anaconda3/envs/my-rdkit-env/lib/python3.9/site-packages/xgboost/compat.py:36: FutureWarning: pandas.Int64Index is deprecated and will be removed from pandas in a future version. Use pandas.Index with the appropriate dtype instead.\n",
      "  from pandas import MultiIndex, Int64Index\n",
      "2022-12-01 16:39:13.908143: W tensorflow/stream_executor/platform/default/dso_loader.cc:64] Could not load dynamic library 'libcudart.so.11.0'; dlerror: libcudart.so.11.0: cannot open shared object file: No such file or directory\n",
      "2022-12-01 16:39:13.908164: I tensorflow/stream_executor/cuda/cudart_stub.cc:29] Ignore above cudart dlerror if you do not have a GPU set up on your machine.\n"
     ]
    }
   ],
   "source": [
    "# Import Python libaries\n",
    "%matplotlib inline\n",
    "from scipy.optimize import curve_fit\n",
    "import time as time\n",
    "# General data management\n",
    "import numpy as np\n",
    "import pandas as pd\n",
    "import random\n",
    "import matplotlib.pyplot as plt\n",
    "import seaborn as sns\n",
    "import xgboost as xgb\n",
    "from xgboost import XGBRegressor\n",
    "from sklearn import linear_model\n",
    "from sklearn import ensemble\n",
    "from xgboost import plot_tree\n",
    "from sklearn.tree import DecisionTreeRegressor\n",
    "# import pydo\n",
    "# generate random integer values\n",
    "from random import seed\n",
    "from random import randint\n",
    "# seed random number generator\n",
    "seed(1)\n",
    "# Machine learning & model visualization tools\n",
    "from sklearn import preprocessing\n",
    "from sklearn.ensemble import RandomForestRegressor\n",
    "from sklearn.pipeline import make_pipeline\n",
    "from sklearn.model_selection import train_test_split, GridSearchCV, LeaveOneOut\n",
    "from sklearn.metrics import r2_score, mean_squared_error, mean_gamma_deviance, mean_absolute_error\n",
    "from sklearn.tree import export_graphviz\n",
    "from sklearn import svm\n",
    "from sklearn.neural_network import MLPRegressor\n",
    "from sklearn.neighbors import KNeighborsRegressor\n",
    "from numpy import cov\n",
    "from scipy.stats import pearsonr\n",
    "from scipy import ndimage, misc\n",
    "\n",
    "from scipy import stats \n",
    "from sklearn.linear_model import LinearRegression\n",
    "from sklearn.preprocessing import PolynomialFeatures\n",
    "from sklearn.preprocessing import MinMaxScaler\n",
    "# from sklearn.externals import joblib\n",
    "# Miscellaneous\n",
    "import os\n",
    "import io\n",
    "import pydot\n",
    "import math\n",
    "import tensorflow as tf\n",
    "from tensorflow import keras\n",
    "from tensorflow.keras import layers\n",
    "from keras import backend as BK\n",
    "from tensorflow.keras.models import Sequential\n",
    "from tensorflow.keras.layers import Dense\n",
    "from tensorflow.keras.wrappers.scikit_learn import KerasRegressor\n",
    "from sklearn.inspection import partial_dependence, plot_partial_dependence"
   ]
  },
  {
   "cell_type": "code",
   "execution_count": 2,
   "metadata": {},
   "outputs": [],
   "source": [
    "# proxy properties\n",
    "# read the input data\n",
    "df = pd.read_csv('FJH_ML_Final.csv', header=1)\n",
    "df_dummy = pd.get_dummies(df)\n",
    "\n",
    "df['Norm_charge_tot'] = df['Charge_Tot']/(df['Mass'])*1000\n",
    "df['Norm_I_Max'] = df['I_Max']/df['Mass']*1000\n",
    "df['charge_density'] = df['Voltage']*df['Cap']/df['Mass']\n",
    "df['Final_Current_Percent'] = df['I_Final']/df['I_Max']\n",
    "\n",
    "Norm_I_Max = np.array (df['Norm_I_Max']).reshape(-1, 1)\n",
    "Final_Current_Percent  = np.array (df['Final_Current_Percent']).reshape(-1, 1)\n",
    "Norm_charge_tot  = np.array (df['Norm_charge_tot']).reshape(-1, 1)\n",
    "# final prediction, yield of Graphene\n",
    "df['Graphene_Yield'] = 100*df['Graphene_Yield']\n",
    "Graphene_Yield = np.array (df['Graphene_Yield']).reshape(-1, 1)\n",
    "\n",
    "# only process parameters that are in BO prediction\n",
    "Pretreat_voltage = np.array (df['Pretreat_voltage']).reshape(-1, 1)\n",
    "pulsetime = np.array (df['PulseTime']).reshape(-1, 1)\n",
    "charge_denisty = np.array (df['charge_density']).reshape(-1, 1)"
   ]
  },
  {
   "cell_type": "code",
   "execution_count": 3,
   "metadata": {},
   "outputs": [],
   "source": [
    "# type of material\n",
    "Material_CB = np.array (df_dummy['Material_CB']).reshape(-1, 1)\n",
    "Material_MC = np.array (df_dummy['Material_MC']).reshape(-1, 1) \n",
    "Material_PA = np.array (df_dummy['Material_PA']).reshape(-1, 1)\n",
    "Material_TCB = np.array (df_dummy['Material_TCB']).reshape(-1, 1)\n",
    "material_type = np.concatenate ((Material_CB, Material_MC, Material_PA, Material_TCB), axis=1)\n",
    "\n",
    "material_matrix = np.concatenate((np.array (df_dummy['Material_CB']).reshape([-1, 1]), \n",
    "                                  np.array (df_dummy['Material_MC']).reshape([-1, 1]),\n",
    "                                  np.array (df_dummy['Material_PA']).reshape([-1, 1]),\n",
    "                                  np.array (df_dummy['Material_TCB']).reshape([-1, 1])), axis=1)\n",
    "material_matrix = np.array (material_matrix)\n",
    "# extra material descriptors\n",
    "# Cabot BP2000: Tensile Strength=17 MPa, particle size=15nm, specific surface area=1500(m2/g)\n",
    "# metallurgical coke: grain size=150-210 (um)\n",
    "# pyrolysis ash: \n",
    "# pyrolyzed rubber tire-derived carbon black: "
   ]
  },
  {
   "cell_type": "code",
   "execution_count": 4,
   "metadata": {},
   "outputs": [],
   "source": [
    "# physical properties of precursor received from Kevin\n",
    "CB_ps_res_sa_sp2 = [45, 2.8, 1750, 41.2]\n",
    "MC_ps_res_sa_sp2 = [150, 0.4, 18, 45.9]\n",
    "PA_ps_res_sa_sp2 = [125, 7.2, 62, 42.4]\n",
    "TCB_ps_res_sa_sp2 = [106, 6.3, 74, 30.6]\n",
    "CB_MC_PA_TCB_ps_res_sa_sp2 = np.concatenate ([CB_ps_res_sa_sp2,\n",
    "                 MC_ps_res_sa_sp2,\n",
    "                 PA_ps_res_sa_sp2,\n",
    "                 TCB_ps_res_sa_sp2], axis=0).reshape(4,4)\n",
    "X_CB_MC_PA_TCB_ps_res_sa_sp2 = np.matmul(material_matrix, CB_MC_PA_TCB_ps_res_sa_sp2)"
   ]
  },
  {
   "cell_type": "code",
   "execution_count": 5,
   "metadata": {},
   "outputs": [],
   "source": [
    "# type of Atmosphere\n",
    "Atmosphere_air = np.array (df_dummy['Atmosphere_air']).reshape(-1, 1)\n",
    "Atmosphere_arg = np.array (df_dummy['Atmosphere_arg']).reshape(-1, 1)\n",
    "#Atmosphere_vac = np.array (df_dummy['Atmosphere_vac']).reshape(-1, 1)\n",
    "atmosphere_type = np.concatenate ((Atmosphere_air, Atmosphere_arg), axis=1)"
   ]
  },
  {
   "cell_type": "code",
   "execution_count": 6,
   "metadata": {},
   "outputs": [
    {
     "name": "stdout",
     "output_type": "stream",
     "text": [
      "(0.7261024524604334, 1.641345629149422e-10)\n",
      "(0.5812794795939819, 2.124196571910361e-06)\n"
     ]
    },
    {
     "data": {
      "image/png": "[encoded data removed]",
      "text/plain": [
       "<Figure size 432x288 with 1 Axes>"
      ]
     },
     "metadata": {
      "needs_background": "light"
     },
     "output_type": "display_data"
    }
   ],
   "source": [
    "voltage_CB = df['Voltage'].loc[df['Material']=='CB']\n",
    "mass_CB = df['Mass'].loc[df['Material']=='CB']\n",
    "cap_CB = df['Cap'].loc[df['Material']=='CB']\n",
    "GY_CB = df['Graphene_Yield'].loc[df['Material']=='CB']\n",
    "CD_CB = df['charge_density'].loc[df['Material']=='CB']\n",
    "prevol_CB = df['Pretreat_voltage'].loc[df['Material']=='CB']\n",
    "prevolhighest_CB = df['Pretreat_voltage'].loc[df['Material']=='CB']\n",
    "I_Max_CB = df['I_Max'].loc[df['Material']=='CB']\n",
    "I_Mean_CB = df['I_Mean'].loc[df['Material']=='CB']\n",
    "charge_tot_CB = df['Charge_Tot'].loc[df['Material']=='CB']\n",
    "\n",
    "plt.scatter (((voltage_CB**1)/(mass_CB**-1)*(cap_CB**1))**1*1e-8\n",
    "                +(prevol_CB**0.5) \n",
    "                +(I_Max_CB**0.8)\n",
    "                +(charge_tot_CB**1)\n",
    "                ,GY_CB)\n",
    "\n",
    "print (pearsonr((voltage_CB**1)/(mass_CB**0.5)*(cap_CB**0.5) \n",
    "                +(prevol_CB**0.5) \n",
    "                +(I_Max_CB**0.8)\n",
    "                +(charge_tot_CB**1)\n",
    "                ,GY_CB))\n",
    "print (pearsonr((voltage_CB**1)/(mass_CB**1)*cap_CB**1, GY_CB))"
   ]
  },
  {
   "cell_type": "code",
   "execution_count": 10,
   "metadata": {},
   "outputs": [
    {
     "name": "stdout",
     "output_type": "stream",
     "text": [
      "mean r2:  0.36820773459643663\n",
      "mean pearson r:  0.6774600263775616\n",
      "coef_:  [ 0.02406689 -0.00291398 -0.01218679 -0.00883577  0.00516408 -0.01620758\n",
      "  0.00024003 -0.0139576  -0.0052297 ]\n",
      "Gamma score: 0.5337952725128021\n",
      "r-squared 0.6020820385042721\n",
      "mse:  0.02476901626840307\n",
      "pearson r (0.7962755676048487, 1.0660849528819874e-08)\n"
     ]
    },
    {
     "data": {
      "text/plain": [
       "Text(0, 0.5, 'Pred. I_Final/I_Max')"
      ]
     },
     "execution_count": 10,
     "metadata": {},
     "output_type": "execute_result"
    },
    {
     "data": {
      "image/png": "[encoded data removed]",
      "text/plain": [
       "<Figure size 360x288 with 1 Axes>"
      ]
     },
     "metadata": {
      "needs_background": "light"
     },
     "output_type": "display_data"
    }
   ],
   "source": [
    "# Final_Current_Percent as output of linear model with inputs Precursor related\n",
    "# Init_R, Res_Drop, Volt_Drop --> Final_Current_Percent\n",
    "material_matrix_cosh = np.cosh (material_matrix)\n",
    "Init_R = np.array (df['Init_R']).reshape (-1, 1)\n",
    "Res_Drop = np.array (df['Res_Drop']).reshape (-1, 1)\n",
    "Volt_Drop = np.array (df['Volt_Drop']).reshape (-1, 1)\n",
    "Mass = np.array (df['Mass']).reshape(-1, 1)\n",
    "\n",
    "input_features = np.concatenate((material_matrix, charge_denisty, Init_R, \n",
    "                                 Res_Drop, Volt_Drop, Graphene_Yield), axis=1)\n",
    "\n",
    "r_squareS = []\n",
    "pearsonrS = []\n",
    "coef_mat_S = []\n",
    "for i in range (0, 200):\n",
    "    X_train, X_test, y_train, y_test = train_test_split(\n",
    "        input_features, Final_Current_Percent, test_size=0.4, random_state=i)\n",
    "    clf = linear_model.GammaRegressor(alpha=1, max_iter=10000)\n",
    "    clf = clf.fit(X_train, y_train.ravel())\n",
    "    CB_MC_PA_coef_Final_Current_Percent = clf.coef_[0:4]\n",
    "    y_pred = clf.predict (X_test)\n",
    "    #print ('Gamma score:', clf.score(X_test, y_test.ravel()))\n",
    "    r2 = r2_score(y_test.ravel(), y_pred.ravel())\n",
    "    #print ('r-squared', r2)\n",
    "    #print ('mse: ', mean_squared_error(y_test, y_pred))\n",
    "    pearr = pearsonr(y_test.ravel(), y_pred.ravel())\n",
    "    #print ('pearson r', pearr)\n",
    "    r_squareS.append(r2)\n",
    "    pearsonrS.append(pearr[0])\n",
    "    coef_mat_S.append(clf.coef_[0:4])\n",
    "print ('mean r2: ', np.mean(np.array(r_squareS)))\n",
    "print ('mean pearson r: ', np.mean(np.array(pearsonrS)))\n",
    "\n",
    "# get the average of all coef with different random states.\n",
    "CB_MC_PA_coef_Final_Current_Percent = np.mean (np.array(coef_mat_S), axis=0)\n",
    "# Fix the hyperparamters and train only on training data\n",
    "X_train, X_test, y_train, y_test = train_test_split(\n",
    "        input_features, Final_Current_Percent, test_size=0.2, random_state=7)\n",
    "clf = linear_model.GammaRegressor(alpha=1, max_iter=10000)\n",
    "clf = clf.fit(X_train, y_train.ravel())\n",
    "print ('coef_: ', clf.coef_)\n",
    "\n",
    "y_pred = clf.predict (X_test)\n",
    "print ('Gamma score:', clf.score(X_test, y_test.ravel()))\n",
    "r2 = r2_score(y_test.ravel(), y_pred.ravel())\n",
    "print ('r-squared', r2)\n",
    "print ('mse: ', mean_squared_error(y_test, y_pred))\n",
    "pearr = pearsonr(y_test.ravel(), y_pred.ravel())\n",
    "print ('pearson r', pearr)\n",
    "    \n",
    "fig, ax = plt.subplots(figsize=(5, 4))\n",
    "plt.scatter(y_test, y_pred)\n",
    "\n",
    "ax.tick_params(axis='x', direction='in', length=4, width=1.5, colors='black', grid_alpha=0, labelsize='14')\n",
    "ax.tick_params(axis='y', direction='in', length=4, width=1.5, colors='black', grid_alpha=0, labelsize='14')\n",
    "plt.xlabel('True I_Final/I_Max', fontsize='18', fontname='Arial', fontweight='bold')\n",
    "plt.ylabel('Pred. I_Final/I_Max', fontsize='18', fontname='Arial', fontweight='bold')\n",
    "#mid_line = list(np.linspace(np.min(Final_Current_Percent), np.max(Final_Current_Percent), 8))\n",
    "#plt.plot(mid_line, mid_line, '--', color='red')"
   ]
  },
  {
   "cell_type": "code",
   "execution_count": 11,
   "metadata": {},
   "outputs": [
    {
     "name": "stdout",
     "output_type": "stream",
     "text": [
      "mean r2:  0.571592520236972\n",
      "mean pearson r:  0.7855922912032477\n",
      "coef_:  [ 0.00011893 -0.00031649  0.00138312 -0.00118387 -0.03918107  0.00720841\n",
      "  0.00527762  0.00270649  0.01279077 -0.03316151  0.00316424]\n",
      "Gamma score: 0.5237834892762123\n",
      "r-squared 0.7247958460695246\n",
      "mse:  137875.4841731152\n",
      "pearson r (0.8559894680670143, 5.591203879361779e-11)\n"
     ]
    },
    {
     "data": {
      "text/plain": [
       "Text(0, 0.5, 'Pred. Norm_I_Max')"
      ]
     },
     "execution_count": 11,
     "metadata": {},
     "output_type": "execute_result"
    },
    {
     "data": {
      "image/png": "[encoded data removed]",
      "text/plain": [
       "<Figure size 360x288 with 1 Axes>"
      ]
     },
     "metadata": {
      "needs_background": "light"
     },
     "output_type": "display_data"
    }
   ],
   "source": [
    "# Norm_I_Max as output of linear model with inputs Precursor related\n",
    "# Init_R, Res_Drop, Volt_Drop --> Norm_I_Max\n",
    "material_matrix_cosh = np.cosh (material_matrix)\n",
    "Init_R = np.array (df['Init_R']).reshape (-1, 1)\n",
    "Res_Drop = np.array (df['Res_Drop']).reshape (-1, 1)\n",
    "Volt_Drop = np.array (df['Volt_Drop']).reshape (-1, 1)\n",
    "Mass = np.array (df['Mass']).reshape(-1, 1)\n",
    "\n",
    "input_features = np.concatenate((material_matrix, Init_R, charge_denisty,\n",
    "                                 X_CB_MC_PA_TCB_ps_res_sa_sp2[:, (0, 1, 3)],\n",
    "                                 Res_Drop, Volt_Drop), axis=1)\n",
    "\n",
    "r_squareS = []\n",
    "pearsonrS = []\n",
    "coef_mat_S = []\n",
    "for i in range (0, 200):\n",
    "    X_train, X_test, y_train, y_test = train_test_split(\n",
    "        input_features, Norm_I_Max, test_size=0.2, random_state=i)\n",
    "    clf = linear_model.GammaRegressor(alpha=0.1, max_iter=10000)\n",
    "    clf = clf.fit(X_train, y_train.ravel())\n",
    "    CB_MC_PA_coef_Norm_I_Max = clf.coef_[0:4]\n",
    "    y_pred = clf.predict (X_test)\n",
    "    #print ('Gamma score:', clf.score(X_test, y_test.ravel()))\n",
    "    r2 = r2_score(y_test.ravel(), y_pred.ravel())\n",
    "    #print ('r-squared', r2)\n",
    "    #print ('mse: ', mean_squared_error(y_test, y_pred))\n",
    "    pearr = pearsonr(y_test.ravel(), y_pred.ravel())\n",
    "    #print ('pearson r', pearr)\n",
    "    r_squareS.append(r2)\n",
    "    pearsonrS.append(pearr[0])\n",
    "    coef_mat_S.append(clf.coef_[0:4])\n",
    "print ('mean r2: ', np.mean(np.array(r_squareS)))\n",
    "print ('mean pearson r: ', np.mean(np.array(pearsonrS)))\n",
    "\n",
    "# get the average of all coef with different random states.\n",
    "CB_MC_PA_coef_Norm_I_Max = np.mean (np.array(coef_mat_S), axis=0)\n",
    "# Fix the hyperparamters and train only on training data\n",
    "X_train, X_test, y_train, y_test = train_test_split(\n",
    "        input_features, Norm_I_Max, test_size=0.2, random_state=7)\n",
    "clf = linear_model.GammaRegressor(alpha=0.1, max_iter=10000)\n",
    "clf = clf.fit(X_train, y_train.ravel())\n",
    "print ('coef_: ', clf.coef_)\n",
    "\n",
    "y_pred = clf.predict (X_test)\n",
    "print ('Gamma score:', clf.score(X_test, y_test.ravel()))\n",
    "r2 = r2_score(y_test.ravel(), y_pred.ravel())\n",
    "print ('r-squared', r2)\n",
    "print ('mse: ', mean_squared_error(y_test, y_pred))\n",
    "pearr = pearsonr(y_test.ravel(), y_pred.ravel())\n",
    "print ('pearson r', pearr)\n",
    "    \n",
    "fig, ax = plt.subplots(figsize=(5, 4))\n",
    "plt.scatter(y_test, y_pred)\n",
    "\n",
    "ax.tick_params(axis='x', direction='in', length=4, width=1.5, colors='black', grid_alpha=0, labelsize='14')\n",
    "ax.tick_params(axis='y', direction='in', length=4, width=1.5, colors='black', grid_alpha=0, labelsize='14')\n",
    "plt.xlabel('True Norm_I_Max', fontsize='18', fontname='Arial', fontweight='bold')\n",
    "plt.ylabel('Pred. Norm_I_Max', fontsize='18', fontname='Arial', fontweight='bold')\n",
    "#mid_line = list(np.linspace(np.min(Norm_I_Max), np.max(Norm_I_Max), 8))\n",
    "#plt.plot(mid_line, mid_line, '--', color='red')"
   ]
  },
  {
   "cell_type": "code",
   "execution_count": 12,
   "metadata": {},
   "outputs": [
    {
     "name": "stdout",
     "output_type": "stream",
     "text": [
      "mean r2:  0.5151541661477035\n",
      "mean pearson r:  0.7789288745661703\n",
      "Gamma score: 0.6264453660867094\n",
      "r-squared 0.7466508625463539\n",
      "mse:  196.9378468309179\n",
      "pearson r (0.8682476781264775, 1.4173048400529228e-11)\n"
     ]
    },
    {
     "data": {
      "text/plain": [
       "Text(0, 0.5, 'Pred. Norm_charge_tot')"
      ]
     },
     "execution_count": 12,
     "metadata": {},
     "output_type": "execute_result"
    },
    {
     "data": {
      "image/png": "[encoded data removed]",
      "text/plain": [
       "<Figure size 360x288 with 1 Axes>"
      ]
     },
     "metadata": {
      "needs_background": "light"
     },
     "output_type": "display_data"
    }
   ],
   "source": [
    "# Norm_charge_tot as output of linear model with inputs Precursor related\n",
    "# Init_R, Res_Drop, Volt_Drop --> Norm_charge_tot\n",
    "material_matrix_cosh = np.cosh (material_matrix)\n",
    "Init_R = np.array (df['Init_R']).reshape (-1, 1)\n",
    "Res_Drop = np.array (df['Res_Drop']).reshape (-1, 1)\n",
    "Volt_Drop = np.array (df['Volt_Drop']).reshape (-1, 1)\n",
    "Mass = np.array (df['Mass']).reshape(-1, 1)\n",
    "\n",
    "input_features = np.concatenate((material_matrix, Init_R, charge_denisty,\n",
    "                                 Res_Drop, Volt_Drop), axis=1)\n",
    "\n",
    "r_squareS = []\n",
    "pearsonrS = []\n",
    "coef_mat_S = []\n",
    "for i in range (0, 200):\n",
    "    X_train, X_test, y_train, y_test = train_test_split(\n",
    "        input_features, Norm_charge_tot, test_size=0.2, random_state=i)\n",
    "    clf = linear_model.GammaRegressor(alpha=1, max_iter=10000)\n",
    "    clf = clf.fit(X_train, y_train.ravel())\n",
    "    CB_MC_PA_coef_Norm_charge_tot = clf.coef_[0:4]\n",
    "    y_pred = clf.predict (X_test)\n",
    "    #print ('Gamma score:', clf.score(X_test, y_test.ravel()))\n",
    "    r2 = r2_score(y_test.ravel(), y_pred.ravel())\n",
    "    #print ('r-squared', r2)\n",
    "    #print ('mse: ', mean_squared_error(y_test, y_pred))\n",
    "    pearr = pearsonr(y_test.ravel(), y_pred.ravel())\n",
    "    #print ('pearson r', pearr)\n",
    "    r_squareS.append(r2)\n",
    "    pearsonrS.append(pearr[0])\n",
    "    coef_mat_S.append(clf.coef_[0:4])\n",
    "print ('mean r2: ', np.mean(np.array(r_squareS)))\n",
    "print ('mean pearson r: ', np.mean(np.array(pearsonrS)))\n",
    "\n",
    "# get the average of all coef with different random states.\n",
    "CB_MC_PA_coef_Norm_charge_tot = np.mean (np.array(coef_mat_S), axis=0)\n",
    "# Fix the hyperparamters and train only on training data\n",
    "X_train, X_test, y_train, y_test = train_test_split(\n",
    "        input_features, Norm_charge_tot, test_size=0.2, random_state=7)\n",
    "clf = linear_model.GammaRegressor(alpha=1, max_iter=10000)\n",
    "clf = clf.fit(X_train, y_train.ravel())\n",
    "#print ('coef_: ', clf.coef_)\n",
    "\n",
    "y_pred = clf.predict (X_test)\n",
    "print ('Gamma score:', clf.score(X_test, y_test.ravel()))\n",
    "r2 = r2_score(y_test.ravel(), y_pred.ravel())\n",
    "print ('r-squared', r2)\n",
    "print ('mse: ', mean_squared_error(y_test, y_pred))\n",
    "pearr = pearsonr(y_test.ravel(), y_pred.ravel())\n",
    "print ('pearson r', pearr)\n",
    "    \n",
    "fig, ax = plt.subplots(figsize=(5, 4))\n",
    "plt.scatter(y_test, y_pred)\n",
    "\n",
    "ax.tick_params(axis='x', direction='in', length=4, width=1.5, colors='black', grid_alpha=0, labelsize='14')\n",
    "ax.tick_params(axis='y', direction='in', length=4, width=1.5, colors='black', grid_alpha=0, labelsize='14')\n",
    "plt.xlabel('True Norm_charge_tot', fontsize='18', fontname='Arial', fontweight='bold')\n",
    "plt.ylabel('Pred. Norm_charge_tot', fontsize='18', fontname='Arial', fontweight='bold')\n",
    "#mid_line = list(np.linspace(np.min(Norm_charge_tot), np.max(Norm_charge_tot), 8))\n",
    "#plt.plot(mid_line, mid_line, '--', color='red')"
   ]
  },
  {
   "cell_type": "code",
   "execution_count": 13,
   "metadata": {},
   "outputs": [],
   "source": [
    "# got it from model based prediction of I_Max\n",
    "material_type_I_Finalperc_coef = material_type * CB_MC_PA_coef_Final_Current_Percent\n",
    "material_type_Norm_I_Max_coef = material_type * CB_MC_PA_coef_Norm_I_Max\n",
    "material_type_Norm_charge_Tot_coef = material_type * CB_MC_PA_coef_Norm_charge_tot"
   ]
  },
  {
   "cell_type": "code",
   "execution_count": 14,
   "metadata": {},
   "outputs": [
    {
     "data": {
      "text/plain": [
       "array([ 1.12800000e+02,  1.20000000e+03,  2.88461393e-02, -0.00000000e+00,\n",
       "       -0.00000000e+00, -0.00000000e+00,  0.00000000e+00,  0.00000000e+00,\n",
       "        6.00000000e+01])"
      ]
     },
     "execution_count": 14,
     "metadata": {},
     "output_type": "execute_result"
    }
   ],
   "source": [
    "# proxy (current-time plot) prediction (Final_Current_percent)\n",
    "new_features = np.concatenate ((charge_denisty,\n",
    "                                pulsetime,\n",
    "                                material_type_I_Finalperc_coef,\n",
    "                                atmosphere_type,\n",
    "                                Pretreat_voltage), axis=1)\n",
    "\n",
    "rand=7\n",
    "indices = np.arange(len(new_features))\n",
    "train_new_features, test_new_features, train_labels, test_labels, idxtrain, idx_test = \\\n",
    "                      train_test_split(new_features, Final_Current_Percent, \n",
    "                                       indices, test_size = 0.20, random_state = rand)\n",
    "feature_list = ['charge_denisty',\n",
    "                'PulseTime',\n",
    "                'material_CB',\n",
    "                'material_MC',\n",
    "                'material_PA',\n",
    "                'material_CB',\n",
    "                'Atmosphere_air',\n",
    "                'Atmosphere_arg',\n",
    "                'Pretreat_voltage']\n",
    "new_features[0]"
   ]
  },
  {
   "cell_type": "code",
   "execution_count": 15,
   "metadata": {},
   "outputs": [
    {
     "name": "stdout",
     "output_type": "stream",
     "text": [
      "Average of r pearson for test 0.662233759904468\n",
      "std of r pearson for test 0.01727561018799209 \n",
      "\n",
      "Average of r_squared for test 0.4204675768230646\n",
      "std of r_squared for test 0.021021623655164967 \n",
      "\n",
      "Average of r_squared for train 0.8092938872010177\n",
      "std of r_squared for train 0.007244344038685593\n",
      "Mean Absolute Error: 0.2072 units.\n",
      "r2 score =  0.777848107305179\n",
      "Mean Absolute Error: 0.1933 units.\n",
      "r2 score =  0.6985276297828256\n"
     ]
    }
   ],
   "source": [
    "r_squareds = list()\n",
    "r_pearsons = list()\n",
    "r_squareds_train = list()\n",
    "MAEs = list()\n",
    "MAEs_train = list()\n",
    "start = time.time()\n",
    "for random_state in range(50):\n",
    "    # after fixing the hyperparameters, train the model on all samples\n",
    "    # Instantiate model with 1000 decision tree\n",
    "    xgbr_final_I_percent = XGBRegressor(max_depth=3, n_estimators=25, gamma=0.01, \n",
    "                   learning_rate=0.115, subsample=0.77, min_child_weight=8, \n",
    "                   random_state=random_state)\n",
    "    #xgbr_final_I_percent = RandomForestRegressor(max_depth=20, n_estimators=500, min_samples_split=3)\n",
    "    # xgbr_final_I_percent = linear_model.BayesianRidge()\n",
    "    # xgbr_final_I_percent = XGBRegressor()\n",
    "    # Train the model on training data\n",
    "    labels = Final_Current_Percent\n",
    "    xgbr_final_I_percent.fit(train_new_features, train_labels);\n",
    "    #print('Doneskies')\n",
    "    Final_Current_Percent_test = xgbr_final_I_percent.predict(test_new_features)\n",
    "    r_squared_Final_Current_test = r2_score(test_labels, Final_Current_Percent_test)\n",
    "    r_squareds.append(r_squared_Final_Current_test)\n",
    "    \n",
    "    r_pearson_Final_Current_test = pearsonr(test_labels.reshape(test_labels.shape[0],), \n",
    "                                            Final_Current_Percent_test.reshape(Final_Current_Percent_test.shape[0],))\n",
    "    r_pearsons.append(r_pearson_Final_Current_test[0])   \n",
    "    \n",
    "    Final_Current_Percent_train = xgbr_final_I_percent.predict(train_new_features)\n",
    "    r_squared_Final_Current_train = r2_score(train_labels, Final_Current_Percent_train)\n",
    "    r_squareds_train.append(r_squared_Final_Current_train)    \n",
    "\n",
    "print ('Average of r pearson for test', np.mean(np.array(r_pearsons)))\n",
    "print ('std of r pearson for test', np.std(np.array(r_pearsons)), '\\n')\n",
    "\n",
    "print ('Average of r_squared for test', np.mean(np.array(r_squareds)))\n",
    "print ('std of r_squared for test', np.std(np.array(r_squareds)), '\\n')\n",
    "\n",
    "print ('Average of r_squared for train', np.mean(np.array(r_squareds_train)))\n",
    "print ('std of r_squared for train', np.std(np.array(r_squareds_train)))\n",
    "\n",
    "xgbr_final_I_percent.fit(new_features, labels)\n",
    "# Use the forest's predict method on the test data\n",
    "Final_Current_Percent_predicted = xgbr_final_I_percent.predict(new_features)\n",
    "# Calculate the absolute errors\n",
    "errors = abs(Final_Current_Percent_predicted - Final_Current_Percent)\n",
    "# Print out the mean absolute error (mae)\n",
    "print('Mean Absolute Error:', round(np.mean(errors), 4), 'units.')\n",
    "\n",
    "r_squared_Final_Current_all = r2_score(Final_Current_Percent, Final_Current_Percent_predicted)\n",
    "print('r2 score = ', r_squared_Final_Current_all)\n",
    "\n",
    "# Use the forest's predict method on the test data\n",
    "Final_Current_Percent_test = xgbr_final_I_percent.predict(test_new_features)\n",
    "# Calculate the absolute errors\n",
    "errors_test = abs(Final_Current_Percent_test - test_labels)\n",
    "# Print out the mean absolute error (mae)\n",
    "print('Mean Absolute Error:', round(np.mean(errors_test), 4), 'units.')\n",
    "\n",
    "r_squared_Final_Current_test = r2_score(test_labels, Final_Current_Percent_test)\n",
    "print('r2 score = ', r_squared_Final_Current_test)"
   ]
  },
  {
   "cell_type": "code",
   "execution_count": 16,
   "metadata": {},
   "outputs": [
    {
     "name": "stdout",
     "output_type": "stream",
     "text": [
      "[0.07375926, 0.48786104, 0.06047855, 0.11870212, 0.0075992225, 0.037053633, 0.059584334, 0.0, 0.15496178]\n",
      "Variable: charge_denisty Importance: ('charge_denisty', 0.07)\n",
      "Variable: PulseTime Importance: ('PulseTime', 0.49)\n",
      "Variable: material_CB Importance: ('material_CB', 0.06)\n",
      "Variable: material_MC Importance: ('material_MC', 0.12)\n",
      "Variable: material_PA Importance: ('material_PA', 0.01)\n",
      "Variable: material_CB Importance: ('material_CB', 0.04)\n",
      "Variable: Atmosphere_air Importance: ('Atmosphere_air', 0.06)\n",
      "Variable: Atmosphere_arg Importance: ('Atmosphere_arg', 0.0)\n",
      "Variable: Pretreat_voltage Importance: ('Pretreat_voltage', 0.15)\n"
     ]
    }
   ],
   "source": [
    "# Get numerical feature importances\n",
    "importances = list(xgbr_final_I_percent.feature_importances_)\n",
    "print (importances)\n",
    "# List of tuples with variable and importance\n",
    "feature_importances = [(feature, round(importance, 2)) for feature, importance in zip(feature_list, importances)]\n",
    "# Sort the feature importances by most important first\n",
    "#feature_importances = sorted(feature_importances, key = lambda x: x[1], reverse = True)\n",
    "# Print out the feature and importances \n",
    "[print('Variable: {} Importance: {}'.format(feature, importance)) \n",
    " for (feature, importance) in zip(feature_list, feature_importances)];"
   ]
  },
  {
   "cell_type": "code",
   "execution_count": 17,
   "metadata": {},
   "outputs": [],
   "source": [
    "# proxy (current-time plot) prediction (Norm_I_Max)\n",
    "new_features = np.concatenate ((charge_denisty,\n",
    "                                #np.array (df['Voltage']).reshape(-1, 1),\n",
    "                                pulsetime,\n",
    "                                material_type_Norm_I_Max_coef,\n",
    "                                atmosphere_type,\n",
    "                                Pretreat_voltage), axis=1)\n",
    "\n",
    "rand=0\n",
    "indices = np.arange(len(new_features))\n",
    "train_new_features, test_new_features, train_labels, test_labels, idxtrain, idx_test = \\\n",
    "                      train_test_split(new_features, Norm_I_Max, \n",
    "                                       indices, test_size = 0.2, random_state = rand)\n",
    "\n",
    "feature_list = ['charge_denisty',\n",
    "                'PulseTime',\n",
    "                'material_CB',\n",
    "                'material_MC',\n",
    "                'material_PA',\n",
    "                'material_TCB',\n",
    "                'Atmosphere_air',\n",
    "                'Atmosphere_arg',\n",
    "                'Pretreat_voltage']"
   ]
  },
  {
   "cell_type": "code",
   "execution_count": 18,
   "metadata": {},
   "outputs": [
    {
     "name": "stdout",
     "output_type": "stream",
     "text": [
      "(0.7895080655700772, 1.731054934952032e-08)\n",
      "Average of pearson r for test 0.7810154834756273\n",
      "std of pearson 1 for test 0.01008559249330929 \n",
      "\n",
      "Average of r_squared for test 0.573356679659293\n",
      "std of r_squared for test 0.013405545283271307 \n",
      "\n",
      "Average of r_squared for train 0.6920682071470152\n",
      "std of r_squared for train 0.006170619174382692\n",
      "Mean Absolute Error: 718.5204 units.\n",
      "r2 score =  0.690673533208469\n",
      "Mean Absolute Error: 715.1021 units.\n",
      "r2 score =  0.692127316379529\n"
     ]
    },
    {
     "data": {
      "image/png": "[encoded data removed]",
      "text/plain": [
       "<Figure size 432x288 with 1 Axes>"
      ]
     },
     "metadata": {
      "needs_background": "light"
     },
     "output_type": "display_data"
    }
   ],
   "source": [
    "r_squareds = list()\n",
    "r_pearsons = list()\n",
    "r_squareds_train = list()\n",
    "MAEs = list()\n",
    "MAEs_train = list()\n",
    "start = time.time()\n",
    "for random_state in range(10):\n",
    "    # after fixing the hyperparameters, train the model on all samples\n",
    "    # Instantiate model with 1000 decision tree\n",
    "    \n",
    "    xgbr_norm_I_max = XGBRegressor(max_depth=3, n_estimators=25, gamma=0.001, \n",
    "                   learning_rate=0.09, subsample=0.775, min_child_weight=6, \n",
    "                  random_state=random_state)\n",
    "    \n",
    "    #xgbr_norm_I_max = RandomForestRegressor(max_depth=3, n_estimators=100, min_samples_split=3)\n",
    "    # xgbr_norm_I_max = linear_model.BayesianRidge()\n",
    "    # xgbr_norm_I_max = XGBRegressor()\n",
    "    # Train the model on training data\n",
    "    labels = Norm_I_Max\n",
    "    xgbr_norm_I_max.fit(train_new_features, train_labels);\n",
    "    \n",
    "    Norm_I_Max_test = xgbr_norm_I_max.predict(test_new_features)\n",
    "    r_squared_Norm_I_Max_test = r2_score(test_labels, Norm_I_Max_test)\n",
    "\n",
    "    test_labels_ = test_labels.reshape(test_labels.shape[0], )\n",
    "\n",
    "    Norm_I_Max_test_ = Norm_I_Max_test.reshape(Norm_I_Max_test.shape[0], )\n",
    "\n",
    "    r_pearson_Norm_I_Max_test = pearsonr(test_labels_, Norm_I_Max_test_)\n",
    "    r_pearsons.append(r_pearson_Norm_I_Max_test[0])\n",
    "    r_squareds.append(r_squared_Norm_I_Max_test)\n",
    "    \n",
    "    Norm_I_Max_train = xgbr_norm_I_max.predict(train_new_features)\n",
    "    r_squared_Norm_I_Max_train = r2_score(train_labels, Norm_I_Max_train)\n",
    "    r_squareds_train.append(r_squared_Norm_I_Max_train)  \n",
    "\n",
    "r_pearson_Norm_I_Max_test = pearsonr(test_labels_, Norm_I_Max_test_)\n",
    "print (r_pearson_Norm_I_Max_test)\n",
    "plt.scatter(test_labels_, Norm_I_Max_test_)\n",
    "print ('Average of pearson r for test', np.mean(np.array(r_pearsons)))\n",
    "print ('std of pearson 1 for test', np.std(np.array(r_pearsons)), '\\n')\n",
    "print ('Average of r_squared for test', np.mean(np.array(r_squareds)))\n",
    "print ('std of r_squared for test', np.std(np.array(r_squareds)), '\\n')\n",
    "print ('Average of r_squared for train', np.mean(np.array(r_squareds_train)))\n",
    "print ('std of r_squared for train', np.std(np.array(r_squareds_train)))\n",
    "\n",
    "xgbr_norm_I_max.fit(new_features, labels)\n",
    "# Use the forest's predict method on the test data\n",
    "Norm_I_Max_predicted = xgbr_norm_I_max.predict(new_features)\n",
    "# Calculate the absolute errors\n",
    "errors = abs(Norm_I_Max_predicted - Norm_I_Max)\n",
    "# Print out the mean absolute error (mae)\n",
    "print('Mean Absolute Error:', round(np.mean(errors), 4), 'units.')\n",
    "\n",
    "r_squared_Norm_I_Max_all = r2_score(Norm_I_Max, Norm_I_Max_predicted)\n",
    "print('r2 score = ', r_squared_Norm_I_Max_all)\n",
    "\n",
    "# Use the forest's predict method on the test data\n",
    "Norm_I_Max_test = xgbr_norm_I_max.predict(test_new_features)\n",
    "# Calculate the absolute errors\n",
    "errors_test = abs(Norm_I_Max_test - test_labels)\n",
    "# Print out the mean absolute error (mae)\n",
    "print('Mean Absolute Error:', round(np.mean(errors_test), 4), 'units.')\n",
    "\n",
    "r_squared_Norm_I_Max_test = r2_score(test_labels, Norm_I_Max_test)\n",
    "print('r2 score = ', r_squared_Norm_I_Max_test)"
   ]
  },
  {
   "cell_type": "code",
   "execution_count": 19,
   "metadata": {},
   "outputs": [
    {
     "name": "stdout",
     "output_type": "stream",
     "text": [
      "Variable: charge_denisty Importance: ('charge_denisty', 0.14)\n",
      "Variable: PulseTime Importance: ('PulseTime', 0.03)\n",
      "Variable: material_CB Importance: ('material_CB', 0.0)\n",
      "Variable: material_MC Importance: ('material_MC', 0.55)\n",
      "Variable: material_PA Importance: ('material_PA', 0.0)\n",
      "Variable: material_TCB Importance: ('material_TCB', 0.06)\n",
      "Variable: Atmosphere_air Importance: ('Atmosphere_air', 0.0)\n",
      "Variable: Atmosphere_arg Importance: ('Atmosphere_arg', 0.09)\n",
      "Variable: Pretreat_voltage Importance: ('Pretreat_voltage', 0.14)\n",
      "[0.14157231, 0.02969831, 0.0, 0.5455658, 0.0, 0.06243607, 0.0, 0.08547817, 0.13524945]\n"
     ]
    }
   ],
   "source": [
    "# Get numerical feature importances\n",
    "importances = list(xgbr_norm_I_max.feature_importances_)\n",
    "# List of tuples with variable and importance\n",
    "feature_importances = [(feature, round(importance, 2)) for feature, importance in zip(feature_list, importances)]\n",
    "# Sort the feature importances by most important first\n",
    "#feature_importances = sorted(feature_importances, key = lambda x: x[1], reverse = True)\n",
    "# Print out the feature and importances \n",
    "[print('Variable: {} Importance: {}'.format(feature, importance)) \n",
    " for (feature, importance) in zip(feature_list, feature_importances)];\n",
    "print (importances)"
   ]
  },
  {
   "cell_type": "code",
   "execution_count": 20,
   "metadata": {},
   "outputs": [],
   "source": [
    "# proxy (current-time plot) prediction (Norm_Norm_charge_tot)\n",
    "new_features = np.concatenate ((charge_denisty,\n",
    "                                pulsetime,\n",
    "                                material_type_Norm_charge_Tot_coef,\n",
    "                                atmosphere_type,\n",
    "                                Pretreat_voltage), axis=1)\n",
    "\n",
    "rand=0\n",
    "indices = np.arange(len(new_features))\n",
    "train_new_features, test_new_features, train_labels, test_labels, idxtrain, idx_test = \\\n",
    "                      train_test_split(new_features, Norm_charge_tot, \n",
    "                                       indices, test_size = 0.20, random_state = rand)\n",
    "feature_list = ['charge_denisty',\n",
    "                'PulseTime',\n",
    "                'material_CB',\n",
    "                'material_MC',\n",
    "                'material_PA',\n",
    "                'material_TCB',\n",
    "                'Atmosphere_air',\n",
    "                'Atmosphere_arg',\n",
    "                'Pretreat_voltage']"
   ]
  },
  {
   "cell_type": "code",
   "execution_count": 21,
   "metadata": {},
   "outputs": [
    {
     "name": "stdout",
     "output_type": "stream",
     "text": [
      "Average of pearson r for test 0.762857267170948\n",
      "std of pearson 1 for test 0.02562412003965354 \n",
      "\n",
      "Average of r_squared for test 0.5492208940617689\n",
      "std of r_squared for test 0.034717596485303946 \n",
      "\n",
      "Average of r_squared for train 0.9992018799936646\n",
      "std of r_squared for train 0.00020163820884514097\n",
      "Mean Absolute Error: 34.65 units.\n",
      "r2 score =  0.9993209585434534\n",
      "Mean Absolute Error: 37.4597 units.\n",
      "r2 score =  0.9991980110720922\n"
     ]
    }
   ],
   "source": [
    "r_squareds = list()\n",
    "r_pearsons = list()\n",
    "r_squareds_train = list()\n",
    "MAEs = list()\n",
    "MAEs_train = list()\n",
    "start = time.time()\n",
    "for random_state in range(10):\n",
    "    # after fixing the hyperparameters, train the model on all samples\n",
    "    # Instantiate model with 1000 decision tree\n",
    "    xgbr_norm_charge_total = XGBRegressor(max_depth=10, n_estimators=100, gamma=0.01, \n",
    "                   learning_rate=0.118, subsample=0.75, min_child_weight=2, \n",
    "                  random_state=random_state)\n",
    "    #xgbr_norm_charge_total = RandomForestRegressor(max_depth=5, n_estimators=200, min_samples_split=3)\n",
    "    # xgbr_norm_charge_total = linear_model.BayesianRidge()\n",
    "    # xgbr_norm_charge_total = XGBRegressor()\n",
    "    # Train the model on training data\n",
    "    labels = Norm_charge_tot\n",
    "    xgbr_norm_charge_total.fit(train_new_features, train_labels);\n",
    "    #print('Doneskies')\n",
    "    Norm_charge_tot_test = xgbr_norm_charge_total.predict(test_new_features)\n",
    "    r_squared_Norm_charge_tot_test = r2_score(test_labels, Norm_charge_tot_test)\n",
    "    r_squareds.append(r_squared_Norm_charge_tot_test)\n",
    "    \n",
    "    test_labels_ = test_labels.reshape(test_labels.shape[0], )\n",
    "    Norm_charge_tot_test_ = Norm_charge_tot_test.reshape(Norm_charge_tot_test.shape[0], )\n",
    "    r_pearson_Norm_charge_tot_test = pearsonr(test_labels_, Norm_charge_tot_test_)\n",
    "    r_pearsons.append(r_pearson_Norm_charge_tot_test[0])\n",
    "\n",
    "    \n",
    "    Norm_charge_tot_train = xgbr_norm_charge_total.predict(train_new_features)\n",
    "    r_squared_Norm_charge_tot_train = r2_score(train_labels, Norm_charge_tot_train)\n",
    "    r_squareds_train.append(r_squared_Norm_charge_tot_train)    \n",
    "\n",
    "print ('Average of pearson r for test', np.mean(np.array(r_pearsons)))\n",
    "print ('std of pearson 1 for test', np.std(np.array(r_pearsons)), '\\n')\n",
    "\n",
    "print ('Average of r_squared for test', np.mean(np.array(r_squareds)))\n",
    "print ('std of r_squared for test', np.std(np.array(r_squareds)), '\\n')\n",
    "\n",
    "print ('Average of r_squared for train', np.mean(np.array(r_squareds_train)))\n",
    "print ('std of r_squared for train', np.std(np.array(r_squareds_train)))\n",
    "\n",
    "\n",
    "xgbr_norm_charge_total.fit(new_features, labels)\n",
    "# Use the forest's predict method on the test data\n",
    "Norm_charge_tot_predicted = xgbr_norm_charge_total.predict(new_features)\n",
    "# Calculate the absolute errors\n",
    "errors = abs(Norm_charge_tot_predicted - Norm_charge_tot)\n",
    "# Print out the mean absolute error (mae)\n",
    "print('Mean Absolute Error:', round(np.mean(errors), 4), 'units.')\n",
    "\n",
    "r_squared_Norm_charge_tot_all = r2_score(Norm_charge_tot, Norm_charge_tot_predicted)\n",
    "print('r2 score = ', r_squared_Norm_charge_tot_all)\n",
    "\n",
    "# Use the forest's predict method on the test data\n",
    "Norm_charge_tot_test = xgbr_norm_charge_total.predict(test_new_features)\n",
    "# Calculate the absolute errors\n",
    "errors_test = abs(Norm_charge_tot_test - test_labels)\n",
    "# Print out the mean absolute error (mae)\n",
    "print('Mean Absolute Error:', round(np.mean(errors_test), 4), 'units.')\n",
    "\n",
    "r_squared_Norm_charge_tot_test = r2_score(test_labels, Norm_charge_tot_test)\n",
    "print('r2 score = ', r_squared_Norm_charge_tot_test)"
   ]
  },
  {
   "cell_type": "code",
   "execution_count": 22,
   "metadata": {},
   "outputs": [
    {
     "name": "stdout",
     "output_type": "stream",
     "text": [
      "Variable: charge_denisty Importance: ('charge_denisty', 0.12)\n",
      "Variable: PulseTime Importance: ('PulseTime', 0.13)\n",
      "Variable: material_CB Importance: ('material_CB', 0.08)\n",
      "Variable: material_MC Importance: ('material_MC', 0.22)\n",
      "Variable: material_PA Importance: ('material_PA', 0.03)\n",
      "Variable: material_TCB Importance: ('material_TCB', 0.18)\n",
      "Variable: Atmosphere_air Importance: ('Atmosphere_air', 0.06)\n",
      "Variable: Atmosphere_arg Importance: ('Atmosphere_arg', 0.09)\n",
      "Variable: Pretreat_voltage Importance: ('Pretreat_voltage', 0.1)\n",
      "[0.115658134, 0.13434337, 0.07814488, 0.21513005, 0.02933864, 0.18005373, 0.06032598, 0.085444376, 0.10156079]\n"
     ]
    }
   ],
   "source": [
    "# Get numerical feature importances\n",
    "importances = list(xgbr_norm_charge_total.feature_importances_)\n",
    "# List of tuples with variable and importance\n",
    "feature_importances = [(feature, round(importance, 2)) for feature, importance in zip(feature_list, importances)]\n",
    "# Sort the feature importances by most important first\n",
    "#feature_importances = sorted(feature_importances, key = lambda x: x[1], reverse = True)\n",
    "# Print out the feature and importances \n",
    "[print('Variable: {} Importance: {}'.format(feature, importance)) \n",
    " for (feature, importance) in zip(feature_list, feature_importances)];\n",
    "\n",
    "print (importances)"
   ]
  },
  {
   "cell_type": "code",
   "execution_count": 23,
   "metadata": {},
   "outputs": [
    {
     "name": "stdout",
     "output_type": "stream",
     "text": [
      "[ 0.02884614 -0.00783737 -0.00505479 -0.01593003]\n",
      "[ 0.00064174  0.00176005 -0.0017321  -0.0006698 ]\n",
      "[ 0.01239714 -0.00277073 -0.0109499   0.00130863]\n",
      "[ 0.01396167 -0.00294935 -0.00591226 -0.00509707]\n"
     ]
    }
   ],
   "source": [
    "print (CB_MC_PA_coef_Final_Current_Percent)\n",
    "print (CB_MC_PA_coef_Norm_I_Max)\n",
    "print (CB_MC_PA_coef_Norm_charge_tot)\n",
    "CB_MC_PA_TCB_coef_average = (CB_MC_PA_coef_Final_Current_Percent +\n",
    "                             CB_MC_PA_coef_Norm_I_Max +\n",
    "                             CB_MC_PA_coef_Norm_charge_tot)/3\n",
    "print (CB_MC_PA_TCB_coef_average)\n",
    "\n"
   ]
  },
  {
   "cell_type": "code",
   "execution_count": 24,
   "metadata": {},
   "outputs": [
    {
     "name": "stdout",
     "output_type": "stream",
     "text": [
      "0.7635631254941582\n"
     ]
    },
    {
     "data": {
      "text/plain": [
       "<matplotlib.collections.PathCollection at 0x7f004cbd0310>"
      ]
     },
     "execution_count": 24,
     "metadata": {},
     "output_type": "execute_result"
    },
    {
     "data": {
      "image/png": "[encoded data removed]",
      "text/plain": [
       "<Figure size 432x288 with 1 Axes>"
      ]
     },
     "metadata": {
      "needs_background": "light"
     },
     "output_type": "display_data"
    }
   ],
   "source": [
    "# linearly relate the input paramters to the final Graphene Yield\n",
    "# assume constant resisitivity for precursors\n",
    "CB_MC_PA_TCB_res = CB_MC_PA_TCB_ps_res_sa_sp2 [:, 1]\n",
    "resistance_matrix = np.matmul(material_matrix, CB_MC_PA_TCB_res)\n",
    "voltage_ALL = np.array (df['Voltage'].loc[df['Material']!='AAA']).reshape(-1, 1)\n",
    "mass_ALL = np.array (df['Mass'].loc[df['Material']!='AAA']).reshape(-1, 1)\n",
    "cap_ALL = np.array (df['Cap'].loc[df['Material']!='AAA']).reshape(-1, 1)\n",
    "GY_ALL = np.array (df['Graphene_Yield'].loc[df['Material']!='AAA']).reshape(-1, 1)\n",
    "CD_ALL = np.array (df['charge_density'].loc[df['Material']!='AAA']).reshape(-1, 1)\n",
    "prevol_ALL = np.array (df['Pretreat_voltage'].loc[df['Material']!='AAA']).reshape(-1, 1)\n",
    "prevolhighest_ALL = np.array (df['Pretreat_voltage'].loc[df['Material']!='AAA']).reshape(-1, 1)\n",
    "I_Max_ALL = np.array (df['I_Max'].loc[df['Material']!='AAA']).reshape(-1, 1)\n",
    "I_Mean_ALL = np.array (df['I_Mean'].loc[df['Material']!='AAA']).reshape(-1, 1)\n",
    "charge_tot_ALL = np.array (df['Charge_Tot'].loc[df['Material']!='AAA']).reshape(-1, 1)\n",
    "pulsetime_ALL = np.array (df['PulseTime'].loc[df['Material']!='AAA']).reshape(-1, 1)\n",
    "maxima_ALL = np.array (df['Maxima'].loc[df['Material']!='AAA']).reshape(-1, 1)\n",
    "\n",
    "\n",
    "                                #Final_Current_Percent_predicted.reshape(-1, 1),\n",
    "                                #Norm_I_Max_predicted.reshape(-1, 1),\n",
    "                                #Norm_charge_tot_predicted.reshape(-1, 1), \n",
    "\"\"\"\n",
    "1) (voltage_ALL**1*((mass_ALL)**-1)*(cap_ALL**1))**1\n",
    "2) material_type_GY_coef\n",
    "\n",
    "\"\"\"\n",
    "\"\"\"\n",
    "\n",
    "\"\"\"\n",
    "\n",
    "\n",
    "input_features = np.concatenate (\n",
    "    (((voltage_ALL**1*((mass_ALL)**1)*(cap_ALL**1))**1) + (prevol_ALL**1)*1e-2\n",
    "     , cap_ALL*1e-1\n",
    "     , ((Norm_I_Max_predicted.reshape(-1, 1)**1))   \n",
    "     #, X_poly\n",
    "     , np.multiply((((Norm_charge_tot_predicted.reshape(-1, 1))**2)), resistance_matrix.reshape(-1, 1))*1e-3\n",
    "     , Final_Current_Percent_predicted.reshape(-1, 1)\n",
    "     ,1+(pulsetime_ALL**1)+(pulsetime_ALL**2)\n",
    "     #, heat_power\n",
    "     , voltage_ALL**1\n",
    "        #, mass_ALL*1e-2 \n",
    "     , (X_CB_MC_PA_TCB_ps_res_sa_sp2 [df['Material']!='AAA'])**1\n",
    "     #+ (material_type_GY_coef**1)\n",
    "                                   ), axis=1)\n",
    "#input_features = np.array (voltage_ALL**1*((mass_ALL)**-1)*(cap_ALL**2))**1\n",
    "max_gamma_score = 0\n",
    "pearsonrS = []\n",
    "coefS_best5 = []\n",
    "pearsonrS_all = []\n",
    "\n",
    "coefS = []\n",
    "interceptS = []\n",
    "interceptS_best5 = []\n",
    "for rand in range(0, 500):\n",
    "    X_train, X_test, y_train, y_test = train_test_split(\n",
    "        input_features, GY_ALL, test_size=0.2, random_state=rand)\n",
    "    phys_reg_mdl = linear_model.LinearRegression()\n",
    "    phys_reg_mdl = phys_reg_mdl.fit(X_train, y_train.ravel())\n",
    "    y_pred = phys_reg_mdl.predict(X_test)\n",
    "    pearr = pearsonr(y_pred, y_test)\n",
    "    pearsonrS.append(pearr[0])\n",
    "    coefS.append(phys_reg_mdl.coef_)\n",
    "    interceptS.append(phys_reg_mdl.intercept_)\n",
    "    y_predall = phys_reg_mdl.predict(input_features)\n",
    "    pearr_all = pearsonr(y_predall, GY_ALL)\n",
    "    pearsonrS_all.append(pearr_all[0])\n",
    "    if pearr_all[0] > 0.796:\n",
    "        coefS_best5.append(phys_reg_mdl.coef_)\n",
    "        interceptS_best5.append(phys_reg_mdl.intercept_)\n",
    "print (np.mean(pearsonrS))\n",
    "\n",
    "phys_reg_mdl_meancoef = coefS_best5[0]\n",
    "phys_reg_mdl_meaninter = interceptS_best5[0]\n",
    "\n",
    "y_pred = np.matmul(input_features, phys_reg_mdl_meancoef.reshape(-1, 1)) + phys_reg_mdl_meaninter\n",
    "plt.scatter (Graphene_Yield, y_pred)"
   ]
  },
  {
   "cell_type": "code",
   "execution_count": 57,
   "metadata": {},
   "outputs": [],
   "source": [
    "# assume constant resisitivity for precursors\n",
    "CB_MC_PA_TCB_res = CB_MC_PA_TCB_ps_res_sa_sp2 [:, 1]\n",
    "resistance_matrix = np.matmul(material_matrix, CB_MC_PA_TCB_res)\n",
    "heat_power = np.array (df['Voltage']*df['Voltage']/resistance_matrix*df['PulseTime']*(1e-6)).reshape(-1, 1)\n",
    "# got it from model based prediction of I_Max\n",
    "# got it from model based prediction of I_Max\n",
    "CB_MC_PA_TCB_coef_average = (CB_MC_PA_coef_Final_Current_Percent +\n",
    "                             CB_MC_PA_coef_Norm_I_Max +\n",
    "                             CB_MC_PA_coef_Norm_charge_tot)/3\n",
    "\n",
    "material_type_GY_coef = material_type * CB_MC_PA_TCB_coef_average\n",
    "# Porxy properties, as well as process parameters\n",
    "new_features = np.concatenate ((charge_denisty, \n",
    "                                X_CB_MC_PA_TCB_ps_res_sa_sp2,\n",
    "                                #np.array(df['Volt_Drop']/df['I_Mean']).reshape(-1, 1),\n",
    "                                material_type_GY_coef,\n",
    "                                pulsetime,\n",
    "                                Pretreat_voltage,\n",
    "                                y_pred.reshape(-1, 1),\n",
    "                                atmosphere_type,\n",
    "                                Final_Current_Percent_predicted.reshape(-1, 1),\n",
    "                                Norm_I_Max_predicted.reshape(-1, 1),\n",
    "                                Norm_charge_tot_predicted.reshape(-1, 1), \n",
    "                                heat_power.reshape(-1, 1)\n",
    "                                ), axis=1)\n",
    "\n",
    "rand=7\n",
    "test_size = 0.2\n",
    "indices = np.arange(len(new_features))\n",
    "labels = Graphene_Yield\n",
    "train_new_features, test_new_features, train_labels, test_labels, idx_train, idx_test = \\\n",
    "                      train_test_split(new_features, labels, \n",
    "                                       indices, test_size = test_size, random_state = rand\n",
    "                                       #,stratify=df['Material']\n",
    "                                      )\n",
    "\n",
    "feature_list = ['charge_denisty',\n",
    "                'material_ps',\n",
    "                'material_res',\n",
    "                'material_sa',\n",
    "                'material_sp2',\n",
    "                'material_CB',\n",
    "                'material_MC',\n",
    "                'material_PA',\n",
    "                'material_TCB',\n",
    "                'PulseTime',\n",
    "                'Pretreat_voltage',\n",
    "                'physicsbased_model',\n",
    "                'Atmosphere_air',\n",
    "                'Atmosphere_arg',\n",
    "                'Final_Current_Percent',\n",
    "                'Norm_I_Max',\n",
    "                'Norm_charge_tot',\n",
    "                'heat_power']"
   ]
  },
  {
   "cell_type": "raw",
   "metadata": {},
   "source": [
    "# Grid Search CV each fit takes 1Sec, 5CV means running 5 times for each possibility\n",
    "start = time.time()\n",
    "from sklearn.model_selection import GridSearchCV\n",
    "gsc = GridSearchCV(\n",
    "        estimator=XGBRegressor(),\n",
    "        param_grid={\n",
    "'max_depth': [2, 3, 4, 5, 6, 7, 8, 9, 10],\n",
    "'n_estimators': [40, 41, 42, 44, 45, 48, 50],\n",
    "'min_child_weight': [3, 4, 5, 6, 7, 8, 9, 10],\n",
    "'learning_rate': np.arange(0.1, 0.19, 0.005).tolist(),\n",
    "'subsample': [0.775, 0.8],\n",
    "'gamma': [0.001]\n",
    "        },\n",
    "        cv=5, scoring='r2', verbose=10, n_jobs=-1)\n",
    "grid_result = gsc.fit(new_features, labels)\n",
    "best_params = grid_result.best_params_\n",
    "print('Max Depth: ', best_params[\"max_depth\"])\n",
    "print('N Estimators: ', best_params[\"n_estimators\"])\n",
    "print('Min Child Weight: ', best_params[\"min_child_weight\"])\n",
    "print('Learning Rate: ', best_params[\"learning_rate\"])\n",
    "print('Subsample: ', best_params[\"subsample\"])\n",
    "print('Gamma: ', best_params[\"gamma\"])\n",
    "end = time.time()\n",
    "print ('total time is {}'.format(end-start))\n",
    "\n",
    "\"\"\"\n",
    "Max Depth:  4\n",
    "N Estimators:  45\n",
    "Min Child Weight:  7\n",
    "Learning Rate:  0.11600000000000002\n",
    "Subsample:  0.8\n",
    "Gamma:  0.001\n",
    "\n",
    "'max_depth': [2, 3, 4, 5, 6, 7, 8, 9],\n",
    "'n_estimators': [40, 41, 42, 44, 45, 48, 50],\n",
    "'min_child_weight': [3, 4, 5, 6, 7, 8, 9],\n",
    "'learning_rate': np.arange(0.1, 0.2, 0.008).tolist(),\n",
    "'subsample': [0.775, 0.8],\n",
    "'gamma': [0.001]\n",
    "\"\"\""
   ]
  },
  {
   "cell_type": "code",
   "execution_count": 26,
   "metadata": {},
   "outputs": [
    {
     "name": "stdout",
     "output_type": "stream",
     "text": [
      "CB_count 57 0.33 % of total 174\n",
      "MC_count 44 0.25 % of total 174\n",
      "PA_count 36 0.21 % of total 174\n",
      "TCB_count 37 0.21 % of total 174\n",
      "CB count for testing 0.2% is 11.0\n",
      "6\n",
      "MC count for testing 0.2% is 9.0\n",
      "7\n",
      "PA count for testing 0.2% is 7.0\n",
      "14\n",
      "TCB count for testing 0.2% is 7.0\n",
      "8\n"
     ]
    }
   ],
   "source": [
    "# stratify added to put same ratio of precursors in test and train\n",
    "CB_count = sum(df['Material']=='CB')\n",
    "MC_count = sum(df['Material']=='MC')\n",
    "PA_count = sum(df['Material']=='PA')\n",
    "TCB_count = sum(df['Material']=='TCB')\n",
    "total = CB_count + MC_count + PA_count + TCB_count\n",
    "print ('CB_count', CB_count, round(CB_count/total, 2),\"% of total\", total)\n",
    "print ('MC_count', MC_count, round(MC_count/total, 2),\"% of total\", total)\n",
    "print ('PA_count', PA_count, round(PA_count/total, 2),\"% of total\", total)\n",
    "print ('TCB_count', TCB_count, round(TCB_count/total, 2),\"% of total\", total)\n",
    "\n",
    "print ('CB count for testing {}% is {}'.format(test_size, round(test_size*CB_count, 0)))\n",
    "print (sum (df['Material'][idx_test]=='CB'))\n",
    "print ('MC count for testing {}% is {}'.format(test_size, round(test_size*MC_count, 0)))\n",
    "print (sum (df['Material'][idx_test]=='MC'))\n",
    "print ('PA count for testing {}% is {}'.format(test_size, round(test_size*PA_count, 0)))\n",
    "print (sum (df['Material'][idx_test]=='PA'))\n",
    "print ('TCB count for testing {}% is {}'.format(test_size, round(test_size*TCB_count, 0)))\n",
    "print (sum (df['Material'][idx_test]=='TCB'))"
   ]
  },
  {
   "cell_type": "code",
   "execution_count": 27,
   "metadata": {},
   "outputs": [
    {
     "data": {
      "text/plain": [
       "[<matplotlib.lines.Line2D at 0x7f004cb92dc0>]"
      ]
     },
     "execution_count": 27,
     "metadata": {},
     "output_type": "execute_result"
    },
    {
     "data": {
      "image/png": "[encoded data removed]",
      "text/plain": [
       "<Figure size 432x288 with 1 Axes>"
      ]
     },
     "metadata": {
      "needs_background": "light"
     },
     "output_type": "display_data"
    }
   ],
   "source": [
    "plt.scatter(Graphene_Yield, y_pred)\n",
    "mid_line = list(np.linspace(np.min(GY_ALL), np.max(GY_ALL), 8))\n",
    "plt.plot(mid_line, mid_line, '--', color='red')"
   ]
  },
  {
   "cell_type": "code",
   "execution_count": 28,
   "metadata": {},
   "outputs": [
    {
     "data": {
      "text/plain": [
       "array([[4.50e+01, 2.80e+00, 1.75e+03, 4.12e+01],\n",
       "       [1.50e+02, 4.00e-01, 1.80e+01, 4.59e+01],\n",
       "       [1.25e+02, 7.20e+00, 6.20e+01, 4.24e+01],\n",
       "       [1.06e+02, 6.30e+00, 7.40e+01, 3.06e+01]])"
      ]
     },
     "execution_count": 28,
     "metadata": {},
     "output_type": "execute_result"
    }
   ],
   "source": [
    "CB_MC_PA_TCB_ps_res_sa_sp2"
   ]
  },
  {
   "cell_type": "code",
   "execution_count": 75,
   "metadata": {},
   "outputs": [
    {
     "name": "stdout",
     "output_type": "stream",
     "text": [
      "RMSE for test,  13.486581\n",
      "0.7590344398342164\n",
      "sd of random runs 0.023865332074493907\n"
     ]
    },
    {
     "data": {
      "image/png": "[encoded data removed]",
      "text/plain": [
       "<Figure size 402.375x360 with 1 Axes>"
      ]
     },
     "metadata": {
      "needs_background": "light"
     },
     "output_type": "display_data"
    }
   ],
   "source": [
    "# focus on XGBoost, Similar to Jacob, !!!!5 train/test split iterations!!!!\n",
    "r_squareds = list()\n",
    "r_squareds_randomized_testtrain = list()\n",
    "r_squareds_train = list()\n",
    "MAEs = list()\n",
    "MAEs_train = list()\n",
    "start = time.time()\n",
    "r2_max = 0\n",
    "test_split_seed1 = 8\n",
    "test_split_seed2 = 9\n",
    "test_split_count = test_split_seed2 - test_split_seed1\n",
    "rep1 = 0\n",
    "rep2 = 5\n",
    "for rand in range (test_split_seed1, test_split_seed2):\n",
    "    indices = np.arange(len(new_features))\n",
    "    train_new_features, test_new_features, train_labels, test_labels, idx_train, idx_test = \\\n",
    "                      train_test_split(new_features, Graphene_Yield, \n",
    "                                       indices, test_size = 0.2, random_state=rand\n",
    "                                       #,stratify=df['Material']\n",
    "                                       )\n",
    "    r_squareds = list()\n",
    "    r_squareds_train = list()\n",
    "    MAEs = list()\n",
    "    MAEs_train = list()\n",
    "    for random_state in range(rep1, rep2):\n",
    "        # Instantiate model with 1000 decision trees\n",
    "        xgbr_graphyield = XGBRegressor(max_depth=3, n_estimators=40, gamma=0.01, \n",
    "                   learning_rate=0.118, subsample=0.775, min_child_weight=6, \n",
    "                   random_state=random_state)\n",
    "        \"\"\"\n",
    "        xgbr_graphyield = MLPRegressor(hidden_layer_sizes=(500, 500, 500), activation='logistic', batch_size=2,\n",
    "                   alpha=0.00001, learning_rate = 'adaptive', solver='adam', random_state=random_state)    \n",
    "        \"\"\"\n",
    "        # Train the model on training data\n",
    "        xgbr_graphyield.fit(train_new_features, train_labels);\n",
    "        # Use the forest's predict method on the test data\n",
    "        predictions = xgbr_graphyield.predict(test_new_features)\n",
    "        # Calculate the absolute errors\n",
    "        errors = abs(predictions - test_labels)\n",
    "        MAEs.append(errors)\n",
    "        # Print out the mean absolute error (mae)\n",
    "        #print('Mean Absolute Error:', round(np.mean(errors), 4), 'units.')\n",
    "\n",
    "        r_squared = r2_score(test_labels, predictions)\n",
    "        r_squareds.append (r_squared)\n",
    "    \n",
    "        pred_train = xgbr_graphyield.predict(train_new_features)\n",
    "        errors = abs(pred_train - train_labels)\n",
    "        MAEs_train.append(errors)\n",
    "        r_squared = r2_score(train_labels, pred_train)\n",
    "        r_squareds_train.append(r_squared)\n",
    "        #print('r2 score = ', r_squared)\n",
    "    #print ('test split rand', rand)\n",
    "    #print ('Average of r_squared for test', np.mean(np.array(r_squareds)))\n",
    "    #print ('std of r_squared for test', np.std(np.array(r_squareds)), '\\n')\n",
    "\n",
    "    #print ('Average of r_squared for train', np.mean(np.array(r_squareds_train)))\n",
    "    #print ('std of r_squared for train', np.std(np.array(r_squareds_train)))\n",
    "    # train accuracy\n",
    "    pred_train = xgbr_graphyield.predict(train_new_features)\n",
    "    # Calculate the absolute errors\n",
    "    errors_train = abs(pred_train - train_labels)\n",
    "    # Print out the mean absolute error (mae)\n",
    "    #print('Mean Absolute Error:', round(np.mean(errors_train), 4), 'units.')\n",
    "    r_squared_train = r2_score(train_labels, pred_train)\n",
    "    #print('r2 score = ', r_squared_train)\n",
    "    #print ('time is: ', end-start)\n",
    "\n",
    "    pred_test = xgbr_graphyield.predict(test_new_features)\n",
    "    # Calculate the absolute errors\n",
    "    errors_test = abs(pred_test - test_labels)\n",
    "    # Print out the mean absolute error (mae)\n",
    "    #print('Mean Absolute Error for test:', round(np.mean(errors_test), 4), 'units.')\n",
    "    r_squared_test = r2_score(test_labels, pred_test)\n",
    "    if r_squared_test>r2_max:\n",
    "        r2_max = r_squared_test\n",
    "        rand_split = rand\n",
    "    #print('r2 score = ', r_squared_test)\n",
    "    #print ('****')\n",
    "\n",
    "    #sns.displot(r_squareds)\n",
    "    r_squareds_randomized_testtrain.append (r_squareds)\n",
    "\n",
    "m = tf.keras.metrics.RootMeanSquaredError()\n",
    "m.update_state(pred_test, test_labels)\n",
    "print ('RMSE for test, ', m.result().numpy())\n",
    "end = time.time()\n",
    "\n",
    "r_squareds_randomized_testtrain_vec = np.array ((r_squareds_randomized_testtrain))\n",
    "r_squareds_randomized_testtrain_mean = np.mean (r_squareds_randomized_testtrain_vec, axis=1)\n",
    "r_squareds_randomized_testtrain_mean\n",
    "sns.displot (r_squareds_randomized_testtrain_vec)\n",
    "\n",
    "print (np.mean(r_squareds_randomized_testtrain_mean))\n",
    "print ('sd of random runs', np.sqrt(np.var(r_squareds_randomized_testtrain_vec)))"
   ]
  },
  {
   "cell_type": "code",
   "execution_count": 60,
   "metadata": {},
   "outputs": [],
   "source": [
    "# train it on all available data\n",
    "#xgbr_graphyield.fit(train_new_features, train_labels);"
   ]
  },
  {
   "cell_type": "code",
   "execution_count": 64,
   "metadata": {},
   "outputs": [
    {
     "data": {
      "text/plain": [
       "array([[30.       ],\n",
       "       [96.8253968],\n",
       "       [62.6262626],\n",
       "       [80.8080808],\n",
       "       [49.4949495],\n",
       "       [16.1616162],\n",
       "       [47.4747475],\n",
       "       [63.6363636],\n",
       "       [88.8888889],\n",
       "       [96.8253968],\n",
       "       [62.6262626],\n",
       "       [82.8282828],\n",
       "       [18.1818182],\n",
       "       [76.7676768],\n",
       "       [87.3015873],\n",
       "       [96.8253968],\n",
       "       [ 9.0909091],\n",
       "       [61.6161616],\n",
       "       [40.4040404],\n",
       "       [82.2916667],\n",
       "       [52.5252525],\n",
       "       [20.2020202],\n",
       "       [64.6464646],\n",
       "       [ 3.1746032],\n",
       "       [92.0634921],\n",
       "       [35.3535354],\n",
       "       [35.3535354],\n",
       "       [35.3535354],\n",
       "       [95.2380952],\n",
       "       [52.3809524],\n",
       "       [65.0793651],\n",
       "       [84.8484848],\n",
       "       [55.5555556],\n",
       "       [80.952381 ],\n",
       "       [88.8888889],\n",
       "       [47.4747475],\n",
       "       [58.7301587],\n",
       "       [18.1818182],\n",
       "       [70.7070707],\n",
       "       [25.3968254],\n",
       "       [50.5050505],\n",
       "       [69.2307692],\n",
       "       [96.8253968],\n",
       "       [23.2323232],\n",
       "       [31.6666667],\n",
       "       [73.7373737],\n",
       "       [82.8282828],\n",
       "       [95.2380952],\n",
       "       [79.3650794],\n",
       "       [71.7171717],\n",
       "       [70.7070707],\n",
       "       [66.6666667],\n",
       "       [54.5454545],\n",
       "       [24.2424242],\n",
       "       [47.5609756],\n",
       "       [74.7474747],\n",
       "       [32.3232323],\n",
       "       [ 4.040404 ],\n",
       "       [48.4848485],\n",
       "       [41.4141414],\n",
       "       [58.5858586],\n",
       "       [35.8333333],\n",
       "       [93.6507937],\n",
       "       [72.6315789],\n",
       "       [96.8253968],\n",
       "       [92.0634921],\n",
       "       [65.2173913],\n",
       "       [53.5353535],\n",
       "       [60.3174603],\n",
       "       [ 7.0707071],\n",
       "       [71.4285714],\n",
       "       [53.968254 ],\n",
       "       [96.8253968],\n",
       "       [63.3333333],\n",
       "       [17.1717172],\n",
       "       [43.4343434],\n",
       "       [80.952381 ],\n",
       "       [90.4761905],\n",
       "       [40.2061856],\n",
       "       [48.4848485],\n",
       "       [34.9206349],\n",
       "       [93.6507937],\n",
       "       [48.4848485],\n",
       "       [ 6.0606061],\n",
       "       [53.968254 ],\n",
       "       [84.8484848],\n",
       "       [17.4603175],\n",
       "       [10.1010101],\n",
       "       [20.2020202],\n",
       "       [77.7777778],\n",
       "       [38.3838384],\n",
       "       [42.4242424],\n",
       "       [ 2.020202 ],\n",
       "       [52.5252525],\n",
       "       [29.2929293],\n",
       "       [47.1910112],\n",
       "       [82.8282828],\n",
       "       [14.1414141],\n",
       "       [20.6349206],\n",
       "       [82.5396825],\n",
       "       [93.6507937],\n",
       "       [10.6666667],\n",
       "       [26.984127 ],\n",
       "       [53.4883721],\n",
       "       [ 0.       ],\n",
       "       [53.5353535],\n",
       "       [ 1.010101 ],\n",
       "       [56.5656566],\n",
       "       [63.1578947],\n",
       "       [ 0.       ],\n",
       "       [25.2525253],\n",
       "       [25.3968254],\n",
       "       [96.8253968],\n",
       "       [50.       ],\n",
       "       [69.6969697],\n",
       "       [87.8787879],\n",
       "       [80.8510638],\n",
       "       [34.9206349],\n",
       "       [93.6507937],\n",
       "       [90.4761905],\n",
       "       [42.8571429],\n",
       "       [78.1512605],\n",
       "       [46.4646465],\n",
       "       [85.7142857],\n",
       "       [14.1414141],\n",
       "       [45.4545455],\n",
       "       [23.8095238],\n",
       "       [42.2680412],\n",
       "       [75.5102041],\n",
       "       [78.7878788],\n",
       "       [30.3030303],\n",
       "       [12.6984127],\n",
       "       [90.4761905],\n",
       "       [45.4545455],\n",
       "       [43.4343434],\n",
       "       [72.7272727],\n",
       "       [28.2828283],\n",
       "       [44.4444444],\n",
       "       [88.8888889]])"
      ]
     },
     "execution_count": 64,
     "metadata": {},
     "output_type": "execute_result"
    }
   ],
   "source": [
    "train_labels"
   ]
  },
  {
   "cell_type": "code",
   "execution_count": 65,
   "metadata": {},
   "outputs": [
    {
     "data": {
      "image/png": "[encoded data removed]",
      "text/plain": [
       "<Figure size 360x288 with 1 Axes>"
      ]
     },
     "metadata": {
      "needs_background": "light"
     },
     "output_type": "display_data"
    },
    {
     "data": {
      "image/png": "[encoded data removed]",
      "text/plain": [
       "<Figure size 360x288 with 1 Axes>"
      ]
     },
     "metadata": {
      "needs_background": "light"
     },
     "output_type": "display_data"
    },
    {
     "data": {
      "image/png": "[encoded data removed]",
      "text/plain": [
       "<Figure size 360x288 with 1 Axes>"
      ]
     },
     "metadata": {
      "needs_background": "light"
     },
     "output_type": "display_data"
    }
   ],
   "source": [
    "# make the numbers on axis bold\n",
    "from matplotlib import rc, rcParams\n",
    "error_group = ['<5%', '5-10%', '10-15%', '15-20%', '>20%']\n",
    "\n",
    "abs_err = np.abs(pred_test.reshape(-1, 1)-test_labels.reshape(-1, 1))\n",
    "less_5 = abs_err [abs_err <= 5]\n",
    "larger_5 = abs_err [abs_err > 5]\n",
    "larger_5_less_10 = larger_5 [larger_5 <= 10]\n",
    "larger_10 = abs_err [abs_err > 10]\n",
    "larger_10_less_15 = larger_10 [larger_10 <= 15]\n",
    "\n",
    "larger_15 = abs_err [abs_err > 15]\n",
    "larger_15_less_20 = larger_15 [larger_15 <= 20]\n",
    "larger_20 = abs_err [abs_err > 20]\n",
    "n_test = pred_test.shape[0]\n",
    "\n",
    "#rc('font', weight='bold')\n",
    "plt.close()\n",
    "plt.figure(figsize = (5, 4))\n",
    "frequencies = [less_5.shape[0]/n_test*100, larger_5_less_10.shape[0]/n_test*100, \n",
    "               larger_10_less_15.shape[0]/n_test*100, larger_15_less_20.shape[0]/n_test*100, \n",
    "               larger_20.shape[0]/n_test*100]\n",
    "freq_series = pd.Series(frequencies)\n",
    "ax = freq_series.plot(kind='bar', color = ['#003366', '#E31B23', '#007FFF', '#00FF00', '#FF7F00', '#959595'])\n",
    "ax.tick_params(axis='both', which='major', labelsize=28, width=5)\n",
    "rects = ax.patches\n",
    "x_labels = [ ]\n",
    "labels = ['<5%', '5-10%', '10-15%', '15-20%', '>20%']\n",
    "\n",
    "ax.tick_params(axis='x', direction='in', length=5, width=1.5, colors='black', grid_alpha=0, labelsize='14')\n",
    "ax.tick_params(axis='y', direction='in', length=5, width=1.5, colors='black', grid_alpha=0, labelsize='14')\n",
    "\n",
    "for rect, label in zip(rects, labels):\n",
    "    height = rect.get_height()\n",
    "    ax.text(rect.get_x() + rect.get_width()/2, height, label,fontsize = 13, fontweight='bold',\n",
    "            ha='center', va='bottom')\n",
    "ax.set_xticklabels(x_labels)\n",
    "plt.ylim(0, 45)\n",
    "\n",
    "plt.yticks(fontsize = 14)\n",
    "plt.ylabel(\"Percentage\", fontsize=18, fontweight='bold')\n",
    "plt.xlabel(\"Relative Error\", fontsize=18, fontweight='bold')\n",
    "plt.savefig('RE_dft_des.jpeg', dpi=300, bbox_inches='tight')\n",
    "\n",
    "pred_test = xgbr_graphyield.predict(test_new_features)\n",
    "errors_test = (pred_test.reshape(-1, 1) - test_labels)\n",
    "id_errors = list(range(errors_test.shape[0]))\n",
    "#plt.plot(id_errors, errors_test, c=id_test)\n",
    "\n",
    "df_test = df.loc[idx_test]\n",
    "df_test['id_errors'] = id_errors\n",
    "df_test['errors'] = errors_test\n",
    "df_test['Graphene_Yield_per'] = df_test['Graphene_Yield']\n",
    "\n",
    "groups = df_test.groupby(['Material'])\n",
    "\n",
    "# Plot\n",
    "fig, ax = plt.subplots(figsize=(5, 4))\n",
    "ax.tick_params(direction='in', length=4, width=1.5, colors='black', grid_alpha=0, labelsize='14')\n",
    "counter=0\n",
    "markers = ['o', 's', '^', 'v']\n",
    "colors=['blue', 'red', 'green', 'orange']\n",
    "colors2 = ['maroon', 'darkorange', 'goldenrod', 'dodgerblue']\n",
    "for name, group in groups:\n",
    "    ax.plot(group.Graphene_Yield_per, group.errors, marker=markers[counter], alpha=0.9, \n",
    "            linestyle='', ms=8, label=name)\n",
    "    counter+=1\n",
    "plt.legend()\n",
    "\n",
    "x = list(range(0, 100))\n",
    "y = np.repeat(0, 100)\n",
    "plt.plot(x, y, linestyle='--', color='red', linewidth='3')\n",
    "ax.set_xlabel('Actual Yield (%)', fontsize='18', fontname='Arial', fontweight='bold')\n",
    "ax.set_ylabel('Residual (% of Yield)', fontsize='18', fontname='Arial', fontweight='bold')\n",
    "plt.tight_layout()\n",
    "plt.tight_layout()\n",
    "plt.savefig('resVSGY_test.png', dpi=200)\n",
    "\n",
    "pred_test = xgbr_graphyield.predict(test_new_features)\n",
    "errors_test = abs(pred_test.reshape(-1, 1) - test_labels)\n",
    "id_errors = list(range(errors_test.shape[0]))\n",
    "#plt.plot(id_errors, errors_test, c=id_test)\n",
    "\n",
    "df_test = df.loc[idx_test]\n",
    "df_test['id_errors'] = id_errors\n",
    "df_test['errors'] = errors_test\n",
    "df_test['Graphene_Yield_per'] = df_test['Graphene_Yield']\n",
    "\n",
    "groups = df_test.groupby(['Material'])\n",
    "\n",
    "# Plot\n",
    "fig, ax = plt.subplots(figsize=(5, 4))\n",
    "ax.tick_params(direction='in', length=4, width=1.5, colors='black', grid_alpha=0, labelsize='14')\n",
    "counter=0\n",
    "markers = ['o', 's', '^', 'v']\n",
    "colors=['blue', 'red', 'green', 'orange']\n",
    "colors2 = ['maroon', 'darkorange', 'goldenrod', 'dodgerblue']\n",
    "for name, group in groups:\n",
    "    ax.plot(group.Graphene_Yield_per, group.errors, marker=markers[counter], alpha=0.9, \n",
    "            linestyle='', ms=8, label=name)\n",
    "    counter+=1\n",
    "plt.legend()\n",
    "\n",
    "x2 = list(range(0, 100))\n",
    "y2 = np.repeat(20, 100)\n",
    "plt.plot(x2, y2, linestyle='--', color='red', linewidth='3')\n",
    "ax.set_xlabel('Actual Yield (%)', fontsize='18', fontname='Arial', fontweight='bold')\n",
    "ax.set_ylabel('Residual (% of Yield)', fontsize='18', fontname='Arial', fontweight='bold')\n",
    "plt.tight_layout()\n",
    "plt.tight_layout()\n",
    "plt.savefig('abs_resVSGY_test.png', dpi=200)"
   ]
  },
  {
   "cell_type": "code",
   "execution_count": 66,
   "metadata": {},
   "outputs": [
    {
     "data": {
      "image/png": "[encoded data removed]",
      "text/plain": [
       "<Figure size 360x288 with 1 Axes>"
      ]
     },
     "metadata": {
      "needs_background": "light"
     },
     "output_type": "display_data"
    }
   ],
   "source": [
    "labels = Graphene_Yield\n",
    "predictions = xgbr_graphyield.predict(new_features)\n",
    "errors_all = (predictions.reshape(-1, 1) - labels)\n",
    "\n",
    "df['errors'] = errors_all\n",
    "df['Graphene_Yield_per'] = df['Graphene_Yield']\n",
    "\n",
    "groups = df.groupby(['Material'])\n",
    "\n",
    "# Plot\n",
    "fig, ax = plt.subplots(figsize=(5,4))\n",
    "ax.tick_params(direction='in', length=4, width=1.5, colors='black', grid_alpha=0, labelsize='14')\n",
    "counter=0\n",
    "markers = ['o', 's', '^', 'v']\n",
    "colors=['blue', 'red', 'green', 'orange']\n",
    "colors2 = ['maroon', 'darkorange', 'goldenrod', 'dodgerblue']\n",
    "for name, group in groups:\n",
    "    ax.plot(group.Graphene_Yield_per, group.errors, marker=markers[counter], alpha=0.9, \n",
    "            linestyle='', ms=8, label=name)\n",
    "    counter+=1\n",
    "plt.legend()\n",
    "\n",
    "\n",
    "x = list(range(0, 100))\n",
    "y = np.repeat(0, 100)\n",
    "plt.plot(x, y, linestyle='--', color='red', linewidth='3')\n",
    "ax.set_xlabel('Actual Yield (%)', fontsize='18', fontname='Arial', fontweight='bold')\n",
    "ax.set_ylabel('Residual (% of Yield)', fontsize='18', fontname='Arial', fontweight='bold')\n",
    "plt.tight_layout()\n",
    "plt.tight_layout()\n",
    "plt.savefig('resVSGY.png', dpi=200)"
   ]
  },
  {
   "cell_type": "code",
   "execution_count": 67,
   "metadata": {},
   "outputs": [
    {
     "data": {
      "image/png": "[encoded data removed]",
      "text/plain": [
       "<Figure size 360x288 with 1 Axes>"
      ]
     },
     "metadata": {
      "needs_background": "light"
     },
     "output_type": "display_data"
    }
   ],
   "source": [
    "labels = Graphene_Yield\n",
    "predictions = xgbr_graphyield.predict(new_features)\n",
    "errors_all = abs(predictions.reshape(-1, 1) - labels)\n",
    "\n",
    "df['errors'] = errors_all\n",
    "df['Graphene_Yield_per'] = df['Graphene_Yield']\n",
    "\n",
    "groups = df.groupby(['Material'])\n",
    "\n",
    "# Plot\n",
    "fig, ax = plt.subplots(figsize=(5,4))\n",
    "ax.tick_params(direction='in', length=4, width=1.5, colors='black', grid_alpha=0, labelsize='14')\n",
    "counter=0\n",
    "markers = ['o', 's', '^', 'v']\n",
    "colors=['blue', 'red', 'green', 'orange']\n",
    "colors2 = ['maroon', 'darkorange', 'goldenrod', 'dodgerblue']\n",
    "for name, group in groups:\n",
    "    ax.plot(group.Graphene_Yield_per, group.errors, marker=markers[counter], alpha=0.9, \n",
    "            linestyle='', ms=8, label=name)\n",
    "    counter+=1\n",
    "plt.legend()\n",
    "\n",
    "ax.set_xlabel('Actual Yield (%)', fontsize='18', fontname='Arial', fontweight='bold')\n",
    "ax.set_ylabel('Abs. Res.(% of Yield)', fontsize='18', fontname='Arial', fontweight='bold')\n",
    "\n",
    "x2 = list(range(0, 100))\n",
    "y2 = np.repeat(15, 100)\n",
    "plt.plot(x2, y2, linestyle='--', color='red', linewidth='3')\n",
    "\n",
    "plt.tight_layout()\n",
    "plt.tight_layout()\n",
    "plt.savefig('abs_resVSGY.png', dpi=200)"
   ]
  },
  {
   "cell_type": "code",
   "execution_count": 68,
   "metadata": {},
   "outputs": [
    {
     "name": "stderr",
     "output_type": "stream",
     "text": [
      "/tmp/ipykernel_483015/2930675285.py:2: SettingWithCopyWarning: \n",
      "A value is trying to be set on a copy of a slice from a DataFrame.\n",
      "Try using .loc[row_indexer,col_indexer] = value instead\n",
      "\n",
      "See the caveats in the documentation: https://pandas.pydata.org/pandas-docs/stable/user_guide/indexing.html#returning-a-view-versus-a-copy\n",
      "  df_test['y_pred'] = pred_test\n",
      "/tmp/ipykernel_483015/2930675285.py:3: SettingWithCopyWarning: \n",
      "A value is trying to be set on a copy of a slice from a DataFrame.\n",
      "Try using .loc[row_indexer,col_indexer] = value instead\n",
      "\n",
      "See the caveats in the documentation: https://pandas.pydata.org/pandas-docs/stable/user_guide/indexing.html#returning-a-view-versus-a-copy\n",
      "  df_test['y_true'] = test_labels\n"
     ]
    },
    {
     "data": {
      "image/png": "[encoded data removed]",
      "text/plain": [
       "<Figure size 360x288 with 1 Axes>"
      ]
     },
     "metadata": {
      "needs_background": "light"
     },
     "output_type": "display_data"
    }
   ],
   "source": [
    "df_test = df.iloc[idx_test]\n",
    "df_test['y_pred'] = pred_test\n",
    "df_test['y_true'] = test_labels\n",
    "groups = df_test.groupby(['Material'])\n",
    "\n",
    "# Plot\n",
    "fig, ax = plt.subplots(figsize=(5, 4))\n",
    "ax.tick_params(direction='in', length=4, width=1.5, colors='black', grid_alpha=0, labelsize='14')\n",
    "counter=0\n",
    "markers = ['o', 's', '^', 'v']\n",
    "colors=['blue', 'red', 'green', 'orange']\n",
    "colors2 = ['maroon', 'darkorange', 'goldenrod', 'dodgerblue']\n",
    "for name, group in groups:\n",
    "    ax.plot(group.y_pred, group.y_true, marker=markers[counter], alpha=0.9, linestyle='', ms=8, label=name)\n",
    "    counter+=1\n",
    "    # Predicted 2D/G\n",
    "#plt.title('Test Data', fontsize='18', fontname='Arial', fontweight='bold')\n",
    "ax.set_xlabel('Predicted Yield (%)', fontsize='18', fontname='Arial', fontweight='bold')\n",
    "ax.set_ylabel('Actual Yield (%)', fontsize='18', fontname='Arial', fontweight='bold')\n",
    "ymin, ymax = plt.ylim()\n",
    "ax.set_xlim(ymin, ymax)\n",
    "ax.set_ylim(ymin, ymax)\n",
    "# Make a red line to show perfect predictions\n",
    "x2 = np.arange(ymin, ymax*1.1, .01)\n",
    "y2 = np.arange(ymin, ymax*1.1, .01)\n",
    "ax.plot(x2, y2, linestyle='--', linewidth = '3', color='red')\n",
    "leg = plt.legend(frameon=\"True\", prop={'family': 'Arial'})\n",
    "ax.legend(frameon=False, ncol=2, fontsize=12, loc='upper left')\n",
    "\n",
    "# Plot\n",
    "# plt.plot(df_test['I_Max'],df_test['Graphene_Yield'], linestyle = 'none', marker = 'o', color='black', markersize='8')\n",
    "# plt.xlabel('Flash Voltage (V)', fontsize='18', fontname='Arial', fontweight='bold')\n",
    "# plt.ylabel('D/G Ratio', fontsize='18', fontname='Arial', fontweight='bold')\n",
    "\n",
    "# Save\n",
    "plt.tight_layout()\n",
    "plt.show()\n",
    "#plt.savefig('XGBPerformance_materialgroup.png', dpi=300)\n"
   ]
  },
  {
   "cell_type": "code",
   "execution_count": 69,
   "metadata": {},
   "outputs": [
    {
     "name": "stderr",
     "output_type": "stream",
     "text": [
      "/tmp/ipykernel_483015/4245381040.py:16: SettingWithCopyWarning: \n",
      "A value is trying to be set on a copy of a slice from a DataFrame.\n",
      "Try using .loc[row_indexer,col_indexer] = value instead\n",
      "\n",
      "See the caveats in the documentation: https://pandas.pydata.org/pandas-docs/stable/user_guide/indexing.html#returning-a-view-versus-a-copy\n",
      "  df_test['cv_class'] = cv_class\n"
     ]
    },
    {
     "data": {
      "image/png": "[encoded data removed]",
      "text/plain": [
       "<Figure size 360x288 with 1 Axes>"
      ]
     },
     "metadata": {
      "needs_background": "light"
     },
     "output_type": "display_data"
    }
   ],
   "source": [
    "# Distribution of Graphene_yield with  CD density groups\n",
    "cv = np.array (df_test['charge_density'])\n",
    "Qs = np.quantile (cv, [0.25, 0.5, 0.75])\n",
    "\n",
    "cv_class = cv\n",
    "cv_class = np.where(cv <= Qs[0], 0, cv_class)\n",
    "cv_class = np.where((cv > Qs[0]) & (cv <= Qs[1]), 1, cv_class)\n",
    "cv_class = np.where((cv > Qs[1]) & (cv <= Qs[2]), 2, cv_class)\n",
    "cv_class = np.where(cv > Qs[2], 3, cv_class)\n",
    "\n",
    "# Plot style\n",
    "fig, ax = plt.subplots(figsize=(5,4))\n",
    "# ax.set_yticks(np.arange(.2, 2.2, .2))\n",
    "# ax.set_xticks(np.arange(0, 1200, 100))\n",
    "# ax.set_xlim(.7,3.3)\n",
    "df_test['cv_class'] = cv_class\n",
    "groups = df_test.groupby(['cv_class'])\n",
    "\n",
    "# Plot\n",
    "ax.tick_params(direction='in', length=4, width=1.5, colors='black', grid_alpha=0, labelsize='14')\n",
    "counter=0\n",
    "markers = ['1', '*', '^', 'o']\n",
    "colors=['blue', 'red', 'green', 'orange']\n",
    "colors2 = ['maroon', 'darkorange', 'goldenrod', 'dodgerblue']\n",
    "for name, group in groups:\n",
    "    ax.plot(group.y_pred, group.y_true, marker=markers[counter], alpha=0.9, linestyle='', ms=8, label=name)\n",
    "    counter+=1\n",
    "    # Predicted 2D/G\n",
    "# plt.title('Test Data', fontsize='18', fontname='Arial', fontweight='bold')\n",
    "ax.set_xlabel('Predicted Yield (%)', fontsize='18', fontname='Arial', fontweight='bold')\n",
    "ax.set_ylabel('Actual Yield (%)', fontsize='18', fontname='Arial', fontweight='bold')\n",
    "ymin, ymax = plt.ylim()\n",
    "ax.set_xlim(ymin, ymax)\n",
    "ax.set_ylim(ymin, ymax)\n",
    "# Make a red line to show perfect predictions\n",
    "x2 = np.arange(ymin, ymax*1.1, .01)\n",
    "y2 = np.arange(ymin, ymax*1.1, .01)\n",
    "ax.plot(x2,y2, linestyle='--', linewidth = '3', color='red')\n",
    "leg = plt.legend(frameon=\"True\", prop={'family': 'Arial'})\n",
    "ax.legend(frameon=False, ncol=2, fontsize=12, loc='upper left')\n",
    "\n",
    "# Plot\n",
    "# plt.plot(df_test['I_Max'],df_test['Graphene_Yield'], linestyle = 'none', marker = 'o', color='black', markersize='8')\n",
    "# plt.xlabel('Flash Voltage (V)', fontsize='18', fontname='Arial', fontweight='bold')\n",
    "# plt.ylabel('D/G Ratio', fontsize='18', fontname='Arial', fontweight='bold')\n",
    "\n",
    "# Save\n",
    "plt.tight_layout()\n",
    "plt.savefig('XGBPerformance_cvgroup.png', dpi=300)\n",
    "plt.show()"
   ]
  },
  {
   "cell_type": "code",
   "execution_count": 70,
   "metadata": {},
   "outputs": [
    {
     "name": "stdout",
     "output_type": "stream",
     "text": [
      "Variable: charge_denisty Importance: ('charge_denisty', 0.06)\n",
      "Variable: material_ps Importance: ('material_ps', 0.06)\n",
      "Variable: material_res Importance: ('material_res', 0.0)\n",
      "Variable: material_sa Importance: ('material_sa', 0.0)\n",
      "Variable: material_sp2 Importance: ('material_sp2', 0.0)\n",
      "Variable: material_CB Importance: ('material_CB', 0.0)\n",
      "Variable: material_MC Importance: ('material_MC', 0.0)\n",
      "Variable: material_PA Importance: ('material_PA', 0.0)\n",
      "Variable: material_TCB Importance: ('material_TCB', 0.0)\n",
      "Variable: PulseTime Importance: ('PulseTime', 0.05)\n",
      "Variable: Pretreat_voltage Importance: ('Pretreat_voltage', 0.04)\n",
      "Variable: physicsbased_model Importance: ('physicsbased_model', 0.48)\n",
      "Variable: Atmosphere_air Importance: ('Atmosphere_air', 0.06)\n",
      "Variable: Atmosphere_arg Importance: ('Atmosphere_arg', 0.04)\n",
      "Variable: Final_Current_Percent Importance: ('Final_Current_Percent', 0.04)\n",
      "Variable: Norm_I_Max Importance: ('Norm_I_Max', 0.04)\n",
      "Variable: Norm_charge_tot Importance: ('Norm_charge_tot', 0.09)\n",
      "Variable: heat_power Importance: ('heat_power', 0.04)\n",
      "[0.055890273, 0.060070537, 0.0, 0.0, 0.0, 0.0, 0.0, 0.0, 0.0, 0.05090123, 0.03666066, 0.48116356, 0.05999657, 0.042573776, 0.038286176, 0.039165694, 0.09191768, 0.04337381]\n"
     ]
    }
   ],
   "source": [
    "# Get numerical feature importances\n",
    "importances = list(xgbr_graphyield.feature_importances_)\n",
    "# List of tuples with variable and importance\n",
    "feature_importances = [(feature, round(importance, 2)) for feature, importance in zip(feature_list, importances)]\n",
    "# Sort the feature importances by most important first\n",
    "#feature_importances = sorted(feature_importances, key = lambda x: x[1], reverse = True)\n",
    "# Print out the feature and importances \n",
    "[print('Variable: {} Importance: {}'.format(feature, importance)) \n",
    " for (feature, importance) in zip(feature_list, feature_importances)];\n",
    "print (importances)"
   ]
  },
  {
   "cell_type": "code",
   "execution_count": 65,
   "metadata": {},
   "outputs": [
    {
     "name": "stdout",
     "output_type": "stream",
     "text": [
      "Mean Absolute Error: 30.2551 units.\n"
     ]
    },
    {
     "data": {
      "text/plain": [
       "[<matplotlib.lines.Line2D at 0x7f49006fe940>]"
      ]
     },
     "execution_count": 65,
     "metadata": {},
     "output_type": "execute_result"
    },
    {
     "data": {
      "image/png": "[encoded data removed]",
      "text/plain": [
       "<Figure size 432x288 with 1 Axes>"
      ]
     },
     "metadata": {
      "needs_background": "light"
     },
     "output_type": "display_data"
    }
   ],
   "source": [
    "pred_test = xgbr_graphyield.predict(test_new_features)\n",
    "errors_test= abs(pred_train - train_labels)\n",
    "print('Mean Absolute Error:', round(np.mean(errors_test), 4), 'units.')\n",
    "# Plot predictions vs actual values\n",
    "# Plot style\n",
    "fig, ax = plt.subplots(figsize=(6,4))\n",
    "ax.tick_params(direction='in', length=4, width=1.5, colors='black', grid_alpha=0, labelsize='14')\n",
    "# ax.set_xlim(20,105)\n",
    "# ax.set_ylim(20,105)\n",
    "\n",
    "# Predicted 2D/G\n",
    "plt.plot(pred_test, test_labels, \n",
    "         linestyle = 'none', marker = 'o', color='black', markersize='8')\n",
    "plt.title('Test Data', fontsize='18', fontname='Arial', fontweight='bold')\n",
    "plt.xlabel('Predicted', fontsize='18', fontname='Arial', fontweight='bold')\n",
    "plt.ylabel('Actual', fontsize='18', fontname='Arial', fontweight='bold')\n",
    "ymin, ymax = plt.ylim()\n",
    "plt.xlim(ymin, ymax)\n",
    "plt.ylim(ymin, ymax)\n",
    "# Make a red line to show perfect predictions\n",
    "x2 = np.arange(0, ymax*1.1, .1)\n",
    "y2 = np.arange(0, ymax*1.1, .1)\n",
    "plt.plot(x2,y2, linestyle='--', linewidth = '3', color='red')"
   ]
  },
  {
   "cell_type": "code",
   "execution_count": 66,
   "metadata": {},
   "outputs": [
    {
     "name": "stdout",
     "output_type": "stream",
     "text": [
      "Mean of I Max CB is  199.5962952631579\n",
      "Mean of I Max MC is  546.874309090909\n",
      "Mean of I Max PA is  301.9472116666666\n",
      "Mean of I Max TCB is  217.5159437837838\n"
     ]
    },
    {
     "data": {
      "image/png": "[encoded data removed]",
      "text/plain": [
       "<Figure size 360x288 with 1 Axes>"
      ]
     },
     "metadata": {
      "needs_background": "light"
     },
     "output_type": "display_data"
    }
   ],
   "source": [
    "def category_normalization_theonesyoualwaysuse(df):\n",
    "    groups = df.groupby(['Material'])\n",
    "    norm_I_Max = []\n",
    "    norm_charge_tot=[]\n",
    "    for name, group in groups:\n",
    "        I_Max_array = np.asfarray(group.I_Max)\n",
    "        charge_tot_array = np.asfarray(group.Charge_Tot)\n",
    "        mean_I_Max = np.mean(I_Max_array)\n",
    "        mean_charge_tot = np.mean(charge_tot_array)\n",
    "        std_I_Max = np.std(I_Max_array)\n",
    "        std_charge_tot = np.std(charge_tot_array)\n",
    "        print(\"Mean of I Max\", name, \"is \", mean_I_Max)\n",
    "        norm_I_Max_cat = np.divide(np.subtract(I_Max_array, mean_I_Max), std_I_Max)\n",
    "        norm_charge_tot_cat = np.divide(np.subtract(charge_tot_array, mean_charge_tot), std_charge_tot)\n",
    "        norm_I_Max = np.append(norm_I_Max, norm_I_Max_cat)\n",
    "        norm_charge_tot = np.append(norm_charge_tot, norm_charge_tot_cat)\n",
    "    return norm_I_Max, norm_charge_tot\n",
    "\n",
    "\n",
    "# Plot style\n",
    "fig, ax = plt.subplots(figsize=(5,4))\n",
    "# ax.set_yticks(np.arange(.2, 2.2, .2))\n",
    "# ax.set_xticks(np.arange(0, 1200, 100))\n",
    "# ax.set_xlim(.7,3.3)\n",
    "\n",
    "# Import file\n",
    "df_test = pd.read_csv('FJH_ML_Final.csv', header=1)\n",
    "# Create normalized I by category\n",
    "norm1, norm2 = category_normalization_theonesyoualwaysuse(df_test)\n",
    "df_test['Norm_I_Max'] = norm1\n",
    "df_test['Norm_charge_tot'] = norm2\n",
    "df_test['charge_density'] = df_test['Voltage']*df_test['Cap']/df_test['Mass']\n",
    "# df_test['test_feature'] = (df_test['Voltage']/df_test['Mass'])#*df_test['PulseTime']\n",
    "# df_test = df_test[df_test['TwoDtoG']<1.5]\n",
    "# df_test = df_test[df_test['Graphene_Yield']>20]\n",
    "\n",
    "# Cut dataframe to only the test set\n",
    "df_test = df_test.iloc[idx_test]\n",
    "df_test['y_pred'] = pred_test\n",
    "df_test['y_true'] = test_labels\n",
    "\n",
    "groups = df_test.groupby(['Material'])\n",
    "\n",
    "# Plot\n",
    "ax.tick_params(direction='in', length=4, width=1.5, colors='black', grid_alpha=0, labelsize='14')\n",
    "counter=0\n",
    "markers = ['o', 's', '^', 'v']\n",
    "colors=['blue', 'red', 'green', 'orange']\n",
    "colors2 = ['maroon', 'darkorange', 'goldenrod', 'dodgerblue']\n",
    "for name, group in groups:\n",
    "    ax.plot(group.y_pred, group.y_true, marker=markers[counter], alpha=0.9, linestyle='', ms=8, label=name)\n",
    "    counter+=1\n",
    "    # Predicted 2D/G\n",
    "# plt.title('Test Data', fontsize='18', fontname='Arial', fontweight='bold')\n",
    "ax.set_xlabel('Predicted Yield (%)', fontsize='18', fontname='Arial', fontweight='bold')\n",
    "ax.set_ylabel('Actual Yield (%)', fontsize='18', fontname='Arial', fontweight='bold')\n",
    "ymin, ymax = plt.ylim()\n",
    "ax.set_xlim(ymin, ymax)\n",
    "ax.set_ylim(ymin, ymax)\n",
    "# Make a red line to show perfect predictions\n",
    "x2 = np.arange(ymin, ymax*1.1, .01)\n",
    "y2 = np.arange(ymin, ymax*1.1, .01)\n",
    "ax.plot(x2,y2, linestyle='--', linewidth = '3', color='red')\n",
    "leg = plt.legend(frameon=\"True\", prop={'family': 'Arial'})\n",
    "ax.legend(frameon=False, ncol=2, fontsize=12, loc='upper left')\n",
    "\n",
    "# Plot\n",
    "# plt.plot(df_test['I_Max'],df_test['Graphene_Yield'], linestyle = 'none', marker = 'o', color='black', markersize='8')\n",
    "# plt.xlabel('Flash Voltage (V)', fontsize='18', fontname='Arial', fontweight='bold')\n",
    "# plt.ylabel('D/G Ratio', fontsize='18', fontname='Arial', fontweight='bold')\n",
    "\n",
    "# Save\n",
    "plt.tight_layout()\n",
    "plt.savefig('XGBPerformance_materialgroup.png', dpi=300)\n",
    "plt.show()"
   ]
  },
  {
   "cell_type": "code",
   "execution_count": 67,
   "metadata": {},
   "outputs": [
    {
     "data": {
      "image/png": "[encoded data removed]",
      "text/plain": [
       "<Figure size 360x288 with 1 Axes>"
      ]
     },
     "metadata": {
      "needs_background": "light"
     },
     "output_type": "display_data"
    }
   ],
   "source": [
    "# Distribution of Graphene_yield with  CD density groups\n",
    "cv = np.array (df_test['charge_density'])\n",
    "Qs = np.quantile (cv, [0.25, 0.5, 0.75])\n",
    "\n",
    "cv_class = cv\n",
    "cv_class = np.where(cv <= Qs[0], 0, cv_class)\n",
    "cv_class = np.where((cv > Qs[0]) & (cv <= Qs[1]), 1, cv_class)\n",
    "cv_class = np.where((cv > Qs[1]) & (cv <= Qs[2]), 2, cv_class)\n",
    "cv_class = np.where(cv > Qs[2], 3, cv_class)\n",
    "\n",
    "# Plot style\n",
    "fig, ax = plt.subplots(figsize=(5,4))\n",
    "# ax.set_yticks(np.arange(.2, 2.2, .2))\n",
    "# ax.set_xticks(np.arange(0, 1200, 100))\n",
    "# ax.set_xlim(.7,3.3)\n",
    "df_test['cv_class'] = cv_class\n",
    "groups = df_test.groupby(['cv_class'])\n",
    "\n",
    "# Plot\n",
    "ax.tick_params(direction='in', length=4, width=1.5, colors='black', grid_alpha=0, labelsize='14')\n",
    "counter=0\n",
    "markers = ['o', 's', '^', 'v']\n",
    "colors=['blue', 'red', 'green', 'orange']\n",
    "colors2 = ['maroon', 'darkorange', 'goldenrod', 'dodgerblue']\n",
    "for name, group in groups:\n",
    "    ax.plot(group.y_pred, group.y_true, marker=markers[counter], alpha=0.9, linestyle='', ms=8, label=name)\n",
    "    counter+=1\n",
    "    # Predicted 2D/G\n",
    "# plt.title('Test Data', fontsize='18', fontname='Arial', fontweight='bold')\n",
    "ax.set_xlabel('Predicted Yield (%)', fontsize='18', fontname='Arial', fontweight='bold')\n",
    "ax.set_ylabel('Actual Yield (%)', fontsize='18', fontname='Arial', fontweight='bold')\n",
    "ymin, ymax = plt.ylim()\n",
    "ax.set_xlim(ymin, ymax)\n",
    "ax.set_ylim(ymin, ymax)\n",
    "# Make a red line to show perfect predictions\n",
    "x2 = np.arange(ymin, ymax*1.1, .01)\n",
    "y2 = np.arange(ymin, ymax*1.1, .01)\n",
    "ax.plot(x2,y2, linestyle='--', linewidth = '3', color='red')\n",
    "leg = plt.legend(frameon=\"True\", prop={'family': 'Arial'})\n",
    "ax.legend(frameon=False, ncol=2, fontsize=12, loc='upper left')\n",
    "\n",
    "# Plot\n",
    "# plt.plot(df_test['I_Max'],df_test['Graphene_Yield'], linestyle = 'none', marker = 'o', color='black', markersize='8')\n",
    "# plt.xlabel('Flash Voltage (V)', fontsize='18', fontname='Arial', fontweight='bold')\n",
    "# plt.ylabel('D/G Ratio', fontsize='18', fontname='Arial', fontweight='bold')\n",
    "\n",
    "# Save\n",
    "plt.tight_layout()\n",
    "plt.savefig('XGBPerformance_cvgroup.png', dpi=300)\n",
    "plt.show()"
   ]
  },
  {
   "cell_type": "code",
   "execution_count": 68,
   "metadata": {},
   "outputs": [
    {
     "data": {
      "image/png": "[encoded data removed]",
      "text/plain": [
       "<Figure size 432x288 with 2 Axes>"
      ]
     },
     "metadata": {
      "needs_background": "light"
     },
     "output_type": "display_data"
    }
   ],
   "source": [
    "# Plot pred vs. true values for test set, coloring the charge density\n",
    "groups = df_test.groupby(['Material'])\n",
    "fig, ax = plt.subplots(figsize=(6,4))\n",
    "ax.tick_params(direction='in', length=4, width=1.5, colors='black', grid_alpha=0, labelsize='14')\n",
    "\n",
    "\n",
    "for name, group in groups:\n",
    "    p = ax.scatter(group.y_pred, group.y_true, c=group.charge_density, marker='o', s=100, cmap='Blues')\n",
    "    \n",
    "cb = fig.colorbar(p, ax=ax)\n",
    "cb.set_label('Charge Density (C/g)', fontsize='18', fontname='Arial', fontweight='bold')\n",
    "cb.ax.tick_params(labelsize=14)\n",
    "\n",
    "# plt.title('Test Data', fontsize='18', fontname='Arial', fontweight='bold')\n",
    "ax.set_xlabel('Predicted Yield', fontsize='18', fontname='Arial', fontweight='bold')\n",
    "ax.set_ylabel('Actual Yield', fontsize='18', fontname='Arial', fontweight='bold')\n",
    "ymin, ymax = plt.ylim()\n",
    "ax.set_xlim(ymin, ymax)\n",
    "ax.set_ylim(ymin, ymax)\n",
    "# Make a red line to show perfect predictions\n",
    "x2 = np.arange(ymin, ymax*1.1, .01)\n",
    "y2 = np.arange(ymin, ymax*1.1, .01)\n",
    "ax.plot(x2,y2, linestyle='--', linewidth = '3', color='red')\n",
    "# ax.legend(fontsize=12)\n",
    "\n",
    "# Plot\n",
    "# plt.plot(df['I_Max'],df['Graphene_Yield'], linestyle = 'none', marker = 'o', color='black', markersize='8')\n",
    "# plt.xlabel('Flash Voltage (V)', fontsize='18', fontname='Arial', fontweight='bold')\n",
    "# plt.ylabel('D/G Ratio', fontsize='18', fontname='Arial', fontweight='bold')\n",
    "\n",
    "# Save\n",
    "plt.tight_layout()\n",
    "# plt.savefig('xgbr_Regression_Performance_colorChargeDensity.png', dpi=300)\n",
    "plt.show()"
   ]
  },
  {
   "cell_type": "code",
   "execution_count": 69,
   "metadata": {},
   "outputs": [],
   "source": [
    "# outside test (Need to ask Jacob the details, material, atmosphere)\n",
    "filename = 'FJH_ML_MBO_Yield4_modified.csv'\n",
    "df_testBO0 = pd.read_csv(filename, sep=\",\", encoding='ISO-8859-1', header=1)\n",
    "df_testBO = df_testBO0\n",
    "\n",
    "# Only works for test that are TCB material !!!!!!\n",
    "Material_CB_testBO = np.array (df_testBO['Material']).reshape(-1, 1)\n",
    "Material_CB_testBO [:] = 0\n",
    "Material_MC_testBO = np.zeros_like (Material_CB_testBO)\n",
    "Material_PA_testBO = np.zeros_like (Material_CB_testBO)\n",
    "Material_TCB_testBO = np.zeros_like (Material_CB_testBO)\n",
    "Material_TCB_testBO [:] = 1\n",
    "material_type_testBO = np.concatenate ((Material_CB_testBO, \n",
    "                                        Material_MC_testBO, \n",
    "                                        Material_PA_testBO,\n",
    "                                        Material_TCB_testBO), axis=1)\n",
    "# multiply constants to the matrix for the materials\n",
    "# the constant calculated from [Init_R, Res_Drop, Volt_Drop] --> current quantities\n",
    "material_type_GY_coef_testBO = material_type_testBO * CB_MC_PA_TCB_coef_average\n",
    "\n",
    "# assumed the experiments were done under vaccum\n",
    "Atmosphere_air_testBO = np.array (df_testBO['Atmosphere']).reshape(-1, 1)\n",
    "Atmosphere_air_testBO [:] = 0\n",
    "Atmosphere_arg_testBO = np.zeros_like (Atmosphere_air_testBO)\n",
    "atmosphere_type_testBO = np.concatenate ((Atmosphere_air_testBO, \n",
    "                                          Atmosphere_arg_testBO ), axis=1)\n",
    "\n",
    "# base 60mF as base and the number in excel file of 18mF\n",
    "df_testBO['Cap'] = 60 + df_testBO['Cap']*18\n",
    "charge_density_testBO = np.array (df_testBO['Voltage']*df_testBO['Cap']/\n",
    "                                  df_testBO['Mass']).reshape(-1, 1)\n",
    "pulsetime_testBO = np.array (df_testBO['PulseTime']).reshape(-1, 1)\n",
    "Pretreat_voltage_testBO = np.array (df_testBO['Pretreat_voltage']).reshape(-1, 1)\n",
    "voltage_testBO = np.array (df_testBO['Voltage']).reshape(-1, 1)\n",
    "mass_testBO = np.array (df_testBO['Mass']).reshape(-1, 1)\n",
    "Graphene_Yield_testBO = np.array (df_testBO['Graphene_Yield']).reshape(-1, 1)"
   ]
  },
  {
   "cell_type": "code",
   "execution_count": 70,
   "metadata": {},
   "outputs": [],
   "source": [
    "# got it from model based prediction of I_Max\n",
    "material_type_I_Finalperc_coef_testBO = material_type_testBO*CB_MC_PA_coef_Final_Current_Percent\n",
    "material_type_Norm_I_Max_coef_testBO = material_type_testBO*CB_MC_PA_coef_Norm_I_Max\n",
    "material_type_Norm_charge_Tot_coef_testBO = material_type_testBO*CB_MC_PA_coef_Norm_charge_tot\n",
    "\n",
    "# the features should follow the same order as fitting the model\n",
    "# 1) Final_I prediction\n",
    "features_testBO = np.concatenate ((charge_density_testBO,\n",
    "                                   pulsetime_testBO,\n",
    "                                   material_type_I_Finalperc_coef_testBO,\n",
    "                                   atmosphere_type_testBO,\n",
    "                                   Pretreat_voltage_testBO), axis=1)\n",
    "Final_Current_Percent_predicted_testBO = xgbr_final_I_percent.predict(features_testBO)\n",
    "\n",
    "# 2) norm_I_Max prediction\n",
    "features_testBO = np.concatenate ((charge_density_testBO,\n",
    "                                   pulsetime_testBO,\n",
    "                                   material_type_Norm_I_Max_coef_testBO,\n",
    "                                   atmosphere_type_testBO,\n",
    "                                   Pretreat_voltage_testBO), axis=1)\n",
    "Norm_I_Max_predicted_testBO = xgbr_norm_I_max.predict(features_testBO)\n",
    "\n",
    "# 3) norm_Charge_total\n",
    "features_testBO = np.concatenate ((charge_density_testBO,\n",
    "                                   pulsetime_testBO,\n",
    "                                   material_type_Norm_charge_Tot_coef_testBO,\n",
    "                                   atmosphere_type_testBO,\n",
    "                                   Pretreat_voltage_testBO), axis=1)\n",
    "Norm_charge_tot_testBO = xgbr_norm_charge_total.predict(features_testBO)"
   ]
  },
  {
   "cell_type": "code",
   "execution_count": 71,
   "metadata": {},
   "outputs": [
    {
     "data": {
      "text/plain": [
       "-34817.06051344648"
      ]
     },
     "execution_count": 71,
     "metadata": {},
     "output_type": "execute_result"
    }
   ],
   "source": [
    "# physics model prediction: fixed model (trained coefficients) predicting GY\n",
    "X_CB_MC_PA_TCB_ps_res_sa_sp2_BO = np.matmul(material_type_testBO, \n",
    "                                            CB_MC_PA_TCB_ps_res_sa_sp2)\n",
    "phys_mdl_input = np.concatenate((np.array(((df_testBO['Voltage']**1)*\n",
    "                                  ((df_testBO['Mass']/100)**-1)*\n",
    "                                  (df_testBO['Cap']**1))**1*1e-9).reshape(-1, 1),\n",
    "                                  ((np.array(df_testBO['Pretreat_voltage'])**1)*1e-2).reshape(-1, 1),\n",
    "                                  ((Norm_I_Max_predicted_testBO.reshape(-1, 1))**1)*1e-2,\n",
    "                                  (np.array(df_testBO['PulseTime']).reshape(-1, 1))**0.5,\n",
    "                                  ((np.array(Norm_charge_tot_testBO.reshape(-1, 1)))**1)*1e-2,\n",
    "                                  (np.array (df_testBO['Mass']).reshape (-1, 1))*1e-2 ,\n",
    "                                  (np.array (df_testBO['Cap']).reshape (-1, 1))*1e-1,\n",
    "                                  X_CB_MC_PA_TCB_ps_res_sa_sp2_BO,\n",
    "                                  ), axis=1)\n",
    "phys_pred_BO = phys_reg_mdl.predict (phys_mdl_input)\n",
    "r2_score (Graphene_Yield_testBO, phys_pred_BO)"
   ]
  },
  {
   "cell_type": "code",
   "execution_count": 72,
   "metadata": {},
   "outputs": [],
   "source": [
    "CB_MC_PA_TCB_res = CB_MC_PA_TCB_ps_res_sa_sp2 [:, 1]\n",
    "resistance_matrix_BO = np.matmul(material_type_testBO, CB_MC_PA_TCB_res)\n",
    "heat_power_BO = np.array (df_testBO['Voltage']*df_testBO['Voltage']/\n",
    "                          resistance_matrix_BO*df_testBO['PulseTime']*(1e-6)).reshape(-1, 1)\n",
    "\n",
    "features_testBO = np.concatenate ((charge_density_testBO,\n",
    "                                   X_CB_MC_PA_TCB_ps_res_sa_sp2_BO,\n",
    "                                   material_type_GY_coef_testBO,\n",
    "                                   pulsetime_testBO,\n",
    "                                   Pretreat_voltage_testBO,\n",
    "                                   phys_pred_BO.reshape(-1, 1),\n",
    "                                   atmosphere_type_testBO,\n",
    "                                   Final_Current_Percent_predicted_testBO.reshape(-1, 1),\n",
    "                                   Norm_I_Max_predicted_testBO.reshape(-1, 1),\n",
    "                                   Norm_charge_tot_testBO.reshape(-1, 1),\n",
    "                                   heat_power_BO\n",
    "                                  ), axis=1)"
   ]
  },
  {
   "cell_type": "code",
   "execution_count": 73,
   "metadata": {},
   "outputs": [
    {
     "name": "stdout",
     "output_type": "stream",
     "text": [
      "R-squared:  -0.3734371327938535\n",
      "RMSE:  30.856184568656964\n"
     ]
    }
   ],
   "source": [
    "graphene_yield_testBO = np.array (df_testBO['Graphene_Yield']).reshape(-1, 1)\n",
    "graphene_yield_testBO = 100*graphene_yield_testBO\n",
    "graphene_yield_testBO_predicted = xgbr_graphyield.predict (features_testBO)\n",
    "\n",
    "print ('R-squared: ', r2_score(graphene_yield_testBO, graphene_yield_testBO_predicted))\n",
    "print ('RMSE: ', np.sqrt(mean_squared_error(graphene_yield_testBO, graphene_yield_testBO_predicted)))"
   ]
  },
  {
   "cell_type": "code",
   "execution_count": 74,
   "metadata": {},
   "outputs": [
    {
     "name": "stderr",
     "output_type": "stream",
     "text": [
      "findfont: Font family ['Arial'] not found. Falling back to DejaVu Sans.\n"
     ]
    },
    {
     "data": {
      "image/png": "[encoded data removed]",
      "text/plain": [
       "<Figure size 360x288 with 1 Axes>"
      ]
     },
     "metadata": {
      "needs_background": "light"
     },
     "output_type": "display_data"
    }
   ],
   "source": [
    "# Plot style\n",
    "fig, ax = plt.subplots(figsize=(5, 4))\n",
    "# ax.set_yticks(np.arange(.2, 2.2, .2))\n",
    "# ax.set_xticks(np.arange(0, 1200, 100))\n",
    "# ax.set_xlim(.7,3.3)\n",
    "\n",
    "# Plot\n",
    "ax.tick_params(direction='in', length=4, width=1.5, colors='black', grid_alpha=0, labelsize='14')\n",
    "ax.set_xlabel('Predicted Yield (%)', fontsize='18', fontname='Arial', fontweight='bold')\n",
    "ax.set_ylabel('Actual Yield (%)', fontsize='18', fontname='Arial', fontweight='bold')\n",
    "plt.scatter (graphene_yield_testBO_predicted, graphene_yield_testBO, marker='v', \n",
    "             color='red', label='TCB')\n",
    "\n",
    "\n",
    "ax.legend('TCB', fontsize=12, loc='upper left')\n",
    "ymin, ymax = plt.ylim()\n",
    "xmin, xmax = plt.xlim()\n",
    "\n",
    "ax.set_xlim(min(xmin, ymin), max(ymax, xmax))\n",
    "ax.set_ylim(min(xmin, ymin), max(ymax, xmax))\n",
    "# Make a red line to show perfect predictions\n",
    "x2 = np.arange(0, 100)\n",
    "y2 = np.arange(0, 100)\n",
    "#y2 = np.arange(0.1*ymin, ymax*1.1, .01)\n",
    "ax.plot(x2,y2, linestyle='--', linewidth = '2', color='black', alpha=0.7)\n",
    "leg = plt.legend(frameon=\"True\", prop={'family': 'Arial'})\n",
    "\n",
    "# Plot\n",
    "# plt.plot(df_test['I_Max'],df_test['Graphene_Yield'], linestyle = 'none', marker = 'o', color='black', markersize='8')\n",
    "# plt.xlabel('Flash Voltage (V)', fontsize='18', fontname='Arial', fontweight='bold')\n",
    "# plt.ylabel('D/G Ratio', fontsize='18', fontname='Arial', fontweight='bold')\n",
    "# Save\n",
    "plt.tight_layout()\n",
    "plt.savefig('XGBoost_testBOsamples.png', dpi=300)\n",
    "plt.show()"
   ]
  },
  {
   "cell_type": "code",
   "execution_count": 75,
   "metadata": {},
   "outputs": [],
   "source": [
    "# Future experimental trial: call it newexp\n",
    "filename = 'New_experimental_trial.csv'\n",
    "df_newexp0 = pd.read_csv(filename, sep=\",\", encoding='ISO-8859-1', header=0)\n",
    "df_newexp = df_newexp0.copy()\n",
    "\n",
    "# the prediction range should cover a large range\n",
    "#df_newexp['Voltage'] = df_newexp0 ['Voltage'] - 20\n",
    "#df_newexp['Mass'] = df_newexp0 ['Mass'] + 20\n",
    "\n",
    "# Only works for test that are TCB material !!!!!!\n",
    "material_type_newexp = np.asarray (df_newexp.loc[:, ('CB_per', 'MC_per', 'PA_per', 'TCB_per')])\n",
    "# multiply constants to the matrix for the materials\n",
    "# the constant calculated from [Init_R, Res_Drop, Volt_Drop] --> current quantities\n",
    "material_type_GY_coef_newexp = material_type_newexp * CB_MC_PA_TCB_coef_average\n",
    "\n",
    "# assumed the experiments were done under vaccum\n",
    "atmos_dummies = pd.get_dummies(df_newexp['Atmosphere_type'])\n",
    "atmosphere_type_newexp = np.concatenate ((np.array(atmos_dummies['air']).reshape(-1, 1), \n",
    "                                          np.array(atmos_dummies['arg']).reshape(-1, 1)), axis=1)\n",
    "\n",
    "# base 60mF as base and the number in excel file of 18mF\n",
    "df_newexp['Cap'] = df_newexp['Cap']\n",
    "charge_density_newexp = np.array (df_newexp['Voltage']*df_newexp['Cap']/\n",
    "                                  df_newexp['Mass']).reshape(-1, 1)\n",
    "pulsetime_newexp = np.array (df_newexp['PulseTime']).reshape(-1, 1)\n",
    "Pretreat_voltage_newexp = np.array (df_newexp['Pretreat_voltage']).reshape(-1, 1)\n",
    "voltage_newexp = np.array (df_newexp['Voltage']).reshape(-1, 1)\n",
    "mass_newexp = np.array (df_newexp['Mass']).reshape(-1, 1)\n",
    "Graphene_Yield_newexp = np.array (df_newexp['Average_Graphene_Yield']).reshape(-1, 1)"
   ]
  },
  {
   "cell_type": "code",
   "execution_count": 76,
   "metadata": {},
   "outputs": [
    {
     "data": {
      "text/plain": [
       "array([[ 0.00698084, -0.        , -0.00295613, -0.        ],\n",
       "       [ 0.00698084, -0.        , -0.00295613, -0.        ],\n",
       "       [ 0.        , -0.00147468, -0.        , -0.00254853],\n",
       "       [ 0.        , -0.        , -0.00295613, -0.00254853],\n",
       "       [ 0.        , -0.00147468, -0.00295613, -0.        ],\n",
       "       [ 0.        , -0.00147468, -0.        , -0.00254853],\n",
       "       [ 0.00698084, -0.00147468, -0.        , -0.        ],\n",
       "       [ 0.00698084, -0.00147468, -0.        , -0.        ],\n",
       "       [ 0.        , -0.00147468, -0.00295613, -0.        ],\n",
       "       [ 0.00698084, -0.00147468, -0.        , -0.        ],\n",
       "       [ 0.00698084, -0.        , -0.00295613, -0.        ],\n",
       "       [ 0.00698084, -0.00147468, -0.        , -0.        ],\n",
       "       [ 0.        , -0.00147468, -0.        , -0.00254853],\n",
       "       [ 0.00698084, -0.00147468, -0.        , -0.        ],\n",
       "       [ 0.00698084, -0.00147468, -0.        , -0.        ],\n",
       "       [ 0.00698084, -0.        , -0.        , -0.00254853],\n",
       "       [ 0.00698084, -0.00147468, -0.        , -0.        ],\n",
       "       [ 0.00698084, -0.00147468, -0.        , -0.        ],\n",
       "       [ 0.        , -0.00147468, -0.        , -0.00254853],\n",
       "       [ 0.00698084, -0.        , -0.        , -0.00254853]])"
      ]
     },
     "execution_count": 76,
     "metadata": {},
     "output_type": "execute_result"
    }
   ],
   "source": [
    "material_type_GY_coef_newexp"
   ]
  },
  {
   "cell_type": "code",
   "execution_count": 77,
   "metadata": {},
   "outputs": [],
   "source": [
    "# got it from model based prediction of I_Max\n",
    "material_type_I_Finalperc_coef_newexp = material_type_newexp*CB_MC_PA_coef_Final_Current_Percent\n",
    "material_type_Norm_I_Max_coef_newexp = material_type_newexp*CB_MC_PA_coef_Norm_I_Max\n",
    "material_type_Norm_charge_Tot_coef_newexp = material_type_newexp*CB_MC_PA_coef_Norm_charge_tot\n",
    "\n",
    "# the features should follow the same order as fitting the model\n",
    "# 1) Final_I prediction\n",
    "features_newexp = np.concatenate ((charge_density_newexp,\n",
    "                                   pulsetime_newexp,\n",
    "                                   material_type_I_Finalperc_coef_newexp,\n",
    "                                   atmosphere_type_newexp,\n",
    "                                   Pretreat_voltage_newexp), axis=1)\n",
    "Final_Current_Percent_predicted_newexp = xgbr_final_I_percent.predict(features_newexp)\n",
    "\n",
    "# 2) norm_I_Max prediction\n",
    "features_newexp = np.concatenate ((charge_density_newexp,\n",
    "                                   pulsetime_newexp,\n",
    "                                   material_type_Norm_I_Max_coef_newexp,\n",
    "                                   atmosphere_type_newexp,\n",
    "                                   Pretreat_voltage_newexp), axis=1)\n",
    "Norm_I_Max_predicted_newexp = xgbr_norm_I_max.predict(features_newexp)\n",
    "\n",
    "# 3) norm_Charge_total\n",
    "features_newexp = np.concatenate ((charge_density_newexp,\n",
    "                                   pulsetime_newexp,\n",
    "                                   material_type_Norm_charge_Tot_coef_newexp,\n",
    "                                   atmosphere_type_newexp,\n",
    "                                   Pretreat_voltage_newexp), axis=1)\n",
    "Norm_charge_tot_newexp = xgbr_norm_charge_total.predict(features_newexp)"
   ]
  },
  {
   "cell_type": "code",
   "execution_count": 78,
   "metadata": {},
   "outputs": [
    {
     "data": {
      "text/plain": [
       "-42.86381569915066"
      ]
     },
     "execution_count": 78,
     "metadata": {},
     "output_type": "execute_result"
    }
   ],
   "source": [
    "# physics model prediction: fixed model (trained coefficients) predicting GY\n",
    "X_CB_MC_PA_TCB_ps_res_sa_sp2_newexp = np.matmul(material_type_newexp, \n",
    "                                            CB_MC_PA_TCB_ps_res_sa_sp2)\n",
    "phys_mdl_input = np.concatenate((np.array(((df_newexp['Voltage']**1)*\n",
    "                                  ((df_newexp['Mass']/100)**-1)*\n",
    "                                  (df_newexp['Cap']**1))**1*1e-9).reshape(-1, 1),\n",
    "                                  ((np.array(df_newexp['Pretreat_voltage'])**0.5)*1e-2).reshape(-1, 1),\n",
    "                                  ((Norm_I_Max_predicted_newexp.reshape(-1, 1))**1)*1e-2,\n",
    "                                  (np.array(df_newexp['PulseTime']).reshape(-1, 1))**0.5,\n",
    "                                  ((np.array(Norm_charge_tot_newexp.reshape(-1, 1)))**1)*1e-2,\n",
    "                                  (np.array (df_newexp['Mass']).reshape (-1, 1))*1e-2 ,\n",
    "                                  (np.array (df_newexp['Cap']).reshape (-1, 1))*1e-1,\n",
    "                                  X_CB_MC_PA_TCB_ps_res_sa_sp2_newexp,\n",
    "                                  ), axis=1)\n",
    "phys_pred_newexp = phys_reg_mdl.predict (phys_mdl_input)\n",
    "r2_score (Graphene_Yield_newexp, phys_pred_newexp)"
   ]
  },
  {
   "cell_type": "code",
   "execution_count": 89,
   "metadata": {},
   "outputs": [],
   "source": [
    "CB_MC_PA_TCB_res = CB_MC_PA_TCB_ps_res_sa_sp2 [:, 1]\n",
    "resistance_matrix_newexp = np.matmul(material_type_newexp, CB_MC_PA_TCB_res)\n",
    "heat_power_newexp = np.array (df_newexp['Voltage']*df_newexp['Voltage']/\n",
    "                          resistance_matrix_newexp*df_newexp['PulseTime']*(1e-6)).reshape(-1, 1)\n",
    "\n",
    "features_newexp = np.concatenate ((charge_density_newexp,\n",
    "                                   X_CB_MC_PA_TCB_ps_res_sa_sp2_newexp,\n",
    "                                   material_type_GY_coef_newexp,\n",
    "                                   pulsetime_newexp,\n",
    "                                   Pretreat_voltage_newexp,\n",
    "                                   phys_pred_newexp.reshape(-1, 1),\n",
    "                                   atmosphere_type_newexp,\n",
    "                                   Final_Current_Percent_predicted_newexp.reshape(-1, 1),\n",
    "                                   Norm_I_Max_predicted_newexp.reshape(-1, 1),\n",
    "                                   Norm_charge_tot_newexp.reshape(-1, 1),\n",
    "                                   heat_power_newexp\n",
    "                                  ), axis=1)"
   ]
  },
  {
   "cell_type": "code",
   "execution_count": 90,
   "metadata": {},
   "outputs": [
    {
     "name": "stdout",
     "output_type": "stream",
     "text": [
      "R-squared:  -8.176964662438051\n",
      "RMSE:  5402.820337756183\n"
     ]
    }
   ],
   "source": [
    "graphene_yield_newexp = np.array (df_newexp['Average_Graphene_Yield']).reshape(-1, 1)\n",
    "graphene_yield_newexp = 100*graphene_yield_newexp\n",
    "graphene_yield_newexp_predicted = xgbr_graphyield.predict (features_newexp)\n",
    "\n",
    "print ('R-squared: ', r2_score(graphene_yield_newexp, graphene_yield_newexp_predicted))\n",
    "print ('RMSE: ', np.sqrt(mean_squared_error(graphene_yield_newexp, graphene_yield_newexp_predicted)))"
   ]
  },
  {
   "cell_type": "code",
   "execution_count": 81,
   "metadata": {},
   "outputs": [
    {
     "data": {
      "image/png": "[encoded data removed]",
      "text/plain": [
       "<Figure size 360x288 with 1 Axes>"
      ]
     },
     "metadata": {
      "needs_background": "light"
     },
     "output_type": "display_data"
    }
   ],
   "source": [
    "# Plot style\n",
    "fig, ax = plt.subplots(figsize=(5, 4))\n",
    "# ax.set_yticks(np.arange(.2, 2.2, .2))\n",
    "# ax.set_xticks(np.arange(0, 1200, 100))\n",
    "# ax.set_xlim(.7,3.3)\n",
    "\n",
    "# Plot\n",
    "ax.tick_params(direction='in', length=4, width=1.5, colors='black', grid_alpha=0, labelsize='14')\n",
    "ax.set_xlabel('Predicted Yield (%)', fontsize='18', fontname='Arial', fontweight='bold')\n",
    "ax.set_ylabel('Actual Yield (%)', fontsize='18', fontname='Arial', fontweight='bold')\n",
    "plt.scatter (graphene_yield_testBO_predicted, graphene_yield_testBO, marker='v', \n",
    "             color='red', label='TCB')\n",
    "\n",
    "\n",
    "ax.legend('TCB', fontsize=12, loc='upper left')\n",
    "ymin, ymax = plt.ylim()\n",
    "xmin, xmax = plt.xlim()\n",
    "\n",
    "ax.set_xlim(min(xmin, ymin), max(ymax, xmax))\n",
    "ax.set_ylim(min(xmin, ymin), max(ymax, xmax))\n",
    "# Make a red line to show perfect predictions\n",
    "x2 = np.arange(0, 100)\n",
    "y2 = np.arange(0, 100)\n",
    "#y2 = np.arange(0.1*ymin, ymax*1.1, .01)\n",
    "ax.plot(x2,y2, linestyle='--', linewidth = '2', color='black', alpha=0.7)\n",
    "leg = plt.legend(frameon=\"True\", prop={'family': 'Arial'})\n",
    "\n",
    "# Plot\n",
    "# plt.plot(df_test['I_Max'],df_test['Graphene_Yield'], linestyle = 'none', marker = 'o', color='black', markersize='8')\n",
    "# plt.xlabel('Flash Voltage (V)', fontsize='18', fontname='Arial', fontweight='bold')\n",
    "# plt.ylabel('D/G Ratio', fontsize='18', fontname='Arial', fontweight='bold')\n",
    "# Save\n",
    "plt.tight_layout()\n",
    "plt.savefig('XGBoost_testBOsamples.png', dpi=300)\n",
    "plt.show()"
   ]
  },
  {
   "cell_type": "code",
   "execution_count": 82,
   "metadata": {},
   "outputs": [
    {
     "data": {
      "text/html": [
       "<div>\n",
       "<style scoped>\n",
       "    .dataframe tbody tr th:only-of-type {\n",
       "        vertical-align: middle;\n",
       "    }\n",
       "\n",
       "    .dataframe tbody tr th {\n",
       "        vertical-align: top;\n",
       "    }\n",
       "\n",
       "    .dataframe thead th {\n",
       "        text-align: right;\n",
       "    }\n",
       "</style>\n",
       "<table border=\"1\" class=\"dataframe\">\n",
       "  <thead>\n",
       "    <tr style=\"text-align: right;\">\n",
       "      <th></th>\n",
       "      <th>Sample</th>\n",
       "      <th>CB_per</th>\n",
       "      <th>MC_per</th>\n",
       "      <th>PA_per</th>\n",
       "      <th>TCB_per</th>\n",
       "      <th>Atmosphere_type</th>\n",
       "      <th>Mass</th>\n",
       "      <th>Pretreat_voltage</th>\n",
       "      <th>Voltage</th>\n",
       "      <th>PulseTime</th>\n",
       "      <th>Cap</th>\n",
       "      <th>Average_Graphene_Yield</th>\n",
       "      <th>mlpred_Graphene_Yield</th>\n",
       "    </tr>\n",
       "  </thead>\n",
       "  <tbody>\n",
       "    <tr>\n",
       "      <th>0</th>\n",
       "      <td>1</td>\n",
       "      <td>0.5</td>\n",
       "      <td>0.0</td>\n",
       "      <td>0.5</td>\n",
       "      <td>0.0</td>\n",
       "      <td>vac</td>\n",
       "      <td>218</td>\n",
       "      <td>260</td>\n",
       "      <td>212</td>\n",
       "      <td>616</td>\n",
       "      <td>123</td>\n",
       "      <td>82.106782</td>\n",
       "      <td>30.854782</td>\n",
       "    </tr>\n",
       "    <tr>\n",
       "      <th>1</th>\n",
       "      <td>2</td>\n",
       "      <td>0.5</td>\n",
       "      <td>0.0</td>\n",
       "      <td>0.5</td>\n",
       "      <td>0.0</td>\n",
       "      <td>vac</td>\n",
       "      <td>162</td>\n",
       "      <td>185</td>\n",
       "      <td>207</td>\n",
       "      <td>259</td>\n",
       "      <td>105</td>\n",
       "      <td>77.509470</td>\n",
       "      <td>38.333843</td>\n",
       "    </tr>\n",
       "    <tr>\n",
       "      <th>2</th>\n",
       "      <td>3</td>\n",
       "      <td>0.0</td>\n",
       "      <td>0.5</td>\n",
       "      <td>0.0</td>\n",
       "      <td>0.5</td>\n",
       "      <td>vac</td>\n",
       "      <td>311</td>\n",
       "      <td>220</td>\n",
       "      <td>218</td>\n",
       "      <td>439</td>\n",
       "      <td>123</td>\n",
       "      <td>49.766900</td>\n",
       "      <td>23.895056</td>\n",
       "    </tr>\n",
       "    <tr>\n",
       "      <th>3</th>\n",
       "      <td>4</td>\n",
       "      <td>0.0</td>\n",
       "      <td>0.0</td>\n",
       "      <td>0.5</td>\n",
       "      <td>0.5</td>\n",
       "      <td>vac</td>\n",
       "      <td>233</td>\n",
       "      <td>150</td>\n",
       "      <td>164</td>\n",
       "      <td>154</td>\n",
       "      <td>105</td>\n",
       "      <td>38.383838</td>\n",
       "      <td>30.949862</td>\n",
       "    </tr>\n",
       "    <tr>\n",
       "      <th>4</th>\n",
       "      <td>5</td>\n",
       "      <td>0.0</td>\n",
       "      <td>0.5</td>\n",
       "      <td>0.5</td>\n",
       "      <td>0.0</td>\n",
       "      <td>vac</td>\n",
       "      <td>231</td>\n",
       "      <td>330</td>\n",
       "      <td>197</td>\n",
       "      <td>380</td>\n",
       "      <td>96</td>\n",
       "      <td>42.095960</td>\n",
       "      <td>17.796835</td>\n",
       "    </tr>\n",
       "    <tr>\n",
       "      <th>5</th>\n",
       "      <td>6</td>\n",
       "      <td>0.0</td>\n",
       "      <td>0.5</td>\n",
       "      <td>0.0</td>\n",
       "      <td>0.5</td>\n",
       "      <td>vac</td>\n",
       "      <td>211</td>\n",
       "      <td>162</td>\n",
       "      <td>214</td>\n",
       "      <td>222</td>\n",
       "      <td>141</td>\n",
       "      <td>64.574315</td>\n",
       "      <td>36.320053</td>\n",
       "    </tr>\n",
       "    <tr>\n",
       "      <th>6</th>\n",
       "      <td>7</td>\n",
       "      <td>0.5</td>\n",
       "      <td>0.5</td>\n",
       "      <td>0.0</td>\n",
       "      <td>0.0</td>\n",
       "      <td>air</td>\n",
       "      <td>242</td>\n",
       "      <td>275</td>\n",
       "      <td>208</td>\n",
       "      <td>77</td>\n",
       "      <td>123</td>\n",
       "      <td>56.060606</td>\n",
       "      <td>33.331100</td>\n",
       "    </tr>\n",
       "    <tr>\n",
       "      <th>7</th>\n",
       "      <td>8</td>\n",
       "      <td>0.5</td>\n",
       "      <td>0.5</td>\n",
       "      <td>0.0</td>\n",
       "      <td>0.0</td>\n",
       "      <td>vac</td>\n",
       "      <td>222</td>\n",
       "      <td>150</td>\n",
       "      <td>177</td>\n",
       "      <td>168</td>\n",
       "      <td>96</td>\n",
       "      <td>22.799423</td>\n",
       "      <td>17.014296</td>\n",
       "    </tr>\n",
       "    <tr>\n",
       "      <th>8</th>\n",
       "      <td>9</td>\n",
       "      <td>0.0</td>\n",
       "      <td>0.5</td>\n",
       "      <td>0.5</td>\n",
       "      <td>0.0</td>\n",
       "      <td>air</td>\n",
       "      <td>289</td>\n",
       "      <td>240</td>\n",
       "      <td>185</td>\n",
       "      <td>216</td>\n",
       "      <td>105</td>\n",
       "      <td>34.738691</td>\n",
       "      <td>33.757877</td>\n",
       "    </tr>\n",
       "    <tr>\n",
       "      <th>9</th>\n",
       "      <td>10</td>\n",
       "      <td>0.5</td>\n",
       "      <td>0.5</td>\n",
       "      <td>0.0</td>\n",
       "      <td>0.0</td>\n",
       "      <td>air</td>\n",
       "      <td>240</td>\n",
       "      <td>240</td>\n",
       "      <td>195</td>\n",
       "      <td>318</td>\n",
       "      <td>123</td>\n",
       "      <td>63.318055</td>\n",
       "      <td>32.708710</td>\n",
       "    </tr>\n",
       "    <tr>\n",
       "      <th>10</th>\n",
       "      <td>11</td>\n",
       "      <td>0.5</td>\n",
       "      <td>0.0</td>\n",
       "      <td>0.5</td>\n",
       "      <td>0.0</td>\n",
       "      <td>vac</td>\n",
       "      <td>246</td>\n",
       "      <td>187</td>\n",
       "      <td>190</td>\n",
       "      <td>163</td>\n",
       "      <td>132</td>\n",
       "      <td>45.454545</td>\n",
       "      <td>37.929852</td>\n",
       "    </tr>\n",
       "    <tr>\n",
       "      <th>11</th>\n",
       "      <td>12</td>\n",
       "      <td>0.5</td>\n",
       "      <td>0.5</td>\n",
       "      <td>0.0</td>\n",
       "      <td>0.0</td>\n",
       "      <td>arg</td>\n",
       "      <td>188</td>\n",
       "      <td>240</td>\n",
       "      <td>180</td>\n",
       "      <td>295</td>\n",
       "      <td>105</td>\n",
       "      <td>57.815657</td>\n",
       "      <td>35.174343</td>\n",
       "    </tr>\n",
       "    <tr>\n",
       "      <th>12</th>\n",
       "      <td>13</td>\n",
       "      <td>0.0</td>\n",
       "      <td>0.5</td>\n",
       "      <td>0.0</td>\n",
       "      <td>0.5</td>\n",
       "      <td>vac</td>\n",
       "      <td>326</td>\n",
       "      <td>162</td>\n",
       "      <td>184</td>\n",
       "      <td>294</td>\n",
       "      <td>123</td>\n",
       "      <td>20.946970</td>\n",
       "      <td>26.828827</td>\n",
       "    </tr>\n",
       "    <tr>\n",
       "      <th>13</th>\n",
       "      <td>14</td>\n",
       "      <td>0.5</td>\n",
       "      <td>0.5</td>\n",
       "      <td>0.0</td>\n",
       "      <td>0.0</td>\n",
       "      <td>vac</td>\n",
       "      <td>219</td>\n",
       "      <td>102</td>\n",
       "      <td>184</td>\n",
       "      <td>179</td>\n",
       "      <td>114</td>\n",
       "      <td>34.749557</td>\n",
       "      <td>30.542316</td>\n",
       "    </tr>\n",
       "    <tr>\n",
       "      <th>14</th>\n",
       "      <td>15</td>\n",
       "      <td>0.5</td>\n",
       "      <td>0.5</td>\n",
       "      <td>0.0</td>\n",
       "      <td>0.0</td>\n",
       "      <td>air</td>\n",
       "      <td>231</td>\n",
       "      <td>130</td>\n",
       "      <td>160</td>\n",
       "      <td>95</td>\n",
       "      <td>96</td>\n",
       "      <td>34.126984</td>\n",
       "      <td>14.450700</td>\n",
       "    </tr>\n",
       "    <tr>\n",
       "      <th>15</th>\n",
       "      <td>16</td>\n",
       "      <td>0.5</td>\n",
       "      <td>0.0</td>\n",
       "      <td>0.0</td>\n",
       "      <td>0.5</td>\n",
       "      <td>vac</td>\n",
       "      <td>219</td>\n",
       "      <td>232</td>\n",
       "      <td>212</td>\n",
       "      <td>209</td>\n",
       "      <td>132</td>\n",
       "      <td>85.209235</td>\n",
       "      <td>34.156979</td>\n",
       "    </tr>\n",
       "    <tr>\n",
       "      <th>16</th>\n",
       "      <td>17</td>\n",
       "      <td>0.5</td>\n",
       "      <td>0.5</td>\n",
       "      <td>0.0</td>\n",
       "      <td>0.0</td>\n",
       "      <td>vac</td>\n",
       "      <td>191</td>\n",
       "      <td>210</td>\n",
       "      <td>227</td>\n",
       "      <td>538</td>\n",
       "      <td>114</td>\n",
       "      <td>65.873016</td>\n",
       "      <td>26.103191</td>\n",
       "    </tr>\n",
       "    <tr>\n",
       "      <th>17</th>\n",
       "      <td>18</td>\n",
       "      <td>0.5</td>\n",
       "      <td>0.5</td>\n",
       "      <td>0.0</td>\n",
       "      <td>0.0</td>\n",
       "      <td>vac</td>\n",
       "      <td>236</td>\n",
       "      <td>201</td>\n",
       "      <td>220</td>\n",
       "      <td>489</td>\n",
       "      <td>105</td>\n",
       "      <td>57.142857</td>\n",
       "      <td>24.781549</td>\n",
       "    </tr>\n",
       "    <tr>\n",
       "      <th>18</th>\n",
       "      <td>19</td>\n",
       "      <td>0.0</td>\n",
       "      <td>0.5</td>\n",
       "      <td>0.0</td>\n",
       "      <td>0.5</td>\n",
       "      <td>vac</td>\n",
       "      <td>322</td>\n",
       "      <td>232</td>\n",
       "      <td>234</td>\n",
       "      <td>102</td>\n",
       "      <td>132</td>\n",
       "      <td>42.424242</td>\n",
       "      <td>34.161625</td>\n",
       "    </tr>\n",
       "    <tr>\n",
       "      <th>19</th>\n",
       "      <td>20</td>\n",
       "      <td>0.5</td>\n",
       "      <td>0.0</td>\n",
       "      <td>0.0</td>\n",
       "      <td>0.5</td>\n",
       "      <td>vac</td>\n",
       "      <td>213</td>\n",
       "      <td>142</td>\n",
       "      <td>177</td>\n",
       "      <td>197</td>\n",
       "      <td>123</td>\n",
       "      <td>51.082251</td>\n",
       "      <td>37.100010</td>\n",
       "    </tr>\n",
       "  </tbody>\n",
       "</table>\n",
       "</div>"
      ],
      "text/plain": [
       "    Sample  CB_per  MC_per  PA_per  TCB_per Atmosphere_type  Mass  \\\n",
       "0        1     0.5     0.0     0.5      0.0             vac   218   \n",
       "1        2     0.5     0.0     0.5      0.0             vac   162   \n",
       "2        3     0.0     0.5     0.0      0.5             vac   311   \n",
       "3        4     0.0     0.0     0.5      0.5             vac   233   \n",
       "4        5     0.0     0.5     0.5      0.0             vac   231   \n",
       "5        6     0.0     0.5     0.0      0.5             vac   211   \n",
       "6        7     0.5     0.5     0.0      0.0             air   242   \n",
       "7        8     0.5     0.5     0.0      0.0             vac   222   \n",
       "8        9     0.0     0.5     0.5      0.0             air   289   \n",
       "9       10     0.5     0.5     0.0      0.0             air   240   \n",
       "10      11     0.5     0.0     0.5      0.0             vac   246   \n",
       "11      12     0.5     0.5     0.0      0.0             arg   188   \n",
       "12      13     0.0     0.5     0.0      0.5             vac   326   \n",
       "13      14     0.5     0.5     0.0      0.0             vac   219   \n",
       "14      15     0.5     0.5     0.0      0.0             air   231   \n",
       "15      16     0.5     0.0     0.0      0.5             vac   219   \n",
       "16      17     0.5     0.5     0.0      0.0             vac   191   \n",
       "17      18     0.5     0.5     0.0      0.0             vac   236   \n",
       "18      19     0.0     0.5     0.0      0.5             vac   322   \n",
       "19      20     0.5     0.0     0.0      0.5             vac   213   \n",
       "\n",
       "    Pretreat_voltage  Voltage  PulseTime  Cap  Average_Graphene_Yield  \\\n",
       "0                260      212        616  123               82.106782   \n",
       "1                185      207        259  105               77.509470   \n",
       "2                220      218        439  123               49.766900   \n",
       "3                150      164        154  105               38.383838   \n",
       "4                330      197        380   96               42.095960   \n",
       "5                162      214        222  141               64.574315   \n",
       "6                275      208         77  123               56.060606   \n",
       "7                150      177        168   96               22.799423   \n",
       "8                240      185        216  105               34.738691   \n",
       "9                240      195        318  123               63.318055   \n",
       "10               187      190        163  132               45.454545   \n",
       "11               240      180        295  105               57.815657   \n",
       "12               162      184        294  123               20.946970   \n",
       "13               102      184        179  114               34.749557   \n",
       "14               130      160         95   96               34.126984   \n",
       "15               232      212        209  132               85.209235   \n",
       "16               210      227        538  114               65.873016   \n",
       "17               201      220        489  105               57.142857   \n",
       "18               232      234        102  132               42.424242   \n",
       "19               142      177        197  123               51.082251   \n",
       "\n",
       "    mlpred_Graphene_Yield  \n",
       "0               30.854782  \n",
       "1               38.333843  \n",
       "2               23.895056  \n",
       "3               30.949862  \n",
       "4               17.796835  \n",
       "5               36.320053  \n",
       "6               33.331100  \n",
       "7               17.014296  \n",
       "8               33.757877  \n",
       "9               32.708710  \n",
       "10              37.929852  \n",
       "11              35.174343  \n",
       "12              26.828827  \n",
       "13              30.542316  \n",
       "14              14.450700  \n",
       "15              34.156979  \n",
       "16              26.103191  \n",
       "17              24.781549  \n",
       "18              34.161625  \n",
       "19              37.100010  "
      ]
     },
     "execution_count": 82,
     "metadata": {},
     "output_type": "execute_result"
    }
   ],
   "source": [
    "df_newexp['mlpred_Graphene_Yield'] = graphene_yield_newexp_predicted\n",
    "df_newexp"
   ]
  },
  {
   "cell_type": "code",
   "execution_count": 83,
   "metadata": {},
   "outputs": [
    {
     "name": "stdout",
     "output_type": "stream",
     "text": [
      "min of pred GY 14.4507\n",
      "max of pred GY 38.333843\n"
     ]
    },
    {
     "name": "stderr",
     "output_type": "stream",
     "text": [
      "/home/kianoosh/anaconda3/envs/my-rdkit-env/lib/python3.9/site-packages/seaborn/distributions.py:2619: FutureWarning: `distplot` is a deprecated function and will be removed in a future version. Please adapt your code to use either `displot` (a figure-level function with similar flexibility) or `histplot` (an axes-level function for histograms).\n",
      "  warnings.warn(msg, FutureWarning)\n",
      "/home/kianoosh/anaconda3/envs/my-rdkit-env/lib/python3.9/site-packages/seaborn/distributions.py:2619: FutureWarning: `distplot` is a deprecated function and will be removed in a future version. Please adapt your code to use either `displot` (a figure-level function with similar flexibility) or `histplot` (an axes-level function for histograms).\n",
      "  warnings.warn(msg, FutureWarning)\n"
     ]
    },
    {
     "data": {
      "text/plain": [
       "<AxesSubplot:xlabel='Average_Graphene_Yield', ylabel='Density'>"
      ]
     },
     "execution_count": 83,
     "metadata": {},
     "output_type": "execute_result"
    },
    {
     "data": {
      "image/png": "[encoded data removed]",
      "text/plain": [
       "<Figure size 432x288 with 1 Axes>"
      ]
     },
     "metadata": {
      "needs_background": "light"
     },
     "output_type": "display_data"
    }
   ],
   "source": [
    "print ('min of pred GY', np.min (df_newexp['mlpred_Graphene_Yield']))\n",
    "print ('max of pred GY', np.max (df_newexp['mlpred_Graphene_Yield']))\n",
    "sns.distplot (df_newexp['mlpred_Graphene_Yield'])\n",
    "sns.distplot (df_newexp['Average_Graphene_Yield'])"
   ]
  },
  {
   "cell_type": "code",
   "execution_count": 84,
   "metadata": {},
   "outputs": [
    {
     "name": "stdout",
     "output_type": "stream",
     "text": [
      "20.946969699999997\n",
      "85.20923524999999\n"
     ]
    }
   ],
   "source": [
    "print (np.min (df_newexp['Average_Graphene_Yield']))\n",
    "print (np.max (df_newexp['Average_Graphene_Yield']))"
   ]
  },
  {
   "cell_type": "code",
   "execution_count": 85,
   "metadata": {},
   "outputs": [
    {
     "name": "stdout",
     "output_type": "stream",
     "text": [
      "14.4507\n",
      "38.333843\n"
     ]
    }
   ],
   "source": [
    "print (np.min (df_newexp['mlpred_Graphene_Yield']))\n",
    "print (np.max (df_newexp['mlpred_Graphene_Yield']))\n"
   ]
  },
  {
   "cell_type": "code",
   "execution_count": 86,
   "metadata": {},
   "outputs": [
    {
     "data": {
      "text/plain": [
       "<seaborn.axisgrid.FacetGrid at 0x7f492813ffa0>"
      ]
     },
     "execution_count": 86,
     "metadata": {},
     "output_type": "execute_result"
    },
    {
     "data": {
      "image/png": "[encoded data removed]",
      "text/plain": [
       "<Figure size 360x360 with 1 Axes>"
      ]
     },
     "metadata": {
      "needs_background": "light"
     },
     "output_type": "display_data"
    }
   ],
   "source": [
    "sns.displot (df_newexp['mlpred_Graphene_Yield'])"
   ]
  },
  {
   "cell_type": "code",
   "execution_count": 87,
   "metadata": {},
   "outputs": [
    {
     "name": "stdout",
     "output_type": "stream",
     "text": [
      "(0.4641847244822059, 0.03923060591685649)\n",
      "-1.2432052914985663\n"
     ]
    },
    {
     "data": {
      "text/plain": [
       "<matplotlib.collections.PathCollection at 0x7f493650e670>"
      ]
     },
     "execution_count": 87,
     "metadata": {},
     "output_type": "execute_result"
    },
    {
     "data": {
      "image/png": "[encoded data removed]",
      "text/plain": [
       "<Figure size 432x288 with 1 Axes>"
      ]
     },
     "metadata": {
      "needs_background": "light"
     },
     "output_type": "display_data"
    }
   ],
   "source": [
    "print (pearsonr (df_newexp['mlpred_Graphene_Yield'], df_newexp['Average_Graphene_Yield']))\n",
    "print (r2_score (df_newexp['Average_Graphene_Yield'], df_newexp['mlpred_Graphene_Yield']))\n",
    "plt.scatter (df_newexp['mlpred_Graphene_Yield'], df_newexp['Average_Graphene_Yield'])"
   ]
  },
  {
   "cell_type": "code",
   "execution_count": 88,
   "metadata": {},
   "outputs": [
    {
     "name": "stdout",
     "output_type": "stream",
     "text": [
      "End!!!\n"
     ]
    }
   ],
   "source": [
    "print ('End!!!')"
   ]
  }
 ],
 "metadata": {
  "kernelspec": {
   "display_name": "Python 3 (ipykernel)",
   "language": "python",
   "name": "python3"
  },
  "language_info": {
   "codemirror_mode": {
    "name": "ipython",
    "version": 3
   },
   "file_extension": ".py",
   "mimetype": "text/x-python",
   "name": "python",
   "nbconvert_exporter": "python",
   "pygments_lexer": "ipython3",
   "version": "3.9.10"
  }
 },
 "nbformat": 4,
 "nbformat_minor": 4
}
