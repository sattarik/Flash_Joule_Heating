{
 "cells": [
  {
   "cell_type": "markdown",
   "metadata": {},
   "source": [
    "### 173 samples, Final_R is missing for the following sample\n",
    "137)\tMC\tair\t204\t8\t180\t60\t180\t500\t30\t114\t0.3\tNA\t150\t0.3\t100\t0.490196078\t486.395\t57.78712883\t26.00664167\t0.467\t9.68631173\t3\t0.422680412\t0.541775715\t0.521526486\t44.36424367"
   ]
  },
  {
   "cell_type": "code",
   "execution_count": 1,
   "metadata": {},
   "outputs": [
    {
     "name": "stderr",
     "output_type": "stream",
     "text": [
      "/home/kianoosh/anaconda3/envs/my-rdkit-env/lib/python3.9/site-packages/xgboost/compat.py:36: FutureWarning: pandas.Int64Index is deprecated and will be removed from pandas in a future version. Use pandas.Index with the appropriate dtype instead.\n",
      "  from pandas import MultiIndex, Int64Index\n",
      "2022-11-10 10:58:43.656007: W tensorflow/stream_executor/platform/default/dso_loader.cc:64] Could not load dynamic library 'libcudart.so.11.0'; dlerror: libcudart.so.11.0: cannot open shared object file: No such file or directory\n",
      "2022-11-10 10:58:43.656030: I tensorflow/stream_executor/cuda/cudart_stub.cc:29] Ignore above cudart dlerror if you do not have a GPU set up on your machine.\n"
     ]
    }
   ],
   "source": [
    "# Import Python libaries\n",
    "%matplotlib inline\n",
    "from scipy.optimize import curve_fit\n",
    "import time as time\n",
    "# General data management\n",
    "import numpy as np\n",
    "import pandas as pd\n",
    "import random\n",
    "import matplotlib.pyplot as plt\n",
    "import seaborn as sns\n",
    "import xgboost as xgb\n",
    "from xgboost import XGBRegressor\n",
    "from sklearn import linear_model\n",
    "from sklearn import ensemble\n",
    "from xgboost import plot_tree\n",
    "from sklearn.tree import DecisionTreeRegressor\n",
    "from sklearn.model_selection import GridSearchCV\n",
    "# import pydo\n",
    "# generate random integer values\n",
    "from random import seed\n",
    "from random import randint\n",
    "# seed random number generator\n",
    "seed(1)\n",
    "# Machine learning & model visualization tools\n",
    "from sklearn.model_selection import train_test_split\n",
    "from sklearn import preprocessing\n",
    "from sklearn.ensemble import RandomForestRegressor\n",
    "from sklearn.pipeline import make_pipeline\n",
    "from sklearn.model_selection import GridSearchCV\n",
    "from sklearn.metrics import r2_score, mean_squared_error, mean_gamma_deviance\n",
    "from sklearn.tree import export_graphviz\n",
    "from sklearn import svm\n",
    "from sklearn.neural_network import MLPRegressor\n",
    "from sklearn.neighbors import KNeighborsRegressor\n",
    "from numpy import cov\n",
    "from scipy.stats import pearsonr\n",
    "from scipy import ndimage, misc\n",
    "import pydot\n",
    "import math\n",
    "from sklearn.model_selection import LeaveOneOut\n",
    "from sklearn.metrics import mean_absolute_error\n",
    "# from sklearn.externals import joblib\n",
    "# Miscellaneous\n",
    "import os\n",
    "import io\n",
    "\n",
    "import tensorflow as tf\n",
    "from tensorflow import keras\n",
    "from tensorflow.keras import layers\n",
    "from keras import backend as BK\n",
    "from tensorflow.keras.models import Sequential\n",
    "from tensorflow.keras.layers import Dense\n",
    "from tensorflow.keras.wrappers.scikit_learn import KerasRegressor\n",
    "from sklearn.inspection import partial_dependence, plot_partial_dependence"
   ]
  },
  {
   "cell_type": "code",
   "execution_count": 2,
   "metadata": {},
   "outputs": [],
   "source": [
    "# proxy properties\n",
    "# read the input data\n",
    "df = pd.read_csv('FJH_ML_Final.csv', header=1)\n",
    "df_dummy = pd.get_dummies(df)\n",
    "\n",
    "df['Norm_charge_tot'] = df['Charge_Tot']/(df['Mass'])*1000\n",
    "df['Norm_I_Max'] = df['I_Max']/df['Mass']*1000\n",
    "df['charge_density'] = df['Voltage']*(df['Cap'])/(df['Mass'])\n",
    "df['Final_Current_Percent'] = df['I_Final']/df['I_Max']\n",
    "\n",
    "Norm_I_Max = np.array (df['Norm_I_Max']).reshape(-1, 1)\n",
    "Final_Current_Percent  = np.array (df['Final_Current_Percent']).reshape(-1, 1)\n",
    "Norm_charge_tot  = np.array (df['Norm_charge_tot']).reshape(-1, 1)\n",
    "# final prediction, yield of Graphene\n",
    "Graphene_Yield = np.array (df['Graphene_Yield']).reshape(-1, 1)\n",
    "\n",
    "# only process parameters that are in BO prediction\n",
    "Pretreat_voltage = np.array (df['Pretreat_voltage']).reshape(-1, 1)\n",
    "pulsetime = np.array (df['PulseTime']).reshape(-1, 1)\n",
    "charge_denisty = np.array (df['charge_density']).reshape(-1, 1)"
   ]
  },
  {
   "cell_type": "code",
   "execution_count": 3,
   "metadata": {},
   "outputs": [
    {
     "data": {
      "image/png": "[encoded data removed]",
      "text/plain": [
       "<Figure size 432x288 with 1 Axes>"
      ]
     },
     "metadata": {
      "needs_background": "light"
     },
     "output_type": "display_data"
    }
   ],
   "source": [
    "plt.scatter(df['I_Max'], df['Graphene_Yield'])\n",
    "plt.xlim(0, 1000)\n",
    "plt.xlabel('I_mean');\n",
    "plt.ylabel('Graphene Yield');\n",
    "\n",
    "#pearsonr(df['I_Mean'], df['Graphene_Yield'])"
   ]
  },
  {
   "cell_type": "code",
   "execution_count": 4,
   "metadata": {},
   "outputs": [
    {
     "name": "stdout",
     "output_type": "stream",
     "text": [
      "mean (I_Final):  40.80352983960345\n",
      "mean (I_Max):  312.40027568965513\n"
     ]
    }
   ],
   "source": [
    "# mean (I_Final) = 40.8035 for the origianl dataset\n",
    "# mean (I_Max) = 312.4003 for the origianl dataset\n",
    "print ('mean (I_Final): ', np.mean(df['I_Final']))\n",
    "print ('mean (I_Max): ', np.mean(df['I_Max']))"
   ]
  },
  {
   "cell_type": "code",
   "execution_count": 5,
   "metadata": {},
   "outputs": [],
   "source": [
    "# type of material\n",
    "Material_CB = np.array (df_dummy['Material_CB']).reshape(-1, 1)\n",
    "Material_MC = np.array (df_dummy['Material_MC']).reshape(-1, 1) \n",
    "Material_PA = np.array (df_dummy['Material_PA']).reshape(-1, 1)\n",
    "Material_TCB = np.array (df_dummy['Material_TCB']).reshape(-1, 1)\n",
    "material_type = np.concatenate ((Material_CB, Material_MC, Material_PA, Material_TCB), axis=1)\n",
    "\n",
    "material_matrix = np.concatenate((np.array (df_dummy['Material_CB']).reshape([-1, 1]), \n",
    "                                  np.array (df_dummy['Material_MC']).reshape([-1, 1]),\n",
    "                                  np.array (df_dummy['Material_PA']).reshape([-1, 1]),\n",
    "                                  np.array (df_dummy['Material_TCB']).reshape([-1, 1])), axis=1)\n",
    "material_matrix = np.array (material_matrix)\n",
    "# extra material descriptors\n",
    "# Cabot BP2000: Tensile Strength=17 MPa, particle size=15nm, specific surface area=1500(m2/g)\n",
    "# metallurgical coke: grain size=150-210 (um)\n",
    "# pyrolysis ash: \n",
    "# pyrolyzed rubber tire-derived carbon black: "
   ]
  },
  {
   "cell_type": "code",
   "execution_count": 6,
   "metadata": {},
   "outputs": [],
   "source": [
    "# physical properties of precursor received from Kevin\n",
    "CB_ps_res_sa_sp2 = [45, 2.8, 1750, 41.2]\n",
    "MC_ps_res_sa_sp2 = [150, 0.4, 18, 45.9]\n",
    "PA_ps_res_sa_sp2 = [125, 7.2, 62, 42.4]\n",
    "TCB_ps_res_sa_sp2 = [106, 6.3, 74, 30.6]\n",
    "CB_MC_PA_TCB_ps_res_sa_sp2 = np.concatenate ([CB_ps_res_sa_sp2,\n",
    "                 MC_ps_res_sa_sp2,\n",
    "                 PA_ps_res_sa_sp2,\n",
    "                 TCB_ps_res_sa_sp2], axis=0).reshape(4,4)\n",
    "X_CB_MC_PA_TCB_ps_res_sa_sp2 = np.matmul(material_matrix, CB_MC_PA_TCB_ps_res_sa_sp2)"
   ]
  },
  {
   "cell_type": "code",
   "execution_count": 7,
   "metadata": {},
   "outputs": [],
   "source": [
    "# type of Atmosphere\n",
    "Atmosphere_air = np.array (df_dummy['Atmosphere_air']).reshape(-1, 1)\n",
    "Atmosphere_arg = np.array (df_dummy['Atmosphere_arg']).reshape(-1, 1)\n",
    "#Atmosphere_vac = np.array (df_dummy['Atmosphere_vac']).reshape(-1, 1)\n",
    "atmosphere_type = np.concatenate ((Atmosphere_air, Atmosphere_arg), axis=1)"
   ]
  },
  {
   "cell_type": "code",
   "execution_count": 8,
   "metadata": {},
   "outputs": [
    {
     "name": "stderr",
     "output_type": "stream",
     "text": [
      "/home/kianoosh/anaconda3/envs/my-rdkit-env/lib/python3.9/site-packages/sklearn/_loss/glm_distribution.py:132: RuntimeWarning: divide by zero encountered in true_divide\n",
      "  return -2 * (y - y_pred) / self.unit_variance(y_pred)\n",
      "/home/kianoosh/anaconda3/envs/my-rdkit-env/lib/python3.9/site-packages/sklearn/linear_model/_glm/link.py:90: RuntimeWarning: overflow encountered in exp\n",
      "  return np.exp(lin_pred)\n",
      "/home/kianoosh/anaconda3/envs/my-rdkit-env/lib/python3.9/site-packages/sklearn/linear_model/_glm/link.py:93: RuntimeWarning: overflow encountered in exp\n",
      "  return np.exp(lin_pred)\n",
      "/home/kianoosh/anaconda3/envs/my-rdkit-env/lib/python3.9/site-packages/sklearn/_loss/glm_distribution.py:132: RuntimeWarning: divide by zero encountered in true_divide\n",
      "  return -2 * (y - y_pred) / self.unit_variance(y_pred)\n",
      "/home/kianoosh/anaconda3/envs/my-rdkit-env/lib/python3.9/site-packages/sklearn/_loss/glm_distribution.py:132: RuntimeWarning: invalid value encountered in true_divide\n",
      "  return -2 * (y - y_pred) / self.unit_variance(y_pred)\n"
     ]
    },
    {
     "name": "stdout",
     "output_type": "stream",
     "text": [
      "coef_:  [ 0.85859558  1.26522421 -0.56475846 -0.85072293  0.1269714   0.00456508\n",
      " -0.01456464]\n",
      "Gamma score: 0.6355407984639161\n",
      "r-squared 0.4134282330137423\n",
      "mse:  0.04719455569808928\n"
     ]
    },
    {
     "data": {
      "text/plain": [
       "[<matplotlib.lines.Line2D at 0x7f3f638037f0>]"
      ]
     },
     "execution_count": 8,
     "metadata": {},
     "output_type": "execute_result"
    },
    {
     "data": {
      "image/png": "[encoded data removed]",
      "text/plain": [
       "<Figure size 432x288 with 1 Axes>"
      ]
     },
     "metadata": {
      "needs_background": "light"
     },
     "output_type": "display_data"
    }
   ],
   "source": [
    "# Final_Current_Percent as output of linear model with inputs Precursor related\n",
    "# Init_R, Res_Drop, Volt_Drop --> Final_Current_Percent\n",
    "material_matrix_cosh = np.cosh (material_matrix)\n",
    "Init_R = np.array (df['Init_R']).reshape (-1, 1)\n",
    "Res_Drop = np.array (df['Res_Drop']).reshape (-1, 1)\n",
    "Volt_Drop = np.array (df['Volt_Drop']).reshape (-1, 1)\n",
    "Mass = np.array (df['Mass']).reshape(-1, 1)\n",
    "\n",
    "input_features = np.concatenate((material_matrix_cosh, Init_R, Res_Drop, Volt_Drop), axis=1)\n",
    "max_gamma_score = 0\n",
    "for rand in range(0, 100):\n",
    "    X_train, X_test, y_train, y_test = train_test_split(\n",
    "        input_features, Final_Current_Percent, test_size=0.2, random_state=rand)\n",
    "    clf = linear_model.GammaRegressor(alpha=0., max_iter=10000)\n",
    "    clf = clf.fit(X_train, y_train.ravel())\n",
    "    if clf.score(X_test, y_test.ravel()) > max_gamma_score:\n",
    "        max_gamma_score = clf.score(X_test, y_test.ravel())\n",
    "        best_random_state = rand\n",
    "\n",
    "X_train, X_test, y_train, y_test = train_test_split(\n",
    "        input_features, Final_Current_Percent, test_size=0.2, random_state=best_random_state)\n",
    "clf = linear_model.GammaRegressor(alpha=0., max_iter=10000)\n",
    "clf = clf.fit(X_train, y_train.ravel())\n",
    "print ('coef_: ', clf.coef_)\n",
    "CB_MC_PA_coef_Final_Current_Percent = clf.coef_[0:4]\n",
    "y_pred = clf.predict (X_test)\n",
    "print ('Gamma score:', clf.score(X_test, y_test.ravel()))\n",
    "r2 = r2_score(y_test.ravel(), y_pred.ravel())\n",
    "print ('r-squared', r2)\n",
    "print ('mse: ', mean_squared_error(y_test, y_pred))\n",
    "\n",
    "\n",
    "plt.scatter(y_test, y_pred)\n",
    "mid_line = list(np.linspace(np.min(Final_Current_Percent), np.max(Final_Current_Percent), 8))\n",
    "plt.plot(mid_line, mid_line, '--', color='red')"
   ]
  },
  {
   "cell_type": "code",
   "execution_count": 9,
   "metadata": {},
   "outputs": [
    {
     "data": {
      "text/plain": [
       "(174, 2)"
      ]
     },
     "execution_count": 9,
     "metadata": {},
     "output_type": "execute_result"
    }
   ],
   "source": [
    "X_CB_MC_PA_TCB_ps_res_sa_sp2[:, (1,2)].shape"
   ]
  },
  {
   "cell_type": "code",
   "execution_count": 10,
   "metadata": {},
   "outputs": [
    {
     "name": "stdout",
     "output_type": "stream",
     "text": [
      "coef_:  [-0.12706507 -0.09505012  0.07616448 -0.26409503  0.00286348 -0.00347033\n",
      "  0.00132296 -0.05904571 -0.02290511  0.00354556]\n",
      "Gamma score for test data: 0.7109013005717477\n",
      "r-squared for test data 0.7622299090934634\n",
      "mse:  126323.37861240293\n"
     ]
    },
    {
     "data": {
      "text/plain": [
       "[<matplotlib.lines.Line2D at 0x7f3f6370c070>]"
      ]
     },
     "execution_count": 10,
     "metadata": {},
     "output_type": "execute_result"
    },
    {
     "data": {
      "image/png": "[encoded data removed]",
      "text/plain": [
       "<Figure size 432x288 with 1 Axes>"
      ]
     },
     "metadata": {
      "needs_background": "light"
     },
     "output_type": "display_data"
    }
   ],
   "source": [
    "# Norm_I_Max as output of linear model with inputs Precursor related:\n",
    "# Init_R, Res_Drop, Volt_Drop --> Norm_I_Max\n",
    "input_features = np.concatenate((material_matrix_cosh, X_CB_MC_PA_TCB_ps_res_sa_sp2[:, (0, 1, 3)], \n",
    "                                 Init_R, Res_Drop, Volt_Drop), axis=1)\n",
    "max_gamma_score = 0\n",
    "for rand in range(0, 100):\n",
    "    X_train, X_test, y_train, y_test = train_test_split(\n",
    "        input_features, Norm_I_Max, test_size=0.2, random_state=rand)\n",
    "    clf = linear_model.GammaRegressor(alpha=0., max_iter=10000)\n",
    "    clf = clf.fit(X_train, y_train.ravel())\n",
    "    if clf.score(X_test, y_test.ravel()) > max_gamma_score:\n",
    "        max_gamma_score = clf.score(X_test, y_test.ravel())\n",
    "        best_random_state = rand\n",
    "\n",
    "X_train, X_test, y_train, y_test = train_test_split(\n",
    "        input_features, Norm_I_Max, test_size=0.2, random_state=best_random_state)\n",
    "clf = linear_model.GammaRegressor(alpha=0., max_iter=10000)\n",
    "clf = clf.fit(X_train, y_train.ravel())\n",
    "\n",
    "print ('coef_: ', clf.coef_)\n",
    "CB_MC_PA_coef_Norm_I_Max = clf.coef_[0:4]\n",
    "y_pred = clf.predict (X_test)\n",
    "print ('Gamma score for test data:', clf.score(X_test, y_test.ravel()))\n",
    "r2 = r2_score(y_test.ravel(), y_pred.ravel())\n",
    "print ('r-squared for test data', r2)\n",
    "print ('mse: ', mean_squared_error(y_test, y_pred))\n",
    "\n",
    "\n",
    "\n",
    "plt.scatter(y_test, y_pred)\n",
    "mid_line = list(np.linspace(np.min(Norm_I_Max), np.max(Norm_I_Max), 8))\n",
    "plt.plot(mid_line, mid_line, '--', color='red')"
   ]
  },
  {
   "cell_type": "code",
   "execution_count": 11,
   "metadata": {},
   "outputs": [
    {
     "name": "stdout",
     "output_type": "stream",
     "text": [
      "coef_:  [-0.07910392 -0.32993873 -0.32547128 -0.20674004 -0.008548    0.01448827\n",
      "  0.00882141]\n",
      "Gamma score: 0.7773710858702431\n",
      "r-squared 0.7372262579997564\n",
      "mse:  309.3488773693205\n"
     ]
    },
    {
     "data": {
      "text/plain": [
       "[<matplotlib.lines.Line2D at 0x7f3f636faeb0>]"
      ]
     },
     "execution_count": 11,
     "metadata": {},
     "output_type": "execute_result"
    },
    {
     "data": {
      "image/png": "[encoded data removed]",
      "text/plain": [
       "<Figure size 432x288 with 1 Axes>"
      ]
     },
     "metadata": {
      "needs_background": "light"
     },
     "output_type": "display_data"
    }
   ],
   "source": [
    "# Norm_charge_tot as output of linear model with inputs Precursor related\n",
    "# Init_R, Res_Drop, Volt_Drop --> Norm_charge_tot\n",
    "input_features = np.concatenate((material_matrix, Init_R, Res_Drop, Volt_Drop), axis=1)\n",
    "max_gamma_score = 0\n",
    "for rand in range(0, 100):\n",
    "    X_train, X_test, y_train, y_test = train_test_split(\n",
    "        input_features, Norm_charge_tot, test_size=0.2, random_state=rand)\n",
    "    clf = linear_model.GammaRegressor(alpha=0., max_iter=1000)\n",
    "    clf = clf.fit(X_train, y_train.ravel())\n",
    "    if clf.score(X_test, y_test.ravel()) > max_gamma_score:\n",
    "        max_gamma_score = clf.score(X_test, y_test.ravel())\n",
    "        best_random_state = rand\n",
    "\n",
    "X_train, X_test, y_train, y_test = train_test_split(\n",
    "        input_features, Norm_charge_tot, test_size=0.2, random_state=best_random_state)\n",
    "clf = linear_model.GammaRegressor(alpha=0., max_iter=1000)\n",
    "clf = clf.fit(X_train, y_train.ravel())\n",
    "print ('coef_: ', clf.coef_)\n",
    "CB_MC_PA_coef_Norm_charge_tot = clf.coef_[0:4]\n",
    "y_pred = clf.predict (X_test)\n",
    "print ('Gamma score:', clf.score(X_test, y_test.ravel()))\n",
    "r2 = r2_score(y_test.ravel(), y_pred.ravel())\n",
    "print ('r-squared', r2)\n",
    "print ('mse: ', mean_squared_error(y_test, y_pred))\n",
    "\n",
    "\n",
    "plt.scatter(y_test, y_pred)\n",
    "mid_line = list(np.linspace(np.min(Norm_charge_tot), np.max(Norm_charge_tot), 8))\n",
    "plt.plot(mid_line, mid_line, '--', color='red')"
   ]
  },
  {
   "cell_type": "code",
   "execution_count": 12,
   "metadata": {},
   "outputs": [],
   "source": [
    "# got it from model based prediction of I_Max\n",
    "material_type_I_Finalperc_coef = material_type * CB_MC_PA_coef_Final_Current_Percent\n",
    "material_type_Norm_I_Max_coef = material_type * CB_MC_PA_coef_Norm_I_Max\n",
    "material_type_Norm_charge_Tot_coef = material_type * CB_MC_PA_coef_Norm_charge_tot"
   ]
  },
  {
   "cell_type": "code",
   "execution_count": 13,
   "metadata": {},
   "outputs": [
    {
     "data": {
      "text/plain": [
       "array([ 1.12800000e+02,  1.20000000e+03,  8.58595584e-01,  0.00000000e+00,\n",
       "       -0.00000000e+00, -0.00000000e+00,  0.00000000e+00,  0.00000000e+00,\n",
       "        6.00000000e+01])"
      ]
     },
     "execution_count": 13,
     "metadata": {},
     "output_type": "execute_result"
    }
   ],
   "source": [
    "# proxy (current-time plot) prediction (Final_Current_percent)\n",
    "new_features = np.concatenate ((charge_denisty,\n",
    "                                pulsetime,\n",
    "                                material_type_I_Finalperc_coef,\n",
    "                                atmosphere_type,\n",
    "                                Pretreat_voltage), axis=1)\n",
    "\n",
    "rand=0\n",
    "indices = np.arange(len(new_features))\n",
    "train_new_features, test_new_features, train_labels, test_labels, idxtrain, idx_test = \\\n",
    "                      train_test_split(new_features, Final_Current_Percent, \n",
    "                                       indices, test_size = 0.20, random_state = rand)\n",
    "feature_list = ['charge_denisty',\n",
    "                'PulseTime',\n",
    "                'material_CB',\n",
    "                'material_MC',\n",
    "                'material_PA',\n",
    "                'material_CB',\n",
    "                'Atmosphere_air',\n",
    "                'Atmosphere_arg',\n",
    "                'Pretreat_voltage']\n",
    "new_features[0]"
   ]
  },
  {
   "cell_type": "code",
   "execution_count": 14,
   "metadata": {},
   "outputs": [
    {
     "name": "stdout",
     "output_type": "stream",
     "text": [
      "Average of r pearson for test 0.7121996078082272\n",
      "std of r pearson for test 0.016502181916879865 \n",
      "\n",
      "Average of r_squared for test 0.482765645772217\n",
      "std of r_squared for test 0.028407963803648514 \n",
      "\n",
      "Average of r_squared for train 0.7893109433051783\n",
      "std of r_squared for train 0.008087188736208735\n",
      "Mean Absolute Error: 0.2072 units.\n",
      "r2 score =  0.777848107305179\n",
      "Mean Absolute Error: 0.1598 units.\n",
      "r2 score =  0.7212958350290023\n"
     ]
    }
   ],
   "source": [
    "r_squareds = list()\n",
    "r_pearsons = list()\n",
    "r_squareds_train = list()\n",
    "MAEs = list()\n",
    "MAEs_train = list()\n",
    "start = time.time()\n",
    "for random_state in range(50):\n",
    "    # after fixing the hyperparameters, train the model on all samples\n",
    "    # Instantiate model with 1000 decision tree\n",
    "    xgbr_final_I_percent = XGBRegressor(max_depth=3, n_estimators=25, gamma=0.01, \n",
    "                   learning_rate=0.115, subsample=0.77, min_child_weight=8, \n",
    "                   random_state=random_state)\n",
    "    #xgbr_final_I_percent = RandomForestRegressor(max_depth=20, n_estimators=500, min_samples_split=3)\n",
    "    # xgbr_final_I_percent = linear_model.BayesianRidge()\n",
    "    # xgbr_final_I_percent = XGBRegressor()\n",
    "    # Train the model on training data\n",
    "    labels = Final_Current_Percent\n",
    "    xgbr_final_I_percent.fit(train_new_features, train_labels);\n",
    "    #print('Doneskies')\n",
    "    Final_Current_Percent_test = xgbr_final_I_percent.predict(test_new_features)\n",
    "    r_squared_Final_Current_test = r2_score(test_labels, Final_Current_Percent_test)\n",
    "    r_squareds.append(r_squared_Final_Current_test)\n",
    "    \n",
    "    r_pearson_Final_Current_test = pearsonr(test_labels.reshape(test_labels.shape[0],), \n",
    "                                            Final_Current_Percent_test.reshape(Final_Current_Percent_test.shape[0],))\n",
    "    r_pearsons.append(r_pearson_Final_Current_test[0])   \n",
    "    \n",
    "    Final_Current_Percent_train = xgbr_final_I_percent.predict(train_new_features)\n",
    "    r_squared_Final_Current_train = r2_score(train_labels, Final_Current_Percent_train)\n",
    "    r_squareds_train.append(r_squared_Final_Current_train)    \n",
    "\n",
    "print ('Average of r pearson for test', np.mean(np.array(r_pearsons)))\n",
    "print ('std of r pearson for test', np.std(np.array(r_pearsons)), '\\n')\n",
    "\n",
    "print ('Average of r_squared for test', np.mean(np.array(r_squareds)))\n",
    "print ('std of r_squared for test', np.std(np.array(r_squareds)), '\\n')\n",
    "\n",
    "print ('Average of r_squared for train', np.mean(np.array(r_squareds_train)))\n",
    "print ('std of r_squared for train', np.std(np.array(r_squareds_train)))\n",
    "\n",
    "xgbr_final_I_percent.fit(new_features, labels)\n",
    "# Use the forest's predict method on the test data\n",
    "Final_Current_Percent_predicted = xgbr_final_I_percent.predict(new_features)\n",
    "# Calculate the absolute errors\n",
    "errors = abs(Final_Current_Percent_predicted - Final_Current_Percent)\n",
    "# Print out the mean absolute error (mae)\n",
    "print('Mean Absolute Error:', round(np.mean(errors), 4), 'units.')\n",
    "\n",
    "r_squared_Final_Current_all = r2_score(Final_Current_Percent, Final_Current_Percent_predicted)\n",
    "print('r2 score = ', r_squared_Final_Current_all)\n",
    "\n",
    "# Use the forest's predict method on the test data\n",
    "Final_Current_Percent_test = xgbr_final_I_percent.predict(test_new_features)\n",
    "# Calculate the absolute errors\n",
    "errors_test = abs(Final_Current_Percent_test - test_labels)\n",
    "# Print out the mean absolute error (mae)\n",
    "print('Mean Absolute Error:', round(np.mean(errors_test), 4), 'units.')\n",
    "\n",
    "r_squared_Final_Current_test = r2_score(test_labels, Final_Current_Percent_test)\n",
    "print('r2 score = ', r_squared_Final_Current_test)"
   ]
  },
  {
   "cell_type": "code",
   "execution_count": 15,
   "metadata": {},
   "outputs": [
    {
     "name": "stdout",
     "output_type": "stream",
     "text": [
      "[0.07375926, 0.48786104, 0.06047855, 0.11870212, 0.0075992225, 0.037053633, 0.059584334, 0.0, 0.15496178]\n",
      "Variable: charge_denisty Importance: ('charge_denisty', 0.07)\n",
      "Variable: PulseTime Importance: ('PulseTime', 0.49)\n",
      "Variable: material_CB Importance: ('material_CB', 0.06)\n",
      "Variable: material_MC Importance: ('material_MC', 0.12)\n",
      "Variable: material_PA Importance: ('material_PA', 0.01)\n",
      "Variable: material_CB Importance: ('material_CB', 0.04)\n",
      "Variable: Atmosphere_air Importance: ('Atmosphere_air', 0.06)\n",
      "Variable: Atmosphere_arg Importance: ('Atmosphere_arg', 0.0)\n",
      "Variable: Pretreat_voltage Importance: ('Pretreat_voltage', 0.15)\n"
     ]
    }
   ],
   "source": [
    "# Get numerical feature importances\n",
    "importances = list(xgbr_final_I_percent.feature_importances_)\n",
    "print (importances)\n",
    "# List of tuples with variable and importance\n",
    "feature_importances = [(feature, round(importance, 2)) for feature, importance in zip(feature_list, importances)]\n",
    "# Sort the feature importances by most important first\n",
    "#feature_importances = sorted(feature_importances, key = lambda x: x[1], reverse = True)\n",
    "# Print out the feature and importances \n",
    "[print('Variable: {} Importance: {}'.format(feature, importance)) \n",
    " for (feature, importance) in zip(feature_list, feature_importances)];"
   ]
  },
  {
   "cell_type": "code",
   "execution_count": 16,
   "metadata": {},
   "outputs": [],
   "source": [
    "# proxy (current-time plot) prediction (Norm_I_Max)\n",
    "new_features = np.concatenate ((charge_denisty,\n",
    "                                pulsetime,\n",
    "                                material_type_Norm_I_Max_coef,\n",
    "                                atmosphere_type,\n",
    "                                Pretreat_voltage), axis=1)\n",
    "\n",
    "rand=0\n",
    "indices = np.arange(len(new_features))\n",
    "train_new_features, test_new_features, train_labels, test_labels, idxtrain, idx_test = \\\n",
    "                      train_test_split(new_features, Norm_I_Max, \n",
    "                                       indices, test_size = 0.2, random_state = rand)\n",
    "\n",
    "feature_list = ['charge_denisty',\n",
    "                'PulseTime',\n",
    "                'material_CB',\n",
    "                'material_MC',\n",
    "                'material_PA',\n",
    "                'material_TCB',\n",
    "                'Atmosphere_air',\n",
    "                'Atmosphere_arg',\n",
    "                'Pretreat_voltage']"
   ]
  },
  {
   "cell_type": "code",
   "execution_count": 17,
   "metadata": {},
   "outputs": [
    {
     "name": "stdout",
     "output_type": "stream",
     "text": [
      "(0.7895080655700772, 1.731054934952032e-08)\n",
      "Average of pearson r for test 0.7810154834756273\n",
      "std of pearson 1 for test 0.01008559249330929 \n",
      "\n",
      "Average of r_squared for test 0.573356679659293\n",
      "std of r_squared for test 0.013405545283271307 \n",
      "\n",
      "Average of r_squared for train 0.6920682071470152\n",
      "std of r_squared for train 0.006170619174382692\n",
      "Mean Absolute Error: 718.5204 units.\n",
      "r2 score =  0.690673533208469\n",
      "Mean Absolute Error: 715.1021 units.\n",
      "r2 score =  0.692127316379529\n"
     ]
    },
    {
     "data": {
      "image/png": "[encoded data removed]",
      "text/plain": [
       "<Figure size 432x288 with 1 Axes>"
      ]
     },
     "metadata": {
      "needs_background": "light"
     },
     "output_type": "display_data"
    }
   ],
   "source": [
    "r_squareds = list()\n",
    "r_pearsons = list()\n",
    "r_squareds_train = list()\n",
    "MAEs = list()\n",
    "MAEs_train = list()\n",
    "start = time.time()\n",
    "for random_state in range(10):\n",
    "    # after fixing the hyperparameters, train the model on all samples\n",
    "    # Instantiate model with 1000 decision tree\n",
    "    \n",
    "    xgbr_norm_I_max = XGBRegressor(max_depth=3, n_estimators=25, gamma=0.001, \n",
    "                   learning_rate=0.09, subsample=0.775, min_child_weight=6, \n",
    "                  random_state=random_state)\n",
    "    \n",
    "    #xgbr_norm_I_max = RandomForestRegressor(max_depth=3, n_estimators=100, min_samples_split=3)\n",
    "    # xgbr_norm_I_max = linear_model.BayesianRidge()\n",
    "    # xgbr_norm_I_max = XGBRegressor()\n",
    "    # Train the model on training data\n",
    "    labels = Norm_I_Max\n",
    "    xgbr_norm_I_max.fit(train_new_features, train_labels);\n",
    "    \n",
    "    Norm_I_Max_test = xgbr_norm_I_max.predict(test_new_features)\n",
    "    r_squared_Norm_I_Max_test = r2_score(test_labels, Norm_I_Max_test)\n",
    "\n",
    "    test_labels_ = test_labels.reshape(test_labels.shape[0], )\n",
    "\n",
    "    Norm_I_Max_test_ = Norm_I_Max_test.reshape(Norm_I_Max_test.shape[0], )\n",
    "\n",
    "    r_pearson_Norm_I_Max_test = pearsonr(test_labels_, Norm_I_Max_test_)\n",
    "    r_pearsons.append(r_pearson_Norm_I_Max_test[0])\n",
    "    r_squareds.append(r_squared_Norm_I_Max_test)\n",
    "    \n",
    "    Norm_I_Max_train = xgbr_norm_I_max.predict(train_new_features)\n",
    "    r_squared_Norm_I_Max_train = r2_score(train_labels, Norm_I_Max_train)\n",
    "    r_squareds_train.append(r_squared_Norm_I_Max_train)  \n",
    "\n",
    "r_pearson_Norm_I_Max_test = pearsonr(test_labels_, Norm_I_Max_test_)\n",
    "print (r_pearson_Norm_I_Max_test)\n",
    "plt.scatter(test_labels_, Norm_I_Max_test_)\n",
    "print ('Average of pearson r for test', np.mean(np.array(r_pearsons)))\n",
    "print ('std of pearson 1 for test', np.std(np.array(r_pearsons)), '\\n')\n",
    "print ('Average of r_squared for test', np.mean(np.array(r_squareds)))\n",
    "print ('std of r_squared for test', np.std(np.array(r_squareds)), '\\n')\n",
    "print ('Average of r_squared for train', np.mean(np.array(r_squareds_train)))\n",
    "print ('std of r_squared for train', np.std(np.array(r_squareds_train)))\n",
    "\n",
    "xgbr_norm_I_max.fit(new_features, labels)\n",
    "# Use the forest's predict method on the test data\n",
    "Norm_I_Max_predicted = xgbr_norm_I_max.predict(new_features)\n",
    "# Calculate the absolute errors\n",
    "errors = abs(Norm_I_Max_predicted - Norm_I_Max)\n",
    "# Print out the mean absolute error (mae)\n",
    "print('Mean Absolute Error:', round(np.mean(errors), 4), 'units.')\n",
    "\n",
    "r_squared_Norm_I_Max_all = r2_score(Norm_I_Max, Norm_I_Max_predicted)\n",
    "print('r2 score = ', r_squared_Norm_I_Max_all)\n",
    "\n",
    "# Use the forest's predict method on the test data\n",
    "Norm_I_Max_test = xgbr_norm_I_max.predict(test_new_features)\n",
    "# Calculate the absolute errors\n",
    "errors_test = abs(Norm_I_Max_test - test_labels)\n",
    "# Print out the mean absolute error (mae)\n",
    "print('Mean Absolute Error:', round(np.mean(errors_test), 4), 'units.')\n",
    "\n",
    "r_squared_Norm_I_Max_test = r2_score(test_labels, Norm_I_Max_test)\n",
    "print('r2 score = ', r_squared_Norm_I_Max_test)"
   ]
  },
  {
   "cell_type": "code",
   "execution_count": 18,
   "metadata": {},
   "outputs": [
    {
     "name": "stdout",
     "output_type": "stream",
     "text": [
      "Variable: charge_denisty Importance: ('charge_denisty', 0.14)\n",
      "Variable: PulseTime Importance: ('PulseTime', 0.03)\n",
      "Variable: material_CB Importance: ('material_CB', 0.0)\n",
      "Variable: material_MC Importance: ('material_MC', 0.55)\n",
      "Variable: material_PA Importance: ('material_PA', 0.0)\n",
      "Variable: material_TCB Importance: ('material_TCB', 0.06)\n",
      "Variable: Atmosphere_air Importance: ('Atmosphere_air', 0.0)\n",
      "Variable: Atmosphere_arg Importance: ('Atmosphere_arg', 0.09)\n",
      "Variable: Pretreat_voltage Importance: ('Pretreat_voltage', 0.14)\n",
      "[0.14157231, 0.029698309, 0.0, 0.5455658, 0.0, 0.06243607, 0.0, 0.08547817, 0.13524945]\n"
     ]
    }
   ],
   "source": [
    "# Get numerical feature importances\n",
    "importances = list(xgbr_norm_I_max.feature_importances_)\n",
    "# List of tuples with variable and importance\n",
    "feature_importances = [(feature, round(importance, 2)) for feature, importance in zip(feature_list, importances)]\n",
    "# Sort the feature importances by most important first\n",
    "#feature_importances = sorted(feature_importances, key = lambda x: x[1], reverse = True)\n",
    "# Print out the feature and importances \n",
    "[print('Variable: {} Importance: {}'.format(feature, importance)) \n",
    " for (feature, importance) in zip(feature_list, feature_importances)];\n",
    "print (importances)"
   ]
  },
  {
   "cell_type": "code",
   "execution_count": 19,
   "metadata": {},
   "outputs": [],
   "source": [
    "# proxy (current-time plot) prediction (Norm_Norm_charge_tot)\n",
    "new_features = np.concatenate ((charge_denisty,\n",
    "                                pulsetime,\n",
    "                                material_type_Norm_charge_Tot_coef,\n",
    "                                atmosphere_type,\n",
    "                                Pretreat_voltage), axis=1)\n",
    "\n",
    "rand=0\n",
    "indices = np.arange(len(new_features))\n",
    "train_new_features, test_new_features, train_labels, test_labels, idxtrain, idx_test = \\\n",
    "                      train_test_split(new_features, Norm_charge_tot, \n",
    "                                       indices, test_size = 0.20, random_state = rand)\n",
    "feature_list = ['charge_denisty',\n",
    "                'PulseTime',\n",
    "                'material_CB',\n",
    "                'material_MC',\n",
    "                'material_PA',\n",
    "                'material_TCB',\n",
    "                'Atmosphere_air',\n",
    "                'Atmosphere_arg',\n",
    "                'Pretreat_voltage']"
   ]
  },
  {
   "cell_type": "code",
   "execution_count": 20,
   "metadata": {},
   "outputs": [
    {
     "name": "stdout",
     "output_type": "stream",
     "text": [
      "Average of pearson r for test 0.762857267170948\n",
      "std of pearson 1 for test 0.02562412003965354 \n",
      "\n",
      "Average of r_squared for test 0.5492208940617689\n",
      "std of r_squared for test 0.034717596485303946 \n",
      "\n",
      "Average of r_squared for train 0.9992018799936646\n",
      "std of r_squared for train 0.00020163820884514097\n",
      "Mean Absolute Error: 34.65 units.\n",
      "r2 score =  0.9993209585434534\n",
      "Mean Absolute Error: 37.4597 units.\n",
      "r2 score =  0.9991980110720922\n"
     ]
    }
   ],
   "source": [
    "r_squareds = list()\n",
    "r_pearsons = list()\n",
    "r_squareds_train = list()\n",
    "MAEs = list()\n",
    "MAEs_train = list()\n",
    "start = time.time()\n",
    "for random_state in range(10):\n",
    "    # after fixing the hyperparameters, train the model on all samples\n",
    "    # Instantiate model with 1000 decision tree\n",
    "    xgbr_norm_charge_total = XGBRegressor(max_depth=10, n_estimators=100, gamma=0.01, \n",
    "                   learning_rate=0.118, subsample=0.75, min_child_weight=2, \n",
    "                  random_state=random_state)\n",
    "    #xgbr_norm_charge_total = RandomForestRegressor(max_depth=5, n_estimators=200, min_samples_split=3)\n",
    "    # xgbr_norm_charge_total = linear_model.BayesianRidge()\n",
    "    # xgbr_norm_charge_total = XGBRegressor()\n",
    "    # Train the model on training data\n",
    "    labels = Norm_charge_tot\n",
    "    xgbr_norm_charge_total.fit(train_new_features, train_labels);\n",
    "    #print('Doneskies')\n",
    "    Norm_charge_tot_test = xgbr_norm_charge_total.predict(test_new_features)\n",
    "    r_squared_Norm_charge_tot_test = r2_score(test_labels, Norm_charge_tot_test)\n",
    "    r_squareds.append(r_squared_Norm_charge_tot_test)\n",
    "    \n",
    "    test_labels_ = test_labels.reshape(test_labels.shape[0], )\n",
    "    Norm_charge_tot_test_ = Norm_charge_tot_test.reshape(Norm_charge_tot_test.shape[0], )\n",
    "    r_pearson_Norm_charge_tot_test = pearsonr(test_labels_, Norm_charge_tot_test_)\n",
    "    r_pearsons.append(r_pearson_Norm_charge_tot_test[0])\n",
    "\n",
    "    \n",
    "    Norm_charge_tot_train = xgbr_norm_charge_total.predict(train_new_features)\n",
    "    r_squared_Norm_charge_tot_train = r2_score(train_labels, Norm_charge_tot_train)\n",
    "    r_squareds_train.append(r_squared_Norm_charge_tot_train)    \n",
    "\n",
    "print ('Average of pearson r for test', np.mean(np.array(r_pearsons)))\n",
    "print ('std of pearson 1 for test', np.std(np.array(r_pearsons)), '\\n')\n",
    "\n",
    "print ('Average of r_squared for test', np.mean(np.array(r_squareds)))\n",
    "print ('std of r_squared for test', np.std(np.array(r_squareds)), '\\n')\n",
    "\n",
    "print ('Average of r_squared for train', np.mean(np.array(r_squareds_train)))\n",
    "print ('std of r_squared for train', np.std(np.array(r_squareds_train)))\n",
    "\n",
    "\n",
    "xgbr_norm_charge_total.fit(new_features, labels)\n",
    "# Use the forest's predict method on the test data\n",
    "Norm_charge_tot_predicted = xgbr_norm_charge_total.predict(new_features)\n",
    "# Calculate the absolute errors\n",
    "errors = abs(Norm_charge_tot_predicted - Norm_charge_tot)\n",
    "# Print out the mean absolute error (mae)\n",
    "print('Mean Absolute Error:', round(np.mean(errors), 4), 'units.')\n",
    "\n",
    "r_squared_Norm_charge_tot_all = r2_score(Norm_charge_tot, Norm_charge_tot_predicted)\n",
    "print('r2 score = ', r_squared_Norm_charge_tot_all)\n",
    "\n",
    "# Use the forest's predict method on the test data\n",
    "Norm_charge_tot_test = xgbr_norm_charge_total.predict(test_new_features)\n",
    "# Calculate the absolute errors\n",
    "errors_test = abs(Norm_charge_tot_test - test_labels)\n",
    "# Print out the mean absolute error (mae)\n",
    "print('Mean Absolute Error:', round(np.mean(errors_test), 4), 'units.')\n",
    "\n",
    "r_squared_Norm_charge_tot_test = r2_score(test_labels, Norm_charge_tot_test)\n",
    "print('r2 score = ', r_squared_Norm_charge_tot_test)"
   ]
  },
  {
   "cell_type": "code",
   "execution_count": 21,
   "metadata": {},
   "outputs": [
    {
     "name": "stdout",
     "output_type": "stream",
     "text": [
      "Variable: charge_denisty Importance: ('charge_denisty', 0.12)\n",
      "Variable: PulseTime Importance: ('PulseTime', 0.13)\n",
      "Variable: material_CB Importance: ('material_CB', 0.08)\n",
      "Variable: material_MC Importance: ('material_MC', 0.22)\n",
      "Variable: material_PA Importance: ('material_PA', 0.03)\n",
      "Variable: material_TCB Importance: ('material_TCB', 0.18)\n",
      "Variable: Atmosphere_air Importance: ('Atmosphere_air', 0.06)\n",
      "Variable: Atmosphere_arg Importance: ('Atmosphere_arg', 0.09)\n",
      "Variable: Pretreat_voltage Importance: ('Pretreat_voltage', 0.1)\n",
      "[0.11565813, 0.13434339, 0.07814488, 0.21513005, 0.02933864, 0.18005373, 0.06032598, 0.085444376, 0.101560794]\n"
     ]
    }
   ],
   "source": [
    "# Get numerical feature importances\n",
    "importances = list(xgbr_norm_charge_total.feature_importances_)\n",
    "# List of tuples with variable and importance\n",
    "feature_importances = [(feature, round(importance, 2)) for feature, importance in zip(feature_list, importances)]\n",
    "# Sort the feature importances by most important first\n",
    "#feature_importances = sorted(feature_importances, key = lambda x: x[1], reverse = True)\n",
    "# Print out the feature and importances \n",
    "[print('Variable: {} Importance: {}'.format(feature, importance)) \n",
    " for (feature, importance) in zip(feature_list, feature_importances)];\n",
    "\n",
    "print (importances)"
   ]
  },
  {
   "cell_type": "code",
   "execution_count": 22,
   "metadata": {},
   "outputs": [
    {
     "name": "stdout",
     "output_type": "stream",
     "text": [
      "[ 0.85859558  1.26522421 -0.56475846 -0.85072293]\n",
      "[-0.12706507 -0.09505012  0.07616448 -0.26409503]\n",
      "[-0.07910392 -0.32993873 -0.32547128 -0.20674004]\n",
      "[ 0.21747553  0.28007845 -0.27135508 -0.44051933]\n"
     ]
    }
   ],
   "source": [
    "print (CB_MC_PA_coef_Final_Current_Percent)\n",
    "print (CB_MC_PA_coef_Norm_I_Max)\n",
    "print (CB_MC_PA_coef_Norm_charge_tot)\n",
    "CB_MC_PA_TCB_coef_average = (CB_MC_PA_coef_Final_Current_Percent +\n",
    "                             CB_MC_PA_coef_Norm_I_Max +\n",
    "                             CB_MC_PA_coef_Norm_charge_tot)/3\n",
    "print (CB_MC_PA_TCB_coef_average)"
   ]
  },
  {
   "cell_type": "code",
   "execution_count": 23,
   "metadata": {},
   "outputs": [],
   "source": [
    "# assume constant resisitivity for precursors\n",
    "CB_MC_PA_TCB_res = CB_MC_PA_TCB_ps_res_sa_sp2 [:, 1]\n",
    "resistance_matrix = np.matmul(material_matrix, CB_MC_PA_TCB_res)\n",
    "heat_power = np.array (df['Voltage']*df['Voltage']/resistance_matrix*df['PulseTime']*(1e-6)).reshape(-1, 1)\n",
    "# got it from model based prediction of I_Max\n",
    "# got it from model based prediction of I_Max\n",
    "CB_MC_PA_TCB_coef_average = (CB_MC_PA_coef_Final_Current_Percent +\n",
    "                             CB_MC_PA_coef_Norm_I_Max +\n",
    "                             CB_MC_PA_coef_Norm_charge_tot)/3\n",
    "\n",
    "material_type_GY_coef = material_type * CB_MC_PA_TCB_coef_average\n",
    "# Porxy properties, as well as process parameters\n",
    "new_features = np.concatenate ((charge_denisty, \n",
    "                                #X_CB_MC_PA_TCB_ps_res_sa_sp2[:, (0, 1, 3)],\n",
    "                                material_type_GY_coef,\n",
    "                                pulsetime,\n",
    "                                Pretreat_voltage,\n",
    "                                atmosphere_type,\n",
    "                                Final_Current_Percent_predicted.reshape(-1, 1),\n",
    "                                Norm_I_Max_predicted.reshape(-1, 1),\n",
    "                                Norm_charge_tot_predicted.reshape(-1, 1) \n",
    "                                ,heat_power.reshape(-1, 1)\n",
    "                               ), axis=1)\n",
    "\n",
    "rand=7\n",
    "test_size = 0.2\n",
    "indices = np.arange(len(new_features))\n",
    "train_new_features, test_new_features, train_labels, test_labels, idx_train, idx_test = \\\n",
    "                      train_test_split(new_features, Graphene_Yield, \n",
    "                                       indices, test_size = test_size, random_state = rand\n",
    "                                       #,stratify=df['Material']\n",
    "                                      )\n",
    "\n",
    "feature_list = ['charge_denisty',\n",
    "                'material_CB',\n",
    "                'material_MC',\n",
    "                'material_PA',\n",
    "                'material_TCB',\n",
    "                'PulseTime',\n",
    "                'Pretreat_voltage',\n",
    "                'Atmosphere_air',\n",
    "                'Atmosphere_arg',\n",
    "                'Final_Current_Percent',\n",
    "                'Norm_I_Max',\n",
    "                'Norm_charge_tot']"
   ]
  },
  {
   "cell_type": "raw",
   "metadata": {},
   "source": [
    "# Grid Search CV each fit takes 1Sec, 5CV means running 5 times for each possibility\n",
    "start = time.time()\n",
    "from sklearn.model_selection import GridSearchCV\n",
    "gsc = GridSearchCV(\n",
    "        estimator=XGBRegressor(),\n",
    "        param_grid={\n",
    "            'max_depth': [3],\n",
    "            'n_estimators': [24],\n",
    "            'min_child_weight': [5],\n",
    "            'learning_rate': np.linspace(0.11, 0.12, 4),\n",
    "            'subsample': [0.7],\n",
    "            'gamma': [0.0001]\n",
    "        },\n",
    "        cv=5, scoring='neg_mean_squared_error', verbose=10, n_jobs=-1)\n",
    "grid_result = gsc.fit(train_new_features, train_labels)\n",
    "best_params = grid_result.best_params_\n",
    "print('Max Depth: ', best_params[\"max_depth\"])\n",
    "print('N Estimators: ', best_params[\"n_estimators\"])\n",
    "print('Min Child Weight: ', best_params[\"min_child_weight\"])\n",
    "print('Learning Rate: ', best_params[\"learning_rate\"])\n",
    "print('Subsample: ', best_params[\"subsample\"])\n",
    "print('Gamma: ', best_params[\"gamma\"])\n",
    "end = time.time()\n",
    "print ('total time is {}'.format(end-start))"
   ]
  },
  {
   "cell_type": "code",
   "execution_count": 24,
   "metadata": {},
   "outputs": [
    {
     "name": "stdout",
     "output_type": "stream",
     "text": [
      "CB_count 57 0.33 % of total 174\n",
      "MC_count 44 0.25 % of total 174\n",
      "PA_count 36 0.21 % of total 174\n",
      "TCB_count 37 0.21 % of total 174\n",
      "CB count for testing 0.2% is 11.0\n",
      "6\n",
      "MC count for testing 0.2% is 9.0\n",
      "7\n",
      "PA count for testing 0.2% is 7.0\n",
      "14\n",
      "TCB count for testing 0.2% is 7.0\n",
      "8\n"
     ]
    }
   ],
   "source": [
    "# stratify added to put same ratio of precursors in test and train\n",
    "CB_count = sum(df['Material']=='CB')\n",
    "MC_count = sum(df['Material']=='MC')\n",
    "PA_count = sum(df['Material']=='PA')\n",
    "TCB_count = sum(df['Material']=='TCB')\n",
    "total = CB_count + MC_count + PA_count + TCB_count\n",
    "print ('CB_count', CB_count, round(CB_count/total, 2),\"% of total\", total)\n",
    "print ('MC_count', MC_count, round(MC_count/total, 2),\"% of total\", total)\n",
    "print ('PA_count', PA_count, round(PA_count/total, 2),\"% of total\", total)\n",
    "print ('TCB_count', TCB_count, round(TCB_count/total, 2),\"% of total\", total)\n",
    "\n",
    "print ('CB count for testing {}% is {}'.format(test_size, round(test_size*CB_count, 0)))\n",
    "print (sum (df['Material'][idx_test]=='CB'))\n",
    "print ('MC count for testing {}% is {}'.format(test_size, round(test_size*MC_count, 0)))\n",
    "print (sum (df['Material'][idx_test]=='MC'))\n",
    "print ('PA count for testing {}% is {}'.format(test_size, round(test_size*PA_count, 0)))\n",
    "print (sum (df['Material'][idx_test]=='PA'))\n",
    "print ('TCB count for testing {}% is {}'.format(test_size, round(test_size*TCB_count, 0)))\n",
    "print (sum (df['Material'][idx_test]=='TCB'))"
   ]
  },
  {
   "cell_type": "code",
   "execution_count": 1,
   "metadata": {
    "scrolled": true
   },
   "outputs": [
    {
     "ename": "NameError",
     "evalue": "name 'time' is not defined",
     "output_type": "error",
     "traceback": [
      "\u001b[0;31m---------------------------------------------------------------------------\u001b[0m",
      "\u001b[0;31mNameError\u001b[0m                                 Traceback (most recent call last)",
      "Input \u001b[0;32mIn [1]\u001b[0m, in \u001b[0;36m<cell line: 6>\u001b[0;34m()\u001b[0m\n\u001b[1;32m      4\u001b[0m MAEs \u001b[38;5;241m=\u001b[39m \u001b[38;5;28mlist\u001b[39m()\n\u001b[1;32m      5\u001b[0m MAEs_train \u001b[38;5;241m=\u001b[39m \u001b[38;5;28mlist\u001b[39m()\n\u001b[0;32m----> 6\u001b[0m start \u001b[38;5;241m=\u001b[39m \u001b[43mtime\u001b[49m\u001b[38;5;241m.\u001b[39mtime()\n\u001b[1;32m      7\u001b[0m r2_max \u001b[38;5;241m=\u001b[39m \u001b[38;5;241m0\u001b[39m\n\u001b[1;32m      8\u001b[0m test_split_count \u001b[38;5;241m=\u001b[39m \u001b[38;5;241m5\u001b[39m\n",
      "\u001b[0;31mNameError\u001b[0m: name 'time' is not defined"
     ]
    }
   ],
   "source": [
    "r_squareds = list()\n",
    "r_squareds_randomized_testtrain = list()\n",
    "r_squareds_train = list()\n",
    "MAEs = list()\n",
    "MAEs_train = list()\n",
    "start = time.time()\n",
    "r2_max = 0\n",
    "test_split_count = 5\n",
    "rep = 3\n",
    "for rand in range (0, test_split_count):\n",
    "    indices = np.arange(len(new_features))\n",
    "    train_new_features, test_new_features, train_labels, test_labels, idx_train, idx_test = \\\n",
    "                      train_test_split(new_features, 100*Graphene_Yield, \n",
    "                                       indices, test_size = 0.2, random_state=rand\n",
    "                                       ,stratify=df['Material']\n",
    "                                       )\n",
    "    r_squareds = list()\n",
    "    r_squareds_train = list()\n",
    "    MAEs = list()\n",
    "    MAEs_train = list()\n",
    "    for random_state in range(rep):\n",
    "        # Instantiate model with 1000 decision trees\n",
    "        xgbr_graphyield = XGBRegressor(max_depth=2, n_estimators=60, gamma=0.001, \n",
    "                   learning_rate=0.111, subsample=0.775, min_child_weight=3, \n",
    "                   random_state=random_state)\n",
    "        #xgbr_graphyield = RandomForestRegressor(max_depth=20, n_estimators=500, min_samples_split=3)\n",
    "        \"\"\"\n",
    "        xgbr_graphyield = MLPRegressor(hidden_layer_sizes=(500, 500, 500), activation='logistic', batch_size=2,\n",
    "                   alpha=0.00001, learning_rate = 'adaptive', solver='adam', random_state=random_state)    \n",
    "        \"\"\"\n",
    "        # Train the model on training data\n",
    "        xgbr_graphyield.fit(train_new_features, train_labels);\n",
    "        # Use the forest's predict method on the test data\n",
    "        predictions = xgbr_graphyield.predict(test_new_features)\n",
    "        # Calculate the absolute errors\n",
    "        errors = abs(predictions - test_labels)\n",
    "        MAEs.append(errors)\n",
    "        # Print out the mean absolute error (mae)\n",
    "        #print('Mean Absolute Error:', round(np.mean(errors), 4), 'units.')\n",
    "\n",
    "        r_squared = r2_score(test_labels, predictions)\n",
    "        r_squareds.append (r_squared)\n",
    "    \n",
    "        pred_train = xgbr_graphyield.predict(train_new_features)\n",
    "        errors = abs(pred_train - train_labels)\n",
    "        MAEs_train.append(errors)\n",
    "        r_squared = r2_score(train_labels, pred_train)\n",
    "        r_squareds_train.append(r_squared)\n",
    "        #print('r2 score = ', r_squared)\n",
    "    #print ('test split rand', rand)\n",
    "    #print ('Average of r_squared for test', np.mean(np.array(r_squareds)))\n",
    "    #print ('std of r_squared for test', np.std(np.array(r_squareds)), '\\n')\n",
    "\n",
    "    #print ('Average of r_squared for train', np.mean(np.array(r_squareds_train)))\n",
    "    #print ('std of r_squared for train', np.std(np.array(r_squareds_train)))\n",
    "    # train accuracy\n",
    "    pred_train = xgbr_graphyield.predict(train_new_features)\n",
    "    # Calculate the absolute errors\n",
    "    errors_train = abs(pred_train - train_labels)\n",
    "    # Print out the mean absolute error (mae)\n",
    "    #print('Mean Absolute Error:', round(np.mean(errors_train), 4), 'units.')\n",
    "    r_squared_train = r2_score(train_labels, pred_train)\n",
    "    #print('r2 score = ', r_squared_train)\n",
    "    #print ('time is: ', end-start)\n",
    "\n",
    "    pred_test = xgbr_graphyield.predict(test_new_features)\n",
    "    # Calculate the absolute errors\n",
    "    errors_test = abs(pred_test - test_labels)\n",
    "    # Print out the mean absolute error (mae)\n",
    "    #print('Mean Absolute Error for test:', round(np.mean(errors_test), 4), 'units.')\n",
    "    r_squared_test = r2_score(test_labels, pred_test)\n",
    "    if r_squared_test>r2_max:\n",
    "        r2_max = r_squared_test\n",
    "        rand_split = rand\n",
    "    #print('r2 score = ', r_squared_test)\n",
    "    #print ('****')\n",
    "\n",
    "    #sns.displot(r_squareds)\n",
    "    r_squareds_randomized_testtrain.append (r_squareds)\n",
    "\n",
    "m = tf.keras.metrics.RootMeanSquaredError()\n",
    "m.update_state(pred_test, test_labels)\n",
    "print ('RMSE for test, ', m.result().numpy())\n",
    "end = time.time()\n",
    "print ('time for {} of split and {} rep. is: {}'.format(test_split_count, rep, end-start))\n",
    "r_squareds_randomized_testtrain_vec = np.array ((r_squareds_randomized_testtrain))\n",
    "r_squareds_randomized_testtrain_mean = np.mean (r_squareds_randomized_testtrain_vec, axis=1)\n",
    "r_squareds_randomized_testtrain_mean\n",
    "sns.displot (r_squareds_randomized_testtrain_vec)"
   ]
  },
  {
   "cell_type": "code",
   "execution_count": 38,
   "metadata": {},
   "outputs": [
    {
     "data": {
      "text/plain": [
       "0.6591473358944596"
      ]
     },
     "execution_count": 38,
     "metadata": {},
     "output_type": "execute_result"
    }
   ],
   "source": [
    "np.mean(r_squareds_randomized_testtrain_mean)"
   ]
  },
  {
   "cell_type": "code",
   "execution_count": 27,
   "metadata": {},
   "outputs": [
    {
     "name": "stdout",
     "output_type": "stream",
     "text": [
      "RMSE for test,  11.845862\n",
      "time for 1 of split and 50 rep. is: 7.211511611938477\n"
     ]
    },
    {
     "data": {
      "text/plain": [
       "<seaborn.axisgrid.FacetGrid at 0x7f3f636c1ee0>"
      ]
     },
     "execution_count": 27,
     "metadata": {},
     "output_type": "execute_result"
    },
    {
     "data": {
      "image/png": "[encoded data removed]",
      "text/plain": [
       "<Figure size 408.75x360 with 1 Axes>"
      ]
     },
     "metadata": {
      "needs_background": "light"
     },
     "output_type": "display_data"
    }
   ],
   "source": [
    "r_squareds = list()\n",
    "r_squareds_randomized_testtrain = list()\n",
    "r_squareds_train = list()\n",
    "MAEs = list()\n",
    "MAEs_train = list()\n",
    "start = time.time()\n",
    "r2_max = 0\n",
    "test_split_seed1 = 7\n",
    "test_split_seed2 = 8\n",
    "test_split_count = test_split_seed2 - test_split_seed1\n",
    "rep = 50\n",
    "for rand in range (test_split_seed1, test_split_seed2):\n",
    "    indices = np.arange(len(new_features))\n",
    "    train_new_features, test_new_features, train_labels, test_labels, idx_train, idx_test = \\\n",
    "                      train_test_split(new_features, 100*Graphene_Yield, \n",
    "                                       indices, test_size = 0.2, random_state=rand\n",
    "                                       #,stratify=df['Material']\n",
    "                                       )\n",
    "    r_squareds = list()\n",
    "    r_squareds_train = list()\n",
    "    MAEs = list()\n",
    "    MAEs_train = list()\n",
    "    for random_state in range(rep):\n",
    "        # Instantiate model with 1000 decision trees\n",
    "        xgbr_graphyield = XGBRegressor(max_depth=2, n_estimators=45, gamma=0.001, \n",
    "                   learning_rate=0.091, subsample=0.775, min_child_weight=3, \n",
    "                   random_state=random_state)\n",
    "        #xgbr_graphyield = RandomForestRegressor(max_depth=20, n_estimators=500, min_samples_split=3)\n",
    "        \"\"\"\n",
    "        xgbr_graphyield = MLPRegressor(hidden_layer_sizes=(500, 500, 500), activation='logistic', batch_size=2,\n",
    "                   alpha=0.00001, learning_rate = 'adaptive', solver='adam', random_state=random_state)    \n",
    "        \"\"\"\n",
    "        # Train the model on training data\n",
    "        xgbr_graphyield.fit(train_new_features, train_labels);\n",
    "        # Use the forest's predict method on the test data\n",
    "        predictions = xgbr_graphyield.predict(test_new_features)\n",
    "        # Calculate the absolute errors\n",
    "        errors = abs(predictions - test_labels)\n",
    "        MAEs.append(errors)\n",
    "        # Print out the mean absolute error (mae)\n",
    "        #print('Mean Absolute Error:', round(np.mean(errors), 4), 'units.')\n",
    "\n",
    "        r_squared = r2_score(test_labels, predictions)\n",
    "        r_squareds.append (r_squared)\n",
    "    \n",
    "        pred_train = xgbr_graphyield.predict(train_new_features)\n",
    "        errors = abs(pred_train - train_labels)\n",
    "        MAEs_train.append(errors)\n",
    "        r_squared = r2_score(train_labels, pred_train)\n",
    "        r_squareds_train.append(r_squared)\n",
    "        #print('r2 score = ', r_squared)\n",
    "    #print ('test split rand', rand)\n",
    "    #print ('Average of r_squared for test', np.mean(np.array(r_squareds)))\n",
    "    #print ('std of r_squared for test', np.std(np.array(r_squareds)), '\\n')\n",
    "\n",
    "    #print ('Average of r_squared for train', np.mean(np.array(r_squareds_train)))\n",
    "    #print ('std of r_squared for train', np.std(np.array(r_squareds_train)))\n",
    "    # train accuracy\n",
    "    pred_train = xgbr_graphyield.predict(train_new_features)\n",
    "    # Calculate the absolute errors\n",
    "    errors_train = abs(pred_train - train_labels)\n",
    "    # Print out the mean absolute error (mae)\n",
    "    #print('Mean Absolute Error:', round(np.mean(errors_train), 4), 'units.')\n",
    "    r_squared_train = r2_score(train_labels, pred_train)\n",
    "    #print('r2 score = ', r_squared_train)\n",
    "    #print ('time is: ', end-start)\n",
    "\n",
    "    pred_test = xgbr_graphyield.predict(test_new_features)\n",
    "    # Calculate the absolute errors\n",
    "    errors_test = abs(pred_test - test_labels)\n",
    "    # Print out the mean absolute error (mae)\n",
    "    #print('Mean Absolute Error for test:', round(np.mean(errors_test), 4), 'units.')\n",
    "    r_squared_test = r2_score(test_labels, pred_test)\n",
    "    if r_squared_test>r2_max:\n",
    "        r2_max = r_squared_test\n",
    "        rand_split = rand\n",
    "    #print('r2 score = ', r_squared_test)\n",
    "    #print ('****')\n",
    "\n",
    "    #sns.displot(r_squareds)\n",
    "    r_squareds_randomized_testtrain.append (r_squareds)\n",
    "\n",
    "m = tf.keras.metrics.RootMeanSquaredError()\n",
    "m.update_state(pred_test, test_labels)\n",
    "print ('RMSE for test, ', m.result().numpy())\n",
    "end = time.time()\n",
    "print ('time for {} of split and {} rep. is: {}'.format(test_split_count, rep, end-start))\n",
    "r_squareds_randomized_testtrain_vec = np.array ((r_squareds_randomized_testtrain))\n",
    "r_squareds_randomized_testtrain_mean = np.mean (r_squareds_randomized_testtrain_vec, axis=1)\n",
    "r_squareds_randomized_testtrain_mean\n",
    "sns.displot (r_squareds_randomized_testtrain_vec)"
   ]
  },
  {
   "cell_type": "code",
   "execution_count": 28,
   "metadata": {},
   "outputs": [
    {
     "name": "stdout",
     "output_type": "stream",
     "text": [
      "0.802047691837192\n",
      "sd of random runs 0.015118690463870947\n"
     ]
    }
   ],
   "source": [
    "print (np.mean(r_squareds_randomized_testtrain_mean))\n",
    "print ('sd of random runs', np.sqrt(np.var(r_squareds_randomized_testtrain_vec)))"
   ]
  },
  {
   "cell_type": "code",
   "execution_count": 29,
   "metadata": {},
   "outputs": [
    {
     "data": {
      "text/plain": [
       "array([[0.78734296, 0.82549268, 0.81796085, 0.78256253, 0.80199424,\n",
       "        0.82175613, 0.80303481, 0.81612154, 0.8103222 , 0.79477564,\n",
       "        0.81770734, 0.79123185, 0.8161393 , 0.80313858, 0.76983111,\n",
       "        0.81162396, 0.77657143, 0.79610919, 0.81629497, 0.80859291,\n",
       "        0.7980662 , 0.8102713 , 0.79424846, 0.78369642, 0.79963721,\n",
       "        0.78436556, 0.77833912, 0.78370604, 0.78574171, 0.811138  ,\n",
       "        0.81454555, 0.80709539, 0.80198455, 0.78539307, 0.83268212,\n",
       "        0.83496458, 0.79954238, 0.80763986, 0.81228441, 0.79544294,\n",
       "        0.80496577, 0.8039574 , 0.79544842, 0.80147219, 0.78987636,\n",
       "        0.82122848, 0.79098943, 0.80477316, 0.82540832, 0.77487598]])"
      ]
     },
     "execution_count": 29,
     "metadata": {},
     "output_type": "execute_result"
    }
   ],
   "source": [
    "r_squareds_randomized_testtrain_vec"
   ]
  },
  {
   "cell_type": "code",
   "execution_count": 30,
   "metadata": {},
   "outputs": [
    {
     "data": {
      "text/plain": [
       "<matplotlib.legend.Legend at 0x7f3f5c437e20>"
      ]
     },
     "execution_count": 30,
     "metadata": {},
     "output_type": "execute_result"
    },
    {
     "data": {
      "image/png": "[encoded data removed]",
      "text/plain": [
       "<Figure size 360x288 with 1 Axes>"
      ]
     },
     "metadata": {
      "needs_background": "light"
     },
     "output_type": "display_data"
    }
   ],
   "source": [
    "errors_test = abs(pred_test.reshape(-1, 1) - test_labels)\n",
    "id_errors = list(range(errors_test.shape[0]))\n",
    "#plt.plot(id_errors, errors_test, c=id_test)\n",
    "\n",
    "df_test = df.loc[idx_test]\n",
    "df_test['id_errors'] = id_errors\n",
    "df_test['errors'] = errors_test\n",
    "df_test['Graphene_Yield_per'] = 100*df_test['Graphene_Yield']\n",
    "\n",
    "groups = df_test.groupby(['Material'])\n",
    "\n",
    "# Plot\n",
    "fig, ax = plt.subplots(figsize=(5,4))\n",
    "ax.tick_params(direction='in', length=4, width=1.5, colors='black', grid_alpha=0, labelsize='14')\n",
    "counter=0\n",
    "markers = ['o', 's', '^', 'v']\n",
    "colors=['blue', 'red', 'green', 'orange']\n",
    "colors2 = ['maroon', 'darkorange', 'goldenrod', 'dodgerblue']\n",
    "for name, group in groups:\n",
    "    ax.plot(group.Graphene_Yield_per, group.errors, marker=markers[counter], alpha=0.9, \n",
    "            linestyle='', ms=8, label=name)\n",
    "    counter+=1\n",
    "plt.legend()"
   ]
  },
  {
   "cell_type": "code",
   "execution_count": 31,
   "metadata": {},
   "outputs": [
    {
     "data": {
      "text/plain": [
       "<matplotlib.legend.Legend at 0x7f3f5c45edc0>"
      ]
     },
     "execution_count": 31,
     "metadata": {},
     "output_type": "execute_result"
    },
    {
     "data": {
      "image/png": "[encoded data removed]",
      "text/plain": [
       "<Figure size 360x288 with 1 Axes>"
      ]
     },
     "metadata": {
      "needs_background": "light"
     },
     "output_type": "display_data"
    }
   ],
   "source": [
    "errors_train = abs(pred_train.reshape(-1, 1) - train_labels)\n",
    "id_errors = list(range(errors_train.shape[0]))\n",
    "#plt.plot(id_errors, errors_train, c=id_train)\n",
    "\n",
    "df_train = df.loc[idx_train]\n",
    "df_train['id_errors'] = id_errors\n",
    "df_train['errors'] = errors_train\n",
    "\n",
    "groups = df_train.groupby(['Material'])\n",
    "\n",
    "# Plot\n",
    "fig, ax = plt.subplots(figsize=(5,4))\n",
    "ax.tick_params(direction='in', length=4, width=1.5, colors='black', grid_alpha=0, labelsize='14')\n",
    "counter=0\n",
    "markers = ['o', 's', '^', 'v']\n",
    "colors=['blue', 'red', 'green', 'orange']\n",
    "colors2 = ['maroon', 'darkorange', 'goldenrod', 'dodgerblue']\n",
    "for name, group in groups:\n",
    "    ax.plot(group.id_errors, group.errors, marker=markers[counter], alpha=0.9, linestyle='', ms=8, label=name)\n",
    "    counter+=1\n",
    "plt.legend()"
   ]
  },
  {
   "cell_type": "code",
   "execution_count": 32,
   "metadata": {},
   "outputs": [
    {
     "name": "stderr",
     "output_type": "stream",
     "text": [
      "/tmp/ipykernel_477111/3048983963.py:2: SettingWithCopyWarning: \n",
      "A value is trying to be set on a copy of a slice from a DataFrame.\n",
      "Try using .loc[row_indexer,col_indexer] = value instead\n",
      "\n",
      "See the caveats in the documentation: https://pandas.pydata.org/pandas-docs/stable/user_guide/indexing.html#returning-a-view-versus-a-copy\n",
      "  df_test['y_pred'] = pred_test\n",
      "/tmp/ipykernel_477111/3048983963.py:3: SettingWithCopyWarning: \n",
      "A value is trying to be set on a copy of a slice from a DataFrame.\n",
      "Try using .loc[row_indexer,col_indexer] = value instead\n",
      "\n",
      "See the caveats in the documentation: https://pandas.pydata.org/pandas-docs/stable/user_guide/indexing.html#returning-a-view-versus-a-copy\n",
      "  df_test['y_true'] = test_labels\n",
      "findfont: Font family ['Arial'] not found. Falling back to DejaVu Sans.\n"
     ]
    },
    {
     "data": {
      "image/png": "[encoded data removed]",
      "text/plain": [
       "<Figure size 432x288 with 1 Axes>"
      ]
     },
     "metadata": {
      "needs_background": "light"
     },
     "output_type": "display_data"
    }
   ],
   "source": [
    "df_test = df.iloc[idx_test]\n",
    "df_test['y_pred'] = pred_test\n",
    "df_test['y_true'] = test_labels\n",
    "groups = df_test.groupby(['Material'])\n",
    "\n",
    "# Plot\n",
    "fig, ax = plt.subplots(figsize=(6,4))\n",
    "ax.tick_params(direction='in', length=4, width=1.5, colors='black', grid_alpha=0, labelsize='14')\n",
    "counter=0\n",
    "markers = ['o', 's', '^', 'v']\n",
    "colors=['blue', 'red', 'green', 'orange']\n",
    "colors2 = ['maroon', 'darkorange', 'goldenrod', 'dodgerblue']\n",
    "for name, group in groups:\n",
    "    ax.plot(group.y_true, group.y_pred, marker=markers[counter], alpha=0.9, linestyle='', ms=8, label=name)\n",
    "    counter+=1\n",
    "    # Predicted 2D/G\n",
    "#plt.title('Test Data', fontsize='18', fontname='Arial', fontweight='bold')\n",
    "ax.set_ylabel('Predicted Yield (%)', fontsize='18', fontname='Arial', fontweight='bold')\n",
    "ax.set_xlabel('Actual Yield (%)', fontsize='18', fontname='Arial', fontweight='bold')\n",
    "ymin, ymax = plt.ylim()\n",
    "ax.set_xlim(ymin, ymax)\n",
    "ax.set_ylim(ymin, ymax)\n",
    "# Make a red line to show perfect predictions\n",
    "x2 = np.arange(ymin, ymax*1.1, .01)\n",
    "y2 = np.arange(ymin, ymax*1.1, .01)\n",
    "ax.plot(x2, y2, linestyle='--', linewidth = '3', color='red')\n",
    "leg = plt.legend(frameon=\"True\", prop={'family': 'Arial'})\n",
    "ax.legend(frameon=False, ncol=2, fontsize=12, loc='upper left')\n",
    "\n",
    "# Plot\n",
    "# plt.plot(df_test['I_Max'],df_test['Graphene_Yield'], linestyle = 'none', marker = 'o', color='black', markersize='8')\n",
    "# plt.xlabel('Flash Voltage (V)', fontsize='18', fontname='Arial', fontweight='bold')\n",
    "# plt.ylabel('D/G Ratio', fontsize='18', fontname='Arial', fontweight='bold')\n",
    "\n",
    "# Save\n",
    "plt.tight_layout()\n",
    "plt.show()\n",
    "#plt.savefig('XGBPerformance_materialgroup.png', dpi=300)\n"
   ]
  },
  {
   "cell_type": "code",
   "execution_count": 33,
   "metadata": {},
   "outputs": [
    {
     "name": "stderr",
     "output_type": "stream",
     "text": [
      "/tmp/ipykernel_477111/4245381040.py:16: SettingWithCopyWarning: \n",
      "A value is trying to be set on a copy of a slice from a DataFrame.\n",
      "Try using .loc[row_indexer,col_indexer] = value instead\n",
      "\n",
      "See the caveats in the documentation: https://pandas.pydata.org/pandas-docs/stable/user_guide/indexing.html#returning-a-view-versus-a-copy\n",
      "  df_test['cv_class'] = cv_class\n"
     ]
    },
    {
     "data": {
      "image/png": "[encoded data removed]",
      "text/plain": [
       "<Figure size 360x288 with 1 Axes>"
      ]
     },
     "metadata": {
      "needs_background": "light"
     },
     "output_type": "display_data"
    }
   ],
   "source": [
    "# Distribution of Graphene_yield with  CD density groups\n",
    "cv = np.array (df_test['charge_density'])\n",
    "Qs = np.quantile (cv, [0.25, 0.5, 0.75])\n",
    "\n",
    "cv_class = cv\n",
    "cv_class = np.where(cv <= Qs[0], 0, cv_class)\n",
    "cv_class = np.where((cv > Qs[0]) & (cv <= Qs[1]), 1, cv_class)\n",
    "cv_class = np.where((cv > Qs[1]) & (cv <= Qs[2]), 2, cv_class)\n",
    "cv_class = np.where(cv > Qs[2], 3, cv_class)\n",
    "\n",
    "# Plot style\n",
    "fig, ax = plt.subplots(figsize=(5,4))\n",
    "# ax.set_yticks(np.arange(.2, 2.2, .2))\n",
    "# ax.set_xticks(np.arange(0, 1200, 100))\n",
    "# ax.set_xlim(.7,3.3)\n",
    "df_test['cv_class'] = cv_class\n",
    "groups = df_test.groupby(['cv_class'])\n",
    "\n",
    "# Plot\n",
    "ax.tick_params(direction='in', length=4, width=1.5, colors='black', grid_alpha=0, labelsize='14')\n",
    "counter=0\n",
    "markers = ['1', '*', '^', 'o']\n",
    "colors=['blue', 'red', 'green', 'orange']\n",
    "colors2 = ['maroon', 'darkorange', 'goldenrod', 'dodgerblue']\n",
    "for name, group in groups:\n",
    "    ax.plot(group.y_pred, group.y_true, marker=markers[counter], alpha=0.9, linestyle='', ms=8, label=name)\n",
    "    counter+=1\n",
    "    # Predicted 2D/G\n",
    "# plt.title('Test Data', fontsize='18', fontname='Arial', fontweight='bold')\n",
    "ax.set_xlabel('Predicted Yield (%)', fontsize='18', fontname='Arial', fontweight='bold')\n",
    "ax.set_ylabel('Actual Yield (%)', fontsize='18', fontname='Arial', fontweight='bold')\n",
    "ymin, ymax = plt.ylim()\n",
    "ax.set_xlim(ymin, ymax)\n",
    "ax.set_ylim(ymin, ymax)\n",
    "# Make a red line to show perfect predictions\n",
    "x2 = np.arange(ymin, ymax*1.1, .01)\n",
    "y2 = np.arange(ymin, ymax*1.1, .01)\n",
    "ax.plot(x2,y2, linestyle='--', linewidth = '3', color='red')\n",
    "leg = plt.legend(frameon=\"True\", prop={'family': 'Arial'})\n",
    "ax.legend(frameon=False, ncol=2, fontsize=12, loc='upper left')\n",
    "\n",
    "# Plot\n",
    "# plt.plot(df_test['I_Max'],df_test['Graphene_Yield'], linestyle = 'none', marker = 'o', color='black', markersize='8')\n",
    "# plt.xlabel('Flash Voltage (V)', fontsize='18', fontname='Arial', fontweight='bold')\n",
    "# plt.ylabel('D/G Ratio', fontsize='18', fontname='Arial', fontweight='bold')\n",
    "\n",
    "# Save\n",
    "plt.tight_layout()\n",
    "plt.savefig('XGBPerformance_cvgroup.png', dpi=300)\n",
    "plt.show()"
   ]
  },
  {
   "cell_type": "code",
   "execution_count": 34,
   "metadata": {},
   "outputs": [
    {
     "name": "stdout",
     "output_type": "stream",
     "text": [
      "Model: \"model\"\n",
      "_________________________________________________________________\n",
      " Layer (type)                Output Shape              Param #   \n",
      "=================================================================\n",
      " exp_par (InputLayer)        [(None, 16)]              0         \n",
      "                                                                 \n",
      " dense (Dense)               (None, 20)                340       \n",
      "                                                                 \n",
      " dense_1 (Dense)             (None, 10)                210       \n",
      "                                                                 \n",
      " tf.nn.relu (TFOpLambda)     (None, 10)                0         \n",
      "                                                                 \n",
      " graph_yield (Dense)         (None, 1)                 11        \n",
      "                                                                 \n",
      "=================================================================\n",
      "Total params: 561\n",
      "Trainable params: 561\n",
      "Non-trainable params: 0\n",
      "_________________________________________________________________\n",
      "None\n"
     ]
    }
   ],
   "source": [
    "import tensorflow as tf\n",
    "from tensorflow import keras\n",
    "from tensorflow.keras import layers\n",
    "from keras import backend as BK\n",
    "\n",
    "def mapping_to_target_range( x, target_min=0, target_max=1) :\n",
    "    x02 = BK.tanh(x) + 1 # x in range(0,2)\n",
    "    scale = ( target_max-target_min )/2.\n",
    "    return  x02 * scale + target_min\n",
    "\n",
    "inputs = keras.Input(shape=(16,), name='exp_par')\n",
    "x2 = layers.Dense(20, activation='relu')(inputs)\n",
    "x3 = layers.Dense(10)(x2)\n",
    "x4 = tf.keras.activations.relu(x3)\n",
    "outputs = layers.Dense(1, name=\"graph_yield\")(x4)\n",
    "#outputs = tf.keras.activations.relu(outputs, max_value=1.0)\n",
    "\n",
    "mlp = keras.Model(inputs=inputs, outputs=outputs)\n",
    "print (mlp.summary()) "
   ]
  },
  {
   "cell_type": "code",
   "execution_count": 35,
   "metadata": {},
   "outputs": [],
   "source": [
    "mlp.compile(loss='mean_squared_error', \n",
    "            optimizer='rmsprop',\n",
    "            metrics=[tf.keras.metrics.RootMeanSquaredError()]) "
   ]
  },
  {
   "cell_type": "code",
   "execution_count": 36,
   "metadata": {
    "scrolled": true
   },
   "outputs": [
    {
     "name": "stdout",
     "output_type": "stream",
     "text": [
      "Epoch 1/300\n"
     ]
    },
    {
     "ename": "ValueError",
     "evalue": "in user code:\n\n    File \"/home/kianoosh/anaconda3/envs/my-rdkit-env/lib/python3.9/site-packages/keras/engine/training.py\", line 1021, in train_function  *\n        return step_function(self, iterator)\n    File \"/home/kianoosh/anaconda3/envs/my-rdkit-env/lib/python3.9/site-packages/keras/engine/training.py\", line 1010, in step_function  **\n        outputs = model.distribute_strategy.run(run_step, args=(data,))\n    File \"/home/kianoosh/anaconda3/envs/my-rdkit-env/lib/python3.9/site-packages/keras/engine/training.py\", line 1000, in run_step  **\n        outputs = model.train_step(data)\n    File \"/home/kianoosh/anaconda3/envs/my-rdkit-env/lib/python3.9/site-packages/keras/engine/training.py\", line 859, in train_step\n        y_pred = self(x, training=True)\n    File \"/home/kianoosh/anaconda3/envs/my-rdkit-env/lib/python3.9/site-packages/keras/utils/traceback_utils.py\", line 67, in error_handler\n        raise e.with_traceback(filtered_tb) from None\n    File \"/home/kianoosh/anaconda3/envs/my-rdkit-env/lib/python3.9/site-packages/keras/engine/input_spec.py\", line 264, in assert_input_compatibility\n        raise ValueError(f'Input {input_index} of layer \"{layer_name}\" is '\n\n    ValueError: Input 0 of layer \"model\" is incompatible with the layer: expected shape=(None, 16), found shape=(None, 13)\n",
     "output_type": "error",
     "traceback": [
      "\u001b[0;31m---------------------------------------------------------------------------\u001b[0m",
      "\u001b[0;31mValueError\u001b[0m                                Traceback (most recent call last)",
      "Input \u001b[0;32mIn [36]\u001b[0m, in \u001b[0;36m<cell line: 6>\u001b[0;34m()\u001b[0m\n\u001b[1;32m      9\u001b[0m \u001b[38;5;28;01mfrom\u001b[39;00m \u001b[38;5;21;01mnumpy\u001b[39;00m\u001b[38;5;21;01m.\u001b[39;00m\u001b[38;5;21;01mrandom\u001b[39;00m \u001b[38;5;28;01mimport\u001b[39;00m seed\n\u001b[1;32m     10\u001b[0m seed(i)\n\u001b[0;32m---> 11\u001b[0m \u001b[43mmlp\u001b[49m\u001b[38;5;241;43m.\u001b[39;49m\u001b[43mfit\u001b[49m\u001b[43m(\u001b[49m\u001b[43mtrain_new_features\u001b[49m\u001b[43m,\u001b[49m\u001b[43m \u001b[49m\u001b[43mtrain_labels\u001b[49m\u001b[43m,\u001b[49m\u001b[43m \u001b[49m\u001b[43mepochs\u001b[49m\u001b[38;5;241;43m=\u001b[39;49m\u001b[38;5;241;43m300\u001b[39;49m\u001b[43m,\u001b[49m\u001b[43m \u001b[49m\u001b[43mbatch_size\u001b[49m\u001b[38;5;241;43m=\u001b[39;49m\u001b[38;5;241;43m2\u001b[39;49m\u001b[43m)\u001b[49m\n\u001b[1;32m     12\u001b[0m pred_test \u001b[38;5;241m=\u001b[39m mlp\u001b[38;5;241m.\u001b[39mpredict (test_new_features)\n\u001b[1;32m     13\u001b[0m \u001b[38;5;66;03m# Calculate the absolute errors\u001b[39;00m\n",
      "File \u001b[0;32m~/anaconda3/envs/my-rdkit-env/lib/python3.9/site-packages/keras/utils/traceback_utils.py:67\u001b[0m, in \u001b[0;36mfilter_traceback.<locals>.error_handler\u001b[0;34m(*args, **kwargs)\u001b[0m\n\u001b[1;32m     65\u001b[0m \u001b[38;5;28;01mexcept\u001b[39;00m \u001b[38;5;167;01mException\u001b[39;00m \u001b[38;5;28;01mas\u001b[39;00m e:  \u001b[38;5;66;03m# pylint: disable=broad-except\u001b[39;00m\n\u001b[1;32m     66\u001b[0m   filtered_tb \u001b[38;5;241m=\u001b[39m _process_traceback_frames(e\u001b[38;5;241m.\u001b[39m__traceback__)\n\u001b[0;32m---> 67\u001b[0m   \u001b[38;5;28;01mraise\u001b[39;00m e\u001b[38;5;241m.\u001b[39mwith_traceback(filtered_tb) \u001b[38;5;28;01mfrom\u001b[39;00m \u001b[38;5;28mNone\u001b[39m\n\u001b[1;32m     68\u001b[0m \u001b[38;5;28;01mfinally\u001b[39;00m:\n\u001b[1;32m     69\u001b[0m   \u001b[38;5;28;01mdel\u001b[39;00m filtered_tb\n",
      "File \u001b[0;32m~/anaconda3/envs/my-rdkit-env/lib/python3.9/site-packages/tensorflow/python/framework/func_graph.py:1147\u001b[0m, in \u001b[0;36mfunc_graph_from_py_func.<locals>.autograph_handler\u001b[0;34m(*args, **kwargs)\u001b[0m\n\u001b[1;32m   1145\u001b[0m \u001b[38;5;28;01mexcept\u001b[39;00m \u001b[38;5;167;01mException\u001b[39;00m \u001b[38;5;28;01mas\u001b[39;00m e:  \u001b[38;5;66;03m# pylint:disable=broad-except\u001b[39;00m\n\u001b[1;32m   1146\u001b[0m   \u001b[38;5;28;01mif\u001b[39;00m \u001b[38;5;28mhasattr\u001b[39m(e, \u001b[38;5;124m\"\u001b[39m\u001b[38;5;124mag_error_metadata\u001b[39m\u001b[38;5;124m\"\u001b[39m):\n\u001b[0;32m-> 1147\u001b[0m     \u001b[38;5;28;01mraise\u001b[39;00m e\u001b[38;5;241m.\u001b[39mag_error_metadata\u001b[38;5;241m.\u001b[39mto_exception(e)\n\u001b[1;32m   1148\u001b[0m   \u001b[38;5;28;01melse\u001b[39;00m:\n\u001b[1;32m   1149\u001b[0m     \u001b[38;5;28;01mraise\u001b[39;00m\n",
      "\u001b[0;31mValueError\u001b[0m: in user code:\n\n    File \"/home/kianoosh/anaconda3/envs/my-rdkit-env/lib/python3.9/site-packages/keras/engine/training.py\", line 1021, in train_function  *\n        return step_function(self, iterator)\n    File \"/home/kianoosh/anaconda3/envs/my-rdkit-env/lib/python3.9/site-packages/keras/engine/training.py\", line 1010, in step_function  **\n        outputs = model.distribute_strategy.run(run_step, args=(data,))\n    File \"/home/kianoosh/anaconda3/envs/my-rdkit-env/lib/python3.9/site-packages/keras/engine/training.py\", line 1000, in run_step  **\n        outputs = model.train_step(data)\n    File \"/home/kianoosh/anaconda3/envs/my-rdkit-env/lib/python3.9/site-packages/keras/engine/training.py\", line 859, in train_step\n        y_pred = self(x, training=True)\n    File \"/home/kianoosh/anaconda3/envs/my-rdkit-env/lib/python3.9/site-packages/keras/utils/traceback_utils.py\", line 67, in error_handler\n        raise e.with_traceback(filtered_tb) from None\n    File \"/home/kianoosh/anaconda3/envs/my-rdkit-env/lib/python3.9/site-packages/keras/engine/input_spec.py\", line 264, in assert_input_compatibility\n        raise ValueError(f'Input {input_index} of layer \"{layer_name}\" is '\n\n    ValueError: Input 0 of layer \"model\" is incompatible with the layer: expected shape=(None, 16), found shape=(None, 13)\n"
     ]
    }
   ],
   "source": [
    "mlp.compile(loss='mean_squared_error', \n",
    "            optimizer='rmsprop',\n",
    "            metrics=[tf.keras.metrics.RootMeanSquaredError()]) \n",
    "r_squareds = []\n",
    "RMSEs = []\n",
    "for i in range (1, 2):\n",
    "    tf.random.set_seed(i)\n",
    "    np.random.seed(i)\n",
    "    from numpy.random import seed\n",
    "    seed(i)\n",
    "    mlp.fit(train_new_features, train_labels, epochs=300, batch_size=2)\n",
    "    pred_test = mlp.predict (test_new_features)\n",
    "    # Calculate the absolute errors\n",
    "    errors_test = abs(pred_test - test_labels)\n",
    "    # Print out the mean absolute error (mae)\n",
    "    print('Mean Absolute Error for test:', round(np.mean(errors_test), 4), 'units.')\n",
    "    r_squared_test = r2_score(test_labels, pred_test)\n",
    "    print('r2 score = ', r_squared_test)\n",
    "    plt.scatter(pred_test, test_labels)\n",
    "    r_squareds.append(r_squared_test)\n",
    "    m = tf.keras.metrics.RootMeanSquaredError()\n",
    "    m.update_state(pred_test, test_labels)\n",
    "    RMSEs.append (m.result().numpy())\n",
    "    print ('RMSE for test, ', m.result().numpy())"
   ]
  },
  {
   "cell_type": "code",
   "execution_count": null,
   "metadata": {},
   "outputs": [],
   "source": [
    "# find the outlier of the tested model\n",
    "test_error = abs(pred_test.reshape(pred_test.shape[0], 1)-test_labels)\n",
    "plt.scatter(test_labels, test_error)\n",
    "\n",
    "error_99quan = np.quantile(test_error, 0.99)\n",
    "error_99quan_index = np.where (test_error > error_99quan)[0] \n",
    "print (test_labels[error_99quan_index])\n",
    "print (test_new_features[error_99quan_index])\n",
    "\n",
    "r_squared_test = r2_score(test_labels, pred_test)\n",
    "print('r2 score before removal= ', r_squared_test)\n",
    "\n",
    "r_squared_test = r2_score(np.delete (test_labels, error_99quan_index), \n",
    "                          np.delete (pred_test, error_99quan_index))\n",
    "print('r2 score 99% outlier removed= ', r_squared_test)"
   ]
  },
  {
   "cell_type": "code",
   "execution_count": null,
   "metadata": {},
   "outputs": [],
   "source": [
    "pred_train = mlp.predict (train_new_features)\n",
    "# Calculate the absolute errors\n",
    "errors_train = (pred_train - train_labels)**2\n",
    "# Print out the mean absolute error (mae)\n",
    "print('Root Mean Squared Error(RMSE) for train:', round(np.sqrt(np.mean(errors_train)), 4), '%')\n",
    "r_squared_train = r2_score(train_labels, pred_train)\n",
    "print (r_squared_train)"
   ]
  },
  {
   "cell_type": "code",
   "execution_count": null,
   "metadata": {},
   "outputs": [],
   "source": [
    "m = tf.keras.metrics.RootMeanSquaredError()\n",
    "m.update_state(pred_train, train_labels)\n",
    "(m.result().numpy())"
   ]
  },
  {
   "cell_type": "code",
   "execution_count": null,
   "metadata": {},
   "outputs": [],
   "source": [
    "# the higher the pulsetime, the lower the Final current percentage\n",
    "plt.scatter(pulsetime, Final_Current_Percent_predicted)\n",
    "plt.xlabel ('pulsetime')\n",
    "plt.ylabel ('Final current percentage')\n",
    "\n",
    "pulsetime_ = pulsetime.reshape(pulsetime.shape[0], )\n",
    "\n",
    "Final_Current_Percent_predicted_ = Final_Current_Percent_predicted.reshape(\n",
    "                                   Final_Current_Percent_predicted.shape[0], )\n",
    "\n",
    "pearsonr(pulsetime_, Final_Current_Percent_predicted_)"
   ]
  },
  {
   "cell_type": "code",
   "execution_count": null,
   "metadata": {},
   "outputs": [],
   "source": [
    "plt.scatter(pulsetime, Norm_I_Max_predicted)\n",
    "plt.xlabel ('pulsetime')\n",
    "plt.ylabel ('Norm_I_Max_predicted')\n",
    "\n",
    "pulsetime_ = pulsetime.reshape(pulsetime.shape[0], )\n",
    "Norm_I_Max_predicted_ = Norm_I_Max_predicted.reshape(\n",
    "                                   Norm_I_Max_predicted.shape[0], )\n",
    "\n",
    "pearsonr(pulsetime_, Norm_I_Max_predicted_)"
   ]
  },
  {
   "cell_type": "code",
   "execution_count": null,
   "metadata": {},
   "outputs": [],
   "source": [
    "# the higher the pulse time, the higher total charge\n",
    "plt.scatter(pulsetime, Norm_charge_tot_predicted)\n",
    "\n",
    "pulsetime_ = pulsetime.reshape(pulsetime.shape[0], )\n",
    "Norm_charge_tot_predicted_ = Norm_charge_tot_predicted.reshape(\n",
    "                                   Norm_charge_tot_predicted.shape[0], )\n",
    "\n",
    "pearsonr(pulsetime_, Norm_charge_tot_predicted_)"
   ]
  },
  {
   "cell_type": "code",
   "execution_count": null,
   "metadata": {},
   "outputs": [],
   "source": [
    "# Get numerical feature importances\n",
    "importances = list(xgbr_graphyield.feature_importances_)\n",
    "# List of tuples with variable and importance\n",
    "feature_importances = [(feature, round(importance, 2)) for feature, importance in zip(feature_list, importances)]\n",
    "# Sort the feature importances by most important first\n",
    "#feature_importances = sorted(feature_importances, key = lambda x: x[1], reverse = True)\n",
    "# Print out the feature and importances \n",
    "[print('Variable: {} Importance: {}'.format(feature, importance)) \n",
    " for (feature, importance) in zip(feature_list, feature_importances)];\n",
    "print (importances)"
   ]
  },
  {
   "cell_type": "code",
   "execution_count": null,
   "metadata": {},
   "outputs": [],
   "source": [
    "pred_test = xgbr_graphyield.predict(test_new_features)\n",
    "errors_test= abs(pred_train - train_labels)\n",
    "print('Mean Absolute Error:', round(np.mean(errors_test), 4), 'units.')\n",
    "# Plot predictions vs actual values\n",
    "# Plot style\n",
    "fig, ax = plt.subplots(figsize=(6,4))\n",
    "ax.tick_params(direction='in', length=4, width=1.5, colors='black', grid_alpha=0, labelsize='14')\n",
    "# ax.set_xlim(20,105)\n",
    "# ax.set_ylim(20,105)\n",
    "\n",
    "# Predicted 2D/G\n",
    "plt.plot(pred_test, test_labels, \n",
    "         linestyle = 'none', marker = 'o', color='black', markersize='8')\n",
    "plt.title('Test Data', fontsize='18', fontname='Arial', fontweight='bold')\n",
    "plt.xlabel('Predicted', fontsize='18', fontname='Arial', fontweight='bold')\n",
    "plt.ylabel('Actual', fontsize='18', fontname='Arial', fontweight='bold')\n",
    "ymin, ymax = plt.ylim()\n",
    "plt.xlim(ymin, ymax)\n",
    "plt.ylim(ymin, ymax)\n",
    "# Make a red line to show perfect predictions\n",
    "x2 = np.arange(0, ymax*1.1, .1)\n",
    "y2 = np.arange(0, ymax*1.1, .1)\n",
    "plt.plot(x2,y2, linestyle='--', linewidth = '3', color='red')"
   ]
  },
  {
   "cell_type": "code",
   "execution_count": null,
   "metadata": {},
   "outputs": [],
   "source": [
    "def category_normalization_theonesyoualwaysuse(df):\n",
    "    groups = df.groupby(['Material'])\n",
    "    norm_I_Max = []\n",
    "    norm_charge_tot=[]\n",
    "    for name, group in groups:\n",
    "        I_Max_array = np.asfarray(group.I_Max)\n",
    "        charge_tot_array = np.asfarray(group.Charge_Tot)\n",
    "        mean_I_Max = np.mean(I_Max_array)\n",
    "        mean_charge_tot = np.mean(charge_tot_array)\n",
    "        std_I_Max = np.std(I_Max_array)\n",
    "        std_charge_tot = np.std(charge_tot_array)\n",
    "        print(\"Mean of I Max\", name, \"is \", mean_I_Max)\n",
    "        norm_I_Max_cat = np.divide(np.subtract(I_Max_array, mean_I_Max), std_I_Max)\n",
    "        norm_charge_tot_cat = np.divide(np.subtract(charge_tot_array, mean_charge_tot), std_charge_tot)\n",
    "        norm_I_Max = np.append(norm_I_Max, norm_I_Max_cat)\n",
    "        norm_charge_tot = np.append(norm_charge_tot, norm_charge_tot_cat)\n",
    "    return norm_I_Max, norm_charge_tot\n",
    "\n",
    "\n",
    "# Plot style\n",
    "fig, ax = plt.subplots(figsize=(5,4))\n",
    "# ax.set_yticks(np.arange(.2, 2.2, .2))\n",
    "# ax.set_xticks(np.arange(0, 1200, 100))\n",
    "# ax.set_xlim(.7,3.3)\n",
    "\n",
    "# Import file\n",
    "df_test = pd.read_csv('FJH_ML_Final.csv', header=1)\n",
    "# Create normalized I by category\n",
    "norm1, norm2 = category_normalization_theonesyoualwaysuse(df_test)\n",
    "df_test['Norm_I_Max'] = norm1\n",
    "df_test['Norm_charge_tot'] = norm2\n",
    "df_test['charge_density'] = df_test['Voltage']*df_test['Cap']/df_test['Mass']\n",
    "# df_test['test_feature'] = (df_test['Voltage']/df_test['Mass'])#*df_test['PulseTime']\n",
    "# df_test = df_test[df_test['TwoDtoG']<1.5]\n",
    "# df_test = df_test[df_test['Graphene_Yield']>20]\n",
    "\n",
    "# Cut dataframe to only the test set\n",
    "df_test = df_test.iloc[idx_test]\n",
    "df_test['y_pred'] = pred_test\n",
    "df_test['y_true'] = test_labels\n",
    "\n",
    "groups = df_test.groupby(['Material'])\n",
    "\n",
    "# Plot\n",
    "ax.tick_params(direction='in', length=4, width=1.5, colors='black', grid_alpha=0, labelsize='14')\n",
    "counter=0\n",
    "markers = ['o', 's', '^', 'v']\n",
    "colors=['blue', 'red', 'green', 'orange']\n",
    "colors2 = ['maroon', 'darkorange', 'goldenrod', 'dodgerblue']\n",
    "for name, group in groups:\n",
    "    ax.plot(group.y_pred, group.y_true, marker=markers[counter], alpha=0.9, linestyle='', ms=8, label=name)\n",
    "    counter+=1\n",
    "    # Predicted 2D/G\n",
    "# plt.title('Test Data', fontsize='18', fontname='Arial', fontweight='bold')\n",
    "ax.set_xlabel('Predicted Yield (%)', fontsize='18', fontname='Arial', fontweight='bold')\n",
    "ax.set_ylabel('Actual Yield (%)', fontsize='18', fontname='Arial', fontweight='bold')\n",
    "ymin, ymax = plt.ylim()\n",
    "ax.set_xlim(ymin, ymax)\n",
    "ax.set_ylim(ymin, ymax)\n",
    "# Make a red line to show perfect predictions\n",
    "x2 = np.arange(ymin, ymax*1.1, .01)\n",
    "y2 = np.arange(ymin, ymax*1.1, .01)\n",
    "ax.plot(x2,y2, linestyle='--', linewidth = '3', color='red')\n",
    "leg = plt.legend(frameon=\"True\", prop={'family': 'Arial'})\n",
    "ax.legend(frameon=False, ncol=2, fontsize=12, loc='upper left')\n",
    "\n",
    "# Plot\n",
    "# plt.plot(df_test['I_Max'],df_test['Graphene_Yield'], linestyle = 'none', marker = 'o', color='black', markersize='8')\n",
    "# plt.xlabel('Flash Voltage (V)', fontsize='18', fontname='Arial', fontweight='bold')\n",
    "# plt.ylabel('D/G Ratio', fontsize='18', fontname='Arial', fontweight='bold')\n",
    "\n",
    "# Save\n",
    "plt.tight_layout()\n",
    "plt.savefig('XGBPerformance_materialgroup.png', dpi=300)\n",
    "plt.show()"
   ]
  },
  {
   "cell_type": "code",
   "execution_count": null,
   "metadata": {},
   "outputs": [],
   "source": [
    "# Distribution of Graphene_yield with  CD density groups\n",
    "cv = np.array (df_test['charge_density'])\n",
    "Qs = np.quantile (cv, [0.25, 0.5, 0.75])\n",
    "\n",
    "cv_class = cv\n",
    "cv_class = np.where(cv <= Qs[0], 0, cv_class)\n",
    "cv_class = np.where((cv > Qs[0]) & (cv <= Qs[1]), 1, cv_class)\n",
    "cv_class = np.where((cv > Qs[1]) & (cv <= Qs[2]), 2, cv_class)\n",
    "cv_class = np.where(cv > Qs[2], 3, cv_class)\n",
    "\n",
    "# Plot style\n",
    "fig, ax = plt.subplots(figsize=(5,4))\n",
    "# ax.set_yticks(np.arange(.2, 2.2, .2))\n",
    "# ax.set_xticks(np.arange(0, 1200, 100))\n",
    "# ax.set_xlim(.7,3.3)\n",
    "df_test['cv_class'] = cv_class\n",
    "groups = df_test.groupby(['cv_class'])\n",
    "\n",
    "# Plot\n",
    "ax.tick_params(direction='in', length=4, width=1.5, colors='black', grid_alpha=0, labelsize='14')\n",
    "counter=0\n",
    "markers = ['o', 's', '^', 'v']\n",
    "colors=['blue', 'red', 'green', 'orange']\n",
    "colors2 = ['maroon', 'darkorange', 'goldenrod', 'dodgerblue']\n",
    "for name, group in groups:\n",
    "    ax.plot(group.y_pred, group.y_true, marker=markers[counter], alpha=0.9, linestyle='', ms=8, label=name)\n",
    "    counter+=1\n",
    "    # Predicted 2D/G\n",
    "# plt.title('Test Data', fontsize='18', fontname='Arial', fontweight='bold')\n",
    "ax.set_xlabel('Predicted Yield (%)', fontsize='18', fontname='Arial', fontweight='bold')\n",
    "ax.set_ylabel('Actual Yield (%)', fontsize='18', fontname='Arial', fontweight='bold')\n",
    "ymin, ymax = plt.ylim()\n",
    "ax.set_xlim(ymin, ymax)\n",
    "ax.set_ylim(ymin, ymax)\n",
    "# Make a red line to show perfect predictions\n",
    "x2 = np.arange(ymin, ymax*1.1, .01)\n",
    "y2 = np.arange(ymin, ymax*1.1, .01)\n",
    "ax.plot(x2,y2, linestyle='--', linewidth = '3', color='red')\n",
    "leg = plt.legend(frameon=\"True\", prop={'family': 'Arial'})\n",
    "ax.legend(frameon=False, ncol=2, fontsize=12, loc='upper left')\n",
    "\n",
    "# Plot\n",
    "# plt.plot(df_test['I_Max'],df_test['Graphene_Yield'], linestyle = 'none', marker = 'o', color='black', markersize='8')\n",
    "# plt.xlabel('Flash Voltage (V)', fontsize='18', fontname='Arial', fontweight='bold')\n",
    "# plt.ylabel('D/G Ratio', fontsize='18', fontname='Arial', fontweight='bold')\n",
    "\n",
    "# Save\n",
    "plt.tight_layout()\n",
    "plt.savefig('XGBPerformance_cvgroup.png', dpi=300)\n",
    "plt.show()"
   ]
  },
  {
   "cell_type": "code",
   "execution_count": null,
   "metadata": {},
   "outputs": [],
   "source": [
    "# Plot pred vs. true values for test set, coloring the charge density\n",
    "groups = df_test.groupby(['Material'])\n",
    "fig, ax = plt.subplots(figsize=(6,4))\n",
    "ax.tick_params(direction='in', length=4, width=1.5, colors='black', grid_alpha=0, labelsize='14')\n",
    "\n",
    "\n",
    "for name, group in groups:\n",
    "    p = ax.scatter(group.y_pred, group.y_true, c=group.charge_density, marker='o', s=100, cmap='Blues')\n",
    "    \n",
    "cb = fig.colorbar(p, ax=ax)\n",
    "cb.set_label('Charge Density (C/g)', fontsize='18', fontname='Arial', fontweight='bold')\n",
    "cb.ax.tick_params(labelsize=14)\n",
    "\n",
    "# plt.title('Test Data', fontsize='18', fontname='Arial', fontweight='bold')\n",
    "ax.set_xlabel('Predicted Yield', fontsize='18', fontname='Arial', fontweight='bold')\n",
    "ax.set_ylabel('Actual Yield', fontsize='18', fontname='Arial', fontweight='bold')\n",
    "ymin, ymax = plt.ylim()\n",
    "ax.set_xlim(ymin, ymax)\n",
    "ax.set_ylim(ymin, ymax)\n",
    "# Make a red line to show perfect predictions\n",
    "x2 = np.arange(ymin, ymax*1.1, .01)\n",
    "y2 = np.arange(ymin, ymax*1.1, .01)\n",
    "ax.plot(x2,y2, linestyle='--', linewidth = '3', color='red')\n",
    "# ax.legend(fontsize=12)\n",
    "\n",
    "# Plot\n",
    "# plt.plot(df['I_Max'],df['Graphene_Yield'], linestyle = 'none', marker = 'o', color='black', markersize='8')\n",
    "# plt.xlabel('Flash Voltage (V)', fontsize='18', fontname='Arial', fontweight='bold')\n",
    "# plt.ylabel('D/G Ratio', fontsize='18', fontname='Arial', fontweight='bold')\n",
    "\n",
    "# Save\n",
    "plt.tight_layout()\n",
    "# plt.savefig('XGB_Regression_Performance_colorChargeDensity.png', dpi=300)\n",
    "plt.show()"
   ]
  },
  {
   "cell_type": "code",
   "execution_count": null,
   "metadata": {},
   "outputs": [],
   "source": [
    "# outside test (Need to ask Jacob the details, material, atmosphere)\n",
    "filename = 'FJH_ML_MBO_Yield4_modified.csv'\n",
    "df_testBO0 = pd.read_csv(filename, sep=\",\", encoding='ISO-8859-1', header=1)\n",
    "df_testBO = df_testBO0\n",
    "# Only works for test that are TCB material !!!!!!\n",
    "Material_CB_testBO = np.array (df_testBO['Material']).reshape(-1, 1)\n",
    "Material_CB_testBO [:] = 0\n",
    "Material_MC_testBO = np.zeros_like (Material_CB_testBO)\n",
    "Material_PA_testBO = np.zeros_like (Material_CB_testBO)\n",
    "Material_TCB_testBO = np.zeros_like (Material_CB_testBO)\n",
    "Material_TCB_testBO [:] = 1\n",
    "material_type_testBO = np.concatenate ((Material_CB_testBO, \n",
    "                                        Material_MC_testBO, \n",
    "                                        Material_PA_testBO,\n",
    "                                        Material_TCB_testBO), axis=1)\n",
    "\n",
    "material_type_GY_coef_testBO = material_type_testBO * CB_MC_PA_TCB_coef_average\n",
    "Atmosphere_air_testBO = np.array (df_testBO['Atmosphere']).reshape(-1, 1)\n",
    "Atmosphere_air_testBO [:] = 0\n",
    "Atmosphere_arg_testBO = np.zeros_like (Atmosphere_air_testBO)\n",
    "atmosphere_type_testBO = np.concatenate ((Atmosphere_air_testBO, \n",
    "                                          Atmosphere_arg_testBO ), axis=1)\n",
    "# base 60mF as base and the number in excel file of 18mF\n",
    "df_testBO['Cap'] = 60 + df_testBO['Cap']*18\n",
    "charge_density_testBO = np.array (df_testBO['Voltage']*df_testBO['Cap']/df_testBO['Mass']).reshape(-1, 1)\n",
    "pulsetime_testBO = np.array (df_testBO['PulseTime']).reshape(-1, 1)\n",
    "Pretreat_voltage_testBO = np.array (df_testBO['Pretreat_voltage']).reshape(-1, 1)"
   ]
  },
  {
   "cell_type": "code",
   "execution_count": null,
   "metadata": {},
   "outputs": [],
   "source": [
    "# got it from model based prediction of I_Max\n",
    "material_type_I_Finalperc_coef_testBO = material_type_testBO * CB_MC_PA_coef_Final_Current_Percent\n",
    "material_type_Norm_I_Max_coef_testBO = material_type_testBO * CB_MC_PA_coef_Norm_I_Max\n",
    "material_type_Norm_charge_Tot_coef_testBO = material_type_testBO * CB_MC_PA_coef_Norm_charge_tot\n",
    "\n",
    "features_testBO = np.concatenate ((charge_density_testBO,\n",
    "                                   pulsetime_testBO,\n",
    "                                   material_type_I_Finalperc_coef_testBO,\n",
    "                                   atmosphere_type_testBO,\n",
    "                                   Pretreat_voltage_testBO), axis=1)\n",
    "Final_Current_Percent_predicted_testBO = xgbr_final_I_percent.predict(features_testBO)\n",
    "\n",
    "features_testBO = np.concatenate ((charge_density_testBO,\n",
    "                                   pulsetime_testBO,\n",
    "                                   material_type_Norm_I_Max_coef_testBO,\n",
    "                                   atmosphere_type_testBO,\n",
    "                                   Pretreat_voltage_testBO), axis=1)\n",
    "Norm_I_Max_predicted_testBO = xgbr_norm_I_max.predict(features_testBO)\n",
    "\n",
    "features_testBO = np.concatenate ((charge_density_testBO,\n",
    "                                   pulsetime_testBO,\n",
    "                                   material_type_Norm_charge_Tot_coef_testBO,\n",
    "                                   atmosphere_type_testBO,\n",
    "                                   Pretreat_voltage_testBO), axis=1)\n",
    "Norm_charge_tot_testBO = xgbr_norm_charge_total.predict(features_testBO)"
   ]
  },
  {
   "cell_type": "code",
   "execution_count": null,
   "metadata": {},
   "outputs": [],
   "source": [
    "material_type_GY_testBO = material_type_testBO * CB_MC_PA_TCB_coef_average\n",
    "# Porxy properties, as well as process parameters\n",
    "features_testBO = np.concatenate ((charge_density_testBO,\n",
    "                                   material_type_GY_testBO,\n",
    "                                   pulsetime_testBO,\n",
    "                                   Pretreat_voltage_testBO,\n",
    "                                   atmosphere_type_testBO,\n",
    "                                   Final_Current_Percent_predicted_testBO.reshape(-1, 1),\n",
    "                                   Norm_I_Max_predicted_testBO.reshape(-1, 1),\n",
    "                                   Norm_charge_tot_testBO.reshape(-1, 1)), axis=1)"
   ]
  }
 ],
 "metadata": {
  "kernelspec": {
   "display_name": "Python 3 (ipykernel)",
   "language": "python",
   "name": "python3"
  },
  "language_info": {
   "codemirror_mode": {
    "name": "ipython",
    "version": 3
   },
   "file_extension": ".py",
   "mimetype": "text/x-python",
   "name": "python",
   "nbconvert_exporter": "python",
   "pygments_lexer": "ipython3",
   "version": "3.9.10"
  }
 },
 "nbformat": 4,
 "nbformat_minor": 4
}
