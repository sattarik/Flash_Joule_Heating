{
 "cells": [
  {
   "cell_type": "markdown",
   "metadata": {},
   "source": [
    "### 173 samples, Final_R is missing for the following sample\n",
    "137)\tMC\tair\t204\t8\t180\t60\t180\t500\t30\t114\t0.3\tNA\t150\t0.3\t100\t0.490196078\t486.395\t57.78712883\t26.00664167\t0.467\t9.68631173\t3\t0.422680412\t0.541775715\t0.521526486\t44.36424367"
   ]
  },
  {
   "cell_type": "code",
   "execution_count": 2,
   "metadata": {},
   "outputs": [
    {
     "name": "stderr",
     "output_type": "stream",
     "text": [
      "/home/kianoosh/anaconda3/envs/my-rdkit-env/lib/python3.9/site-packages/xgboost/compat.py:36: FutureWarning: pandas.Int64Index is deprecated and will be removed from pandas in a future version. Use pandas.Index with the appropriate dtype instead.\n",
      "  from pandas import MultiIndex, Int64Index\n",
      "2022-10-10 11:49:29.138131: W tensorflow/stream_executor/platform/default/dso_loader.cc:64] Could not load dynamic library 'libcudart.so.11.0'; dlerror: libcudart.so.11.0: cannot open shared object file: No such file or directory\n",
      "2022-10-10 11:49:29.138153: I tensorflow/stream_executor/cuda/cudart_stub.cc:29] Ignore above cudart dlerror if you do not have a GPU set up on your machine.\n"
     ]
    }
   ],
   "source": [
    "# Import Python libaries\n",
    "%matplotlib inline\n",
    "from sklearn.naive_bayes import GaussianNB\n",
    "from sklearn.neural_network import MLPClassifier\n",
    "from sklearn.neighbors import KNeighborsClassifier\n",
    "from sklearn.linear_model import RidgeClassifier\n",
    "from sklearn.tree import DecisionTreeClassifier\n",
    "from sklearn.ensemble import RandomForestClassifier\n",
    "from scipy.optimize import curve_fit\n",
    "from sklearn.linear_model import LinearRegression\n",
    "import time as time\n",
    "from numpy import apply_along_axis\n",
    "# General data management\n",
    "import numpy as np\n",
    "from numpy.linalg import inv\n",
    "import pandas as pd\n",
    "import random\n",
    "import matplotlib.pyplot as plt\n",
    "import seaborn as sns\n",
    "import xgboost as xgb\n",
    "from xgboost import XGBRegressor, XGBClassifier\n",
    "from sklearn import linear_model\n",
    "from sklearn import ensemble\n",
    "from xgboost import plot_tree\n",
    "from sklearn.tree import DecisionTreeRegressor\n",
    "from sklearn.model_selection import GridSearchCV\n",
    "from sklearn.metrics import accuracy_score, precision_score, recall_score, f1_score, classification_report\n",
    "# import pydo\n",
    "# generate random integer values\n",
    "from random import seed\n",
    "from random import randint\n",
    "# seed random number generator\n",
    "seed(1)\n",
    "from sklearn.decomposition import PCA\n",
    "from sklearn.decomposition import SparsePCA\n",
    "from sklearn.decomposition import KernelPCA\n",
    "from sklearn.datasets import load_digits\n",
    "from sklearn.manifold import LocallyLinearEmbedding\n",
    "from sklearn.manifold import TSNE\n",
    "# Machine learning & model visualization tools\n",
    "from sklearn.model_selection import train_test_split\n",
    "from sklearn import preprocessing\n",
    "from sklearn.ensemble import RandomForestRegressor\n",
    "from sklearn.pipeline import make_pipeline\n",
    "from sklearn.model_selection import GridSearchCV\n",
    "from sklearn.metrics import r2_score, mean_squared_error\n",
    "from sklearn.tree import export_graphviz\n",
    "from sklearn import svm\n",
    "from sklearn.neural_network import MLPRegressor\n",
    "from sklearn.neighbors import KNeighborsRegressor\n",
    "from numpy import cov\n",
    "from scipy.stats import pearsonr\n",
    "from scipy import ndimage, misc\n",
    "import pydot\n",
    "import math\n",
    "from sklearn.model_selection import LeaveOneOut\n",
    "from sklearn.metrics import mean_absolute_error\n",
    "# roc curve and auc\n",
    "from sklearn.datasets import make_classification\n",
    "from sklearn.linear_model import LogisticRegression\n",
    "from sklearn.model_selection import train_test_split\n",
    "from sklearn.metrics import roc_curve\n",
    "from sklearn.metrics import roc_auc_score\n",
    "from matplotlib import pyplot\n",
    "# from sklearn.externals import joblib\n",
    "# Miscellaneous\n",
    "import os\n",
    "import io\n",
    "from tensorflow.keras.models import Sequential\n",
    "from tensorflow.keras.layers import Dense\n",
    "from tensorflow.keras.wrappers.scikit_learn import KerasRegressor\n",
    "from sklearn.inspection import partial_dependence, plot_partial_dependence"
   ]
  },
  {
   "cell_type": "code",
   "execution_count": 3,
   "metadata": {},
   "outputs": [
    {
     "name": "stdout",
     "output_type": "stream",
     "text": [
      "# of samples Yield  <= 82% in group 0:86\n",
      "# of samples Yield  >  82% in group 1:88\n",
      "# of samples GYield <= 52% in group 0:84\n",
      "# of samples GYield >  52% in group 1:90\n"
     ]
    },
    {
     "data": {
      "text/plain": [
       "Index(['R1_CB', 'R1_MC', 'R1_PA', 'cap', 'volt', 'mass', 'ptime', 'pre_volt',\n",
       "       'pre_peak', 'I_Max', 'charge_tot', 'I_Final', 'GYield', 'Yield',\n",
       "       'Material', 'GYield_Cat', 'Yield_Cat', 'charge_density', 'I_Max_norm',\n",
       "       'charge_tot_norm', 'I_Final_perc'],\n",
       "      dtype='object')"
      ]
     },
     "execution_count": 3,
     "metadata": {},
     "output_type": "execute_result"
    }
   ],
   "source": [
    "# reading the output from MOBO\n",
    "constraint_model = pd.read_csv('constraint_model_materialCAT.csv', index_col=[0])\n",
    "full_df = pd.read_csv('FJH_ML_Final.csv', header=1)\n",
    "# create extra variables \n",
    "def categorize_gyield (df, target, threshold):\n",
    "    yield_cat = []\n",
    "    for i in range(0, len(df)):\n",
    "        if df[target].iloc[i] <= threshold:\n",
    "            yield_cat.append(0)\n",
    "        else:\n",
    "            yield_cat.append(1)\n",
    "    target_cat = target + '_Cat'\n",
    "    df[target_cat] = yield_cat\n",
    "    return df[target_cat]\n",
    "\n",
    "threshold_GYield = 52\n",
    "constraint_model ['GYield_Cat'] = categorize_gyield (df=constraint_model, \n",
    "                                                     target='GYield', \n",
    "                                                     threshold=threshold_GYield)\n",
    "threshold_Yield = 82\n",
    "constraint_model ['Yield_Cat'] =  categorize_gyield (df=constraint_model, \n",
    "                                                     target='Yield', \n",
    "                                                     threshold=threshold_Yield)\n",
    "constraint_model ['charge_density'] = constraint_model ['cap']*\\\n",
    "                                      constraint_model ['volt']/\\\n",
    "                                      constraint_model ['mass']\n",
    "print ('# of samples Yield  <= {}% in group 0:{}'.format (threshold_Yield, \n",
    "                                                       sum (constraint_model['Yield_Cat']==0)))\n",
    "print ('# of samples Yield  >  {}% in group 1:{}'.format (threshold_Yield, \n",
    "                                                       sum (constraint_model['Yield_Cat']==1)))\n",
    "print ('# of samples GYield <= {}% in group 0:{}'.format (threshold_GYield, \n",
    "                                                       sum (constraint_model['GYield_Cat']==0)))\n",
    "print ('# of samples GYield >  {}% in group 1:{}'.format (threshold_GYield, \n",
    "                                                       sum (constraint_model['GYield_Cat']==1)))\n",
    "\n",
    "constraint_model ['I_Max_norm'] = np.array (constraint_model['I_Max']/constraint_model['mass'])\n",
    "constraint_model ['charge_tot_norm'] = constraint_model['charge_tot']/(constraint_model['mass'])*1000\n",
    "constraint_model ['I_Final_perc'] = np.array (constraint_model['I_Final']/constraint_model['I_Max'])\n",
    "constraint_model.columns"
   ]
  },
  {
   "cell_type": "code",
   "execution_count": 4,
   "metadata": {},
   "outputs": [],
   "source": [
    "# assign integers to group names \n",
    "# (CB, MC, PA, TCB)-->(0, 1, 2, 3)\n",
    "constraint_model ['Material_group'] = [0 if sample=='CB' else \n",
    "                                       sample for sample in constraint_model ['Material']]\n",
    "constraint_model ['Material_group'] = [1 if sample=='MC' else \n",
    "                                       sample for sample in constraint_model ['Material_group']]\n",
    "constraint_model ['Material_group'] = [2 if sample=='PA' else \n",
    "                                       sample for sample in constraint_model ['Material_group']]\n",
    "constraint_model ['Material_group'] = [3 if sample=='TCB' else \n",
    "                                       sample for sample in constraint_model ['Material_group']]"
   ]
  },
  {
   "cell_type": "code",
   "execution_count": 5,
   "metadata": {},
   "outputs": [
    {
     "name": "stdout",
     "output_type": "stream",
     "text": [
      "Input features:  Index(['I_Max', 'charge_tot', 'I_Final', 'GYield', 'Yield'], dtype='object')\n"
     ]
    },
    {
     "name": "stderr",
     "output_type": "stream",
     "text": [
      "findfont: Font family ['Arial'] not found. Falling back to DejaVu Sans.\n"
     ]
    },
    {
     "data": {
      "image/png": "[encoded data removed]",
      "text/plain": [
       "<Figure size 504x360 with 1 Axes>"
      ]
     },
     "metadata": {
      "needs_background": "light"
     },
     "output_type": "display_data"
    }
   ],
   "source": [
    "##### using precursor material group as classes. !!!!!!!!!!!!\n",
    "# keep the best of t-SNE\n",
    "# only consider the current-time information and the Yield and GYield (5 input)\n",
    "# using precursor material group as classes.\n",
    "\n",
    "# best options: (perplexity, rand)\n",
    "# [(7, 29), (7, 30), (7, 39), (8, 34), (8, 40),\n",
    "# (8, 43), (8, 48), (9, 13), (9, 24), (9, 35),\n",
    "# (9, 40), (9, 43), (10, 19), (10, 21), (10, 24)\n",
    "# (10, 32)]\n",
    "features_dimred = constraint_model.iloc[:, 9:14]\n",
    "print ('Input features: ', features_dimred.columns)\n",
    "colors = ['gold', 'black', 'red', 'green']\n",
    "# 4 groups of precursors\n",
    "target_ids = list(range(4))\n",
    "group_names_gen = ['CB', 'MC', 'PA', 'TCB']\n",
    "Material = constraint_model ['Material_group']\n",
    "for per in range (10, 11):\n",
    "    for rand in range (32, 33):  \n",
    "        fig, ax = plt.subplots(figsize=(7,5))\n",
    "        ax.tick_params(direction='in', length=4, width=1.5, colors='black', grid_alpha=0, labelsize='16')\n",
    "        for i, c, label in zip(target_ids, colors, group_names_gen): \n",
    "            tSNE_embedded = TSNE(n_components=2, init='random', metric='euclidean',learning_rate=200,\n",
    "                            perplexity=per, random_state=rand).fit_transform(features_dimred)\n",
    "\n",
    "            plt.scatter(tSNE_embedded[Material==i, 0], \n",
    "                    tSNE_embedded[Material==i, 1], \n",
    "                    c=c, alpha=0.6, label=label)\n",
    "\n",
    "            pyplot.xlabel('t-SNE 1', fontname=\"Arial\", fontsize=\"20\", fontweight = \"bold\")\n",
    "            pyplot.ylabel('t-SNE 2', fontname=\"Arial\", fontsize=\"20\", fontweight = \"bold\")\n",
    "        plt.title ('Perplexity: {}, random seed: {}'.format(per, rand))   \n",
    "        plt.legend(fontsize=\"10\", frameon=False)\n",
    "        plt.savefig('tsne_materialgroup.png', dpi=300)\n",
    "        plt.show()"
   ]
  },
  {
   "cell_type": "code",
   "execution_count": 6,
   "metadata": {},
   "outputs": [
    {
     "name": "stdout",
     "output_type": "stream",
     "text": [
      "[8.90384951e-01 1.09003852e-01 6.11196649e-04]\n"
     ]
    }
   ],
   "source": [
    "currents_dimred = constraint_model.iloc[:, 9:12]\n",
    "currents_dimred\n",
    "pca = PCA(n_components=3)\n",
    "pca_fit = pca.fit(currents_dimred)\n",
    "transformed = pca_fit.transform(currents_dimred)\n",
    "print (pca_fit.explained_variance_ratio_)\n"
   ]
  },
  {
   "cell_type": "code",
   "execution_count": 7,
   "metadata": {},
   "outputs": [
    {
     "name": "stdout",
     "output_type": "stream",
     "text": [
      "Input features:  Index(['I_Max', 'charge_tot', 'I_Final'], dtype='object')\n"
     ]
    },
    {
     "data": {
      "image/png": "[encoded data removed]",
      "text/plain": [
       "<Figure size 504x360 with 1 Axes>"
      ]
     },
     "metadata": {
      "needs_background": "light"
     },
     "output_type": "display_data"
    }
   ],
   "source": [
    "##### using precursor material group as classes. !!!!!!!!!!!!\n",
    "# keep the best of PCA (even after using whiten to scale it, does not show good result)\n",
    "# only consider the current-time information and the Yield and GYield (5 input)\n",
    "# using precursor material group as classes.\n",
    "# best options: (perplexity, rand)\n",
    "# [(7, 29), (7, 30), (7, 39), (8, 34), (8, 40),\n",
    "# (8, 43), (8, 48), (9, 13), (9, 24), (9, 35),\n",
    "# (9, 40), (9, 43), (10, 19), (10, 21), (10, 24)\n",
    "# (10, 32)]\n",
    "features_dimred = constraint_model.iloc[:, 9:12]\n",
    "print ('Input features: ', features_dimred.columns)\n",
    "colors = ['gold', 'black', 'red', 'green']\n",
    "# 4 groups of precursors\n",
    "target_ids = list(range(4))\n",
    "group_names_gen = ['CB', 'MC', 'PA', 'TCB']\n",
    "Material = constraint_model ['Material_group']\n",
    "for per in range (10, 11):\n",
    "    for rand in range (32, 33):  \n",
    "        fig, ax = plt.subplots(figsize=(7,5))\n",
    "        ax.tick_params(direction='in', length=4, width=1.5, colors='black', grid_alpha=0, labelsize='16')\n",
    "        for i, c, label in zip(target_ids, colors, group_names_gen): \n",
    "            PCA_embedded = PCA(n_components=2, whiten=False).fit_transform(features_dimred)\n",
    "\n",
    "            plt.scatter(PCA_embedded[Material==i, 0], \n",
    "                    PCA_embedded[Material==i, 1], \n",
    "                    c=c, alpha=0.6, label=label)\n",
    "\n",
    "            pyplot.xlabel('PCA 1', fontname=\"Arial\", fontsize=\"20\", fontweight = \"bold\")\n",
    "            pyplot.ylabel('PCA 2', fontname=\"Arial\", fontsize=\"20\", fontweight = \"bold\")\n",
    "        plt.title ('Perplexity: {}, random seed: {}'.format(per, rand))   \n",
    "        plt.legend(fontsize=\"10\", frameon=False)\n",
    "        plt.savefig('PCA_materialgroup.png', dpi=300)\n",
    "        plt.show()"
   ]
  },
  {
   "cell_type": "code",
   "execution_count": 8,
   "metadata": {},
   "outputs": [],
   "source": [
    "# simple linear regression\n",
    "current_matrix = constraint_model.iloc[:, 9:12]\n",
    "current_matrix = np.array (current_matrix)\n",
    "pca = PCA(n_components=1, whiten=True)\n",
    "\n",
    "pca_fit = pca.fit(current_matrix)\n",
    "current_vector = pca.fit_transform(current_matrix)\n",
    "current_vector.shape\n",
    "\n",
    "material_matrix = constraint_model.iloc[:, 0:3]\n",
    "material_matrix = np.array (material_matrix)"
   ]
  },
  {
   "cell_type": "code",
   "execution_count": 17,
   "metadata": {},
   "outputs": [
    {
     "name": "stdout",
     "output_type": "stream",
     "text": [
      "(174, 1)\n",
      "[[ 81.18086057]\n",
      " [132.05247913]\n",
      " [ 49.26017605]\n",
      " [  9.13751401]\n",
      " [ -2.4242623 ]\n",
      " [ -0.45967069]]\n",
      "(35, 1)\n",
      "0.03718131009695713\n",
      "mse:  2266.094577620532\n"
     ]
    },
    {
     "data": {
      "text/plain": [
       "[<matplotlib.lines.Line2D at 0x7faf2a632940>]"
      ]
     },
     "execution_count": 17,
     "metadata": {},
     "output_type": "execute_result"
    },
    {
     "data": {
      "image/png": "[encoded data removed]",
      "text/plain": [
       "<Figure size 432x288 with 1 Axes>"
      ]
     },
     "metadata": {
      "needs_background": "light"
     },
     "output_type": "display_data"
    }
   ],
   "source": [
    "# I_Max as output of linear model with inputs Precursor related\n",
    "# Init_R, Res_Drop, Volt_Drop --> I_Max\n",
    "# It works for charge_total (area under I-t curve)\n",
    "# It is not working for I_Final\n",
    "I_Max = np.array (constraint_model.iloc[:, 11:12])\n",
    "\n",
    "material_matrix_cosh = np.cosh (material_matrix)\n",
    "Init_R = np.array (full_df['Init_R']).reshape (-1, 1)\n",
    "Res_Drop = np.array (full_df['Res_Drop']).reshape (-1, 1)\n",
    "Volt_Drop = np.array (full_df['Volt_Drop']).reshape (-1, 1)\n",
    "\n",
    "print (Init_R.shape)\n",
    "input_features = np.concatenate((material_matrix, Init_R, Res_Drop, Volt_Drop), axis=1)\n",
    "X_train, X_test, y_train, y_test = train_test_split(\n",
    "    input_features, I_Max, test_size = 0.2, random_state=0)\n",
    "\n",
    "# Compute beta\n",
    "Xt = np.transpose(X_train)\n",
    "XtX = np.dot(Xt,X_train)\n",
    "Xty = np.dot(Xt,y_train)\n",
    "beta = np.linalg.solve(XtX,Xty)\n",
    "print(beta)\n",
    "\n",
    "y_pred = np.dot(X_test, beta)\n",
    "print (y_pred.shape)\n",
    "r2 = r2_score(y_test.ravel(), y_pred.ravel())\n",
    "print (r2)\n",
    "\n",
    "print ('mse: ', mean_squared_error(y_test, y_pred))\n",
    "\n",
    "plt.scatter(y_test, y_pred)\n",
    "mid_line = list(np.linspace(np.min(I_Max), np.max(I_Max), 8))\n",
    "plt.plot(mid_line, mid_line, '--', color='red')"
   ]
  },
  {
   "cell_type": "code",
   "execution_count": 14,
   "metadata": {},
   "outputs": [
    {
     "name": "stdout",
     "output_type": "stream",
     "text": [
      "(174, 1)\n",
      "(174, 1)\n",
      "coef_:  [-0.54833144  0.2599332   0.15860583 -0.04793396 -0.02098046  0.00382776]\n",
      "0.559780932053316\n",
      "mse:  8046.201361343851\n"
     ]
    },
    {
     "data": {
      "text/plain": [
       "[<matplotlib.lines.Line2D at 0x7faf2a763a30>]"
      ]
     },
     "execution_count": 14,
     "metadata": {},
     "output_type": "execute_result"
    },
    {
     "data": {
      "image/png": "[encoded data removed]",
      "text/plain": [
       "<Figure size 432x288 with 1 Axes>"
      ]
     },
     "metadata": {
      "needs_background": "light"
     },
     "output_type": "display_data"
    }
   ],
   "source": [
    "# I_Max as output of linear model with inputs Precursor related\n",
    "# Init_R, Res_Drop, Volt_Drop --> I_Max\n",
    "# It works for charge_total (area under I-t curve)\n",
    "# It is not working for I_Final\n",
    "\n",
    "I_Max = np.array (constraint_model.iloc[:, 9:10])\n",
    "print (I_Max.shape)\n",
    "\n",
    "material_matrix_cosh = np.cosh (material_matrix)\n",
    "Init_R = np.array (full_df['Init_R']).reshape (-1, 1)\n",
    "Res_Drop = np.array (full_df['Res_Drop']).reshape (-1, 1)\n",
    "Volt_Drop = np.array (full_df['Volt_Drop']).reshape (-1, 1)\n",
    "\n",
    "print (Init_R.shape)\n",
    "input_features = np.concatenate((material_matrix, Init_R, Res_Drop, Volt_Drop), axis=1)\n",
    "X_train, X_test, y_train, y_test = train_test_split(\n",
    "    input_features, I_Max, test_size = 0.15, random_state=1)\n",
    "\n",
    "clf = linear_model.GammaRegressor(alpha=0., max_iter=10000)\n",
    "clf = clf.fit(X_train, y_train.ravel())\n",
    "print ('coef_: ', clf.coef_)\n",
    "y_pred = clf.predict (X_test)\n",
    "print (clf.score(X_test, y_test.ravel()))\n",
    "print ('mse: ', mean_squared_error(y_test, y_pred))\n",
    "\n",
    "plt.scatter(y_test, y_pred)\n",
    "mid_line = list(np.linspace(np.min(I_Max), np.max(I_Max), 8))\n",
    "plt.plot(mid_line, mid_line, '--', color='red')"
   ]
  },
  {
   "cell_type": "code",
   "execution_count": 11,
   "metadata": {},
   "outputs": [
    {
     "data": {
      "text/html": [
       "<div>\n",
       "<style scoped>\n",
       "    .dataframe tbody tr th:only-of-type {\n",
       "        vertical-align: middle;\n",
       "    }\n",
       "\n",
       "    .dataframe tbody tr th {\n",
       "        vertical-align: top;\n",
       "    }\n",
       "\n",
       "    .dataframe thead th {\n",
       "        text-align: right;\n",
       "    }\n",
       "</style>\n",
       "<table border=\"1\" class=\"dataframe\">\n",
       "  <thead>\n",
       "    <tr style=\"text-align: right;\">\n",
       "      <th></th>\n",
       "      <th>I_Max</th>\n",
       "    </tr>\n",
       "  </thead>\n",
       "  <tbody>\n",
       "    <tr>\n",
       "      <th>0</th>\n",
       "      <td>149.36410</td>\n",
       "    </tr>\n",
       "    <tr>\n",
       "      <th>1</th>\n",
       "      <td>88.60687</td>\n",
       "    </tr>\n",
       "    <tr>\n",
       "      <th>2</th>\n",
       "      <td>88.60687</td>\n",
       "    </tr>\n",
       "    <tr>\n",
       "      <th>3</th>\n",
       "      <td>102.74530</td>\n",
       "    </tr>\n",
       "    <tr>\n",
       "      <th>4</th>\n",
       "      <td>70.26505</td>\n",
       "    </tr>\n",
       "    <tr>\n",
       "      <th>...</th>\n",
       "      <td>...</td>\n",
       "    </tr>\n",
       "    <tr>\n",
       "      <th>169</th>\n",
       "      <td>104.27380</td>\n",
       "    </tr>\n",
       "    <tr>\n",
       "      <th>170</th>\n",
       "      <td>216.99960</td>\n",
       "    </tr>\n",
       "    <tr>\n",
       "      <th>171</th>\n",
       "      <td>142.48590</td>\n",
       "    </tr>\n",
       "    <tr>\n",
       "      <th>172</th>\n",
       "      <td>237.63410</td>\n",
       "    </tr>\n",
       "    <tr>\n",
       "      <th>173</th>\n",
       "      <td>263.23620</td>\n",
       "    </tr>\n",
       "  </tbody>\n",
       "</table>\n",
       "<p>174 rows × 1 columns</p>\n",
       "</div>"
      ],
      "text/plain": [
       "         I_Max\n",
       "0    149.36410\n",
       "1     88.60687\n",
       "2     88.60687\n",
       "3    102.74530\n",
       "4     70.26505\n",
       "..         ...\n",
       "169  104.27380\n",
       "170  216.99960\n",
       "171  142.48590\n",
       "172  237.63410\n",
       "173  263.23620\n",
       "\n",
       "[174 rows x 1 columns]"
      ]
     },
     "execution_count": 11,
     "metadata": {},
     "output_type": "execute_result"
    }
   ],
   "source": [
    "constraint_model.iloc[:, 9:10]"
   ]
  },
  {
   "cell_type": "code",
   "execution_count": 19,
   "metadata": {},
   "outputs": [
    {
     "data": {
      "text/plain": [
       "<seaborn.axisgrid.FacetGrid at 0x7fe594fe8c10>"
      ]
     },
     "execution_count": 19,
     "metadata": {},
     "output_type": "execute_result"
    },
    {
     "data": {
      "image/png": "[encoded data removed]",
      "text/plain": [
       "<Figure size 402.375x360 with 1 Axes>"
      ]
     },
     "metadata": {
      "needs_background": "light"
     },
     "output_type": "display_data"
    }
   ],
   "source": [
    "I_Final = np.array (constraint_model.iloc[:, 10:11])\n",
    "sns.displot(I_Final)"
   ]
  },
  {
   "cell_type": "code",
   "execution_count": 11,
   "metadata": {},
   "outputs": [
    {
     "name": "stdout",
     "output_type": "stream",
     "text": [
      "[[-0.54405875]\n",
      " [-0.04187594]\n",
      " [ 1.89779879]\n",
      " [ 0.43413026]]\n",
      "(35, 1)\n",
      "0.641647746610737\n"
     ]
    },
    {
     "data": {
      "text/plain": [
       "<matplotlib.collections.PathCollection at 0x7fe594d6b820>"
      ]
     },
     "execution_count": 11,
     "metadata": {},
     "output_type": "execute_result"
    },
    {
     "data": {
      "image/png": "[encoded data removed]",
      "text/plain": [
       "<Figure size 432x288 with 1 Axes>"
      ]
     },
     "metadata": {
      "needs_background": "light"
     },
     "output_type": "display_data"
    }
   ],
   "source": [
    "# add bias to the model\n",
    "first_column = np.empty(shape=(material_matrix.shape[0], 1))\n",
    "first_column[:,:] = 1\n",
    "material4_matrix = material_matrix.copy()\n",
    "material4_matrix = np.concatenate ((first_column, material4_matrix), axis=1)\n",
    "I_Max = np.array (constraint_model.iloc[:, 11:12])\n",
    "\n",
    "\n",
    "X_train, X_test, y_train, y_test = train_test_split(\n",
    "    material4_matrix, current_vector, test_size = 0.20, random_state=0)\n",
    "\n",
    "\n",
    "# Compute beta\n",
    "Xt = np.transpose(X_train)\n",
    "XtX = np.dot(Xt,X_train)\n",
    "Xty = np.dot(Xt,y_train)\n",
    "beta = np.linalg.solve(XtX,Xty)\n",
    "print(beta)\n",
    "\n",
    "y_pred = np.dot(X_test, beta)\n",
    "print (y_pred.shape)\n",
    "r2 = r2_score(y_test.ravel(), y_pred.ravel())\n",
    "print (r2)\n",
    "plt.scatter(y_pred, y_test)"
   ]
  },
  {
   "cell_type": "code",
   "execution_count": 12,
   "metadata": {},
   "outputs": [
    {
     "name": "stdout",
     "output_type": "stream",
     "text": [
      "[[-0.54405875]\n",
      " [-0.04187594]\n",
      " [ 1.89779879]\n",
      " [ 0.43413026]]\n",
      "(35, 1)\n",
      "0.641647746610737\n"
     ]
    },
    {
     "data": {
      "text/plain": [
       "<matplotlib.collections.PathCollection at 0x7fe594d54c10>"
      ]
     },
     "execution_count": 12,
     "metadata": {},
     "output_type": "execute_result"
    },
    {
     "data": {
      "image/png": "[encoded data removed]",
      "text/plain": [
       "<Figure size 432x288 with 1 Axes>"
      ]
     },
     "metadata": {
      "needs_background": "light"
     },
     "output_type": "display_data"
    }
   ],
   "source": [
    "# add bias to the model\n",
    "I_Max = np.array (constraint_model.iloc[:, 11:12])\n",
    "\n",
    "X_train, X_test, y_train, y_test = train_test_split(\n",
    "    material4_matrix, current_vector, test_size = 0.20, random_state=0)\n",
    "\n",
    "\n",
    "# Compute beta\n",
    "Xt = np.transpose(X_train)\n",
    "XtX = np.dot(Xt,X_train)\n",
    "Xty = np.dot(Xt,y_train)\n",
    "beta = np.linalg.solve(XtX,Xty)\n",
    "print(beta)\n",
    "\n",
    "y_pred = np.dot(X_test, beta)\n",
    "print (y_pred.shape)\n",
    "r2 = r2_score(y_test.ravel(), y_pred.ravel())\n",
    "print (r2)\n",
    "plt.scatter(y_pred, y_test)"
   ]
  },
  {
   "cell_type": "code",
   "execution_count": 13,
   "metadata": {},
   "outputs": [],
   "source": [
    "# add bias to the model\n",
    "first_column = np.empty(shape=(material_matrix.shape[0], 1))\n",
    "first_column[:,:] = 1\n",
    "material4_matrix = material_matrix.copy()\n",
    "material4_matrix = np.concatenate ((first_column, material4_matrix), axis=1)\n",
    "I_Max = np.array (constraint_model.iloc[:, 11:12])\n",
    "\n",
    "\n",
    "X_train, X_test, y_train, y_test = train_test_split(\n",
    "    material4_matrix, I_Max, test_size = 0.20, random_state=0)"
   ]
  },
  {
   "cell_type": "code",
   "execution_count": 14,
   "metadata": {},
   "outputs": [
    {
     "name": "stdout",
     "output_type": "stream",
     "text": [
      "0.6338562699073527\n",
      "[[1.24001648e+13 1.24001648e+13 1.24001648e+13 1.24001648e+13]]\n",
      "[-1.24001648e+13]\n",
      "{'copy_X': True, 'fit_intercept': True, 'n_jobs': None, 'normalize': 'deprecated', 'positive': False}\n"
     ]
    }
   ],
   "source": [
    "last_column = np.empty(shape=(material_matrix.shape[0], 1))\n",
    "last_column[:,:] = 0\n",
    "material4_matrix = material_matrix.copy()\n",
    "\n",
    "material4_matrix = np.concatenate ((material4_matrix, last_column), axis=1)\n",
    "#material4_matrix = [1 if np.all(s)==0 else s for s in np.apply_along_axis(material4_matrix, )]\n",
    "\n",
    "def add_lastmaterial(x):\n",
    "    if np.any(x)==0:\n",
    "        x[-1]=1\n",
    "    return x\n",
    "material4_matrix = np.apply_along_axis(add_lastmaterial, axis=1, arr=material4_matrix)\n",
    "material4_matrix\n",
    "reg = LinearRegression().fit(material4_matrix, current_vector)\n",
    "print (reg.score(material4_matrix, current_vector))\n",
    "print (reg.coef_)\n",
    "print (reg.intercept_)\n",
    "print (reg.get_params())"
   ]
  },
  {
   "cell_type": "code",
   "execution_count": 15,
   "metadata": {},
   "outputs": [
    {
     "name": "stdout",
     "output_type": "stream",
     "text": [
      "Input features:  Index(['R1_CB', 'R1_MC', 'R1_PA', 'cap', 'volt', 'mass', 'ptime', 'pre_volt',\n",
      "       'pre_peak', 'I_Max', 'charge_tot', 'I_Final'],\n",
      "      dtype='object')\n"
     ]
    },
    {
     "data": {
      "image/png": "[encoded data removed]",
      "text/plain": [
       "<Figure size 504x360 with 1 Axes>"
      ]
     },
     "metadata": {
      "needs_background": "light"
     },
     "output_type": "display_data"
    }
   ],
   "source": [
    "##### using GYield group (>52%) as classes. !!!!!!!!!!!!\n",
    "# Consider all the input parameters and current-time information \n",
    "# best options: (perplexity, rand)\n",
    "\n",
    "features_dimred = constraint_model.iloc[:, 0:12]\n",
    "print ('Input features: ', features_dimred.columns)\n",
    "colors = ['gold', 'black']\n",
    "# 4 groups of precursors\n",
    "target_ids = list(range(4))\n",
    "group_names_gen = ['FG quality ≤ {} %'.format(threshold_GYield), 'FG quality > {} %'.format(threshold_GYield)]\n",
    "GYield_cat = constraint_model ['GYield_Cat']\n",
    "for per in range (11, 12):\n",
    "    for rand in range (200, 201):  \n",
    "        fig, ax = plt.subplots(figsize=(7,5))\n",
    "        ax.tick_params(direction='in', length=4, width=1.5, colors='black', grid_alpha=0, labelsize='16')\n",
    "        for i, c, label in zip(target_ids, colors, group_names_gen): \n",
    "            tSNE_embedded = TSNE(n_components=2, init='random', metric='euclidean',learning_rate=200,\n",
    "                            perplexity=per, random_state=rand).fit_transform(features_dimred)\n",
    "\n",
    "            plt.scatter(tSNE_embedded[GYield_cat==i, 0], \n",
    "                    tSNE_embedded[GYield_cat==i, 1], \n",
    "                    c=c, alpha=0.6, label=label)\n",
    "\n",
    "            pyplot.xlabel('t-SNE 1', fontname=\"Arial\", fontsize=\"20\", fontweight = \"bold\")\n",
    "            pyplot.ylabel('t-SNE 2', fontname=\"Arial\", fontsize=\"20\", fontweight = \"bold\")\n",
    "        plt.title ('Perplexity: {}, random seed: {}'.format(per, rand))   \n",
    "        plt.legend(fontsize=\"10\", frameon=False)\n",
    "        plt.savefig('tsne_FGquality_group.png', dpi=300)\n",
    "        plt.show()"
   ]
  },
  {
   "cell_type": "code",
   "execution_count": 16,
   "metadata": {},
   "outputs": [],
   "source": [
    "# (material*FG quality) groups\n",
    "constraint_model ['Material_GY_group'] = [\n",
    "    0 if sample=='CB' and gyield==0 else \n",
    "         sample for (sample, gyield) in zip(constraint_model ['Material'], constraint_model['GYield_Cat'])]\n",
    "constraint_model ['Material_GY_group'] = [1 if sample=='CB' else \n",
    "                                       sample for sample in constraint_model ['Material_GY_group']]\n",
    "\n",
    "constraint_model ['Material_GY_group'] = [\n",
    "    2 if sample=='MC' and gyield==0 else \n",
    "         sample for (sample, gyield) in zip(constraint_model ['Material_GY_group'], constraint_model['GYield_Cat'])]\n",
    "constraint_model ['Material_GY_group'] = [3 if sample=='MC' else \n",
    "                                       sample for sample in constraint_model ['Material_GY_group']]\n",
    "\n",
    "constraint_model ['Material_GY_group'] = [\n",
    "    4 if sample=='PA' and gyield==0 else \n",
    "         sample for (sample, gyield) in zip(constraint_model ['Material_GY_group'], constraint_model['GYield_Cat'])]\n",
    "constraint_model ['Material_GY_group'] = [5 if sample=='PA' else \n",
    "                                       sample for sample in constraint_model ['Material_GY_group']]\n",
    "\n",
    "constraint_model ['Material_GY_group'] = [\n",
    "    6 if sample=='TCB' and gyield==0 else \n",
    "         sample for (sample, gyield) in zip(constraint_model ['Material_GY_group'], constraint_model['GYield_Cat'])]\n",
    "constraint_model ['Material_GY_group'] = [7 if sample=='TCB' else \n",
    "                                       sample for sample in constraint_model ['Material_GY_group']]"
   ]
  },
  {
   "cell_type": "code",
   "execution_count": 17,
   "metadata": {},
   "outputs": [
    {
     "name": "stdout",
     "output_type": "stream",
     "text": [
      "Input features:  Index(['I_Max', 'charge_tot', 'I_Final', 'GYield', 'Yield'], dtype='object')\n"
     ]
    },
    {
     "data": {
      "image/png": "[encoded data removed]",
      "text/plain": [
       "<Figure size 504x360 with 1 Axes>"
      ]
     },
     "metadata": {
      "needs_background": "light"
     },
     "output_type": "display_data"
    }
   ],
   "source": [
    "##### using (material * FG quality) as classes. !!!!!!!!!!!!\n",
    "# keep the best of t-SNE\n",
    "# only consider the current-time information and the Yield and GYield (5 input)\n",
    "# using precursor material group as classes.\n",
    "\n",
    "# best options: (perplexity, rand)\n",
    "# [(7, 29), (7, 30), (7, 39), (8, 34), (8, 40),\n",
    "# (8, 43), (8, 48), (9, 13), (9, 24), (9, 35),\n",
    "# (9, 40), (9, 43), (10, 19), (10, 21), (10, 24)\n",
    "# (10, 32)]\n",
    "features_dimred = constraint_model.iloc[:, 9:14]\n",
    "print ('Input features: ', features_dimred.columns)\n",
    "colors = ['orange', 'yellow',\n",
    "          'grey', 'black',\n",
    "          'salmon', 'darkred',\n",
    "          'lightgreen', 'darkgreen']\n",
    "# 4 groups of precursors\n",
    "target_ids = list(range(8))\n",
    "group_names_gen = ['CB & low FG', 'CB & high FG',\n",
    "                   'MC & low FG', 'MC & high FG',\n",
    "                   'PA & low FG', 'PA & high FG',\n",
    "                   'TCB & low FG','TCB & high FG']\n",
    "MaterialTFG_groups = constraint_model ['Material_GY_group']\n",
    "for per in range (10, 11):\n",
    "    for rand in range (32, 33):  \n",
    "        fig, ax = plt.subplots(figsize=(7,5))\n",
    "        ax.tick_params(direction='in', length=4, width=1.5, colors='black', grid_alpha=0, labelsize='16')\n",
    "        for i, c, label in zip(target_ids, colors, group_names_gen): \n",
    "            tSNE_embedded = TSNE(n_components=2, init='random', metric='euclidean',learning_rate=200,\n",
    "                            perplexity=per, random_state=rand).fit_transform(features_dimred)\n",
    "\n",
    "            plt.scatter(tSNE_embedded[MaterialTFG_groups==i, 0], \n",
    "                    tSNE_embedded[MaterialTFG_groups==i, 1], \n",
    "                    c=c, alpha=0.7, label=label)\n",
    "\n",
    "            pyplot.xlabel('t-SNE 1', fontname=\"Arial\", fontsize=\"20\", fontweight = \"bold\")\n",
    "            pyplot.ylabel('t-SNE 2', fontname=\"Arial\", fontsize=\"20\", fontweight = \"bold\")\n",
    "        plt.title ('Perplexity: {}, random seed: {}'.format(per, rand))   \n",
    "        plt.legend(fontsize=\"10\", frameon=False)\n",
    "        plt.savefig('tsne_material_FG_group.png', dpi=300)\n",
    "        plt.show()"
   ]
  }
 ],
 "metadata": {
  "kernelspec": {
   "display_name": "Python 3 (ipykernel)",
   "language": "python",
   "name": "python3"
  },
  "language_info": {
   "codemirror_mode": {
    "name": "ipython",
    "version": 3
   },
   "file_extension": ".py",
   "mimetype": "text/x-python",
   "name": "python",
   "nbconvert_exporter": "python",
   "pygments_lexer": "ipython3",
   "version": "3.9.10"
  }
 },
 "nbformat": 4,
 "nbformat_minor": 4
}
